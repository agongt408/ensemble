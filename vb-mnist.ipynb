{
 "cells": [
  {
   "cell_type": "markdown",
   "metadata": {},
   "source": [
    "# MNIST with Virtual Branching"
   ]
  },
  {
   "cell_type": "code",
   "execution_count": 1,
   "metadata": {},
   "outputs": [],
   "source": [
    "import tensorflow as tf\n",
    "import numpy as np\n",
    "import os\n",
    "from scipy.special import softmax\n",
    "import matplotlib.pyplot as plt\n",
    "import time\n",
    "from sklearn.manifold import TSNE"
   ]
  },
  {
   "cell_type": "code",
   "execution_count": 2,
   "metadata": {},
   "outputs": [],
   "source": [
    "import vbranch as vb"
   ]
  },
  {
   "cell_type": "code",
   "execution_count": 3,
   "metadata": {},
   "outputs": [],
   "source": [
    "save = False\n",
    "model_id = 1\n",
    "architecture = 'cnn'"
   ]
  },
  {
   "cell_type": "markdown",
   "metadata": {},
   "source": [
    "## Load Data"
   ]
  },
  {
   "cell_type": "code",
   "execution_count": 4,
   "metadata": {},
   "outputs": [],
   "source": [
    "input_dim = 784\n",
    "num_classes = 10"
   ]
  },
  {
   "cell_type": "code",
   "execution_count": 5,
   "metadata": {},
   "outputs": [],
   "source": [
    "(X_train, y_train_one_hot), (X_test, y_test_one_hot) = vb.datasets.mnist.load_data(format=architecture)"
   ]
  },
  {
   "cell_type": "markdown",
   "metadata": {},
   "source": [
    "## Train"
   ]
  },
  {
   "cell_type": "markdown",
   "metadata": {},
   "source": [
    "### Build Model"
   ]
  },
  {
   "cell_type": "code",
   "execution_count": 6,
   "metadata": {},
   "outputs": [],
   "source": [
    "BATCH_SIZE = 32\n",
    "EPOCHS = 10\n",
    "STEPS_PER_EPOCH = 100\n",
    "NUM_BRANCHES = 3\n",
    "SHARED_FRAC = 0\n",
    "model_path = os.path.join('models', 'vb-mnist-{}-B{:d}-S{:.2f}_{:d}'.format(architecture,\n",
    "    NUM_BRANCHES, SHARED_FRAC, model_id))"
   ]
  },
  {
   "cell_type": "code",
   "execution_count": 7,
   "metadata": {},
   "outputs": [
    {
     "data": {
      "text/plain": [
       "'models/vb-mnist-cnn-B3-S0.00_1'"
      ]
     },
     "execution_count": 7,
     "metadata": {},
     "output_type": "execute_result"
    }
   ],
   "source": [
    "model_path"
   ]
  },
  {
   "cell_type": "code",
   "execution_count": 8,
   "metadata": {},
   "outputs": [],
   "source": [
    "tf.reset_default_graph()\n",
    "\n",
    "train_data = (X_train.astype('float32'), y_train_one_hot)\n",
    "test_data = (X_test.astype('float32'), y_test_one_hot)\n",
    "\n",
    "batch_size = tf.placeholder('int64', name='batch_size')\n",
    "\n",
    "train_datasets = []\n",
    "test_datasets = []\n",
    "inputs = [None] * NUM_BRANCHES\n",
    "labels_one_hot = [None] * NUM_BRANCHES\n",
    "train_init_ops = []\n",
    "test_init_ops = []\n",
    "\n",
    "for i in range(NUM_BRANCHES):\n",
    "    train_datasets.append(tf.data.Dataset.from_tensor_slices(train_data).\\\n",
    "        batch(batch_size).repeat().\\\n",
    "        shuffle(buffer_size=4*BATCH_SIZE))\n",
    "\n",
    "    test_datasets.append(tf.data.Dataset.from_tensor_slices(test_data).\\\n",
    "        batch(batch_size))\n",
    "    \n",
    "    iterator = tf.data.Iterator.from_structure(train_datasets[i].output_types, \n",
    "                                           train_datasets[i].output_shapes)\n",
    "    inputs[i], labels_one_hot[i] = iterator.get_next(name='input_'+str(i+1))    \n",
    "\n",
    "    train_init_ops.append(iterator.make_initializer(train_datasets[i]))\n",
    "    test_init_ops.append(iterator.make_initializer(test_datasets[i], \n",
    "                                                name='test_init_op_'+str(i+1)))"
   ]
  },
  {
   "cell_type": "code",
   "execution_count": 9,
   "metadata": {},
   "outputs": [],
   "source": [
    "if architecture == 'fcn':\n",
    "    model = vb.vbranch_simple_fcn(inputs,\n",
    "        ([128]*NUM_BRANCHES, int(128*SHARED_FRAC)), ([10]*NUM_BRANCHES, int(10*SHARED_FRAC)),\n",
    "        branches=NUM_BRANCHES, name='model_' + str(model_id))\n",
    "elif architecture == 'cnn':\n",
    "    model = vb.vbranch_simple_cnn(inputs, (num_classes, 0),\n",
    "        ([16]*NUM_BRANCHES, int(16*SHARED_FRAC)), ([32]*NUM_BRANCHES, int(32*SHARED_FRAC)),\n",
    "        branches=NUM_BRANCHES, name='model_' + str(model_id))"
   ]
  },
  {
   "cell_type": "code",
   "execution_count": 10,
   "metadata": {},
   "outputs": [
    {
     "name": "stdout",
     "output_type": "stream",
     "text": [
      "i   Layer name         Output shape      Num param  Inbound            \n",
      "-----------------------------------------------------------------------\n",
      "    Input              [None,28,28,1]                                  \n",
      "-----------------------------------------------------------------------\n",
      "    Input              [None,28,28,1]                                  \n",
      "-----------------------------------------------------------------------\n",
      "    Input              [None,28,28,1]                                  \n",
      "-----------------------------------------------------------------------\n",
      "0   conv2d_1_1         [None,26,26,16]   480        input              \n",
      "                       [None,26,26,16]                                 \n",
      "                       [None,26,26,16]                                 \n",
      "-----------------------------------------------------------------------\n",
      "1   bn_1_1             [None,26,26,16]   96         conv2d_1_1         \n",
      "                       [None,26,26,16]                                 \n",
      "                       [None,26,26,16]                                 \n",
      "-----------------------------------------------------------------------\n",
      "2   relu_1_1           [None,26,26,16]   0          bn_1_1             \n",
      "                       [None,26,26,16]                                 \n",
      "                       [None,26,26,16]                                 \n",
      "-----------------------------------------------------------------------\n",
      "3   conv2d_1_2         [None,24,24,16]   6960       relu_1_1           \n",
      "                       [None,24,24,16]                                 \n",
      "                       [None,24,24,16]                                 \n",
      "-----------------------------------------------------------------------\n",
      "4   bn_1_2             [None,24,24,16]   96         conv2d_1_2         \n",
      "                       [None,24,24,16]                                 \n",
      "                       [None,24,24,16]                                 \n",
      "-----------------------------------------------------------------------\n",
      "5   relu_1_2           [None,24,24,16]   0          bn_1_2             \n",
      "                       [None,24,24,16]                                 \n",
      "                       [None,24,24,16]                                 \n",
      "-----------------------------------------------------------------------\n",
      "6   avg_pool2d_1       [None,12,12,16]   0          relu_1_2           \n",
      "                       [None,12,12,16]                                 \n",
      "                       [None,12,12,16]                                 \n",
      "-----------------------------------------------------------------------\n",
      "7   conv2d_2_1         [None,10,10,32]   13920      avg_pool2d_1       \n",
      "                       [None,10,10,32]                                 \n",
      "                       [None,10,10,32]                                 \n",
      "-----------------------------------------------------------------------\n",
      "8   bn_2_1             [None,10,10,32]   192        conv2d_2_1         \n",
      "                       [None,10,10,32]                                 \n",
      "                       [None,10,10,32]                                 \n",
      "-----------------------------------------------------------------------\n",
      "9   relu_2_1           [None,10,10,32]   0          bn_2_1             \n",
      "                       [None,10,10,32]                                 \n",
      "                       [None,10,10,32]                                 \n",
      "-----------------------------------------------------------------------\n",
      "10  conv2d_2_2         [None,8,8,32]     27744      relu_2_1           \n",
      "                       [None,8,8,32]                                   \n",
      "                       [None,8,8,32]                                   \n",
      "-----------------------------------------------------------------------\n",
      "11  bn_2_2             [None,8,8,32]     192        conv2d_2_2         \n",
      "                       [None,8,8,32]                                   \n",
      "                       [None,8,8,32]                                   \n",
      "-----------------------------------------------------------------------\n",
      "12  relu_2_2           [None,8,8,32]     0          bn_2_2             \n",
      "                       [None,8,8,32]                                   \n",
      "                       [None,8,8,32]                                   \n",
      "-----------------------------------------------------------------------\n",
      "13  global_avg_pool2d  [None,32]         0          relu_2_2           \n",
      "                       [None,32]                                       \n",
      "                       [None,32]                                       \n",
      "-----------------------------------------------------------------------\n",
      "14  fc1                [None,32]         3168       global_avg_pool2d  \n",
      "                       [None,32]                                       \n",
      "                       [None,32]                                       \n",
      "-----------------------------------------------------------------------\n",
      "15  bn_fc1             [None,32]         192        fc1                \n",
      "                       [None,32]                                       \n",
      "                       [None,32]                                       \n",
      "-----------------------------------------------------------------------\n",
      "16  relu_fc1           [None,32]         0          bn_fc1             \n",
      "                       [None,32]                                       \n",
      "                       [None,32]                                       \n",
      "-----------------------------------------------------------------------\n",
      "17  output             [None,10]         990        relu_fc1           \n",
      "                       [None,10]                                       \n",
      "                       [None,10]                                       \n",
      "-----------------------------------------------------------------------\n",
      "Total parameters: 54030\n"
     ]
    }
   ],
   "source": [
    "model.summary()"
   ]
  },
  {
   "cell_type": "code",
   "execution_count": 11,
   "metadata": {},
   "outputs": [
    {
     "data": {
      "text/plain": [
       "[<tf.Variable 'model_1/conv2d_1_1_vb1_f:0' shape=(3, 3, 1, 16) dtype=float32_ref>,\n",
       " <tf.Variable 'model_1/conv2d_1_1_vb1_b:0' shape=(16,) dtype=float32_ref>,\n",
       " <tf.Variable 'model_1/conv2d_1_1_vb2_f:0' shape=(3, 3, 1, 16) dtype=float32_ref>,\n",
       " <tf.Variable 'model_1/conv2d_1_1_vb2_b:0' shape=(16,) dtype=float32_ref>,\n",
       " <tf.Variable 'model_1/conv2d_1_1_vb3_f:0' shape=(3, 3, 1, 16) dtype=float32_ref>,\n",
       " <tf.Variable 'model_1/conv2d_1_1_vb3_b:0' shape=(16,) dtype=float32_ref>,\n",
       " <tf.Variable 'model_1/bn_1_1_vb1_unique_to_unique_scale:0' shape=(16,) dtype=float32_ref>,\n",
       " <tf.Variable 'model_1/bn_1_1_vb1_unique_to_unique_beta:0' shape=(16,) dtype=float32_ref>,\n",
       " <tf.Variable 'model_1/bn_1_1_vb2_unique_to_unique_scale:0' shape=(16,) dtype=float32_ref>,\n",
       " <tf.Variable 'model_1/bn_1_1_vb2_unique_to_unique_beta:0' shape=(16,) dtype=float32_ref>,\n",
       " <tf.Variable 'model_1/bn_1_1_vb3_unique_to_unique_scale:0' shape=(16,) dtype=float32_ref>,\n",
       " <tf.Variable 'model_1/bn_1_1_vb3_unique_to_unique_beta:0' shape=(16,) dtype=float32_ref>,\n",
       " <tf.Variable 'model_1/conv2d_1_2_vb1_f:0' shape=(3, 3, 16, 16) dtype=float32_ref>,\n",
       " <tf.Variable 'model_1/conv2d_1_2_vb1_b:0' shape=(16,) dtype=float32_ref>,\n",
       " <tf.Variable 'model_1/conv2d_1_2_vb2_f:0' shape=(3, 3, 16, 16) dtype=float32_ref>,\n",
       " <tf.Variable 'model_1/conv2d_1_2_vb2_b:0' shape=(16,) dtype=float32_ref>,\n",
       " <tf.Variable 'model_1/conv2d_1_2_vb3_f:0' shape=(3, 3, 16, 16) dtype=float32_ref>,\n",
       " <tf.Variable 'model_1/conv2d_1_2_vb3_b:0' shape=(16,) dtype=float32_ref>,\n",
       " <tf.Variable 'model_1/bn_1_2_vb1_unique_to_unique_scale:0' shape=(16,) dtype=float32_ref>,\n",
       " <tf.Variable 'model_1/bn_1_2_vb1_unique_to_unique_beta:0' shape=(16,) dtype=float32_ref>,\n",
       " <tf.Variable 'model_1/bn_1_2_vb2_unique_to_unique_scale:0' shape=(16,) dtype=float32_ref>,\n",
       " <tf.Variable 'model_1/bn_1_2_vb2_unique_to_unique_beta:0' shape=(16,) dtype=float32_ref>,\n",
       " <tf.Variable 'model_1/bn_1_2_vb3_unique_to_unique_scale:0' shape=(16,) dtype=float32_ref>,\n",
       " <tf.Variable 'model_1/bn_1_2_vb3_unique_to_unique_beta:0' shape=(16,) dtype=float32_ref>,\n",
       " <tf.Variable 'model_1/conv2d_2_1_vb1_f:0' shape=(3, 3, 16, 32) dtype=float32_ref>,\n",
       " <tf.Variable 'model_1/conv2d_2_1_vb1_b:0' shape=(32,) dtype=float32_ref>,\n",
       " <tf.Variable 'model_1/conv2d_2_1_vb2_f:0' shape=(3, 3, 16, 32) dtype=float32_ref>,\n",
       " <tf.Variable 'model_1/conv2d_2_1_vb2_b:0' shape=(32,) dtype=float32_ref>,\n",
       " <tf.Variable 'model_1/conv2d_2_1_vb3_f:0' shape=(3, 3, 16, 32) dtype=float32_ref>,\n",
       " <tf.Variable 'model_1/conv2d_2_1_vb3_b:0' shape=(32,) dtype=float32_ref>,\n",
       " <tf.Variable 'model_1/bn_2_1_vb1_unique_to_unique_scale:0' shape=(32,) dtype=float32_ref>,\n",
       " <tf.Variable 'model_1/bn_2_1_vb1_unique_to_unique_beta:0' shape=(32,) dtype=float32_ref>,\n",
       " <tf.Variable 'model_1/bn_2_1_vb2_unique_to_unique_scale:0' shape=(32,) dtype=float32_ref>,\n",
       " <tf.Variable 'model_1/bn_2_1_vb2_unique_to_unique_beta:0' shape=(32,) dtype=float32_ref>,\n",
       " <tf.Variable 'model_1/bn_2_1_vb3_unique_to_unique_scale:0' shape=(32,) dtype=float32_ref>,\n",
       " <tf.Variable 'model_1/bn_2_1_vb3_unique_to_unique_beta:0' shape=(32,) dtype=float32_ref>,\n",
       " <tf.Variable 'model_1/conv2d_2_2_vb1_f:0' shape=(3, 3, 32, 32) dtype=float32_ref>,\n",
       " <tf.Variable 'model_1/conv2d_2_2_vb1_b:0' shape=(32,) dtype=float32_ref>,\n",
       " <tf.Variable 'model_1/conv2d_2_2_vb2_f:0' shape=(3, 3, 32, 32) dtype=float32_ref>,\n",
       " <tf.Variable 'model_1/conv2d_2_2_vb2_b:0' shape=(32,) dtype=float32_ref>,\n",
       " <tf.Variable 'model_1/conv2d_2_2_vb3_f:0' shape=(3, 3, 32, 32) dtype=float32_ref>,\n",
       " <tf.Variable 'model_1/conv2d_2_2_vb3_b:0' shape=(32,) dtype=float32_ref>,\n",
       " <tf.Variable 'model_1/bn_2_2_vb1_unique_to_unique_scale:0' shape=(32,) dtype=float32_ref>,\n",
       " <tf.Variable 'model_1/bn_2_2_vb1_unique_to_unique_beta:0' shape=(32,) dtype=float32_ref>,\n",
       " <tf.Variable 'model_1/bn_2_2_vb2_unique_to_unique_scale:0' shape=(32,) dtype=float32_ref>,\n",
       " <tf.Variable 'model_1/bn_2_2_vb2_unique_to_unique_beta:0' shape=(32,) dtype=float32_ref>,\n",
       " <tf.Variable 'model_1/bn_2_2_vb3_unique_to_unique_scale:0' shape=(32,) dtype=float32_ref>,\n",
       " <tf.Variable 'model_1/bn_2_2_vb3_unique_to_unique_beta:0' shape=(32,) dtype=float32_ref>,\n",
       " <tf.Variable 'model_1/fc1_vb1_w:0' shape=(32, 32) dtype=float32_ref>,\n",
       " <tf.Variable 'model_1/fc1_vb1_b:0' shape=(32,) dtype=float32_ref>,\n",
       " <tf.Variable 'model_1/fc1_vb2_w:0' shape=(32, 32) dtype=float32_ref>,\n",
       " <tf.Variable 'model_1/fc1_vb2_b:0' shape=(32,) dtype=float32_ref>,\n",
       " <tf.Variable 'model_1/fc1_vb3_w:0' shape=(32, 32) dtype=float32_ref>,\n",
       " <tf.Variable 'model_1/fc1_vb3_b:0' shape=(32,) dtype=float32_ref>,\n",
       " <tf.Variable 'model_1/bn_fc1_vb1_unique_to_unique_scale:0' shape=(32,) dtype=float32_ref>,\n",
       " <tf.Variable 'model_1/bn_fc1_vb1_unique_to_unique_beta:0' shape=(32,) dtype=float32_ref>,\n",
       " <tf.Variable 'model_1/bn_fc1_vb2_unique_to_unique_scale:0' shape=(32,) dtype=float32_ref>,\n",
       " <tf.Variable 'model_1/bn_fc1_vb2_unique_to_unique_beta:0' shape=(32,) dtype=float32_ref>,\n",
       " <tf.Variable 'model_1/bn_fc1_vb3_unique_to_unique_scale:0' shape=(32,) dtype=float32_ref>,\n",
       " <tf.Variable 'model_1/bn_fc1_vb3_unique_to_unique_beta:0' shape=(32,) dtype=float32_ref>,\n",
       " <tf.Variable 'model_1/output_vb1_w:0' shape=(32, 10) dtype=float32_ref>,\n",
       " <tf.Variable 'model_1/output_vb1_b:0' shape=(10,) dtype=float32_ref>,\n",
       " <tf.Variable 'model_1/output_vb2_w:0' shape=(32, 10) dtype=float32_ref>,\n",
       " <tf.Variable 'model_1/output_vb2_b:0' shape=(10,) dtype=float32_ref>,\n",
       " <tf.Variable 'model_1/output_vb3_w:0' shape=(32, 10) dtype=float32_ref>,\n",
       " <tf.Variable 'model_1/output_vb3_b:0' shape=(10,) dtype=float32_ref>]"
      ]
     },
     "execution_count": 11,
     "metadata": {},
     "output_type": "execute_result"
    }
   ],
   "source": [
    "tf.global_variables()"
   ]
  },
  {
   "cell_type": "markdown",
   "metadata": {},
   "source": [
    "### Declare Training Ops"
   ]
  },
  {
   "cell_type": "code",
   "execution_count": 13,
   "metadata": {},
   "outputs": [],
   "source": [
    "def get_shared_unshared_vars():\n",
    "    \"\"\"\n",
    "    Get shared variables (in order to later average gradients)\n",
    "    and unshared variables (unique to each branch)\"\"\"\n",
    "    \n",
    "    shared_vars = []\n",
    "    unshared_vars = [[] for i in range(NUM_BRANCHES)]\n",
    "    \n",
    "    for var in tf.global_variables():\n",
    "        if 'shared_to_shared' in var.name:\n",
    "            shared_vars.append(var)\n",
    "        else:\n",
    "            for i in range(NUM_BRANCHES):\n",
    "                if 'vb'+str(i+1) in var.name:\n",
    "                    unshared_vars[i].append(var)\n",
    "            \n",
    "    return shared_vars, unshared_vars"
   ]
  },
  {
   "cell_type": "code",
   "execution_count": 14,
   "metadata": {},
   "outputs": [],
   "source": [
    "shared_vars, unshared_vars = get_shared_unshared_vars()"
   ]
  },
  {
   "cell_type": "code",
   "execution_count": 15,
   "metadata": {},
   "outputs": [
    {
     "data": {
      "text/plain": [
       "[[<tf.Variable 'model_1/conv2d_1_1_vb1_f:0' shape=(3, 3, 1, 16) dtype=float32_ref>,\n",
       "  <tf.Variable 'model_1/conv2d_1_1_vb1_b:0' shape=(16,) dtype=float32_ref>,\n",
       "  <tf.Variable 'model_1/bn_1_1_vb1_unique_to_unique_scale:0' shape=(16,) dtype=float32_ref>,\n",
       "  <tf.Variable 'model_1/bn_1_1_vb1_unique_to_unique_beta:0' shape=(16,) dtype=float32_ref>,\n",
       "  <tf.Variable 'model_1/conv2d_1_2_vb1_f:0' shape=(3, 3, 16, 16) dtype=float32_ref>,\n",
       "  <tf.Variable 'model_1/conv2d_1_2_vb1_b:0' shape=(16,) dtype=float32_ref>,\n",
       "  <tf.Variable 'model_1/bn_1_2_vb1_unique_to_unique_scale:0' shape=(16,) dtype=float32_ref>,\n",
       "  <tf.Variable 'model_1/bn_1_2_vb1_unique_to_unique_beta:0' shape=(16,) dtype=float32_ref>,\n",
       "  <tf.Variable 'model_1/conv2d_2_1_vb1_f:0' shape=(3, 3, 16, 32) dtype=float32_ref>,\n",
       "  <tf.Variable 'model_1/conv2d_2_1_vb1_b:0' shape=(32,) dtype=float32_ref>,\n",
       "  <tf.Variable 'model_1/bn_2_1_vb1_unique_to_unique_scale:0' shape=(32,) dtype=float32_ref>,\n",
       "  <tf.Variable 'model_1/bn_2_1_vb1_unique_to_unique_beta:0' shape=(32,) dtype=float32_ref>,\n",
       "  <tf.Variable 'model_1/conv2d_2_2_vb1_f:0' shape=(3, 3, 32, 32) dtype=float32_ref>,\n",
       "  <tf.Variable 'model_1/conv2d_2_2_vb1_b:0' shape=(32,) dtype=float32_ref>,\n",
       "  <tf.Variable 'model_1/bn_2_2_vb1_unique_to_unique_scale:0' shape=(32,) dtype=float32_ref>,\n",
       "  <tf.Variable 'model_1/bn_2_2_vb1_unique_to_unique_beta:0' shape=(32,) dtype=float32_ref>,\n",
       "  <tf.Variable 'model_1/fc1_vb1_w:0' shape=(32, 32) dtype=float32_ref>,\n",
       "  <tf.Variable 'model_1/fc1_vb1_b:0' shape=(32,) dtype=float32_ref>,\n",
       "  <tf.Variable 'model_1/bn_fc1_vb1_unique_to_unique_scale:0' shape=(32,) dtype=float32_ref>,\n",
       "  <tf.Variable 'model_1/bn_fc1_vb1_unique_to_unique_beta:0' shape=(32,) dtype=float32_ref>,\n",
       "  <tf.Variable 'model_1/output_vb1_w:0' shape=(32, 10) dtype=float32_ref>,\n",
       "  <tf.Variable 'model_1/output_vb1_b:0' shape=(10,) dtype=float32_ref>],\n",
       " [<tf.Variable 'model_1/conv2d_1_1_vb2_f:0' shape=(3, 3, 1, 16) dtype=float32_ref>,\n",
       "  <tf.Variable 'model_1/conv2d_1_1_vb2_b:0' shape=(16,) dtype=float32_ref>,\n",
       "  <tf.Variable 'model_1/bn_1_1_vb2_unique_to_unique_scale:0' shape=(16,) dtype=float32_ref>,\n",
       "  <tf.Variable 'model_1/bn_1_1_vb2_unique_to_unique_beta:0' shape=(16,) dtype=float32_ref>,\n",
       "  <tf.Variable 'model_1/conv2d_1_2_vb2_f:0' shape=(3, 3, 16, 16) dtype=float32_ref>,\n",
       "  <tf.Variable 'model_1/conv2d_1_2_vb2_b:0' shape=(16,) dtype=float32_ref>,\n",
       "  <tf.Variable 'model_1/bn_1_2_vb2_unique_to_unique_scale:0' shape=(16,) dtype=float32_ref>,\n",
       "  <tf.Variable 'model_1/bn_1_2_vb2_unique_to_unique_beta:0' shape=(16,) dtype=float32_ref>,\n",
       "  <tf.Variable 'model_1/conv2d_2_1_vb2_f:0' shape=(3, 3, 16, 32) dtype=float32_ref>,\n",
       "  <tf.Variable 'model_1/conv2d_2_1_vb2_b:0' shape=(32,) dtype=float32_ref>,\n",
       "  <tf.Variable 'model_1/bn_2_1_vb2_unique_to_unique_scale:0' shape=(32,) dtype=float32_ref>,\n",
       "  <tf.Variable 'model_1/bn_2_1_vb2_unique_to_unique_beta:0' shape=(32,) dtype=float32_ref>,\n",
       "  <tf.Variable 'model_1/conv2d_2_2_vb2_f:0' shape=(3, 3, 32, 32) dtype=float32_ref>,\n",
       "  <tf.Variable 'model_1/conv2d_2_2_vb2_b:0' shape=(32,) dtype=float32_ref>,\n",
       "  <tf.Variable 'model_1/bn_2_2_vb2_unique_to_unique_scale:0' shape=(32,) dtype=float32_ref>,\n",
       "  <tf.Variable 'model_1/bn_2_2_vb2_unique_to_unique_beta:0' shape=(32,) dtype=float32_ref>,\n",
       "  <tf.Variable 'model_1/fc1_vb2_w:0' shape=(32, 32) dtype=float32_ref>,\n",
       "  <tf.Variable 'model_1/fc1_vb2_b:0' shape=(32,) dtype=float32_ref>,\n",
       "  <tf.Variable 'model_1/bn_fc1_vb2_unique_to_unique_scale:0' shape=(32,) dtype=float32_ref>,\n",
       "  <tf.Variable 'model_1/bn_fc1_vb2_unique_to_unique_beta:0' shape=(32,) dtype=float32_ref>,\n",
       "  <tf.Variable 'model_1/output_vb2_w:0' shape=(32, 10) dtype=float32_ref>,\n",
       "  <tf.Variable 'model_1/output_vb2_b:0' shape=(10,) dtype=float32_ref>],\n",
       " [<tf.Variable 'model_1/conv2d_1_1_vb3_f:0' shape=(3, 3, 1, 16) dtype=float32_ref>,\n",
       "  <tf.Variable 'model_1/conv2d_1_1_vb3_b:0' shape=(16,) dtype=float32_ref>,\n",
       "  <tf.Variable 'model_1/bn_1_1_vb3_unique_to_unique_scale:0' shape=(16,) dtype=float32_ref>,\n",
       "  <tf.Variable 'model_1/bn_1_1_vb3_unique_to_unique_beta:0' shape=(16,) dtype=float32_ref>,\n",
       "  <tf.Variable 'model_1/conv2d_1_2_vb3_f:0' shape=(3, 3, 16, 16) dtype=float32_ref>,\n",
       "  <tf.Variable 'model_1/conv2d_1_2_vb3_b:0' shape=(16,) dtype=float32_ref>,\n",
       "  <tf.Variable 'model_1/bn_1_2_vb3_unique_to_unique_scale:0' shape=(16,) dtype=float32_ref>,\n",
       "  <tf.Variable 'model_1/bn_1_2_vb3_unique_to_unique_beta:0' shape=(16,) dtype=float32_ref>,\n",
       "  <tf.Variable 'model_1/conv2d_2_1_vb3_f:0' shape=(3, 3, 16, 32) dtype=float32_ref>,\n",
       "  <tf.Variable 'model_1/conv2d_2_1_vb3_b:0' shape=(32,) dtype=float32_ref>,\n",
       "  <tf.Variable 'model_1/bn_2_1_vb3_unique_to_unique_scale:0' shape=(32,) dtype=float32_ref>,\n",
       "  <tf.Variable 'model_1/bn_2_1_vb3_unique_to_unique_beta:0' shape=(32,) dtype=float32_ref>,\n",
       "  <tf.Variable 'model_1/conv2d_2_2_vb3_f:0' shape=(3, 3, 32, 32) dtype=float32_ref>,\n",
       "  <tf.Variable 'model_1/conv2d_2_2_vb3_b:0' shape=(32,) dtype=float32_ref>,\n",
       "  <tf.Variable 'model_1/bn_2_2_vb3_unique_to_unique_scale:0' shape=(32,) dtype=float32_ref>,\n",
       "  <tf.Variable 'model_1/bn_2_2_vb3_unique_to_unique_beta:0' shape=(32,) dtype=float32_ref>,\n",
       "  <tf.Variable 'model_1/fc1_vb3_w:0' shape=(32, 32) dtype=float32_ref>,\n",
       "  <tf.Variable 'model_1/fc1_vb3_b:0' shape=(32,) dtype=float32_ref>,\n",
       "  <tf.Variable 'model_1/bn_fc1_vb3_unique_to_unique_scale:0' shape=(32,) dtype=float32_ref>,\n",
       "  <tf.Variable 'model_1/bn_fc1_vb3_unique_to_unique_beta:0' shape=(32,) dtype=float32_ref>,\n",
       "  <tf.Variable 'model_1/output_vb3_w:0' shape=(32, 10) dtype=float32_ref>,\n",
       "  <tf.Variable 'model_1/output_vb3_b:0' shape=(10,) dtype=float32_ref>]]"
      ]
     },
     "execution_count": 15,
     "metadata": {},
     "output_type": "execute_result"
    }
   ],
   "source": [
    "unshared_vars"
   ]
  },
  {
   "cell_type": "code",
   "execution_count": 16,
   "metadata": {},
   "outputs": [],
   "source": [
    "# Multi output loss\n",
    "optimizer = tf.train.AdamOptimizer(learning_rate=0.001)\n",
    "\n",
    "losses = []\n",
    "# Store gradients from shared variables over each branch\n",
    "shared_grads = []\n",
    "unshared_train_ops = []\n",
    "\n",
    "for i in range(NUM_BRANCHES):\n",
    "    loss = vb.losses.softmax_cross_entropy_with_logits(labels=labels_one_hot[i], \n",
    "                                                       logits=model.output[i], \n",
    "                                                       name='loss_'+str(i+1))\n",
    "    losses.append(loss)\n",
    "    \n",
    "    # Compute gradients of shared vars for each branch (but don't apply)\n",
    "    if len(shared_vars) > 0:\n",
    "        shared_grads.append(optimizer.compute_gradients(loss, var_list=shared_vars))\n",
    "        \n",
    "    # Apply gradients for unshared vars for each branch\n",
    "    if len(unshared_vars[i]) > 0:\n",
    "        unshared_train_ops.append(optimizer.minimize(loss, var_list=unshared_vars[i]))"
   ]
  },
  {
   "cell_type": "code",
   "execution_count": 17,
   "metadata": {},
   "outputs": [],
   "source": [
    "# Take average of the gradients over each branch\n",
    "mean_shared_grads = []\n",
    "\n",
    "for v, var in enumerate(shared_vars):\n",
    "    grad = tf.reduce_mean([shared_grads[i][v][0] for i in range(NUM_BRANCHES)], [0])\n",
    "    mean_shared_grads.append((grad, var))\n",
    "    \n",
    "if len(shared_vars) > 0:\n",
    "    shared_train_op = optimizer.apply_gradients(mean_shared_grads)\n",
    "else:\n",
    "    shared_train_op = []"
   ]
  },
  {
   "cell_type": "code",
   "execution_count": 18,
   "metadata": {},
   "outputs": [
    {
     "data": {
      "text/plain": [
       "[]"
      ]
     },
     "execution_count": 18,
     "metadata": {},
     "output_type": "execute_result"
    }
   ],
   "source": [
    "mean_shared_grads"
   ]
  },
  {
   "cell_type": "code",
   "execution_count": 19,
   "metadata": {},
   "outputs": [],
   "source": [
    "train_ops = [unshared_train_ops, shared_train_op]"
   ]
  },
  {
   "cell_type": "code",
   "execution_count": 20,
   "metadata": {},
   "outputs": [],
   "source": [
    "# Train accuracies\n",
    "train_acc_ops = []\n",
    "for i in range(NUM_BRANCHES):\n",
    "    pred_max = tf.one_hot(tf.argmax(tf.nn.softmax(model.output[i]), axis=-1), \n",
    "                          num_classes)\n",
    "    train_acc_op = tf.reduce_mean(tf.reduce_sum(labels_one_hot[i]*pred_max, [1]), \n",
    "                                  name='train_acc_'+str(i+1))\n",
    "    train_acc_ops.append(train_acc_op)\n",
    "\n",
    "# Test accuracy\n",
    "pred = tf.nn.softmax(tf.reduce_mean(model.output.to_list(), [0]))\n",
    "pred_max = tf.one_hot(tf.argmax(pred, axis=-1), num_classes)\n",
    "test_acc_op = tf.reduce_mean(tf.reduce_sum(labels_one_hot[0]*pred_max, [1]), \n",
    "                             name='test_acc')"
   ]
  },
  {
   "cell_type": "markdown",
   "metadata": {},
   "source": [
    "### Run Ops"
   ]
  },
  {
   "cell_type": "code",
   "execution_count": 21,
   "metadata": {},
   "outputs": [
    {
     "name": "stdout",
     "output_type": "stream",
     "text": [
      "Epoch 1/10\n",
      "100/100 [==============================] - 68s 678ms/step - loss_1: 1.2363 - loss_2: 1.3046 - loss_3: 1.3643 - acc_1: 0.6669 - acc_2: 0.6300 - acc_3: 0.6128 - val_loss: 0.6161 - val_acc: 0.9298 - ind_acc_1: 0.8957 - ind_acc_2: 0.8865 - ind_acc_3: 0.8890\n",
      "Epoch 2/10\n",
      "100/100 [==============================] - 41s 408ms/step - loss_1: 0.4608 - loss_2: 0.5048 - loss_3: 0.5309 - acc_1: 0.9044 - acc_2: 0.8922 - acc_3: 0.8869 - val_loss: 0.3167 - val_acc: 0.9546 - ind_acc_1: 0.9374 - ind_acc_2: 0.9312 - ind_acc_3: 0.9357\n",
      "Epoch 3/10\n",
      "100/100 [==============================] - 48s 477ms/step - loss_1: 0.2754 - loss_2: 0.3313 - loss_3: 0.3255 - acc_1: 0.9387 - acc_2: 0.9222 - acc_3: 0.9228 - val_loss: 0.2340 - val_acc: 0.9630 - ind_acc_1: 0.9453 - ind_acc_2: 0.9472 - ind_acc_3: 0.9442\n",
      "Epoch 4/10\n",
      "100/100 [==============================] - 39s 390ms/step - loss_1: 0.2153 - loss_2: 0.2414 - loss_3: 0.2248 - acc_1: 0.9484 - acc_2: 0.9413 - acc_3: 0.9450 - val_loss: 0.1748 - val_acc: 0.9694 - ind_acc_1: 0.9538 - ind_acc_2: 0.9532 - ind_acc_3: 0.9601\n",
      "Epoch 5/10\n",
      "100/100 [==============================] - 37s 366ms/step - loss_1: 0.1846 - loss_2: 0.1891 - loss_3: 0.1687 - acc_1: 0.9544 - acc_2: 0.9594 - acc_3: 0.9603 - val_loss: 0.1574 - val_acc: 0.9691 - ind_acc_1: 0.9536 - ind_acc_2: 0.9562 - ind_acc_3: 0.9639\n",
      "Epoch 6/10\n",
      "100/100 [==============================] - 40s 402ms/step - loss_1: 0.1301 - loss_2: 0.1622 - loss_3: 0.1440 - acc_1: 0.9672 - acc_2: 0.9606 - acc_3: 0.9637 - val_loss: 0.1364 - val_acc: 0.9745 - ind_acc_1: 0.9586 - ind_acc_2: 0.9627 - ind_acc_3: 0.9617\n",
      "Epoch 7/10\n",
      "100/100 [==============================] - 39s 393ms/step - loss_1: 0.1355 - loss_2: 0.1320 - loss_3: 0.1250 - acc_1: 0.9656 - acc_2: 0.9684 - acc_3: 0.9659 - val_loss: 0.1357 - val_acc: 0.9751 - ind_acc_1: 0.9584 - ind_acc_2: 0.9613 - ind_acc_3: 0.9653\n",
      "Epoch 8/10\n",
      "100/100 [==============================] - 40s 396ms/step - loss_1: 0.1123 - loss_2: 0.1164 - loss_3: 0.1044 - acc_1: 0.9716 - acc_2: 0.9694 - acc_3: 0.9772 - val_loss: 0.1315 - val_acc: 0.9762 - ind_acc_1: 0.9622 - ind_acc_2: 0.9673 - ind_acc_3: 0.9563\n",
      "Epoch 9/10\n",
      "100/100 [==============================] - 33s 328ms/step - loss_1: 0.1005 - loss_2: 0.0918 - loss_3: 0.1027 - acc_1: 0.9762 - acc_2: 0.9775 - acc_3: 0.9725 - val_loss: 0.1208 - val_acc: 0.9746 - ind_acc_1: 0.9647 - ind_acc_2: 0.9608 - ind_acc_3: 0.9635\n",
      "Epoch 10/10\n",
      "100/100 [==============================] - 38s 380ms/step - loss_1: 0.0762 - loss_2: 0.0884 - loss_3: 0.0825 - acc_1: 0.9822 - acc_2: 0.9806 - acc_3: 0.9834 - val_loss: 0.1104 - val_acc: 0.9792 - ind_acc_1: 0.9613 - ind_acc_2: 0.9683 - ind_acc_3: 0.9712\n"
     ]
    }
   ],
   "source": [
    "with tf.Session() as sess:\n",
    "    sess.run(tf.global_variables_initializer())\n",
    "\n",
    "    for e in range(EPOCHS):\n",
    "        print(\"Epoch {}/{}\".format(e + 1, EPOCHS))\n",
    "        progbar = tf.keras.utils.Progbar(STEPS_PER_EPOCH)\n",
    "        \n",
    "        sess.run(train_init_ops, feed_dict={batch_size: BATCH_SIZE})\n",
    "\n",
    "        for i in range(STEPS_PER_EPOCH):\n",
    "            _, train_losses, train_accs = sess.run([train_ops, losses, \n",
    "                                                 train_acc_ops])\n",
    "            \n",
    "            prog_vals = [('loss_'+str(b+1),train_losses[b]) for b in range(NUM_BRANCHES)]\n",
    "            prog_vals += [('acc_'+str(b+1),train_accs[b]) for b in range(NUM_BRANCHES)]\n",
    "            \n",
    "            if i == STEPS_PER_EPOCH - 1:\n",
    "                sess.run(test_init_ops, feed_dict={batch_size: len(X_test)})\n",
    "                val_losses, val_acc, indiv_accs = sess.run([losses, test_acc_op, \n",
    "                                                            train_acc_ops])\n",
    "                \n",
    "                prog_vals += [(\"val_loss\", np.mean(val_losses)), (\"val_acc\", val_acc)] + \\\n",
    "                    [('ind_acc_'+str(b+1), indiv_accs[b]) for b in range(NUM_BRANCHES)]\n",
    "            \n",
    "            progbar.update(i+1, values=prog_vals)\n",
    "    \n",
    "    if save:\n",
    "        saver = tf.train.Saver()\n",
    "        path = os.path.join(model_path, 'ckpt')\n",
    "        saver.save(sess, path)"
   ]
  },
  {
   "cell_type": "markdown",
   "metadata": {},
   "source": [
    "## Load Model"
   ]
  },
  {
   "cell_type": "code",
   "execution_count": null,
   "metadata": {},
   "outputs": [],
   "source": [
    "test_init_ops = ['test_init_op_'+str(i+1) for i in range(NUM_BRANCHES)]\n",
    "losses = ['loss_'+str(i+1)+':0' for i in range(NUM_BRANCHES)]\n",
    "train_acc_ops = ['train_acc_'+str(i+1)+':0' for i in range(NUM_BRANCHES)]\n",
    "\n",
    "inputs = ['input_{}:0'.format(i+1) for i in range(NUM_BRANCHES)]\n",
    "labels_one_hot = ['input_{}:1'.format(i+1) for i in range(NUM_BRANCHES)]\n",
    "outputs = ['model_{}/output_vb{}:0'.format(model_id, i+1) for i in range(NUM_BRANCHES)]"
   ]
  },
  {
   "cell_type": "code",
   "execution_count": null,
   "metadata": {},
   "outputs": [],
   "source": [
    "with tf.Session() as sess:\n",
    "    model_path = os.path.join('models', 'vb-mnist-{}-B{:d}-S{:.2f}_{:d}'.format(architecture,\n",
    "        NUM_BRANCHES, SHARED_FRAC, model_id))\n",
    "    meta_path = os.path.join(model_path, 'ckpt.meta')\n",
    "    ckpt = tf.train.get_checkpoint_state(model_path)\n",
    "\n",
    "    imported_graph = tf.train.import_meta_graph(meta_path)\n",
    "    imported_graph.restore(sess, ckpt.model_checkpoint_path)\n",
    "\n",
    "    sess.run(test_init_ops, feed_dict={'batch_size:0': len(X_test)})\n",
    "    val_losses, val_acc, indiv_accs = sess.run([losses, 'test_acc:0', train_acc_ops])\n",
    "    \n",
    "    sample_size = 250\n",
    "    sess.run(test_init_ops, feed_dict={'batch_size:0':sample_size})\n",
    "    X_test_samples, y_test_samples, features = sess.run([inputs, labels_one_hot, outputs])"
   ]
  },
  {
   "cell_type": "code",
   "execution_count": null,
   "metadata": {},
   "outputs": [],
   "source": [
    "print('Loss:', np.mean(val_losses))\n",
    "print('Acc:', val_acc)\n",
    "print('Indiv accs:', indiv_accs)"
   ]
  },
  {
   "cell_type": "markdown",
   "metadata": {},
   "source": [
    "## Feature Visualization"
   ]
  },
  {
   "cell_type": "code",
   "execution_count": null,
   "metadata": {},
   "outputs": [],
   "source": [
    "mean_features = np.mean(features, axis=0)\n",
    "print(mean_features.shape)"
   ]
  },
  {
   "cell_type": "code",
   "execution_count": null,
   "metadata": {},
   "outputs": [],
   "source": [
    "start = time.time()\n",
    "tsne = TSNE(n_components=2, verbose=1, perplexity=40, n_iter=300)\n",
    "tsne_results = tsne.fit_transform(mean_features)\n",
    "\n",
    "print('t-SNE done! Time elapsed: {} seconds'.format(time.time()-start))"
   ]
  },
  {
   "cell_type": "code",
   "execution_count": null,
   "metadata": {},
   "outputs": [],
   "source": [
    "labels = np.argmax(y_test_samples[0], axis=-1)"
   ]
  },
  {
   "cell_type": "code",
   "execution_count": null,
   "metadata": {},
   "outputs": [],
   "source": [
    "plt.scatter(tsne_results[:,0], tsne_results[:,1], c=labels, cmap=plt.cm.jet)\n",
    "plt.colorbar()\n",
    "plt.show()"
   ]
  },
  {
   "cell_type": "code",
   "execution_count": null,
   "metadata": {},
   "outputs": [],
   "source": []
  }
 ],
 "metadata": {
  "kernelspec": {
   "display_name": "Python 3",
   "language": "python",
   "name": "python3"
  },
  "language_info": {
   "codemirror_mode": {
    "name": "ipython",
    "version": 3
   },
   "file_extension": ".py",
   "mimetype": "text/x-python",
   "name": "python",
   "nbconvert_exporter": "python",
   "pygments_lexer": "ipython3",
   "version": "3.6.8"
  }
 },
 "nbformat": 4,
 "nbformat_minor": 2
}
