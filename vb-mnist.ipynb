{
 "cells": [
  {
   "cell_type": "markdown",
   "metadata": {},
   "source": [
    "# MNIST with Virtual Branching"
   ]
  },
  {
   "cell_type": "code",
   "execution_count": 1,
   "metadata": {},
   "outputs": [],
   "source": [
    "import tensorflow as tf\n",
    "import numpy as np\n",
    "import os\n",
    "from scipy.special import softmax\n",
    "import matplotlib.pyplot as plt\n",
    "import time\n",
    "from sklearn.manifold import TSNE"
   ]
  },
  {
   "cell_type": "code",
   "execution_count": 2,
   "metadata": {},
   "outputs": [],
   "source": [
    "import vbranch as vb"
   ]
  },
  {
   "cell_type": "code",
   "execution_count": 3,
   "metadata": {},
   "outputs": [],
   "source": [
    "save = False\n",
    "model_id = 1\n",
    "architecture = 'fcn'"
   ]
  },
  {
   "cell_type": "markdown",
   "metadata": {},
   "source": [
    "## Load Data"
   ]
  },
  {
   "cell_type": "code",
   "execution_count": 4,
   "metadata": {},
   "outputs": [
    {
     "name": "stdout",
     "output_type": "stream",
     "text": [
      "Creating dataset (hypercube)...\n",
      "Training set: (2000, 784)\n",
      "Testing set: (2000, 784)\n"
     ]
    }
   ],
   "source": [
    "dataset = 'toy'\n",
    "num_classes = 10\n",
    "num_features = 784\n",
    "samples_per_class = 200\n",
    "(X_train, y_train), (X_test, y_test) = vb.utils.get_data(dataset, architecture, num_classes,\n",
    "                                                         num_features, samples_per_class)"
   ]
  },
  {
   "cell_type": "code",
   "execution_count": 5,
   "metadata": {},
   "outputs": [],
   "source": [
    "x_shape = (None,) + X_train.shape[1:]\n",
    "y_shape = (None, num_classes)"
   ]
  },
  {
   "cell_type": "markdown",
   "metadata": {},
   "source": [
    "## Train"
   ]
  },
  {
   "cell_type": "markdown",
   "metadata": {},
   "source": [
    "### Build Model"
   ]
  },
  {
   "cell_type": "code",
   "execution_count": 6,
   "metadata": {},
   "outputs": [],
   "source": [
    "BATCH_SIZE = 32\n",
    "EPOCHS = 10\n",
    "STEPS_PER_EPOCH = 100\n",
    "NUM_BRANCHES = 3\n",
    "SHARED_FRAC = 0\n",
    "model_path = os.path.join('models', 'vb-{}-{}-B{:d}-S{:.2f}_{:d}'.format(dataset, architecture,\n",
    "    NUM_BRANCHES, SHARED_FRAC, model_id))"
   ]
  },
  {
   "cell_type": "code",
   "execution_count": 7,
   "metadata": {},
   "outputs": [
    {
     "data": {
      "text/plain": [
       "'models/vb-toy-fcn-B3-S0.00_1'"
      ]
     },
     "execution_count": 7,
     "metadata": {},
     "output_type": "execute_result"
    }
   ],
   "source": [
    "model_path"
   ]
  },
  {
   "cell_type": "code",
   "execution_count": 8,
   "metadata": {},
   "outputs": [],
   "source": [
    "tf.reset_default_graph()\n",
    "\n",
    "x = tf.placeholder('float32', x_shape, name='x')\n",
    "y = tf.placeholder('float32', y_shape, name='y')\n",
    "\n",
    "batch_size = tf.placeholder('int64', name='batch_size')\n",
    "\n",
    "iterators = [None] * NUM_BRANCHES\n",
    "inputs = [None] * NUM_BRANCHES\n",
    "labels_one_hot = [None] * NUM_BRANCHES\n",
    "\n",
    "for i in range(NUM_BRANCHES):\n",
    "    dataset = tf.data.Dataset.from_tensor_slices((x,y)).\\\n",
    "        repeat().batch(batch_size).shuffle(buffer_size=4*BATCH_SIZE)\n",
    "\n",
    "    iterators[i] = dataset.make_initializable_iterator()\n",
    "    inputs[i], labels_one_hot[i] = iterators[i].get_next('input')"
   ]
  },
  {
   "cell_type": "code",
   "execution_count": 9,
   "metadata": {},
   "outputs": [],
   "source": [
    "def build_model(architecture,inputs,labels, num_classes,num_branches,model_id,\n",
    "        shared_frac, test=False):\n",
    "        \n",
    "    if architecture == 'fcn':\n",
    "        model = vb.vbranch_simple_fcn(inputs,\n",
    "            ([128]*num_branches, int(128*shared_frac)),\n",
    "            ([num_classes]*num_branches, int(num_classes*shared_frac)),\n",
    "            branches=num_branches, name='model_' + str(model_id))\n",
    "    elif architecture == 'cnn':\n",
    "        model = vb.vbranch_simple_cnn(inputs, (num_classes, 0),\n",
    "            ([16]*num_branches, int(16*shared_frac)),\n",
    "            ([32]*num_branches, int(32*shared_frac)),\n",
    "            branches=num_branches, name='model_' + str(model_id))\n",
    "    else:\n",
    "        raise ValueError('invalid model')\n",
    "\n",
    "    optimizer = tf.train.AdamOptimizer(learning_rate=0.001)\n",
    "    model.compile(optimizer, 'softmax_cross_entropy_with_logits',\n",
    "                    labels_one_hot=labels, test=test)\n",
    "#     if not test:\n",
    "    model.summary()\n",
    "\n",
    "    return model"
   ]
  },
  {
   "cell_type": "code",
   "execution_count": 10,
   "metadata": {},
   "outputs": [
    {
     "name": "stdout",
     "output_type": "stream",
     "text": [
      "i  Layer name  Output shape  Num param  Inbound  \n",
      "-------------------------------------------------\n",
      "   Input       [None,784]                        \n",
      "-------------------------------------------------\n",
      "   Input       [None,784]                        \n",
      "-------------------------------------------------\n",
      "   Input       [None,784]                        \n",
      "-------------------------------------------------\n",
      "0  fc1         [None,128]    301440     input    \n",
      "               [None,128]                        \n",
      "               [None,128]                        \n",
      "-------------------------------------------------\n",
      "1  bn1         [None,128]    768        fc1      \n",
      "               [None,128]                        \n",
      "               [None,128]                        \n",
      "-------------------------------------------------\n",
      "2  relu1       [None,128]    0          bn1      \n",
      "               [None,128]                        \n",
      "               [None,128]                        \n",
      "-------------------------------------------------\n",
      "3  fc2         [None,10]     3870       relu1    \n",
      "               [None,10]                         \n",
      "               [None,10]                         \n",
      "-------------------------------------------------\n",
      "4  bn2         [None,10]     60         fc2      \n",
      "               [None,10]                         \n",
      "               [None,10]                         \n",
      "-------------------------------------------------\n",
      "5  output      [None,10]     0          bn2      \n",
      "               [None,10]                         \n",
      "               [None,10]                         \n",
      "-------------------------------------------------\n",
      "Total parameters: 306138\n"
     ]
    }
   ],
   "source": [
    "model = build_model(architecture, inputs, labels_one_hot, num_classes,\n",
    "        NUM_BRANCHES, model_id, SHARED_FRAC)"
   ]
  },
  {
   "cell_type": "code",
   "execution_count": 11,
   "metadata": {},
   "outputs": [
    {
     "name": "stdout",
     "output_type": "stream",
     "text": [
      "i  Layer name  Output shape  Num param  Inbound  \n",
      "-------------------------------------------------\n",
      "   Input       [None,784]                        \n",
      "-------------------------------------------------\n",
      "   Input       [None,784]                        \n",
      "-------------------------------------------------\n",
      "   Input       [None,784]                        \n",
      "-------------------------------------------------\n",
      "0  fc1         [None,128]    301440     input    \n",
      "               [None,128]                        \n",
      "               [None,128]                        \n",
      "-------------------------------------------------\n",
      "1  bn1         [None,128]    768        fc1      \n",
      "               [None,128]                        \n",
      "               [None,128]                        \n",
      "-------------------------------------------------\n",
      "2  relu1       [None,128]    0          bn1      \n",
      "               [None,128]                        \n",
      "               [None,128]                        \n",
      "-------------------------------------------------\n",
      "3  fc2         [None,10]     3870       relu1    \n",
      "               [None,10]                         \n",
      "               [None,10]                         \n",
      "-------------------------------------------------\n",
      "4  bn2         [None,10]     60         fc2      \n",
      "               [None,10]                         \n",
      "               [None,10]                         \n",
      "-------------------------------------------------\n",
      "5  output      [None,10]     0          bn2      \n",
      "               [None,10]                         \n",
      "               [None,10]                         \n",
      "-------------------------------------------------\n",
      "Total parameters: 306138\n"
     ]
    }
   ],
   "source": [
    "# Build copy of model for testing\n",
    "x_place = tf.placeholder('float32', x_shape, name='x_test')\n",
    "y_place = tf.placeholder('float32', y_shape, name='y_test')\n",
    "test_model = build_model(architecture, x_place, [y_place]*NUM_BRANCHES, num_classes,\n",
    "    NUM_BRANCHES, model_id, SHARED_FRAC, test=True)"
   ]
  },
  {
   "cell_type": "markdown",
   "metadata": {},
   "source": [
    "### Run Ops"
   ]
  },
  {
   "cell_type": "code",
   "execution_count": 12,
   "metadata": {},
   "outputs": [
    {
     "name": "stdout",
     "output_type": "stream",
     "text": [
      "Epoch 1/10\n",
      " - 1s - train_loss_1: 1.3399 - train_loss_2: 1.2996 - train_loss_3: 1.2450 - train_acc_1: 0.6794 - train_acc_2: 0.7000 - train_acc_3: 0.7244 - train_acc_ensemble: 0.3381 - val_loss_1: 0.9201 - val_loss_2: 0.8933 - val_loss_3: 0.8708 - val_acc_1: 0.8910 - val_acc_2: 0.9015 - val_acc_3: 0.9110 - val_acc_ensemble: 0.9460\n",
      "Epoch 2/10\n",
      " - 1s - train_loss_1: 0.5725 - train_loss_2: 0.5648 - train_loss_3: 0.5466 - train_acc_1: 0.9762 - train_acc_2: 0.9775 - train_acc_3: 0.9744 - train_acc_ensemble: 0.4009 - val_loss_1: 0.7010 - val_loss_2: 0.6732 - val_loss_3: 0.6655 - val_acc_1: 0.9150 - val_acc_2: 0.9275 - val_acc_3: 0.9305 - val_acc_ensemble: 0.9550\n",
      "Epoch 3/10\n",
      " - 0s - train_loss_1: 0.3940 - train_loss_2: 0.3871 - train_loss_3: 0.3666 - train_acc_1: 0.9912 - train_acc_2: 0.9925 - train_acc_3: 0.9959 - train_acc_ensemble: 0.4381 - val_loss_1: 0.5880 - val_loss_2: 0.5753 - val_loss_3: 0.5661 - val_acc_1: 0.9325 - val_acc_2: 0.9340 - val_acc_3: 0.9360 - val_acc_ensemble: 0.9545\n",
      "Epoch 4/10\n",
      " - 0s - train_loss_1: 0.2869 - train_loss_2: 0.2830 - train_loss_3: 0.2874 - train_acc_1: 0.9966 - train_acc_2: 0.9969 - train_acc_3: 0.9972 - train_acc_ensemble: 0.4291 - val_loss_1: 0.5311 - val_loss_2: 0.5173 - val_loss_3: 0.5139 - val_acc_1: 0.9305 - val_acc_2: 0.9360 - val_acc_3: 0.9335 - val_acc_ensemble: 0.9545\n",
      "Epoch 5/10\n",
      " - 0s - train_loss_1: 0.2297 - train_loss_2: 0.2200 - train_loss_3: 0.2234 - train_acc_1: 0.9978 - train_acc_2: 0.9978 - train_acc_3: 0.9962 - train_acc_ensemble: 0.4256 - val_loss_1: 0.4879 - val_loss_2: 0.4786 - val_loss_3: 0.4662 - val_acc_1: 0.9340 - val_acc_2: 0.9340 - val_acc_3: 0.9370 - val_acc_ensemble: 0.9550\n",
      "Epoch 6/10\n",
      " - 1s - train_loss_1: 0.1931 - train_loss_2: 0.1894 - train_loss_3: 0.1797 - train_acc_1: 0.9972 - train_acc_2: 0.9975 - train_acc_3: 0.9981 - train_acc_ensemble: 0.4200 - val_loss_1: 0.4586 - val_loss_2: 0.4479 - val_loss_3: 0.4376 - val_acc_1: 0.9350 - val_acc_2: 0.9340 - val_acc_3: 0.9380 - val_acc_ensemble: 0.9585\n",
      "Epoch 7/10\n",
      " - 1s - train_loss_1: 0.1580 - train_loss_2: 0.1554 - train_loss_3: 0.1583 - train_acc_1: 0.9981 - train_acc_2: 0.9978 - train_acc_3: 0.9981 - train_acc_ensemble: 0.4238 - val_loss_1: 0.4346 - val_loss_2: 0.4205 - val_loss_3: 0.4159 - val_acc_1: 0.9335 - val_acc_2: 0.9380 - val_acc_3: 0.9365 - val_acc_ensemble: 0.9575\n",
      "Epoch 8/10\n",
      " - 1s - train_loss_1: 0.1336 - train_loss_2: 0.1365 - train_loss_3: 0.1304 - train_acc_1: 0.9981 - train_acc_2: 0.9975 - train_acc_3: 0.9991 - train_acc_ensemble: 0.4194 - val_loss_1: 0.4195 - val_loss_2: 0.4017 - val_loss_3: 0.3987 - val_acc_1: 0.9325 - val_acc_2: 0.9385 - val_acc_3: 0.9370 - val_acc_ensemble: 0.9585\n",
      "Epoch 9/10\n",
      " - 1s - train_loss_1: 0.1176 - train_loss_2: 0.1226 - train_loss_3: 0.1184 - train_acc_1: 0.9978 - train_acc_2: 0.9984 - train_acc_3: 0.9981 - train_acc_ensemble: 0.4453 - val_loss_1: 0.4013 - val_loss_2: 0.3854 - val_loss_3: 0.3819 - val_acc_1: 0.9350 - val_acc_2: 0.9400 - val_acc_3: 0.9395 - val_acc_ensemble: 0.9585\n",
      "Epoch 10/10\n",
      " - 1s - train_loss_1: 0.1071 - train_loss_2: 0.1054 - train_loss_3: 0.1083 - train_acc_1: 0.9981 - train_acc_2: 0.9991 - train_acc_3: 0.9975 - train_acc_ensemble: 0.4281 - val_loss_1: 0.3898 - val_loss_2: 0.3687 - val_loss_3: 0.3713 - val_acc_1: 0.9340 - val_acc_2: 0.9420 - val_acc_3: 0.9375 - val_acc_ensemble: 0.9585\n"
     ]
    }
   ],
   "source": [
    "history = model.fit(iterators, X_train, y_train, EPOCHS, STEPS_PER_EPOCH,\n",
    "        BATCH_SIZE, validation=(X_test, y_test), test_model=test_model,\n",
    "        save_model_path=model_path)"
   ]
  },
  {
   "cell_type": "markdown",
   "metadata": {},
   "source": [
    "## Load Model"
   ]
  },
  {
   "cell_type": "code",
   "execution_count": null,
   "metadata": {},
   "outputs": [],
   "source": [
    "test_init_ops = ['test_init_op_'+str(i+1) for i in range(NUM_BRANCHES)]\n",
    "losses = ['loss_'+str(i+1)+':0' for i in range(NUM_BRANCHES)]\n",
    "train_acc_ops = ['train_acc_'+str(i+1)+':0' for i in range(NUM_BRANCHES)]\n",
    "\n",
    "inputs = ['input_{}:0'.format(i+1) for i in range(NUM_BRANCHES)]\n",
    "labels_one_hot = ['input_{}:1'.format(i+1) for i in range(NUM_BRANCHES)]\n",
    "outputs = ['model_{}/output_vb{}:0'.format(model_id, i+1) for i in range(NUM_BRANCHES)]"
   ]
  },
  {
   "cell_type": "code",
   "execution_count": null,
   "metadata": {},
   "outputs": [],
   "source": [
    "with tf.Session() as sess:\n",
    "    model_path = os.path.join('models', 'vb-mnist-{}-B{:d}-S{:.2f}_{:d}'.format(architecture,\n",
    "        NUM_BRANCHES, SHARED_FRAC, model_id))\n",
    "    meta_path = os.path.join(model_path, 'ckpt.meta')\n",
    "    ckpt = tf.train.get_checkpoint_state(model_path)\n",
    "\n",
    "    imported_graph = tf.train.import_meta_graph(meta_path)\n",
    "    imported_graph.restore(sess, ckpt.model_checkpoint_path)\n",
    "\n",
    "    sess.run(test_init_ops, feed_dict={'batch_size:0': len(X_test)})\n",
    "    val_losses, val_acc, indiv_accs = sess.run([losses, 'test_acc:0', train_acc_ops])\n",
    "    \n",
    "    sample_size = 250\n",
    "    sess.run(test_init_ops, feed_dict={'batch_size:0':sample_size})\n",
    "    X_test_samples, y_test_samples, features = sess.run([inputs, labels_one_hot, outputs])"
   ]
  },
  {
   "cell_type": "code",
   "execution_count": null,
   "metadata": {},
   "outputs": [],
   "source": [
    "print('Loss:', np.mean(val_losses))\n",
    "print('Acc:', val_acc)\n",
    "print('Indiv accs:', indiv_accs)"
   ]
  },
  {
   "cell_type": "markdown",
   "metadata": {},
   "source": [
    "## Feature Visualization"
   ]
  },
  {
   "cell_type": "code",
   "execution_count": null,
   "metadata": {},
   "outputs": [],
   "source": [
    "mean_features = np.mean(features, axis=0)\n",
    "print(mean_features.shape)"
   ]
  },
  {
   "cell_type": "code",
   "execution_count": null,
   "metadata": {},
   "outputs": [],
   "source": [
    "start = time.time()\n",
    "tsne = TSNE(n_components=2, verbose=1, perplexity=40, n_iter=300)\n",
    "tsne_results = tsne.fit_transform(mean_features)\n",
    "\n",
    "print('t-SNE done! Time elapsed: {} seconds'.format(time.time()-start))"
   ]
  },
  {
   "cell_type": "code",
   "execution_count": null,
   "metadata": {},
   "outputs": [],
   "source": [
    "labels = np.argmax(y_test_samples[0], axis=-1)"
   ]
  },
  {
   "cell_type": "code",
   "execution_count": 13,
   "metadata": {},
   "outputs": [
    {
     "ename": "NameError",
     "evalue": "name 'tsne_results' is not defined",
     "output_type": "error",
     "traceback": [
      "\u001b[0;31m---------------------------------------------------------------------------\u001b[0m",
      "\u001b[0;31mNameError\u001b[0m                                 Traceback (most recent call last)",
      "\u001b[0;32m<ipython-input-13-e3e121595d2e>\u001b[0m in \u001b[0;36m<module>\u001b[0;34m\u001b[0m\n\u001b[0;32m----> 1\u001b[0;31m \u001b[0mplt\u001b[0m\u001b[0;34m.\u001b[0m\u001b[0mscatter\u001b[0m\u001b[0;34m(\u001b[0m\u001b[0mtsne_results\u001b[0m\u001b[0;34m[\u001b[0m\u001b[0;34m:\u001b[0m\u001b[0;34m,\u001b[0m\u001b[0;36m0\u001b[0m\u001b[0;34m]\u001b[0m\u001b[0;34m,\u001b[0m \u001b[0mtsne_results\u001b[0m\u001b[0;34m[\u001b[0m\u001b[0;34m:\u001b[0m\u001b[0;34m,\u001b[0m\u001b[0;36m1\u001b[0m\u001b[0;34m]\u001b[0m\u001b[0;34m,\u001b[0m \u001b[0mc\u001b[0m\u001b[0;34m=\u001b[0m\u001b[0mlabels\u001b[0m\u001b[0;34m,\u001b[0m \u001b[0mcmap\u001b[0m\u001b[0;34m=\u001b[0m\u001b[0mplt\u001b[0m\u001b[0;34m.\u001b[0m\u001b[0mcm\u001b[0m\u001b[0;34m.\u001b[0m\u001b[0mjet\u001b[0m\u001b[0;34m)\u001b[0m\u001b[0;34m\u001b[0m\u001b[0;34m\u001b[0m\u001b[0m\n\u001b[0m\u001b[1;32m      2\u001b[0m \u001b[0mplt\u001b[0m\u001b[0;34m.\u001b[0m\u001b[0mcolorbar\u001b[0m\u001b[0;34m(\u001b[0m\u001b[0;34m)\u001b[0m\u001b[0;34m\u001b[0m\u001b[0;34m\u001b[0m\u001b[0m\n\u001b[1;32m      3\u001b[0m \u001b[0mplt\u001b[0m\u001b[0;34m.\u001b[0m\u001b[0mshow\u001b[0m\u001b[0;34m(\u001b[0m\u001b[0;34m)\u001b[0m\u001b[0;34m\u001b[0m\u001b[0;34m\u001b[0m\u001b[0m\n",
      "\u001b[0;31mNameError\u001b[0m: name 'tsne_results' is not defined"
     ]
    }
   ],
   "source": [
    "plt.scatter(tsne_results[:,0], tsne_results[:,1], c=labels, cmap=plt.cm.jet)\n",
    "plt.colorbar()\n",
    "plt.show()"
   ]
  },
  {
   "cell_type": "code",
   "execution_count": null,
   "metadata": {},
   "outputs": [],
   "source": []
  }
 ],
 "metadata": {
  "kernelspec": {
   "display_name": "Python 3",
   "language": "python",
   "name": "python3"
  },
  "language_info": {
   "codemirror_mode": {
    "name": "ipython",
    "version": 3
   },
   "file_extension": ".py",
   "mimetype": "text/x-python",
   "name": "python",
   "nbconvert_exporter": "python",
   "pygments_lexer": "ipython3",
   "version": "3.6.8"
  }
 },
 "nbformat": 4,
 "nbformat_minor": 2
}
