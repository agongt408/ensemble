{
 "cells": [
  {
   "cell_type": "markdown",
   "metadata": {},
   "source": [
    "# MNIST with Virtual Branching"
   ]
  },
  {
   "cell_type": "code",
   "execution_count": 1,
   "metadata": {},
   "outputs": [],
   "source": [
    "import tensorflow as tf\n",
    "import numpy as np\n",
    "import os\n",
    "from scipy.special import softmax\n",
    "import matplotlib.pyplot as plt\n",
    "import time\n",
    "from sklearn.manifold import TSNE"
   ]
  },
  {
   "cell_type": "code",
   "execution_count": 2,
   "metadata": {},
   "outputs": [],
   "source": [
    "import vbranch as vb"
   ]
  },
  {
   "cell_type": "code",
   "execution_count": 3,
   "metadata": {},
   "outputs": [],
   "source": [
    "save = True\n",
    "model_id = 1\n",
    "architecture = 'cnn'"
   ]
  },
  {
   "cell_type": "markdown",
   "metadata": {},
   "source": [
    "## Load Data"
   ]
  },
  {
   "cell_type": "code",
   "execution_count": 4,
   "metadata": {},
   "outputs": [],
   "source": [
    "dataset = 'mnist'\n",
    "num_classes = 10\n",
    "num_features = 784\n",
    "samples_per_class = 200\n",
    "(X_train, y_train), (X_test, y_test) = vb.utils.get_data(dataset, architecture, num_classes,\n",
    "                                                         num_features, samples_per_class)"
   ]
  },
  {
   "cell_type": "code",
   "execution_count": 5,
   "metadata": {},
   "outputs": [],
   "source": [
    "x_shape = (None,) + X_train.shape[1:]\n",
    "y_shape = (None, num_classes)"
   ]
  },
  {
   "cell_type": "markdown",
   "metadata": {},
   "source": [
    "## Train"
   ]
  },
  {
   "cell_type": "markdown",
   "metadata": {},
   "source": [
    "### Build Model"
   ]
  },
  {
   "cell_type": "code",
   "execution_count": 6,
   "metadata": {},
   "outputs": [],
   "source": [
    "BATCH_SIZE = 32\n",
    "EPOCHS = 30\n",
    "STEPS_PER_EPOCH = 100\n",
    "NUM_BRANCHES = 4\n",
    "SHARED_FRAC = 1\n",
    "model_path = os.path.join('models', 'vb-{}-{}-B{:d}-S{:.2f}_{:d}'.format(dataset, architecture,\n",
    "    NUM_BRANCHES, SHARED_FRAC, model_id))"
   ]
  },
  {
   "cell_type": "code",
   "execution_count": 7,
   "metadata": {},
   "outputs": [
    {
     "data": {
      "text/plain": [
       "'models/vb-mnist-cnn-B4-S1.00_1'"
      ]
     },
     "execution_count": 7,
     "metadata": {},
     "output_type": "execute_result"
    }
   ],
   "source": [
    "model_path"
   ]
  },
  {
   "cell_type": "code",
   "execution_count": 8,
   "metadata": {},
   "outputs": [],
   "source": [
    "tf.reset_default_graph()\n",
    "\n",
    "x = tf.placeholder('float32', x_shape, name='x')\n",
    "y = tf.placeholder('float32', y_shape, name='y')\n",
    "\n",
    "batch_size = tf.placeholder('int64', name='batch_size')\n",
    "\n",
    "iterators = [None] * NUM_BRANCHES\n",
    "inputs = [None] * NUM_BRANCHES\n",
    "labels_one_hot = [None] * NUM_BRANCHES\n",
    "\n",
    "for i in range(NUM_BRANCHES):\n",
    "    dataset = tf.data.Dataset.from_tensor_slices((x,y)).\\\n",
    "        repeat().batch(batch_size).shuffle(buffer_size=4*BATCH_SIZE)\n",
    "\n",
    "    iterators[i] = dataset.make_initializable_iterator()\n",
    "    inputs[i], labels_one_hot[i] = iterators[i].get_next('input')"
   ]
  },
  {
   "cell_type": "code",
   "execution_count": 9,
   "metadata": {},
   "outputs": [],
   "source": [
    "def build_model(architecture,inputs,labels, num_classes,num_branches,model_id,\n",
    "        shared_frac, test=False):\n",
    "        \n",
    "    if architecture == 'fcn':\n",
    "        model = vb.vbranch_simple_fcn(inputs,\n",
    "            ([128]*num_branches, int(128*shared_frac)),\n",
    "            ([num_classes]*num_branches, int(num_classes*shared_frac)),\n",
    "            branches=num_branches, name='model_' + str(model_id))\n",
    "    elif architecture == 'cnn':\n",
    "        model = vb.vbranch_simple_cnn(inputs, (num_classes, 0),\n",
    "            ([16]*num_branches, int(16*shared_frac)),\n",
    "            ([32]*num_branches, int(32*shared_frac)),\n",
    "            branches=num_branches, name='model_' + str(model_id))\n",
    "    else:\n",
    "        raise ValueError('invalid model')\n",
    "\n",
    "    optimizer = tf.train.AdamOptimizer(learning_rate=0.001)\n",
    "    model.compile(optimizer, 'softmax_cross_entropy_with_logits',\n",
    "                    labels_one_hot=labels, test=test)\n",
    "#     if not test:\n",
    "    model.summary()\n",
    "\n",
    "    return model"
   ]
  },
  {
   "cell_type": "code",
   "execution_count": 10,
   "metadata": {},
   "outputs": [
    {
     "name": "stdout",
     "output_type": "stream",
     "text": [
      "i   Layer name         Output shape         Num param  Inbound            \n",
      "--------------------------------------------------------------------------\n",
      "    Input              [None,28,28,1]                                     \n",
      "--------------------------------------------------------------------------\n",
      "    Input              [None,28,28,1]                                     \n",
      "--------------------------------------------------------------------------\n",
      "    Input              [None,28,28,1]                                     \n",
      "--------------------------------------------------------------------------\n",
      "    Input              [None,28,28,1]                                     \n",
      "--------------------------------------------------------------------------\n",
      "0   conv2d_1_1         [None,26,26,16] []   160        input              \n",
      "                       [None,26,26,16] []                                 \n",
      "                       [None,26,26,16] []                                 \n",
      "                       [None,26,26,16] []                                 \n",
      "--------------------------------------------------------------------------\n",
      "1   bn_1_1             [None,26,26,16] []   32         conv2d_1_1         \n",
      "                       [None,26,26,16] []                                 \n",
      "                       [None,26,26,16] []                                 \n",
      "                       [None,26,26,16] []                                 \n",
      "--------------------------------------------------------------------------\n",
      "2   relu_1_1           [None,26,26,16] []   0          bn_1_1             \n",
      "                       [None,26,26,16] []                                 \n",
      "                       [None,26,26,16] []                                 \n",
      "                       [None,26,26,16] []                                 \n",
      "--------------------------------------------------------------------------\n",
      "3   conv2d_1_2         [None,24,24,16] []   2320       relu_1_1           \n",
      "                       [None,24,24,16] []                                 \n",
      "                       [None,24,24,16] []                                 \n",
      "                       [None,24,24,16] []                                 \n",
      "--------------------------------------------------------------------------\n",
      "4   bn_1_2             [None,24,24,16] []   32         conv2d_1_2         \n",
      "                       [None,24,24,16] []                                 \n",
      "                       [None,24,24,16] []                                 \n",
      "                       [None,24,24,16] []                                 \n",
      "--------------------------------------------------------------------------\n",
      "5   relu_1_2           [None,24,24,16] []   0          bn_1_2             \n",
      "                       [None,24,24,16] []                                 \n",
      "                       [None,24,24,16] []                                 \n",
      "                       [None,24,24,16] []                                 \n",
      "--------------------------------------------------------------------------\n",
      "6   avg_pool2d_1       [None,12,12,16] []   0          relu_1_2           \n",
      "                       [None,12,12,16] []                                 \n",
      "                       [None,12,12,16] []                                 \n",
      "                       [None,12,12,16] []                                 \n",
      "--------------------------------------------------------------------------\n",
      "7   conv2d_2_1         [None,10,10,32] []   4640       avg_pool2d_1       \n",
      "                       [None,10,10,32] []                                 \n",
      "                       [None,10,10,32] []                                 \n",
      "                       [None,10,10,32] []                                 \n",
      "--------------------------------------------------------------------------\n",
      "8   bn_2_1             [None,10,10,32] []   64         conv2d_2_1         \n",
      "                       [None,10,10,32] []                                 \n",
      "                       [None,10,10,32] []                                 \n",
      "                       [None,10,10,32] []                                 \n",
      "--------------------------------------------------------------------------\n",
      "9   relu_2_1           [None,10,10,32] []   0          bn_2_1             \n",
      "                       [None,10,10,32] []                                 \n",
      "                       [None,10,10,32] []                                 \n",
      "                       [None,10,10,32] []                                 \n",
      "--------------------------------------------------------------------------\n",
      "10  conv2d_2_2         [None,8,8,32] []     9248       relu_2_1           \n",
      "                       [None,8,8,32] []                                   \n",
      "                       [None,8,8,32] []                                   \n",
      "                       [None,8,8,32] []                                   \n",
      "--------------------------------------------------------------------------\n",
      "11  bn_2_2             [None,8,8,32] []     64         conv2d_2_2         \n",
      "                       [None,8,8,32] []                                   \n",
      "                       [None,8,8,32] []                                   \n",
      "                       [None,8,8,32] []                                   \n",
      "--------------------------------------------------------------------------\n",
      "12  relu_2_2           [None,8,8,32] []     0          bn_2_2             \n",
      "                       [None,8,8,32] []                                   \n",
      "                       [None,8,8,32] []                                   \n",
      "                       [None,8,8,32] []                                   \n",
      "--------------------------------------------------------------------------\n",
      "13  global_avg_pool2d  [None,32] []         0          relu_2_2           \n",
      "                       [None,32] []                                       \n",
      "                       [None,32] []                                       \n",
      "                       [None,32] []                                       \n",
      "--------------------------------------------------------------------------\n",
      "14  fc1                [None,32] []         1056       global_avg_pool2d  \n",
      "                       [None,32] []                                       \n",
      "                       [None,32] []                                       \n",
      "                       [None,32] []                                       \n",
      "--------------------------------------------------------------------------\n",
      "15  bn_fc1             [None,32] []         64         fc1                \n",
      "                       [None,32] []                                       \n",
      "                       [None,32] []                                       \n",
      "                       [None,32] []                                       \n",
      "--------------------------------------------------------------------------\n",
      "16  relu_fc1           [None,32] []         0          bn_fc1             \n",
      "                       [None,32] []                                       \n",
      "                       [None,32] []                                       \n",
      "                       [None,32] []                                       \n",
      "--------------------------------------------------------------------------\n",
      "17  output             [None,10]            1320       relu_fc1           \n",
      "                       [None,10]                                          \n",
      "                       [None,10]                                          \n",
      "                       [None,10]                                          \n",
      "--------------------------------------------------------------------------\n",
      "Total parameters: 19000\n"
     ]
    }
   ],
   "source": [
    "model = build_model(architecture, inputs, labels_one_hot, num_classes,\n",
    "        NUM_BRANCHES, model_id, SHARED_FRAC)"
   ]
  },
  {
   "cell_type": "code",
   "execution_count": 11,
   "metadata": {},
   "outputs": [
    {
     "name": "stdout",
     "output_type": "stream",
     "text": [
      "i   Layer name         Output shape         Num param  Inbound            \n",
      "--------------------------------------------------------------------------\n",
      "    Input              [None,28,28,1]                                     \n",
      "--------------------------------------------------------------------------\n",
      "    Input              [None,28,28,1]                                     \n",
      "--------------------------------------------------------------------------\n",
      "    Input              [None,28,28,1]                                     \n",
      "--------------------------------------------------------------------------\n",
      "    Input              [None,28,28,1]                                     \n",
      "--------------------------------------------------------------------------\n",
      "0   conv2d_1_1         [None,26,26,16] []   160        input              \n",
      "                       [None,26,26,16] []                                 \n",
      "                       [None,26,26,16] []                                 \n",
      "                       [None,26,26,16] []                                 \n",
      "--------------------------------------------------------------------------\n",
      "1   bn_1_1             [None,26,26,16] []   32         conv2d_1_1         \n",
      "                       [None,26,26,16] []                                 \n",
      "                       [None,26,26,16] []                                 \n",
      "                       [None,26,26,16] []                                 \n",
      "--------------------------------------------------------------------------\n",
      "2   relu_1_1           [None,26,26,16] []   0          bn_1_1             \n",
      "                       [None,26,26,16] []                                 \n",
      "                       [None,26,26,16] []                                 \n",
      "                       [None,26,26,16] []                                 \n",
      "--------------------------------------------------------------------------\n",
      "3   conv2d_1_2         [None,24,24,16] []   2320       relu_1_1           \n",
      "                       [None,24,24,16] []                                 \n",
      "                       [None,24,24,16] []                                 \n",
      "                       [None,24,24,16] []                                 \n",
      "--------------------------------------------------------------------------\n",
      "4   bn_1_2             [None,24,24,16] []   32         conv2d_1_2         \n",
      "                       [None,24,24,16] []                                 \n",
      "                       [None,24,24,16] []                                 \n",
      "                       [None,24,24,16] []                                 \n",
      "--------------------------------------------------------------------------\n",
      "5   relu_1_2           [None,24,24,16] []   0          bn_1_2             \n",
      "                       [None,24,24,16] []                                 \n",
      "                       [None,24,24,16] []                                 \n",
      "                       [None,24,24,16] []                                 \n",
      "--------------------------------------------------------------------------\n",
      "6   avg_pool2d_1       [None,12,12,16] []   0          relu_1_2           \n",
      "                       [None,12,12,16] []                                 \n",
      "                       [None,12,12,16] []                                 \n",
      "                       [None,12,12,16] []                                 \n",
      "--------------------------------------------------------------------------\n",
      "7   conv2d_2_1         [None,10,10,32] []   4640       avg_pool2d_1       \n",
      "                       [None,10,10,32] []                                 \n",
      "                       [None,10,10,32] []                                 \n",
      "                       [None,10,10,32] []                                 \n",
      "--------------------------------------------------------------------------\n",
      "8   bn_2_1             [None,10,10,32] []   64         conv2d_2_1         \n",
      "                       [None,10,10,32] []                                 \n",
      "                       [None,10,10,32] []                                 \n",
      "                       [None,10,10,32] []                                 \n",
      "--------------------------------------------------------------------------\n",
      "9   relu_2_1           [None,10,10,32] []   0          bn_2_1             \n",
      "                       [None,10,10,32] []                                 \n",
      "                       [None,10,10,32] []                                 \n",
      "                       [None,10,10,32] []                                 \n",
      "--------------------------------------------------------------------------\n",
      "10  conv2d_2_2         [None,8,8,32] []     9248       relu_2_1           \n",
      "                       [None,8,8,32] []                                   \n",
      "                       [None,8,8,32] []                                   \n",
      "                       [None,8,8,32] []                                   \n",
      "--------------------------------------------------------------------------\n",
      "11  bn_2_2             [None,8,8,32] []     64         conv2d_2_2         \n",
      "                       [None,8,8,32] []                                   \n",
      "                       [None,8,8,32] []                                   \n",
      "                       [None,8,8,32] []                                   \n",
      "--------------------------------------------------------------------------\n",
      "12  relu_2_2           [None,8,8,32] []     0          bn_2_2             \n",
      "                       [None,8,8,32] []                                   \n",
      "                       [None,8,8,32] []                                   \n",
      "                       [None,8,8,32] []                                   \n",
      "--------------------------------------------------------------------------\n",
      "13  global_avg_pool2d  [None,32] []         0          relu_2_2           \n",
      "                       [None,32] []                                       \n",
      "                       [None,32] []                                       \n",
      "                       [None,32] []                                       \n",
      "--------------------------------------------------------------------------\n",
      "14  fc1                [None,32] []         1056       global_avg_pool2d  \n",
      "                       [None,32] []                                       \n",
      "                       [None,32] []                                       \n",
      "                       [None,32] []                                       \n",
      "--------------------------------------------------------------------------\n",
      "15  bn_fc1             [None,32] []         64         fc1                \n",
      "                       [None,32] []                                       \n",
      "                       [None,32] []                                       \n",
      "                       [None,32] []                                       \n",
      "--------------------------------------------------------------------------\n",
      "16  relu_fc1           [None,32] []         0          bn_fc1             \n",
      "                       [None,32] []                                       \n",
      "                       [None,32] []                                       \n",
      "                       [None,32] []                                       \n",
      "--------------------------------------------------------------------------\n",
      "17  output             [None,10]            1320       relu_fc1           \n",
      "                       [None,10]                                          \n",
      "                       [None,10]                                          \n",
      "                       [None,10]                                          \n",
      "--------------------------------------------------------------------------\n",
      "Total parameters: 19000\n"
     ]
    }
   ],
   "source": [
    "# Build copy of model for testing\n",
    "x_place = tf.placeholder('float32', x_shape, name='x_test')\n",
    "y_place = tf.placeholder('float32', y_shape, name='y_test')\n",
    "test_model = build_model(architecture, x_place, [y_place]*NUM_BRANCHES, num_classes,\n",
    "    NUM_BRANCHES, model_id, SHARED_FRAC, test=True)"
   ]
  },
  {
   "cell_type": "markdown",
   "metadata": {},
   "source": [
    "### Run Ops"
   ]
  },
  {
   "cell_type": "code",
   "execution_count": 12,
   "metadata": {
    "scrolled": true
   },
   "outputs": [
    {
     "name": "stdout",
     "output_type": "stream",
     "text": [
      "Epoch 1/30\n",
      " - 4s - train_acc_4: 0.5216 - train_loss_4: 1.5953 - train_acc_1: 0.5284 - train_loss_3: 1.4531 - train_loss_1: 1.5292 - train_acc_3: 0.5666 - train_acc_ensemble: 0.2597 - train_loss_2: 1.4955 - train_acc_2: 0.5587 - val_loss_2: 0.7330 - val_loss_1: 0.7069 - val_acc_4: 0.8851 - val_loss_3: 0.6337 - val_acc_ensemble: 0.9164 - val_loss_4: 0.7274 - val_acc_2: 0.8832 - val_acc_1: 0.8951 - val_acc_3: 0.9000\n",
      "Epoch 2/30\n",
      " - 1s - train_acc_4: 0.9175 - train_loss_4: 0.4733 - train_acc_1: 0.9113 - train_loss_3: 0.4173 - train_loss_1: 0.4691 - train_acc_3: 0.9269 - train_acc_ensemble: 0.3325 - train_loss_2: 0.4623 - train_acc_2: 0.9209 - val_loss_2: 0.2439 - val_loss_1: 0.2403 - val_acc_4: 0.9537 - val_loss_3: 0.2313 - val_acc_ensemble: 0.9606 - val_loss_4: 0.2635 - val_acc_2: 0.9558 - val_acc_1: 0.9572 - val_acc_3: 0.9568\n",
      "Epoch 3/30\n",
      " - 2s - train_acc_4: 0.9619 - train_loss_4: 0.2086 - train_acc_1: 0.9591 - train_loss_3: 0.1971 - train_loss_1: 0.2095 - train_acc_3: 0.9609 - train_acc_ensemble: 0.3588 - train_loss_2: 0.2086 - train_acc_2: 0.9603 - val_loss_2: 0.1725 - val_loss_1: 0.1667 - val_acc_4: 0.9599 - val_loss_3: 0.1573 - val_acc_ensemble: 0.9629 - val_loss_4: 0.1706 - val_acc_2: 0.9584 - val_acc_1: 0.9604 - val_acc_3: 0.9617\n",
      "Epoch 4/30\n",
      " - 1s - train_acc_4: 0.9769 - train_loss_4: 0.1288 - train_acc_1: 0.9788 - train_loss_3: 0.1175 - train_loss_1: 0.1252 - train_acc_3: 0.9794 - train_acc_ensemble: 0.3797 - train_loss_2: 0.1191 - train_acc_2: 0.9794 - val_loss_2: 0.1247 - val_loss_1: 0.1177 - val_acc_4: 0.9696 - val_loss_3: 0.1138 - val_acc_ensemble: 0.9720 - val_loss_4: 0.1212 - val_acc_2: 0.9683 - val_acc_1: 0.9696 - val_acc_3: 0.9713\n",
      "Epoch 5/30\n",
      " - 1s - train_acc_4: 0.9844 - train_loss_4: 0.0848 - train_acc_1: 0.9844 - train_loss_3: 0.0805 - train_loss_1: 0.0833 - train_acc_3: 0.9834 - train_acc_ensemble: 0.3875 - train_loss_2: 0.0849 - train_acc_2: 0.9856 - val_loss_2: 0.0944 - val_loss_1: 0.0900 - val_acc_4: 0.9751 - val_loss_3: 0.0886 - val_acc_ensemble: 0.9761 - val_loss_4: 0.0948 - val_acc_2: 0.9741 - val_acc_1: 0.9758 - val_acc_3: 0.9755\n",
      "Epoch 6/30\n",
      " - 1s - train_acc_4: 0.9884 - train_loss_4: 0.0597 - train_acc_1: 0.9912 - train_loss_3: 0.0543 - train_loss_1: 0.0606 - train_acc_3: 0.9916 - train_acc_ensemble: 0.3734 - train_loss_2: 0.0572 - train_acc_2: 0.9919 - val_loss_2: 0.0936 - val_loss_1: 0.0885 - val_acc_4: 0.9728 - val_loss_3: 0.0871 - val_acc_ensemble: 0.9741 - val_loss_4: 0.0921 - val_acc_2: 0.9726 - val_acc_1: 0.9743 - val_acc_3: 0.9750\n",
      "Epoch 7/30\n",
      " - 2s - train_acc_4: 0.9950 - train_loss_4: 0.0418 - train_acc_1: 0.9953 - train_loss_3: 0.0441 - train_loss_1: 0.0418 - train_acc_3: 0.9934 - train_acc_ensemble: 0.3800 - train_loss_2: 0.0396 - train_acc_2: 0.9956 - val_loss_2: 0.0795 - val_loss_1: 0.0796 - val_acc_4: 0.9756 - val_loss_3: 0.0768 - val_acc_ensemble: 0.9763 - val_loss_4: 0.0792 - val_acc_2: 0.9756 - val_acc_1: 0.9753 - val_acc_3: 0.9760\n",
      "Epoch 8/30\n",
      " - 1s - train_acc_4: 0.9975 - train_loss_4: 0.0301 - train_acc_1: 0.9978 - train_loss_3: 0.0342 - train_loss_1: 0.0273 - train_acc_3: 0.9959 - train_acc_ensemble: 0.3794 - train_loss_2: 0.0273 - train_acc_2: 0.9978 - val_loss_2: 0.0864 - val_loss_1: 0.0824 - val_acc_4: 0.9745 - val_loss_3: 0.0835 - val_acc_ensemble: 0.9751 - val_loss_4: 0.0863 - val_acc_2: 0.9743 - val_acc_1: 0.9752 - val_acc_3: 0.9747\n",
      "Epoch 9/30\n",
      " - 1s - train_acc_4: 0.9978 - train_loss_4: 0.0210 - train_acc_1: 0.9988 - train_loss_3: 0.0183 - train_loss_1: 0.0204 - train_acc_3: 0.9988 - train_acc_ensemble: 0.3672 - train_loss_2: 0.0204 - train_acc_2: 0.9984 - val_loss_2: 0.0786 - val_loss_1: 0.0764 - val_acc_4: 0.9766 - val_loss_3: 0.0767 - val_acc_ensemble: 0.9777 - val_loss_4: 0.0795 - val_acc_2: 0.9761 - val_acc_1: 0.9769 - val_acc_3: 0.9774\n",
      "Epoch 10/30\n",
      " - 1s - train_acc_4: 0.9994 - train_loss_4: 0.0151 - train_acc_1: 0.9994 - train_loss_3: 0.0139 - train_loss_1: 0.0158 - train_acc_3: 0.9997 - train_acc_ensemble: 0.3584 - train_loss_2: 0.0151 - train_acc_2: 0.9994 - val_loss_2: 0.0773 - val_loss_1: 0.0741 - val_acc_4: 0.9768 - val_loss_3: 0.0763 - val_acc_ensemble: 0.9776 - val_loss_4: 0.0769 - val_acc_2: 0.9759 - val_acc_1: 0.9772 - val_acc_3: 0.9759\n",
      "Epoch 11/30\n",
      " - 1s - train_acc_4: 0.9988 - train_loss_4: 0.0145 - train_acc_1: 0.9984 - train_loss_3: 0.0114 - train_loss_1: 0.0138 - train_acc_3: 1.0000 - train_acc_ensemble: 0.3784 - train_loss_2: 0.0123 - train_acc_2: 0.9997 - val_loss_2: 0.0772 - val_loss_1: 0.0754 - val_acc_4: 0.9745 - val_loss_3: 0.0751 - val_acc_ensemble: 0.9759 - val_loss_4: 0.0784 - val_acc_2: 0.9754 - val_acc_1: 0.9757 - val_acc_3: 0.9756\n",
      "Epoch 12/30\n",
      " - 1s - train_acc_4: 1.0000 - train_loss_4: 0.0114 - train_acc_1: 0.9997 - train_loss_3: 0.0111 - train_loss_1: 0.0117 - train_acc_3: 0.9991 - train_acc_ensemble: 0.3962 - train_loss_2: 0.0119 - train_acc_2: 1.0000 - val_loss_2: 0.0760 - val_loss_1: 0.0728 - val_acc_4: 0.9759 - val_loss_3: 0.0736 - val_acc_ensemble: 0.9767 - val_loss_4: 0.0746 - val_acc_2: 0.9762 - val_acc_1: 0.9779 - val_acc_3: 0.9764\n",
      "Epoch 13/30\n",
      " - 1s - train_acc_4: 0.9997 - train_loss_4: 0.0081 - train_acc_1: 1.0000 - train_loss_3: 0.0071 - train_loss_1: 0.0076 - train_acc_3: 1.0000 - train_acc_ensemble: 0.3859 - train_loss_2: 0.0075 - train_acc_2: 1.0000 - val_loss_2: 0.0675 - val_loss_1: 0.0661 - val_acc_4: 0.9789 - val_loss_3: 0.0669 - val_acc_ensemble: 0.9794 - val_loss_4: 0.0677 - val_acc_2: 0.9804 - val_acc_1: 0.9789 - val_acc_3: 0.9786\n",
      "Epoch 14/30\n",
      " - 1s - train_acc_4: 0.9997 - train_loss_4: 0.0057 - train_acc_1: 1.0000 - train_loss_3: 0.0053 - train_loss_1: 0.0054 - train_acc_3: 1.0000 - train_acc_ensemble: 0.3819 - train_loss_2: 0.0062 - train_acc_2: 1.0000 - val_loss_2: 0.0696 - val_loss_1: 0.0678 - val_acc_4: 0.9786 - val_loss_3: 0.0690 - val_acc_ensemble: 0.9799 - val_loss_4: 0.0688 - val_acc_2: 0.9790 - val_acc_1: 0.9803 - val_acc_3: 0.9784\n",
      "Epoch 15/30\n",
      " - 1s - train_acc_4: 1.0000 - train_loss_4: 0.0044 - train_acc_1: 1.0000 - train_loss_3: 0.0046 - train_loss_1: 0.0042 - train_acc_3: 1.0000 - train_acc_ensemble: 0.3688 - train_loss_2: 0.0047 - train_acc_2: 1.0000 - val_loss_2: 0.0664 - val_loss_1: 0.0644 - val_acc_4: 0.9795 - val_loss_3: 0.0656 - val_acc_ensemble: 0.9798 - val_loss_4: 0.0659 - val_acc_2: 0.9793 - val_acc_1: 0.9804 - val_acc_3: 0.9795\n",
      "Epoch 16/30\n",
      " - 1s - train_acc_4: 1.0000 - train_loss_4: 0.0041 - train_acc_1: 1.0000 - train_loss_3: 0.0034 - train_loss_1: 0.0037 - train_acc_3: 1.0000 - train_acc_ensemble: 0.3862 - train_loss_2: 0.0063 - train_acc_2: 0.9991 - val_loss_2: 0.0805 - val_loss_1: 0.0793 - val_acc_4: 0.9746 - val_loss_3: 0.0790 - val_acc_ensemble: 0.9756 - val_loss_4: 0.0794 - val_acc_2: 0.9758 - val_acc_1: 0.9757 - val_acc_3: 0.9755\n",
      "Epoch 17/30\n",
      " - 2s - train_acc_4: 0.9997 - train_loss_4: 0.0061 - train_acc_1: 1.0000 - train_loss_3: 0.0052 - train_loss_1: 0.0053 - train_acc_3: 1.0000 - train_acc_ensemble: 0.3750 - train_loss_2: 0.0060 - train_acc_2: 1.0000 - val_loss_2: 0.0711 - val_loss_1: 0.0698 - val_acc_4: 0.9783 - val_loss_3: 0.0697 - val_acc_ensemble: 0.9791 - val_loss_4: 0.0708 - val_acc_2: 0.9779 - val_acc_1: 0.9801 - val_acc_3: 0.9793\n",
      "Epoch 18/30\n",
      " - 2s - train_acc_4: 1.0000 - train_loss_4: 0.0033 - train_acc_1: 1.0000 - train_loss_3: 0.0031 - train_loss_1: 0.0034 - train_acc_3: 1.0000 - train_acc_ensemble: 0.3756 - train_loss_2: 0.0033 - train_acc_2: 1.0000 - val_loss_2: 0.0707 - val_loss_1: 0.0691 - val_acc_4: 0.9785 - val_loss_3: 0.0692 - val_acc_ensemble: 0.9805 - val_loss_4: 0.0698 - val_acc_2: 0.9798 - val_acc_1: 0.9800 - val_acc_3: 0.9793\n",
      "Epoch 19/30\n",
      " - 1s - train_acc_4: 1.0000 - train_loss_4: 0.0028 - train_acc_1: 1.0000 - train_loss_3: 0.0025 - train_loss_1: 0.0025 - train_acc_3: 1.0000 - train_acc_ensemble: 0.3847 - train_loss_2: 0.0025 - train_acc_2: 1.0000 - val_loss_2: 0.0700 - val_loss_1: 0.0689 - val_acc_4: 0.9788 - val_loss_3: 0.0685 - val_acc_ensemble: 0.9797 - val_loss_4: 0.0698 - val_acc_2: 0.9790 - val_acc_1: 0.9795 - val_acc_3: 0.9783\n",
      "Epoch 20/30\n",
      " - 1s - train_acc_4: 1.0000 - train_loss_4: 0.0024 - train_acc_1: 1.0000 - train_loss_3: 0.0021 - train_loss_1: 0.0023 - train_acc_3: 1.0000 - train_acc_ensemble: 0.3797 - train_loss_2: 0.0021 - train_acc_2: 1.0000 - val_loss_2: 0.0702 - val_loss_1: 0.0687 - val_acc_4: 0.9785 - val_loss_3: 0.0688 - val_acc_ensemble: 0.9792 - val_loss_4: 0.0704 - val_acc_2: 0.9794 - val_acc_1: 0.9794 - val_acc_3: 0.9787\n"
     ]
    },
    {
     "name": "stdout",
     "output_type": "stream",
     "text": [
      "Epoch 21/30\n",
      " - 1s - train_acc_4: 1.0000 - train_loss_4: 0.0021 - train_acc_1: 1.0000 - train_loss_3: 0.0020 - train_loss_1: 0.0019 - train_acc_3: 1.0000 - train_acc_ensemble: 0.3856 - train_loss_2: 0.0020 - train_acc_2: 1.0000 - val_loss_2: 0.0701 - val_loss_1: 0.0684 - val_acc_4: 0.9793 - val_loss_3: 0.0691 - val_acc_ensemble: 0.9799 - val_loss_4: 0.0691 - val_acc_2: 0.9789 - val_acc_1: 0.9795 - val_acc_3: 0.9794\n",
      "Epoch 22/30\n",
      " - 1s - train_acc_4: 1.0000 - train_loss_4: 0.0018 - train_acc_1: 1.0000 - train_loss_3: 0.0017 - train_loss_1: 0.0017 - train_acc_3: 1.0000 - train_acc_ensemble: 0.3853 - train_loss_2: 0.0018 - train_acc_2: 1.0000 - val_loss_2: 0.0683 - val_loss_1: 0.0666 - val_acc_4: 0.9793 - val_loss_3: 0.0673 - val_acc_ensemble: 0.9802 - val_loss_4: 0.0677 - val_acc_2: 0.9800 - val_acc_1: 0.9803 - val_acc_3: 0.9793\n",
      "Epoch 23/30\n",
      " - 1s - train_acc_4: 1.0000 - train_loss_4: 0.0016 - train_acc_1: 1.0000 - train_loss_3: 0.0014 - train_loss_1: 0.0016 - train_acc_3: 1.0000 - train_acc_ensemble: 0.3600 - train_loss_2: 0.0015 - train_acc_2: 1.0000 - val_loss_2: 0.0678 - val_loss_1: 0.0664 - val_acc_4: 0.9802 - val_loss_3: 0.0667 - val_acc_ensemble: 0.9809 - val_loss_4: 0.0670 - val_acc_2: 0.9802 - val_acc_1: 0.9807 - val_acc_3: 0.9806\n",
      "Epoch 24/30\n",
      " - 1s - train_acc_4: 1.0000 - train_loss_4: 0.0015 - train_acc_1: 0.9997 - train_loss_3: 0.0013 - train_loss_1: 0.0019 - train_acc_3: 1.0000 - train_acc_ensemble: 0.3906 - train_loss_2: 0.0014 - train_acc_2: 1.0000 - val_loss_2: 0.0729 - val_loss_1: 0.0715 - val_acc_4: 0.9784 - val_loss_3: 0.0716 - val_acc_ensemble: 0.9790 - val_loss_4: 0.0715 - val_acc_2: 0.9792 - val_acc_1: 0.9787 - val_acc_3: 0.9794\n",
      "Epoch 25/30\n",
      " - 1s - train_acc_4: 1.0000 - train_loss_4: 0.0020 - train_acc_1: 1.0000 - train_loss_3: 0.0017 - train_loss_1: 0.0016 - train_acc_3: 1.0000 - train_acc_ensemble: 0.3803 - train_loss_2: 0.0017 - train_acc_2: 1.0000 - val_loss_2: 0.0684 - val_loss_1: 0.0670 - val_acc_4: 0.9790 - val_loss_3: 0.0673 - val_acc_ensemble: 0.9799 - val_loss_4: 0.0672 - val_acc_2: 0.9798 - val_acc_1: 0.9796 - val_acc_3: 0.9788\n",
      "Epoch 26/30\n",
      " - 1s - train_acc_4: 1.0000 - train_loss_4: 0.0014 - train_acc_1: 1.0000 - train_loss_3: 0.0013 - train_loss_1: 0.0014 - train_acc_3: 1.0000 - train_acc_ensemble: 0.3709 - train_loss_2: 0.0015 - train_acc_2: 1.0000 - val_loss_2: 0.0698 - val_loss_1: 0.0679 - val_acc_4: 0.9792 - val_loss_3: 0.0683 - val_acc_ensemble: 0.9805 - val_loss_4: 0.0687 - val_acc_2: 0.9792 - val_acc_1: 0.9801 - val_acc_3: 0.9800\n",
      "Epoch 27/30\n",
      " - 1s - train_acc_4: 1.0000 - train_loss_4: 0.0012 - train_acc_1: 1.0000 - train_loss_3: 0.0011 - train_loss_1: 0.0011 - train_acc_3: 1.0000 - train_acc_ensemble: 0.3741 - train_loss_2: 0.0011 - train_acc_2: 1.0000 - val_loss_2: 0.0704 - val_loss_1: 0.0689 - val_acc_4: 0.9800 - val_loss_3: 0.0688 - val_acc_ensemble: 0.9803 - val_loss_4: 0.0691 - val_acc_2: 0.9794 - val_acc_1: 0.9806 - val_acc_3: 0.9798\n",
      "Epoch 28/30\n",
      " - 1s - train_acc_4: 1.0000 - train_loss_4: 0.0011 - train_acc_1: 1.0000 - train_loss_3: 8.8218e-04 - train_loss_1: 0.0010 - train_acc_3: 1.0000 - train_acc_ensemble: 0.3941 - train_loss_2: 9.4110e-04 - train_acc_2: 1.0000 - val_loss_2: 0.0709 - val_loss_1: 0.0694 - val_acc_4: 0.9788 - val_loss_3: 0.0695 - val_acc_ensemble: 0.9795 - val_loss_4: 0.0693 - val_acc_2: 0.9790 - val_acc_1: 0.9802 - val_acc_3: 0.9792\n",
      "Epoch 29/30\n",
      " - 1s - train_acc_4: 1.0000 - train_loss_4: 9.5798e-04 - train_acc_1: 1.0000 - train_loss_3: 9.3676e-04 - train_loss_1: 9.0649e-04 - train_acc_3: 1.0000 - train_acc_ensemble: 0.3906 - train_loss_2: 8.4333e-04 - train_acc_2: 1.0000 - val_loss_2: 0.0688 - val_loss_1: 0.0674 - val_acc_4: 0.9796 - val_loss_3: 0.0676 - val_acc_ensemble: 0.9802 - val_loss_4: 0.0673 - val_acc_2: 0.9807 - val_acc_1: 0.9803 - val_acc_3: 0.9804\n",
      "Epoch 30/30\n",
      " - 1s - train_acc_4: 1.0000 - train_loss_4: 8.5851e-04 - train_acc_1: 1.0000 - train_loss_3: 8.5336e-04 - train_loss_1: 8.3498e-04 - train_acc_3: 1.0000 - train_acc_ensemble: 0.3812 - train_loss_2: 8.3578e-04 - train_acc_2: 1.0000 - val_loss_2: 0.0700 - val_loss_1: 0.0685 - val_acc_4: 0.9802 - val_loss_3: 0.0688 - val_acc_ensemble: 0.9805 - val_loss_4: 0.0690 - val_acc_2: 0.9805 - val_acc_1: 0.9803 - val_acc_3: 0.9801\n"
     ]
    }
   ],
   "source": [
    "history = model.fit(iterators, X_train, y_train, EPOCHS, STEPS_PER_EPOCH,\n",
    "        BATCH_SIZE, validation=(X_test, y_test), test_model=test_model,\n",
    "        save_model_path=model_path)"
   ]
  },
  {
   "cell_type": "markdown",
   "metadata": {},
   "source": [
    "## Load Model"
   ]
  },
  {
   "cell_type": "code",
   "execution_count": 15,
   "metadata": {},
   "outputs": [],
   "source": [
    "# test_init_ops = ['test_init_op_'+str(i+1) for i in range(NUM_BRANCHES)]\n",
    "# losses = ['loss_'+str(i+1)+':0' for i in range(NUM_BRANCHES)]\n",
    "# train_acc_ops = ['train_acc_'+str(i+1)+':0' for i in range(NUM_BRANCHES)]\n",
    "\n",
    "# inputs = ['input_{}:0'.format(i+1) for i in range(NUM_BRANCHES)]\n",
    "# labels_one_hot = ['input_{}:1'.format(i+1) for i in range(NUM_BRANCHES)]\n",
    "outputs = ['model_{}_1/output_vb{}:0'.format(model_id, i+1) for i in range(NUM_BRANCHES)]"
   ]
  },
  {
   "cell_type": "code",
   "execution_count": 16,
   "metadata": {},
   "outputs": [
    {
     "name": "stdout",
     "output_type": "stream",
     "text": [
      "INFO:tensorflow:Restoring parameters from models/vb-mnist-cnn-B4-S1.00_1/ckpt\n"
     ]
    }
   ],
   "source": [
    "with tf.Session() as sess:\n",
    "    model_path = os.path.join('models', 'vb-mnist-{}-B{:d}-S{:.2f}_{:d}'.format(architecture,\n",
    "        NUM_BRANCHES, SHARED_FRAC, model_id))\n",
    "    meta_path = os.path.join(model_path, 'ckpt.meta')\n",
    "    ckpt = tf.train.get_checkpoint_state(model_path)\n",
    "\n",
    "    imported_graph = tf.train.import_meta_graph(meta_path)\n",
    "    imported_graph.restore(sess, ckpt.model_checkpoint_path)\n",
    "\n",
    "#     sess.run(test_init_ops, feed_dict={'batch_size:0': len(X_test)})\n",
    "    features = sess.run(outputs, feed_dict={'x_test:0':X_test})\n",
    "    \n",
    "#     sample_size = 250\n",
    "#     sess.run(test_init_ops, feed_dict={'batch_size:0':sample_size})\n",
    "#     X_test_samples, y_test_samples, features = sess.run([inputs, labels_one_hot, outputs])"
   ]
  },
  {
   "cell_type": "code",
   "execution_count": 17,
   "metadata": {},
   "outputs": [],
   "source": [
    "# print('Loss:', np.mean(val_losses))\n",
    "# print('Acc:', val_acc)\n",
    "# print('Indiv accs:', indiv_accs)"
   ]
  },
  {
   "cell_type": "markdown",
   "metadata": {},
   "source": [
    "## Feature Visualization"
   ]
  },
  {
   "cell_type": "code",
   "execution_count": null,
   "metadata": {},
   "outputs": [],
   "source": [
    "mean_features = np.mean(features, axis=0)\n",
    "print(mean_features.shape)"
   ]
  },
  {
   "cell_type": "code",
   "execution_count": null,
   "metadata": {},
   "outputs": [],
   "source": [
    "start = time.time()\n",
    "tsne = TSNE(n_components=2, verbose=1, perplexity=40, n_iter=300)\n",
    "tsne_results = tsne.fit_transform(mean_features)\n",
    "\n",
    "print('t-SNE done! Time elapsed: {} seconds'.format(time.time()-start))"
   ]
  },
  {
   "cell_type": "code",
   "execution_count": null,
   "metadata": {},
   "outputs": [],
   "source": [
    "labels = np.argmax(y_test_samples[0], axis=-1)"
   ]
  },
  {
   "cell_type": "code",
   "execution_count": 13,
   "metadata": {},
   "outputs": [
    {
     "ename": "NameError",
     "evalue": "name 'tsne_results' is not defined",
     "output_type": "error",
     "traceback": [
      "\u001b[0;31m---------------------------------------------------------------------------\u001b[0m",
      "\u001b[0;31mNameError\u001b[0m                                 Traceback (most recent call last)",
      "\u001b[0;32m<ipython-input-13-e3e121595d2e>\u001b[0m in \u001b[0;36m<module>\u001b[0;34m\u001b[0m\n\u001b[0;32m----> 1\u001b[0;31m \u001b[0mplt\u001b[0m\u001b[0;34m.\u001b[0m\u001b[0mscatter\u001b[0m\u001b[0;34m(\u001b[0m\u001b[0mtsne_results\u001b[0m\u001b[0;34m[\u001b[0m\u001b[0;34m:\u001b[0m\u001b[0;34m,\u001b[0m\u001b[0;36m0\u001b[0m\u001b[0;34m]\u001b[0m\u001b[0;34m,\u001b[0m \u001b[0mtsne_results\u001b[0m\u001b[0;34m[\u001b[0m\u001b[0;34m:\u001b[0m\u001b[0;34m,\u001b[0m\u001b[0;36m1\u001b[0m\u001b[0;34m]\u001b[0m\u001b[0;34m,\u001b[0m \u001b[0mc\u001b[0m\u001b[0;34m=\u001b[0m\u001b[0mlabels\u001b[0m\u001b[0;34m,\u001b[0m \u001b[0mcmap\u001b[0m\u001b[0;34m=\u001b[0m\u001b[0mplt\u001b[0m\u001b[0;34m.\u001b[0m\u001b[0mcm\u001b[0m\u001b[0;34m.\u001b[0m\u001b[0mjet\u001b[0m\u001b[0;34m)\u001b[0m\u001b[0;34m\u001b[0m\u001b[0;34m\u001b[0m\u001b[0m\n\u001b[0m\u001b[1;32m      2\u001b[0m \u001b[0mplt\u001b[0m\u001b[0;34m.\u001b[0m\u001b[0mcolorbar\u001b[0m\u001b[0;34m(\u001b[0m\u001b[0;34m)\u001b[0m\u001b[0;34m\u001b[0m\u001b[0;34m\u001b[0m\u001b[0m\n\u001b[1;32m      3\u001b[0m \u001b[0mplt\u001b[0m\u001b[0;34m.\u001b[0m\u001b[0mshow\u001b[0m\u001b[0;34m(\u001b[0m\u001b[0;34m)\u001b[0m\u001b[0;34m\u001b[0m\u001b[0;34m\u001b[0m\u001b[0m\n",
      "\u001b[0;31mNameError\u001b[0m: name 'tsne_results' is not defined"
     ]
    }
   ],
   "source": [
    "plt.scatter(tsne_results[:,0], tsne_results[:,1], c=labels, cmap=plt.cm.jet)\n",
    "plt.colorbar()\n",
    "plt.show()"
   ]
  },
  {
   "cell_type": "markdown",
   "metadata": {},
   "source": [
    "## Feature Correlation"
   ]
  },
  {
   "cell_type": "code",
   "execution_count": 18,
   "metadata": {},
   "outputs": [],
   "source": [
    "features = np.array(features)\n",
    "corr_list = []\n",
    "\n",
    "for i in range(features.shape[1]):\n",
    "    corr = np.corrcoef(features[:, i], rowvar=False)\n",
    "    corr_list.append(corr)"
   ]
  },
  {
   "cell_type": "code",
   "execution_count": 24,
   "metadata": {},
   "outputs": [
    {
     "data": {
      "image/png": "[encoded data removed]",
      "text/plain": [
       "<Figure size 288x288 with 2 Axes>"
      ]
     },
     "metadata": {
      "needs_background": "light"
     },
     "output_type": "display_data"
    }
   ],
   "source": [
    "plt.matshow(corr_list[4], cmap=plt.cm.coolwarm)\n",
    "plt.colorbar()\n",
    "plt.show()"
   ]
  },
  {
   "cell_type": "code",
   "execution_count": 25,
   "metadata": {},
   "outputs": [
    {
     "name": "stdout",
     "output_type": "stream",
     "text": [
      "37.69674353424667\n"
     ]
    }
   ],
   "source": [
    "corr_list = np.array(corr_list)\n",
    "mean_corr = np.mean(np.sum(np.square(corr_list), axis=(1,2)) - 10)\n",
    "print(mean_corr)"
   ]
  },
  {
   "cell_type": "code",
   "execution_count": null,
   "metadata": {},
   "outputs": [],
   "source": [
    "0: 30.46930946455603\n",
    "0.75: 30.68270134409282"
   ]
  }
 ],
 "metadata": {
  "kernelspec": {
   "display_name": "Python 3",
   "language": "python",
   "name": "python3"
  },
  "language_info": {
   "codemirror_mode": {
    "name": "ipython",
    "version": 3
   },
   "file_extension": ".py",
   "mimetype": "text/x-python",
   "name": "python",
   "nbconvert_exporter": "python",
   "pygments_lexer": "ipython3",
   "version": "3.5.6"
  }
 },
 "nbformat": 4,
 "nbformat_minor": 2
}
