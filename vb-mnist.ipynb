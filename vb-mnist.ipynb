{
 "cells": [
  {
   "cell_type": "markdown",
   "metadata": {},
   "source": [
    "# MNIST FCN with Virtual Branching"
   ]
  },
  {
   "cell_type": "code",
   "execution_count": 1,
   "metadata": {},
   "outputs": [],
   "source": [
    "import tensorflow as tf\n",
    "import numpy as np\n",
    "import os\n",
    "from scipy.special import softmax\n",
    "import matplotlib.pyplot as plt"
   ]
  },
  {
   "cell_type": "code",
   "execution_count": 2,
   "metadata": {},
   "outputs": [],
   "source": [
    "import vbranch as vb"
   ]
  },
  {
   "cell_type": "code",
   "execution_count": 3,
   "metadata": {},
   "outputs": [],
   "source": [
    "save = True\n",
    "model_id = 1"
   ]
  },
  {
   "cell_type": "markdown",
   "metadata": {},
   "source": [
    "## Load Data"
   ]
  },
  {
   "cell_type": "code",
   "execution_count": 4,
   "metadata": {},
   "outputs": [],
   "source": [
    "(X_train, y_train), (X_test, y_test) = tf.keras.datasets.mnist.load_data()"
   ]
  },
  {
   "cell_type": "code",
   "execution_count": 5,
   "metadata": {},
   "outputs": [],
   "source": [
    "input_dim = 784\n",
    "num_classes = 10"
   ]
  },
  {
   "cell_type": "code",
   "execution_count": 6,
   "metadata": {},
   "outputs": [],
   "source": [
    "X_train_flat = X_train.reshape([-1, input_dim])\n",
    "X_test_flat = X_test.reshape([-1, input_dim])\n",
    "\n",
    "y_train_one_hot = tf.keras.utils.to_categorical(y_train, num_classes)\n",
    "y_test_one_hot = tf.keras.utils.to_categorical(y_test, num_classes)"
   ]
  },
  {
   "cell_type": "markdown",
   "metadata": {},
   "source": [
    "## Build Model"
   ]
  },
  {
   "cell_type": "code",
   "execution_count": 7,
   "metadata": {},
   "outputs": [],
   "source": [
    "BATCH_SIZE = 32\n",
    "EPOCHS = 20\n",
    "STEPS_PER_EPOCH = 100\n",
    "NUM_BRANCHES = 3\n",
    "model_path = './models/vb-mnist-B' + str(NUM_BRANCHES) + '_' + str(model_id)"
   ]
  },
  {
   "cell_type": "code",
   "execution_count": 8,
   "metadata": {},
   "outputs": [
    {
     "data": {
      "text/plain": [
       "'./models/vb-mnist-B3_1'"
      ]
     },
     "execution_count": 8,
     "metadata": {},
     "output_type": "execute_result"
    }
   ],
   "source": [
    "model_path"
   ]
  },
  {
   "cell_type": "code",
   "execution_count": 9,
   "metadata": {},
   "outputs": [],
   "source": [
    "tf.reset_default_graph()\n",
    "\n",
    "train_data = (X_train_flat.astype('float32'), y_train_one_hot)\n",
    "test_data = (X_test_flat.astype('float32'), y_test_one_hot)\n",
    "\n",
    "batch_size = tf.placeholder('int64', name='batch_size')\n",
    "\n",
    "train_datasets = []\n",
    "test_datasets = []\n",
    "inputs = [None] * NUM_BRANCHES\n",
    "labels_one_hot = [None] * NUM_BRANCHES\n",
    "train_init_ops = []\n",
    "test_init_ops = []\n",
    "\n",
    "for i in range(NUM_BRANCHES):\n",
    "    train_datasets.append(tf.data.Dataset.from_tensor_slices(train_data).\\\n",
    "        batch(batch_size).repeat().\\\n",
    "        shuffle(buffer_size=4*BATCH_SIZE))\n",
    "\n",
    "    test_datasets.append(tf.data.Dataset.from_tensor_slices(test_data).\\\n",
    "        batch(batch_size))\n",
    "    \n",
    "    iterator = tf.data.Iterator.from_structure(train_datasets[i].output_types, \n",
    "                                           train_datasets[i].output_shapes)\n",
    "    inputs[i], labels_one_hot[i] = iterator.get_next()    \n",
    "\n",
    "    train_init_ops.append(iterator.make_initializer(train_datasets[i]))\n",
    "    test_init_ops.append(iterator.make_initializer(test_datasets[i], \n",
    "                                                name='test_init_op_'+str(i+1)))"
   ]
  },
  {
   "cell_type": "code",
   "execution_count": 10,
   "metadata": {},
   "outputs": [],
   "source": [
    "with tf.variable_scope('model_' + str(model_id), reuse=tf.AUTO_REUSE):\n",
    "    model = vb.models.vbranch_fcn(inputs, ([128]*NUM_BRANCHES, 0), ([10]*NUM_BRANCHES, 0), \n",
    "                                  branches=NUM_BRANCHES)"
   ]
  },
  {
   "cell_type": "code",
   "execution_count": 11,
   "metadata": {},
   "outputs": [
    {
     "name": "stdout",
     "output_type": "stream",
     "text": [
      "i   Layer name          Output shapes       Num param \n",
      "------------------------------------------------------\n",
      "    Input               [None,784]                    \n",
      "------------------------------------------------------\n",
      "    Input               [None,784]                    \n",
      "------------------------------------------------------\n",
      "    Input               [None,784]                    \n",
      "------------------------------------------------------\n",
      "0   fc1                 [None,128]          301440    \n",
      "                        [None,128]                    \n",
      "                        [None,128]                    \n",
      "------------------------------------------------------\n",
      "1   bn1                 [None,128]          768       \n",
      "                        [None,128]                    \n",
      "                        [None,128]                    \n",
      "------------------------------------------------------\n",
      "2   relu1               [None,128]          0         \n",
      "                        [None,128]                    \n",
      "                        [None,128]                    \n",
      "------------------------------------------------------\n",
      "3   fc2                 [None,10]           3870      \n",
      "                        [None,10]                     \n",
      "                        [None,10]                     \n",
      "------------------------------------------------------\n",
      "4   bn2                 [None,10]           60        \n",
      "                        [None,10]                     \n",
      "                        [None,10]                     \n",
      "------------------------------------------------------\n",
      "5   output              [None,10]           0         \n",
      "                        [None,10]                     \n",
      "                        [None,10]                     \n",
      "------------------------------------------------------\n",
      "Total parameters: 306138\n"
     ]
    }
   ],
   "source": [
    "model.summary()"
   ]
  },
  {
   "cell_type": "code",
   "execution_count": 12,
   "metadata": {},
   "outputs": [
    {
     "data": {
      "text/plain": [
       "[<tf.Variable 'model_1/fc1_vb1_w:0' shape=(784, 128) dtype=float32_ref>,\n",
       " <tf.Variable 'model_1/fc1_vb1_b:0' shape=(128,) dtype=float32_ref>,\n",
       " <tf.Variable 'model_1/fc1_vb2_w:0' shape=(784, 128) dtype=float32_ref>,\n",
       " <tf.Variable 'model_1/fc1_vb2_b:0' shape=(128,) dtype=float32_ref>,\n",
       " <tf.Variable 'model_1/fc1_vb3_w:0' shape=(784, 128) dtype=float32_ref>,\n",
       " <tf.Variable 'model_1/fc1_vb3_b:0' shape=(128,) dtype=float32_ref>,\n",
       " <tf.Variable 'model_1/bn1_vb1_scale:0' shape=(128,) dtype=float32_ref>,\n",
       " <tf.Variable 'model_1/bn1_vb1_beta:0' shape=(128,) dtype=float32_ref>,\n",
       " <tf.Variable 'model_1/bn1_vb2_scale:0' shape=(128,) dtype=float32_ref>,\n",
       " <tf.Variable 'model_1/bn1_vb2_beta:0' shape=(128,) dtype=float32_ref>,\n",
       " <tf.Variable 'model_1/bn1_vb3_scale:0' shape=(128,) dtype=float32_ref>,\n",
       " <tf.Variable 'model_1/bn1_vb3_beta:0' shape=(128,) dtype=float32_ref>,\n",
       " <tf.Variable 'model_1/fc2_vb1_w:0' shape=(128, 10) dtype=float32_ref>,\n",
       " <tf.Variable 'model_1/fc2_vb1_b:0' shape=(10,) dtype=float32_ref>,\n",
       " <tf.Variable 'model_1/fc2_vb2_w:0' shape=(128, 10) dtype=float32_ref>,\n",
       " <tf.Variable 'model_1/fc2_vb2_b:0' shape=(10,) dtype=float32_ref>,\n",
       " <tf.Variable 'model_1/fc2_vb3_w:0' shape=(128, 10) dtype=float32_ref>,\n",
       " <tf.Variable 'model_1/fc2_vb3_b:0' shape=(10,) dtype=float32_ref>,\n",
       " <tf.Variable 'model_1/bn2_vb1_scale:0' shape=(10,) dtype=float32_ref>,\n",
       " <tf.Variable 'model_1/bn2_vb1_beta:0' shape=(10,) dtype=float32_ref>,\n",
       " <tf.Variable 'model_1/bn2_vb2_scale:0' shape=(10,) dtype=float32_ref>,\n",
       " <tf.Variable 'model_1/bn2_vb2_beta:0' shape=(10,) dtype=float32_ref>,\n",
       " <tf.Variable 'model_1/bn2_vb3_scale:0' shape=(10,) dtype=float32_ref>,\n",
       " <tf.Variable 'model_1/bn2_vb3_beta:0' shape=(10,) dtype=float32_ref>]"
      ]
     },
     "execution_count": 12,
     "metadata": {},
     "output_type": "execute_result"
    }
   ],
   "source": [
    "tf.global_variables()"
   ]
  },
  {
   "cell_type": "code",
   "execution_count": 13,
   "metadata": {},
   "outputs": [
    {
     "data": {
      "text/plain": [
       "[<tf.Tensor 'IteratorGetNext:0' shape=(?, 784) dtype=float32>,\n",
       " <tf.Tensor 'IteratorGetNext_1:0' shape=(?, 784) dtype=float32>,\n",
       " <tf.Tensor 'IteratorGetNext_2:0' shape=(?, 784) dtype=float32>]"
      ]
     },
     "execution_count": 13,
     "metadata": {},
     "output_type": "execute_result"
    }
   ],
   "source": [
    "model.input"
   ]
  },
  {
   "cell_type": "code",
   "execution_count": 14,
   "metadata": {},
   "outputs": [],
   "source": [
    "# Multi output loss\n",
    "losses = []\n",
    "train_ops = []\n",
    "for i in range(len(model.output)):\n",
    "    losses.append(vb.losses.softmax_cross_entropy_with_logits(labels=labels_one_hot[i], \n",
    "                                                              logits=model.output[i], \n",
    "                                                              name='loss_'+str(i+1)))\n",
    "    train_ops.append(tf.train.AdamOptimizer(learning_rate=0.001).minimize(losses[i]))"
   ]
  },
  {
   "cell_type": "code",
   "execution_count": 15,
   "metadata": {},
   "outputs": [],
   "source": [
    "# Train accuracies\n",
    "train_acc_ops = []\n",
    "for i in range(NUM_BRANCHES):\n",
    "    pred_max = tf.one_hot(tf.argmax(tf.nn.softmax(model.output[i]), axis=-1), \n",
    "                          num_classes)\n",
    "    train_acc_op = tf.reduce_mean(tf.reduce_sum(labels_one_hot[i]*pred_max, [1]), \n",
    "                                  name='train_acc_'+str(i+1))\n",
    "    train_acc_ops.append(train_acc_op)\n",
    "\n",
    "# Test accuracy\n",
    "pred = tf.nn.softmax(tf.reduce_mean(model.output, [0]))\n",
    "pred_max = tf.one_hot(tf.argmax(pred, axis=-1), num_classes)\n",
    "test_acc_op = tf.reduce_mean(tf.reduce_sum(labels_one_hot[0]*pred_max, [1]), \n",
    "                             name='test_acc')"
   ]
  },
  {
   "cell_type": "code",
   "execution_count": 16,
   "metadata": {},
   "outputs": [
    {
     "name": "stdout",
     "output_type": "stream",
     "text": [
      "Epoch 1/20\n",
      "100/100 [==============================] - 36s 361ms/step - loss_1: 1.1014 - loss_2: 1.1040 - loss_3: 1.2061 - acc_1: 0.7728 - acc_2: 0.7697 - acc_3: 0.7163 - val_loss: 0.7666 - val_acc: 0.9042 - ind_acc_1: 0.8915 - ind_acc_2: 0.8943 - ind_acc_3: 0.8906\n",
      "Epoch 2/20\n",
      "100/100 [==============================] - 1s 13ms/step - loss_1: 0.7165 - loss_2: 0.7178 - loss_3: 0.7374 - acc_1: 0.8969 - acc_2: 0.8950 - acc_3: 0.8941 - val_loss: 0.6297 - val_acc: 0.9238 - ind_acc_1: 0.9087 - ind_acc_2: 0.9148 - ind_acc_3: 0.9129\n",
      "Epoch 3/20\n",
      "100/100 [==============================] - 1s 8ms/step - loss_1: 0.6231 - loss_2: 0.6058 - loss_3: 0.6231 - acc_1: 0.9113 - acc_2: 0.9178 - acc_3: 0.9119 - val_loss: 0.5427 - val_acc: 0.9316 - ind_acc_1: 0.9222 - ind_acc_2: 0.9218 - ind_acc_3: 0.9256\n",
      "Epoch 4/20\n",
      "100/100 [==============================] - 1s 8ms/step - loss_1: 0.5292 - loss_2: 0.5153 - loss_3: 0.5454 - acc_1: 0.9331 - acc_2: 0.9344 - acc_3: 0.9337 - val_loss: 0.4827 - val_acc: 0.9367 - ind_acc_1: 0.9295 - ind_acc_2: 0.9260 - ind_acc_3: 0.9291\n",
      "Epoch 5/20\n",
      "100/100 [==============================] - 1s 9ms/step - loss_1: 0.4552 - loss_2: 0.4605 - loss_3: 0.4613 - acc_1: 0.9475 - acc_2: 0.9453 - acc_3: 0.9487 - val_loss: 0.4345 - val_acc: 0.9423 - ind_acc_1: 0.9326 - ind_acc_2: 0.9374 - ind_acc_3: 0.9344\n",
      "Epoch 6/20\n",
      "100/100 [==============================] - 1s 8ms/step - loss_1: 0.3964 - loss_2: 0.4166 - loss_3: 0.4205 - acc_1: 0.9597 - acc_2: 0.9544 - acc_3: 0.9506 - val_loss: 0.3977 - val_acc: 0.9447 - ind_acc_1: 0.9358 - ind_acc_2: 0.9395 - ind_acc_3: 0.9376\n",
      "Epoch 7/20\n",
      "100/100 [==============================] - 1s 9ms/step - loss_1: 0.3619 - loss_2: 0.3625 - loss_3: 0.3636 - acc_1: 0.9600 - acc_2: 0.9628 - acc_3: 0.9625 - val_loss: 0.3691 - val_acc: 0.9477 - ind_acc_1: 0.9399 - ind_acc_2: 0.9401 - ind_acc_3: 0.9408\n",
      "Epoch 8/20\n",
      "100/100 [==============================] - 1s 10ms/step - loss_1: 0.3252 - loss_2: 0.3266 - loss_3: 0.3337 - acc_1: 0.9684 - acc_2: 0.9659 - acc_3: 0.9663 - val_loss: 0.3478 - val_acc: 0.9475 - ind_acc_1: 0.9384 - ind_acc_2: 0.9411 - ind_acc_3: 0.9416\n",
      "Epoch 9/20\n",
      "100/100 [==============================] - 1s 9ms/step - loss_1: 0.3001 - loss_2: 0.2811 - loss_3: 0.2846 - acc_1: 0.9719 - acc_2: 0.9788 - acc_3: 0.9772 - val_loss: 0.3259 - val_acc: 0.9499 - ind_acc_1: 0.9416 - ind_acc_2: 0.9432 - ind_acc_3: 0.9450\n",
      "Epoch 10/20\n",
      "100/100 [==============================] - 1s 10ms/step - loss_1: 0.2717 - loss_2: 0.2544 - loss_3: 0.2582 - acc_1: 0.9725 - acc_2: 0.9822 - acc_3: 0.9838 - val_loss: 0.3049 - val_acc: 0.9513 - ind_acc_1: 0.9439 - ind_acc_2: 0.9448 - ind_acc_3: 0.9465\n",
      "Epoch 11/20\n",
      "100/100 [==============================] - 1s 8ms/step - loss_1: 0.2360 - loss_2: 0.2310 - loss_3: 0.2394 - acc_1: 0.9825 - acc_2: 0.9859 - acc_3: 0.9822 - val_loss: 0.2898 - val_acc: 0.9534 - ind_acc_1: 0.9467 - ind_acc_2: 0.9470 - ind_acc_3: 0.9461\n",
      "Epoch 12/20\n",
      "100/100 [==============================] - 1s 8ms/step - loss_1: 0.2242 - loss_2: 0.2146 - loss_3: 0.2145 - acc_1: 0.9812 - acc_2: 0.9847 - acc_3: 0.9862 - val_loss: 0.2813 - val_acc: 0.9528 - ind_acc_1: 0.9449 - ind_acc_2: 0.9448 - ind_acc_3: 0.9470\n",
      "Epoch 13/20\n",
      "100/100 [==============================] - 1s 8ms/step - loss_1: 0.2028 - loss_2: 0.1978 - loss_3: 0.2030 - acc_1: 0.9859 - acc_2: 0.9853 - acc_3: 0.9859 - val_loss: 0.2696 - val_acc: 0.9541 - ind_acc_1: 0.9467 - ind_acc_2: 0.9462 - ind_acc_3: 0.9464\n",
      "Epoch 14/20\n",
      "100/100 [==============================] - 1s 8ms/step - loss_1: 0.1744 - loss_2: 0.1738 - loss_3: 0.1811 - acc_1: 0.9919 - acc_2: 0.9922 - acc_3: 0.9884 - val_loss: 0.2602 - val_acc: 0.9526 - ind_acc_1: 0.9444 - ind_acc_2: 0.9467 - ind_acc_3: 0.9471\n",
      "Epoch 15/20\n",
      "100/100 [==============================] - 1s 8ms/step - loss_1: 0.1618 - loss_2: 0.1610 - loss_3: 0.1659 - acc_1: 0.9912 - acc_2: 0.9941 - acc_3: 0.9884 - val_loss: 0.2565 - val_acc: 0.9533 - ind_acc_1: 0.9438 - ind_acc_2: 0.9472 - ind_acc_3: 0.9459\n",
      "Epoch 16/20\n",
      "100/100 [==============================] - 1s 8ms/step - loss_1: 0.1560 - loss_2: 0.1376 - loss_3: 0.1454 - acc_1: 0.9912 - acc_2: 0.9953 - acc_3: 0.9944 - val_loss: 0.2442 - val_acc: 0.9546 - ind_acc_1: 0.9464 - ind_acc_2: 0.9459 - ind_acc_3: 0.9480\n",
      "Epoch 17/20\n",
      "100/100 [==============================] - 1s 8ms/step - loss_1: 0.1435 - loss_2: 0.1380 - loss_3: 0.1340 - acc_1: 0.9931 - acc_2: 0.9931 - acc_3: 0.9928 - val_loss: 0.2371 - val_acc: 0.9545 - ind_acc_1: 0.9480 - ind_acc_2: 0.9470 - ind_acc_3: 0.9484\n",
      "Epoch 18/20\n",
      "100/100 [==============================] - 1s 8ms/step - loss_1: 0.1272 - loss_2: 0.1305 - loss_3: 0.1270 - acc_1: 0.9922 - acc_2: 0.9938 - acc_3: 0.9947 - val_loss: 0.2285 - val_acc: 0.9558 - ind_acc_1: 0.9470 - ind_acc_2: 0.9485 - ind_acc_3: 0.9494\n",
      "Epoch 19/20\n",
      "100/100 [==============================] - 1s 8ms/step - loss_1: 0.1191 - loss_2: 0.1243 - loss_3: 0.1135 - acc_1: 0.9934 - acc_2: 0.9928 - acc_3: 0.9934 - val_loss: 0.2314 - val_acc: 0.9544 - ind_acc_1: 0.9443 - ind_acc_2: 0.9447 - ind_acc_3: 0.9476\n",
      "Epoch 20/20\n",
      "100/100 [==============================] - 1s 9ms/step - loss_1: 0.1179 - loss_2: 0.1077 - loss_3: 0.1124 - acc_1: 0.9934 - acc_2: 0.9962 - acc_3: 0.9938 - val_loss: 0.2211 - val_acc: 0.9560 - ind_acc_1: 0.9473 - ind_acc_2: 0.9489 - ind_acc_3: 0.9468\n"
     ]
    }
   ],
   "source": [
    "with tf.Session() as sess:\n",
    "    sess.run(tf.global_variables_initializer())\n",
    "\n",
    "    for e in range(EPOCHS):\n",
    "        print(\"Epoch {}/{}\".format(e + 1, EPOCHS))\n",
    "        progbar = tf.keras.utils.Progbar(STEPS_PER_EPOCH)\n",
    "        \n",
    "        sess.run(train_init_ops, feed_dict={batch_size: BATCH_SIZE})\n",
    "\n",
    "        for i in range(STEPS_PER_EPOCH):\n",
    "            _, train_losses, train_accs = sess.run([train_ops, losses, \n",
    "                                                 train_acc_ops])\n",
    "            \n",
    "            prog_vals = [('loss_'+str(b+1),train_losses[b]) for b in range(NUM_BRANCHES)]\n",
    "            prog_vals += [('acc_'+str(b+1),train_accs[b]) for b in range(NUM_BRANCHES)]\n",
    "            \n",
    "            if i == STEPS_PER_EPOCH - 1:\n",
    "                sess.run(test_init_ops, feed_dict={batch_size: len(X_test_flat)})\n",
    "                val_losses, val_acc, indiv_accs = sess.run([losses, test_acc_op, \n",
    "                                                            train_acc_ops])\n",
    "                \n",
    "                prog_vals += [(\"val_loss\", np.mean(val_losses)), (\"val_acc\", val_acc)] + \\\n",
    "                    [('ind_acc_'+str(b+1), indiv_accs[b]) for b in range(NUM_BRANCHES)]\n",
    "            \n",
    "            progbar.update(i+1, values=prog_vals)\n",
    "    \n",
    "    if save:\n",
    "        saver = tf.train.Saver()\n",
    "        path = os.path.join(model_path, 'ckpt')\n",
    "        saver.save(sess, path)"
   ]
  },
  {
   "cell_type": "markdown",
   "metadata": {},
   "source": [
    "## Load Model"
   ]
  },
  {
   "cell_type": "code",
   "execution_count": 20,
   "metadata": {},
   "outputs": [],
   "source": [
    "test_init_ops = ['test_init_op_'+str(i+1) for i in range(NUM_BRANCHES)]\n",
    "losses = ['loss_'+str(i+1)+':0' for i in range(NUM_BRANCHES)]\n",
    "train_acc_ops = ['train_acc_'+str(i+1)+':0' for i in range(NUM_BRANCHES)]"
   ]
  },
  {
   "cell_type": "code",
   "execution_count": 21,
   "metadata": {},
   "outputs": [
    {
     "name": "stdout",
     "output_type": "stream",
     "text": [
      "INFO:tensorflow:Restoring parameters from ./models/vb-mnist-B3_1/ckpt\n"
     ]
    }
   ],
   "source": [
    "with tf.Session() as sess:\n",
    "    model_path = './models/vb-mnist-B' + str(NUM_BRANCHES) + '_' + str(model_id)\n",
    "    meta_path = os.path.join(model_path, 'ckpt.meta')\n",
    "    ckpt = tf.train.get_checkpoint_state(model_path)\n",
    "\n",
    "    imported_graph = tf.train.import_meta_graph(meta_path)\n",
    "    imported_graph.restore(sess, ckpt.model_checkpoint_path)\n",
    "\n",
    "    sess.run(test_init_ops, feed_dict={'batch_size:0': len(X_test_flat)})\n",
    "\n",
    "    val_losses, val_acc, indiv_accs = sess.run([losses, 'test_acc:0', train_acc_ops])"
   ]
  },
  {
   "cell_type": "code",
   "execution_count": 22,
   "metadata": {},
   "outputs": [
    {
     "name": "stdout",
     "output_type": "stream",
     "text": [
      "Loss: 0.22113991\n",
      "Acc: 0.956\n",
      "Indiv accs: [0.9473, 0.9489, 0.9468]\n"
     ]
    }
   ],
   "source": [
    "print('Loss:', np.mean(val_losses))\n",
    "print('Acc:', val_acc)\n",
    "print('Indiv accs:', indiv_accs)"
   ]
  },
  {
   "cell_type": "code",
   "execution_count": null,
   "metadata": {},
   "outputs": [],
   "source": []
  }
 ],
 "metadata": {
  "kernelspec": {
   "display_name": "Python 3",
   "language": "python",
   "name": "python3"
  },
  "language_info": {
   "codemirror_mode": {
    "name": "ipython",
    "version": 3
   },
   "file_extension": ".py",
   "mimetype": "text/x-python",
   "name": "python",
   "nbconvert_exporter": "python",
   "pygments_lexer": "ipython3",
   "version": "3.6.8"
  }
 },
 "nbformat": 4,
 "nbformat_minor": 2
}
