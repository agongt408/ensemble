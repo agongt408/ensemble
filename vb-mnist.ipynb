{
 "cells": [
  {
   "cell_type": "markdown",
   "metadata": {},
   "source": [
    "# MNIST FCN with Virtual Branching"
   ]
  },
  {
   "cell_type": "code",
   "execution_count": 1,
   "metadata": {},
   "outputs": [],
   "source": [
    "import tensorflow as tf\n",
    "import numpy as np\n",
    "import os\n",
    "from scipy.special import softmax\n",
    "import matplotlib.pyplot as plt"
   ]
  },
  {
   "cell_type": "code",
   "execution_count": 2,
   "metadata": {},
   "outputs": [],
   "source": [
    "import vbranch as vb"
   ]
  },
  {
   "cell_type": "code",
   "execution_count": 3,
   "metadata": {},
   "outputs": [],
   "source": [
    "save = False\n",
    "model_id = 1"
   ]
  },
  {
   "cell_type": "markdown",
   "metadata": {},
   "source": [
    "## Load Data"
   ]
  },
  {
   "cell_type": "code",
   "execution_count": 4,
   "metadata": {},
   "outputs": [],
   "source": [
    "(X_train, y_train), (X_test, y_test) = tf.keras.datasets.mnist.load_data()"
   ]
  },
  {
   "cell_type": "code",
   "execution_count": 5,
   "metadata": {},
   "outputs": [],
   "source": [
    "input_dim = 784\n",
    "num_classes = 10"
   ]
  },
  {
   "cell_type": "code",
   "execution_count": 6,
   "metadata": {},
   "outputs": [],
   "source": [
    "X_train_flat = X_train.reshape([-1, input_dim])\n",
    "X_test_flat = X_test.reshape([-1, input_dim])\n",
    "\n",
    "y_train_one_hot = tf.keras.utils.to_categorical(y_train, num_classes)\n",
    "y_test_one_hot = tf.keras.utils.to_categorical(y_test, num_classes)"
   ]
  },
  {
   "cell_type": "markdown",
   "metadata": {},
   "source": [
    "## Train"
   ]
  },
  {
   "cell_type": "markdown",
   "metadata": {},
   "source": [
    "### Build Model"
   ]
  },
  {
   "cell_type": "code",
   "execution_count": 7,
   "metadata": {},
   "outputs": [],
   "source": [
    "BATCH_SIZE = 32\n",
    "EPOCHS = 10\n",
    "STEPS_PER_EPOCH = 100\n",
    "NUM_BRANCHES = 1\n",
    "model_path = './models/vb-mnist-B' + str(NUM_BRANCHES) + '_' + str(model_id)"
   ]
  },
  {
   "cell_type": "code",
   "execution_count": 8,
   "metadata": {},
   "outputs": [
    {
     "data": {
      "text/plain": [
       "'./models/vb-mnist-B1_1'"
      ]
     },
     "execution_count": 8,
     "metadata": {},
     "output_type": "execute_result"
    }
   ],
   "source": [
    "model_path"
   ]
  },
  {
   "cell_type": "code",
   "execution_count": 9,
   "metadata": {},
   "outputs": [],
   "source": [
    "tf.reset_default_graph()\n",
    "\n",
    "train_data = (X_train_flat.astype('float32'), y_train_one_hot)\n",
    "test_data = (X_test_flat.astype('float32'), y_test_one_hot)\n",
    "\n",
    "batch_size = tf.placeholder('int64', name='batch_size')\n",
    "\n",
    "train_datasets = []\n",
    "test_datasets = []\n",
    "inputs = [None] * NUM_BRANCHES\n",
    "labels_one_hot = [None] * NUM_BRANCHES\n",
    "train_init_ops = []\n",
    "test_init_ops = []\n",
    "\n",
    "for i in range(NUM_BRANCHES):\n",
    "    train_datasets.append(tf.data.Dataset.from_tensor_slices(train_data).\\\n",
    "        batch(batch_size).repeat().\\\n",
    "        shuffle(buffer_size=4*BATCH_SIZE))\n",
    "\n",
    "    test_datasets.append(tf.data.Dataset.from_tensor_slices(test_data).\\\n",
    "        batch(batch_size))\n",
    "    \n",
    "    iterator = tf.data.Iterator.from_structure(train_datasets[i].output_types, \n",
    "                                           train_datasets[i].output_shapes)\n",
    "    inputs[i], labels_one_hot[i] = iterator.get_next()    \n",
    "\n",
    "    train_init_ops.append(iterator.make_initializer(train_datasets[i]))\n",
    "    test_init_ops.append(iterator.make_initializer(test_datasets[i], \n",
    "                                                name='test_init_op_'+str(i+1)))"
   ]
  },
  {
   "cell_type": "code",
   "execution_count": 10,
   "metadata": {},
   "outputs": [],
   "source": [
    "with tf.variable_scope('model_' + str(model_id), reuse=tf.AUTO_REUSE):\n",
    "    model = vb.models.vbranch_fcn(inputs, ([128]*NUM_BRANCHES, 64), ([10]*NUM_BRANCHES, 5), \n",
    "                                  branches=NUM_BRANCHES)"
   ]
  },
  {
   "cell_type": "code",
   "execution_count": 11,
   "metadata": {},
   "outputs": [
    {
     "name": "stdout",
     "output_type": "stream",
     "text": [
      "i   Layer name          Output shapes                           Num param \n",
      "--------------------------------------------------------------------------\n",
      "    Input               [None,784]                                        \n",
      "--------------------------------------------------------------------------\n",
      "0   fc1                 [None,64] [None,64]                     100480    \n",
      "--------------------------------------------------------------------------\n",
      "1   bn1                 [None,64] [None,64]                     256       \n",
      "--------------------------------------------------------------------------\n",
      "2   relu1               [None,64] [None,64]                     0         \n",
      "--------------------------------------------------------------------------\n",
      "3   fc2                 [None,5] [None,5]                       1300      \n",
      "--------------------------------------------------------------------------\n",
      "4   bn2                 [None,5] [None,5]                       20        \n",
      "--------------------------------------------------------------------------\n",
      "5   relu2               [None,5] [None,5]                       0         \n",
      "--------------------------------------------------------------------------\n",
      "6   output              [None,10]                               0         \n",
      "--------------------------------------------------------------------------\n",
      "Total parameters: 102056\n"
     ]
    }
   ],
   "source": [
    "model.summary()"
   ]
  },
  {
   "cell_type": "code",
   "execution_count": 12,
   "metadata": {},
   "outputs": [
    {
     "data": {
      "text/plain": [
       "[<tf.Tensor 'model_1/output_1:0' shape=(?, 10) dtype=float32>]"
      ]
     },
     "execution_count": 12,
     "metadata": {},
     "output_type": "execute_result"
    }
   ],
   "source": [
    "model.output"
   ]
  },
  {
   "cell_type": "code",
   "execution_count": 13,
   "metadata": {},
   "outputs": [
    {
     "data": {
      "text/plain": [
       "[<tf.Variable 'model_1/fc1_shared_to_shared_w:0' shape=(784, 64) dtype=float32_ref>,\n",
       " <tf.Variable 'model_1/fc1_shared_to_shared_b:0' shape=(64,) dtype=float32_ref>,\n",
       " <tf.Variable 'model_1/fc1_vb1_shared_to_unique_w:0' shape=(784, 64) dtype=float32_ref>,\n",
       " <tf.Variable 'model_1/fc1_vb1_shared_to_unique_b:0' shape=(64,) dtype=float32_ref>,\n",
       " <tf.Variable 'model_1/bn1_shared_to_shared_scale:0' shape=(64,) dtype=float32_ref>,\n",
       " <tf.Variable 'model_1/bn1_shared_to_shared_beta:0' shape=(64,) dtype=float32_ref>,\n",
       " <tf.Variable 'model_1/bn1_vb1_unique_to_unique_scale:0' shape=(64,) dtype=float32_ref>,\n",
       " <tf.Variable 'model_1/bn1_vb1_unique_to_unique_beta:0' shape=(64,) dtype=float32_ref>,\n",
       " <tf.Variable 'model_1/fc2_shared_to_shared_w:0' shape=(64, 5) dtype=float32_ref>,\n",
       " <tf.Variable 'model_1/fc2_shared_to_shared_b:0' shape=(5,) dtype=float32_ref>,\n",
       " <tf.Variable 'model_1/fc2_vb1_unique_to_shared_w:0' shape=(64, 5) dtype=float32_ref>,\n",
       " <tf.Variable 'model_1/fc2_vb1_unique_to_shared_b:0' shape=(5,) dtype=float32_ref>,\n",
       " <tf.Variable 'model_1/fc2_vb1_shared_to_unique_w:0' shape=(64, 5) dtype=float32_ref>,\n",
       " <tf.Variable 'model_1/fc2_vb1_shared_to_unique_b:0' shape=(5,) dtype=float32_ref>,\n",
       " <tf.Variable 'model_1/fc2_vb1_unique_to_unique_w:0' shape=(64, 5) dtype=float32_ref>,\n",
       " <tf.Variable 'model_1/fc2_vb1_unique_to_unique_b:0' shape=(5,) dtype=float32_ref>,\n",
       " <tf.Variable 'model_1/bn2_shared_to_shared_scale:0' shape=(5,) dtype=float32_ref>,\n",
       " <tf.Variable 'model_1/bn2_shared_to_shared_beta:0' shape=(5,) dtype=float32_ref>,\n",
       " <tf.Variable 'model_1/bn2_vb1_unique_to_unique_scale:0' shape=(5,) dtype=float32_ref>,\n",
       " <tf.Variable 'model_1/bn2_vb1_unique_to_unique_beta:0' shape=(5,) dtype=float32_ref>]"
      ]
     },
     "execution_count": 13,
     "metadata": {},
     "output_type": "execute_result"
    }
   ],
   "source": [
    "tf.global_variables()"
   ]
  },
  {
   "cell_type": "markdown",
   "metadata": {},
   "source": [
    "### Declare Training Ops"
   ]
  },
  {
   "cell_type": "code",
   "execution_count": 14,
   "metadata": {},
   "outputs": [],
   "source": [
    "def get_shared_unshared_vars():\n",
    "    \"\"\"\n",
    "    Get shared variables (in order to later average gradients)\n",
    "    and unshared variables (unique to each branch)\"\"\"\n",
    "    \n",
    "    shared_vars = []\n",
    "    unshared_vars = [[] for i in range(NUM_BRANCHES)]\n",
    "    \n",
    "    for var in tf.global_variables():\n",
    "        if 'shared_to_shared' in var.name:\n",
    "            shared_vars.append(var)\n",
    "        else:\n",
    "            for i in range(NUM_BRANCHES):\n",
    "                if 'vb'+str(i+1) in var.name:\n",
    "                    unshared_vars[i].append(var)\n",
    "            \n",
    "    return shared_vars, unshared_vars"
   ]
  },
  {
   "cell_type": "code",
   "execution_count": 15,
   "metadata": {},
   "outputs": [],
   "source": [
    "shared_vars, unshared_vars = get_shared_unshared_vars()"
   ]
  },
  {
   "cell_type": "code",
   "execution_count": 16,
   "metadata": {},
   "outputs": [
    {
     "data": {
      "text/plain": [
       "[[], [], [], []]"
      ]
     },
     "execution_count": 16,
     "metadata": {},
     "output_type": "execute_result"
    }
   ],
   "source": [
    "unshared_vars"
   ]
  },
  {
   "cell_type": "code",
   "execution_count": 17,
   "metadata": {},
   "outputs": [],
   "source": [
    "# Multi output loss\n",
    "optimizer = tf.train.AdamOptimizer(learning_rate=0.001)\n",
    "\n",
    "losses = []\n",
    "# Store gradients from shared variables over each branch\n",
    "shared_grads = []\n",
    "unshared_train_ops = []\n",
    "\n",
    "for i in range(NUM_BRANCHES):\n",
    "    loss = vb.losses.softmax_cross_entropy_with_logits(labels=labels_one_hot[i], \n",
    "                                                       logits=model.output[i], \n",
    "                                                       name='loss_'+str(i+1))\n",
    "    losses.append(loss)\n",
    "    \n",
    "    # Compute gradients of shared vars for each branch (but don't apply)\n",
    "    if len(shared_vars) > 0:\n",
    "        shared_grads.append(optimizer.compute_gradients(loss, var_list=shared_vars))\n",
    "        \n",
    "    # Apply gradients for unshared vars for each branch\n",
    "    if len(unshared_vars[i]) > 0:\n",
    "        unshared_train_ops.append(optimizer.minimize(loss, var_list=unshared_vars[i]))"
   ]
  },
  {
   "cell_type": "code",
   "execution_count": 18,
   "metadata": {},
   "outputs": [],
   "source": [
    "# Take average of the gradients over each branch\n",
    "mean_shared_grads = []\n",
    "\n",
    "for v, var in enumerate(shared_vars):\n",
    "    grad = tf.reduce_mean([shared_grads[i][v][0] for i in range(NUM_BRANCHES)], [0])\n",
    "    mean_shared_grads.append((grad, var))\n",
    "    \n",
    "if len(shared_vars) > 0:\n",
    "    shared_train_op = optimizer.apply_gradients(mean_shared_grads)\n",
    "else:\n",
    "    shared_train_op = []"
   ]
  },
  {
   "cell_type": "code",
   "execution_count": 19,
   "metadata": {},
   "outputs": [
    {
     "data": {
      "text/plain": [
       "[(<tf.Tensor 'Mean:0' shape=(784, 128) dtype=float32>,\n",
       "  <tf.Variable 'model_1/fc1_shared_to_shared_w:0' shape=(784, 128) dtype=float32_ref>),\n",
       " (<tf.Tensor 'Mean_1:0' shape=(128,) dtype=float32>,\n",
       "  <tf.Variable 'model_1/fc1_shared_to_shared_b:0' shape=(128,) dtype=float32_ref>),\n",
       " (<tf.Tensor 'Mean_2:0' shape=(128,) dtype=float32>,\n",
       "  <tf.Variable 'model_1/bn1_shared_to_shared_scale:0' shape=(128,) dtype=float32_ref>),\n",
       " (<tf.Tensor 'Mean_3:0' shape=(128,) dtype=float32>,\n",
       "  <tf.Variable 'model_1/bn1_shared_to_shared_beta:0' shape=(128,) dtype=float32_ref>),\n",
       " (<tf.Tensor 'Mean_4:0' shape=(128, 10) dtype=float32>,\n",
       "  <tf.Variable 'model_1/fc2_shared_to_shared_w:0' shape=(128, 10) dtype=float32_ref>),\n",
       " (<tf.Tensor 'Mean_5:0' shape=(10,) dtype=float32>,\n",
       "  <tf.Variable 'model_1/fc2_shared_to_shared_b:0' shape=(10,) dtype=float32_ref>),\n",
       " (<tf.Tensor 'Mean_6:0' shape=(10,) dtype=float32>,\n",
       "  <tf.Variable 'model_1/bn2_shared_to_shared_scale:0' shape=(10,) dtype=float32_ref>),\n",
       " (<tf.Tensor 'Mean_7:0' shape=(10,) dtype=float32>,\n",
       "  <tf.Variable 'model_1/bn2_shared_to_shared_beta:0' shape=(10,) dtype=float32_ref>)]"
      ]
     },
     "execution_count": 19,
     "metadata": {},
     "output_type": "execute_result"
    }
   ],
   "source": [
    "mean_shared_grads"
   ]
  },
  {
   "cell_type": "code",
   "execution_count": 20,
   "metadata": {},
   "outputs": [],
   "source": [
    "train_ops = [unshared_train_ops, shared_train_op]"
   ]
  },
  {
   "cell_type": "code",
   "execution_count": 21,
   "metadata": {},
   "outputs": [],
   "source": [
    "# Train accuracies\n",
    "train_acc_ops = []\n",
    "for i in range(NUM_BRANCHES):\n",
    "    pred_max = tf.one_hot(tf.argmax(tf.nn.softmax(model.output[i]), axis=-1), \n",
    "                          num_classes)\n",
    "    train_acc_op = tf.reduce_mean(tf.reduce_sum(labels_one_hot[i]*pred_max, [1]), \n",
    "                                  name='train_acc_'+str(i+1))\n",
    "    train_acc_ops.append(train_acc_op)\n",
    "\n",
    "# Test accuracy\n",
    "pred = tf.nn.softmax(tf.reduce_mean(model.output, [0]))\n",
    "pred_max = tf.one_hot(tf.argmax(pred, axis=-1), num_classes)\n",
    "test_acc_op = tf.reduce_mean(tf.reduce_sum(labels_one_hot[0]*pred_max, [1]), \n",
    "                             name='test_acc')"
   ]
  },
  {
   "cell_type": "markdown",
   "metadata": {},
   "source": [
    "### Run Ops"
   ]
  },
  {
   "cell_type": "code",
   "execution_count": 22,
   "metadata": {},
   "outputs": [
    {
     "name": "stdout",
     "output_type": "stream",
     "text": [
      "Epoch 1/10\n",
      "100/100 [==============================] - 34s 337ms/step - loss_1: 0.9762 - loss_2: 0.9836 - loss_3: 0.9747 - loss_4: 0.9771 - acc_1: 0.8197 - acc_2: 0.8150 - acc_3: 0.8153 - acc_4: 0.8137 - val_loss: 0.6809 - val_acc: 0.9079 - ind_acc_1: 0.9079 - ind_acc_2: 0.9079 - ind_acc_3: 0.9079 - ind_acc_4: 0.9079\n",
      "Epoch 2/10\n",
      "100/100 [==============================] - 1s 13ms/step - loss_1: 0.6279 - loss_2: 0.6249 - loss_3: 0.6382 - loss_4: 0.6088 - acc_1: 0.9256 - acc_2: 0.9237 - acc_3: 0.9216 - acc_4: 0.9322 - val_loss: 0.5488 - val_acc: 0.9267 - ind_acc_1: 0.9267 - ind_acc_2: 0.9267 - ind_acc_3: 0.9267 - ind_acc_4: 0.9267\n",
      "Epoch 3/10\n",
      "100/100 [==============================] - 1s 11ms/step - loss_1: 0.4945 - loss_2: 0.4743 - loss_3: 0.4812 - loss_4: 0.4902 - acc_1: 0.9541 - acc_2: 0.9594 - acc_3: 0.9541 - acc_4: 0.9559 - val_loss: 0.4651 - val_acc: 0.9353 - ind_acc_1: 0.9353 - ind_acc_2: 0.9353 - ind_acc_3: 0.9353 - ind_acc_4: 0.9353\n",
      "Epoch 4/10\n",
      "100/100 [==============================] - 1s 9ms/step - loss_1: 0.3937 - loss_2: 0.3856 - loss_3: 0.4122 - loss_4: 0.3882 - acc_1: 0.9744 - acc_2: 0.9753 - acc_3: 0.9681 - acc_4: 0.9778 - val_loss: 0.4102 - val_acc: 0.9405 - ind_acc_1: 0.9405 - ind_acc_2: 0.9405 - ind_acc_3: 0.9405 - ind_acc_4: 0.9405\n",
      "Epoch 5/10\n",
      "100/100 [==============================] - 1s 9ms/step - loss_1: 0.3269 - loss_2: 0.3260 - loss_3: 0.3300 - loss_4: 0.3225 - acc_1: 0.9809 - acc_2: 0.9831 - acc_3: 0.9797 - acc_4: 0.9834 - val_loss: 0.3731 - val_acc: 0.9443 - ind_acc_1: 0.9443 - ind_acc_2: 0.9443 - ind_acc_3: 0.9443 - ind_acc_4: 0.9443\n",
      "Epoch 6/10\n",
      "100/100 [==============================] - 1s 9ms/step - loss_1: 0.2738 - loss_2: 0.2750 - loss_3: 0.2738 - loss_4: 0.2695 - acc_1: 0.9875 - acc_2: 0.9875 - acc_3: 0.9903 - acc_4: 0.9916 - val_loss: 0.3396 - val_acc: 0.9454 - ind_acc_1: 0.9454 - ind_acc_2: 0.9454 - ind_acc_3: 0.9454 - ind_acc_4: 0.9454\n",
      "Epoch 7/10\n",
      "100/100 [==============================] - 1s 11ms/step - loss_1: 0.2329 - loss_2: 0.2406 - loss_3: 0.2339 - loss_4: 0.2344 - acc_1: 0.9956 - acc_2: 0.9894 - acc_3: 0.9919 - acc_4: 0.9912 - val_loss: 0.3185 - val_acc: 0.9448 - ind_acc_1: 0.9448 - ind_acc_2: 0.9448 - ind_acc_3: 0.9448 - ind_acc_4: 0.9448\n",
      "Epoch 8/10\n",
      "100/100 [==============================] - 1s 13ms/step - loss_1: 0.2029 - loss_2: 0.1973 - loss_3: 0.1986 - loss_4: 0.1942 - acc_1: 0.9934 - acc_2: 0.9962 - acc_3: 0.9972 - acc_4: 0.9944 - val_loss: 0.2973 - val_acc: 0.9452 - ind_acc_1: 0.9452 - ind_acc_2: 0.9452 - ind_acc_3: 0.9452 - ind_acc_4: 0.9452\n",
      "Epoch 9/10\n",
      "100/100 [==============================] - 1s 11ms/step - loss_1: 0.1766 - loss_2: 0.1737 - loss_3: 0.1676 - loss_4: 0.1781 - acc_1: 0.9947 - acc_2: 0.9966 - acc_3: 0.9959 - acc_4: 0.9944 - val_loss: 0.2842 - val_acc: 0.9461 - ind_acc_1: 0.9461 - ind_acc_2: 0.9461 - ind_acc_3: 0.9461 - ind_acc_4: 0.9461\n",
      "Epoch 10/10\n",
      "100/100 [==============================] - 1s 9ms/step - loss_1: 0.1492 - loss_2: 0.1510 - loss_3: 0.1481 - loss_4: 0.1540 - acc_1: 0.9969 - acc_2: 0.9962 - acc_3: 0.9966 - acc_4: 0.9950 - val_loss: 0.2699 - val_acc: 0.9464 - ind_acc_1: 0.9464 - ind_acc_2: 0.9464 - ind_acc_3: 0.9464 - ind_acc_4: 0.9464\n"
     ]
    }
   ],
   "source": [
    "with tf.Session() as sess:\n",
    "    sess.run(tf.global_variables_initializer())\n",
    "\n",
    "    for e in range(EPOCHS):\n",
    "        print(\"Epoch {}/{}\".format(e + 1, EPOCHS))\n",
    "        progbar = tf.keras.utils.Progbar(STEPS_PER_EPOCH)\n",
    "        \n",
    "        sess.run(train_init_ops, feed_dict={batch_size: BATCH_SIZE})\n",
    "\n",
    "        for i in range(STEPS_PER_EPOCH):\n",
    "            _, train_losses, train_accs = sess.run([train_ops, losses, \n",
    "                                                 train_acc_ops])\n",
    "            \n",
    "            prog_vals = [('loss_'+str(b+1),train_losses[b]) for b in range(NUM_BRANCHES)]\n",
    "            prog_vals += [('acc_'+str(b+1),train_accs[b]) for b in range(NUM_BRANCHES)]\n",
    "            \n",
    "            if i == STEPS_PER_EPOCH - 1:\n",
    "                sess.run(test_init_ops, feed_dict={batch_size: len(X_test_flat)})\n",
    "                val_losses, val_acc, indiv_accs = sess.run([losses, test_acc_op, \n",
    "                                                            train_acc_ops])\n",
    "                \n",
    "                prog_vals += [(\"val_loss\", np.mean(val_losses)), (\"val_acc\", val_acc)] + \\\n",
    "                    [('ind_acc_'+str(b+1), indiv_accs[b]) for b in range(NUM_BRANCHES)]\n",
    "            \n",
    "            progbar.update(i+1, values=prog_vals)\n",
    "    \n",
    "    if save:\n",
    "        saver = tf.train.Saver()\n",
    "        path = os.path.join(model_path, 'ckpt')\n",
    "        saver.save(sess, path)"
   ]
  },
  {
   "cell_type": "markdown",
   "metadata": {},
   "source": [
    "## Load Model"
   ]
  },
  {
   "cell_type": "code",
   "execution_count": 8,
   "metadata": {},
   "outputs": [],
   "source": [
    "test_init_ops = ['test_init_op_'+str(i+1) for i in range(NUM_BRANCHES)]\n",
    "losses = ['loss_'+str(i+1)+':0' for i in range(NUM_BRANCHES)]\n",
    "train_acc_ops = ['train_acc_'+str(i+1)+':0' for i in range(NUM_BRANCHES)]"
   ]
  },
  {
   "cell_type": "code",
   "execution_count": 9,
   "metadata": {},
   "outputs": [
    {
     "name": "stdout",
     "output_type": "stream",
     "text": [
      "INFO:tensorflow:Restoring parameters from ./models/vb-mnist-B4_1/ckpt\n"
     ]
    }
   ],
   "source": [
    "with tf.Session() as sess:\n",
    "    model_path = './models/vb-mnist-B' + str(NUM_BRANCHES) + '_' + str(model_id)\n",
    "    meta_path = os.path.join(model_path, 'ckpt.meta')\n",
    "    ckpt = tf.train.get_checkpoint_state(model_path)\n",
    "\n",
    "    imported_graph = tf.train.import_meta_graph(meta_path)\n",
    "    imported_graph.restore(sess, ckpt.model_checkpoint_path)\n",
    "\n",
    "    sess.run(test_init_ops, feed_dict={'batch_size:0': len(X_test_flat)})\n",
    "\n",
    "    val_losses, val_acc, indiv_accs = sess.run([losses, 'test_acc:0', train_acc_ops])"
   ]
  },
  {
   "cell_type": "code",
   "execution_count": 10,
   "metadata": {},
   "outputs": [
    {
     "name": "stdout",
     "output_type": "stream",
     "text": [
      "Loss: 0.2564507\n",
      "Acc: 0.9522\n",
      "Indiv accs: [0.9434, 0.947, 0.9468, 0.945]\n"
     ]
    }
   ],
   "source": [
    "print('Loss:', np.mean(val_losses))\n",
    "print('Acc:', val_acc)\n",
    "print('Indiv accs:', indiv_accs)"
   ]
  },
  {
   "cell_type": "code",
   "execution_count": null,
   "metadata": {},
   "outputs": [],
   "source": []
  }
 ],
 "metadata": {
  "kernelspec": {
   "display_name": "Python 3",
   "language": "python",
   "name": "python3"
  },
  "language_info": {
   "codemirror_mode": {
    "name": "ipython",
    "version": 3
   },
   "file_extension": ".py",
   "mimetype": "text/x-python",
   "name": "python",
   "nbconvert_exporter": "python",
   "pygments_lexer": "ipython3",
   "version": "3.6.8"
  }
 },
 "nbformat": 4,
 "nbformat_minor": 2
}
