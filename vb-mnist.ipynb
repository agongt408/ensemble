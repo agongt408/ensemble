{
 "cells": [
  {
   "cell_type": "markdown",
   "metadata": {},
   "source": [
    "# MNIST with Virtual Branching"
   ]
  },
  {
   "cell_type": "code",
   "execution_count": 1,
   "metadata": {},
   "outputs": [],
   "source": [
    "import tensorflow as tf\n",
    "import numpy as np\n",
    "import os\n",
    "from scipy.special import softmax\n",
    "import matplotlib.pyplot as plt\n",
    "import time\n",
    "from sklearn.manifold import TSNE"
   ]
  },
  {
   "cell_type": "code",
   "execution_count": 2,
   "metadata": {},
   "outputs": [],
   "source": [
    "import vbranch as vb"
   ]
  },
  {
   "cell_type": "code",
   "execution_count": 3,
   "metadata": {},
   "outputs": [],
   "source": [
    "save = False\n",
    "model_id = 1\n",
    "architecture = 'cnn'"
   ]
  },
  {
   "cell_type": "markdown",
   "metadata": {},
   "source": [
    "## Load Data"
   ]
  },
  {
   "cell_type": "code",
   "execution_count": 4,
   "metadata": {},
   "outputs": [],
   "source": [
    "input_dim = 784\n",
    "num_classes = 10"
   ]
  },
  {
   "cell_type": "code",
   "execution_count": 5,
   "metadata": {},
   "outputs": [],
   "source": [
    "(X_train, y_train_one_hot), (X_test, y_test_one_hot) = vb.datasets.mnist.load_data(format=architecture)"
   ]
  },
  {
   "cell_type": "markdown",
   "metadata": {},
   "source": [
    "## Train"
   ]
  },
  {
   "cell_type": "markdown",
   "metadata": {},
   "source": [
    "### Build Model"
   ]
  },
  {
   "cell_type": "code",
   "execution_count": 6,
   "metadata": {},
   "outputs": [],
   "source": [
    "BATCH_SIZE = 32\n",
    "EPOCHS = 10\n",
    "STEPS_PER_EPOCH = 100\n",
    "NUM_BRANCHES = 3\n",
    "SHARED_FRAC = 1\n",
    "model_path = os.path.join('models', 'vb-mnist-{}-B{:d}-S{:.2f}_{:d}'.format(architecture,\n",
    "    NUM_BRANCHES, SHARED_FRAC, model_id))"
   ]
  },
  {
   "cell_type": "code",
   "execution_count": 7,
   "metadata": {},
   "outputs": [
    {
     "data": {
      "text/plain": [
       "'models/vb-mnist-cnn-B3-S1.00_1'"
      ]
     },
     "execution_count": 7,
     "metadata": {},
     "output_type": "execute_result"
    }
   ],
   "source": [
    "model_path"
   ]
  },
  {
   "cell_type": "code",
   "execution_count": 8,
   "metadata": {},
   "outputs": [],
   "source": [
    "tf.reset_default_graph()\n",
    "\n",
    "train_data = (X_train.astype('float32'), y_train_one_hot)\n",
    "test_data = (X_test.astype('float32'), y_test_one_hot)\n",
    "\n",
    "batch_size = tf.placeholder('int64', name='batch_size')\n",
    "\n",
    "train_datasets = []\n",
    "test_datasets = []\n",
    "inputs = [None] * NUM_BRANCHES\n",
    "labels_one_hot = [None] * NUM_BRANCHES\n",
    "train_init_ops = []\n",
    "test_init_ops = []\n",
    "\n",
    "for i in range(NUM_BRANCHES):\n",
    "    train_datasets.append(tf.data.Dataset.from_tensor_slices(train_data).\\\n",
    "        batch(batch_size).repeat().\\\n",
    "        shuffle(buffer_size=4*BATCH_SIZE))\n",
    "\n",
    "    test_datasets.append(tf.data.Dataset.from_tensor_slices(test_data).\\\n",
    "        batch(batch_size))\n",
    "    \n",
    "    iterator = tf.data.Iterator.from_structure(train_datasets[i].output_types, \n",
    "                                           train_datasets[i].output_shapes)\n",
    "    inputs[i], labels_one_hot[i] = iterator.get_next(name='input_'+str(i+1))    \n",
    "\n",
    "    train_init_ops.append(iterator.make_initializer(train_datasets[i]))\n",
    "    test_init_ops.append(iterator.make_initializer(test_datasets[i], \n",
    "                                                name='test_init_op_'+str(i+1)))"
   ]
  },
  {
   "cell_type": "code",
   "execution_count": 9,
   "metadata": {},
   "outputs": [],
   "source": [
    "if architecture == 'fcn':\n",
    "    model = vb.vbranch_simple_fcn(inputs,\n",
    "        ([128]*NUM_BRANCHES, int(128*SHARED_FRAC)), ([10]*NUM_BRANCHES, int(10*SHARED_FRAC)),\n",
    "        branches=NUM_BRANCHES, name='model_' + str(model_id))\n",
    "elif architecture == 'cnn':\n",
    "    model = vb.vbranch_simple_cnn(inputs, (num_classes, 0),\n",
    "        ([16]*NUM_BRANCHES, int(16*SHARED_FRAC)), ([32]*NUM_BRANCHES, int(32*SHARED_FRAC)),\n",
    "        branches=NUM_BRANCHES, name='model_' + str(model_id))"
   ]
  },
  {
   "cell_type": "code",
   "execution_count": 10,
   "metadata": {},
   "outputs": [
    {
     "name": "stdout",
     "output_type": "stream",
     "text": [
      "i   Layer name         Output shape         Num param  Inbound            \n",
      "--------------------------------------------------------------------------\n",
      "    Input              [None,28,28,1]                                     \n",
      "--------------------------------------------------------------------------\n",
      "    Input              [None,28,28,1]                                     \n",
      "--------------------------------------------------------------------------\n",
      "    Input              [None,28,28,1]                                     \n",
      "--------------------------------------------------------------------------\n",
      "0   conv2d_1_1         [None,26,26,16] []   160        input              \n",
      "                       [None,26,26,16] []                                 \n",
      "                       [None,26,26,16] []                                 \n",
      "--------------------------------------------------------------------------\n",
      "1   bn_1_1             [None,26,26,16] []   32         conv2d_1_1         \n",
      "                       [None,26,26,16] []                                 \n",
      "                       [None,26,26,16] []                                 \n",
      "--------------------------------------------------------------------------\n",
      "2   relu_1_1           [None,26,26,16] []   0          bn_1_1             \n",
      "                       [None,26,26,16] []                                 \n",
      "                       [None,26,26,16] []                                 \n",
      "--------------------------------------------------------------------------\n",
      "3   conv2d_1_2         [None,24,24,16] []   2320       relu_1_1           \n",
      "                       [None,24,24,16] []                                 \n",
      "                       [None,24,24,16] []                                 \n",
      "--------------------------------------------------------------------------\n",
      "4   bn_1_2             [None,24,24,16] []   32         conv2d_1_2         \n",
      "                       [None,24,24,16] []                                 \n",
      "                       [None,24,24,16] []                                 \n",
      "--------------------------------------------------------------------------\n",
      "5   relu_1_2           [None,24,24,16] []   0          bn_1_2             \n",
      "                       [None,24,24,16] []                                 \n",
      "                       [None,24,24,16] []                                 \n",
      "--------------------------------------------------------------------------\n",
      "6   avg_pool2d_1       [None,12,12,16] []   0          relu_1_2           \n",
      "                       [None,12,12,16] []                                 \n",
      "                       [None,12,12,16] []                                 \n",
      "--------------------------------------------------------------------------\n",
      "7   conv2d_2_1         [None,10,10,32] []   4640       avg_pool2d_1       \n",
      "                       [None,10,10,32] []                                 \n",
      "                       [None,10,10,32] []                                 \n",
      "--------------------------------------------------------------------------\n",
      "8   bn_2_1             [None,10,10,32] []   64         conv2d_2_1         \n",
      "                       [None,10,10,32] []                                 \n",
      "                       [None,10,10,32] []                                 \n",
      "--------------------------------------------------------------------------\n",
      "9   relu_2_1           [None,10,10,32] []   0          bn_2_1             \n",
      "                       [None,10,10,32] []                                 \n",
      "                       [None,10,10,32] []                                 \n",
      "--------------------------------------------------------------------------\n",
      "10  conv2d_2_2         [None,8,8,32] []     9248       relu_2_1           \n",
      "                       [None,8,8,32] []                                   \n",
      "                       [None,8,8,32] []                                   \n",
      "--------------------------------------------------------------------------\n",
      "11  bn_2_2             [None,8,8,32] []     64         conv2d_2_2         \n",
      "                       [None,8,8,32] []                                   \n",
      "                       [None,8,8,32] []                                   \n",
      "--------------------------------------------------------------------------\n",
      "12  relu_2_2           [None,8,8,32] []     0          bn_2_2             \n",
      "                       [None,8,8,32] []                                   \n",
      "                       [None,8,8,32] []                                   \n",
      "--------------------------------------------------------------------------\n",
      "13  global_avg_pool2d  [None,32] []         0          relu_2_2           \n",
      "                       [None,32] []                                       \n",
      "                       [None,32] []                                       \n",
      "--------------------------------------------------------------------------\n",
      "14  fc1                [None,32] []         1056       global_avg_pool2d  \n",
      "                       [None,32] []                                       \n",
      "                       [None,32] []                                       \n",
      "--------------------------------------------------------------------------\n",
      "15  bn_fc1             [None,32] []         64         fc1                \n",
      "                       [None,32] []                                       \n",
      "                       [None,32] []                                       \n",
      "--------------------------------------------------------------------------\n",
      "16  relu_fc1           [None,32] []         0          bn_fc1             \n",
      "                       [None,32] []                                       \n",
      "                       [None,32] []                                       \n",
      "--------------------------------------------------------------------------\n",
      "17  output             [None,10]            990        relu_fc1           \n",
      "                       [None,10]                                          \n",
      "                       [None,10]                                          \n",
      "--------------------------------------------------------------------------\n",
      "Total parameters: 18670\n"
     ]
    }
   ],
   "source": [
    "model.summary()"
   ]
  },
  {
   "cell_type": "code",
   "execution_count": 11,
   "metadata": {
    "scrolled": false
   },
   "outputs": [
    {
     "data": {
      "text/plain": [
       "[<tf.Variable 'model_1/conv2d_1_1_shared_to_shared_f:0' shape=(3, 3, 1, 16) dtype=float32_ref>,\n",
       " <tf.Variable 'model_1/conv2d_1_1_shared_to_shared_b:0' shape=(16,) dtype=float32_ref>,\n",
       " <tf.Variable 'model_1/bn_1_1_shared_to_shared_scale:0' shape=(16,) dtype=float32_ref>,\n",
       " <tf.Variable 'model_1/bn_1_1_shared_to_shared_beta:0' shape=(16,) dtype=float32_ref>,\n",
       " <tf.Variable 'model_1/conv2d_1_2_shared_to_shared_f:0' shape=(3, 3, 16, 16) dtype=float32_ref>,\n",
       " <tf.Variable 'model_1/conv2d_1_2_shared_to_shared_b:0' shape=(16,) dtype=float32_ref>,\n",
       " <tf.Variable 'model_1/bn_1_2_shared_to_shared_scale:0' shape=(16,) dtype=float32_ref>,\n",
       " <tf.Variable 'model_1/bn_1_2_shared_to_shared_beta:0' shape=(16,) dtype=float32_ref>,\n",
       " <tf.Variable 'model_1/conv2d_2_1_shared_to_shared_f:0' shape=(3, 3, 16, 32) dtype=float32_ref>,\n",
       " <tf.Variable 'model_1/conv2d_2_1_shared_to_shared_b:0' shape=(32,) dtype=float32_ref>,\n",
       " <tf.Variable 'model_1/bn_2_1_shared_to_shared_scale:0' shape=(32,) dtype=float32_ref>,\n",
       " <tf.Variable 'model_1/bn_2_1_shared_to_shared_beta:0' shape=(32,) dtype=float32_ref>,\n",
       " <tf.Variable 'model_1/conv2d_2_2_shared_to_shared_f:0' shape=(3, 3, 32, 32) dtype=float32_ref>,\n",
       " <tf.Variable 'model_1/conv2d_2_2_shared_to_shared_b:0' shape=(32,) dtype=float32_ref>,\n",
       " <tf.Variable 'model_1/bn_2_2_shared_to_shared_scale:0' shape=(32,) dtype=float32_ref>,\n",
       " <tf.Variable 'model_1/bn_2_2_shared_to_shared_beta:0' shape=(32,) dtype=float32_ref>,\n",
       " <tf.Variable 'model_1/fc1_shared_to_shared_w:0' shape=(32, 32) dtype=float32_ref>,\n",
       " <tf.Variable 'model_1/fc1_shared_to_shared_b:0' shape=(32,) dtype=float32_ref>,\n",
       " <tf.Variable 'model_1/bn_fc1_shared_to_shared_scale:0' shape=(32,) dtype=float32_ref>,\n",
       " <tf.Variable 'model_1/bn_fc1_shared_to_shared_beta:0' shape=(32,) dtype=float32_ref>,\n",
       " <tf.Variable 'model_1/output_vb1_w:0' shape=(32, 10) dtype=float32_ref>,\n",
       " <tf.Variable 'model_1/output_vb1_b:0' shape=(10,) dtype=float32_ref>,\n",
       " <tf.Variable 'model_1/output_vb2_w:0' shape=(32, 10) dtype=float32_ref>,\n",
       " <tf.Variable 'model_1/output_vb2_b:0' shape=(10,) dtype=float32_ref>,\n",
       " <tf.Variable 'model_1/output_vb3_w:0' shape=(32, 10) dtype=float32_ref>,\n",
       " <tf.Variable 'model_1/output_vb3_b:0' shape=(10,) dtype=float32_ref>]"
      ]
     },
     "execution_count": 11,
     "metadata": {},
     "output_type": "execute_result"
    }
   ],
   "source": [
    "tf.global_variables()"
   ]
  },
  {
   "cell_type": "code",
   "execution_count": 12,
   "metadata": {},
   "outputs": [],
   "source": [
    "optimizer = tf.train.AdamOptimizer(learning_rate=0.001)\n",
    "\n",
    "# Get training ops\n",
    "model.compile(optimizer, 'softmax_cross_entropy_with_logits', labels_one_hot=labels_one_hot)"
   ]
  },
  {
   "cell_type": "markdown",
   "metadata": {},
   "source": [
    "### Run Ops"
   ]
  },
  {
   "cell_type": "code",
   "execution_count": 13,
   "metadata": {},
   "outputs": [
    {
     "name": "stdout",
     "output_type": "stream",
     "text": [
      "Epoch 1/10\n",
      "100/100 [==============================] - 6s 64ms/step - loss_1: 1.5428 - loss_2: 1.6175 - loss_3: 1.5185 - acc_1: 0.5363 - acc_2: 0.5081 - acc_3: 0.5269 - val_loss: 0.8062 - val_acc: 0.9028 - ind_acc_1: 0.8344 - ind_acc_2: 0.8471 - ind_acc_3: 0.8472\n",
      "Epoch 2/10\n",
      "100/100 [==============================] - 1s 13ms/step - loss_1: 0.5592 - loss_2: 0.5475 - loss_3: 0.5250 - acc_1: 0.8966 - acc_2: 0.8872 - acc_3: 0.8981 - val_loss: 0.2877 - val_acc: 0.9542 - ind_acc_1: 0.9481 - ind_acc_2: 0.9456 - ind_acc_3: 0.9486\n",
      "Epoch 3/10\n",
      "100/100 [==============================] - 1s 13ms/step - loss_1: 0.2364 - loss_2: 0.2351 - loss_3: 0.2344 - acc_1: 0.9522 - acc_2: 0.9578 - acc_3: 0.9503 - val_loss: 0.1722 - val_acc: 0.9651 - ind_acc_1: 0.9623 - ind_acc_2: 0.9629 - ind_acc_3: 0.9601\n",
      "Epoch 4/10\n",
      "100/100 [==============================] - 1s 12ms/step - loss_1: 0.1470 - loss_2: 0.1594 - loss_3: 0.1523 - acc_1: 0.9731 - acc_2: 0.9681 - acc_3: 0.9694 - val_loss: 0.1325 - val_acc: 0.9699 - ind_acc_1: 0.9693 - ind_acc_2: 0.9682 - ind_acc_3: 0.9680\n",
      "Epoch 5/10\n",
      "100/100 [==============================] - 1s 12ms/step - loss_1: 0.1090 - loss_2: 0.1053 - loss_3: 0.0939 - acc_1: 0.9781 - acc_2: 0.9806 - acc_3: 0.9819 - val_loss: 0.1089 - val_acc: 0.9723 - ind_acc_1: 0.9721 - ind_acc_2: 0.9710 - ind_acc_3: 0.9720\n",
      "Epoch 6/10\n",
      "100/100 [==============================] - 1s 12ms/step - loss_1: 0.0751 - loss_2: 0.0809 - loss_3: 0.0716 - acc_1: 0.9878 - acc_2: 0.9853 - acc_3: 0.9866 - val_loss: 0.0974 - val_acc: 0.9763 - ind_acc_1: 0.9741 - ind_acc_2: 0.9730 - ind_acc_3: 0.9736\n",
      "Epoch 7/10\n",
      "100/100 [==============================] - 1s 12ms/step - loss_1: 0.0522 - loss_2: 0.0523 - loss_3: 0.0515 - acc_1: 0.9931 - acc_2: 0.9922 - acc_3: 0.9906 - val_loss: 0.1001 - val_acc: 0.9717 - ind_acc_1: 0.9713 - ind_acc_2: 0.9705 - ind_acc_3: 0.9709\n",
      "Epoch 8/10\n",
      "100/100 [==============================] - 1s 13ms/step - loss_1: 0.0412 - loss_2: 0.0399 - loss_3: 0.0428 - acc_1: 0.9947 - acc_2: 0.9941 - acc_3: 0.9931 - val_loss: 0.0838 - val_acc: 0.9746 - ind_acc_1: 0.9739 - ind_acc_2: 0.9738 - ind_acc_3: 0.9752\n",
      "Epoch 9/10\n",
      "100/100 [==============================] - 1s 12ms/step - loss_1: 0.0285 - loss_2: 0.0266 - loss_3: 0.0242 - acc_1: 0.9972 - acc_2: 0.9988 - acc_3: 0.9984 - val_loss: 0.0802 - val_acc: 0.9765 - ind_acc_1: 0.9759 - ind_acc_2: 0.9754 - ind_acc_3: 0.9759\n",
      "Epoch 10/10\n",
      "100/100 [==============================] - 1s 12ms/step - loss_1: 0.0239 - loss_2: 0.0191 - loss_3: 0.0168 - acc_1: 0.9978 - acc_2: 0.9988 - acc_3: 1.0000 - val_loss: 0.0870 - val_acc: 0.9742 - ind_acc_1: 0.9743 - ind_acc_2: 0.9739 - ind_acc_3: 0.9734\n"
     ]
    }
   ],
   "source": [
    "with tf.Session() as sess:\n",
    "    sess.run(tf.global_variables_initializer())\n",
    "\n",
    "    for e in range(EPOCHS):\n",
    "        print(\"Epoch {}/{}\".format(e + 1, EPOCHS))\n",
    "        progbar = tf.keras.utils.Progbar(STEPS_PER_EPOCH)\n",
    "        \n",
    "        sess.run(train_init_ops, feed_dict={batch_size: BATCH_SIZE})\n",
    "\n",
    "        for i in range(STEPS_PER_EPOCH):\n",
    "            _, train_losses, train_accs = sess.run([model.train_ops, model.losses, \n",
    "                                                    model.train_accs])\n",
    "            \n",
    "            prog_vals = [('loss_'+str(b+1),train_losses[b]) for b in range(NUM_BRANCHES)]\n",
    "            prog_vals += [('acc_'+str(b+1),train_accs[b]) for b in range(NUM_BRANCHES)]\n",
    "            \n",
    "            if i == STEPS_PER_EPOCH - 1:\n",
    "                sess.run(test_init_ops, feed_dict={batch_size: len(X_test)})\n",
    "                val_losses, val_acc, indiv_accs = sess.run([model.losses, model.test_acc, \n",
    "                                                            model.train_accs])\n",
    "                \n",
    "                prog_vals += [(\"val_loss\", np.mean(val_losses)), (\"val_acc\", val_acc)] + \\\n",
    "                    [('ind_acc_'+str(b+1), indiv_accs[b]) for b in range(NUM_BRANCHES)]\n",
    "            \n",
    "            progbar.update(i+1, values=prog_vals)\n",
    "    \n",
    "    if save:\n",
    "        saver = tf.train.Saver()\n",
    "        path = os.path.join(model_path, 'ckpt')\n",
    "        saver.save(sess, path)"
   ]
  },
  {
   "cell_type": "markdown",
   "metadata": {},
   "source": [
    "## Load Model"
   ]
  },
  {
   "cell_type": "code",
   "execution_count": null,
   "metadata": {},
   "outputs": [],
   "source": [
    "test_init_ops = ['test_init_op_'+str(i+1) for i in range(NUM_BRANCHES)]\n",
    "losses = ['loss_'+str(i+1)+':0' for i in range(NUM_BRANCHES)]\n",
    "train_acc_ops = ['train_acc_'+str(i+1)+':0' for i in range(NUM_BRANCHES)]\n",
    "\n",
    "inputs = ['input_{}:0'.format(i+1) for i in range(NUM_BRANCHES)]\n",
    "labels_one_hot = ['input_{}:1'.format(i+1) for i in range(NUM_BRANCHES)]\n",
    "outputs = ['model_{}/output_vb{}:0'.format(model_id, i+1) for i in range(NUM_BRANCHES)]"
   ]
  },
  {
   "cell_type": "code",
   "execution_count": null,
   "metadata": {},
   "outputs": [],
   "source": [
    "with tf.Session() as sess:\n",
    "    model_path = os.path.join('models', 'vb-mnist-{}-B{:d}-S{:.2f}_{:d}'.format(architecture,\n",
    "        NUM_BRANCHES, SHARED_FRAC, model_id))\n",
    "    meta_path = os.path.join(model_path, 'ckpt.meta')\n",
    "    ckpt = tf.train.get_checkpoint_state(model_path)\n",
    "\n",
    "    imported_graph = tf.train.import_meta_graph(meta_path)\n",
    "    imported_graph.restore(sess, ckpt.model_checkpoint_path)\n",
    "\n",
    "    sess.run(test_init_ops, feed_dict={'batch_size:0': len(X_test)})\n",
    "    val_losses, val_acc, indiv_accs = sess.run([losses, 'test_acc:0', train_acc_ops])\n",
    "    \n",
    "    sample_size = 250\n",
    "    sess.run(test_init_ops, feed_dict={'batch_size:0':sample_size})\n",
    "    X_test_samples, y_test_samples, features = sess.run([inputs, labels_one_hot, outputs])"
   ]
  },
  {
   "cell_type": "code",
   "execution_count": null,
   "metadata": {},
   "outputs": [],
   "source": [
    "print('Loss:', np.mean(val_losses))\n",
    "print('Acc:', val_acc)\n",
    "print('Indiv accs:', indiv_accs)"
   ]
  },
  {
   "cell_type": "markdown",
   "metadata": {},
   "source": [
    "## Feature Visualization"
   ]
  },
  {
   "cell_type": "code",
   "execution_count": null,
   "metadata": {},
   "outputs": [],
   "source": [
    "mean_features = np.mean(features, axis=0)\n",
    "print(mean_features.shape)"
   ]
  },
  {
   "cell_type": "code",
   "execution_count": null,
   "metadata": {},
   "outputs": [],
   "source": [
    "start = time.time()\n",
    "tsne = TSNE(n_components=2, verbose=1, perplexity=40, n_iter=300)\n",
    "tsne_results = tsne.fit_transform(mean_features)\n",
    "\n",
    "print('t-SNE done! Time elapsed: {} seconds'.format(time.time()-start))"
   ]
  },
  {
   "cell_type": "code",
   "execution_count": null,
   "metadata": {},
   "outputs": [],
   "source": [
    "labels = np.argmax(y_test_samples[0], axis=-1)"
   ]
  },
  {
   "cell_type": "code",
   "execution_count": null,
   "metadata": {},
   "outputs": [],
   "source": [
    "plt.scatter(tsne_results[:,0], tsne_results[:,1], c=labels, cmap=plt.cm.jet)\n",
    "plt.colorbar()\n",
    "plt.show()"
   ]
  },
  {
   "cell_type": "code",
   "execution_count": null,
   "metadata": {},
   "outputs": [],
   "source": []
  }
 ],
 "metadata": {
  "kernelspec": {
   "display_name": "Python 3",
   "language": "python",
   "name": "python3"
  },
  "language_info": {
   "codemirror_mode": {
    "name": "ipython",
    "version": 3
   },
   "file_extension": ".py",
   "mimetype": "text/x-python",
   "name": "python",
   "nbconvert_exporter": "python",
   "pygments_lexer": "ipython3",
   "version": "3.5.6"
  }
 },
 "nbformat": 4,
 "nbformat_minor": 2
}
