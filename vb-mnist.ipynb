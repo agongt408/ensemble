{
 "cells": [
  {
   "cell_type": "markdown",
   "metadata": {},
   "source": [
    "# MNIST with Virtual Branching"
   ]
  },
  {
   "cell_type": "code",
   "execution_count": 1,
   "metadata": {},
   "outputs": [],
   "source": [
    "import tensorflow as tf\n",
    "import numpy as np\n",
    "import os\n",
    "from scipy.special import softmax\n",
    "import matplotlib.pyplot as plt\n",
    "import time\n",
    "from sklearn.manifold import TSNE"
   ]
  },
  {
   "cell_type": "code",
   "execution_count": 2,
   "metadata": {},
   "outputs": [],
   "source": [
    "import vbranch as vb"
   ]
  },
  {
   "cell_type": "code",
   "execution_count": 3,
   "metadata": {},
   "outputs": [],
   "source": [
    "save = False\n",
    "model_id = 1\n",
    "architecture = 'cnn'"
   ]
  },
  {
   "cell_type": "markdown",
   "metadata": {},
   "source": [
    "## Load Data"
   ]
  },
  {
   "cell_type": "code",
   "execution_count": 4,
   "metadata": {},
   "outputs": [],
   "source": [
    "num_classes = 10\n",
    "(X_train, y_train_one_hot), (X_test, y_test_one_hot) = vb.datasets.mnist.load_data(format=architecture)"
   ]
  },
  {
   "cell_type": "code",
   "execution_count": 5,
   "metadata": {},
   "outputs": [],
   "source": [
    "x_shape = (None,) + X_train.shape[1:]\n",
    "y_shape = (None, num_classes)"
   ]
  },
  {
   "cell_type": "markdown",
   "metadata": {},
   "source": [
    "## Train"
   ]
  },
  {
   "cell_type": "markdown",
   "metadata": {},
   "source": [
    "### Build Model"
   ]
  },
  {
   "cell_type": "code",
   "execution_count": 6,
   "metadata": {},
   "outputs": [],
   "source": [
    "BATCH_SIZE = 32\n",
    "EPOCHS = 10\n",
    "STEPS_PER_EPOCH = 100\n",
    "NUM_BRANCHES = 3\n",
    "SHARED_FRAC = 0\n",
    "model_path = os.path.join('models', 'vb-mnist-{}-B{:d}-S{:.2f}_{:d}'.format(architecture,\n",
    "    NUM_BRANCHES, SHARED_FRAC, model_id))"
   ]
  },
  {
   "cell_type": "code",
   "execution_count": 7,
   "metadata": {},
   "outputs": [
    {
     "data": {
      "text/plain": [
       "'models/vb-mnist-cnn-B3-S0.00_1'"
      ]
     },
     "execution_count": 7,
     "metadata": {},
     "output_type": "execute_result"
    }
   ],
   "source": [
    "model_path"
   ]
  },
  {
   "cell_type": "code",
   "execution_count": 8,
   "metadata": {},
   "outputs": [],
   "source": [
    "tf.reset_default_graph()\n",
    "\n",
    "x = tf.placeholder('float32', x_shape, name='x')\n",
    "y = tf.placeholder('float32', y_shape, name='y')\n",
    "\n",
    "batch_size = tf.placeholder('int64', name='batch_size')\n",
    "\n",
    "iterators = [None] * NUM_BRANCHES\n",
    "inputs = [None] * NUM_BRANCHES\n",
    "labels_one_hot = [None] * NUM_BRANCHES\n",
    "\n",
    "for i in range(NUM_BRANCHES):\n",
    "    dataset = tf.data.Dataset.from_tensor_slices((x,y)).\\\n",
    "        batch(batch_size).repeat().shuffle(buffer_size=4*BATCH_SIZE)\n",
    "\n",
    "    iterators[i] = dataset.make_initializable_iterator()\n",
    "    inputs[i], labels_one_hot[i] = iterators[i].get_next('input')"
   ]
  },
  {
   "cell_type": "code",
   "execution_count": 9,
   "metadata": {},
   "outputs": [],
   "source": [
    "def build_model(architecture,inputs,labels, num_classes,num_branches,model_id,\n",
    "        shared_frac, test=False):\n",
    "        \n",
    "    if architecture == 'fcn':\n",
    "        model = vb.vbranch_simple_fcn(inputs,\n",
    "            ([128]*num_branches, int(128*shared_frac)),\n",
    "            ([10]*num_branches, int(10*shared_frac)),\n",
    "            branches=num_branches, name='model_' + str(model_id))\n",
    "    elif architecture == 'cnn':\n",
    "        model = vb.vbranch_simple_cnn(inputs, (num_classes, 0),\n",
    "            ([16]*num_branches, int(16*shared_frac)),\n",
    "            ([32]*num_branches, int(32*shared_frac)),\n",
    "            branches=num_branches, name='model_' + str(model_id))\n",
    "    else:\n",
    "        raise ValueError('invalid model')\n",
    "\n",
    "    optimizer = tf.train.AdamOptimizer(learning_rate=0.001)\n",
    "    model.compile(optimizer, 'softmax_cross_entropy_with_logits',\n",
    "                    labels_one_hot=labels, test=test)\n",
    "#     if not test:\n",
    "    model.summary()\n",
    "\n",
    "    return model"
   ]
  },
  {
   "cell_type": "code",
   "execution_count": 10,
   "metadata": {},
   "outputs": [
    {
     "name": "stdout",
     "output_type": "stream",
     "text": [
      "i   Layer name         Output shape      Num param  Inbound            \n",
      "-----------------------------------------------------------------------\n",
      "    Input              [None,28,28,1]                                  \n",
      "-----------------------------------------------------------------------\n",
      "    Input              [None,28,28,1]                                  \n",
      "-----------------------------------------------------------------------\n",
      "    Input              [None,28,28,1]                                  \n",
      "-----------------------------------------------------------------------\n",
      "0   conv2d_1_1         [None,26,26,16]   480        input              \n",
      "                       [None,26,26,16]                                 \n",
      "                       [None,26,26,16]                                 \n",
      "-----------------------------------------------------------------------\n",
      "1   bn_1_1             [None,26,26,16]   96         conv2d_1_1         \n",
      "                       [None,26,26,16]                                 \n",
      "                       [None,26,26,16]                                 \n",
      "-----------------------------------------------------------------------\n",
      "2   relu_1_1           [None,26,26,16]   0          bn_1_1             \n",
      "                       [None,26,26,16]                                 \n",
      "                       [None,26,26,16]                                 \n",
      "-----------------------------------------------------------------------\n",
      "3   conv2d_1_2         [None,24,24,16]   6960       relu_1_1           \n",
      "                       [None,24,24,16]                                 \n",
      "                       [None,24,24,16]                                 \n",
      "-----------------------------------------------------------------------\n",
      "4   bn_1_2             [None,24,24,16]   96         conv2d_1_2         \n",
      "                       [None,24,24,16]                                 \n",
      "                       [None,24,24,16]                                 \n",
      "-----------------------------------------------------------------------\n",
      "5   relu_1_2           [None,24,24,16]   0          bn_1_2             \n",
      "                       [None,24,24,16]                                 \n",
      "                       [None,24,24,16]                                 \n",
      "-----------------------------------------------------------------------\n",
      "6   avg_pool2d_1       [None,12,12,16]   0          relu_1_2           \n",
      "                       [None,12,12,16]                                 \n",
      "                       [None,12,12,16]                                 \n",
      "-----------------------------------------------------------------------\n",
      "7   conv2d_2_1         [None,10,10,32]   13920      avg_pool2d_1       \n",
      "                       [None,10,10,32]                                 \n",
      "                       [None,10,10,32]                                 \n",
      "-----------------------------------------------------------------------\n",
      "8   bn_2_1             [None,10,10,32]   192        conv2d_2_1         \n",
      "                       [None,10,10,32]                                 \n",
      "                       [None,10,10,32]                                 \n",
      "-----------------------------------------------------------------------\n",
      "9   relu_2_1           [None,10,10,32]   0          bn_2_1             \n",
      "                       [None,10,10,32]                                 \n",
      "                       [None,10,10,32]                                 \n",
      "-----------------------------------------------------------------------\n",
      "10  conv2d_2_2         [None,8,8,32]     27744      relu_2_1           \n",
      "                       [None,8,8,32]                                   \n",
      "                       [None,8,8,32]                                   \n",
      "-----------------------------------------------------------------------\n",
      "11  bn_2_2             [None,8,8,32]     192        conv2d_2_2         \n",
      "                       [None,8,8,32]                                   \n",
      "                       [None,8,8,32]                                   \n",
      "-----------------------------------------------------------------------\n",
      "12  relu_2_2           [None,8,8,32]     0          bn_2_2             \n",
      "                       [None,8,8,32]                                   \n",
      "                       [None,8,8,32]                                   \n",
      "-----------------------------------------------------------------------\n",
      "13  global_avg_pool2d  [None,32]         0          relu_2_2           \n",
      "                       [None,32]                                       \n",
      "                       [None,32]                                       \n",
      "-----------------------------------------------------------------------\n",
      "14  fc1                [None,32]         3168       global_avg_pool2d  \n",
      "                       [None,32]                                       \n",
      "                       [None,32]                                       \n",
      "-----------------------------------------------------------------------\n",
      "15  bn_fc1             [None,32]         192        fc1                \n",
      "                       [None,32]                                       \n",
      "                       [None,32]                                       \n",
      "-----------------------------------------------------------------------\n",
      "16  relu_fc1           [None,32]         0          bn_fc1             \n",
      "                       [None,32]                                       \n",
      "                       [None,32]                                       \n",
      "-----------------------------------------------------------------------\n",
      "17  output             [None,10]         990        relu_fc1           \n",
      "                       [None,10]                                       \n",
      "                       [None,10]                                       \n",
      "-----------------------------------------------------------------------\n",
      "Total parameters: 54030\n"
     ]
    }
   ],
   "source": [
    "model = build_model(architecture, inputs, labels_one_hot, num_classes,\n",
    "        NUM_BRANCHES, model_id, SHARED_FRAC)"
   ]
  },
  {
   "cell_type": "code",
   "execution_count": 11,
   "metadata": {},
   "outputs": [
    {
     "name": "stdout",
     "output_type": "stream",
     "text": [
      "i   Layer name         Output shape      Num param  Inbound            \n",
      "-----------------------------------------------------------------------\n",
      "    Input              [None,28,28,1]                                  \n",
      "-----------------------------------------------------------------------\n",
      "    Input              [None,28,28,1]                                  \n",
      "-----------------------------------------------------------------------\n",
      "    Input              [None,28,28,1]                                  \n",
      "-----------------------------------------------------------------------\n",
      "0   conv2d_1_1         [None,26,26,16]   480        input              \n",
      "                       [None,26,26,16]                                 \n",
      "                       [None,26,26,16]                                 \n",
      "-----------------------------------------------------------------------\n",
      "1   bn_1_1             [None,26,26,16]   96         conv2d_1_1         \n",
      "                       [None,26,26,16]                                 \n",
      "                       [None,26,26,16]                                 \n",
      "-----------------------------------------------------------------------\n",
      "2   relu_1_1           [None,26,26,16]   0          bn_1_1             \n",
      "                       [None,26,26,16]                                 \n",
      "                       [None,26,26,16]                                 \n",
      "-----------------------------------------------------------------------\n",
      "3   conv2d_1_2         [None,24,24,16]   6960       relu_1_1           \n",
      "                       [None,24,24,16]                                 \n",
      "                       [None,24,24,16]                                 \n",
      "-----------------------------------------------------------------------\n",
      "4   bn_1_2             [None,24,24,16]   96         conv2d_1_2         \n",
      "                       [None,24,24,16]                                 \n",
      "                       [None,24,24,16]                                 \n",
      "-----------------------------------------------------------------------\n",
      "5   relu_1_2           [None,24,24,16]   0          bn_1_2             \n",
      "                       [None,24,24,16]                                 \n",
      "                       [None,24,24,16]                                 \n",
      "-----------------------------------------------------------------------\n",
      "6   avg_pool2d_1       [None,12,12,16]   0          relu_1_2           \n",
      "                       [None,12,12,16]                                 \n",
      "                       [None,12,12,16]                                 \n",
      "-----------------------------------------------------------------------\n",
      "7   conv2d_2_1         [None,10,10,32]   13920      avg_pool2d_1       \n",
      "                       [None,10,10,32]                                 \n",
      "                       [None,10,10,32]                                 \n",
      "-----------------------------------------------------------------------\n",
      "8   bn_2_1             [None,10,10,32]   192        conv2d_2_1         \n",
      "                       [None,10,10,32]                                 \n",
      "                       [None,10,10,32]                                 \n",
      "-----------------------------------------------------------------------\n",
      "9   relu_2_1           [None,10,10,32]   0          bn_2_1             \n",
      "                       [None,10,10,32]                                 \n",
      "                       [None,10,10,32]                                 \n",
      "-----------------------------------------------------------------------\n",
      "10  conv2d_2_2         [None,8,8,32]     27744      relu_2_1           \n",
      "                       [None,8,8,32]                                   \n",
      "                       [None,8,8,32]                                   \n",
      "-----------------------------------------------------------------------\n",
      "11  bn_2_2             [None,8,8,32]     192        conv2d_2_2         \n",
      "                       [None,8,8,32]                                   \n",
      "                       [None,8,8,32]                                   \n",
      "-----------------------------------------------------------------------\n",
      "12  relu_2_2           [None,8,8,32]     0          bn_2_2             \n",
      "                       [None,8,8,32]                                   \n",
      "                       [None,8,8,32]                                   \n",
      "-----------------------------------------------------------------------\n",
      "13  global_avg_pool2d  [None,32]         0          relu_2_2           \n",
      "                       [None,32]                                       \n",
      "                       [None,32]                                       \n",
      "-----------------------------------------------------------------------\n",
      "14  fc1                [None,32]         3168       global_avg_pool2d  \n",
      "                       [None,32]                                       \n",
      "                       [None,32]                                       \n",
      "-----------------------------------------------------------------------\n",
      "15  bn_fc1             [None,32]         192        fc1                \n",
      "                       [None,32]                                       \n",
      "                       [None,32]                                       \n",
      "-----------------------------------------------------------------------\n",
      "16  relu_fc1           [None,32]         0          bn_fc1             \n",
      "                       [None,32]                                       \n",
      "                       [None,32]                                       \n",
      "-----------------------------------------------------------------------\n",
      "17  output             [None,10]         990        relu_fc1           \n",
      "                       [None,10]                                       \n",
      "                       [None,10]                                       \n",
      "-----------------------------------------------------------------------\n",
      "Total parameters: 54030\n"
     ]
    }
   ],
   "source": [
    "# Build copy of model for testing\n",
    "x_place = tf.placeholder('float32', x_shape, name='x_test')\n",
    "y_place = tf.placeholder('float32', y_shape, name='y_test')\n",
    "test_model = build_model(architecture, x_place, [y_place]*NUM_BRANCHES, num_classes,\n",
    "    NUM_BRANCHES, model_id, SHARED_FRAC, test=True)"
   ]
  },
  {
   "cell_type": "code",
   "execution_count": 12,
   "metadata": {},
   "outputs": [
    {
     "data": {
      "text/plain": [
       "{'acc_1': <tf.Tensor 'acc_1_1:0' shape=() dtype=float32>,\n",
       " 'acc_2': <tf.Tensor 'acc_2_1:0' shape=() dtype=float32>,\n",
       " 'acc_3': <tf.Tensor 'acc_3_1:0' shape=() dtype=float32>,\n",
       " 'acc': <tf.Tensor 'acc_4:0' shape=() dtype=float32>}"
      ]
     },
     "execution_count": 12,
     "metadata": {},
     "output_type": "execute_result"
    }
   ],
   "source": [
    "test_model.accs"
   ]
  },
  {
   "cell_type": "markdown",
   "metadata": {},
   "source": [
    "### Run Ops"
   ]
  },
  {
   "cell_type": "code",
   "execution_count": 12,
   "metadata": {},
   "outputs": [
    {
     "name": "stdout",
     "output_type": "stream",
     "text": [
      "Epoch 1/10\n",
      " - 46s - train_loss_1: 1.2887 - train_loss_2: 1.2619 - train_loss_3: 1.2795 - train_acc_1: 0.6375 - train_acc_2: 0.6434 - train_acc_3: 0.6494 - train_acc: 0.3162 - val_loss_1: 0.5735 - val_loss_2: 0.5778 - val_loss_3: 0.5920 - val_acc_1: 0.9091 - val_acc_2: 0.8841 - val_acc_3: 0.9036 - val_acc: 0.9314\n",
      "Epoch 2/10\n",
      " - 45s - train_loss_1: 0.4788 - train_loss_2: 0.4805 - train_loss_3: 0.5005 - train_acc_1: 0.9009 - train_acc_2: 0.8959 - train_acc_3: 0.8916 - train_acc: 0.4034 - val_loss_1: 0.2872 - val_loss_2: 0.3199 - val_loss_3: 0.3051 - val_acc_1: 0.9424 - val_acc_2: 0.9282 - val_acc_3: 0.9421 - val_acc: 0.9615\n",
      "Epoch 3/10\n",
      " - 38s - train_loss_1: 0.2963 - train_loss_2: 0.3007 - train_loss_3: 0.3100 - train_acc_1: 0.9331 - train_acc_2: 0.9297 - train_acc_3: 0.9341 - train_acc: 0.4228 - val_loss_1: 0.1980 - val_loss_2: 0.2265 - val_loss_3: 0.2210 - val_acc_1: 0.9551 - val_acc_2: 0.9443 - val_acc_3: 0.9507 - val_acc: 0.9663\n",
      "Epoch 4/10\n",
      " - 52s - train_loss_1: 0.2060 - train_loss_2: 0.2039 - train_loss_3: 0.2332 - train_acc_1: 0.9531 - train_acc_2: 0.9516 - train_acc_3: 0.9447 - train_acc: 0.4247 - val_loss_1: 0.1627 - val_loss_2: 0.1619 - val_loss_3: 0.2077 - val_acc_1: 0.9567 - val_acc_2: 0.9613 - val_acc_3: 0.9458 - val_acc: 0.9697\n",
      "Epoch 5/10\n",
      " - 50s - train_loss_1: 0.1678 - train_loss_2: 0.1685 - train_loss_3: 0.1861 - train_acc_1: 0.9569 - train_acc_2: 0.9613 - train_acc_3: 0.9522 - train_acc: 0.4150 - val_loss_1: 0.1699 - val_loss_2: 0.1804 - val_loss_3: 0.1475 - val_acc_1: 0.9526 - val_acc_2: 0.9510 - val_acc_3: 0.9617 - val_acc: 0.9709\n",
      "Epoch 6/10\n",
      " - 42s - train_loss_1: 0.1411 - train_loss_2: 0.1373 - train_loss_3: 0.1542 - train_acc_1: 0.9700 - train_acc_2: 0.9675 - train_acc_3: 0.9641 - train_acc: 0.4259 - val_loss_1: 0.1210 - val_loss_2: 0.1344 - val_loss_3: 0.1446 - val_acc_1: 0.9678 - val_acc_2: 0.9627 - val_acc_3: 0.9600 - val_acc: 0.9751\n",
      "Epoch 7/10\n",
      " - 54s - train_loss_1: 0.1218 - train_loss_2: 0.1310 - train_loss_3: 0.1326 - train_acc_1: 0.9691 - train_acc_2: 0.9703 - train_acc_3: 0.9666 - train_acc: 0.4122 - val_loss_1: 0.1277 - val_loss_2: 0.1318 - val_loss_3: 0.1273 - val_acc_1: 0.9624 - val_acc_2: 0.9633 - val_acc_3: 0.9659 - val_acc: 0.9766\n",
      "Epoch 8/10\n",
      " - 43s - train_loss_1: 0.1010 - train_loss_2: 0.0898 - train_loss_3: 0.1139 - train_acc_1: 0.9781 - train_acc_2: 0.9812 - train_acc_3: 0.9712 - train_acc: 0.4278 - val_loss_1: 0.1111 - val_loss_2: 0.1085 - val_loss_3: 0.1296 - val_acc_1: 0.9669 - val_acc_2: 0.9688 - val_acc_3: 0.9633 - val_acc: 0.9773\n",
      "Epoch 9/10\n",
      " - 50s - train_loss_1: 0.0837 - train_loss_2: 0.0809 - train_loss_3: 0.0976 - train_acc_1: 0.9819 - train_acc_2: 0.9822 - train_acc_3: 0.9738 - train_acc: 0.4203 - val_loss_1: 0.1123 - val_loss_2: 0.1073 - val_loss_3: 0.1108 - val_acc_1: 0.9640 - val_acc_2: 0.9658 - val_acc_3: 0.9684 - val_acc: 0.9784\n",
      "Epoch 10/10\n",
      " - 53s - train_loss_1: 0.0928 - train_loss_2: 0.0774 - train_loss_3: 0.0973 - train_acc_1: 0.9766 - train_acc_2: 0.9834 - train_acc_3: 0.9741 - train_acc: 0.4259 - val_loss_1: 0.0986 - val_loss_2: 0.1062 - val_loss_3: 0.1076 - val_acc_1: 0.9680 - val_acc_2: 0.9669 - val_acc_3: 0.9685 - val_acc: 0.9795\n"
     ]
    }
   ],
   "source": [
    "history = model.fit(iterators, X_train, y_train_one_hot, EPOCHS, STEPS_PER_EPOCH,\n",
    "        BATCH_SIZE, validation=(X_test, y_test_one_hot), test_model=test_model,\n",
    "        save_model_path=model_path)"
   ]
  },
  {
   "cell_type": "markdown",
   "metadata": {},
   "source": [
    "## Load Model"
   ]
  },
  {
   "cell_type": "code",
   "execution_count": null,
   "metadata": {},
   "outputs": [],
   "source": [
    "test_init_ops = ['test_init_op_'+str(i+1) for i in range(NUM_BRANCHES)]\n",
    "losses = ['loss_'+str(i+1)+':0' for i in range(NUM_BRANCHES)]\n",
    "train_acc_ops = ['train_acc_'+str(i+1)+':0' for i in range(NUM_BRANCHES)]\n",
    "\n",
    "inputs = ['input_{}:0'.format(i+1) for i in range(NUM_BRANCHES)]\n",
    "labels_one_hot = ['input_{}:1'.format(i+1) for i in range(NUM_BRANCHES)]\n",
    "outputs = ['model_{}/output_vb{}:0'.format(model_id, i+1) for i in range(NUM_BRANCHES)]"
   ]
  },
  {
   "cell_type": "code",
   "execution_count": null,
   "metadata": {},
   "outputs": [],
   "source": [
    "with tf.Session() as sess:\n",
    "    model_path = os.path.join('models', 'vb-mnist-{}-B{:d}-S{:.2f}_{:d}'.format(architecture,\n",
    "        NUM_BRANCHES, SHARED_FRAC, model_id))\n",
    "    meta_path = os.path.join(model_path, 'ckpt.meta')\n",
    "    ckpt = tf.train.get_checkpoint_state(model_path)\n",
    "\n",
    "    imported_graph = tf.train.import_meta_graph(meta_path)\n",
    "    imported_graph.restore(sess, ckpt.model_checkpoint_path)\n",
    "\n",
    "    sess.run(test_init_ops, feed_dict={'batch_size:0': len(X_test)})\n",
    "    val_losses, val_acc, indiv_accs = sess.run([losses, 'test_acc:0', train_acc_ops])\n",
    "    \n",
    "    sample_size = 250\n",
    "    sess.run(test_init_ops, feed_dict={'batch_size:0':sample_size})\n",
    "    X_test_samples, y_test_samples, features = sess.run([inputs, labels_one_hot, outputs])"
   ]
  },
  {
   "cell_type": "code",
   "execution_count": null,
   "metadata": {},
   "outputs": [],
   "source": [
    "print('Loss:', np.mean(val_losses))\n",
    "print('Acc:', val_acc)\n",
    "print('Indiv accs:', indiv_accs)"
   ]
  },
  {
   "cell_type": "markdown",
   "metadata": {},
   "source": [
    "## Feature Visualization"
   ]
  },
  {
   "cell_type": "code",
   "execution_count": null,
   "metadata": {},
   "outputs": [],
   "source": [
    "mean_features = np.mean(features, axis=0)\n",
    "print(mean_features.shape)"
   ]
  },
  {
   "cell_type": "code",
   "execution_count": null,
   "metadata": {},
   "outputs": [],
   "source": [
    "start = time.time()\n",
    "tsne = TSNE(n_components=2, verbose=1, perplexity=40, n_iter=300)\n",
    "tsne_results = tsne.fit_transform(mean_features)\n",
    "\n",
    "print('t-SNE done! Time elapsed: {} seconds'.format(time.time()-start))"
   ]
  },
  {
   "cell_type": "code",
   "execution_count": null,
   "metadata": {},
   "outputs": [],
   "source": [
    "labels = np.argmax(y_test_samples[0], axis=-1)"
   ]
  },
  {
   "cell_type": "code",
   "execution_count": 13,
   "metadata": {},
   "outputs": [
    {
     "ename": "NameError",
     "evalue": "name 'tsne_results' is not defined",
     "output_type": "error",
     "traceback": [
      "\u001b[0;31m---------------------------------------------------------------------------\u001b[0m",
      "\u001b[0;31mNameError\u001b[0m                                 Traceback (most recent call last)",
      "\u001b[0;32m<ipython-input-13-e3e121595d2e>\u001b[0m in \u001b[0;36m<module>\u001b[0;34m\u001b[0m\n\u001b[0;32m----> 1\u001b[0;31m \u001b[0mplt\u001b[0m\u001b[0;34m.\u001b[0m\u001b[0mscatter\u001b[0m\u001b[0;34m(\u001b[0m\u001b[0mtsne_results\u001b[0m\u001b[0;34m[\u001b[0m\u001b[0;34m:\u001b[0m\u001b[0;34m,\u001b[0m\u001b[0;36m0\u001b[0m\u001b[0;34m]\u001b[0m\u001b[0;34m,\u001b[0m \u001b[0mtsne_results\u001b[0m\u001b[0;34m[\u001b[0m\u001b[0;34m:\u001b[0m\u001b[0;34m,\u001b[0m\u001b[0;36m1\u001b[0m\u001b[0;34m]\u001b[0m\u001b[0;34m,\u001b[0m \u001b[0mc\u001b[0m\u001b[0;34m=\u001b[0m\u001b[0mlabels\u001b[0m\u001b[0;34m,\u001b[0m \u001b[0mcmap\u001b[0m\u001b[0;34m=\u001b[0m\u001b[0mplt\u001b[0m\u001b[0;34m.\u001b[0m\u001b[0mcm\u001b[0m\u001b[0;34m.\u001b[0m\u001b[0mjet\u001b[0m\u001b[0;34m)\u001b[0m\u001b[0;34m\u001b[0m\u001b[0;34m\u001b[0m\u001b[0m\n\u001b[0m\u001b[1;32m      2\u001b[0m \u001b[0mplt\u001b[0m\u001b[0;34m.\u001b[0m\u001b[0mcolorbar\u001b[0m\u001b[0;34m(\u001b[0m\u001b[0;34m)\u001b[0m\u001b[0;34m\u001b[0m\u001b[0;34m\u001b[0m\u001b[0m\n\u001b[1;32m      3\u001b[0m \u001b[0mplt\u001b[0m\u001b[0;34m.\u001b[0m\u001b[0mshow\u001b[0m\u001b[0;34m(\u001b[0m\u001b[0;34m)\u001b[0m\u001b[0;34m\u001b[0m\u001b[0;34m\u001b[0m\u001b[0m\n",
      "\u001b[0;31mNameError\u001b[0m: name 'tsne_results' is not defined"
     ]
    }
   ],
   "source": [
    "plt.scatter(tsne_results[:,0], tsne_results[:,1], c=labels, cmap=plt.cm.jet)\n",
    "plt.colorbar()\n",
    "plt.show()"
   ]
  },
  {
   "cell_type": "code",
   "execution_count": null,
   "metadata": {},
   "outputs": [],
   "source": []
  }
 ],
 "metadata": {
  "kernelspec": {
   "display_name": "Python 3",
   "language": "python",
   "name": "python3"
  },
  "language_info": {
   "codemirror_mode": {
    "name": "ipython",
    "version": 3
   },
   "file_extension": ".py",
   "mimetype": "text/x-python",
   "name": "python",
   "nbconvert_exporter": "python",
   "pygments_lexer": "ipython3",
   "version": "3.6.8"
  }
 },
 "nbformat": 4,
 "nbformat_minor": 2
}
