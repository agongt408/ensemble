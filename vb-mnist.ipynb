{
 "cells": [
  {
   "cell_type": "markdown",
   "metadata": {},
   "source": [
    "# MNIST with Virtual Branching"
   ]
  },
  {
   "cell_type": "code",
   "execution_count": 1,
   "metadata": {},
   "outputs": [],
   "source": [
    "import tensorflow as tf\n",
    "import numpy as np\n",
    "import os\n",
    "from scipy.special import softmax\n",
    "import matplotlib.pyplot as plt\n",
    "import time\n",
    "from sklearn.manifold import TSNE"
   ]
  },
  {
   "cell_type": "code",
   "execution_count": 2,
   "metadata": {},
   "outputs": [],
   "source": [
    "import vbranch as vb"
   ]
  },
  {
   "cell_type": "code",
   "execution_count": 3,
   "metadata": {},
   "outputs": [],
   "source": [
    "save = True\n",
    "model_id = 1\n",
    "architecture = 'cnn'"
   ]
  },
  {
   "cell_type": "markdown",
   "metadata": {},
   "source": [
    "## Load Data"
   ]
  },
  {
   "cell_type": "code",
   "execution_count": 4,
   "metadata": {},
   "outputs": [],
   "source": [
    "dataset = 'mnist'\n",
    "num_classes = 10\n",
    "num_features = 784\n",
    "samples_per_class = 200\n",
    "(X_train, y_train), (X_test, y_test) = vb.utils.get_data(dataset, architecture, num_classes,\n",
    "                                                         num_features, samples_per_class)"
   ]
  },
  {
   "cell_type": "code",
   "execution_count": 5,
   "metadata": {},
   "outputs": [],
   "source": [
    "x_shape = (None,) + X_train.shape[1:]\n",
    "y_shape = (None, num_classes)"
   ]
  },
  {
   "cell_type": "markdown",
   "metadata": {},
   "source": [
    "## Train"
   ]
  },
  {
   "cell_type": "markdown",
   "metadata": {},
   "source": [
    "### Build Model"
   ]
  },
  {
   "cell_type": "code",
   "execution_count": 6,
   "metadata": {},
   "outputs": [],
   "source": [
    "BATCH_SIZE = 32\n",
    "EPOCHS = 30\n",
    "STEPS_PER_EPOCH = 100\n",
    "NUM_BRANCHES = 4\n",
    "SHARED_FRAC = 0\n",
    "model_path = os.path.join('models', 'vb-{}-{}-B{:d}-S{:.2f}_{:d}'.format(dataset, architecture,\n",
    "    NUM_BRANCHES, SHARED_FRAC, model_id))"
   ]
  },
  {
   "cell_type": "code",
   "execution_count": 7,
   "metadata": {},
   "outputs": [
    {
     "data": {
      "text/plain": [
       "'models/vb-mnist-cnn-B4-S0.00_1'"
      ]
     },
     "execution_count": 7,
     "metadata": {},
     "output_type": "execute_result"
    }
   ],
   "source": [
    "model_path"
   ]
  },
  {
   "cell_type": "code",
   "execution_count": 8,
   "metadata": {},
   "outputs": [],
   "source": [
    "tf.reset_default_graph()\n",
    "\n",
    "x = tf.placeholder('float32', x_shape, name='x')\n",
    "y = tf.placeholder('float32', y_shape, name='y')\n",
    "\n",
    "batch_size = tf.placeholder('int64', name='batch_size')\n",
    "\n",
    "iterators = [None] * NUM_BRANCHES\n",
    "inputs = [None] * NUM_BRANCHES\n",
    "labels_one_hot = [None] * NUM_BRANCHES\n",
    "\n",
    "for i in range(NUM_BRANCHES):\n",
    "    dataset = tf.data.Dataset.from_tensor_slices((x,y)).\\\n",
    "        repeat().batch(batch_size).shuffle(buffer_size=4*BATCH_SIZE)\n",
    "\n",
    "    iterators[i] = dataset.make_initializable_iterator()\n",
    "    inputs[i], labels_one_hot[i] = iterators[i].get_next('input')"
   ]
  },
  {
   "cell_type": "code",
   "execution_count": 9,
   "metadata": {},
   "outputs": [],
   "source": [
    "def build_model(architecture,inputs,labels, num_classes,num_branches,model_id,\n",
    "        shared_frac, test=False):\n",
    "        \n",
    "    if architecture == 'fcn':\n",
    "        model = vb.vbranch_simple_fcn(inputs,\n",
    "            ([128]*num_branches, int(128*shared_frac)),\n",
    "            ([num_classes]*num_branches, int(num_classes*shared_frac)),\n",
    "            branches=num_branches, name='model_' + str(model_id))\n",
    "    elif architecture == 'cnn':\n",
    "        model = vb.vbranch_simple_cnn(inputs, (num_classes, 0),\n",
    "            ([16]*num_branches, int(16*shared_frac)),\n",
    "            ([32]*num_branches, int(32*shared_frac)),\n",
    "            branches=num_branches, name='model_' + str(model_id))\n",
    "    else:\n",
    "        raise ValueError('invalid model')\n",
    "\n",
    "    optimizer = tf.train.AdamOptimizer(learning_rate=0.001)\n",
    "    model.compile(optimizer, 'softmax_cross_entropy_with_logits',\n",
    "                    labels_one_hot=labels, test=test)\n",
    "#     if not test:\n",
    "    model.summary()\n",
    "\n",
    "    return model"
   ]
  },
  {
   "cell_type": "code",
   "execution_count": 10,
   "metadata": {},
   "outputs": [
    {
     "name": "stdout",
     "output_type": "stream",
     "text": [
      "i   Layer name         Output shape                     Num param  Inbound            \n",
      "--------------------------------------------------------------------------------------\n",
      "    Input              [None,28,28,1]                                                 \n",
      "--------------------------------------------------------------------------------------\n",
      "    Input              [None,28,28,1]                                                 \n",
      "--------------------------------------------------------------------------------------\n",
      "    Input              [None,28,28,1]                                                 \n",
      "--------------------------------------------------------------------------------------\n",
      "    Input              [None,28,28,1]                                                 \n",
      "--------------------------------------------------------------------------------------\n",
      "0   conv2d_1_1         [None,26,26,12] [None,26,26,4]   280        input              \n",
      "                       [None,26,26,12] [None,26,26,4]                                 \n",
      "                       [None,26,26,12] [None,26,26,4]                                 \n",
      "                       [None,26,26,12] [None,26,26,4]                                 \n",
      "--------------------------------------------------------------------------------------\n",
      "1   bn_1_1             [None,26,26,12] [None,26,26,4]   56         conv2d_1_1         \n",
      "                       [None,26,26,12] [None,26,26,4]                                 \n",
      "                       [None,26,26,12] [None,26,26,4]                                 \n",
      "                       [None,26,26,12] [None,26,26,4]                                 \n",
      "--------------------------------------------------------------------------------------\n",
      "2   relu_1_1           [None,26,26,12] [None,26,26,4]   0          bn_1_1             \n",
      "                       [None,26,26,12] [None,26,26,4]                                 \n",
      "                       [None,26,26,12] [None,26,26,4]                                 \n",
      "                       [None,26,26,12] [None,26,26,4]                                 \n",
      "--------------------------------------------------------------------------------------\n",
      "3   conv2d_1_2         [None,24,24,12] [None,24,24,4]   5420       relu_1_1           \n",
      "                       [None,24,24,12] [None,24,24,4]                                 \n",
      "                       [None,24,24,12] [None,24,24,4]                                 \n",
      "                       [None,24,24,12] [None,24,24,4]                                 \n",
      "--------------------------------------------------------------------------------------\n",
      "4   bn_1_2             [None,24,24,12] [None,24,24,4]   56         conv2d_1_2         \n",
      "                       [None,24,24,12] [None,24,24,4]                                 \n",
      "                       [None,24,24,12] [None,24,24,4]                                 \n",
      "                       [None,24,24,12] [None,24,24,4]                                 \n",
      "--------------------------------------------------------------------------------------\n",
      "5   relu_1_2           [None,24,24,12] [None,24,24,4]   0          bn_1_2             \n",
      "                       [None,24,24,12] [None,24,24,4]                                 \n",
      "                       [None,24,24,12] [None,24,24,4]                                 \n",
      "                       [None,24,24,12] [None,24,24,4]                                 \n",
      "--------------------------------------------------------------------------------------\n",
      "6   avg_pool2d_1       [None,12,12,12] [None,12,12,4]   0          relu_1_2           \n",
      "                       [None,12,12,12] [None,12,12,4]                                 \n",
      "                       [None,12,12,12] [None,12,12,4]                                 \n",
      "                       [None,12,12,12] [None,12,12,4]                                 \n",
      "--------------------------------------------------------------------------------------\n",
      "7   conv2d_2_1         [None,10,10,24] [None,10,10,8]   10840      avg_pool2d_1       \n",
      "                       [None,10,10,24] [None,10,10,8]                                 \n",
      "                       [None,10,10,24] [None,10,10,8]                                 \n",
      "                       [None,10,10,24] [None,10,10,8]                                 \n",
      "--------------------------------------------------------------------------------------\n",
      "8   bn_2_1             [None,10,10,24] [None,10,10,8]   112        conv2d_2_1         \n",
      "                       [None,10,10,24] [None,10,10,8]                                 \n",
      "                       [None,10,10,24] [None,10,10,8]                                 \n",
      "                       [None,10,10,24] [None,10,10,8]                                 \n",
      "--------------------------------------------------------------------------------------\n",
      "9   relu_2_1           [None,10,10,24] [None,10,10,8]   0          bn_2_1             \n",
      "                       [None,10,10,24] [None,10,10,8]                                 \n",
      "                       [None,10,10,24] [None,10,10,8]                                 \n",
      "                       [None,10,10,24] [None,10,10,8]                                 \n",
      "--------------------------------------------------------------------------------------\n",
      "10  conv2d_2_2         [None,8,8,24] [None,8,8,8]       21496      relu_2_1           \n",
      "                       [None,8,8,24] [None,8,8,8]                                     \n",
      "                       [None,8,8,24] [None,8,8,8]                                     \n",
      "                       [None,8,8,24] [None,8,8,8]                                     \n",
      "--------------------------------------------------------------------------------------\n",
      "11  bn_2_2             [None,8,8,24] [None,8,8,8]       112        conv2d_2_2         \n",
      "                       [None,8,8,24] [None,8,8,8]                                     \n",
      "                       [None,8,8,24] [None,8,8,8]                                     \n",
      "                       [None,8,8,24] [None,8,8,8]                                     \n",
      "--------------------------------------------------------------------------------------\n",
      "12  relu_2_2           [None,8,8,24] [None,8,8,8]       0          bn_2_2             \n",
      "                       [None,8,8,24] [None,8,8,8]                                     \n",
      "                       [None,8,8,24] [None,8,8,8]                                     \n",
      "                       [None,8,8,24] [None,8,8,8]                                     \n",
      "--------------------------------------------------------------------------------------\n",
      "13  global_avg_pool2d  [None,24] [None,8]               0          relu_2_2           \n",
      "                       [None,24] [None,8]                                             \n",
      "                       [None,24] [None,8]                                             \n",
      "                       [None,24] [None,8]                                             \n",
      "--------------------------------------------------------------------------------------\n",
      "14  fc1                [None,24] [None,8]               2552       global_avg_pool2d  \n",
      "                       [None,24] [None,8]                                             \n",
      "                       [None,24] [None,8]                                             \n",
      "                       [None,24] [None,8]                                             \n",
      "--------------------------------------------------------------------------------------\n",
      "15  bn_fc1             [None,24] [None,8]               112        fc1                \n",
      "                       [None,24] [None,8]                                             \n",
      "                       [None,24] [None,8]                                             \n",
      "                       [None,24] [None,8]                                             \n",
      "--------------------------------------------------------------------------------------\n",
      "16  relu_fc1           [None,24] [None,8]               0          bn_fc1             \n",
      "                       [None,24] [None,8]                                             \n",
      "                       [None,24] [None,8]                                             \n",
      "                       [None,24] [None,8]                                             \n",
      "--------------------------------------------------------------------------------------\n",
      "17  output             [None,10]                        1320       relu_fc1           \n",
      "                       [None,10]                                                      \n",
      "                       [None,10]                                                      \n",
      "                       [None,10]                                                      \n",
      "--------------------------------------------------------------------------------------\n",
      "Total parameters: 42356\n"
     ]
    }
   ],
   "source": [
    "model = build_model(architecture, inputs, labels_one_hot, num_classes,\n",
    "        NUM_BRANCHES, model_id, SHARED_FRAC)"
   ]
  },
  {
   "cell_type": "code",
   "execution_count": 11,
   "metadata": {},
   "outputs": [
    {
     "name": "stdout",
     "output_type": "stream",
     "text": [
      "i   Layer name         Output shape                     Num param  Inbound            \n",
      "--------------------------------------------------------------------------------------\n",
      "    Input              [None,28,28,1]                                                 \n",
      "--------------------------------------------------------------------------------------\n",
      "    Input              [None,28,28,1]                                                 \n",
      "--------------------------------------------------------------------------------------\n",
      "    Input              [None,28,28,1]                                                 \n",
      "--------------------------------------------------------------------------------------\n",
      "    Input              [None,28,28,1]                                                 \n",
      "--------------------------------------------------------------------------------------\n",
      "0   conv2d_1_1         [None,26,26,12] [None,26,26,4]   280        input              \n",
      "                       [None,26,26,12] [None,26,26,4]                                 \n",
      "                       [None,26,26,12] [None,26,26,4]                                 \n",
      "                       [None,26,26,12] [None,26,26,4]                                 \n",
      "--------------------------------------------------------------------------------------\n",
      "1   bn_1_1             [None,26,26,12] [None,26,26,4]   56         conv2d_1_1         \n",
      "                       [None,26,26,12] [None,26,26,4]                                 \n",
      "                       [None,26,26,12] [None,26,26,4]                                 \n",
      "                       [None,26,26,12] [None,26,26,4]                                 \n",
      "--------------------------------------------------------------------------------------\n",
      "2   relu_1_1           [None,26,26,12] [None,26,26,4]   0          bn_1_1             \n",
      "                       [None,26,26,12] [None,26,26,4]                                 \n",
      "                       [None,26,26,12] [None,26,26,4]                                 \n",
      "                       [None,26,26,12] [None,26,26,4]                                 \n",
      "--------------------------------------------------------------------------------------\n",
      "3   conv2d_1_2         [None,24,24,12] [None,24,24,4]   5420       relu_1_1           \n",
      "                       [None,24,24,12] [None,24,24,4]                                 \n",
      "                       [None,24,24,12] [None,24,24,4]                                 \n",
      "                       [None,24,24,12] [None,24,24,4]                                 \n",
      "--------------------------------------------------------------------------------------\n",
      "4   bn_1_2             [None,24,24,12] [None,24,24,4]   56         conv2d_1_2         \n",
      "                       [None,24,24,12] [None,24,24,4]                                 \n",
      "                       [None,24,24,12] [None,24,24,4]                                 \n",
      "                       [None,24,24,12] [None,24,24,4]                                 \n",
      "--------------------------------------------------------------------------------------\n",
      "5   relu_1_2           [None,24,24,12] [None,24,24,4]   0          bn_1_2             \n",
      "                       [None,24,24,12] [None,24,24,4]                                 \n",
      "                       [None,24,24,12] [None,24,24,4]                                 \n",
      "                       [None,24,24,12] [None,24,24,4]                                 \n",
      "--------------------------------------------------------------------------------------\n",
      "6   avg_pool2d_1       [None,12,12,12] [None,12,12,4]   0          relu_1_2           \n",
      "                       [None,12,12,12] [None,12,12,4]                                 \n",
      "                       [None,12,12,12] [None,12,12,4]                                 \n",
      "                       [None,12,12,12] [None,12,12,4]                                 \n",
      "--------------------------------------------------------------------------------------\n",
      "7   conv2d_2_1         [None,10,10,24] [None,10,10,8]   10840      avg_pool2d_1       \n",
      "                       [None,10,10,24] [None,10,10,8]                                 \n",
      "                       [None,10,10,24] [None,10,10,8]                                 \n",
      "                       [None,10,10,24] [None,10,10,8]                                 \n",
      "--------------------------------------------------------------------------------------\n",
      "8   bn_2_1             [None,10,10,24] [None,10,10,8]   112        conv2d_2_1         \n",
      "                       [None,10,10,24] [None,10,10,8]                                 \n",
      "                       [None,10,10,24] [None,10,10,8]                                 \n",
      "                       [None,10,10,24] [None,10,10,8]                                 \n",
      "--------------------------------------------------------------------------------------\n",
      "9   relu_2_1           [None,10,10,24] [None,10,10,8]   0          bn_2_1             \n",
      "                       [None,10,10,24] [None,10,10,8]                                 \n",
      "                       [None,10,10,24] [None,10,10,8]                                 \n",
      "                       [None,10,10,24] [None,10,10,8]                                 \n",
      "--------------------------------------------------------------------------------------\n",
      "10  conv2d_2_2         [None,8,8,24] [None,8,8,8]       21496      relu_2_1           \n",
      "                       [None,8,8,24] [None,8,8,8]                                     \n",
      "                       [None,8,8,24] [None,8,8,8]                                     \n",
      "                       [None,8,8,24] [None,8,8,8]                                     \n",
      "--------------------------------------------------------------------------------------\n",
      "11  bn_2_2             [None,8,8,24] [None,8,8,8]       112        conv2d_2_2         \n",
      "                       [None,8,8,24] [None,8,8,8]                                     \n",
      "                       [None,8,8,24] [None,8,8,8]                                     \n",
      "                       [None,8,8,24] [None,8,8,8]                                     \n",
      "--------------------------------------------------------------------------------------\n",
      "12  relu_2_2           [None,8,8,24] [None,8,8,8]       0          bn_2_2             \n",
      "                       [None,8,8,24] [None,8,8,8]                                     \n",
      "                       [None,8,8,24] [None,8,8,8]                                     \n",
      "                       [None,8,8,24] [None,8,8,8]                                     \n",
      "--------------------------------------------------------------------------------------\n",
      "13  global_avg_pool2d  [None,24] [None,8]               0          relu_2_2           \n",
      "                       [None,24] [None,8]                                             \n",
      "                       [None,24] [None,8]                                             \n",
      "                       [None,24] [None,8]                                             \n",
      "--------------------------------------------------------------------------------------\n",
      "14  fc1                [None,24] [None,8]               2552       global_avg_pool2d  \n",
      "                       [None,24] [None,8]                                             \n",
      "                       [None,24] [None,8]                                             \n",
      "                       [None,24] [None,8]                                             \n",
      "--------------------------------------------------------------------------------------\n",
      "15  bn_fc1             [None,24] [None,8]               112        fc1                \n",
      "                       [None,24] [None,8]                                             \n",
      "                       [None,24] [None,8]                                             \n",
      "                       [None,24] [None,8]                                             \n",
      "--------------------------------------------------------------------------------------\n",
      "16  relu_fc1           [None,24] [None,8]               0          bn_fc1             \n",
      "                       [None,24] [None,8]                                             \n",
      "                       [None,24] [None,8]                                             \n",
      "                       [None,24] [None,8]                                             \n",
      "--------------------------------------------------------------------------------------\n",
      "17  output             [None,10]                        1320       relu_fc1           \n",
      "                       [None,10]                                                      \n",
      "                       [None,10]                                                      \n",
      "                       [None,10]                                                      \n",
      "--------------------------------------------------------------------------------------\n",
      "Total parameters: 42356\n"
     ]
    }
   ],
   "source": [
    "# Build copy of model for testing\n",
    "x_place = tf.placeholder('float32', x_shape, name='x_test')\n",
    "y_place = tf.placeholder('float32', y_shape, name='y_test')\n",
    "test_model = build_model(architecture, x_place, [y_place]*NUM_BRANCHES, num_classes,\n",
    "    NUM_BRANCHES, model_id, SHARED_FRAC, test=True)"
   ]
  },
  {
   "cell_type": "markdown",
   "metadata": {},
   "source": [
    "### Run Ops"
   ]
  },
  {
   "cell_type": "code",
   "execution_count": 12,
   "metadata": {
    "scrolled": true
   },
   "outputs": [
    {
     "name": "stdout",
     "output_type": "stream",
     "text": [
      "Epoch 1/30\n",
      " - 11s - train_loss_1: 1.3854 - train_loss_3: 1.4921 - train_acc_3: 0.5609 - train_acc_1: 0.5891 - train_loss_2: 1.4145 - train_loss_4: 1.4631 - train_acc_2: 0.5678 - train_acc_ensemble: 0.2569 - train_acc_4: 0.5619 - val_loss_2: 0.6716 - val_loss_3: 0.7341 - val_acc_2: 0.8636 - val_acc_4: 0.8657 - val_acc_ensemble: 0.9139 - val_loss_1: 0.7313 - val_loss_4: 0.6974 - val_acc_1: 0.8435 - val_acc_3: 0.8464\n",
      "Epoch 2/30\n",
      " - 4s - train_loss_1: 0.5838 - train_loss_3: 0.5581 - train_acc_3: 0.8684 - train_acc_1: 0.8638 - train_loss_2: 0.5499 - train_loss_4: 0.5547 - train_acc_2: 0.8666 - train_acc_ensemble: 0.3297 - train_acc_4: 0.8659 - val_loss_2: 0.3284 - val_loss_3: 0.3381 - val_acc_2: 0.9276 - val_acc_4: 0.9269 - val_acc_ensemble: 0.9503 - val_loss_1: 0.3768 - val_loss_4: 0.3319 - val_acc_1: 0.9129 - val_acc_3: 0.9252\n",
      "Epoch 3/30\n",
      " - 4s - train_loss_1: 0.3583 - train_loss_3: 0.3166 - train_acc_3: 0.9234 - train_acc_1: 0.9147 - train_loss_2: 0.3238 - train_loss_4: 0.3308 - train_acc_2: 0.9184 - train_acc_ensemble: 0.3497 - train_acc_4: 0.9163 - val_loss_2: 0.2205 - val_loss_3: 0.2312 - val_acc_2: 0.9482 - val_acc_4: 0.9382 - val_acc_ensemble: 0.9635 - val_loss_1: 0.2626 - val_loss_4: 0.2491 - val_acc_1: 0.9335 - val_acc_3: 0.9426\n",
      "Epoch 4/30\n",
      " - 4s - train_loss_1: 0.2763 - train_loss_3: 0.2322 - train_acc_3: 0.9403 - train_acc_1: 0.9275 - train_loss_2: 0.2466 - train_loss_4: 0.2617 - train_acc_2: 0.9369 - train_acc_ensemble: 0.3475 - train_acc_4: 0.9337 - val_loss_2: 0.1698 - val_loss_3: 0.1989 - val_acc_2: 0.9546 - val_acc_4: 0.9476 - val_acc_ensemble: 0.9656 - val_loss_1: 0.2079 - val_loss_4: 0.1959 - val_acc_1: 0.9433 - val_acc_3: 0.9473\n",
      "Epoch 5/30\n",
      " - 4s - train_loss_1: 0.2204 - train_loss_3: 0.1930 - train_acc_3: 0.9509 - train_acc_1: 0.9384 - train_loss_2: 0.1963 - train_loss_4: 0.2065 - train_acc_2: 0.9450 - train_acc_ensemble: 0.3544 - train_acc_4: 0.9491 - val_loss_2: 0.1599 - val_loss_3: 0.1516 - val_acc_2: 0.9552 - val_acc_4: 0.9540 - val_acc_ensemble: 0.9715 - val_loss_1: 0.1678 - val_loss_4: 0.1683 - val_acc_1: 0.9566 - val_acc_3: 0.9584\n",
      "Epoch 6/30\n",
      " - 4s - train_loss_1: 0.1816 - train_loss_3: 0.1541 - train_acc_3: 0.9628 - train_acc_1: 0.9506 - train_loss_2: 0.1650 - train_loss_4: 0.1708 - train_acc_2: 0.9600 - train_acc_ensemble: 0.3419 - train_acc_4: 0.9575 - val_loss_2: 0.1314 - val_loss_3: 0.1417 - val_acc_2: 0.9639 - val_acc_4: 0.9529 - val_acc_ensemble: 0.9744 - val_loss_1: 0.1475 - val_loss_4: 0.1616 - val_acc_1: 0.9610 - val_acc_3: 0.9614\n",
      "Epoch 7/30\n",
      " - 4s - train_loss_1: 0.1575 - train_loss_3: 0.1427 - train_acc_3: 0.9622 - train_acc_1: 0.9606 - train_loss_2: 0.1449 - train_loss_4: 0.1444 - train_acc_2: 0.9628 - train_acc_ensemble: 0.3600 - train_acc_4: 0.9616 - val_loss_2: 0.1389 - val_loss_3: 0.1163 - val_acc_2: 0.9586 - val_acc_4: 0.9597 - val_acc_ensemble: 0.9750 - val_loss_1: 0.1467 - val_loss_4: 0.1385 - val_acc_1: 0.9577 - val_acc_3: 0.9648\n",
      "Epoch 8/30\n",
      " - 4s - train_loss_1: 0.1255 - train_loss_3: 0.1006 - train_acc_3: 0.9756 - train_acc_1: 0.9703 - train_loss_2: 0.1097 - train_loss_4: 0.1279 - train_acc_2: 0.9716 - train_acc_ensemble: 0.3678 - train_acc_4: 0.9641 - val_loss_2: 0.1266 - val_loss_3: 0.1303 - val_acc_2: 0.9621 - val_acc_4: 0.9568 - val_acc_ensemble: 0.9763 - val_loss_1: 0.1358 - val_loss_4: 0.1398 - val_acc_1: 0.9617 - val_acc_3: 0.9623\n",
      "Epoch 9/30\n",
      " - 4s - train_loss_1: 0.1186 - train_loss_3: 0.0933 - train_acc_3: 0.9772 - train_acc_1: 0.9700 - train_loss_2: 0.1083 - train_loss_4: 0.1144 - train_acc_2: 0.9706 - train_acc_ensemble: 0.3488 - train_acc_4: 0.9728 - val_loss_2: 0.1168 - val_loss_3: 0.1212 - val_acc_2: 0.9656 - val_acc_4: 0.9583 - val_acc_ensemble: 0.9758 - val_loss_1: 0.1203 - val_loss_4: 0.1329 - val_acc_1: 0.9655 - val_acc_3: 0.9627\n",
      "Epoch 10/30\n",
      " - 4s - train_loss_1: 0.1013 - train_loss_3: 0.0927 - train_acc_3: 0.9788 - train_acc_1: 0.9734 - train_loss_2: 0.0956 - train_loss_4: 0.1085 - train_acc_2: 0.9762 - train_acc_ensemble: 0.3616 - train_acc_4: 0.9709 - val_loss_2: 0.1091 - val_loss_3: 0.1038 - val_acc_2: 0.9690 - val_acc_4: 0.9598 - val_acc_ensemble: 0.9788 - val_loss_1: 0.1191 - val_loss_4: 0.1329 - val_acc_1: 0.9670 - val_acc_3: 0.9690\n",
      "Epoch 11/30\n",
      " - 4s - train_loss_1: 0.0857 - train_loss_3: 0.0908 - train_acc_3: 0.9753 - train_acc_1: 0.9800 - train_loss_2: 0.0849 - train_loss_4: 0.0951 - train_acc_2: 0.9803 - train_acc_ensemble: 0.3672 - train_acc_4: 0.9728 - val_loss_2: 0.0955 - val_loss_3: 0.1071 - val_acc_2: 0.9729 - val_acc_4: 0.9673 - val_acc_ensemble: 0.9798 - val_loss_1: 0.1056 - val_loss_4: 0.1073 - val_acc_1: 0.9681 - val_acc_3: 0.9661\n",
      "Epoch 12/30\n",
      " - 4s - train_loss_1: 0.0930 - train_loss_3: 0.0610 - train_acc_3: 0.9878 - train_acc_1: 0.9759 - train_loss_2: 0.0730 - train_loss_4: 0.0762 - train_acc_2: 0.9803 - train_acc_ensemble: 0.3600 - train_acc_4: 0.9819 - val_loss_2: 0.0965 - val_loss_3: 0.1000 - val_acc_2: 0.9712 - val_acc_4: 0.9689 - val_acc_ensemble: 0.9803 - val_loss_1: 0.1089 - val_loss_4: 0.1009 - val_acc_1: 0.9664 - val_acc_3: 0.9694\n",
      "Epoch 13/30\n",
      " - 4s - train_loss_1: 0.0697 - train_loss_3: 0.0513 - train_acc_3: 0.9878 - train_acc_1: 0.9831 - train_loss_2: 0.0544 - train_loss_4: 0.0743 - train_acc_2: 0.9903 - train_acc_ensemble: 0.3625 - train_acc_4: 0.9803 - val_loss_2: 0.0928 - val_loss_3: 0.1016 - val_acc_2: 0.9727 - val_acc_4: 0.9647 - val_acc_ensemble: 0.9790 - val_loss_1: 0.1159 - val_loss_4: 0.1084 - val_acc_1: 0.9631 - val_acc_3: 0.9674\n",
      "Epoch 14/30\n",
      " - 4s - train_loss_1: 0.0647 - train_loss_3: 0.0493 - train_acc_3: 0.9884 - train_acc_1: 0.9862 - train_loss_2: 0.0541 - train_loss_4: 0.0645 - train_acc_2: 0.9878 - train_acc_ensemble: 0.3563 - train_acc_4: 0.9838 - val_loss_2: 0.0953 - val_loss_3: 0.1067 - val_acc_2: 0.9716 - val_acc_4: 0.9664 - val_acc_ensemble: 0.9816 - val_loss_1: 0.0975 - val_loss_4: 0.1064 - val_acc_1: 0.9707 - val_acc_3: 0.9660\n",
      "Epoch 15/30\n",
      " - 4s - train_loss_1: 0.0562 - train_loss_3: 0.0503 - train_acc_3: 0.9909 - train_acc_1: 0.9853 - train_loss_2: 0.0528 - train_loss_4: 0.0648 - train_acc_2: 0.9859 - train_acc_ensemble: 0.3803 - train_acc_4: 0.9822 - val_loss_2: 0.0843 - val_loss_3: 0.0930 - val_acc_2: 0.9758 - val_acc_4: 0.9670 - val_acc_ensemble: 0.9811 - val_loss_1: 0.1014 - val_loss_4: 0.1041 - val_acc_1: 0.9684 - val_acc_3: 0.9729\n",
      "Epoch 16/30\n",
      " - 4s - train_loss_1: 0.0568 - train_loss_3: 0.0443 - train_acc_3: 0.9909 - train_acc_1: 0.9869 - train_loss_2: 0.0458 - train_loss_4: 0.0600 - train_acc_2: 0.9903 - train_acc_ensemble: 0.3566 - train_acc_4: 0.9862 - val_loss_2: 0.1003 - val_loss_3: 0.0923 - val_acc_2: 0.9694 - val_acc_4: 0.9651 - val_acc_ensemble: 0.9805 - val_loss_1: 0.1013 - val_loss_4: 0.1114 - val_acc_1: 0.9667 - val_acc_3: 0.9713\n",
      "Epoch 17/30\n",
      " - 4s - train_loss_1: 0.0561 - train_loss_3: 0.0419 - train_acc_3: 0.9916 - train_acc_1: 0.9862 - train_loss_2: 0.0426 - train_loss_4: 0.0457 - train_acc_2: 0.9903 - train_acc_ensemble: 0.3425 - train_acc_4: 0.9906 - val_loss_2: 0.0864 - val_loss_3: 0.1001 - val_acc_2: 0.9746 - val_acc_4: 0.9685 - val_acc_ensemble: 0.9822 - val_loss_1: 0.1164 - val_loss_4: 0.1012 - val_acc_1: 0.9662 - val_acc_3: 0.9691\n",
      "Epoch 18/30\n",
      " - 4s - train_loss_1: 0.0419 - train_loss_3: 0.0403 - train_acc_3: 0.9900 - train_acc_1: 0.9916 - train_loss_2: 0.0458 - train_loss_4: 0.0343 - train_acc_2: 0.9866 - train_acc_ensemble: 0.3563 - train_acc_4: 0.9938 - val_loss_2: 0.0990 - val_loss_3: 0.0966 - val_acc_2: 0.9684 - val_acc_4: 0.9686 - val_acc_ensemble: 0.9816 - val_loss_1: 0.0900 - val_loss_4: 0.0982 - val_acc_1: 0.9726 - val_acc_3: 0.9698\n",
      "Epoch 19/30\n",
      " - 4s - train_loss_1: 0.0431 - train_loss_3: 0.0370 - train_acc_3: 0.9925 - train_acc_1: 0.9909 - train_loss_2: 0.0447 - train_loss_4: 0.0326 - train_acc_2: 0.9881 - train_acc_ensemble: 0.3638 - train_acc_4: 0.9941 - val_loss_2: 0.1107 - val_loss_3: 0.1080 - val_acc_2: 0.9668 - val_acc_4: 0.9652 - val_acc_ensemble: 0.9781 - val_loss_1: 0.1040 - val_loss_4: 0.1094 - val_acc_1: 0.9676 - val_acc_3: 0.9660\n",
      "Epoch 20/30\n",
      " - 4s - train_loss_1: 0.0411 - train_loss_3: 0.0339 - train_acc_3: 0.9919 - train_acc_1: 0.9912 - train_loss_2: 0.0420 - train_loss_4: 0.0307 - train_acc_2: 0.9900 - train_acc_ensemble: 0.3491 - train_acc_4: 0.9938 - val_loss_2: 0.0957 - val_loss_3: 0.1033 - val_acc_2: 0.9690 - val_acc_4: 0.9708 - val_acc_ensemble: 0.9798 - val_loss_1: 0.1276 - val_loss_4: 0.0931 - val_acc_1: 0.9610 - val_acc_3: 0.9690\n"
     ]
    },
    {
     "name": "stdout",
     "output_type": "stream",
     "text": [
      "Epoch 21/30\n",
      " - 4s - train_loss_1: 0.0386 - train_loss_3: 0.0243 - train_acc_3: 0.9956 - train_acc_1: 0.9897 - train_loss_2: 0.0376 - train_loss_4: 0.0279 - train_acc_2: 0.9903 - train_acc_ensemble: 0.3694 - train_acc_4: 0.9962 - val_loss_2: 0.1083 - val_loss_3: 0.0883 - val_acc_2: 0.9664 - val_acc_4: 0.9689 - val_acc_ensemble: 0.9821 - val_loss_1: 0.1099 - val_loss_4: 0.0946 - val_acc_1: 0.9655 - val_acc_3: 0.9733\n",
      "Epoch 22/30\n",
      " - 4s - train_loss_1: 0.0293 - train_loss_3: 0.0229 - train_acc_3: 0.9950 - train_acc_1: 0.9931 - train_loss_2: 0.0291 - train_loss_4: 0.0222 - train_acc_2: 0.9931 - train_acc_ensemble: 0.3744 - train_acc_4: 0.9978 - val_loss_2: 0.0822 - val_loss_3: 0.1033 - val_acc_2: 0.9749 - val_acc_4: 0.9710 - val_acc_ensemble: 0.9824 - val_loss_1: 0.0956 - val_loss_4: 0.0916 - val_acc_1: 0.9714 - val_acc_3: 0.9686\n",
      "Epoch 23/30\n",
      " - 4s - train_loss_1: 0.0272 - train_loss_3: 0.0221 - train_acc_3: 0.9956 - train_acc_1: 0.9953 - train_loss_2: 0.0297 - train_loss_4: 0.0251 - train_acc_2: 0.9938 - train_acc_ensemble: 0.3716 - train_acc_4: 0.9941 - val_loss_2: 0.0885 - val_loss_3: 0.0993 - val_acc_2: 0.9729 - val_acc_4: 0.9718 - val_acc_ensemble: 0.9820 - val_loss_1: 0.0993 - val_loss_4: 0.0943 - val_acc_1: 0.9690 - val_acc_3: 0.9709\n",
      "Epoch 24/30\n",
      " - 4s - train_loss_1: 0.0227 - train_loss_3: 0.0216 - train_acc_3: 0.9969 - train_acc_1: 0.9978 - train_loss_2: 0.0296 - train_loss_4: 0.0185 - train_acc_2: 0.9916 - train_acc_ensemble: 0.3634 - train_acc_4: 0.9962 - val_loss_2: 0.0932 - val_loss_3: 0.0902 - val_acc_2: 0.9706 - val_acc_4: 0.9724 - val_acc_ensemble: 0.9827 - val_loss_1: 0.0952 - val_loss_4: 0.0891 - val_acc_1: 0.9694 - val_acc_3: 0.9719\n",
      "Epoch 25/30\n",
      " - 4s - train_loss_1: 0.0248 - train_loss_3: 0.0252 - train_acc_3: 0.9950 - train_acc_1: 0.9934 - train_loss_2: 0.0245 - train_loss_4: 0.0232 - train_acc_2: 0.9947 - train_acc_ensemble: 0.3509 - train_acc_4: 0.9956 - val_loss_2: 0.1041 - val_loss_3: 0.0855 - val_acc_2: 0.9670 - val_acc_4: 0.9678 - val_acc_ensemble: 0.9812 - val_loss_1: 0.1025 - val_loss_4: 0.0947 - val_acc_1: 0.9685 - val_acc_3: 0.9734\n",
      "Epoch 26/30\n",
      " - 4s - train_loss_1: 0.0363 - train_loss_3: 0.0250 - train_acc_3: 0.9941 - train_acc_1: 0.9894 - train_loss_2: 0.0202 - train_loss_4: 0.0220 - train_acc_2: 0.9950 - train_acc_ensemble: 0.3681 - train_acc_4: 0.9953 - val_loss_2: 0.0876 - val_loss_3: 0.1209 - val_acc_2: 0.9732 - val_acc_4: 0.9678 - val_acc_ensemble: 0.9820 - val_loss_1: 0.0996 - val_loss_4: 0.1048 - val_acc_1: 0.9676 - val_acc_3: 0.9642\n",
      "Epoch 27/30\n",
      " - 4s - train_loss_1: 0.0222 - train_loss_3: 0.0235 - train_acc_3: 0.9938 - train_acc_1: 0.9962 - train_loss_2: 0.0239 - train_loss_4: 0.0215 - train_acc_2: 0.9938 - train_acc_ensemble: 0.3766 - train_acc_4: 0.9956 - val_loss_2: 0.0866 - val_loss_3: 0.0948 - val_acc_2: 0.9749 - val_acc_4: 0.9723 - val_acc_ensemble: 0.9834 - val_loss_1: 0.0951 - val_loss_4: 0.0920 - val_acc_1: 0.9703 - val_acc_3: 0.9693\n",
      "Epoch 28/30\n",
      " - 4s - train_loss_1: 0.0195 - train_loss_3: 0.0178 - train_acc_3: 0.9962 - train_acc_1: 0.9959 - train_loss_2: 0.0153 - train_loss_4: 0.0211 - train_acc_2: 0.9981 - train_acc_ensemble: 0.3722 - train_acc_4: 0.9956 - val_loss_2: 0.0910 - val_loss_3: 0.0791 - val_acc_2: 0.9739 - val_acc_4: 0.9685 - val_acc_ensemble: 0.9839 - val_loss_1: 0.0843 - val_loss_4: 0.1020 - val_acc_1: 0.9739 - val_acc_3: 0.9767\n",
      "Epoch 29/30\n",
      " - 4s - train_loss_1: 0.0199 - train_loss_3: 0.0179 - train_acc_3: 0.9962 - train_acc_1: 0.9972 - train_loss_2: 0.0183 - train_loss_4: 0.0222 - train_acc_2: 0.9959 - train_acc_ensemble: 0.3716 - train_acc_4: 0.9956 - val_loss_2: 0.0809 - val_loss_3: 0.0917 - val_acc_2: 0.9754 - val_acc_4: 0.9703 - val_acc_ensemble: 0.9832 - val_loss_1: 0.0933 - val_loss_4: 0.1012 - val_acc_1: 0.9717 - val_acc_3: 0.9732\n",
      "Epoch 30/30\n",
      " - 4s - train_loss_1: 0.0203 - train_loss_3: 0.0110 - train_acc_3: 0.9991 - train_acc_1: 0.9956 - train_loss_2: 0.0185 - train_loss_4: 0.0261 - train_acc_2: 0.9969 - train_acc_ensemble: 0.3609 - train_acc_4: 0.9956 - val_loss_2: 0.0780 - val_loss_3: 0.0879 - val_acc_2: 0.9767 - val_acc_4: 0.9705 - val_acc_ensemble: 0.9842 - val_loss_1: 0.1086 - val_loss_4: 0.0956 - val_acc_1: 0.9683 - val_acc_3: 0.9724\n"
     ]
    }
   ],
   "source": [
    "history = model.fit(iterators, X_train, y_train, EPOCHS, STEPS_PER_EPOCH,\n",
    "        BATCH_SIZE, validation=(X_test, y_test), test_model=test_model,\n",
    "        save_model_path=model_path)"
   ]
  },
  {
   "cell_type": "code",
   "execution_count": 13,
   "metadata": {},
   "outputs": [],
   "source": [
    "# with open(\"ensemble-history.pkl\",\"wb\") as f:\n",
    "#     pickle.dump(history, f)"
   ]
  },
  {
   "cell_type": "code",
   "execution_count": 14,
   "metadata": {},
   "outputs": [],
   "source": [
    "# import pickle\n",
    "# import matplotlib.pyplot as plt\n",
    "\n",
    "# with open('baseline-history.pkl', 'rb') as f:\n",
    "#     data = pickle.load(f)\n",
    "\n",
    "# with open('baseline-history-2.pkl', 'rb') as f:\n",
    "#     data2 = pickle.load(f)\n",
    "# with open('baseline-history-3.pkl', 'rb') as f:\n",
    "#     data3 = pickle.load(f)\n",
    "\n",
    "# with open('ensemble-history.pkl', 'rb') as f:\n",
    "#     ensemble = pickle.load(f)\n",
    "    \n",
    "# # plt.plot(history['train_acc_ensemble'])\n",
    "# plt.plot(ensemble['val_acc_ensemble'])\n",
    "# plt.plot(data['val_acc'])\n",
    "# plt.plot(data2['val_acc'])\n",
    "# plt.plot(data3['val_acc'])\n",
    "# plt.show()"
   ]
  },
  {
   "cell_type": "markdown",
   "metadata": {},
   "source": [
    "## Load Model"
   ]
  },
  {
   "cell_type": "code",
   "execution_count": 9,
   "metadata": {},
   "outputs": [],
   "source": [
    "# test_init_ops = ['test_init_op_'+str(i+1) for i in range(NUM_BRANCHES)]\n",
    "# losses = ['loss_'+str(i+1)+':0' for i in range(NUM_BRANCHES)]\n",
    "# train_acc_ops = ['train_acc_'+str(i+1)+':0' for i in range(NUM_BRANCHES)]\n",
    "\n",
    "# inputs = ['input_{}:0'.format(i+1) for i in range(NUM_BRANCHES)]\n",
    "# labels_one_hot = ['input_{}:1'.format(i+1) for i in range(NUM_BRANCHES)]\n",
    "outputs = ['model_{}_1/output_vb{}:0'.format(model_id, i+1) for i in range(NUM_BRANCHES)]"
   ]
  },
  {
   "cell_type": "code",
   "execution_count": 10,
   "metadata": {},
   "outputs": [
    {
     "name": "stdout",
     "output_type": "stream",
     "text": [
      "INFO:tensorflow:Restoring parameters from models/vb-mnist-cnn-B4-S0.00_1/ckpt\n"
     ]
    }
   ],
   "source": [
    "with tf.Session() as sess:\n",
    "    model_path = os.path.join('models', 'vb-mnist-{}-B{:d}-S{:.2f}_{:d}'.format(architecture,\n",
    "        NUM_BRANCHES, SHARED_FRAC, model_id))\n",
    "    meta_path = os.path.join(model_path, 'ckpt.meta')\n",
    "    ckpt = tf.train.get_checkpoint_state(model_path)\n",
    "\n",
    "    imported_graph = tf.train.import_meta_graph(meta_path)\n",
    "    imported_graph.restore(sess, ckpt.model_checkpoint_path)\n",
    "\n",
    "#     sess.run(test_init_ops, feed_dict={'batch_size:0': len(X_test)})\n",
    "    features = sess.run(outputs, feed_dict={'x_test:0':X_test})\n",
    "    \n",
    "#     sample_size = 250\n",
    "#     sess.run(test_init_ops, feed_dict={'batch_size:0':sample_size})\n",
    "#     X_test_samples, y_test_samples, features = sess.run([inputs, labels_one_hot, outputs])"
   ]
  },
  {
   "cell_type": "code",
   "execution_count": 11,
   "metadata": {},
   "outputs": [],
   "source": [
    "# print('Loss:', np.mean(val_losses))\n",
    "# print('Acc:', val_acc)\n",
    "# print('Indiv accs:', indiv_accs)"
   ]
  },
  {
   "cell_type": "markdown",
   "metadata": {},
   "source": [
    "## Feature Visualization"
   ]
  },
  {
   "cell_type": "code",
   "execution_count": null,
   "metadata": {},
   "outputs": [],
   "source": [
    "mean_features = np.mean(features, axis=0)\n",
    "print(mean_features.shape)"
   ]
  },
  {
   "cell_type": "code",
   "execution_count": null,
   "metadata": {},
   "outputs": [],
   "source": [
    "start = time.time()\n",
    "tsne = TSNE(n_components=2, verbose=1, perplexity=40, n_iter=300)\n",
    "tsne_results = tsne.fit_transform(mean_features)\n",
    "\n",
    "print('t-SNE done! Time elapsed: {} seconds'.format(time.time()-start))"
   ]
  },
  {
   "cell_type": "code",
   "execution_count": null,
   "metadata": {},
   "outputs": [],
   "source": [
    "labels = np.argmax(y_test_samples[0], axis=-1)"
   ]
  },
  {
   "cell_type": "code",
   "execution_count": 13,
   "metadata": {},
   "outputs": [
    {
     "ename": "NameError",
     "evalue": "name 'tsne_results' is not defined",
     "output_type": "error",
     "traceback": [
      "\u001b[0;31m---------------------------------------------------------------------------\u001b[0m",
      "\u001b[0;31mNameError\u001b[0m                                 Traceback (most recent call last)",
      "\u001b[0;32m<ipython-input-13-e3e121595d2e>\u001b[0m in \u001b[0;36m<module>\u001b[0;34m\u001b[0m\n\u001b[0;32m----> 1\u001b[0;31m \u001b[0mplt\u001b[0m\u001b[0;34m.\u001b[0m\u001b[0mscatter\u001b[0m\u001b[0;34m(\u001b[0m\u001b[0mtsne_results\u001b[0m\u001b[0;34m[\u001b[0m\u001b[0;34m:\u001b[0m\u001b[0;34m,\u001b[0m\u001b[0;36m0\u001b[0m\u001b[0;34m]\u001b[0m\u001b[0;34m,\u001b[0m \u001b[0mtsne_results\u001b[0m\u001b[0;34m[\u001b[0m\u001b[0;34m:\u001b[0m\u001b[0;34m,\u001b[0m\u001b[0;36m1\u001b[0m\u001b[0;34m]\u001b[0m\u001b[0;34m,\u001b[0m \u001b[0mc\u001b[0m\u001b[0;34m=\u001b[0m\u001b[0mlabels\u001b[0m\u001b[0;34m,\u001b[0m \u001b[0mcmap\u001b[0m\u001b[0;34m=\u001b[0m\u001b[0mplt\u001b[0m\u001b[0;34m.\u001b[0m\u001b[0mcm\u001b[0m\u001b[0;34m.\u001b[0m\u001b[0mjet\u001b[0m\u001b[0;34m)\u001b[0m\u001b[0;34m\u001b[0m\u001b[0;34m\u001b[0m\u001b[0m\n\u001b[0m\u001b[1;32m      2\u001b[0m \u001b[0mplt\u001b[0m\u001b[0;34m.\u001b[0m\u001b[0mcolorbar\u001b[0m\u001b[0;34m(\u001b[0m\u001b[0;34m)\u001b[0m\u001b[0;34m\u001b[0m\u001b[0;34m\u001b[0m\u001b[0m\n\u001b[1;32m      3\u001b[0m \u001b[0mplt\u001b[0m\u001b[0;34m.\u001b[0m\u001b[0mshow\u001b[0m\u001b[0;34m(\u001b[0m\u001b[0;34m)\u001b[0m\u001b[0;34m\u001b[0m\u001b[0;34m\u001b[0m\u001b[0m\n",
      "\u001b[0;31mNameError\u001b[0m: name 'tsne_results' is not defined"
     ]
    }
   ],
   "source": [
    "plt.scatter(tsne_results[:,0], tsne_results[:,1], c=labels, cmap=plt.cm.jet)\n",
    "plt.colorbar()\n",
    "plt.show()"
   ]
  },
  {
   "cell_type": "markdown",
   "metadata": {},
   "source": [
    "## Feature Correlation"
   ]
  },
  {
   "cell_type": "code",
   "execution_count": 18,
   "metadata": {},
   "outputs": [],
   "source": [
    "samples = [branch[2] for branch in features]\n",
    "# samples = [branch[np.argmax(y_test, axis=1) == 0] for branch in features]\n",
    "# samples = features[0]"
   ]
  },
  {
   "cell_type": "code",
   "execution_count": 19,
   "metadata": {},
   "outputs": [
    {
     "name": "stdout",
     "output_type": "stream",
     "text": [
      "(10, 10)\n"
     ]
    }
   ],
   "source": [
    "corr= np.corrcoef(samples, rowvar=False)\n",
    "# corr = np.corrcoef(np.concatenate(samples), rowvar=False)\n",
    "print(corr.shape)"
   ]
  },
  {
   "cell_type": "code",
   "execution_count": 44,
   "metadata": {},
   "outputs": [
    {
     "data": {
      "image/png": "[encoded data removed]",
      "text/plain": [
       "<Figure size 288x288 with 2 Axes>"
      ]
     },
     "metadata": {
      "needs_background": "light"
     },
     "output_type": "display_data"
    }
   ],
   "source": [
    "plt.matshow(corr, cmap=plt.cm.coolwarm)\n",
    "plt.colorbar()\n",
    "plt.show()"
   ]
  },
  {
   "cell_type": "code",
   "execution_count": 20,
   "metadata": {},
   "outputs": [
    {
     "data": {
      "image/png": "[encoded data removed]",
      "text/plain": [
       "<Figure size 288x288 with 2 Axes>"
      ]
     },
     "metadata": {
      "needs_background": "light"
     },
     "output_type": "display_data"
    }
   ],
   "source": [
    "plt.matshow(corr, cmap=plt.cm.coolwarm)\n",
    "plt.colorbar()\n",
    "plt.show()"
   ]
  },
  {
   "cell_type": "code",
   "execution_count": null,
   "metadata": {},
   "outputs": [],
   "source": []
  }
 ],
 "metadata": {
  "kernelspec": {
   "display_name": "Python 3",
   "language": "python",
   "name": "python3"
  },
  "language_info": {
   "codemirror_mode": {
    "name": "ipython",
    "version": 3
   },
   "file_extension": ".py",
   "mimetype": "text/x-python",
   "name": "python",
   "nbconvert_exporter": "python",
   "pygments_lexer": "ipython3",
   "version": "3.5.6"
  }
 },
 "nbformat": 4,
 "nbformat_minor": 2
}
