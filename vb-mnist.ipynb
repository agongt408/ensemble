{
 "cells": [
  {
   "cell_type": "markdown",
   "metadata": {},
   "source": [
    "# MNIST FCN with Virtual Branching"
   ]
  },
  {
   "cell_type": "code",
   "execution_count": 1,
   "metadata": {},
   "outputs": [],
   "source": [
    "import tensorflow as tf\n",
    "import numpy as np\n",
    "import os\n",
    "from scipy.special import softmax\n",
    "import matplotlib.pyplot as plt"
   ]
  },
  {
   "cell_type": "code",
   "execution_count": 2,
   "metadata": {},
   "outputs": [],
   "source": [
    "import vbranch as vb"
   ]
  },
  {
   "cell_type": "code",
   "execution_count": 3,
   "metadata": {},
   "outputs": [],
   "source": [
    "save = True\n",
    "model_id = 1"
   ]
  },
  {
   "cell_type": "markdown",
   "metadata": {},
   "source": [
    "## Load Data"
   ]
  },
  {
   "cell_type": "code",
   "execution_count": 4,
   "metadata": {},
   "outputs": [],
   "source": [
    "(X_train, y_train), (X_test, y_test) = tf.keras.datasets.mnist.load_data()"
   ]
  },
  {
   "cell_type": "code",
   "execution_count": 5,
   "metadata": {},
   "outputs": [],
   "source": [
    "input_dim = 784\n",
    "num_classes = 10"
   ]
  },
  {
   "cell_type": "code",
   "execution_count": 6,
   "metadata": {},
   "outputs": [],
   "source": [
    "X_train_flat = X_train.reshape([-1, input_dim])\n",
    "X_test_flat = X_test.reshape([-1, input_dim])\n",
    "\n",
    "y_train_one_hot = tf.keras.utils.to_categorical(y_train, num_classes)\n",
    "y_test_one_hot = tf.keras.utils.to_categorical(y_test, num_classes)"
   ]
  },
  {
   "cell_type": "markdown",
   "metadata": {},
   "source": [
    "## Build Model"
   ]
  },
  {
   "cell_type": "code",
   "execution_count": 7,
   "metadata": {},
   "outputs": [],
   "source": [
    "BATCH_SIZE = 32\n",
    "EPOCHS = 10\n",
    "STEPS_PER_EPOCH = 100\n",
    "model_path = './models/vb-mnist_' + str(model_id)\n",
    "NUM_BRANCHES = 2"
   ]
  },
  {
   "cell_type": "code",
   "execution_count": 8,
   "metadata": {},
   "outputs": [],
   "source": [
    "tf.reset_default_graph()\n",
    "\n",
    "train_data = (X_train_flat.astype('float32'), y_train_one_hot)\n",
    "test_data = (X_test_flat.astype('float32'), y_test_one_hot)\n",
    "\n",
    "batch_size = tf.placeholder('int64', name='batch_size')\n",
    "\n",
    "train_datasets = []\n",
    "test_datasets = []\n",
    "inputs = [None] * NUM_BRANCHES\n",
    "labels_one_hot = [None] * NUM_BRANCHES\n",
    "train_init_ops = []\n",
    "test_init_ops = []\n",
    "\n",
    "for i in range(NUM_BRANCHES):\n",
    "    train_datasets.append(tf.data.Dataset.from_tensor_slices(train_data).\\\n",
    "        batch(batch_size).repeat().\\\n",
    "        shuffle(buffer_size=4*BATCH_SIZE))\n",
    "\n",
    "    test_datasets.append(tf.data.Dataset.from_tensor_slices(test_data).\\\n",
    "        batch(batch_size))\n",
    "    \n",
    "    iterator = tf.data.Iterator.from_structure(train_datasets[i].output_types, \n",
    "                                           train_datasets[i].output_shapes)\n",
    "    inputs[i], labels_one_hot[i] = iterator.get_next()    \n",
    "\n",
    "    train_init_ops.append(iterator.make_initializer(train_datasets[i]))\n",
    "    test_init_ops.append(iterator.make_initializer(test_datasets[i], \n",
    "                                                name='test_init_op_'+str(i+1)))"
   ]
  },
  {
   "cell_type": "code",
   "execution_count": 9,
   "metadata": {},
   "outputs": [],
   "source": [
    "with tf.variable_scope('model_' + str(model_id), reuse=tf.AUTO_REUSE):\n",
    "    model = vb.models.vbranch_fcn(inputs, ([128,128], 0), ([10,10], 0), \n",
    "                                  branches=NUM_BRANCHES)"
   ]
  },
  {
   "cell_type": "code",
   "execution_count": 10,
   "metadata": {},
   "outputs": [
    {
     "name": "stdout",
     "output_type": "stream",
     "text": [
      "i   Layer name          Output shapes       Num param \n",
      "------------------------------------------------------\n",
      "    Input               [None,784]                    \n",
      "------------------------------------------------------\n",
      "    Input               [None,784]                    \n",
      "------------------------------------------------------\n",
      "0   fc1                 [None,128]          200960    \n",
      "                        [None,128]                    \n",
      "------------------------------------------------------\n",
      "1   bn1                 [None,128]          512       \n",
      "                        [None,128]                    \n",
      "------------------------------------------------------\n",
      "2   relu1               [None,128]          0         \n",
      "                        [None,128]                    \n",
      "------------------------------------------------------\n",
      "3   fc2                 [None,10]           2580      \n",
      "                        [None,10]                     \n",
      "------------------------------------------------------\n",
      "4   bn2                 [None,10]           40        \n",
      "                        [None,10]                     \n",
      "------------------------------------------------------\n",
      "5   output              [None,10]           0         \n",
      "                        [None,10]                     \n",
      "------------------------------------------------------\n",
      "Total parameters: 204092\n"
     ]
    }
   ],
   "source": [
    "model.summary()"
   ]
  },
  {
   "cell_type": "code",
   "execution_count": 11,
   "metadata": {},
   "outputs": [
    {
     "data": {
      "text/plain": [
       "[<tf.Variable 'model_1/fc1_vb1_w:0' shape=(784, 128) dtype=float32_ref>,\n",
       " <tf.Variable 'model_1/fc1_vb1_b:0' shape=(128,) dtype=float32_ref>,\n",
       " <tf.Variable 'model_1/fc1_vb2_w:0' shape=(784, 128) dtype=float32_ref>,\n",
       " <tf.Variable 'model_1/fc1_vb2_b:0' shape=(128,) dtype=float32_ref>,\n",
       " <tf.Variable 'model_1/bn1_vb1_scale:0' shape=(128,) dtype=float32_ref>,\n",
       " <tf.Variable 'model_1/bn1_vb1_beta:0' shape=(128,) dtype=float32_ref>,\n",
       " <tf.Variable 'model_1/bn1_vb2_scale:0' shape=(128,) dtype=float32_ref>,\n",
       " <tf.Variable 'model_1/bn1_vb2_beta:0' shape=(128,) dtype=float32_ref>,\n",
       " <tf.Variable 'model_1/fc2_vb1_w:0' shape=(128, 10) dtype=float32_ref>,\n",
       " <tf.Variable 'model_1/fc2_vb1_b:0' shape=(10,) dtype=float32_ref>,\n",
       " <tf.Variable 'model_1/fc2_vb2_w:0' shape=(128, 10) dtype=float32_ref>,\n",
       " <tf.Variable 'model_1/fc2_vb2_b:0' shape=(10,) dtype=float32_ref>,\n",
       " <tf.Variable 'model_1/bn2_vb1_scale:0' shape=(10,) dtype=float32_ref>,\n",
       " <tf.Variable 'model_1/bn2_vb1_beta:0' shape=(10,) dtype=float32_ref>,\n",
       " <tf.Variable 'model_1/bn2_vb2_scale:0' shape=(10,) dtype=float32_ref>,\n",
       " <tf.Variable 'model_1/bn2_vb2_beta:0' shape=(10,) dtype=float32_ref>]"
      ]
     },
     "execution_count": 11,
     "metadata": {},
     "output_type": "execute_result"
    }
   ],
   "source": [
    "tf.global_variables()"
   ]
  },
  {
   "cell_type": "code",
   "execution_count": 12,
   "metadata": {},
   "outputs": [
    {
     "data": {
      "text/plain": [
       "[<tf.Tensor 'IteratorGetNext:0' shape=(?, 784) dtype=float32>,\n",
       " <tf.Tensor 'IteratorGetNext_1:0' shape=(?, 784) dtype=float32>]"
      ]
     },
     "execution_count": 12,
     "metadata": {},
     "output_type": "execute_result"
    }
   ],
   "source": [
    "model.input"
   ]
  },
  {
   "cell_type": "code",
   "execution_count": 13,
   "metadata": {},
   "outputs": [],
   "source": [
    "# Single output\n",
    "# loss = tf.reduce_mean(tf.nn.softmax_cross_entropy_with_logits_v2(labels=labels_one_hot, \n",
    "#                                                                  logits=model.output), name='loss')\n",
    "\n",
    "# Multi output\n",
    "losses = []\n",
    "for i in range(len(model.output)):\n",
    "    losses.append(tf.reduce_mean(tf.nn.softmax_cross_entropy_with_logits_v2(labels=labels_one_hot[i], \n",
    "                                                                 logits=model.output[i])))\n",
    "loss = tf.reduce_sum(losses, name='loss')\n",
    "train_op = tf.train.AdamOptimizer(learning_rate=0.001).minimize(loss)"
   ]
  },
  {
   "cell_type": "code",
   "execution_count": 14,
   "metadata": {},
   "outputs": [],
   "source": [
    "# pred = tf.nn.softmax(model.output, name='pred')\n",
    "\n",
    "# Train accuracies\n",
    "train_acc_ops = []\n",
    "for i in range(NUM_BRANCHES):\n",
    "    pred_max = tf.one_hot(tf.argmax(tf.nn.softmax(model.output[i]), axis=-1), \n",
    "                          num_classes)\n",
    "    train_acc_ops.append(tf.reduce_mean(tf.reduce_sum(labels_one_hot[i]*pred_max, [1])))\n",
    "\n",
    "# Test accuracy\n",
    "pred = tf.nn.softmax(tf.reduce_mean(model.output, [0]))\n",
    "pred_max = tf.one_hot(tf.argmax(pred, axis=-1), num_classes)\n",
    "test_acc_op = tf.reduce_mean(tf.reduce_sum(labels_one_hot[0]*pred_max, [1]), name='acc')"
   ]
  },
  {
   "cell_type": "code",
   "execution_count": 15,
   "metadata": {},
   "outputs": [
    {
     "name": "stdout",
     "output_type": "stream",
     "text": [
      "Epoch 1/10\n",
      "100/100 [==============================] - 17s 174ms/step - loss: 2.1995 - acc_1: 0.7597 - acc_2: 0.7666 - val_loss: 1.5308 - val_acc: 0.9022 - ind_acc_1: 0.8933 - ind_acc_2: 0.8860\n",
      "Epoch 2/10\n",
      "100/100 [==============================] - 0s 5ms/step - loss: 1.4728 - acc_1: 0.8950 - acc_2: 0.8944 - val_loss: 1.2624 - val_acc: 0.9178 - ind_acc_1: 0.9117 - ind_acc_2: 0.9112\n",
      "Epoch 3/10\n",
      "100/100 [==============================] - 0s 5ms/step - loss: 1.2408 - acc_1: 0.9122 - acc_2: 0.9097 - val_loss: 1.0885 - val_acc: 0.9281 - ind_acc_1: 0.9217 - ind_acc_2: 0.9220\n",
      "Epoch 4/10\n",
      "100/100 [==============================] - 0s 5ms/step - loss: 1.0813 - acc_1: 0.9250 - acc_2: 0.9300 - val_loss: 0.9587 - val_acc: 0.9339 - ind_acc_1: 0.9291 - ind_acc_2: 0.9302\n",
      "Epoch 5/10\n",
      "100/100 [==============================] - 1s 6ms/step - loss: 0.9175 - acc_1: 0.9441 - acc_2: 0.9487 - val_loss: 0.8742 - val_acc: 0.9387 - ind_acc_1: 0.9335 - ind_acc_2: 0.9341\n",
      "Epoch 6/10\n",
      "100/100 [==============================] - 1s 5ms/step - loss: 0.8315 - acc_1: 0.9534 - acc_2: 0.9537 - val_loss: 0.8027 - val_acc: 0.9402 - ind_acc_1: 0.9360 - ind_acc_2: 0.9369\n",
      "Epoch 7/10\n",
      "100/100 [==============================] - 1s 5ms/step - loss: 0.7275 - acc_1: 0.9625 - acc_2: 0.9634 - val_loss: 0.7315 - val_acc: 0.9455 - ind_acc_1: 0.9405 - ind_acc_2: 0.9398\n",
      "Epoch 8/10\n",
      "100/100 [==============================] - 0s 5ms/step - loss: 0.6537 - acc_1: 0.9703 - acc_2: 0.9663 - val_loss: 0.7173 - val_acc: 0.9447 - ind_acc_1: 0.9380 - ind_acc_2: 0.9375\n",
      "Epoch 9/10\n",
      "100/100 [==============================] - 0s 5ms/step - loss: 0.5840 - acc_1: 0.9750 - acc_2: 0.9766 - val_loss: 0.6520 - val_acc: 0.9468 - ind_acc_1: 0.9400 - ind_acc_2: 0.9420\n",
      "Epoch 10/10\n",
      "100/100 [==============================] - 0s 5ms/step - loss: 0.5306 - acc_1: 0.9766 - acc_2: 0.9781 - val_loss: 0.6177 - val_acc: 0.9485 - ind_acc_1: 0.9420 - ind_acc_2: 0.9454\n"
     ]
    }
   ],
   "source": [
    "with tf.Session() as sess:\n",
    "    sess.run(tf.global_variables_initializer())\n",
    "\n",
    "    for e in range(EPOCHS):\n",
    "        print(\"Epoch {}/{}\".format(e + 1, EPOCHS))\n",
    "        progbar = tf.keras.utils.Progbar(STEPS_PER_EPOCH)\n",
    "        \n",
    "        sess.run(train_init_ops, feed_dict={batch_size: BATCH_SIZE})\n",
    "\n",
    "        for i in range(STEPS_PER_EPOCH):\n",
    "            _, loss_value, train_accs = sess.run([train_op, loss, train_acc_ops])\n",
    "            \n",
    "#             plt.subplot(121)\n",
    "#             plt.imshow(train_vals[-2][0].reshape((28,28)))\n",
    "#             plt.title('1 e{}i{}'.format(e, i))\n",
    "#             plt.subplot(122)\n",
    "#             plt.imshow(train_vals[-1][0].reshape((28,28)))\n",
    "#             plt.title('2 e{}i{}'.format(e, i))\n",
    "#             plt.show()\n",
    "            \n",
    "            progbar_vals = [(\"loss\", loss_value),] + \\\n",
    "                [('acc_'+str(b+1), train_accs[b]) for b in range(NUM_BRANCHES)]\n",
    "            \n",
    "            if i == STEPS_PER_EPOCH - 1:\n",
    "                sess.run(test_init_ops, feed_dict={batch_size: len(X_test_flat)})\n",
    "                val_loss, val_acc, indiv_accs = sess.run([loss, test_acc_op, train_acc_ops])\n",
    "                \n",
    "#                 plt.subplot(121)\n",
    "#                 plt.imshow(test_im[0][0].reshape((28,28)))\n",
    "#                 plt.title('1 e{}i{}'.format(e, i))\n",
    "#                 plt.subplot(122)\n",
    "#                 plt.imshow(test_im[1][0].reshape((28,28)))\n",
    "#                 plt.title('2 e{}i{}'.format(e, i))\n",
    "#                 plt.show()\n",
    "                \n",
    "                progbar_vals += [(\"val_loss\", val_loss), (\"val_acc\", val_acc)] + \\\n",
    "                    [('ind_acc_'+str(b+1), indiv_accs[b]) for b in range(NUM_BRANCHES)]\n",
    "            \n",
    "            progbar.update(i+1, values=progbar_vals)\n",
    "    \n",
    "    if save:\n",
    "        saver = tf.train.Saver()\n",
    "        path = os.path.join(model_path, 'ckpt')\n",
    "        saver.save(sess, path)"
   ]
  },
  {
   "cell_type": "code",
   "execution_count": null,
   "metadata": {},
   "outputs": [],
   "source": []
  }
 ],
 "metadata": {
  "kernelspec": {
   "display_name": "Python 3",
   "language": "python",
   "name": "python3"
  },
  "language_info": {
   "codemirror_mode": {
    "name": "ipython",
    "version": 3
   },
   "file_extension": ".py",
   "mimetype": "text/x-python",
   "name": "python",
   "nbconvert_exporter": "python",
   "pygments_lexer": "ipython3",
   "version": "3.6.8"
  }
 },
 "nbformat": 4,
 "nbformat_minor": 2
}
