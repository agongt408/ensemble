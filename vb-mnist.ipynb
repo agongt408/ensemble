{
 "cells": [
  {
   "cell_type": "markdown",
   "metadata": {},
   "source": [
    "# MNIST FCN with Virtual Branching"
   ]
  },
  {
   "cell_type": "code",
   "execution_count": 1,
   "metadata": {},
   "outputs": [],
   "source": [
    "import tensorflow as tf\n",
    "import numpy as np\n",
    "import os\n",
    "from scipy.special import softmax\n",
    "import matplotlib.pyplot as plt"
   ]
  },
  {
   "cell_type": "code",
   "execution_count": 2,
   "metadata": {},
   "outputs": [],
   "source": [
    "import vbranch as vb"
   ]
  },
  {
   "cell_type": "code",
   "execution_count": 3,
   "metadata": {},
   "outputs": [],
   "source": [
    "save = False\n",
    "model_id = 1"
   ]
  },
  {
   "cell_type": "markdown",
   "metadata": {},
   "source": [
    "## Load Data"
   ]
  },
  {
   "cell_type": "code",
   "execution_count": 4,
   "metadata": {},
   "outputs": [],
   "source": [
    "(X_train, y_train), (X_test, y_test) = tf.keras.datasets.mnist.load_data()"
   ]
  },
  {
   "cell_type": "code",
   "execution_count": 5,
   "metadata": {},
   "outputs": [],
   "source": [
    "input_dim = 784\n",
    "num_classes = 10"
   ]
  },
  {
   "cell_type": "code",
   "execution_count": 6,
   "metadata": {},
   "outputs": [],
   "source": [
    "X_train_flat = X_train.reshape([-1, input_dim])\n",
    "X_test_flat = X_test.reshape([-1, input_dim])\n",
    "\n",
    "y_train_one_hot = tf.keras.utils.to_categorical(y_train, num_classes)\n",
    "y_test_one_hot = tf.keras.utils.to_categorical(y_test, num_classes)"
   ]
  },
  {
   "cell_type": "markdown",
   "metadata": {},
   "source": [
    "## Train"
   ]
  },
  {
   "cell_type": "markdown",
   "metadata": {},
   "source": [
    "### Build Model"
   ]
  },
  {
   "cell_type": "code",
   "execution_count": 7,
   "metadata": {},
   "outputs": [],
   "source": [
    "BATCH_SIZE = 32\n",
    "EPOCHS = 10\n",
    "STEPS_PER_EPOCH = 100\n",
    "NUM_BRANCHES = 4\n",
    "model_path = './models/vb-mnist-B' + str(NUM_BRANCHES) + '_' + str(model_id)"
   ]
  },
  {
   "cell_type": "code",
   "execution_count": 8,
   "metadata": {},
   "outputs": [
    {
     "data": {
      "text/plain": [
       "'./models/vb-mnist-B4_1'"
      ]
     },
     "execution_count": 8,
     "metadata": {},
     "output_type": "execute_result"
    }
   ],
   "source": [
    "model_path"
   ]
  },
  {
   "cell_type": "code",
   "execution_count": 9,
   "metadata": {},
   "outputs": [],
   "source": [
    "tf.reset_default_graph()\n",
    "\n",
    "train_data = (X_train_flat.astype('float32'), y_train_one_hot)\n",
    "test_data = (X_test_flat.astype('float32'), y_test_one_hot)\n",
    "\n",
    "batch_size = tf.placeholder('int64', name='batch_size')\n",
    "\n",
    "train_datasets = []\n",
    "test_datasets = []\n",
    "inputs = [None] * NUM_BRANCHES\n",
    "labels_one_hot = [None] * NUM_BRANCHES\n",
    "train_init_ops = []\n",
    "test_init_ops = []\n",
    "\n",
    "for i in range(NUM_BRANCHES):\n",
    "    train_datasets.append(tf.data.Dataset.from_tensor_slices(train_data).\\\n",
    "        batch(batch_size).repeat().\\\n",
    "        shuffle(buffer_size=4*BATCH_SIZE))\n",
    "\n",
    "    test_datasets.append(tf.data.Dataset.from_tensor_slices(test_data).\\\n",
    "        batch(batch_size))\n",
    "    \n",
    "    iterator = tf.data.Iterator.from_structure(train_datasets[i].output_types, \n",
    "                                           train_datasets[i].output_shapes)\n",
    "    inputs[i], labels_one_hot[i] = iterator.get_next()    \n",
    "\n",
    "    train_init_ops.append(iterator.make_initializer(train_datasets[i]))\n",
    "    test_init_ops.append(iterator.make_initializer(test_datasets[i], \n",
    "                                                name='test_init_op_'+str(i+1)))"
   ]
  },
  {
   "cell_type": "code",
   "execution_count": 10,
   "metadata": {},
   "outputs": [],
   "source": [
    "with tf.variable_scope('model_' + str(model_id), reuse=tf.AUTO_REUSE):\n",
    "    model = vb.models.vbranch_fcn(inputs, ([128]*NUM_BRANCHES, 64), ([10]*NUM_BRANCHES, 0), \n",
    "                                  branches=NUM_BRANCHES)"
   ]
  },
  {
   "cell_type": "code",
   "execution_count": 11,
   "metadata": {},
   "outputs": [
    {
     "name": "stdout",
     "output_type": "stream",
     "text": [
      "i   Layer name          Output shapes       Num param \n",
      "------------------------------------------------------\n",
      "    Input               [None,784]                    \n",
      "------------------------------------------------------\n",
      "    Input               [None,784]                    \n",
      "------------------------------------------------------\n",
      "    Input               [None,784]                    \n",
      "------------------------------------------------------\n",
      "    Input               [None,784]                    \n",
      "------------------------------------------------------\n",
      "0   fc1                 [None,128]          251200    \n",
      "                        [None,128]                    \n",
      "                        [None,128]                    \n",
      "                        [None,128]                    \n",
      "------------------------------------------------------\n",
      "1   bn1                 [None,128]          640       \n",
      "                        [None,128]                    \n",
      "                        [None,128]                    \n",
      "                        [None,128]                    \n",
      "------------------------------------------------------\n",
      "2   relu1               [None,128]          0         \n",
      "                        [None,128]                    \n",
      "                        [None,128]                    \n",
      "                        [None,128]                    \n",
      "------------------------------------------------------\n",
      "3   fc2                 [None,10]           5160      \n",
      "                        [None,10]                     \n",
      "                        [None,10]                     \n",
      "                        [None,10]                     \n",
      "------------------------------------------------------\n",
      "4   bn2                 [None,10]           80        \n",
      "                        [None,10]                     \n",
      "                        [None,10]                     \n",
      "                        [None,10]                     \n",
      "------------------------------------------------------\n",
      "5   output              [None,10]           0         \n",
      "                        [None,10]                     \n",
      "                        [None,10]                     \n",
      "                        [None,10]                     \n",
      "------------------------------------------------------\n",
      "Total parameters: 257080\n"
     ]
    }
   ],
   "source": [
    "model.summary()"
   ]
  },
  {
   "cell_type": "code",
   "execution_count": 12,
   "metadata": {},
   "outputs": [
    {
     "data": {
      "text/plain": [
       "[<tf.Tensor 'model_1/output_vb1:0' shape=(?, 10) dtype=float32>,\n",
       " <tf.Tensor 'model_1/output_vb2:0' shape=(?, 10) dtype=float32>,\n",
       " <tf.Tensor 'model_1/output_vb3:0' shape=(?, 10) dtype=float32>,\n",
       " <tf.Tensor 'model_1/output_vb4:0' shape=(?, 10) dtype=float32>]"
      ]
     },
     "execution_count": 12,
     "metadata": {},
     "output_type": "execute_result"
    }
   ],
   "source": [
    "model.output"
   ]
  },
  {
   "cell_type": "code",
   "execution_count": 13,
   "metadata": {},
   "outputs": [
    {
     "data": {
      "text/plain": [
       "[<tf.Variable 'model_1/fc1_shared_to_shared_w:0' shape=(784, 64) dtype=float32_ref>,\n",
       " <tf.Variable 'model_1/fc1_shared_to_shared_b:0' shape=(64,) dtype=float32_ref>,\n",
       " <tf.Variable 'model_1/fc1_vb1_shared_to_unique_w:0' shape=(784, 64) dtype=float32_ref>,\n",
       " <tf.Variable 'model_1/fc1_vb1_shared_to_unique_b:0' shape=(64,) dtype=float32_ref>,\n",
       " <tf.Variable 'model_1/fc1_vb2_shared_to_unique_w:0' shape=(784, 64) dtype=float32_ref>,\n",
       " <tf.Variable 'model_1/fc1_vb2_shared_to_unique_b:0' shape=(64,) dtype=float32_ref>,\n",
       " <tf.Variable 'model_1/fc1_vb3_shared_to_unique_w:0' shape=(784, 64) dtype=float32_ref>,\n",
       " <tf.Variable 'model_1/fc1_vb3_shared_to_unique_b:0' shape=(64,) dtype=float32_ref>,\n",
       " <tf.Variable 'model_1/fc1_vb4_shared_to_unique_w:0' shape=(784, 64) dtype=float32_ref>,\n",
       " <tf.Variable 'model_1/fc1_vb4_shared_to_unique_b:0' shape=(64,) dtype=float32_ref>,\n",
       " <tf.Variable 'model_1/bn1_shared_to_shared_scale:0' shape=(64,) dtype=float32_ref>,\n",
       " <tf.Variable 'model_1/bn1_shared_to_shared_beta:0' shape=(64,) dtype=float32_ref>,\n",
       " <tf.Variable 'model_1/bn1_vb1_unique_to_unique_scale:0' shape=(64,) dtype=float32_ref>,\n",
       " <tf.Variable 'model_1/bn1_vb1_unique_to_unique_beta:0' shape=(64,) dtype=float32_ref>,\n",
       " <tf.Variable 'model_1/bn1_vb2_unique_to_unique_scale:0' shape=(64,) dtype=float32_ref>,\n",
       " <tf.Variable 'model_1/bn1_vb2_unique_to_unique_beta:0' shape=(64,) dtype=float32_ref>,\n",
       " <tf.Variable 'model_1/bn1_vb3_unique_to_unique_scale:0' shape=(64,) dtype=float32_ref>,\n",
       " <tf.Variable 'model_1/bn1_vb3_unique_to_unique_beta:0' shape=(64,) dtype=float32_ref>,\n",
       " <tf.Variable 'model_1/bn1_vb4_unique_to_unique_scale:0' shape=(64,) dtype=float32_ref>,\n",
       " <tf.Variable 'model_1/bn1_vb4_unique_to_unique_beta:0' shape=(64,) dtype=float32_ref>,\n",
       " <tf.Variable 'model_1/fc2_vb1_w:0' shape=(128, 10) dtype=float32_ref>,\n",
       " <tf.Variable 'model_1/fc2_vb1_b:0' shape=(10,) dtype=float32_ref>,\n",
       " <tf.Variable 'model_1/fc2_vb2_w:0' shape=(128, 10) dtype=float32_ref>,\n",
       " <tf.Variable 'model_1/fc2_vb2_b:0' shape=(10,) dtype=float32_ref>,\n",
       " <tf.Variable 'model_1/fc2_vb3_w:0' shape=(128, 10) dtype=float32_ref>,\n",
       " <tf.Variable 'model_1/fc2_vb3_b:0' shape=(10,) dtype=float32_ref>,\n",
       " <tf.Variable 'model_1/fc2_vb4_w:0' shape=(128, 10) dtype=float32_ref>,\n",
       " <tf.Variable 'model_1/fc2_vb4_b:0' shape=(10,) dtype=float32_ref>,\n",
       " <tf.Variable 'model_1/bn2_vb1_unique_to_unique_scale:0' shape=(10,) dtype=float32_ref>,\n",
       " <tf.Variable 'model_1/bn2_vb1_unique_to_unique_beta:0' shape=(10,) dtype=float32_ref>,\n",
       " <tf.Variable 'model_1/bn2_vb2_unique_to_unique_scale:0' shape=(10,) dtype=float32_ref>,\n",
       " <tf.Variable 'model_1/bn2_vb2_unique_to_unique_beta:0' shape=(10,) dtype=float32_ref>,\n",
       " <tf.Variable 'model_1/bn2_vb3_unique_to_unique_scale:0' shape=(10,) dtype=float32_ref>,\n",
       " <tf.Variable 'model_1/bn2_vb3_unique_to_unique_beta:0' shape=(10,) dtype=float32_ref>,\n",
       " <tf.Variable 'model_1/bn2_vb4_unique_to_unique_scale:0' shape=(10,) dtype=float32_ref>,\n",
       " <tf.Variable 'model_1/bn2_vb4_unique_to_unique_beta:0' shape=(10,) dtype=float32_ref>]"
      ]
     },
     "execution_count": 13,
     "metadata": {},
     "output_type": "execute_result"
    }
   ],
   "source": [
    "tf.global_variables()"
   ]
  },
  {
   "cell_type": "markdown",
   "metadata": {},
   "source": [
    "### Declare Training Ops"
   ]
  },
  {
   "cell_type": "code",
   "execution_count": 14,
   "metadata": {},
   "outputs": [],
   "source": [
    "def get_shared_unshared_vars():\n",
    "    \"\"\"\n",
    "    Get shared variables (in order to later average gradients)\n",
    "    and unshared variables (unique to each branch)\"\"\"\n",
    "    \n",
    "    shared_vars = []\n",
    "    unshared_vars = [[] for i in range(NUM_BRANCHES)]\n",
    "    \n",
    "    for var in tf.global_variables():\n",
    "        if 'shared_to_shared' in var.name:\n",
    "            shared_vars.append(var)\n",
    "        else:\n",
    "            for i in range(NUM_BRANCHES):\n",
    "                if 'vb'+str(i+1) in var.name:\n",
    "                    unshared_vars[i].append(var)\n",
    "            \n",
    "    return shared_vars, unshared_vars"
   ]
  },
  {
   "cell_type": "code",
   "execution_count": 15,
   "metadata": {},
   "outputs": [],
   "source": [
    "shared_vars, unshared_vars = get_shared_unshared_vars()"
   ]
  },
  {
   "cell_type": "code",
   "execution_count": 16,
   "metadata": {},
   "outputs": [
    {
     "data": {
      "text/plain": [
       "[<tf.Variable 'model_1/fc1_shared_to_shared_w:0' shape=(784, 64) dtype=float32_ref>,\n",
       " <tf.Variable 'model_1/fc1_shared_to_shared_b:0' shape=(64,) dtype=float32_ref>,\n",
       " <tf.Variable 'model_1/bn1_shared_to_shared_scale:0' shape=(64,) dtype=float32_ref>,\n",
       " <tf.Variable 'model_1/bn1_shared_to_shared_beta:0' shape=(64,) dtype=float32_ref>]"
      ]
     },
     "execution_count": 16,
     "metadata": {},
     "output_type": "execute_result"
    }
   ],
   "source": [
    "shared_vars"
   ]
  },
  {
   "cell_type": "code",
   "execution_count": 17,
   "metadata": {},
   "outputs": [],
   "source": [
    "# Multi output loss\n",
    "optimizer = tf.train.AdamOptimizer(learning_rate=0.001)\n",
    "\n",
    "losses = []\n",
    "# Store gradients from shared variables over each branch\n",
    "shared_grads = []\n",
    "unshared_train_ops = []\n",
    "\n",
    "for i in range(NUM_BRANCHES):\n",
    "    loss = vb.losses.softmax_cross_entropy_with_logits(labels=labels_one_hot[i], \n",
    "                                                       logits=model.output[i], \n",
    "                                                       name='loss_'+str(i+1))\n",
    "    losses.append(loss)\n",
    "    \n",
    "    # Compute gradients of shared vars for each branch (but don't apply)\n",
    "    if len(shared_vars) > 0:\n",
    "        shared_grads.append(optimizer.compute_gradients(loss, var_list=shared_vars))\n",
    "        \n",
    "    # Apply gradients for unshared vars for each branch\n",
    "    unshared_train_ops.append(optimizer.minimize(loss, var_list=unshared_vars[i]))"
   ]
  },
  {
   "cell_type": "code",
   "execution_count": 18,
   "metadata": {},
   "outputs": [],
   "source": [
    "# Take average of the gradients over each branch\n",
    "mean_shared_grads = []\n",
    "\n",
    "for v, var in enumerate(shared_vars):\n",
    "    grad = tf.reduce_mean([shared_grads[i][v][0] for i in range(NUM_BRANCHES)], [0])\n",
    "    mean_shared_grads.append((grad, var))\n",
    "    \n",
    "if len(shared_vars) > 0:\n",
    "    shared_train_op = optimizer.apply_gradients(mean_shared_grads)\n",
    "else:\n",
    "    shared_train_op = []"
   ]
  },
  {
   "cell_type": "code",
   "execution_count": 19,
   "metadata": {},
   "outputs": [
    {
     "data": {
      "text/plain": [
       "[(<tf.Tensor 'Mean:0' shape=(784, 64) dtype=float32>,\n",
       "  <tf.Variable 'model_1/fc1_shared_to_shared_w:0' shape=(784, 64) dtype=float32_ref>),\n",
       " (<tf.Tensor 'Mean_1:0' shape=(64,) dtype=float32>,\n",
       "  <tf.Variable 'model_1/fc1_shared_to_shared_b:0' shape=(64,) dtype=float32_ref>),\n",
       " (<tf.Tensor 'Mean_2:0' shape=(64,) dtype=float32>,\n",
       "  <tf.Variable 'model_1/bn1_shared_to_shared_scale:0' shape=(64,) dtype=float32_ref>),\n",
       " (<tf.Tensor 'Mean_3:0' shape=(64,) dtype=float32>,\n",
       "  <tf.Variable 'model_1/bn1_shared_to_shared_beta:0' shape=(64,) dtype=float32_ref>)]"
      ]
     },
     "execution_count": 19,
     "metadata": {},
     "output_type": "execute_result"
    }
   ],
   "source": [
    "mean_shared_grads"
   ]
  },
  {
   "cell_type": "code",
   "execution_count": 20,
   "metadata": {},
   "outputs": [],
   "source": [
    "train_ops = [unshared_train_ops, shared_train_op]"
   ]
  },
  {
   "cell_type": "code",
   "execution_count": 21,
   "metadata": {},
   "outputs": [],
   "source": [
    "# Train accuracies\n",
    "train_acc_ops = []\n",
    "for i in range(NUM_BRANCHES):\n",
    "    pred_max = tf.one_hot(tf.argmax(tf.nn.softmax(model.output[i]), axis=-1), \n",
    "                          num_classes)\n",
    "    train_acc_op = tf.reduce_mean(tf.reduce_sum(labels_one_hot[i]*pred_max, [1]), \n",
    "                                  name='train_acc_'+str(i+1))\n",
    "    train_acc_ops.append(train_acc_op)\n",
    "\n",
    "# Test accuracy\n",
    "pred = tf.nn.softmax(tf.reduce_mean(model.output, [0]))\n",
    "pred_max = tf.one_hot(tf.argmax(pred, axis=-1), num_classes)\n",
    "test_acc_op = tf.reduce_mean(tf.reduce_sum(labels_one_hot[0]*pred_max, [1]), \n",
    "                             name='test_acc')"
   ]
  },
  {
   "cell_type": "markdown",
   "metadata": {},
   "source": [
    "### Run Ops"
   ]
  },
  {
   "cell_type": "code",
   "execution_count": 22,
   "metadata": {},
   "outputs": [
    {
     "name": "stdout",
     "output_type": "stream",
     "text": [
      "Epoch 1/10\n",
      "100/100 [==============================] - 41s 414ms/step - loss_1: 1.0673 - loss_2: 1.0826 - loss_3: 1.0957 - loss_4: 1.0573 - acc_1: 0.7706 - acc_2: 0.7584 - acc_3: 0.7594 - acc_4: 0.7731 - val_loss: 0.6752 - val_acc: 0.9111 - ind_acc_1: 0.8986 - ind_acc_2: 0.9037 - ind_acc_3: 0.8977 - ind_acc_4: 0.9033\n",
      "Epoch 2/10\n",
      "100/100 [==============================] - 1s 11ms/step - loss_1: 0.6465 - loss_2: 0.6278 - loss_3: 0.6554 - loss_4: 0.6324 - acc_1: 0.8941 - acc_2: 0.9009 - acc_3: 0.8969 - acc_4: 0.9019 - val_loss: 0.5201 - val_acc: 0.9280 - ind_acc_1: 0.9170 - ind_acc_2: 0.9214 - ind_acc_3: 0.9153 - ind_acc_4: 0.9231\n",
      "Epoch 3/10\n",
      "100/100 [==============================] - 1s 12ms/step - loss_1: 0.5043 - loss_2: 0.4978 - loss_3: 0.5096 - loss_4: 0.5058 - acc_1: 0.9244 - acc_2: 0.9275 - acc_3: 0.9228 - acc_4: 0.9256 - val_loss: 0.4369 - val_acc: 0.9360 - ind_acc_1: 0.9284 - ind_acc_2: 0.9278 - ind_acc_3: 0.9271 - ind_acc_4: 0.9287\n",
      "Epoch 4/10\n",
      "100/100 [==============================] - 1s 13ms/step - loss_1: 0.4249 - loss_2: 0.3937 - loss_3: 0.4307 - loss_4: 0.4117 - acc_1: 0.9422 - acc_2: 0.9497 - acc_3: 0.9366 - acc_4: 0.9481 - val_loss: 0.3812 - val_acc: 0.9415 - ind_acc_1: 0.9380 - ind_acc_2: 0.9328 - ind_acc_3: 0.9364 - ind_acc_4: 0.9348\n",
      "Epoch 5/10\n",
      "100/100 [==============================] - 1s 13ms/step - loss_1: 0.3412 - loss_2: 0.3405 - loss_3: 0.3416 - loss_4: 0.3462 - acc_1: 0.9600 - acc_2: 0.9572 - acc_3: 0.9609 - acc_4: 0.9591 - val_loss: 0.3384 - val_acc: 0.9442 - ind_acc_1: 0.9399 - ind_acc_2: 0.9388 - ind_acc_3: 0.9385 - ind_acc_4: 0.9390\n",
      "Epoch 6/10\n",
      "100/100 [==============================] - 1s 11ms/step - loss_1: 0.2975 - loss_2: 0.2889 - loss_3: 0.2992 - loss_4: 0.3081 - acc_1: 0.9731 - acc_2: 0.9688 - acc_3: 0.9672 - acc_4: 0.9616 - val_loss: 0.3129 - val_acc: 0.9462 - ind_acc_1: 0.9392 - ind_acc_2: 0.9396 - ind_acc_3: 0.9396 - ind_acc_4: 0.9426\n",
      "Epoch 7/10\n",
      "100/100 [==============================] - 1s 13ms/step - loss_1: 0.2584 - loss_2: 0.2546 - loss_3: 0.2495 - loss_4: 0.2618 - acc_1: 0.9734 - acc_2: 0.9728 - acc_3: 0.9778 - acc_4: 0.9731 - val_loss: 0.2959 - val_acc: 0.9466 - ind_acc_1: 0.9413 - ind_acc_2: 0.9400 - ind_acc_3: 0.9417 - ind_acc_4: 0.9442\n",
      "Epoch 8/10\n",
      "100/100 [==============================] - 1s 13ms/step - loss_1: 0.2232 - loss_2: 0.2237 - loss_3: 0.2287 - loss_4: 0.2258 - acc_1: 0.9775 - acc_2: 0.9806 - acc_3: 0.9819 - acc_4: 0.9809 - val_loss: 0.2730 - val_acc: 0.9488 - ind_acc_1: 0.9451 - ind_acc_2: 0.9449 - ind_acc_3: 0.9437 - ind_acc_4: 0.9471\n",
      "Epoch 9/10\n",
      "100/100 [==============================] - 1s 14ms/step - loss_1: 0.1899 - loss_2: 0.1865 - loss_3: 0.1894 - loss_4: 0.1901 - acc_1: 0.9884 - acc_2: 0.9856 - acc_3: 0.9869 - acc_4: 0.9856 - val_loss: 0.2603 - val_acc: 0.9494 - ind_acc_1: 0.9469 - ind_acc_2: 0.9452 - ind_acc_3: 0.9446 - ind_acc_4: 0.9452\n",
      "Epoch 10/10\n",
      "100/100 [==============================] - 1s 13ms/step - loss_1: 0.1685 - loss_2: 0.1691 - loss_3: 0.1675 - loss_4: 0.1672 - acc_1: 0.9891 - acc_2: 0.9881 - acc_3: 0.9906 - acc_4: 0.9903 - val_loss: 0.2494 - val_acc: 0.9506 - ind_acc_1: 0.9485 - ind_acc_2: 0.9461 - ind_acc_3: 0.9438 - ind_acc_4: 0.9473\n"
     ]
    }
   ],
   "source": [
    "with tf.Session() as sess:\n",
    "    sess.run(tf.global_variables_initializer())\n",
    "\n",
    "    for e in range(EPOCHS):\n",
    "        print(\"Epoch {}/{}\".format(e + 1, EPOCHS))\n",
    "        progbar = tf.keras.utils.Progbar(STEPS_PER_EPOCH)\n",
    "        \n",
    "        sess.run(train_init_ops, feed_dict={batch_size: BATCH_SIZE})\n",
    "\n",
    "        for i in range(STEPS_PER_EPOCH):\n",
    "            _, train_losses, train_accs = sess.run([train_ops, losses, \n",
    "                                                 train_acc_ops])\n",
    "            \n",
    "            prog_vals = [('loss_'+str(b+1),train_losses[b]) for b in range(NUM_BRANCHES)]\n",
    "            prog_vals += [('acc_'+str(b+1),train_accs[b]) for b in range(NUM_BRANCHES)]\n",
    "            \n",
    "            if i == STEPS_PER_EPOCH - 1:\n",
    "                sess.run(test_init_ops, feed_dict={batch_size: len(X_test_flat)})\n",
    "                val_losses, val_acc, indiv_accs = sess.run([losses, test_acc_op, \n",
    "                                                            train_acc_ops])\n",
    "                \n",
    "                prog_vals += [(\"val_loss\", np.mean(val_losses)), (\"val_acc\", val_acc)] + \\\n",
    "                    [('ind_acc_'+str(b+1), indiv_accs[b]) for b in range(NUM_BRANCHES)]\n",
    "            \n",
    "            progbar.update(i+1, values=prog_vals)\n",
    "    \n",
    "    if save:\n",
    "        saver = tf.train.Saver()\n",
    "        path = os.path.join(model_path, 'ckpt')\n",
    "        saver.save(sess, path)"
   ]
  },
  {
   "cell_type": "markdown",
   "metadata": {},
   "source": [
    "## Load Model"
   ]
  },
  {
   "cell_type": "code",
   "execution_count": 17,
   "metadata": {},
   "outputs": [],
   "source": [
    "test_init_ops = ['test_init_op_'+str(i+1) for i in range(NUM_BRANCHES)]\n",
    "losses = ['loss_'+str(i+1)+':0' for i in range(NUM_BRANCHES)]\n",
    "train_acc_ops = ['train_acc_'+str(i+1)+':0' for i in range(NUM_BRANCHES)]"
   ]
  },
  {
   "cell_type": "code",
   "execution_count": 18,
   "metadata": {},
   "outputs": [
    {
     "name": "stdout",
     "output_type": "stream",
     "text": [
      "INFO:tensorflow:Restoring parameters from ./models/vb-mnist-B4_1/ckpt\n"
     ]
    }
   ],
   "source": [
    "with tf.Session() as sess:\n",
    "    model_path = './models/vb-mnist-B' + str(NUM_BRANCHES) + '_' + str(model_id)\n",
    "    meta_path = os.path.join(model_path, 'ckpt.meta')\n",
    "    ckpt = tf.train.get_checkpoint_state(model_path)\n",
    "\n",
    "    imported_graph = tf.train.import_meta_graph(meta_path)\n",
    "    imported_graph.restore(sess, ckpt.model_checkpoint_path)\n",
    "\n",
    "    sess.run(test_init_ops, feed_dict={'batch_size:0': len(X_test_flat)})\n",
    "\n",
    "    val_losses, val_acc, indiv_accs = sess.run([losses, 'test_acc:0', train_acc_ops])"
   ]
  },
  {
   "cell_type": "code",
   "execution_count": 19,
   "metadata": {},
   "outputs": [
    {
     "name": "stdout",
     "output_type": "stream",
     "text": [
      "Loss: 0.3082688\n",
      "Acc: 0.9522\n",
      "Indiv accs: [0.9449, 0.9428, 0.9427, 0.9447]\n"
     ]
    }
   ],
   "source": [
    "print('Loss:', np.mean(val_losses))\n",
    "print('Acc:', val_acc)\n",
    "print('Indiv accs:', indiv_accs)"
   ]
  },
  {
   "cell_type": "code",
   "execution_count": null,
   "metadata": {},
   "outputs": [],
   "source": []
  }
 ],
 "metadata": {
  "kernelspec": {
   "display_name": "Python 3",
   "language": "python",
   "name": "python3"
  },
  "language_info": {
   "codemirror_mode": {
    "name": "ipython",
    "version": 3
   },
   "file_extension": ".py",
   "mimetype": "text/x-python",
   "name": "python",
   "nbconvert_exporter": "python",
   "pygments_lexer": "ipython3",
   "version": "3.6.8"
  }
 },
 "nbformat": 4,
 "nbformat_minor": 2
}
