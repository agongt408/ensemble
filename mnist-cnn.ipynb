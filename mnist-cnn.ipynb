{
 "cells": [
  {
   "cell_type": "markdown",
   "metadata": {},
   "source": [
    "# MNIST CNN"
   ]
  },
  {
   "cell_type": "code",
   "execution_count": 1,
   "metadata": {},
   "outputs": [],
   "source": [
    "import tensorflow as tf\n",
    "import numpy as np\n",
    "import os\n",
    "from scipy.special import softmax"
   ]
  },
  {
   "cell_type": "code",
   "execution_count": 2,
   "metadata": {},
   "outputs": [],
   "source": [
    "import tensorflow.keras.datasets.mnist as mnist"
   ]
  },
  {
   "cell_type": "code",
   "execution_count": 3,
   "metadata": {},
   "outputs": [],
   "source": [
    "import vbranch"
   ]
  },
  {
   "cell_type": "code",
   "execution_count": 4,
   "metadata": {},
   "outputs": [],
   "source": [
    "save = False\n",
    "model_id = 1"
   ]
  },
  {
   "cell_type": "markdown",
   "metadata": {},
   "source": [
    "## Load Data"
   ]
  },
  {
   "cell_type": "code",
   "execution_count": 5,
   "metadata": {},
   "outputs": [],
   "source": [
    "(X_train, y_train), (X_test, y_test) = mnist.load_data()"
   ]
  },
  {
   "cell_type": "code",
   "execution_count": 6,
   "metadata": {},
   "outputs": [],
   "source": [
    "num_classes = 10"
   ]
  },
  {
   "cell_type": "code",
   "execution_count": 7,
   "metadata": {},
   "outputs": [],
   "source": [
    "X_train = X_train[..., np.newaxis]\n",
    "X_test = X_test[..., np.newaxis]\n",
    "\n",
    "y_train_one_hot = tf.keras.utils.to_categorical(y_train, num_classes)\n",
    "y_test_one_hot = tf.keras.utils.to_categorical(y_test, num_classes)"
   ]
  },
  {
   "cell_type": "code",
   "execution_count": 8,
   "metadata": {},
   "outputs": [
    {
     "data": {
      "text/plain": [
       "(60000, 28, 28, 1)"
      ]
     },
     "execution_count": 8,
     "metadata": {},
     "output_type": "execute_result"
    }
   ],
   "source": [
    "X_train.shape"
   ]
  },
  {
   "cell_type": "markdown",
   "metadata": {},
   "source": [
    "## Build Model"
   ]
  },
  {
   "cell_type": "code",
   "execution_count": 9,
   "metadata": {},
   "outputs": [],
   "source": [
    "BATCH_SIZE = 32\n",
    "EPOCHS = 30\n",
    "STEPS_PER_EPOCH = 100\n",
    "model_path = './models/mnist-cnn_' + str(model_id)"
   ]
  },
  {
   "cell_type": "code",
   "execution_count": 10,
   "metadata": {},
   "outputs": [],
   "source": [
    "tf.reset_default_graph()\n",
    "\n",
    "train_data = (X_train.astype('float32'), y_train_one_hot)\n",
    "test_data = (X_test.astype('float32'), y_test_one_hot)\n",
    "\n",
    "batch_size = tf.placeholder('int64', name='batch_size')\n",
    "\n",
    "train_dataset = tf.data.Dataset.from_tensor_slices(train_data).\\\n",
    "    batch(batch_size).repeat().\\\n",
    "    shuffle(buffer_size=4*BATCH_SIZE)\n",
    "\n",
    "test_dataset = tf.data.Dataset.from_tensor_slices(test_data).\\\n",
    "    batch(batch_size).repeat()\n",
    "\n",
    "iter_ = tf.data.Iterator.from_structure(train_dataset.output_types, \n",
    "                                       train_dataset.output_shapes)\n",
    "inputs, labels_one_hot = iter_.get_next()\n",
    "\n",
    "train_init_op = iter_.make_initializer(train_dataset)\n",
    "test_init_op = iter_.make_initializer(test_dataset, name='test_init_op')"
   ]
  },
  {
   "cell_type": "code",
   "execution_count": 11,
   "metadata": {},
   "outputs": [],
   "source": [
    "with tf.variable_scope('model_' + str(model_id)):\n",
    "    model = vbranch.models.simple_cnn(inputs, num_classes, 16, 32)"
   ]
  },
  {
   "cell_type": "code",
   "execution_count": 12,
   "metadata": {},
   "outputs": [
    {
     "name": "stdout",
     "output_type": "stream",
     "text": [
      "i   Layer name          Output shape        Parameters                    Num param \n",
      "------------------------------------------------------------------------------------\n",
      "    Input               [None,28,28,1]                                              \n",
      "------------------------------------------------------------------------------------\n",
      "0   bn_1_1              [None,28,28,1]      (1,) (1,)                     2         \n",
      "------------------------------------------------------------------------------------\n",
      "1   relu_1_1            [None,28,28,1]                                    0         \n",
      "------------------------------------------------------------------------------------\n",
      "2   conv2d_1_1          [None,26,26,16]     (3,3,1,16) (16,)              160       \n",
      "------------------------------------------------------------------------------------\n",
      "3   bn_1_2              [None,26,26,16]     (16,) (16,)                   32        \n",
      "------------------------------------------------------------------------------------\n",
      "4   relu_1_2            [None,26,26,16]                                   0         \n",
      "------------------------------------------------------------------------------------\n",
      "5   conv2d_1_2          [None,24,24,16]     (3,3,16,16) (16,)             2320      \n",
      "------------------------------------------------------------------------------------\n",
      "6   avg_pool2d_1        [None,12,12,16]                                   0         \n",
      "------------------------------------------------------------------------------------\n",
      "7   bn_2_1              [None,12,12,16]     (16,) (16,)                   32        \n",
      "------------------------------------------------------------------------------------\n",
      "8   relu_2_1            [None,12,12,16]                                   0         \n",
      "------------------------------------------------------------------------------------\n",
      "9   conv2d_2_1          [None,10,10,32]     (3,3,16,32) (32,)             4640      \n",
      "------------------------------------------------------------------------------------\n",
      "10  bn_2_2              [None,10,10,32]     (32,) (32,)                   64        \n",
      "------------------------------------------------------------------------------------\n",
      "11  relu_2_2            [None,10,10,32]                                   0         \n",
      "------------------------------------------------------------------------------------\n",
      "12  conv2d_2_2          [None,8,8,32]       (3,3,32,32) (32,)             9248      \n",
      "------------------------------------------------------------------------------------\n",
      "13  global_avg_pool2d   [None,32]                                         0         \n",
      "------------------------------------------------------------------------------------\n",
      "14  fc1                 [None,32]           (32,32) (32,)                 1056      \n",
      "------------------------------------------------------------------------------------\n",
      "15  bn_fc1              [None,32]           (32,) (32,)                   64        \n",
      "------------------------------------------------------------------------------------\n",
      "16  relu_fc1            [None,32]                                         0         \n",
      "------------------------------------------------------------------------------------\n",
      "17  output              [None,10]           (32,10) (10,)                 330       \n",
      "------------------------------------------------------------------------------------\n",
      "Total parameters: 17948\n"
     ]
    }
   ],
   "source": [
    "model.summary()"
   ]
  },
  {
   "cell_type": "code",
   "execution_count": 13,
   "metadata": {},
   "outputs": [
    {
     "data": {
      "text/plain": [
       "[<tf.Variable 'model_1/bn_1_1_scale:0' shape=(1,) dtype=float32_ref>,\n",
       " <tf.Variable 'model_1/bn_1_1_beta:0' shape=(1,) dtype=float32_ref>,\n",
       " <tf.Variable 'model_1/conv2d_1_1_f:0' shape=(3, 3, 1, 16) dtype=float32_ref>,\n",
       " <tf.Variable 'model_1/conv2d_1_1_b:0' shape=(16,) dtype=float32_ref>,\n",
       " <tf.Variable 'model_1/bn_1_2_scale:0' shape=(16,) dtype=float32_ref>,\n",
       " <tf.Variable 'model_1/bn_1_2_beta:0' shape=(16,) dtype=float32_ref>,\n",
       " <tf.Variable 'model_1/conv2d_1_2_f:0' shape=(3, 3, 16, 16) dtype=float32_ref>,\n",
       " <tf.Variable 'model_1/conv2d_1_2_b:0' shape=(16,) dtype=float32_ref>,\n",
       " <tf.Variable 'model_1/bn_2_1_scale:0' shape=(16,) dtype=float32_ref>,\n",
       " <tf.Variable 'model_1/bn_2_1_beta:0' shape=(16,) dtype=float32_ref>,\n",
       " <tf.Variable 'model_1/conv2d_2_1_f:0' shape=(3, 3, 16, 32) dtype=float32_ref>,\n",
       " <tf.Variable 'model_1/conv2d_2_1_b:0' shape=(32,) dtype=float32_ref>,\n",
       " <tf.Variable 'model_1/bn_2_2_scale:0' shape=(32,) dtype=float32_ref>,\n",
       " <tf.Variable 'model_1/bn_2_2_beta:0' shape=(32,) dtype=float32_ref>,\n",
       " <tf.Variable 'model_1/conv2d_2_2_f:0' shape=(3, 3, 32, 32) dtype=float32_ref>,\n",
       " <tf.Variable 'model_1/conv2d_2_2_b:0' shape=(32,) dtype=float32_ref>,\n",
       " <tf.Variable 'model_1/fc1_w:0' shape=(32, 32) dtype=float32_ref>,\n",
       " <tf.Variable 'model_1/fc1_b:0' shape=(32,) dtype=float32_ref>,\n",
       " <tf.Variable 'model_1/bn_fc1_scale:0' shape=(32,) dtype=float32_ref>,\n",
       " <tf.Variable 'model_1/bn_fc1_beta:0' shape=(32,) dtype=float32_ref>,\n",
       " <tf.Variable 'model_1/output_w:0' shape=(32, 10) dtype=float32_ref>,\n",
       " <tf.Variable 'model_1/output_b:0' shape=(10,) dtype=float32_ref>]"
      ]
     },
     "execution_count": 13,
     "metadata": {},
     "output_type": "execute_result"
    }
   ],
   "source": [
    "tf.trainable_variables()"
   ]
  },
  {
   "cell_type": "code",
   "execution_count": 14,
   "metadata": {},
   "outputs": [],
   "source": [
    "loss = tf.reduce_mean(tf.nn.softmax_cross_entropy_with_logits_v2(labels=labels_one_hot, \n",
    "                                                                 logits=model.output), name='loss')\n",
    "train_op = tf.train.AdamOptimizer(learning_rate=0.001).minimize(loss)"
   ]
  },
  {
   "cell_type": "code",
   "execution_count": 15,
   "metadata": {},
   "outputs": [],
   "source": [
    "pred = tf.nn.softmax(model.output, name='pred')\n",
    "pred_max = tf.one_hot(tf.argmax(pred, axis=-1), num_classes)\n",
    "acc = tf.reduce_mean(tf.reduce_sum(labels_one_hot*pred_max, [1]), name='acc')"
   ]
  },
  {
   "cell_type": "code",
   "execution_count": 16,
   "metadata": {},
   "outputs": [
    {
     "name": "stdout",
     "output_type": "stream",
     "text": [
      "Epoch 1/30\n",
      "100/100 [==============================] - 3s 26ms/step - loss: 1.4329 - acc: 0.5919 - val_loss: 0.8382 - val_acc: 0.8455\n",
      "Epoch 2/30\n",
      "100/100 [==============================] - 0s 4ms/step - loss: 0.6715 - acc: 0.8534 - val_loss: 0.4585 - val_acc: 0.9128\n",
      "Epoch 3/30\n",
      "100/100 [==============================] - 0s 4ms/step - loss: 0.4419 - acc: 0.9006 - val_loss: 0.2962 - val_acc: 0.9398\n",
      "Epoch 4/30\n",
      "100/100 [==============================] - 0s 4ms/step - loss: 0.3163 - acc: 0.9291 - val_loss: 0.2454 - val_acc: 0.9444\n",
      "Epoch 5/30\n",
      "100/100 [==============================] - 0s 4ms/step - loss: 0.2684 - acc: 0.9356 - val_loss: 0.2814 - val_acc: 0.9209\n",
      "Epoch 6/30\n",
      "100/100 [==============================] - 0s 4ms/step - loss: 0.2248 - acc: 0.9419 - val_loss: 0.1999 - val_acc: 0.9495\n",
      "Epoch 7/30\n",
      "100/100 [==============================] - 0s 4ms/step - loss: 0.1889 - acc: 0.9509 - val_loss: 0.1682 - val_acc: 0.9564\n",
      "Epoch 8/30\n",
      "100/100 [==============================] - 0s 4ms/step - loss: 0.1657 - acc: 0.9578 - val_loss: 0.1689 - val_acc: 0.9531\n",
      "Epoch 9/30\n",
      "100/100 [==============================] - 0s 4ms/step - loss: 0.1351 - acc: 0.9666 - val_loss: 0.1518 - val_acc: 0.9543\n",
      "Epoch 10/30\n",
      "100/100 [==============================] - 0s 5ms/step - loss: 0.1413 - acc: 0.9625 - val_loss: 0.1481 - val_acc: 0.9571\n",
      "Epoch 11/30\n",
      "100/100 [==============================] - 0s 4ms/step - loss: 0.1180 - acc: 0.9703 - val_loss: 0.1299 - val_acc: 0.9624\n",
      "Epoch 12/30\n",
      "100/100 [==============================] - 0s 5ms/step - loss: 0.1158 - acc: 0.9678 - val_loss: 0.1296 - val_acc: 0.9618\n",
      "Epoch 13/30\n",
      "100/100 [==============================] - 0s 4ms/step - loss: 0.1102 - acc: 0.9712 - val_loss: 0.1476 - val_acc: 0.9576\n",
      "Epoch 14/30\n",
      "100/100 [==============================] - 0s 4ms/step - loss: 0.1034 - acc: 0.9747 - val_loss: 0.1454 - val_acc: 0.9548\n",
      "Epoch 15/30\n",
      "100/100 [==============================] - 0s 5ms/step - loss: 0.1279 - acc: 0.9603 - val_loss: 0.1352 - val_acc: 0.9607\n",
      "Epoch 16/30\n",
      "100/100 [==============================] - 0s 4ms/step - loss: 0.0861 - acc: 0.9762 - val_loss: 0.1503 - val_acc: 0.9548\n",
      "Epoch 17/30\n",
      "100/100 [==============================] - 0s 5ms/step - loss: 0.0867 - acc: 0.9750 - val_loss: 0.1270 - val_acc: 0.9618\n",
      "Epoch 18/30\n",
      "100/100 [==============================] - 1s 5ms/step - loss: 0.0747 - acc: 0.9803 - val_loss: 0.1145 - val_acc: 0.9647\n",
      "Epoch 19/30\n",
      "100/100 [==============================] - 0s 5ms/step - loss: 0.0604 - acc: 0.9844 - val_loss: 0.1016 - val_acc: 0.9679\n",
      "Epoch 20/30\n",
      "100/100 [==============================] - 0s 5ms/step - loss: 0.0467 - acc: 0.9888 - val_loss: 0.1053 - val_acc: 0.9688\n",
      "Epoch 21/30\n",
      "100/100 [==============================] - 0s 4ms/step - loss: 0.0525 - acc: 0.9869 - val_loss: 0.1125 - val_acc: 0.9657\n",
      "Epoch 22/30\n",
      "100/100 [==============================] - 0s 4ms/step - loss: 0.0604 - acc: 0.9825 - val_loss: 0.1355 - val_acc: 0.9616\n",
      "Epoch 23/30\n",
      "100/100 [==============================] - 0s 5ms/step - loss: 0.0731 - acc: 0.9766 - val_loss: 0.1273 - val_acc: 0.9614\n",
      "Epoch 24/30\n",
      "100/100 [==============================] - 0s 5ms/step - loss: 0.0478 - acc: 0.9891 - val_loss: 0.1152 - val_acc: 0.9650\n",
      "Epoch 25/30\n",
      "100/100 [==============================] - 0s 4ms/step - loss: 0.0620 - acc: 0.9841 - val_loss: 0.1052 - val_acc: 0.9666\n",
      "Epoch 26/30\n",
      "100/100 [==============================] - 1s 5ms/step - loss: 0.0500 - acc: 0.9869 - val_loss: 0.1043 - val_acc: 0.9670\n",
      "Epoch 27/30\n",
      "100/100 [==============================] - 0s 5ms/step - loss: 0.0553 - acc: 0.9844 - val_loss: 0.0963 - val_acc: 0.9696\n",
      "Epoch 28/30\n",
      "100/100 [==============================] - 0s 4ms/step - loss: 0.0463 - acc: 0.9884 - val_loss: 0.1541 - val_acc: 0.9552\n",
      "Epoch 29/30\n",
      "100/100 [==============================] - 0s 5ms/step - loss: 0.0478 - acc: 0.9856 - val_loss: 0.1012 - val_acc: 0.9671\n",
      "Epoch 30/30\n",
      "100/100 [==============================] - 0s 5ms/step - loss: 0.0398 - acc: 0.9897 - val_loss: 0.1194 - val_acc: 0.9633\n"
     ]
    }
   ],
   "source": [
    "with tf.Session() as sess:\n",
    "    sess.run(tf.global_variables_initializer())\n",
    "\n",
    "    for e in range(EPOCHS):\n",
    "        print(\"Epoch {}/{}\".format(e + 1, EPOCHS))\n",
    "        progbar = tf.keras.utils.Progbar(STEPS_PER_EPOCH)\n",
    "        \n",
    "        sess.run(train_init_op, feed_dict={batch_size: BATCH_SIZE})\n",
    "\n",
    "        for i in range(STEPS_PER_EPOCH):\n",
    "            _, loss_value, acc_value = sess.run([train_op, loss, acc])\n",
    "            \n",
    "            if i == STEPS_PER_EPOCH - 1:\n",
    "                sess.run(test_init_op, feed_dict={batch_size: len(X_test)})\n",
    "                val_loss, val_acc = sess.run([loss, acc])\n",
    "                progbar.update(i + 1, values=[(\"loss\", loss_value), (\"acc\", acc_value), \n",
    "                                              (\"val_loss\", val_loss), (\"val_acc\", val_acc)])\n",
    "            else:\n",
    "                progbar.update(i + 1, values=[(\"loss\", loss_value), (\"acc\", acc_value)])\n",
    "    \n",
    "    if save:\n",
    "        saver = tf.train.Saver()\n",
    "        path = os.path.join(model_path, 'ckpt')\n",
    "        saver.save(sess, path)"
   ]
  },
  {
   "cell_type": "markdown",
   "metadata": {},
   "source": [
    "## Model Ensemble"
   ]
  },
  {
   "cell_type": "code",
   "execution_count": 17,
   "metadata": {},
   "outputs": [
    {
     "name": "stdout",
     "output_type": "stream",
     "text": [
      "INFO:tensorflow:Restoring parameters from ./models/mnist-cnn_1/ckpt\n",
      "INFO:tensorflow:Restoring parameters from ./models/mnist-cnn_2/ckpt\n",
      "INFO:tensorflow:Restoring parameters from ./models/mnist-cnn_3/ckpt\n",
      "INFO:tensorflow:Restoring parameters from ./models/mnist-cnn_4/ckpt\n",
      "INFO:tensorflow:Restoring parameters from ./models/mnist-cnn_5/ckpt\n"
     ]
    }
   ],
   "source": [
    "test_outputs = []\n",
    "test_losses = []\n",
    "test_accs = []\n",
    "\n",
    "num_models = 5\n",
    "graphs = [tf.Graph() for _ in range(num_models)]\n",
    "sessions = [tf.Session(graph=g) for g in graphs]\n",
    "\n",
    "for i in range(len(graphs)):\n",
    "    with graphs[i].as_default():\n",
    "        model_path = './models/mnist-cnn_' + str(i + 1)\n",
    "        meta_path = os.path.join(model_path, 'ckpt.meta')\n",
    "        ckpt = tf.train.get_checkpoint_state(model_path)\n",
    "        \n",
    "        imported_graph = tf.train.import_meta_graph(meta_path)\n",
    "        imported_graph.restore(sessions[i], ckpt.model_checkpoint_path)\n",
    "                \n",
    "        sessions[i].run('test_init_op', feed_dict={'batch_size:0': len(X_test)})\n",
    "        \n",
    "        output, loss, acc = sessions[i].run(['model_%d'%(i+1)+'/'+'output:0', \n",
    "                                             'loss:0', 'acc:0'])\n",
    "        test_outputs.append(output)\n",
    "        test_losses.append(loss)\n",
    "        test_accs.append(acc)"
   ]
  },
  {
   "cell_type": "code",
   "execution_count": 18,
   "metadata": {},
   "outputs": [
    {
     "data": {
      "text/plain": [
       "[0.9686, 0.9704, 0.9643, 0.9701, 0.9683]"
      ]
     },
     "execution_count": 18,
     "metadata": {},
     "output_type": "execute_result"
    }
   ],
   "source": [
    "test_accs"
   ]
  },
  {
   "cell_type": "code",
   "execution_count": 19,
   "metadata": {},
   "outputs": [],
   "source": [
    "def compute_acc(pred, labels_one_hot):\n",
    "    pred_max = tf.keras.utils.to_categorical(np.argmax(pred, axis=-1), num_classes)\n",
    "    return np.mean(np.sum(labels_one_hot*pred_max, axis=1))"
   ]
  },
  {
   "cell_type": "code",
   "execution_count": 20,
   "metadata": {},
   "outputs": [],
   "source": [
    "for i in range(num_models):\n",
    "    assert compute_acc(softmax(test_outputs[i], axis=-1), y_test_one_hot) == test_accs[i]"
   ]
  },
  {
   "cell_type": "markdown",
   "metadata": {},
   "source": [
    "### Average Predictions Before Softmax"
   ]
  },
  {
   "cell_type": "code",
   "execution_count": 21,
   "metadata": {},
   "outputs": [],
   "source": [
    "before_mean_output = np.array(test_outputs).mean(axis=0)"
   ]
  },
  {
   "cell_type": "code",
   "execution_count": 22,
   "metadata": {},
   "outputs": [
    {
     "data": {
      "text/plain": [
       "(10000, 10)"
      ]
     },
     "execution_count": 22,
     "metadata": {},
     "output_type": "execute_result"
    }
   ],
   "source": [
    "before_mean_output.shape"
   ]
  },
  {
   "cell_type": "code",
   "execution_count": 23,
   "metadata": {},
   "outputs": [],
   "source": [
    "before_mean_acc = compute_acc(softmax(before_mean_output, axis=-1), y_test_one_hot)"
   ]
  },
  {
   "cell_type": "code",
   "execution_count": 24,
   "metadata": {},
   "outputs": [
    {
     "name": "stdout",
     "output_type": "stream",
     "text": [
      "0.9783\n"
     ]
    }
   ],
   "source": [
    "print(before_mean_acc)"
   ]
  },
  {
   "cell_type": "markdown",
   "metadata": {},
   "source": [
    "### Average Predictions After Softmax"
   ]
  },
  {
   "cell_type": "code",
   "execution_count": 25,
   "metadata": {},
   "outputs": [],
   "source": [
    "after_mean_output = softmax(np.array(test_outputs), axis=-1).mean(axis=0)\n",
    "after_mean_acc = compute_acc(after_mean_output, y_test_one_hot)"
   ]
  },
  {
   "cell_type": "code",
   "execution_count": 26,
   "metadata": {},
   "outputs": [
    {
     "name": "stdout",
     "output_type": "stream",
     "text": [
      "0.9781\n"
     ]
    }
   ],
   "source": [
    "print(after_mean_acc)"
   ]
  },
  {
   "cell_type": "code",
   "execution_count": null,
   "metadata": {},
   "outputs": [],
   "source": []
  }
 ],
 "metadata": {
  "kernelspec": {
   "display_name": "Python 3",
   "language": "python",
   "name": "python3"
  },
  "language_info": {
   "codemirror_mode": {
    "name": "ipython",
    "version": 3
   },
   "file_extension": ".py",
   "mimetype": "text/x-python",
   "name": "python",
   "nbconvert_exporter": "python",
   "pygments_lexer": "ipython3",
   "version": "3.5.6"
  }
 },
 "nbformat": 4,
 "nbformat_minor": 2
}
