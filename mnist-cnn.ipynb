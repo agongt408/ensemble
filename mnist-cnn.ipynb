{
 "cells": [
  {
   "cell_type": "markdown",
   "metadata": {},
   "source": [
    "# Baseline MNIST"
   ]
  },
  {
   "cell_type": "code",
   "execution_count": 1,
   "metadata": {},
   "outputs": [],
   "source": [
    "import tensorflow as tf\n",
    "import numpy as np\n",
    "import os"
   ]
  },
  {
   "cell_type": "code",
   "execution_count": 2,
   "metadata": {},
   "outputs": [],
   "source": [
    "import tensorflow.keras.datasets.mnist as mnist"
   ]
  },
  {
   "cell_type": "code",
   "execution_count": 3,
   "metadata": {},
   "outputs": [],
   "source": [
    "import vbranch"
   ]
  },
  {
   "cell_type": "code",
   "execution_count": 4,
   "metadata": {},
   "outputs": [],
   "source": [
    "save = True\n",
    "model_id = 2"
   ]
  },
  {
   "cell_type": "markdown",
   "metadata": {},
   "source": [
    "## Load Data"
   ]
  },
  {
   "cell_type": "code",
   "execution_count": 5,
   "metadata": {},
   "outputs": [],
   "source": [
    "(X_train, y_train), (X_test, y_test) = mnist.load_data()"
   ]
  },
  {
   "cell_type": "code",
   "execution_count": 6,
   "metadata": {},
   "outputs": [],
   "source": [
    "input_dim = 784\n",
    "num_classes = 10"
   ]
  },
  {
   "cell_type": "code",
   "execution_count": 7,
   "metadata": {},
   "outputs": [],
   "source": [
    "X_train = X_train[..., np.newaxis]\n",
    "X_test = X_test[..., np.newaxis]\n",
    "\n",
    "y_train_one_hot = tf.keras.utils.to_categorical(y_train, num_classes)\n",
    "y_test_one_hot = tf.keras.utils.to_categorical(y_test, num_classes)"
   ]
  },
  {
   "cell_type": "code",
   "execution_count": 8,
   "metadata": {},
   "outputs": [
    {
     "data": {
      "text/plain": [
       "(60000, 28, 28, 1)"
      ]
     },
     "execution_count": 8,
     "metadata": {},
     "output_type": "execute_result"
    }
   ],
   "source": [
    "X_train.shape"
   ]
  },
  {
   "cell_type": "markdown",
   "metadata": {},
   "source": [
    "## Build Model"
   ]
  },
  {
   "cell_type": "code",
   "execution_count": 9,
   "metadata": {},
   "outputs": [],
   "source": [
    "BATCH_SIZE = 32\n",
    "EPOCHS = 10\n",
    "STEPS_PER_EPOCH = 100\n",
    "model_path = './models/model_' + str(model_id)"
   ]
  },
  {
   "cell_type": "code",
   "execution_count": 10,
   "metadata": {},
   "outputs": [],
   "source": [
    "tf.reset_default_graph()\n",
    "\n",
    "train_data = (X_train.astype('float32'), y_train_one_hot)\n",
    "test_data = (X_test.astype('float32'), y_test_one_hot)\n",
    "\n",
    "batch_size = tf.placeholder('int64', name='batch_size')\n",
    "\n",
    "train_dataset = tf.data.Dataset.from_tensor_slices(train_data).\\\n",
    "    batch(batch_size).repeat().\\\n",
    "    shuffle(buffer_size=4*BATCH_SIZE)\n",
    "\n",
    "test_dataset = tf.data.Dataset.from_tensor_slices(test_data).\\\n",
    "    batch(batch_size).repeat()\n",
    "\n",
    "iter_ = tf.data.Iterator.from_structure(train_dataset.output_types, \n",
    "                                       train_dataset.output_shapes)\n",
    "inputs, labels_one_hot = iter_.get_next()\n",
    "\n",
    "train_init_op = iter_.make_initializer(train_dataset)\n",
    "test_init_op = iter_.make_initializer(test_dataset, name='test_init_op')"
   ]
  },
  {
   "cell_type": "code",
   "execution_count": 11,
   "metadata": {},
   "outputs": [],
   "source": [
    "with tf.variable_scope('model_' + str(model_id)):\n",
    "    model = vbranch.models.simple_cnn(inputs, num_classes, 16, 32)"
   ]
  },
  {
   "cell_type": "code",
   "execution_count": 12,
   "metadata": {},
   "outputs": [
    {
     "name": "stdout",
     "output_type": "stream",
     "text": [
      "i   Layer name                  Output shape          Parameters\n",
      "----------------------------------------------------------------\n",
      "    Input                  [None, 28, 28, 1]                    \n",
      "----------------------------------------------------------------\n",
      "0   conv2d_1_1            [None, 26, 26, 16]                 160\n",
      "----------------------------------------------------------------\n",
      "1   bn_1_1                [None, 26, 26, 16]                  32\n",
      "----------------------------------------------------------------\n",
      "2   relu_1_1              [None, 26, 26, 16]                   0\n",
      "----------------------------------------------------------------\n",
      "3   conv2d_1_2            [None, 24, 24, 16]                2320\n",
      "----------------------------------------------------------------\n",
      "4   bn_1_2                [None, 24, 24, 16]                  32\n",
      "----------------------------------------------------------------\n",
      "5   relu_1_2              [None, 24, 24, 16]                   0\n",
      "----------------------------------------------------------------\n",
      "6   avg_pool2d_1          [None, 12, 12, 16]                   0\n",
      "----------------------------------------------------------------\n",
      "7   conv2d_2_1            [None, 10, 10, 32]                4640\n",
      "----------------------------------------------------------------\n",
      "8   bn_2_1                [None, 10, 10, 32]                  64\n",
      "----------------------------------------------------------------\n",
      "9   relu_2_1              [None, 10, 10, 32]                   0\n",
      "----------------------------------------------------------------\n",
      "10  conv2d_2_2              [None, 8, 8, 32]                9248\n",
      "----------------------------------------------------------------\n",
      "11  bn_2_2                  [None, 8, 8, 32]                  64\n",
      "----------------------------------------------------------------\n",
      "12  relu_2_2                [None, 8, 8, 32]                   0\n",
      "----------------------------------------------------------------\n",
      "13  global_avg_pool2d             [None, 32]                   0\n",
      "----------------------------------------------------------------\n",
      "14  output_layer                  [None, 10]                 330\n",
      "----------------------------------------------------------------\n",
      "Parameters: 16890\n"
     ]
    }
   ],
   "source": [
    "model.summary()"
   ]
  },
  {
   "cell_type": "code",
   "execution_count": 13,
   "metadata": {},
   "outputs": [
    {
     "data": {
      "text/plain": [
       "[<tf.Variable 'model_2/conv2d_1_1_f:0' shape=(3, 3, 1, 16) dtype=float32_ref>,\n",
       " <tf.Variable 'model_2/conv2d_1_1_b:0' shape=(16,) dtype=float32_ref>,\n",
       " <tf.Variable 'model_2/bn_1_1_scale:0' shape=(16,) dtype=float32_ref>,\n",
       " <tf.Variable 'model_2/bn_1_1_beta:0' shape=(16,) dtype=float32_ref>,\n",
       " <tf.Variable 'model_2/conv2d_1_2_f:0' shape=(3, 3, 16, 16) dtype=float32_ref>,\n",
       " <tf.Variable 'model_2/conv2d_1_2_b:0' shape=(16,) dtype=float32_ref>,\n",
       " <tf.Variable 'model_2/bn_1_2_scale:0' shape=(16,) dtype=float32_ref>,\n",
       " <tf.Variable 'model_2/bn_1_2_beta:0' shape=(16,) dtype=float32_ref>,\n",
       " <tf.Variable 'model_2/conv2d_2_1_f:0' shape=(3, 3, 16, 32) dtype=float32_ref>,\n",
       " <tf.Variable 'model_2/conv2d_2_1_b:0' shape=(32,) dtype=float32_ref>,\n",
       " <tf.Variable 'model_2/bn_2_1_scale:0' shape=(32,) dtype=float32_ref>,\n",
       " <tf.Variable 'model_2/bn_2_1_beta:0' shape=(32,) dtype=float32_ref>,\n",
       " <tf.Variable 'model_2/conv2d_2_2_f:0' shape=(3, 3, 32, 32) dtype=float32_ref>,\n",
       " <tf.Variable 'model_2/conv2d_2_2_b:0' shape=(32,) dtype=float32_ref>,\n",
       " <tf.Variable 'model_2/bn_2_2_scale:0' shape=(32,) dtype=float32_ref>,\n",
       " <tf.Variable 'model_2/bn_2_2_beta:0' shape=(32,) dtype=float32_ref>,\n",
       " <tf.Variable 'model_2/output_layer_w:0' shape=(32, 10) dtype=float32_ref>,\n",
       " <tf.Variable 'model_2/output_layer_b:0' shape=(10,) dtype=float32_ref>]"
      ]
     },
     "execution_count": 13,
     "metadata": {},
     "output_type": "execute_result"
    }
   ],
   "source": [
    "tf.trainable_variables()"
   ]
  },
  {
   "cell_type": "code",
   "execution_count": 14,
   "metadata": {},
   "outputs": [],
   "source": [
    "loss = tf.reduce_mean(tf.nn.softmax_cross_entropy_with_logits_v2(labels=labels_one_hot, \n",
    "                                                                 logits=model.output), name='loss')\n",
    "train_op = tf.train.AdamOptimizer(learning_rate=0.001).minimize(loss)"
   ]
  },
  {
   "cell_type": "code",
   "execution_count": 15,
   "metadata": {},
   "outputs": [],
   "source": [
    "pred = tf.nn.softmax(model.output, name='pred')\n",
    "pred_max = tf.one_hot(tf.argmax(pred, axis=-1), num_classes)\n",
    "acc = tf.reduce_mean(tf.reduce_sum(labels_one_hot*pred_max, [1]), name='acc')"
   ]
  },
  {
   "cell_type": "code",
   "execution_count": 16,
   "metadata": {},
   "outputs": [
    {
     "name": "stdout",
     "output_type": "stream",
     "text": [
      "Epoch 1/10\n",
      "100/100 [==============================] - 33s 332ms/step - loss: 1.7310 - acc: 0.4822 - val_loss: 1.2768 - val_acc: 0.7807\n",
      "Epoch 2/10\n",
      "100/100 [==============================] - 14s 142ms/step - loss: 1.0870 - acc: 0.8166 - val_loss: 0.8354 - val_acc: 0.8821\n",
      "Epoch 3/10\n",
      "100/100 [==============================] - 17s 166ms/step - loss: 0.7428 - acc: 0.8766 - val_loss: 0.5581 - val_acc: 0.9214\n",
      "Epoch 4/10\n",
      "100/100 [==============================] - 16s 159ms/step - loss: 0.5453 - acc: 0.9006 - val_loss: 0.4000 - val_acc: 0.9420\n",
      "Epoch 5/10\n",
      "100/100 [==============================] - 15s 153ms/step - loss: 0.4102 - acc: 0.9263 - val_loss: 0.3087 - val_acc: 0.9532\n",
      "Epoch 6/10\n",
      "100/100 [==============================] - 15s 153ms/step - loss: 0.3310 - acc: 0.9394 - val_loss: 0.2581 - val_acc: 0.9534\n",
      "Epoch 7/10\n",
      "100/100 [==============================] - 18s 185ms/step - loss: 0.2766 - acc: 0.9481 - val_loss: 0.2425 - val_acc: 0.9526\n",
      "Epoch 8/10\n",
      "100/100 [==============================] - 15s 149ms/step - loss: 0.2523 - acc: 0.9447 - val_loss: 0.1861 - val_acc: 0.9625\n",
      "Epoch 9/10\n",
      "100/100 [==============================] - 14s 143ms/step - loss: 0.2259 - acc: 0.9528 - val_loss: 0.1653 - val_acc: 0.9668\n",
      "Epoch 10/10\n",
      "100/100 [==============================] - 16s 156ms/step - loss: 0.2028 - acc: 0.9563 - val_loss: 0.1511 - val_acc: 0.9675\n"
     ]
    }
   ],
   "source": [
    "with tf.Session() as sess:\n",
    "    sess.run(tf.global_variables_initializer())\n",
    "\n",
    "    for e in range(EPOCHS):\n",
    "        print(\"Epoch {}/{}\".format(e + 1, EPOCHS))\n",
    "        progbar = tf.keras.utils.Progbar(STEPS_PER_EPOCH)\n",
    "        \n",
    "        sess.run(train_init_op, feed_dict={batch_size: BATCH_SIZE})\n",
    "\n",
    "        for i in range(STEPS_PER_EPOCH):\n",
    "            _, loss_value, acc_value = sess.run([train_op, loss, acc])\n",
    "            \n",
    "            if i == STEPS_PER_EPOCH - 1:\n",
    "                sess.run(test_init_op, feed_dict={batch_size: len(X_test)})\n",
    "                val_loss, val_acc = sess.run([loss, acc])\n",
    "                progbar.update(i + 1, values=[(\"loss\", loss_value), (\"acc\", acc_value), \n",
    "                                              (\"val_loss\", val_loss), (\"val_acc\", val_acc)])\n",
    "            else:\n",
    "                progbar.update(i + 1, values=[(\"loss\", loss_value), (\"acc\", acc_value)])\n",
    "    \n",
    "    if save:\n",
    "        saver = tf.train.Saver()\n",
    "        path = os.path.join(model_path, 'ckpt')\n",
    "        saver.save(sess, path)"
   ]
  },
  {
   "cell_type": "markdown",
   "metadata": {},
   "source": [
    "## Model Ensemble"
   ]
  },
  {
   "cell_type": "code",
   "execution_count": 17,
   "metadata": {},
   "outputs": [
    {
     "name": "stdout",
     "output_type": "stream",
     "text": [
      "INFO:tensorflow:Restoring parameters from ./models/model_1/ckpt\n",
      "INFO:tensorflow:Restoring parameters from ./models/model_2/ckpt\n"
     ]
    }
   ],
   "source": [
    "test_pred = []\n",
    "test_loss = []\n",
    "test_acc = []\n",
    "\n",
    "num_models = 2\n",
    "graphs = [tf.Graph() for _ in range(num_models)]\n",
    "sessions = [tf.Session(graph=g) for g in graphs]\n",
    "\n",
    "for i in range(len(graphs)):\n",
    "    with graphs[i].as_default():\n",
    "        model_path = './models/model_' + str(i + 1)\n",
    "        meta_path = os.path.join(model_path, 'ckpt.meta')\n",
    "        ckpt = tf.train.get_checkpoint_state(model_path)\n",
    "        \n",
    "        imported_graph = tf.train.import_meta_graph(meta_path)\n",
    "        imported_graph.restore(sessions[i], ckpt.model_checkpoint_path)\n",
    "                \n",
    "        sessions[i].run('test_init_op', feed_dict={'batch_size:0': len(X_test)})\n",
    "        \n",
    "        pred, loss, acc = sessions[i].run(['pred:0', 'loss:0', 'acc:0'])\n",
    "        test_pred.append(pred)\n",
    "        test_loss.append(loss)\n",
    "        test_acc.append(acc)"
   ]
  },
  {
   "cell_type": "code",
   "execution_count": 18,
   "metadata": {},
   "outputs": [
    {
     "data": {
      "text/plain": [
       "[0.9671, 0.9675]"
      ]
     },
     "execution_count": 18,
     "metadata": {},
     "output_type": "execute_result"
    }
   ],
   "source": [
    "test_acc"
   ]
  },
  {
   "cell_type": "code",
   "execution_count": 19,
   "metadata": {},
   "outputs": [],
   "source": [
    "def compute_acc(pred, labels_one_hot):\n",
    "    pred_max = tf.keras.utils.to_categorical(np.argmax(pred, axis=-1), num_classes)\n",
    "    return np.mean(np.sum(labels_one_hot*pred_max, axis=1))"
   ]
  },
  {
   "cell_type": "code",
   "execution_count": 20,
   "metadata": {},
   "outputs": [],
   "source": [
    "for i in range(num_models):\n",
    "    assert compute_acc(test_pred[i], y_test_one_hot) == test_acc[i]"
   ]
  },
  {
   "cell_type": "code",
   "execution_count": 21,
   "metadata": {},
   "outputs": [
    {
     "name": "stdout",
     "output_type": "stream",
     "text": [
      "0.972\n"
     ]
    }
   ],
   "source": [
    "pred_avg = np.mean(test_pred, axis=0)\n",
    "print(compute_acc(pred_avg, y_test_one_hot))"
   ]
  },
  {
   "cell_type": "code",
   "execution_count": null,
   "metadata": {},
   "outputs": [],
   "source": []
  }
 ],
 "metadata": {
  "kernelspec": {
   "display_name": "Python 3",
   "language": "python",
   "name": "python3"
  },
  "language_info": {
   "codemirror_mode": {
    "name": "ipython",
    "version": 3
   },
   "file_extension": ".py",
   "mimetype": "text/x-python",
   "name": "python",
   "nbconvert_exporter": "python",
   "pygments_lexer": "ipython3",
   "version": "3.6.8"
  }
 },
 "nbformat": 4,
 "nbformat_minor": 2
}
