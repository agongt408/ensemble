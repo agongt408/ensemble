{
 "cells": [
  {
   "cell_type": "markdown",
   "metadata": {},
   "source": [
    "# Make Results Figures"
   ]
  },
  {
   "cell_type": "code",
   "execution_count": 1,
   "metadata": {},
   "outputs": [],
   "source": [
    "import numpy as np\n",
    "import pandas as pd\n",
    "import matplotlib.pyplot as plt"
   ]
  },
  {
   "cell_type": "code",
   "execution_count": 48,
   "metadata": {},
   "outputs": [],
   "source": [
    "architecture = 'fcn2'\n",
    "branches = 4\n",
    "shared_frac_list = [0, 0.25, 0.5, 0.75, 1]"
   ]
  },
  {
   "cell_type": "markdown",
   "metadata": {},
   "source": [
    "## Ensemble"
   ]
  },
  {
   "cell_type": "code",
   "execution_count": 49,
   "metadata": {},
   "outputs": [],
   "source": [
    "df = pd.read_csv('results/mnist-{}/B{}-test.csv'.format(architecture, branches))"
   ]
  },
  {
   "cell_type": "code",
   "execution_count": 50,
   "metadata": {},
   "outputs": [
    {
     "data": {
      "text/html": [
       "<div>\n",
       "<style scoped>\n",
       "    .dataframe tbody tr th:only-of-type {\n",
       "        vertical-align: middle;\n",
       "    }\n",
       "\n",
       "    .dataframe tbody tr th {\n",
       "        vertical-align: top;\n",
       "    }\n",
       "\n",
       "    .dataframe thead th {\n",
       "        text-align: right;\n",
       "    }\n",
       "</style>\n",
       "<table border=\"1\" class=\"dataframe\">\n",
       "  <thead>\n",
       "    <tr style=\"text-align: right;\">\n",
       "      <th></th>\n",
       "      <th>Unnamed: 0</th>\n",
       "      <th>acc_1</th>\n",
       "      <th>acc_2</th>\n",
       "      <th>acc_3</th>\n",
       "      <th>acc_4</th>\n",
       "      <th>after_mean_acc</th>\n",
       "      <th>before_mean_acc</th>\n",
       "      <th>model_id_1</th>\n",
       "      <th>model_id_2</th>\n",
       "      <th>model_id_3</th>\n",
       "      <th>model_id_4</th>\n",
       "    </tr>\n",
       "  </thead>\n",
       "  <tbody>\n",
       "    <tr>\n",
       "      <th>0</th>\n",
       "      <td>0</td>\n",
       "      <td>0.9494</td>\n",
       "      <td>0.9426</td>\n",
       "      <td>0.9540</td>\n",
       "      <td>0.9437</td>\n",
       "      <td>0.9560</td>\n",
       "      <td>0.9565</td>\n",
       "      <td>3</td>\n",
       "      <td>6</td>\n",
       "      <td>4</td>\n",
       "      <td>8</td>\n",
       "    </tr>\n",
       "    <tr>\n",
       "      <th>1</th>\n",
       "      <td>0</td>\n",
       "      <td>0.9540</td>\n",
       "      <td>0.9452</td>\n",
       "      <td>0.9481</td>\n",
       "      <td>0.9494</td>\n",
       "      <td>0.9564</td>\n",
       "      <td>0.9561</td>\n",
       "      <td>4</td>\n",
       "      <td>1</td>\n",
       "      <td>5</td>\n",
       "      <td>3</td>\n",
       "    </tr>\n",
       "    <tr>\n",
       "      <th>2</th>\n",
       "      <td>0</td>\n",
       "      <td>0.9481</td>\n",
       "      <td>0.9540</td>\n",
       "      <td>0.9437</td>\n",
       "      <td>0.9381</td>\n",
       "      <td>0.9561</td>\n",
       "      <td>0.9563</td>\n",
       "      <td>5</td>\n",
       "      <td>4</td>\n",
       "      <td>8</td>\n",
       "      <td>7</td>\n",
       "    </tr>\n",
       "    <tr>\n",
       "      <th>3</th>\n",
       "      <td>0</td>\n",
       "      <td>0.9437</td>\n",
       "      <td>0.9540</td>\n",
       "      <td>0.9420</td>\n",
       "      <td>0.9494</td>\n",
       "      <td>0.9568</td>\n",
       "      <td>0.9568</td>\n",
       "      <td>8</td>\n",
       "      <td>4</td>\n",
       "      <td>2</td>\n",
       "      <td>3</td>\n",
       "    </tr>\n",
       "    <tr>\n",
       "      <th>4</th>\n",
       "      <td>0</td>\n",
       "      <td>0.9494</td>\n",
       "      <td>0.9540</td>\n",
       "      <td>0.9381</td>\n",
       "      <td>0.9481</td>\n",
       "      <td>0.9551</td>\n",
       "      <td>0.9550</td>\n",
       "      <td>3</td>\n",
       "      <td>4</td>\n",
       "      <td>7</td>\n",
       "      <td>5</td>\n",
       "    </tr>\n",
       "    <tr>\n",
       "      <th>5</th>\n",
       "      <td>0</td>\n",
       "      <td>0.9420</td>\n",
       "      <td>0.9481</td>\n",
       "      <td>0.9426</td>\n",
       "      <td>0.9437</td>\n",
       "      <td>0.9557</td>\n",
       "      <td>0.9563</td>\n",
       "      <td>2</td>\n",
       "      <td>5</td>\n",
       "      <td>6</td>\n",
       "      <td>8</td>\n",
       "    </tr>\n",
       "    <tr>\n",
       "      <th>6</th>\n",
       "      <td>0</td>\n",
       "      <td>0.9420</td>\n",
       "      <td>0.9381</td>\n",
       "      <td>0.9481</td>\n",
       "      <td>0.9540</td>\n",
       "      <td>0.9553</td>\n",
       "      <td>0.9557</td>\n",
       "      <td>2</td>\n",
       "      <td>7</td>\n",
       "      <td>5</td>\n",
       "      <td>4</td>\n",
       "    </tr>\n",
       "    <tr>\n",
       "      <th>7</th>\n",
       "      <td>0</td>\n",
       "      <td>0.9481</td>\n",
       "      <td>0.9540</td>\n",
       "      <td>0.9420</td>\n",
       "      <td>0.9452</td>\n",
       "      <td>0.9559</td>\n",
       "      <td>0.9560</td>\n",
       "      <td>5</td>\n",
       "      <td>4</td>\n",
       "      <td>2</td>\n",
       "      <td>1</td>\n",
       "    </tr>\n",
       "  </tbody>\n",
       "</table>\n",
       "</div>"
      ],
      "text/plain": [
       "   Unnamed: 0   acc_1   acc_2   acc_3   acc_4  after_mean_acc  \\\n",
       "0           0  0.9494  0.9426  0.9540  0.9437          0.9560   \n",
       "1           0  0.9540  0.9452  0.9481  0.9494          0.9564   \n",
       "2           0  0.9481  0.9540  0.9437  0.9381          0.9561   \n",
       "3           0  0.9437  0.9540  0.9420  0.9494          0.9568   \n",
       "4           0  0.9494  0.9540  0.9381  0.9481          0.9551   \n",
       "5           0  0.9420  0.9481  0.9426  0.9437          0.9557   \n",
       "6           0  0.9420  0.9381  0.9481  0.9540          0.9553   \n",
       "7           0  0.9481  0.9540  0.9420  0.9452          0.9559   \n",
       "\n",
       "   before_mean_acc  model_id_1  model_id_2  model_id_3  model_id_4  \n",
       "0           0.9565           3           6           4           8  \n",
       "1           0.9561           4           1           5           3  \n",
       "2           0.9563           5           4           8           7  \n",
       "3           0.9568           8           4           2           3  \n",
       "4           0.9550           3           4           7           5  \n",
       "5           0.9563           2           5           6           8  \n",
       "6           0.9557           2           7           5           4  \n",
       "7           0.9560           5           4           2           1  "
      ]
     },
     "execution_count": 50,
     "metadata": {},
     "output_type": "execute_result"
    }
   ],
   "source": [
    "df"
   ]
  },
  {
   "cell_type": "code",
   "execution_count": 51,
   "metadata": {},
   "outputs": [
    {
     "name": "stdout",
     "output_type": "stream",
     "text": [
      "0.9560875 0.0005488624600025195\n"
     ]
    }
   ],
   "source": [
    "avg_acc = df['before_mean_acc'].mean()\n",
    "std_acc = df['before_mean_acc'].std()\n",
    "print(avg_acc, std_acc)"
   ]
  },
  {
   "cell_type": "markdown",
   "metadata": {},
   "source": [
    "## Baseline"
   ]
  },
  {
   "cell_type": "code",
   "execution_count": 52,
   "metadata": {},
   "outputs": [
    {
     "name": "stdout",
     "output_type": "stream",
     "text": [
      "0.9453874975442886\n"
     ]
    }
   ],
   "source": [
    "baseline_val_acc = []\n",
    "for i in range(8):\n",
    "    df = pd.read_csv('results/mnist-{}/train_{}.csv'.format(architecture, i+1))\n",
    "    baseline_val_acc.append(df.iloc[-1]['val_acc'])\n",
    "baseline = np.mean(baseline_val_acc)\n",
    "print(baseline)"
   ]
  },
  {
   "cell_type": "code",
   "execution_count": 53,
   "metadata": {},
   "outputs": [
    {
     "name": "stdout",
     "output_type": "stream",
     "text": [
      "[0.9452000260353088, 0.9419999718666076, 0.9494000077247621, 0.9539999961853028, 0.948099970817566, 0.9426000118255616, 0.9380999803543092, 0.9437000155448914]\n"
     ]
    }
   ],
   "source": [
    "print(baseline_val_acc)"
   ]
  },
  {
   "cell_type": "markdown",
   "metadata": {},
   "source": [
    "## Virtual Branching"
   ]
  },
  {
   "cell_type": "code",
   "execution_count": 54,
   "metadata": {},
   "outputs": [
    {
     "name": "stdout",
     "output_type": "stream",
     "text": [
      "0 [0.9588000178337096, 0.9582999944686891, 0.9573000073432922, 0.9581000208854676]\n",
      "0.25 [0.9563999772071838, 0.9570000171661376, 0.955900013446808, 0.9556000232696532]\n",
      "0.5 [0.9538999795913696, 0.9549000263214112, 0.9542000293731691, 0.9524999856948853]\n",
      "0.75 [0.9513999819755554, 0.9570000171661376, 0.9556000232696532, 0.9574999809265136]\n",
      "1 [0.9541000127792358, 0.9550999999046326, 0.9542999863624572, 0.9541000127792358]\n"
     ]
    }
   ],
   "source": [
    "results = {}\n",
    "results_std = {}\n",
    "for frac in shared_frac_list:\n",
    "    val_acc = []\n",
    "    for i in range(4):\n",
    "        df = pd.read_csv('results/vb-mnist-{}/B{}/S{:.2f}/train_{}.csv'.format(architecture, branches, frac, i+1))\n",
    "        val_acc.append(df.iloc[-1]['val_acc_ensemble'])\n",
    "    print(frac, val_acc)\n",
    "    results[frac] = np.mean(val_acc)\n",
    "    results_std[frac] = np.std(val_acc)"
   ]
  },
  {
   "cell_type": "code",
   "execution_count": 55,
   "metadata": {},
   "outputs": [
    {
     "data": {
      "text/plain": [
       "{0: 0.9581250101327896,\n",
       " 0.25: 0.9562250077724457,\n",
       " 0.5: 0.9538750052452087,\n",
       " 0.75: 0.955375000834465,\n",
       " 1: 0.9544000029563904}"
      ]
     },
     "execution_count": 55,
     "metadata": {},
     "output_type": "execute_result"
    }
   ],
   "source": [
    "results"
   ]
  },
  {
   "cell_type": "markdown",
   "metadata": {},
   "source": [
    "## Create Figure"
   ]
  },
  {
   "cell_type": "code",
   "execution_count": 60,
   "metadata": {},
   "outputs": [
    {
     "data": {
      "image/png": "[encoded data removed]",
      "text/plain": [
       "<Figure size 432x288 with 1 Axes>"
      ]
     },
     "metadata": {
      "needs_background": "light"
     },
     "output_type": "display_data"
    }
   ],
   "source": [
    "results_list = list(results.items())\n",
    "results_list.sort()\n",
    "results_list = np.array(results_list)\n",
    "\n",
    "plt.plot(results_list[:, 0], results_list[:,1], label='vbranch', color='blue')\n",
    "trials = 4\n",
    "error = np.sort(np.array(list(results_std.items())), 0)[:, 1] / np.sqrt(trials)\n",
    "plt.errorbar(results_list[:, 0], results_list[:,1], error*2)\n",
    "\n",
    "plt.plot(results_list[:, 0], [avg_acc]*len(results_list), label='ensemble', linestyle='--')\n",
    "plt.plot(results_list[:, 0], [baseline]*len(results_list), label='baseline', linestyle='--')\n",
    "\n",
    "# if architecture == 'fcn':\n",
    "#     plt.ylim(0.94, 0.96)\n",
    "# else:\n",
    "#     plt.ylim(0.97, 0.99)\n",
    "\n",
    "plt.legend(loc='lower right')\n",
    "plt.xlabel('shared frac')\n",
    "plt.ylabel('acc')\n",
    "plt.title('{} x{} acc +/- 2*SEM'.format(architecture.upper(), branches))\n",
    "\n",
    "plt.savefig('figs/{}-{}-results.png'.format(architecture, branches))\n",
    "plt.show()"
   ]
  },
  {
   "cell_type": "markdown",
   "metadata": {},
   "source": [
    "## Model Parameters"
   ]
  },
  {
   "cell_type": "code",
   "execution_count": 2,
   "metadata": {},
   "outputs": [],
   "source": [
    "import vbranch as vb\n",
    "from experiments.classification import baseline as baseline_expt\n",
    "from experiments.classification import vbranch as vb_expt"
   ]
  },
  {
   "cell_type": "code",
   "execution_count": 12,
   "metadata": {},
   "outputs": [
    {
     "name": "stdout",
     "output_type": "stream",
     "text": [
      "WARNING:tensorflow:From /home/gong/anaconda3/lib/python3.5/site-packages/tensorflow/python/framework/op_def_library.py:263: colocate_with (from tensorflow.python.framework.ops) is deprecated and will be removed in a future version.\n",
      "Instructions for updating:\n",
      "Colocations handled automatically by placer.\n"
     ]
    }
   ],
   "source": [
    "import tensorflow as tf\n",
    "\n",
    "num_classes = 10\n",
    "\n",
    "tf.reset_default_graph()\n",
    "inputs = tf.placeholder('float32', [None, 784])\n",
    "labels = tf.placeholder('float32', [None, num_classes])\n",
    "\n",
    "# Baseline\n",
    "model = baseline_expt.build_model(architecture, inputs, labels, num_classes,1, test=True)\n",
    "baseline_params = model.count_parameters()\n",
    "\n",
    "# Vbranch params\n",
    "vbranch_params = []\n",
    "for frac in [0, 0.25, 0.5, 0.75, 1]:\n",
    "    tf.reset_default_graph()\n",
    "    \n",
    "    inputs = tf.placeholder('float32', [None, 784])\n",
    "    labels = tf.placeholder('float32', [None, num_classes])\n",
    "\n",
    "    model = vb_expt.build_model(architecture,[inputs]*branches,[labels]*branches, \n",
    "                                num_classes, branches, 1, frac, test=True)\n",
    "    vbranch_params.append(model.count_parameters())"
   ]
  },
  {
   "cell_type": "code",
   "execution_count": 15,
   "metadata": {},
   "outputs": [],
   "source": [
    "param_ratio = [p / baseline_params for p in vbranch_params]\n",
    "ideal_ratio = branches - np.array(shared_frac_list)**2 * (branches-1)"
   ]
  },
  {
   "cell_type": "code",
   "execution_count": 18,
   "metadata": {},
   "outputs": [
    {
     "data": {
      "image/png": "[encoded data removed]",
      "text/plain": [
       "<Figure size 432x288 with 1 Axes>"
      ]
     },
     "metadata": {
      "needs_background": "light"
     },
     "output_type": "display_data"
    }
   ],
   "source": [
    "plt.scatter(shared_frac_list, param_ratio, color='orange')\n",
    "plt.plot(shared_frac_list, [1]*len(shared_frac_list))\n",
    "plt.plot(shared_frac_list, ideal_ratio)\n",
    "\n",
    "plt.xlabel('shared frac')\n",
    "plt.ylabel('params / baseline')\n",
    "plt.title('vbranch parameter count')\n",
    "\n",
    "plt.savefig('figs/vbranch-parameter-count.png')\n",
    "plt.show()"
   ]
  },
  {
   "cell_type": "code",
   "execution_count": null,
   "metadata": {},
   "outputs": [],
   "source": []
  }
 ],
 "metadata": {
  "kernelspec": {
   "display_name": "Python 3",
   "language": "python",
   "name": "python3"
  },
  "language_info": {
   "codemirror_mode": {
    "name": "ipython",
    "version": 3
   },
   "file_extension": ".py",
   "mimetype": "text/x-python",
   "name": "python",
   "nbconvert_exporter": "python",
   "pygments_lexer": "ipython3",
   "version": "3.5.6"
  }
 },
 "nbformat": 4,
 "nbformat_minor": 2
}
