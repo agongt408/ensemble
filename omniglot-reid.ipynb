{
 "cells": [
  {
   "cell_type": "markdown",
   "metadata": {},
   "source": [
    "# Omnigot One-Shot with Virtual Branching"
   ]
  },
  {
   "cell_type": "code",
   "execution_count": 1,
   "metadata": {},
   "outputs": [],
   "source": [
    "import tensorflow as tf\n",
    "import numpy as np\n",
    "import os\n",
    "import matplotlib.pyplot as plt\n",
    "import copy\n",
    "import cv2\n",
    "from scipy.spatial import distance"
   ]
  },
  {
   "cell_type": "code",
   "execution_count": 2,
   "metadata": {},
   "outputs": [],
   "source": [
    "import vbranch as vb\n",
    "from vbranch.applications.resnet import ResNet18\n",
    "from vbranch.applications.cnn import SimpleCNNLarge\n",
    "from vbranch.utils.training_utils import wrap_iterator\n",
    "from vbranch.utils.test_utils import baseline_one_shot, vbranch_one_shot, restore_sess\n",
    "from vbranch.utils import TFSessionGrow\n",
    "from vbranch.losses import triplet"
   ]
  },
  {
   "cell_type": "code",
   "execution_count": 3,
   "metadata": {},
   "outputs": [],
   "source": [
    "MODEL_ID = 1\n",
    "ARCHITECTURE = 'res'\n",
    "DATASET = 'omniglot'\n",
    "NUM_BRANCHES = 1\n",
    "SHARED_FRAC = None\n",
    "\n",
    "EPOCHS = 50\n",
    "STEPS_PER_EPOCH = 100\n",
    "T_0 = 30\n",
    "OUTPUT_DIM = 128"
   ]
  },
  {
   "cell_type": "markdown",
   "metadata": {},
   "source": [
    "## Load Data"
   ]
  },
  {
   "cell_type": "code",
   "execution_count": 4,
   "metadata": {},
   "outputs": [],
   "source": [
    "if DATASET == 'omniglot':\n",
    "    A, P, K = 4, 8, 4\n",
    "    train_generator = vb.datasets.omniglot.load_generator('train')\n",
    "    test_generator = vb.datasets.omniglot.load_generator('test')\n",
    "elif DATASET == 'market':\n",
    "    P, K = 18, 4\n",
    "    train_generator = vb.datasets.reid.TripletDataGenerator(dataset, 'train')"
   ]
  },
  {
   "cell_type": "code",
   "execution_count": 5,
   "metadata": {},
   "outputs": [],
   "source": [
    "batch = train_generator.next(4, 4, 4, flatten=False, preprocess=False)"
   ]
  },
  {
   "cell_type": "code",
   "execution_count": 6,
   "metadata": {},
   "outputs": [
    {
     "data": {
      "image/png": "[encoded data removed]",
      "text/plain": [
       "<Figure size 432x288 with 1 Axes>"
      ]
     },
     "metadata": {
      "needs_background": "light"
     },
     "output_type": "display_data"
    }
   ],
   "source": [
    "plt.imshow(batch[0, 3, 0].squeeze(), cmap=plt.cm.gray)\n",
    "plt.show()"
   ]
  },
  {
   "cell_type": "markdown",
   "metadata": {},
   "source": [
    "## Build Model"
   ]
  },
  {
   "cell_type": "code",
   "execution_count": 7,
   "metadata": {},
   "outputs": [
    {
     "name": "stdout",
     "output_type": "stream",
     "text": [
      "models/omniglot-res_1\n"
     ]
    }
   ],
   "source": [
    "if not os.path.isdir('models'):\n",
    "    os.system('mkdir models')\n",
    "\n",
    "if NUM_BRANCHES == 1:\n",
    "    model_name = '{}-{}_{:d}'.format(DATASET, ARCHITECTURE, MODEL_ID)\n",
    "else:\n",
    "    model_name = 'vb-{}-{}-B{:d}-S{:.2f}_{:d}'.format(DATASET, ARCHITECTURE,\n",
    "                                        NUM_BRANCHES, SHARED_FRAC, MODEL_ID)\n",
    "model_path = os.path.join('models', model_name)\n",
    "print(model_path)"
   ]
  },
  {
   "cell_type": "code",
   "execution_count": 8,
   "metadata": {},
   "outputs": [
    {
     "name": "stdout",
     "output_type": "stream",
     "text": [
      "(None, 105, 105, 1)\n",
      "WARNING:tensorflow:From /home/gong/anaconda3/lib/python3.5/site-packages/tensorflow/python/data/ops/dataset_ops.py:429: py_func (from tensorflow.python.ops.script_ops) is deprecated and will be removed in a future version.\n",
      "Instructions for updating:\n",
      "tf.py_func is deprecated in TF V2. Instead, use\n",
      "    tf.py_function, which takes a python function which manipulates tf eager\n",
      "    tensors instead of numpy arrays. It's easy to convert a tf eager tensor to\n",
      "    an ndarray (just call tensor.numpy()) but having access to eager tensors\n",
      "    means `tf.py_function`s can use accelerators such as GPUs as well as\n",
      "    being differentiable using a gradient tape.\n",
      "    \n",
      "WARNING:tensorflow:From /home/gong/anaconda3/lib/python3.5/site-packages/tensorflow/python/data/ops/iterator_ops.py:358: colocate_with (from tensorflow.python.framework.ops) is deprecated and will be removed in a future version.\n",
      "Instructions for updating:\n",
      "Colocations handled automatically by placer.\n"
     ]
    }
   ],
   "source": [
    "input_dim = (None,) + batch.shape[-3:]\n",
    "print(input_dim)\n",
    "\n",
    "tf.reset_default_graph()\n",
    "\n",
    "# Placeholder for feeding test images\n",
    "x = tf.placeholder('float32', input_dim, name='x')\n",
    "batch_size = tf.placeholder('int64', name='batch_size')\n",
    "\n",
    "inputs = []\n",
    "train_init_op = []\n",
    "test_init_op = []\n",
    "\n",
    "for i in range(NUM_BRANCHES):\n",
    "    train_dataset = tf.data.Dataset.from_generator(wrap_iterator(train_generator, A, P, K),\n",
    "                                                   'float32', output_shapes=input_dim)\n",
    "    test_dataset = tf.data.Dataset.from_tensor_slices(x).batch(batch_size)\n",
    "    iterator = tf.data.Iterator.from_structure('float32', input_dim)\n",
    "    \n",
    "    if NUM_BRANCHES == 1:\n",
    "        inputs = iterator.get_next()\n",
    "        train_init_op = iterator.make_initializer(train_dataset)\n",
    "        test_init_op = iterator.make_initializer(test_dataset, name='test_init_op')\n",
    "    else:\n",
    "        inputs.append(iterator.get_next(name='input_'+str(i+1)))\n",
    "        train_init_op.append(iterator.make_initializer(train_dataset))\n",
    "        test_init_op.append(iterator.make_initializer(test_dataset, \n",
    "                                                      name='test_init_op_'+str(i+1)))"
   ]
  },
  {
   "cell_type": "code",
   "execution_count": 9,
   "metadata": {},
   "outputs": [
    {
     "name": "stdout",
     "output_type": "stream",
     "text": [
      "i   Layer name                      Output shape      Parameters           Num param  Inbound             \n",
      "----------------------------------------------------------------------------------------------------------\n",
      "    Input                           [None,105,105,1]                                                      \n",
      "----------------------------------------------------------------------------------------------------------\n",
      "0   pre_conv (Conv2D)               [None,53,53,64]   [7,7,1,64] [64]      3200       IteratorGetNext:0   \n",
      "----------------------------------------------------------------------------------------------------------\n",
      "1   pre_bn (BatchNormalization)     [None,53,53,64]   [64] [64]            128        pre_conv            \n",
      "----------------------------------------------------------------------------------------------------------\n",
      "2   pre_relu (Activation)           [None,53,53,64]                        0          pre_bn              \n",
      "----------------------------------------------------------------------------------------------------------\n",
      "3   pre_max_pool2d (MaxPooling2D)   [None,27,27,64]                        0          pre_relu            \n",
      "----------------------------------------------------------------------------------------------------------\n",
      "4   res_1_1_conv_short (Conv2D)     [None,27,27,64]   [1,1,64,64] [64]     4160       pre_max_pool2d      \n",
      "----------------------------------------------------------------------------------------------------------\n",
      "5   res_1_1_bn_1 (BatchNormalizati  [None,27,27,64]   [64] [64]            128        pre_max_pool2d      \n",
      "----------------------------------------------------------------------------------------------------------\n",
      "6   res_1_1_relu_1 (Activation)     [None,27,27,64]                        0          res_1_1_bn_1        \n",
      "----------------------------------------------------------------------------------------------------------\n",
      "7   res_1_1_conv_1 (Conv2D)         [None,27,27,64]   [3,3,64,64] [64]     36928      res_1_1_relu_1      \n",
      "----------------------------------------------------------------------------------------------------------\n",
      "8   res_1_1_bn_2 (BatchNormalizati  [None,27,27,64]   [64] [64]            128        res_1_1_conv_1      \n",
      "----------------------------------------------------------------------------------------------------------\n",
      "9   res_1_1_relu_2 (Activation)     [None,27,27,64]                        0          res_1_1_bn_2        \n",
      "----------------------------------------------------------------------------------------------------------\n",
      "10  res_1_1_conv_2 (Conv2D)         [None,27,27,64]   [3,3,64,64] [64]     36928      res_1_1_relu_2      \n",
      "----------------------------------------------------------------------------------------------------------\n",
      "11  res_1_1_add (Add)               [None,27,27,64]                        0          res_1_1_conv_short  \n",
      "                                                                                      res_1_1_conv_2      \n",
      "----------------------------------------------------------------------------------------------------------\n",
      "12  res_1_2_bn_1 (BatchNormalizati  [None,27,27,64]   [64] [64]            128        res_1_1_add         \n",
      "----------------------------------------------------------------------------------------------------------\n",
      "13  res_1_2_relu_1 (Activation)     [None,27,27,64]                        0          res_1_2_bn_1        \n",
      "----------------------------------------------------------------------------------------------------------\n",
      "14  res_1_2_conv_1 (Conv2D)         [None,27,27,64]   [3,3,64,64] [64]     36928      res_1_2_relu_1      \n",
      "----------------------------------------------------------------------------------------------------------\n",
      "15  res_1_2_bn_2 (BatchNormalizati  [None,27,27,64]   [64] [64]            128        res_1_2_conv_1      \n",
      "----------------------------------------------------------------------------------------------------------\n",
      "16  res_1_2_relu_2 (Activation)     [None,27,27,64]                        0          res_1_2_bn_2        \n",
      "----------------------------------------------------------------------------------------------------------\n",
      "17  res_1_2_conv_2 (Conv2D)         [None,27,27,64]   [3,3,64,64] [64]     36928      res_1_2_relu_2      \n",
      "----------------------------------------------------------------------------------------------------------\n",
      "18  res_1_2_add (Add)               [None,27,27,64]                        0          res_1_1_add         \n",
      "                                                                                      res_1_2_conv_2      \n",
      "----------------------------------------------------------------------------------------------------------\n",
      "19  avg_pool2d_1 (AveragePooling2D  [None,13,13,64]                        0          res_1_2_add         \n",
      "----------------------------------------------------------------------------------------------------------\n",
      "20  res_2_1_conv_short (Conv2D)     [None,13,13,128]  [1,1,64,128] [128]   8320       avg_pool2d_1        \n",
      "----------------------------------------------------------------------------------------------------------\n",
      "21  res_2_1_bn_1 (BatchNormalizati  [None,13,13,64]   [64] [64]            128        avg_pool2d_1        \n",
      "----------------------------------------------------------------------------------------------------------\n",
      "22  res_2_1_relu_1 (Activation)     [None,13,13,64]                        0          res_2_1_bn_1        \n",
      "----------------------------------------------------------------------------------------------------------\n",
      "23  res_2_1_conv_1 (Conv2D)         [None,13,13,128]  [3,3,64,128] [128]   73856      res_2_1_relu_1      \n",
      "----------------------------------------------------------------------------------------------------------\n",
      "24  res_2_1_bn_2 (BatchNormalizati  [None,13,13,128]  [128] [128]          256        res_2_1_conv_1      \n",
      "----------------------------------------------------------------------------------------------------------\n",
      "25  res_2_1_relu_2 (Activation)     [None,13,13,128]                       0          res_2_1_bn_2        \n",
      "----------------------------------------------------------------------------------------------------------\n",
      "26  res_2_1_conv_2 (Conv2D)         [None,13,13,128]  [3,3,128,128] [128]  147584     res_2_1_relu_2      \n",
      "----------------------------------------------------------------------------------------------------------\n",
      "27  res_2_1_add (Add)               [None,13,13,128]                       0          res_2_1_conv_short  \n",
      "                                                                                      res_2_1_conv_2      \n",
      "----------------------------------------------------------------------------------------------------------\n",
      "28  res_2_2_bn_1 (BatchNormalizati  [None,13,13,128]  [128] [128]          256        res_2_1_add         \n",
      "----------------------------------------------------------------------------------------------------------\n",
      "29  res_2_2_relu_1 (Activation)     [None,13,13,128]                       0          res_2_2_bn_1        \n",
      "----------------------------------------------------------------------------------------------------------\n",
      "30  res_2_2_conv_1 (Conv2D)         [None,13,13,128]  [3,3,128,128] [128]  147584     res_2_2_relu_1      \n",
      "----------------------------------------------------------------------------------------------------------\n",
      "31  res_2_2_bn_2 (BatchNormalizati  [None,13,13,128]  [128] [128]          256        res_2_2_conv_1      \n",
      "----------------------------------------------------------------------------------------------------------\n",
      "32  res_2_2_relu_2 (Activation)     [None,13,13,128]                       0          res_2_2_bn_2        \n",
      "----------------------------------------------------------------------------------------------------------\n",
      "33  res_2_2_conv_2 (Conv2D)         [None,13,13,128]  [3,3,128,128] [128]  147584     res_2_2_relu_2      \n",
      "----------------------------------------------------------------------------------------------------------\n",
      "34  res_2_2_add (Add)               [None,13,13,128]                       0          res_2_1_add         \n",
      "                                                                                      res_2_2_conv_2      \n",
      "----------------------------------------------------------------------------------------------------------\n",
      "35  avg_pool2d_2 (AveragePooling2D  [None,6,6,128]                         0          res_2_2_add         \n",
      "----------------------------------------------------------------------------------------------------------\n",
      "36  res_3_1_conv_short (Conv2D)     [None,6,6,256]    [1,1,128,256] [256]  33024      avg_pool2d_2        \n",
      "----------------------------------------------------------------------------------------------------------\n",
      "37  res_3_1_bn_1 (BatchNormalizati  [None,6,6,128]    [128] [128]          256        avg_pool2d_2        \n",
      "----------------------------------------------------------------------------------------------------------\n",
      "38  res_3_1_relu_1 (Activation)     [None,6,6,128]                         0          res_3_1_bn_1        \n",
      "----------------------------------------------------------------------------------------------------------\n",
      "39  res_3_1_conv_1 (Conv2D)         [None,6,6,256]    [3,3,128,256] [256]  295168     res_3_1_relu_1      \n",
      "----------------------------------------------------------------------------------------------------------\n",
      "40  res_3_1_bn_2 (BatchNormalizati  [None,6,6,256]    [256] [256]          512        res_3_1_conv_1      \n",
      "----------------------------------------------------------------------------------------------------------\n",
      "41  res_3_1_relu_2 (Activation)     [None,6,6,256]                         0          res_3_1_bn_2        \n",
      "----------------------------------------------------------------------------------------------------------\n",
      "42  res_3_1_conv_2 (Conv2D)         [None,6,6,256]    [3,3,256,256] [256]  590080     res_3_1_relu_2      \n",
      "----------------------------------------------------------------------------------------------------------\n",
      "43  res_3_1_add (Add)               [None,6,6,256]                         0          res_3_1_conv_short  \n",
      "                                                                                      res_3_1_conv_2      \n",
      "----------------------------------------------------------------------------------------------------------\n",
      "44  res_3_2_bn_1 (BatchNormalizati  [None,6,6,256]    [256] [256]          512        res_3_1_add         \n",
      "----------------------------------------------------------------------------------------------------------\n",
      "45  res_3_2_relu_1 (Activation)     [None,6,6,256]                         0          res_3_2_bn_1        \n",
      "----------------------------------------------------------------------------------------------------------\n",
      "46  res_3_2_conv_1 (Conv2D)         [None,6,6,256]    [3,3,256,256] [256]  590080     res_3_2_relu_1      \n",
      "----------------------------------------------------------------------------------------------------------\n",
      "47  res_3_2_bn_2 (BatchNormalizati  [None,6,6,256]    [256] [256]          512        res_3_2_conv_1      \n",
      "----------------------------------------------------------------------------------------------------------\n",
      "48  res_3_2_relu_2 (Activation)     [None,6,6,256]                         0          res_3_2_bn_2        \n",
      "----------------------------------------------------------------------------------------------------------\n",
      "49  res_3_2_conv_2 (Conv2D)         [None,6,6,256]    [3,3,256,256] [256]  590080     res_3_2_relu_2      \n",
      "----------------------------------------------------------------------------------------------------------\n",
      "50  res_3_2_add (Add)               [None,6,6,256]                         0          res_3_1_add         \n",
      "                                                                                      res_3_2_conv_2      \n",
      "----------------------------------------------------------------------------------------------------------\n",
      "51  avg_pool2d_3 (AveragePooling2D  [None,3,3,256]                         0          res_3_2_add         \n",
      "----------------------------------------------------------------------------------------------------------\n",
      "52  res_4_1_conv_short (Conv2D)     [None,3,3,512]    [1,1,256,512] [512]  131584     avg_pool2d_3        \n",
      "----------------------------------------------------------------------------------------------------------\n",
      "53  res_4_1_bn_1 (BatchNormalizati  [None,3,3,256]    [256] [256]          512        avg_pool2d_3        \n",
      "----------------------------------------------------------------------------------------------------------\n",
      "54  res_4_1_relu_1 (Activation)     [None,3,3,256]                         0          res_4_1_bn_1        \n",
      "----------------------------------------------------------------------------------------------------------\n",
      "55  res_4_1_conv_1 (Conv2D)         [None,3,3,512]    [3,3,256,512] [512]  1180160    res_4_1_relu_1      \n",
      "----------------------------------------------------------------------------------------------------------\n",
      "56  res_4_1_bn_2 (BatchNormalizati  [None,3,3,512]    [512] [512]          1024       res_4_1_conv_1      \n",
      "----------------------------------------------------------------------------------------------------------\n",
      "57  res_4_1_relu_2 (Activation)     [None,3,3,512]                         0          res_4_1_bn_2        \n",
      "----------------------------------------------------------------------------------------------------------\n",
      "58  res_4_1_conv_2 (Conv2D)         [None,3,3,512]    [3,3,512,512] [512]  2359808    res_4_1_relu_2      \n",
      "----------------------------------------------------------------------------------------------------------\n",
      "59  res_4_1_add (Add)               [None,3,3,512]                         0          res_4_1_conv_short  \n",
      "                                                                                      res_4_1_conv_2      \n",
      "----------------------------------------------------------------------------------------------------------\n",
      "60  res_4_2_bn_1 (BatchNormalizati  [None,3,3,512]    [512] [512]          1024       res_4_1_add         \n",
      "----------------------------------------------------------------------------------------------------------\n",
      "61  res_4_2_relu_1 (Activation)     [None,3,3,512]                         0          res_4_2_bn_1        \n",
      "----------------------------------------------------------------------------------------------------------\n",
      "62  res_4_2_conv_1 (Conv2D)         [None,3,3,512]    [3,3,512,512] [512]  2359808    res_4_2_relu_1      \n",
      "----------------------------------------------------------------------------------------------------------\n",
      "63  res_4_2_bn_2 (BatchNormalizati  [None,3,3,512]    [512] [512]          1024       res_4_2_conv_1      \n",
      "----------------------------------------------------------------------------------------------------------\n",
      "64  res_4_2_relu_2 (Activation)     [None,3,3,512]                         0          res_4_2_bn_2        \n",
      "----------------------------------------------------------------------------------------------------------\n",
      "65  res_4_2_conv_2 (Conv2D)         [None,3,3,512]    [3,3,512,512] [512]  2359808    res_4_2_relu_2      \n",
      "----------------------------------------------------------------------------------------------------------\n",
      "66  res_4_2_add (Add)               [None,3,3,512]                         0          res_4_1_add         \n",
      "                                                                                      res_4_2_conv_2      \n",
      "----------------------------------------------------------------------------------------------------------\n",
      "67  global_pool2d (GlobalAveragePo  [None,512]                             0          res_4_2_add         \n",
      "----------------------------------------------------------------------------------------------------------\n",
      "68  fc1 (Dense)                     [None,512]        [512,512] [512]      262656     global_pool2d       \n",
      "----------------------------------------------------------------------------------------------------------\n",
      "69  bn_fc1 (BatchNormalization)     [None,512]        [512] [512]          1024       fc1                 \n",
      "----------------------------------------------------------------------------------------------------------\n",
      "70  relu_fc1 (Activation)           [None,512]                             0          bn_fc1              \n",
      "----------------------------------------------------------------------------------------------------------\n",
      "71  output (Dense)                  [None,128]        [512,128] [128]      65664      relu_fc1            \n",
      "----------------------------------------------------------------------------------------------------------\n",
      "Total parameters: 11505856\n"
     ]
    }
   ],
   "source": [
    "name = 'model_' + str(MODEL_ID)\n",
    "\n",
    "with tf.variable_scope(name, reuse=tf.AUTO_REUSE):\n",
    "    if ARCHITECTURE == 'simple':\n",
    "        model = SimpleCNNLarge(inputs, OUTPUT_DIM, name=name, shared_frac=SHARED_FRAC)\n",
    "    elif ARCHITECTURE == 'res':\n",
    "        model = ResNet18(inputs, OUTPUT_DIM, name=name, shared_frac=SHARED_FRAC)\n",
    "\n",
    "model.summary()"
   ]
  },
  {
   "cell_type": "code",
   "execution_count": 10,
   "metadata": {},
   "outputs": [
    {
     "name": "stdout",
     "output_type": "stream",
     "text": [
      "Tensor(\"model_1/output/output:0\", shape=(?, 128), dtype=float32)\n"
     ]
    }
   ],
   "source": [
    "print(model.output)"
   ]
  },
  {
   "cell_type": "code",
   "execution_count": 11,
   "metadata": {},
   "outputs": [],
   "source": [
    "def lr_exp_decay_scheduler(init_lr, t0, t1, decay):\n",
    "    \"\"\"NOTE: `episode` starts from 1\"\"\"\n",
    "    def func(episode):\n",
    "        if episode < t0:\n",
    "            return init_lr\n",
    "        lr = init_lr * np.power(decay, (episode - t0) / (t1 - t0))\n",
    "        return lr\n",
    "    return func"
   ]
  },
  {
   "cell_type": "code",
   "execution_count": 12,
   "metadata": {},
   "outputs": [
    {
     "data": {
      "image/png": "[encoded data removed]",
      "text/plain": [
       "<Figure size 432x288 with 1 Axes>"
      ]
     },
     "metadata": {
      "needs_background": "light"
     },
     "output_type": "display_data"
    }
   ],
   "source": [
    "lr_scheduler = lr_exp_decay_scheduler(0.001, T_0, EPOCHS, 0.001)\n",
    "lr_steps = [lr_scheduler(e + 1) for e in range(EPOCHS)]\n",
    "plt.plot(lr_steps)\n",
    "plt.show()"
   ]
  },
  {
   "cell_type": "code",
   "execution_count": 13,
   "metadata": {},
   "outputs": [
    {
     "name": "stdout",
     "output_type": "stream",
     "text": [
      "WARNING:tensorflow:From /home/gong/anaconda3/lib/python3.5/site-packages/tensorflow/python/ops/math_ops.py:3066: to_int32 (from tensorflow.python.ops.math_ops) is deprecated and will be removed in a future version.\n",
      "Instructions for updating:\n",
      "Use tf.cast instead.\n",
      "WARNING:tensorflow:From /home/gong/anaconda3/lib/python3.5/site-packages/tensorflow/python/ops/math_grad.py:102: div (from tensorflow.python.ops.math_ops) is deprecated and will be removed in a future version.\n",
      "Instructions for updating:\n",
      "Deprecated in favor of operator or tf.math.divide.\n"
     ]
    }
   ],
   "source": [
    "lr = tf.placeholder('float32', name='lr')\n",
    "optimizer = tf.train.AdamOptimizer(learning_rate=lr)\n",
    "\n",
    "# Compile model\n",
    "model.compile(optimizer, 'triplet_omniglot', A=A, P=P, K=K)"
   ]
  },
  {
   "cell_type": "code",
   "execution_count": 14,
   "metadata": {
    "scrolled": true
   },
   "outputs": [
    {
     "name": "stdout",
     "output_type": "stream",
     "text": [
      "Epoch 1/50\n",
      "100/100 [==============================] - 32s 315ms/step - loss: 183.0801 - lr: 0.0010 - acc: 0.3850\n",
      "Epoch 2/50\n",
      "100/100 [==============================] - 15s 154ms/step - loss: 43.6197 - lr: 0.0010 - acc: 0.3925\n",
      "Epoch 3/50\n",
      "100/100 [==============================] - 15s 154ms/step - loss: 47.4357 - lr: 0.0010 - acc: 0.4050\n",
      "Epoch 4/50\n",
      "100/100 [==============================] - 15s 154ms/step - loss: 34.5992 - lr: 0.0010 - acc: 0.4925\n",
      "Epoch 5/50\n",
      "100/100 [==============================] - 16s 157ms/step - loss: 30.5089 - lr: 0.0010 - acc: 0.5825\n",
      "Epoch 6/50\n",
      "100/100 [==============================] - 15s 154ms/step - loss: 31.5411 - lr: 0.0010 - acc: 0.5850\n",
      "Epoch 7/50\n",
      "100/100 [==============================] - 15s 154ms/step - loss: 32.8864 - lr: 0.0010 - acc: 0.5300\n",
      "Epoch 8/50\n",
      "100/100 [==============================] - 15s 154ms/step - loss: 27.7138 - lr: 0.0010 - acc: 0.6125\n",
      "Epoch 9/50\n",
      "100/100 [==============================] - 15s 154ms/step - loss: 24.2260 - lr: 0.0010 - acc: 0.6250\n",
      "Epoch 10/50\n",
      "100/100 [==============================] - 15s 154ms/step - loss: 27.6739 - lr: 0.0010 - acc: 0.6000\n",
      "Epoch 11/50\n",
      "100/100 [==============================] - 15s 154ms/step - loss: 27.2095 - lr: 0.0010 - acc: 0.6350\n",
      "Epoch 12/50\n",
      "100/100 [==============================] - 15s 154ms/step - loss: 19.8028 - lr: 0.0010 - acc: 0.5875\n",
      "Epoch 13/50\n",
      "100/100 [==============================] - 15s 154ms/step - loss: 24.6117 - lr: 0.0010 - acc: 0.5725\n",
      "Epoch 14/50\n",
      "100/100 [==============================] - 15s 154ms/step - loss: 22.1184 - lr: 0.0010 - acc: 0.6475\n",
      "Epoch 15/50\n",
      "100/100 [==============================] - 16s 156ms/step - loss: 23.3726 - lr: 0.0010 - acc: 0.6350\n",
      "Epoch 16/50\n",
      "100/100 [==============================] - 16s 156ms/step - loss: 19.9139 - lr: 0.0010 - acc: 0.6625\n",
      "Epoch 17/50\n",
      "100/100 [==============================] - 20s 201ms/step - loss: 20.8415 - lr: 0.0010 - acc: 0.5925\n",
      "Epoch 18/50\n",
      "100/100 [==============================] - 15s 154ms/step - loss: 24.6950 - lr: 0.0010 - acc: 0.6450\n",
      "Epoch 19/50\n",
      "100/100 [==============================] - 16s 157ms/step - loss: 22.9439 - lr: 0.0010 - acc: 0.6800\n",
      "Epoch 20/50\n",
      "100/100 [==============================] - 15s 155ms/step - loss: 21.4967 - lr: 0.0010 - acc: 0.6625\n",
      "Epoch 21/50\n",
      "100/100 [==============================] - 16s 156ms/step - loss: 19.3500 - lr: 0.0010 - acc: 0.7075\n",
      "Epoch 22/50\n",
      "100/100 [==============================] - 16s 155ms/step - loss: 21.0019 - lr: 0.0010 - acc: 0.6975\n",
      "Epoch 23/50\n",
      "100/100 [==============================] - 16s 156ms/step - loss: 23.1260 - lr: 0.0010 - acc: 0.6150\n",
      "Epoch 24/50\n",
      "100/100 [==============================] - 16s 161ms/step - loss: 18.8346 - lr: 0.0010 - acc: 0.6700\n",
      "Epoch 25/50\n",
      "100/100 [==============================] - 15s 155ms/step - loss: 14.9764 - lr: 0.0010 - acc: 0.7050\n",
      "Epoch 26/50\n",
      "100/100 [==============================] - 16s 156ms/step - loss: 27.4411 - lr: 0.0010 - acc: 0.7000\n",
      "Epoch 27/50\n",
      "100/100 [==============================] - 16s 158ms/step - loss: 22.8626 - lr: 0.0010 - acc: 0.7025\n",
      "Epoch 28/50\n",
      "100/100 [==============================] - 16s 159ms/step - loss: 16.8194 - lr: 0.0010 - acc: 0.7125\n",
      "Epoch 29/50\n",
      "100/100 [==============================] - 15s 155ms/step - loss: 13.4683 - lr: 0.0010 - acc: 0.7125\n",
      "Epoch 30/50\n",
      "100/100 [==============================] - 16s 160ms/step - loss: 12.2500 - lr: 0.0010 - acc: 0.7425\n",
      "Epoch 31/50\n",
      "100/100 [==============================] - 16s 158ms/step - loss: 10.7226 - lr: 7.0795e-04 - acc: 0.7700\n",
      "Epoch 32/50\n",
      "100/100 [==============================] - 16s 159ms/step - loss: 6.5640 - lr: 5.0119e-04 - acc: 0.7700\n",
      "Epoch 33/50\n",
      "100/100 [==============================] - 16s 157ms/step - loss: 4.5815 - lr: 3.5481e-04 - acc: 0.8000\n",
      "Epoch 34/50\n",
      "100/100 [==============================] - 16s 160ms/step - loss: 4.3980 - lr: 2.5119e-04 - acc: 0.7950\n",
      "Epoch 35/50\n",
      "100/100 [==============================] - 16s 157ms/step - loss: 3.8073 - lr: 1.7783e-04 - acc: 0.7850\n",
      "Epoch 36/50\n",
      "100/100 [==============================] - 16s 157ms/step - loss: 3.3142 - lr: 1.2589e-04 - acc: 0.7875\n",
      "Epoch 37/50\n",
      "100/100 [==============================] - 15s 154ms/step - loss: 3.1192 - lr: 8.9125e-05 - acc: 0.8125\n",
      "Epoch 38/50\n",
      "100/100 [==============================] - 16s 157ms/step - loss: 2.7507 - lr: 6.3096e-05 - acc: 0.7825\n",
      "Epoch 39/50\n",
      "100/100 [==============================] - 16s 158ms/step - loss: 2.6630 - lr: 4.4668e-05 - acc: 0.8050\n",
      "Epoch 40/50\n",
      "100/100 [==============================] - 16s 157ms/step - loss: 2.8384 - lr: 3.1623e-05 - acc: 0.7950\n",
      "Epoch 41/50\n",
      "100/100 [==============================] - 16s 155ms/step - loss: 2.2771 - lr: 2.2387e-05 - acc: 0.8000\n",
      "Epoch 42/50\n",
      "100/100 [==============================] - 16s 157ms/step - loss: 2.6012 - lr: 1.5849e-05 - acc: 0.8050\n",
      "Epoch 43/50\n",
      "100/100 [==============================] - 16s 160ms/step - loss: 2.5150 - lr: 1.1220e-05 - acc: 0.8025\n",
      "Epoch 44/50\n",
      "100/100 [==============================] - 16s 158ms/step - loss: 2.2324 - lr: 7.9433e-06 - acc: 0.8025\n",
      "Epoch 45/50\n",
      "100/100 [==============================] - 15s 153ms/step - loss: 2.3142 - lr: 5.6234e-06 - acc: 0.8075\n",
      "Epoch 46/50\n",
      "100/100 [==============================] - 16s 159ms/step - loss: 2.3479 - lr: 3.9811e-06 - acc: 0.8025\n",
      "Epoch 47/50\n",
      "100/100 [==============================] - 16s 155ms/step - loss: 2.1940 - lr: 2.8184e-06 - acc: 0.8000\n",
      "Epoch 48/50\n",
      "100/100 [==============================] - 16s 158ms/step - loss: 2.2491 - lr: 1.9953e-06 - acc: 0.8000\n",
      "Epoch 49/50\n",
      "100/100 [==============================] - 16s 156ms/step - loss: 2.1574 - lr: 1.4125e-06 - acc: 0.8100\n",
      "Epoch 50/50\n",
      "100/100 [==============================] - 16s 156ms/step - loss: 1.9858 - lr: 1.0000e-06 - acc: 0.8050\n"
     ]
    }
   ],
   "source": [
    "with TFSessionGrow() as sess:\n",
    "    sess.run(tf.global_variables_initializer())\n",
    "    \n",
    "    if NUM_BRANCHES == 1:\n",
    "        loss = model.loss\n",
    "        train_op = model.train_op\n",
    "    else:\n",
    "        loss = model.losses\n",
    "        train_op = model.train_ops\n",
    "\n",
    "    for e in range(EPOCHS):\n",
    "        print(\"Epoch {}/{}\".format(e + 1, EPOCHS))\n",
    "        progbar = tf.keras.utils.Progbar(STEPS_PER_EPOCH)\n",
    "        sess.run(train_init_op)\n",
    "        learning_rate = lr_scheduler(e + 1)\n",
    "        \n",
    "        for i in range(STEPS_PER_EPOCH):\n",
    "            _, loss_values = sess.run([train_op, loss], \n",
    "                                      feed_dict={lr:learning_rate})\n",
    "            \n",
    "            # Update progress bar\n",
    "            if NUM_BRANCHES == 1:\n",
    "                values = [('loss', loss_values), ('lr', learning_rate)]\n",
    "                if i == STEPS_PER_EPOCH - 1:\n",
    "                    values.append(('acc', baseline_one_shot(sess, model_name=name)))\n",
    "            else:\n",
    "                values = []\n",
    "                \n",
    "                if i == STEPS_PER_EPOCH - 1:\n",
    "                    acc, baseline_acc_list = vbranch_one_shot(sess, model_name=name, \n",
    "                                                              n_branches=NUM_BRANCHES)\n",
    "                    values.append(('acc_ensemble', acc))\n",
    "                    \n",
    "                for b in range(NUM_BRANCHES):\n",
    "                    key = 'loss_'+str(b+1)\n",
    "                    values.append((key, loss_values[key]))\n",
    "                    if i == STEPS_PER_EPOCH - 1:\n",
    "                        values.append(('acc_'+str(b+1), baseline_acc_list[b]))\n",
    "                        \n",
    "                values.append(('lr', learning_rate))\n",
    "            \n",
    "            progbar.update(i + 1, values=values)\n",
    "    \n",
    "    saver = tf.train.Saver()\n",
    "    path = os.path.join(model_path, 'ckpt')\n",
    "    saver.save(sess, path)"
   ]
  },
  {
   "cell_type": "markdown",
   "metadata": {},
   "source": [
    "## Evaluation"
   ]
  },
  {
   "cell_type": "markdown",
   "metadata": {},
   "source": [
    "### Baseline"
   ]
  },
  {
   "cell_type": "code",
   "execution_count": 15,
   "metadata": {},
   "outputs": [
    {
     "name": "stdout",
     "output_type": "stream",
     "text": [
      "WARNING:tensorflow:From /home/gong/anaconda3/lib/python3.5/site-packages/tensorflow/python/training/saver.py:1266: checkpoint_exists (from tensorflow.python.training.checkpoint_management) is deprecated and will be removed in a future version.\n",
      "Instructions for updating:\n",
      "Use standard file APIs to check for files with this prefix.\n",
      "INFO:tensorflow:Restoring parameters from models/omniglot-res_1/ckpt\n",
      "Model 1 acc: 0.8049999999999999\n",
      "Mean acc: 0.8049999999999999 , std: 0.0\n"
     ]
    }
   ],
   "source": [
    "assert NUM_BRANCHES == 1\n",
    "\n",
    "model_id_list = [1]\n",
    "baseline_acc_list = []\n",
    "\n",
    "for model_id in model_id_list:\n",
    "    tf.reset_default_graph()\n",
    "    model_name = '{}-{}_{:d}'.format(DATASET, ARCHITECTURE, MODEL_ID)\n",
    "    model_path = os.path.join('models', model_name)\n",
    "    \n",
    "    with TFSessionGrow() as sess:\n",
    "        restore_sess(sess, model_path)\n",
    "        acc = baseline_one_shot(sess, model_name='model_'+str(model_id))\n",
    "        print('Model {} acc:'.format(model_id), acc)\n",
    "        baseline_acc_list.append(acc)\n",
    "        \n",
    "print('Mean acc:', np.mean(baseline_acc_list), ', std:', np.std(baseline_acc_list))"
   ]
  },
  {
   "cell_type": "markdown",
   "metadata": {},
   "source": [
    "### Virtual Branching"
   ]
  },
  {
   "cell_type": "code",
   "execution_count": 8,
   "metadata": {},
   "outputs": [
    {
     "name": "stdout",
     "output_type": "stream",
     "text": [
      "WARNING:tensorflow:From /home/gong/anaconda3/lib/python3.5/site-packages/tensorflow/python/training/saver.py:1266: checkpoint_exists (from tensorflow.python.training.checkpoint_management) is deprecated and will be removed in a future version.\n",
      "Instructions for updating:\n",
      "Use standard file APIs to check for files with this prefix.\n",
      "INFO:tensorflow:Restoring parameters from models/vb-omniglot-res-B2-S0.25_1/ckpt\n",
      "Model 1 acc: 0.8375 [0.7849999999999999, 0.8125]\n",
      "Mean acc: 0.8375 , std: 0.0\n"
     ]
    }
   ],
   "source": [
    "model_id_list = [1]\n",
    "vbranch_acc_list = []\n",
    "\n",
    "for model_id in model_id_list:\n",
    "    tf.reset_default_graph()\n",
    "    \n",
    "    model_name = 'vb-{}-{}-B{:d}-S{:.2f}_{:d}'.format(dataset, architecture,\n",
    "                                            NUM_BRANCHES, SHARED_FRAC, model_id)\n",
    "    model_path = os.path.join('models', model_name)\n",
    "    \n",
    "    with TFSessionGrow() as sess:\n",
    "        restore_sess(sess, model_path)    \n",
    "        acc, branch_acc = vbranch_one_shot(sess, model_name='model_'+str(model_id), \n",
    "                                           n_branches=NUM_BRANCHES)\n",
    "        print('Model {} acc:'.format(model_id), acc, branch_acc)\n",
    "        vbranch_acc_list.append(acc)\n",
    "        \n",
    "print('Mean acc:', np.mean(vbranch_acc_list), ', std:', np.std(vbranch_acc_list))"
   ]
  },
  {
   "cell_type": "code",
   "execution_count": null,
   "metadata": {},
   "outputs": [],
   "source": []
  }
 ],
 "metadata": {
  "kernelspec": {
   "display_name": "Python 3",
   "language": "python",
   "name": "python3"
  },
  "language_info": {
   "codemirror_mode": {
    "name": "ipython",
    "version": 3
   },
   "file_extension": ".py",
   "mimetype": "text/x-python",
   "name": "python",
   "nbconvert_exporter": "python",
   "pygments_lexer": "ipython3",
   "version": "3.5.6"
  }
 },
 "nbformat": 4,
 "nbformat_minor": 2
}
