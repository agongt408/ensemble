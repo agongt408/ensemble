{
 "cells": [
  {
   "cell_type": "markdown",
   "metadata": {},
   "source": [
    "# Omnigot and Person Re-ID"
   ]
  },
  {
   "cell_type": "code",
   "execution_count": 3,
   "metadata": {},
   "outputs": [],
   "source": [
    "import tensorflow as tf\n",
    "import numpy as np\n",
    "import os\n",
    "import matplotlib.pyplot as plt\n",
    "import copy\n",
    "import cv2\n",
    "from scipy.spatial import distance"
   ]
  },
  {
   "cell_type": "code",
   "execution_count": 4,
   "metadata": {},
   "outputs": [],
   "source": [
    "import vbranch as vb\n",
    "from vbranch.applications.resnet import ResNet18\n",
    "from vbranch.utils.training_utils import wrap_iterator\n",
    "from vbranch.utils.test_utils import get_run, compute_one_shot_acc, baseline_one_shot\n",
    "from vbranch.losses import triplet"
   ]
  },
  {
   "cell_type": "code",
   "execution_count": null,
   "metadata": {},
   "outputs": [],
   "source": [
    "model_id = 1\n",
    "architecture = 'res'"
   ]
  },
  {
   "cell_type": "markdown",
   "metadata": {},
   "source": [
    "## Load Data"
   ]
  },
  {
   "cell_type": "code",
   "execution_count": 4,
   "metadata": {},
   "outputs": [],
   "source": [
    "dataset = 'market'\n",
    "\n",
    "if dataset == 'omniglot':\n",
    "    A, P, K = 4, 8, 4\n",
    "    train_generator = vb.datasets.omniglot.load_generator('train')\n",
    "    test_generator = vb.datasets.omniglot.load_generator('test')\n",
    "elif dataset == 'market':\n",
    "    P, K = 18, 4\n",
    "    train_generator = vb.datasets.reid.TripletDataGenerator(dataset, 'train')"
   ]
  },
  {
   "cell_type": "code",
   "execution_count": 5,
   "metadata": {},
   "outputs": [],
   "source": [
    "batch = train_generator.next(4, 4, flatten=False, preprocess=False)"
   ]
  },
  {
   "cell_type": "code",
   "execution_count": 6,
   "metadata": {},
   "outputs": [
    {
     "data": {
      "image/png": "[encoded data removed]",
      "text/plain": [
       "<Figure size 432x288 with 1 Axes>"
      ]
     },
     "metadata": {
      "needs_background": "light"
     },
     "output_type": "display_data"
    }
   ],
   "source": [
    "plt.imshow(batch[0, 0].squeeze(), cmap=plt.cm.gray)\n",
    "plt.show()"
   ]
  },
  {
   "cell_type": "code",
   "execution_count": 7,
   "metadata": {},
   "outputs": [
    {
     "data": {
      "text/plain": [
       "(0, 255)"
      ]
     },
     "execution_count": 7,
     "metadata": {},
     "output_type": "execute_result"
    }
   ],
   "source": [
    "batch.min(), batch.max()"
   ]
  },
  {
   "cell_type": "markdown",
   "metadata": {},
   "source": [
    "## Build Model"
   ]
  },
  {
   "cell_type": "code",
   "execution_count": 8,
   "metadata": {},
   "outputs": [
    {
     "name": "stdout",
     "output_type": "stream",
     "text": [
      "(None, 128, 64, 3)\n"
     ]
    }
   ],
   "source": [
    "EPOCHS = 50\n",
    "T_0 = 30\n",
    "STEPS_PER_EPOCH = 100\n",
    "output_dim = 128\n",
    "input_dim = (None,) + batch.shape[-3:]\n",
    "print(input_dim)"
   ]
  },
  {
   "cell_type": "code",
   "execution_count": 9,
   "metadata": {},
   "outputs": [
    {
     "name": "stdout",
     "output_type": "stream",
     "text": [
      "models/market-res_1\n"
     ]
    }
   ],
   "source": [
    "if not os.path.isdir('models'):\n",
    "    os.system('mkdir models')\n",
    "    \n",
    "model_path = 'models/{}-{}_{}'.format(dataset, architecture, model_id)\n",
    "print(model_path)"
   ]
  },
  {
   "cell_type": "code",
   "execution_count": 10,
   "metadata": {},
   "outputs": [
    {
     "name": "stdout",
     "output_type": "stream",
     "text": [
      "WARNING:tensorflow:From /home/gong/anaconda3/lib/python3.5/site-packages/tensorflow/python/data/ops/dataset_ops.py:429: py_func (from tensorflow.python.ops.script_ops) is deprecated and will be removed in a future version.\n",
      "Instructions for updating:\n",
      "tf.py_func is deprecated in TF V2. Instead, use\n",
      "    tf.py_function, which takes a python function which manipulates tf eager\n",
      "    tensors instead of numpy arrays. It's easy to convert a tf eager tensor to\n",
      "    an ndarray (just call tensor.numpy()) but having access to eager tensors\n",
      "    means `tf.py_function`s can use accelerators such as GPUs as well as\n",
      "    being differentiable using a gradient tape.\n",
      "    \n",
      "WARNING:tensorflow:From /home/gong/anaconda3/lib/python3.5/site-packages/tensorflow/python/data/ops/iterator_ops.py:358: colocate_with (from tensorflow.python.framework.ops) is deprecated and will be removed in a future version.\n",
      "Instructions for updating:\n",
      "Colocations handled automatically by placer.\n"
     ]
    }
   ],
   "source": [
    "tf.reset_default_graph()\n",
    "\n",
    "train_dataset = tf.data.Dataset.from_generator(wrap_iterator(train_generator, P, K), \n",
    "                                               'float32', output_shapes=input_dim)\n",
    "\n",
    "# Dataset for feeding non-triplet batched images from memory\n",
    "x = tf.placeholder('float32', input_dim, name='x')\n",
    "batch_size = tf.placeholder('int64', name='batch_size')\n",
    "test_dataset = tf.data.Dataset.from_tensor_slices(x).batch(batch_size)\n",
    "\n",
    "iter_ = tf.data.Iterator.from_structure('float32', input_dim)\n",
    "train_init_op = iter_.make_initializer(train_dataset)\n",
    "test_init_op = iter_.make_initializer(test_dataset, name='test_init_op')\n",
    "\n",
    "inputs = iter_.get_next()"
   ]
  },
  {
   "cell_type": "code",
   "execution_count": 11,
   "metadata": {},
   "outputs": [],
   "source": [
    "if architecture == 'simple':\n",
    "    model = vb.simple_cnn(inputs, output_dim, 32, 64, 128, 256, \n",
    "                          name='model_' + str(model_id))\n",
    "elif architecture == 'res':\n",
    "#     model = vb.resnet(inputs, output_dim, 16, 32, 64, \n",
    "#                       name='model_' + str(model_id))\n",
    "    model = ResNet18(inputs, output_dim, name='model_' + str(model_id))"
   ]
  },
  {
   "cell_type": "code",
   "execution_count": 12,
   "metadata": {
    "scrolled": false
   },
   "outputs": [
    {
     "name": "stdout",
     "output_type": "stream",
     "text": [
      "i   Layer name                      Output shape     Parameters           Num param  Inbound             \n",
      "---------------------------------------------------------------------------------------------------------\n",
      "    Input                           [None,128,64,3]                                                      \n",
      "---------------------------------------------------------------------------------------------------------\n",
      "0   pre_conv (Conv2D)               [None,64,32,64]  [7,7,3,64] [64]      9472       IteratorGetNext:0   \n",
      "---------------------------------------------------------------------------------------------------------\n",
      "1   pre_bn (BatchNormalization)     [None,64,32,64]  [64] [64]            128        pre_conv            \n",
      "---------------------------------------------------------------------------------------------------------\n",
      "2   pre_relu (Activation)           [None,64,32,64]                       0          pre_bn              \n",
      "---------------------------------------------------------------------------------------------------------\n",
      "3   pre_max_pool2d (MaxPooling2D)   [None,32,16,64]                       0          pre_relu            \n",
      "---------------------------------------------------------------------------------------------------------\n",
      "4   res_1_1_conv_short (Conv2D)     [None,32,16,64]  [1,1,64,64] [64]     4160       pre_max_pool2d      \n",
      "---------------------------------------------------------------------------------------------------------\n",
      "5   res_1_1_bn_1 (BatchNormalizati  [None,32,16,64]  [64] [64]            128        pre_max_pool2d      \n",
      "---------------------------------------------------------------------------------------------------------\n",
      "6   res_1_1_relu_1 (Activation)     [None,32,16,64]                       0          res_1_1_bn_1        \n",
      "---------------------------------------------------------------------------------------------------------\n",
      "7   res_1_1_conv_1 (Conv2D)         [None,32,16,64]  [3,3,64,64] [64]     36928      res_1_1_relu_1      \n",
      "---------------------------------------------------------------------------------------------------------\n",
      "8   res_1_1_bn_2 (BatchNormalizati  [None,32,16,64]  [64] [64]            128        res_1_1_conv_1      \n",
      "---------------------------------------------------------------------------------------------------------\n",
      "9   res_1_1_relu_2 (Activation)     [None,32,16,64]                       0          res_1_1_bn_2        \n",
      "---------------------------------------------------------------------------------------------------------\n",
      "10  res_1_1_conv_2 (Conv2D)         [None,32,16,64]  [3,3,64,64] [64]     36928      res_1_1_relu_2      \n",
      "---------------------------------------------------------------------------------------------------------\n",
      "11  res_1_1_add (Add)               [None,32,16,64]                       0          res_1_1_conv_short  \n",
      "                                                                                     res_1_1_conv_2      \n",
      "---------------------------------------------------------------------------------------------------------\n",
      "12  res_1_2_bn_1 (BatchNormalizati  [None,32,16,64]  [64] [64]            128        res_1_1_add         \n",
      "---------------------------------------------------------------------------------------------------------\n",
      "13  res_1_2_relu_1 (Activation)     [None,32,16,64]                       0          res_1_2_bn_1        \n",
      "---------------------------------------------------------------------------------------------------------\n",
      "14  res_1_2_conv_1 (Conv2D)         [None,32,16,64]  [3,3,64,64] [64]     36928      res_1_2_relu_1      \n",
      "---------------------------------------------------------------------------------------------------------\n",
      "15  res_1_2_bn_2 (BatchNormalizati  [None,32,16,64]  [64] [64]            128        res_1_2_conv_1      \n",
      "---------------------------------------------------------------------------------------------------------\n",
      "16  res_1_2_relu_2 (Activation)     [None,32,16,64]                       0          res_1_2_bn_2        \n",
      "---------------------------------------------------------------------------------------------------------\n",
      "17  res_1_2_conv_2 (Conv2D)         [None,32,16,64]  [3,3,64,64] [64]     36928      res_1_2_relu_2      \n",
      "---------------------------------------------------------------------------------------------------------\n",
      "18  res_1_2_add (Add)               [None,32,16,64]                       0          res_1_1_add         \n",
      "                                                                                     res_1_2_conv_2      \n",
      "---------------------------------------------------------------------------------------------------------\n",
      "19  avg_pool2d_1 (AveragePooling2D  [None,16,8,64]                        0          res_1_2_add         \n",
      "---------------------------------------------------------------------------------------------------------\n",
      "20  res_2_1_conv_short (Conv2D)     [None,16,8,128]  [1,1,64,128] [128]   8320       avg_pool2d_1        \n",
      "---------------------------------------------------------------------------------------------------------\n",
      "21  res_2_1_bn_1 (BatchNormalizati  [None,16,8,64]   [64] [64]            128        avg_pool2d_1        \n",
      "---------------------------------------------------------------------------------------------------------\n",
      "22  res_2_1_relu_1 (Activation)     [None,16,8,64]                        0          res_2_1_bn_1        \n",
      "---------------------------------------------------------------------------------------------------------\n",
      "23  res_2_1_conv_1 (Conv2D)         [None,16,8,128]  [3,3,64,128] [128]   73856      res_2_1_relu_1      \n",
      "---------------------------------------------------------------------------------------------------------\n",
      "24  res_2_1_bn_2 (BatchNormalizati  [None,16,8,128]  [128] [128]          256        res_2_1_conv_1      \n",
      "---------------------------------------------------------------------------------------------------------\n",
      "25  res_2_1_relu_2 (Activation)     [None,16,8,128]                       0          res_2_1_bn_2        \n",
      "---------------------------------------------------------------------------------------------------------\n",
      "26  res_2_1_conv_2 (Conv2D)         [None,16,8,128]  [3,3,128,128] [128]  147584     res_2_1_relu_2      \n",
      "---------------------------------------------------------------------------------------------------------\n",
      "27  res_2_1_add (Add)               [None,16,8,128]                       0          res_2_1_conv_short  \n",
      "                                                                                     res_2_1_conv_2      \n",
      "---------------------------------------------------------------------------------------------------------\n",
      "28  res_2_2_bn_1 (BatchNormalizati  [None,16,8,128]  [128] [128]          256        res_2_1_add         \n",
      "---------------------------------------------------------------------------------------------------------\n",
      "29  res_2_2_relu_1 (Activation)     [None,16,8,128]                       0          res_2_2_bn_1        \n",
      "---------------------------------------------------------------------------------------------------------\n",
      "30  res_2_2_conv_1 (Conv2D)         [None,16,8,128]  [3,3,128,128] [128]  147584     res_2_2_relu_1      \n",
      "---------------------------------------------------------------------------------------------------------\n",
      "31  res_2_2_bn_2 (BatchNormalizati  [None,16,8,128]  [128] [128]          256        res_2_2_conv_1      \n",
      "---------------------------------------------------------------------------------------------------------\n",
      "32  res_2_2_relu_2 (Activation)     [None,16,8,128]                       0          res_2_2_bn_2        \n",
      "---------------------------------------------------------------------------------------------------------\n",
      "33  res_2_2_conv_2 (Conv2D)         [None,16,8,128]  [3,3,128,128] [128]  147584     res_2_2_relu_2      \n",
      "---------------------------------------------------------------------------------------------------------\n",
      "34  res_2_2_add (Add)               [None,16,8,128]                       0          res_2_1_add         \n",
      "                                                                                     res_2_2_conv_2      \n",
      "---------------------------------------------------------------------------------------------------------\n",
      "35  avg_pool2d_2 (AveragePooling2D  [None,8,4,128]                        0          res_2_2_add         \n",
      "---------------------------------------------------------------------------------------------------------\n",
      "36  res_3_1_conv_short (Conv2D)     [None,8,4,256]   [1,1,128,256] [256]  33024      avg_pool2d_2        \n",
      "---------------------------------------------------------------------------------------------------------\n",
      "37  res_3_1_bn_1 (BatchNormalizati  [None,8,4,128]   [128] [128]          256        avg_pool2d_2        \n",
      "---------------------------------------------------------------------------------------------------------\n",
      "38  res_3_1_relu_1 (Activation)     [None,8,4,128]                        0          res_3_1_bn_1        \n",
      "---------------------------------------------------------------------------------------------------------\n",
      "39  res_3_1_conv_1 (Conv2D)         [None,8,4,256]   [3,3,128,256] [256]  295168     res_3_1_relu_1      \n",
      "---------------------------------------------------------------------------------------------------------\n",
      "40  res_3_1_bn_2 (BatchNormalizati  [None,8,4,256]   [256] [256]          512        res_3_1_conv_1      \n",
      "---------------------------------------------------------------------------------------------------------\n",
      "41  res_3_1_relu_2 (Activation)     [None,8,4,256]                        0          res_3_1_bn_2        \n",
      "---------------------------------------------------------------------------------------------------------\n",
      "42  res_3_1_conv_2 (Conv2D)         [None,8,4,256]   [3,3,256,256] [256]  590080     res_3_1_relu_2      \n",
      "---------------------------------------------------------------------------------------------------------\n",
      "43  res_3_1_add (Add)               [None,8,4,256]                        0          res_3_1_conv_short  \n",
      "                                                                                     res_3_1_conv_2      \n",
      "---------------------------------------------------------------------------------------------------------\n",
      "44  res_3_2_bn_1 (BatchNormalizati  [None,8,4,256]   [256] [256]          512        res_3_1_add         \n",
      "---------------------------------------------------------------------------------------------------------\n",
      "45  res_3_2_relu_1 (Activation)     [None,8,4,256]                        0          res_3_2_bn_1        \n",
      "---------------------------------------------------------------------------------------------------------\n",
      "46  res_3_2_conv_1 (Conv2D)         [None,8,4,256]   [3,3,256,256] [256]  590080     res_3_2_relu_1      \n",
      "---------------------------------------------------------------------------------------------------------\n",
      "47  res_3_2_bn_2 (BatchNormalizati  [None,8,4,256]   [256] [256]          512        res_3_2_conv_1      \n",
      "---------------------------------------------------------------------------------------------------------\n",
      "48  res_3_2_relu_2 (Activation)     [None,8,4,256]                        0          res_3_2_bn_2        \n",
      "---------------------------------------------------------------------------------------------------------\n",
      "49  res_3_2_conv_2 (Conv2D)         [None,8,4,256]   [3,3,256,256] [256]  590080     res_3_2_relu_2      \n",
      "---------------------------------------------------------------------------------------------------------\n",
      "50  res_3_2_add (Add)               [None,8,4,256]                        0          res_3_1_add         \n",
      "                                                                                     res_3_2_conv_2      \n",
      "---------------------------------------------------------------------------------------------------------\n",
      "51  avg_pool2d_3 (AveragePooling2D  [None,4,2,256]                        0          res_3_2_add         \n",
      "---------------------------------------------------------------------------------------------------------\n",
      "52  res_4_1_conv_short (Conv2D)     [None,4,2,512]   [1,1,256,512] [512]  131584     avg_pool2d_3        \n",
      "---------------------------------------------------------------------------------------------------------\n",
      "53  res_4_1_bn_1 (BatchNormalizati  [None,4,2,256]   [256] [256]          512        avg_pool2d_3        \n",
      "---------------------------------------------------------------------------------------------------------\n",
      "54  res_4_1_relu_1 (Activation)     [None,4,2,256]                        0          res_4_1_bn_1        \n",
      "---------------------------------------------------------------------------------------------------------\n",
      "55  res_4_1_conv_1 (Conv2D)         [None,4,2,512]   [3,3,256,512] [512]  1180160    res_4_1_relu_1      \n",
      "---------------------------------------------------------------------------------------------------------\n",
      "56  res_4_1_bn_2 (BatchNormalizati  [None,4,2,512]   [512] [512]          1024       res_4_1_conv_1      \n",
      "---------------------------------------------------------------------------------------------------------\n",
      "57  res_4_1_relu_2 (Activation)     [None,4,2,512]                        0          res_4_1_bn_2        \n",
      "---------------------------------------------------------------------------------------------------------\n",
      "58  res_4_1_conv_2 (Conv2D)         [None,4,2,512]   [3,3,512,512] [512]  2359808    res_4_1_relu_2      \n",
      "---------------------------------------------------------------------------------------------------------\n",
      "59  res_4_1_add (Add)               [None,4,2,512]                        0          res_4_1_conv_short  \n",
      "                                                                                     res_4_1_conv_2      \n",
      "---------------------------------------------------------------------------------------------------------\n",
      "60  res_4_2_bn_1 (BatchNormalizati  [None,4,2,512]   [512] [512]          1024       res_4_1_add         \n",
      "---------------------------------------------------------------------------------------------------------\n",
      "61  res_4_2_relu_1 (Activation)     [None,4,2,512]                        0          res_4_2_bn_1        \n",
      "---------------------------------------------------------------------------------------------------------\n",
      "62  res_4_2_conv_1 (Conv2D)         [None,4,2,512]   [3,3,512,512] [512]  2359808    res_4_2_relu_1      \n",
      "---------------------------------------------------------------------------------------------------------\n",
      "63  res_4_2_bn_2 (BatchNormalizati  [None,4,2,512]   [512] [512]          1024       res_4_2_conv_1      \n",
      "---------------------------------------------------------------------------------------------------------\n",
      "64  res_4_2_relu_2 (Activation)     [None,4,2,512]                        0          res_4_2_bn_2        \n",
      "---------------------------------------------------------------------------------------------------------\n",
      "65  res_4_2_conv_2 (Conv2D)         [None,4,2,512]   [3,3,512,512] [512]  2359808    res_4_2_relu_2      \n",
      "---------------------------------------------------------------------------------------------------------\n",
      "66  res_4_2_add (Add)               [None,4,2,512]                        0          res_4_1_add         \n",
      "                                                                                     res_4_2_conv_2      \n",
      "---------------------------------------------------------------------------------------------------------\n",
      "67  global_pool2d (GlobalAveragePo  [None,512]                            0          res_4_2_add         \n",
      "---------------------------------------------------------------------------------------------------------\n",
      "68  fc1 (Dense)                     [None,512]       [512,512] [512]      262656     global_pool2d       \n",
      "---------------------------------------------------------------------------------------------------------\n",
      "69  bn_fc1 (BatchNormalization)     [None,512]       [512] [512]          1024       fc1                 \n",
      "---------------------------------------------------------------------------------------------------------\n",
      "70  relu_fc1 (Activation)           [None,512]                            0          bn_fc1              \n",
      "---------------------------------------------------------------------------------------------------------\n",
      "71  output (Dense)                  [None,128]       [512,128] [128]      65664      relu_fc1            \n",
      "---------------------------------------------------------------------------------------------------------\n",
      "Total parameters: 11512128\n"
     ]
    }
   ],
   "source": [
    "model.summary()"
   ]
  },
  {
   "cell_type": "code",
   "execution_count": 13,
   "metadata": {},
   "outputs": [],
   "source": [
    "def lr_exp_decay_scheduler(init_lr, t0, t1, decay):\n",
    "    \"\"\"NOTE: `episode` starts from 1\"\"\"\n",
    "    def func(episode):\n",
    "        if episode < t0:\n",
    "            return init_lr\n",
    "        lr = init_lr * np.power(decay, (episode - t0) / (t1 - t0))\n",
    "        return lr\n",
    "    return func"
   ]
  },
  {
   "cell_type": "code",
   "execution_count": 14,
   "metadata": {},
   "outputs": [
    {
     "data": {
      "image/png": "[encoded data removed]",
      "text/plain": [
       "<Figure size 432x288 with 1 Axes>"
      ]
     },
     "metadata": {
      "needs_background": "light"
     },
     "output_type": "display_data"
    }
   ],
   "source": [
    "lr_scheduler = lr_exp_decay_scheduler(0.001, t0=T_0, t1=EPOCHS, decay=0.001)\n",
    "lr_steps = [lr_scheduler(e + 1) for e in range(EPOCHS)]\n",
    "plt.plot(lr_steps)\n",
    "plt.show()"
   ]
  },
  {
   "cell_type": "code",
   "execution_count": 15,
   "metadata": {},
   "outputs": [
    {
     "name": "stdout",
     "output_type": "stream",
     "text": [
      "Custom loss used...\n",
      "WARNING:tensorflow:From /home/gong/anaconda3/lib/python3.5/site-packages/tensorflow/python/ops/math_ops.py:3066: to_int32 (from tensorflow.python.ops.math_ops) is deprecated and will be removed in a future version.\n",
      "Instructions for updating:\n",
      "Use tf.cast instead.\n",
      "WARNING:tensorflow:From /home/gong/anaconda3/lib/python3.5/site-packages/tensorflow/python/ops/math_grad.py:102: div (from tensorflow.python.ops.math_ops) is deprecated and will be removed in a future version.\n",
      "Instructions for updating:\n",
      "Deprecated in favor of operator or tf.math.divide.\n"
     ]
    }
   ],
   "source": [
    "lr = tf.placeholder('float32', name='lr')\n",
    "optimizer = tf.train.AdamOptimizer(learning_rate=lr)\n",
    "\n",
    "model.compile(optimizer, triplet(model.output, P=P, K=K))"
   ]
  },
  {
   "cell_type": "code",
   "execution_count": 16,
   "metadata": {},
   "outputs": [
    {
     "name": "stdout",
     "output_type": "stream",
     "text": [
      "Tensor(\"output/output:0\", shape=(?, 128), dtype=float32)\n"
     ]
    }
   ],
   "source": [
    "print(model.output)"
   ]
  },
  {
   "cell_type": "code",
   "execution_count": 17,
   "metadata": {
    "scrolled": false
   },
   "outputs": [
    {
     "name": "stdout",
     "output_type": "stream",
     "text": [
      "Epoch 1/50\n",
      "100/100 [==============================] - 19s 194ms/step - loss: 598.4783 - lr: 0.0010\n",
      "Epoch 2/50\n",
      "100/100 [==============================] - 10s 95ms/step - loss: 144.1848 - lr: 0.0010\n",
      "Epoch 3/50\n",
      "100/100 [==============================] - 10s 98ms/step - loss: 142.1710 - lr: 0.0010\n",
      "Epoch 4/50\n",
      "100/100 [==============================] - 9s 94ms/step - loss: 133.6465 - lr: 0.0010\n",
      "Epoch 5/50\n",
      "100/100 [==============================] - 9s 93ms/step - loss: 109.2266 - lr: 0.0010\n",
      "Epoch 6/50\n",
      "100/100 [==============================] - 9s 89ms/step - loss: 142.8146 - lr: 0.0010\n",
      "Epoch 7/50\n",
      "100/100 [==============================] - 9s 93ms/step - loss: 137.6108 - lr: 0.0010\n",
      "Epoch 8/50\n",
      "100/100 [==============================] - 9s 93ms/step - loss: 138.9665 - lr: 0.0010\n",
      "Epoch 9/50\n",
      "100/100 [==============================] - 9s 91ms/step - loss: 132.2407 - lr: 0.0010\n",
      "Epoch 10/50\n",
      "100/100 [==============================] - 9s 90ms/step - loss: 110.0667 - lr: 0.0010\n",
      "Epoch 11/50\n",
      "100/100 [==============================] - 9s 91ms/step - loss: 135.7121 - lr: 0.0010\n",
      "Epoch 12/50\n",
      "100/100 [==============================] - 9s 89ms/step - loss: 119.8182 - lr: 0.0010\n",
      "Epoch 13/50\n",
      "100/100 [==============================] - 9s 92ms/step - loss: 113.6008 - lr: 0.0010\n",
      "Epoch 14/50\n",
      "100/100 [==============================] - 9s 89ms/step - loss: 127.4085 - lr: 0.0010\n",
      "Epoch 15/50\n",
      "100/100 [==============================] - 9s 90ms/step - loss: 136.9865 - lr: 0.0010\n",
      "Epoch 16/50\n",
      "100/100 [==============================] - 9s 89ms/step - loss: 121.3158 - lr: 0.0010\n",
      "Epoch 17/50\n",
      "100/100 [==============================] - 9s 88ms/step - loss: 131.4712 - lr: 0.0010\n",
      "Epoch 18/50\n",
      "100/100 [==============================] - 9s 87ms/step - loss: 123.3501 - lr: 0.0010\n",
      "Epoch 19/50\n",
      "100/100 [==============================] - 9s 87ms/step - loss: 99.7377 - lr: 0.0010\n",
      "Epoch 20/50\n",
      "100/100 [==============================] - 9s 89ms/step - loss: 110.5967 - lr: 0.0010\n",
      "Epoch 21/50\n",
      "100/100 [==============================] - 9s 88ms/step - loss: 109.6528 - lr: 0.0010\n",
      "Epoch 22/50\n",
      "100/100 [==============================] - 9s 90ms/step - loss: 125.2768 - lr: 0.0010\n",
      "Epoch 23/50\n",
      "100/100 [==============================] - 9s 90ms/step - loss: 135.7607 - lr: 0.0010\n",
      "Epoch 24/50\n",
      "100/100 [==============================] - 9s 90ms/step - loss: 141.1711 - lr: 0.0010\n",
      "Epoch 25/50\n",
      "100/100 [==============================] - 9s 89ms/step - loss: 93.3491 - lr: 0.0010\n",
      "Epoch 26/50\n",
      "100/100 [==============================] - 9s 89ms/step - loss: 130.7639 - lr: 0.0010\n",
      "Epoch 27/50\n",
      "100/100 [==============================] - 9s 89ms/step - loss: 194.1784 - lr: 0.0010\n",
      "Epoch 28/50\n",
      "100/100 [==============================] - 9s 89ms/step - loss: 130.1681 - lr: 0.0010\n",
      "Epoch 29/50\n",
      "100/100 [==============================] - 9s 90ms/step - loss: 123.5245 - lr: 0.0010\n",
      "Epoch 30/50\n",
      "100/100 [==============================] - 9s 90ms/step - loss: 118.3253 - lr: 0.0010\n",
      "Epoch 31/50\n",
      "100/100 [==============================] - 9s 89ms/step - loss: 78.4047 - lr: 7.0795e-04\n",
      "Epoch 32/50\n",
      "100/100 [==============================] - 9s 91ms/step - loss: 67.0948 - lr: 5.0119e-04\n",
      "Epoch 33/50\n",
      "100/100 [==============================] - 9s 90ms/step - loss: 47.8558 - lr: 3.5481e-04\n",
      "Epoch 34/50\n",
      "100/100 [==============================] - 9s 90ms/step - loss: 41.9271 - lr: 2.5119e-04\n",
      "Epoch 35/50\n",
      "100/100 [==============================] - 9s 88ms/step - loss: 31.2031 - lr: 1.7783e-04\n",
      "Epoch 36/50\n",
      "100/100 [==============================] - 9s 88ms/step - loss: 28.7628 - lr: 1.2589e-04\n",
      "Epoch 37/50\n",
      "100/100 [==============================] - 9s 91ms/step - loss: 24.4492 - lr: 8.9125e-05\n",
      "Epoch 38/50\n",
      "100/100 [==============================] - 9s 90ms/step - loss: 23.3808 - lr: 6.3096e-05\n",
      "Epoch 39/50\n",
      "100/100 [==============================] - 9s 89ms/step - loss: 21.0045 - lr: 4.4668e-05\n",
      "Epoch 40/50\n",
      "100/100 [==============================] - 9s 89ms/step - loss: 19.8143 - lr: 3.1623e-05\n",
      "Epoch 41/50\n",
      "100/100 [==============================] - 9s 89ms/step - loss: 19.4875 - lr: 2.2387e-05\n",
      "Epoch 42/50\n",
      "100/100 [==============================] - 9s 89ms/step - loss: 19.0881 - lr: 1.5849e-05\n",
      "Epoch 43/50\n",
      "100/100 [==============================] - 9s 88ms/step - loss: 18.9901 - lr: 1.1220e-05\n",
      "Epoch 44/50\n",
      "100/100 [==============================] - 9s 91ms/step - loss: 18.4923 - lr: 7.9433e-06\n",
      "Epoch 45/50\n",
      "100/100 [==============================] - 9s 90ms/step - loss: 17.9488 - lr: 5.6234e-06\n",
      "Epoch 46/50\n",
      "100/100 [==============================] - 9s 89ms/step - loss: 17.9254 - lr: 3.9811e-06\n",
      "Epoch 47/50\n",
      "100/100 [==============================] - 9s 89ms/step - loss: 17.6265 - lr: 2.8184e-06\n",
      "Epoch 48/50\n",
      "100/100 [==============================] - 9s 89ms/step - loss: 17.5879 - lr: 1.9953e-06\n",
      "Epoch 49/50\n",
      "100/100 [==============================] - 9s 89ms/step - loss: 17.6457 - lr: 1.4125e-06\n",
      "Epoch 50/50\n",
      "100/100 [==============================] - 9s 89ms/step - loss: 17.6084 - lr: 1.0000e-06\n"
     ]
    }
   ],
   "source": [
    "with tf.Session() as sess:\n",
    "    sess.run(tf.global_variables_initializer())\n",
    "\n",
    "    for e in range(EPOCHS):\n",
    "        print(\"Epoch {}/{}\".format(e + 1, EPOCHS))\n",
    "        progbar = tf.keras.utils.Progbar(STEPS_PER_EPOCH)\n",
    "\n",
    "        sess.run(train_init_op)\n",
    "        learning_rate = lr_scheduler(e + 1)\n",
    "                \n",
    "        for i in range(STEPS_PER_EPOCH):\n",
    "            _, loss_value = sess.run([model.train_op, model.loss], \n",
    "                                     feed_dict={lr:learning_rate})\n",
    "            \n",
    "            if dataset == 'omniglot' and i == STEPS_PER_EPOCH - 1:\n",
    "                acc = baseline_one_shot(sess)\n",
    "                values=[('loss', loss_value), ('acc', acc), ('lr', learning_rate)]\n",
    "            else:\n",
    "                values=[('loss', loss_value), ('lr', learning_rate)]\n",
    "            \n",
    "            progbar.update(i + 1, values=values)\n",
    "    \n",
    "    saver = tf.train.Saver()\n",
    "    path = os.path.join(model_path, 'ckpt')\n",
    "    saver.save(sess, path)"
   ]
  },
  {
   "cell_type": "markdown",
   "metadata": {},
   "source": [
    "## Model Ensemble"
   ]
  },
  {
   "cell_type": "code",
   "execution_count": 8,
   "metadata": {},
   "outputs": [],
   "source": [
    "def restore_sess(sess, model_path):\n",
    "    meta_path = os.path.join(model_path, 'ckpt.meta')\n",
    "    ckpt = tf.train.get_checkpoint_state(model_path)\n",
    "\n",
    "    imported_graph = tf.train.import_meta_graph(meta_path)\n",
    "    imported_graph.restore(sess, ckpt.model_checkpoint_path)"
   ]
  },
  {
   "cell_type": "code",
   "execution_count": 12,
   "metadata": {},
   "outputs": [
    {
     "name": "stdout",
     "output_type": "stream",
     "text": [
      "INFO:tensorflow:Restoring parameters from ./models/omniglot-simple_1/ckpt\n"
     ]
    }
   ],
   "source": [
    "total_runs = 20\n",
    "run_data = [get_run(r+1) for r in range(total_runs)]\n",
    "\n",
    "model_train_runs = []\n",
    "model_test_runs = []\n",
    "\n",
    "for i in [0]:\n",
    "    train_runs = []\n",
    "    test_runs = []\n",
    "\n",
    "    graph = tf.Graph()\n",
    "    sess = tf.Session(graph=graph)\n",
    "\n",
    "    with sess.as_default(), graph.as_default():\n",
    "        restore_sess(sess, model_path)\n",
    "\n",
    "        for r in range(total_runs):\n",
    "            train_files,test_files,train_ims,test_ims,answers_files = \\\n",
    "                run_data[r]\n",
    "\n",
    "            feed_dict = {'x:0':train_ims,'batch_size:0':len(train_ims)}\n",
    "            sess.run('test_init_op', feed_dict=feed_dict)\n",
    "            train_runs.append(sess.run('model_%d'%(i+1)+'/'+'output:0'))\n",
    "\n",
    "            feed_dict = {'x:0':test_ims, 'batch_size:0':len(test_ims)}\n",
    "            sess.run('test_init_op', feed_dict=feed_dict)\n",
    "            test_runs.append(sess.run('model_%d'%(i+1)+'/'+'output:0'))\n",
    "\n",
    "    model_train_runs.append(train_runs)\n",
    "    model_test_runs.append(test_runs)"
   ]
  },
  {
   "cell_type": "markdown",
   "metadata": {},
   "source": [
    "### Average Embedding"
   ]
  },
  {
   "cell_type": "code",
   "execution_count": 13,
   "metadata": {},
   "outputs": [],
   "source": [
    "mean_acc_runs = []\n",
    "\n",
    "test_embed = np.mean(model_test_runs, axis=0)\n",
    "train_embed = np.mean(model_train_runs, axis=0)\n",
    "\n",
    "for r in range(total_runs):\n",
    "    train_files = run_data[r][0]\n",
    "    answers_files = run_data[r][-1]\n",
    "\n",
    "    acc = compute_one_shot_acc(test_embed[r], train_embed[r],train_files,answers_files)\n",
    "    mean_acc_runs.append(acc)"
   ]
  },
  {
   "cell_type": "code",
   "execution_count": 14,
   "metadata": {},
   "outputs": [
    {
     "name": "stdout",
     "output_type": "stream",
     "text": [
      "[0.6, 0.4, 0.5, 0.7, 0.75, 0.65, 0.3, 0.65, 0.35, 0.5, 0.85, 0.6, 0.35, 0.55, 0.95, 0.85, 0.7, 0.5, 0.4, 0.6]\n",
      "0.5875\n"
     ]
    }
   ],
   "source": [
    "print(mean_acc_runs)\n",
    "print(np.mean(mean_acc_runs))"
   ]
  },
  {
   "cell_type": "markdown",
   "metadata": {},
   "source": [
    "### Concatenate Embedding"
   ]
  },
  {
   "cell_type": "code",
   "execution_count": 15,
   "metadata": {},
   "outputs": [],
   "source": [
    "concat_acc_runs = []\n",
    "\n",
    "test_embed = np.concatenate(model_test_runs, axis=-1)\n",
    "train_embed = np.concatenate(model_train_runs, axis=-1)\n",
    "\n",
    "for r in range(total_runs):\n",
    "    train_files = run_data[r][0]\n",
    "    answers_files = run_data[r][-1]\n",
    "    \n",
    "    acc = compute_one_shot_acc(test_embed[r], train_embed[r],train_files, answers_files)\n",
    "    concat_acc_runs.append(acc)"
   ]
  },
  {
   "cell_type": "code",
   "execution_count": 16,
   "metadata": {},
   "outputs": [
    {
     "data": {
      "text/plain": [
       "(20, 20, 128)"
      ]
     },
     "execution_count": 16,
     "metadata": {},
     "output_type": "execute_result"
    }
   ],
   "source": [
    "test_embed.shape"
   ]
  },
  {
   "cell_type": "code",
   "execution_count": 17,
   "metadata": {},
   "outputs": [
    {
     "name": "stdout",
     "output_type": "stream",
     "text": [
      "[0.6, 0.4, 0.5, 0.7, 0.75, 0.65, 0.3, 0.65, 0.35, 0.5, 0.85, 0.6, 0.35, 0.55, 0.95, 0.85, 0.7, 0.5, 0.4, 0.6]\n",
      "0.5875\n"
     ]
    }
   ],
   "source": [
    "print(concat_acc_runs)\n",
    "print(np.mean(concat_acc_runs))"
   ]
  },
  {
   "cell_type": "code",
   "execution_count": null,
   "metadata": {},
   "outputs": [],
   "source": []
  }
 ],
 "metadata": {
  "kernelspec": {
   "display_name": "Python 3",
   "language": "python",
   "name": "python3"
  },
  "language_info": {
   "codemirror_mode": {
    "name": "ipython",
    "version": 3
   },
   "file_extension": ".py",
   "mimetype": "text/x-python",
   "name": "python",
   "nbconvert_exporter": "python",
   "pygments_lexer": "ipython3",
   "version": "3.5.6"
  }
 },
 "nbformat": 4,
 "nbformat_minor": 2
}
