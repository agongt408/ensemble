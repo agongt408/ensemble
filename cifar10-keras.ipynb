{
 "cells": [
  {
   "cell_type": "code",
   "execution_count": 2,
   "metadata": {},
   "outputs": [],
   "source": [
    "import tensorflow as tf\n",
    "import numpy as np\n",
    "import os\n",
    "import matplotlib.pyplot as plt"
   ]
  },
  {
   "cell_type": "code",
   "execution_count": 5,
   "metadata": {},
   "outputs": [],
   "source": [
    "from keras.layers import Input, ZeroPadding2D, GlobalAveragePooling2D\n",
    "from keras.layers import Conv2D, BatchNormalization, Activation, Concatenate\n",
    "from keras.models import Model\n",
    "from keras.datasets import cifar10"
   ]
  },
  {
   "cell_type": "markdown",
   "metadata": {},
   "source": [
    "## DenseNet"
   ]
  },
  {
   "cell_type": "code",
   "execution_count": null,
   "metadata": {},
   "outputs": [],
   "source": [
    "def dense_block(x, blocks, name, growth_rate=32):\n",
    "    for i in range(blocks):\n",
    "        x = conv_block(growth_rate, name=name+'_block'+str(i+1))(x)\n",
    "    return x\n",
    "\n",
    "def transition_block(x, reduction, name):\n",
    "    x = BatchNormalization(epsilon=1.001e-5, name=name + '_bn')(x)\n",
    "    x = Activation('relu', name=name + '_relu')(x)\n",
    "    x = Conv2D(int(backend.int_shape(x)[bn_axis] * reduction), 1, use_bias=False,\n",
    "            name=name + '_conv')(x)\n",
    "    x = AveragePooling2D(2, strides=2, name=name + '_pool')(x)\n",
    "    return x\n",
    "\n",
    "def conv_block(x, growth_rate, name):\n",
    "    x1 = BatchNormalization(epsilon=1.001e-5, name=name + '_0_bn')(x)\n",
    "    x1 = Activation('relu', name=name + '_0_relu')(x1)\n",
    "    x1 = Conv2D(4 * growth_rate, 1, use_bias=False,\n",
    "            name=name + '_1_conv')(x1)\n",
    "    x1 = BatchNormalization(epsilon=1.001e-5, name=name + '_1_bn')(x1)\n",
    "    x1 = Activation('relu', name=name + '_1_relu')(x1)\n",
    "    x1 = Conv2D(growth_rate, 3, padding='same', use_bias=False,\n",
    "               name=name + '_2_conv')(x1)\n",
    "    x = Concatenate(name=name + '_concat')([x, x1])\n",
    "    return x"
   ]
  },
  {
   "cell_type": "code",
   "execution_count": 12,
   "metadata": {},
   "outputs": [],
   "source": [
    "def DenseNet(depth, growth_rate, input_shape, classes=10):\n",
    "    # No BC -> divide by 3\n",
    "    # BC -> divide by 6\n",
    "    n_layers = (depth - 4) // 6\n",
    "\n",
    "    img_input = Input(shape=input_shape)\n",
    "\n",
    "    x = ZeroPadding2D(img_input, padding=(1, 1))\n",
    "    x = Conv2D(x, growth_rate*2, 3, use_bias=False, name='conv1/conv')\n",
    "\n",
    "    x = dense_block(x, n_layers, 'conv2', growth_rate)\n",
    "    x = transition_block(x, 0.5, 'pool2')\n",
    "    x = dense_block(x, n_layers, 'conv3', growth_rate)\n",
    "    x = transition_block(x, 0.5, 'pool3')\n",
    "    x = dense_block(x, n_layers, 'conv4', growth_rate)\n",
    "\n",
    "    x = BatchNormalization(epsilon=1.001e-5, name='bn')(x)\n",
    "    x = Activation('relu', name='relu')(x)\n",
    "    x = GlobalAveragePooling2D(name='avg_pool')(x)\n",
    "    x = Dense(classes, name='output')(x)\n",
    "\n",
    "    return Model(img_input, x)"
   ]
  },
  {
   "cell_type": "markdown",
   "metadata": {},
   "source": [
    "## Train"
   ]
  },
  {
   "cell_type": "code",
   "execution_count": 7,
   "metadata": {},
   "outputs": [],
   "source": [
    "(X_train, y_train), (X_test, y_test) = cifar10.load_data()"
   ]
  },
  {
   "cell_type": "code",
   "execution_count": 10,
   "metadata": {},
   "outputs": [
    {
     "data": {
      "text/plain": [
       "array([[6],\n",
       "       [9],\n",
       "       [9],\n",
       "       ...,\n",
       "       [9],\n",
       "       [1],\n",
       "       [1]], dtype=uint8)"
      ]
     },
     "execution_count": 10,
     "metadata": {},
     "output_type": "execute_result"
    }
   ],
   "source": []
  },
  {
   "cell_type": "code",
   "execution_count": null,
   "metadata": {},
   "outputs": [],
   "source": []
  }
 ],
 "metadata": {
  "kernelspec": {
   "display_name": "Python 3",
   "language": "python",
   "name": "python3"
  },
  "language_info": {
   "codemirror_mode": {
    "name": "ipython",
    "version": 3
   },
   "file_extension": ".py",
   "mimetype": "text/x-python",
   "name": "python",
   "nbconvert_exporter": "python",
   "pygments_lexer": "ipython3",
   "version": "3.7.3"
  }
 },
 "nbformat": 4,
 "nbformat_minor": 2
}
