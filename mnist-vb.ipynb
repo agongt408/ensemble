{
 "cells": [
  {
   "cell_type": "markdown",
   "metadata": {},
   "source": [
    "# MNIST FCN with Virtual Branching"
   ]
  },
  {
   "cell_type": "code",
   "execution_count": 1,
   "metadata": {},
   "outputs": [],
   "source": [
    "import tensorflow as tf\n",
    "import numpy as np\n",
    "import os\n",
    "from scipy.special import softmax"
   ]
  },
  {
   "cell_type": "code",
   "execution_count": 2,
   "metadata": {},
   "outputs": [],
   "source": [
    "import vbranch as vb"
   ]
  },
  {
   "cell_type": "code",
   "execution_count": 3,
   "metadata": {},
   "outputs": [],
   "source": [
    "save = False\n",
    "model_id = 1"
   ]
  },
  {
   "cell_type": "markdown",
   "metadata": {},
   "source": [
    "## Load Data"
   ]
  },
  {
   "cell_type": "code",
   "execution_count": 4,
   "metadata": {},
   "outputs": [],
   "source": [
    "(X_train, y_train), (X_test, y_test) = tf.keras.datasets.mnist.load_data()"
   ]
  },
  {
   "cell_type": "code",
   "execution_count": 5,
   "metadata": {},
   "outputs": [],
   "source": [
    "input_dim = 784\n",
    "num_classes = 10"
   ]
  },
  {
   "cell_type": "code",
   "execution_count": 6,
   "metadata": {},
   "outputs": [],
   "source": [
    "X_train_flat = X_train.reshape([-1, input_dim])\n",
    "X_test_flat = X_test.reshape([-1, input_dim])\n",
    "\n",
    "y_train_one_hot = tf.keras.utils.to_categorical(y_train, num_classes)\n",
    "y_test_one_hot = tf.keras.utils.to_categorical(y_test, num_classes)"
   ]
  },
  {
   "cell_type": "markdown",
   "metadata": {},
   "source": [
    "## Build Model"
   ]
  },
  {
   "cell_type": "code",
   "execution_count": 7,
   "metadata": {},
   "outputs": [],
   "source": [
    "BATCH_SIZE = 32\n",
    "EPOCHS = 10\n",
    "STEPS_PER_EPOCH = 100\n",
    "model_path = './models/mnist_' + str(model_id)"
   ]
  },
  {
   "cell_type": "code",
   "execution_count": 8,
   "metadata": {},
   "outputs": [],
   "source": [
    "tf.reset_default_graph()\n",
    "\n",
    "train_data = (X_train_flat.astype('float32'), y_train_one_hot)\n",
    "test_data = (X_test_flat.astype('float32'), y_test_one_hot)\n",
    "\n",
    "batch_size = tf.placeholder('int64', name='batch_size')\n",
    "\n",
    "train_dataset = tf.data.Dataset.from_tensor_slices(train_data).\\\n",
    "    batch(batch_size).repeat().\\\n",
    "    shuffle(buffer_size=4*BATCH_SIZE)\n",
    "\n",
    "test_dataset = tf.data.Dataset.from_tensor_slices(test_data).\\\n",
    "    batch(batch_size).repeat()\n",
    "\n",
    "iter_ = tf.data.Iterator.from_structure(train_dataset.output_types, \n",
    "                                       train_dataset.output_shapes)\n",
    "inputs, labels_one_hot = iter_.get_next()\n",
    "\n",
    "train_init_op = iter_.make_initializer(train_dataset)\n",
    "test_init_op = iter_.make_initializer(test_dataset, name='test_init_op')"
   ]
  },
  {
   "cell_type": "code",
   "execution_count": 9,
   "metadata": {},
   "outputs": [],
   "source": [
    "with tf.variable_scope('model_' + str(model_id), reuse=tf.AUTO_REUSE):\n",
    "    model = vb.models.vbranch_fcn(inputs, [128,128,128,128], [10,10,10,10], branches=4)"
   ]
  },
  {
   "cell_type": "code",
   "execution_count": 10,
   "metadata": {},
   "outputs": [
    {
     "name": "stdout",
     "output_type": "stream",
     "text": [
      "i   Layer name          Output shapes       Num param \n",
      "------------------------------------------------------\n",
      "    Input               [None,784]                    \n",
      "------------------------------------------------------\n",
      "0   fc1                 [None,128]          401920    \n",
      "                        [None,128]                    \n",
      "                        [None,128]                    \n",
      "                        [None,128]                    \n",
      "------------------------------------------------------\n",
      "1   bn1                 [None,128]          1024      \n",
      "                        [None,128]                    \n",
      "                        [None,128]                    \n",
      "                        [None,128]                    \n",
      "------------------------------------------------------\n",
      "2   relu                [None,128]          0         \n",
      "                        [None,128]                    \n",
      "                        [None,128]                    \n",
      "                        [None,128]                    \n",
      "------------------------------------------------------\n",
      "3   fc2                 [None,10]           5160      \n",
      "                        [None,10]                     \n",
      "                        [None,10]                     \n",
      "                        [None,10]                     \n",
      "------------------------------------------------------\n",
      "4   bn2                 [None,10]           80        \n",
      "                        [None,10]                     \n",
      "                        [None,10]                     \n",
      "                        [None,10]                     \n",
      "------------------------------------------------------\n",
      "5   relu                [None,10]           0         \n",
      "                        [None,10]                     \n",
      "                        [None,10]                     \n",
      "                        [None,10]                     \n",
      "------------------------------------------------------\n",
      "6   output              [None,10]           0         \n",
      "------------------------------------------------------\n",
      "Total parameters: 408184\n"
     ]
    }
   ],
   "source": [
    "model.summary()"
   ]
  },
  {
   "cell_type": "code",
   "execution_count": 11,
   "metadata": {},
   "outputs": [
    {
     "data": {
      "text/plain": [
       "[<tf.Variable 'model_1/fc1_vb1_w:0' shape=(784, 128) dtype=float32_ref>,\n",
       " <tf.Variable 'model_1/fc1_vb1_b:0' shape=(128,) dtype=float32_ref>,\n",
       " <tf.Variable 'model_1/fc1_vb2_w:0' shape=(784, 128) dtype=float32_ref>,\n",
       " <tf.Variable 'model_1/fc1_vb2_b:0' shape=(128,) dtype=float32_ref>,\n",
       " <tf.Variable 'model_1/fc1_vb3_w:0' shape=(784, 128) dtype=float32_ref>,\n",
       " <tf.Variable 'model_1/fc1_vb3_b:0' shape=(128,) dtype=float32_ref>,\n",
       " <tf.Variable 'model_1/fc1_vb4_w:0' shape=(784, 128) dtype=float32_ref>,\n",
       " <tf.Variable 'model_1/fc1_vb4_b:0' shape=(128,) dtype=float32_ref>,\n",
       " <tf.Variable 'model_1/bn1_vb1_scale:0' shape=(128,) dtype=float32_ref>,\n",
       " <tf.Variable 'model_1/bn1_vb1_beta:0' shape=(128,) dtype=float32_ref>,\n",
       " <tf.Variable 'model_1/bn1_vb2_scale:0' shape=(128,) dtype=float32_ref>,\n",
       " <tf.Variable 'model_1/bn1_vb2_beta:0' shape=(128,) dtype=float32_ref>,\n",
       " <tf.Variable 'model_1/bn1_vb3_scale:0' shape=(128,) dtype=float32_ref>,\n",
       " <tf.Variable 'model_1/bn1_vb3_beta:0' shape=(128,) dtype=float32_ref>,\n",
       " <tf.Variable 'model_1/bn1_vb4_scale:0' shape=(128,) dtype=float32_ref>,\n",
       " <tf.Variable 'model_1/bn1_vb4_beta:0' shape=(128,) dtype=float32_ref>,\n",
       " <tf.Variable 'model_1/fc2_vb1_w:0' shape=(128, 10) dtype=float32_ref>,\n",
       " <tf.Variable 'model_1/fc2_vb1_b:0' shape=(10,) dtype=float32_ref>,\n",
       " <tf.Variable 'model_1/fc2_vb2_w:0' shape=(128, 10) dtype=float32_ref>,\n",
       " <tf.Variable 'model_1/fc2_vb2_b:0' shape=(10,) dtype=float32_ref>,\n",
       " <tf.Variable 'model_1/fc2_vb3_w:0' shape=(128, 10) dtype=float32_ref>,\n",
       " <tf.Variable 'model_1/fc2_vb3_b:0' shape=(10,) dtype=float32_ref>,\n",
       " <tf.Variable 'model_1/fc2_vb4_w:0' shape=(128, 10) dtype=float32_ref>,\n",
       " <tf.Variable 'model_1/fc2_vb4_b:0' shape=(10,) dtype=float32_ref>,\n",
       " <tf.Variable 'model_1/bn2_vb1_scale:0' shape=(10,) dtype=float32_ref>,\n",
       " <tf.Variable 'model_1/bn2_vb1_beta:0' shape=(10,) dtype=float32_ref>,\n",
       " <tf.Variable 'model_1/bn2_vb2_scale:0' shape=(10,) dtype=float32_ref>,\n",
       " <tf.Variable 'model_1/bn2_vb2_beta:0' shape=(10,) dtype=float32_ref>,\n",
       " <tf.Variable 'model_1/bn2_vb3_scale:0' shape=(10,) dtype=float32_ref>,\n",
       " <tf.Variable 'model_1/bn2_vb3_beta:0' shape=(10,) dtype=float32_ref>,\n",
       " <tf.Variable 'model_1/bn2_vb4_scale:0' shape=(10,) dtype=float32_ref>,\n",
       " <tf.Variable 'model_1/bn2_vb4_beta:0' shape=(10,) dtype=float32_ref>]"
      ]
     },
     "execution_count": 11,
     "metadata": {},
     "output_type": "execute_result"
    }
   ],
   "source": [
    "tf.global_variables()"
   ]
  },
  {
   "cell_type": "code",
   "execution_count": 12,
   "metadata": {},
   "outputs": [],
   "source": [
    "loss = tf.reduce_mean(tf.nn.softmax_cross_entropy_with_logits_v2(labels=labels_one_hot, \n",
    "                                                                 logits=model.output), name='loss')\n",
    "train_op = tf.train.AdamOptimizer(learning_rate=0.001).minimize(loss)"
   ]
  },
  {
   "cell_type": "code",
   "execution_count": 13,
   "metadata": {},
   "outputs": [
    {
     "data": {
      "text/plain": [
       "<tf.Tensor 'model_1/output:0' shape=(?, 10) dtype=float32>"
      ]
     },
     "execution_count": 13,
     "metadata": {},
     "output_type": "execute_result"
    }
   ],
   "source": [
    "model.output"
   ]
  },
  {
   "cell_type": "code",
   "execution_count": 14,
   "metadata": {},
   "outputs": [],
   "source": [
    "pred = tf.nn.softmax(model.output, name='pred')\n",
    "pred_max = tf.one_hot(tf.argmax(pred, axis=-1), num_classes)\n",
    "acc = tf.reduce_mean(tf.reduce_sum(labels_one_hot*pred_max, [1]), name='acc')"
   ]
  },
  {
   "cell_type": "code",
   "execution_count": 15,
   "metadata": {},
   "outputs": [
    {
     "name": "stdout",
     "output_type": "stream",
     "text": [
      "Epoch 1/10\n",
      "100/100 [==============================] - 13s 126ms/step - loss: 1.0634 - acc: 0.8147 - val_loss: 0.7436 - val_acc: 0.9020\n",
      "Epoch 2/10\n",
      "100/100 [==============================] - 1s 7ms/step - loss: 0.7217 - acc: 0.9028 - val_loss: 0.6112 - val_acc: 0.9208\n",
      "Epoch 3/10\n",
      "100/100 [==============================] - 1s 7ms/step - loss: 0.5905 - acc: 0.9297 - val_loss: 0.5289 - val_acc: 0.9274\n",
      "Epoch 4/10\n",
      "100/100 [==============================] - 1s 10ms/step - loss: 0.5023 - acc: 0.9434 - val_loss: 0.4773 - val_acc: 0.9322\n",
      "Epoch 5/10\n",
      "100/100 [==============================] - 1s 9ms/step - loss: 0.4437 - acc: 0.9587 - val_loss: 0.4323 - val_acc: 0.9374\n",
      "Epoch 6/10\n",
      "100/100 [==============================] - 1s 7ms/step - loss: 0.3895 - acc: 0.9634 - val_loss: 0.3868 - val_acc: 0.9403\n",
      "Epoch 7/10\n",
      "100/100 [==============================] - 1s 7ms/step - loss: 0.3342 - acc: 0.9716 - val_loss: 0.3595 - val_acc: 0.9435\n",
      "Epoch 8/10\n",
      "100/100 [==============================] - 1s 7ms/step - loss: 0.2948 - acc: 0.9803 - val_loss: 0.3319 - val_acc: 0.9461\n",
      "Epoch 9/10\n",
      "100/100 [==============================] - 1s 9ms/step - loss: 0.2621 - acc: 0.9828 - val_loss: 0.3150 - val_acc: 0.9448\n",
      "Epoch 10/10\n",
      "100/100 [==============================] - 1s 8ms/step - loss: 0.2378 - acc: 0.9834 - val_loss: 0.3010 - val_acc: 0.9478\n"
     ]
    }
   ],
   "source": [
    "with tf.Session() as sess:\n",
    "    sess.run(tf.global_variables_initializer())\n",
    "\n",
    "    for e in range(EPOCHS):\n",
    "        print(\"Epoch {}/{}\".format(e + 1, EPOCHS))\n",
    "        progbar = tf.keras.utils.Progbar(STEPS_PER_EPOCH)\n",
    "        \n",
    "        sess.run(train_init_op, feed_dict={batch_size: BATCH_SIZE})\n",
    "\n",
    "        for i in range(STEPS_PER_EPOCH):\n",
    "            _, loss_value, acc_value = sess.run([train_op, loss, acc])\n",
    "            \n",
    "            if i == STEPS_PER_EPOCH - 1:\n",
    "                sess.run(test_init_op, feed_dict={batch_size: len(X_test_flat)})\n",
    "                val_loss, val_acc = sess.run([loss, acc])\n",
    "                progbar.update(i + 1, values=[(\"loss\", loss_value), (\"acc\", acc_value), \n",
    "                                              (\"val_loss\", val_loss), (\"val_acc\", val_acc)])\n",
    "            else:\n",
    "                progbar.update(i + 1, values=[(\"loss\", loss_value), (\"acc\", acc_value)])\n",
    "    \n",
    "    if save:\n",
    "        saver = tf.train.Saver()\n",
    "        path = os.path.join(model_path, 'ckpt')\n",
    "        saver.save(sess, path)"
   ]
  },
  {
   "cell_type": "markdown",
   "metadata": {},
   "source": [
    "## Model Ensemble"
   ]
  },
  {
   "cell_type": "code",
   "execution_count": 22,
   "metadata": {},
   "outputs": [
    {
     "name": "stdout",
     "output_type": "stream",
     "text": [
      "INFO:tensorflow:Restoring parameters from ./models/mnist_1/ckpt\n"
     ]
    }
   ],
   "source": [
    "test_outputs = []\n",
    "test_losses = []\n",
    "test_accs = []\n",
    "\n",
    "num_models = 1\n",
    "graphs = [tf.Graph() for _ in range(num_models)]\n",
    "sessions = [tf.Session(graph=g) for g in graphs]\n",
    "\n",
    "for i in range(len(graphs)):\n",
    "    with graphs[i].as_default():\n",
    "        model_path = './models/mnist_' + str(i + 1)\n",
    "        meta_path = os.path.join(model_path, 'ckpt.meta')\n",
    "        ckpt = tf.train.get_checkpoint_state(model_path)\n",
    "        \n",
    "        imported_graph = tf.train.import_meta_graph(meta_path)\n",
    "        imported_graph.restore(sessions[i], ckpt.model_checkpoint_path)\n",
    "                \n",
    "        sessions[i].run('test_init_op', feed_dict={'batch_size:0': len(X_test_flat)})\n",
    "        \n",
    "        output, loss, acc = sessions[i].run(['model_%d'%(i+1)+'/'+'output:0', \n",
    "                                             'loss:0', 'acc:0'])\n",
    "        test_outputs.append(output)\n",
    "        test_losses.append(loss)\n",
    "        test_accs.append(acc)"
   ]
  },
  {
   "cell_type": "code",
   "execution_count": 23,
   "metadata": {},
   "outputs": [
    {
     "data": {
      "text/plain": [
       "[0.9415]"
      ]
     },
     "execution_count": 23,
     "metadata": {},
     "output_type": "execute_result"
    }
   ],
   "source": [
    "test_acc"
   ]
  },
  {
   "cell_type": "code",
   "execution_count": 24,
   "metadata": {},
   "outputs": [],
   "source": [
    "def compute_acc(pred, labels_one_hot):\n",
    "    pred_max = tf.keras.utils.to_categorical(np.argmax(pred, axis=-1), num_classes)\n",
    "    return np.mean(np.sum(labels_one_hot*pred_max, axis=1))"
   ]
  },
  {
   "cell_type": "code",
   "execution_count": 25,
   "metadata": {},
   "outputs": [],
   "source": [
    "for i in range(num_models):\n",
    "    assert compute_acc(test_pred[i], y_test_one_hot) == test_acc[i]"
   ]
  },
  {
   "cell_type": "markdown",
   "metadata": {},
   "source": [
    "### Average Predictions Before Softmax"
   ]
  },
  {
   "cell_type": "code",
   "execution_count": 28,
   "metadata": {},
   "outputs": [],
   "source": [
    "before_mean_output = np.array(test_outputs).mean(axis=0)\n",
    "before_mean_acc = compute_acc(softmax(before_mean_output, axis=-1), y_test_one_hot)"
   ]
  },
  {
   "cell_type": "code",
   "execution_count": 29,
   "metadata": {},
   "outputs": [
    {
     "name": "stdout",
     "output_type": "stream",
     "text": [
      "0.9415\n"
     ]
    }
   ],
   "source": [
    "print(before_mean_acc)"
   ]
  },
  {
   "cell_type": "markdown",
   "metadata": {},
   "source": [
    "### Average Predictions After Softmax"
   ]
  },
  {
   "cell_type": "code",
   "execution_count": 30,
   "metadata": {},
   "outputs": [],
   "source": [
    "after_mean_output = softmax(np.array(test_outputs), axis=-1).mean(axis=0)\n",
    "after_mean_acc = compute_acc(softmax(after_mean_output, axis=-1), y_test_one_hot)"
   ]
  },
  {
   "cell_type": "code",
   "execution_count": 31,
   "metadata": {},
   "outputs": [
    {
     "name": "stdout",
     "output_type": "stream",
     "text": [
      "0.9415\n"
     ]
    }
   ],
   "source": [
    "print(after_mean_acc)"
   ]
  },
  {
   "cell_type": "code",
   "execution_count": 17,
   "metadata": {},
   "outputs": [
    {
     "name": "stdout",
     "output_type": "stream",
     "text": [
      "5   \n"
     ]
    }
   ],
   "source": [
    "print(('{:<' + str(4) + '}').format(5))"
   ]
  },
  {
   "cell_type": "code",
   "execution_count": null,
   "metadata": {},
   "outputs": [],
   "source": []
  }
 ],
 "metadata": {
  "kernelspec": {
   "display_name": "Python 3",
   "language": "python",
   "name": "python3"
  },
  "language_info": {
   "codemirror_mode": {
    "name": "ipython",
    "version": 3
   },
   "file_extension": ".py",
   "mimetype": "text/x-python",
   "name": "python",
   "nbconvert_exporter": "python",
   "pygments_lexer": "ipython3",
   "version": "3.6.8"
  }
 },
 "nbformat": 4,
 "nbformat_minor": 2
}
