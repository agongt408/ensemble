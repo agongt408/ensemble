{
 "cells": [
  {
   "cell_type": "markdown",
   "metadata": {},
   "source": [
    "# Make Results Figures"
   ]
  },
  {
   "cell_type": "code",
   "execution_count": 1,
   "metadata": {},
   "outputs": [],
   "source": [
    "import numpy as np\n",
    "import pandas as pd\n",
    "import matplotlib.pyplot as plt"
   ]
  },
  {
   "cell_type": "code",
   "execution_count": 2,
   "metadata": {},
   "outputs": [],
   "source": [
    "dataset = 'omniglot'\n",
    "architecture = 'simple'\n",
    "branches = 3"
   ]
  },
  {
   "cell_type": "markdown",
   "metadata": {},
   "source": [
    "## Ensemble"
   ]
  },
  {
   "cell_type": "code",
   "execution_count": 3,
   "metadata": {},
   "outputs": [],
   "source": [
    "df = pd.read_csv('results/{}-{}/B{}-test.csv'.format(dataset, architecture, branches), header=None)"
   ]
  },
  {
   "cell_type": "code",
   "execution_count": 4,
   "metadata": {},
   "outputs": [
    {
     "data": {
      "text/html": [
       "<div>\n",
       "<style scoped>\n",
       "    .dataframe tbody tr th:only-of-type {\n",
       "        vertical-align: middle;\n",
       "    }\n",
       "\n",
       "    .dataframe tbody tr th {\n",
       "        vertical-align: top;\n",
       "    }\n",
       "\n",
       "    .dataframe thead th {\n",
       "        text-align: right;\n",
       "    }\n",
       "</style>\n",
       "<table border=\"1\" class=\"dataframe\">\n",
       "  <thead>\n",
       "    <tr style=\"text-align: right;\">\n",
       "      <th></th>\n",
       "      <th>0</th>\n",
       "      <th>1</th>\n",
       "      <th>2</th>\n",
       "    </tr>\n",
       "  </thead>\n",
       "  <tbody>\n",
       "    <tr>\n",
       "      <th>0</th>\n",
       "      <td>NaN</td>\n",
       "      <td>concat_acc</td>\n",
       "      <td>mean_acc</td>\n",
       "    </tr>\n",
       "    <tr>\n",
       "      <th>1</th>\n",
       "      <td>0.0</td>\n",
       "      <td>0.8475000000000001</td>\n",
       "      <td>0.805</td>\n",
       "    </tr>\n",
       "    <tr>\n",
       "      <th>2</th>\n",
       "      <td>NaN</td>\n",
       "      <td>concat_acc</td>\n",
       "      <td>mean_acc</td>\n",
       "    </tr>\n",
       "    <tr>\n",
       "      <th>3</th>\n",
       "      <td>0.0</td>\n",
       "      <td>0.8375</td>\n",
       "      <td>0.8299999999999998</td>\n",
       "    </tr>\n",
       "    <tr>\n",
       "      <th>4</th>\n",
       "      <td>NaN</td>\n",
       "      <td>concat_acc</td>\n",
       "      <td>mean_acc</td>\n",
       "    </tr>\n",
       "    <tr>\n",
       "      <th>5</th>\n",
       "      <td>0.0</td>\n",
       "      <td>0.8525</td>\n",
       "      <td>0.8400000000000001</td>\n",
       "    </tr>\n",
       "    <tr>\n",
       "      <th>6</th>\n",
       "      <td>NaN</td>\n",
       "      <td>concat_acc</td>\n",
       "      <td>mean_acc</td>\n",
       "    </tr>\n",
       "    <tr>\n",
       "      <th>7</th>\n",
       "      <td>0.0</td>\n",
       "      <td>0.8524999999999998</td>\n",
       "      <td>0.8225</td>\n",
       "    </tr>\n",
       "    <tr>\n",
       "      <th>8</th>\n",
       "      <td>NaN</td>\n",
       "      <td>concat_acc</td>\n",
       "      <td>mean_acc</td>\n",
       "    </tr>\n",
       "    <tr>\n",
       "      <th>9</th>\n",
       "      <td>0.0</td>\n",
       "      <td>0.8425</td>\n",
       "      <td>0.8225</td>\n",
       "    </tr>\n",
       "    <tr>\n",
       "      <th>10</th>\n",
       "      <td>NaN</td>\n",
       "      <td>concat_acc</td>\n",
       "      <td>mean_acc</td>\n",
       "    </tr>\n",
       "    <tr>\n",
       "      <th>11</th>\n",
       "      <td>0.0</td>\n",
       "      <td>0.8575000000000002</td>\n",
       "      <td>0.8450000000000001</td>\n",
       "    </tr>\n",
       "    <tr>\n",
       "      <th>12</th>\n",
       "      <td>NaN</td>\n",
       "      <td>concat_acc</td>\n",
       "      <td>mean_acc</td>\n",
       "    </tr>\n",
       "    <tr>\n",
       "      <th>13</th>\n",
       "      <td>0.0</td>\n",
       "      <td>0.8549999999999999</td>\n",
       "      <td>0.8200000000000001</td>\n",
       "    </tr>\n",
       "    <tr>\n",
       "      <th>14</th>\n",
       "      <td>NaN</td>\n",
       "      <td>concat_acc</td>\n",
       "      <td>mean_acc</td>\n",
       "    </tr>\n",
       "    <tr>\n",
       "      <th>15</th>\n",
       "      <td>0.0</td>\n",
       "      <td>0.8549999999999999</td>\n",
       "      <td>0.8200000000000001</td>\n",
       "    </tr>\n",
       "  </tbody>\n",
       "</table>\n",
       "</div>"
      ],
      "text/plain": [
       "      0                   1                   2\n",
       "0   NaN          concat_acc            mean_acc\n",
       "1   0.0  0.8475000000000001               0.805\n",
       "2   NaN          concat_acc            mean_acc\n",
       "3   0.0              0.8375  0.8299999999999998\n",
       "4   NaN          concat_acc            mean_acc\n",
       "5   0.0              0.8525  0.8400000000000001\n",
       "6   NaN          concat_acc            mean_acc\n",
       "7   0.0  0.8524999999999998              0.8225\n",
       "8   NaN          concat_acc            mean_acc\n",
       "9   0.0              0.8425              0.8225\n",
       "10  NaN          concat_acc            mean_acc\n",
       "11  0.0  0.8575000000000002  0.8450000000000001\n",
       "12  NaN          concat_acc            mean_acc\n",
       "13  0.0  0.8549999999999999  0.8200000000000001\n",
       "14  NaN          concat_acc            mean_acc\n",
       "15  0.0  0.8549999999999999  0.8200000000000001"
      ]
     },
     "execution_count": 4,
     "metadata": {},
     "output_type": "execute_result"
    }
   ],
   "source": [
    "df"
   ]
  },
  {
   "cell_type": "code",
   "execution_count": 5,
   "metadata": {},
   "outputs": [
    {
     "name": "stdout",
     "output_type": "stream",
     "text": [
      "0.82562494\n"
     ]
    }
   ],
   "source": [
    "mean_acc = df.iloc[range(1, len(df.index)+1, 2), 2].astype('float32').mean()\n",
    "print(mean_acc)"
   ]
  },
  {
   "cell_type": "code",
   "execution_count": 6,
   "metadata": {},
   "outputs": [
    {
     "name": "stdout",
     "output_type": "stream",
     "text": [
      "0.85\n"
     ]
    }
   ],
   "source": [
    "concat_acc = df.iloc[range(1, len(df.index)+1, 2), 1].astype('float32').mean()\n",
    "print(concat_acc)"
   ]
  },
  {
   "cell_type": "markdown",
   "metadata": {},
   "source": [
    "## Baseline"
   ]
  },
  {
   "cell_type": "code",
   "execution_count": 7,
   "metadata": {},
   "outputs": [],
   "source": [
    "df = pd.read_csv('results/{}-{}/B{}-test.csv'.format(dataset, architecture, 1), header=None)\n",
    "baseline_acc = df.iloc[range(1, len(df.index)+1, 2), 2].astype('float32').mean()"
   ]
  },
  {
   "cell_type": "code",
   "execution_count": 8,
   "metadata": {},
   "outputs": [
    {
     "name": "stdout",
     "output_type": "stream",
     "text": [
      "0.8034375\n"
     ]
    }
   ],
   "source": [
    "print(baseline_acc)"
   ]
  },
  {
   "cell_type": "markdown",
   "metadata": {},
   "source": [
    "## Virtual Branching"
   ]
  },
  {
   "cell_type": "code",
   "execution_count": 9,
   "metadata": {},
   "outputs": [],
   "source": [
    "results_concat = {}\n",
    "results_mean = {}\n",
    "\n",
    "for frac in [0, 0.25, 0.5, 0.75, 1]:\n",
    "    df = pd.read_csv('results/vb-{}-{}/B{}/S{:.2f}/test.csv'.format(\n",
    "            dataset,architecture, branches, frac))\n",
    "\n",
    "    results_concat[frac] = df.iloc[0,1]\n",
    "    results_mean[frac] = df.iloc[0,2]"
   ]
  },
  {
   "cell_type": "code",
   "execution_count": 10,
   "metadata": {},
   "outputs": [
    {
     "data": {
      "text/plain": [
       "{0: 0.8725000000000002,\n",
       " 0.25: 0.8575000000000002,\n",
       " 0.5: 0.8375,\n",
       " 0.75: 0.8225,\n",
       " 1: 0.8225}"
      ]
     },
     "execution_count": 10,
     "metadata": {},
     "output_type": "execute_result"
    }
   ],
   "source": [
    "results_concat"
   ]
  },
  {
   "cell_type": "markdown",
   "metadata": {},
   "source": [
    "## Create Figure"
   ]
  },
  {
   "cell_type": "code",
   "execution_count": 11,
   "metadata": {},
   "outputs": [
    {
     "name": "stdout",
     "output_type": "stream",
     "text": [
      "[[0.     0.8725]\n",
      " [0.25   0.8575]\n",
      " [0.5    0.8375]\n",
      " [0.75   0.8225]\n",
      " [1.     0.8225]]\n"
     ]
    }
   ],
   "source": [
    "results_concat_list = list(results_concat.items())\n",
    "results_concat_list.sort()\n",
    "results_concat_list = np.array(results_concat_list)\n",
    "print(results_concat_list)"
   ]
  },
  {
   "cell_type": "code",
   "execution_count": 12,
   "metadata": {},
   "outputs": [
    {
     "name": "stdout",
     "output_type": "stream",
     "text": [
      "[[0.     0.8275]\n",
      " [0.25   0.84  ]\n",
      " [0.5    0.8325]\n",
      " [0.75   0.7975]\n",
      " [1.     0.7875]]\n"
     ]
    }
   ],
   "source": [
    "results_mean_list = list(results_mean.items())\n",
    "results_mean_list.sort()\n",
    "results_mean_list = np.array(results_mean_list)\n",
    "print(results_mean_list)"
   ]
  },
  {
   "cell_type": "code",
   "execution_count": 13,
   "metadata": {},
   "outputs": [
    {
     "data": {
      "image/png": "[encoded data removed]",
      "text/plain": [
       "<Figure size 432x288 with 1 Axes>"
      ]
     },
     "metadata": {
      "needs_background": "light"
     },
     "output_type": "display_data"
    }
   ],
   "source": [
    "plt.plot(results_concat_list[:, 0], results_concat_list[:,1], label='vbranch', color='blue')\n",
    "# plt.plot(results_mean_list[:, 0], results_mean_list[:,1], label='vbranch', color='cyan')\n",
    "\n",
    "plt.plot(results_concat_list[:, 0], [concat_acc]*len(results_concat_list), label='ensemble', linestyle='--')\n",
    "# plt.plot(results_concat_list[:, 0], [mean_acc]*len(results_concat_list), label='ensemble', linestyle='--')\n",
    "\n",
    "plt.plot(results_concat_list[:, 0], [baseline_acc]*len(results_concat_list), label='baseline', linestyle='--')\n",
    "\n",
    "# if architecture == 'simple':\n",
    "#     plt.ylim(0.94, 0.96)\n",
    "# else:\n",
    "#     plt.ylim(0.97, 0.99)\n",
    "\n",
    "plt.legend()\n",
    "plt.xlabel('shared frac')\n",
    "plt.ylabel('acc')\n",
    "plt.title('{} (concat): {} x{} acc +/- 2*SEM'.format(dataset, architecture, branches))\n",
    "\n",
    "plt.savefig('figs/{}-{}-{}-concat-results.png'.format(dataset, architecture, branches))\n",
    "plt.show()"
   ]
  },
  {
   "cell_type": "code",
   "execution_count": null,
   "metadata": {},
   "outputs": [],
   "source": []
  }
 ],
 "metadata": {
  "kernelspec": {
   "display_name": "Python 3",
   "language": "python",
   "name": "python3"
  },
  "language_info": {
   "codemirror_mode": {
    "name": "ipython",
    "version": 3
   },
   "file_extension": ".py",
   "mimetype": "text/x-python",
   "name": "python",
   "nbconvert_exporter": "python",
   "pygments_lexer": "ipython3",
   "version": "3.5.6"
  }
 },
 "nbformat": 4,
 "nbformat_minor": 2
}
