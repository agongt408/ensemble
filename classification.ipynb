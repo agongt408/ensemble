{
 "cells": [
  {
   "cell_type": "markdown",
   "metadata": {},
   "source": [
    "# Classification with Virtual Branching"
   ]
  },
  {
   "cell_type": "code",
   "execution_count": 1,
   "metadata": {},
   "outputs": [],
   "source": [
    "import tensorflow as tf\n",
    "import numpy as np\n",
    "import os\n",
    "import matplotlib.pyplot as plt\n",
    "import time\n",
    "from sklearn.manifold import TSNE"
   ]
  },
  {
   "cell_type": "code",
   "execution_count": 29,
   "metadata": {},
   "outputs": [],
   "source": [
    "from vbranch.callbacks import classification_acc\n",
    "from vbranch.applications.fcn import SimpleFCNv1, SimpleFCNv2\n",
    "from vbranch.applications.cnn import SimpleCNNSmall\n",
    "from vbranch.losses import softmax_cross_entropy_with_logits\n",
    "\n",
    "from vbranch.utils import TFSessionGrow, restore_sess\n",
    "from vbranch.utils.training import get_data, bag_samples, get_data_iterator"
   ]
  },
  {
   "cell_type": "code",
   "execution_count": 3,
   "metadata": {},
   "outputs": [],
   "source": [
    "SAVE = False\n",
    "MODEL_ID = 1\n",
    "ARCHITECTURE = 'fcn2'\n",
    "DATASET = 'mnist'\n",
    "NUM_CLASSES = 10\n",
    "NUM_FEATURES = 784\n",
    "SAMPLES_PER_CLASS = 100\n",
    "BAGGING_SAMPLES = 1.\n",
    "\n",
    "NUM_BRANCHES = 2\n",
    "SHARED_FRAC = 0.25\n",
    "BATCH_SIZE = 32\n",
    "EPOCHS = 10\n",
    "STEPS_PER_EPOCH = 100"
   ]
  },
  {
   "cell_type": "markdown",
   "metadata": {},
   "source": [
    "## Data"
   ]
  },
  {
   "cell_type": "code",
   "execution_count": 4,
   "metadata": {},
   "outputs": [
    {
     "name": "stdout",
     "output_type": "stream",
     "text": [
      "Training set: (60000, 784) (60000, 10)\n",
      "Testing set: (10000, 784) (10000, 10)\n"
     ]
    }
   ],
   "source": [
    "(X_train, y_train), (X_test, y_test) = get_data(DATASET, ARCHITECTURE, NUM_CLASSES,\n",
    "                                                NUM_FEATURES, SAMPLES_PER_CLASS)\n",
    "print('Training set:', X_train.shape, y_train.shape)\n",
    "print('Testing set:', X_test.shape, y_test.shape)\n",
    "\n",
    "x_shape = (None,) + X_train.shape[1:]\n",
    "y_shape = (None, NUM_CLASSES)"
   ]
  },
  {
   "cell_type": "markdown",
   "metadata": {},
   "source": [
    "We optionally perform bootstrap aggregation (bagging) by randomly sampling a random fraction of the original dataset. In general, bagging improves ensemble performance in addition to the gains from vanilla model averaging. A value of 0.6 works well for this task.\n",
    "\n",
    "<br>\n",
    "See original paper on bagging:\n",
    "\n",
    "https://www.stat.berkeley.edu/~breiman/bagging.pdf"
   ]
  },
  {
   "cell_type": "code",
   "execution_count": 5,
   "metadata": {},
   "outputs": [],
   "source": [
    "# Bagging\n",
    "if BAGGING_SAMPLES < 1:\n",
    "    x_train_list, y_train_list = bag_samples(X_train, y_train, NUM_BRANCHES, \n",
    "                                             max_samples=BAGGING_SAMPLES)\n",
    "\n",
    "    for i, (x_, y_) in enumerate(zip(x_train_list, y_train_list)):\n",
    "        print('Bag {}:'.format(i+1), x_.shape, y_.shape)"
   ]
  },
  {
   "cell_type": "markdown",
   "metadata": {},
   "source": [
    "## Train"
   ]
  },
  {
   "cell_type": "markdown",
   "metadata": {},
   "source": [
    "We use the TF Dataset API to train our models. Calling `get_data_iterator` returns the input tensor(s) and initializers for the training and testing data iterators. Each iterator will return random batches from the same data or different data (in the case of bagging). The initializers must be fed to the model compiler and will be called internalling during fitting."
   ]
  },
  {
   "cell_type": "code",
   "execution_count": 6,
   "metadata": {},
   "outputs": [
    {
     "name": "stdout",
     "output_type": "stream",
     "text": [
      "Model path: models/vb-mnist-fcn2-B2-S0.25_1\n"
     ]
    }
   ],
   "source": [
    "# Note models from experiments will be saved in separate format\n",
    "if not os.path.isdir('models'):\n",
    "    os.system('mkdir models')\n",
    "\n",
    "if NUM_BRANCHES == 1:\n",
    "    model_name = '{}-{}_{:d}'.format(DATASET, ARCHITECTURE, MODEL_ID)\n",
    "else:\n",
    "    model_name = 'vb-{}-{}-B{:d}-S{:.2f}_{:d}'.format(DATASET, ARCHITECTURE,\n",
    "                                                      NUM_BRANCHES, SHARED_FRAC, MODEL_ID)\n",
    "model_path = os.path.join('models', model_name)\n",
    "print('Model path:', model_path)"
   ]
  },
  {
   "cell_type": "code",
   "execution_count": 7,
   "metadata": {},
   "outputs": [
    {
     "name": "stdout",
     "output_type": "stream",
     "text": [
      "WARNING:tensorflow:From /home/gong/anaconda3/lib/python3.5/site-packages/tensorflow/python/data/ops/iterator_ops.py:358: colocate_with (from tensorflow.python.framework.ops) is deprecated and will be removed in a future version.\n",
      "Instructions for updating:\n",
      "Colocations handled automatically by placer.\n",
      "Branch 1\n",
      "Input: Tensor(\"input:0\", shape=(?, 784), dtype=float32)\n",
      "Label: Tensor(\"input:1\", shape=(?, 10), dtype=float32)\n",
      "Branch 2\n",
      "Input: Tensor(\"input_1:0\", shape=(?, 784), dtype=float32)\n",
      "Label: Tensor(\"input_1:1\", shape=(?, 10), dtype=float32)\n"
     ]
    }
   ],
   "source": [
    "tf.reset_default_graph()\n",
    "\n",
    "inputs, labels, train_init_op, test_init_op = get_data_iterator(x_shape, y_shape, batch_size=BATCH_SIZE, \n",
    "                                                                n=NUM_BRANCHES, share_xy=BAGGING_SAMPLES == 1)\n",
    "\n",
    "if NUM_BRANCHES > 1:\n",
    "    for i, (ip_, label_) in enumerate(zip(inputs, labels)):\n",
    "        print('Branch {}'.format(i+1))\n",
    "        print('Input:', ip_)\n",
    "        print('Label:', label_)\n",
    "else:\n",
    "    print('Single input (no branching)')\n",
    "    print('Input:' , inputs)\n",
    "    print('Label:', labels)"
   ]
  },
  {
   "cell_type": "markdown",
   "metadata": {},
   "source": [
    "`Model` and `ModelVB` instances can be created using the function (defined in `vbranch.applications`). We declare the model under a `tf.variable_scope` in order to more easily retreive model parameters later on and enable parameter sharing between branches. Callbacks are used to calculate accuracy and other metrics during training."
   ]
  },
  {
   "cell_type": "code",
   "execution_count": 8,
   "metadata": {},
   "outputs": [
    {
     "name": "stdout",
     "output_type": "stream",
     "text": [
      "WARNING:tensorflow:From /home/gong/anaconda3/lib/python3.5/site-packages/tensorflow/python/ops/math_ops.py:3066: to_int32 (from tensorflow.python.ops.math_ops) is deprecated and will be removed in a future version.\n",
      "Instructions for updating:\n",
      "Use tf.cast instead.\n"
     ]
    }
   ],
   "source": [
    "name = 'model'\n",
    "\n",
    "with tf.variable_scope(name, reuse=tf.AUTO_REUSE):\n",
    "    if ARCHITECTURE == 'fcn':\n",
    "        model = SimpleFCNv1(inputs, NUM_CLASSES, name=name, shared_frac=SHARED_FRAC)\n",
    "    elif ARCHITECTURE == 'fcn2':\n",
    "        model = SimpleFCNv2(inputs, NUM_CLASSES, name=name, shared_frac=SHARED_FRAC)\n",
    "    elif ARCHITECTURE == 'cnn':\n",
    "        model = SimpleCNNSmall(inputs, NUM_CLASSES, name=name, shared_frac=SHARED_FRAC)\n",
    "    else:\n",
    "        raise ValueError('invalid model')\n",
    "\n",
    "    optimizer = tf.train.AdamOptimizer(learning_rate=0.001)\n",
    "    model.compile(optimizer, softmax_cross_entropy_with_logits(), \n",
    "                  train_init_op, test_init_op, labels=labels, \n",
    "                  callbacks={'acc':classification_acc(NUM_BRANCHES)})"
   ]
  },
  {
   "cell_type": "code",
   "execution_count": 9,
   "metadata": {},
   "outputs": [
    {
     "name": "stdout",
     "output_type": "stream",
     "text": [
      "i  Layer name                Output shape           Num param  Inbound  \n",
      "------------------------------------------------------------------------\n",
      "   Input                     [None,784]                                 \n",
      "------------------------------------------------------------------------\n",
      "   Input                     [None,784]                                 \n",
      "------------------------------------------------------------------------\n",
      "0  fc1 (Dense)               [None,128] [None,384]  703360     input    \n",
      "                             [None,128] [None,384]                      \n",
      "------------------------------------------------------------------------\n",
      "1  bn1 (BatchNormalization)  [None,128] [None,384]  1792       fc1      \n",
      "                             [None,128] [None,384]                      \n",
      "------------------------------------------------------------------------\n",
      "2  relu1 (Activation)        [None,128] [None,384]  0          bn1      \n",
      "                             [None,128] [None,384]                      \n",
      "------------------------------------------------------------------------\n",
      "3  fc2 (Dense)               [None,64] [None,192]   254912     relu1    \n",
      "                             [None,64] [None,192]                       \n",
      "------------------------------------------------------------------------\n",
      "4  bn2 (BatchNormalization)  [None,64] [None,192]   896        fc2      \n",
      "                             [None,64] [None,192]                       \n",
      "------------------------------------------------------------------------\n",
      "5  relu2 (Activation)        [None,64] [None,192]   0          bn2      \n",
      "                             [None,64] [None,192]                       \n",
      "------------------------------------------------------------------------\n",
      "6  output (Dense)            [None,10]              5030       relu2    \n",
      "                             [None,10]                                  \n",
      "------------------------------------------------------------------------\n",
      "Total parameters: 965990\n"
     ]
    }
   ],
   "source": [
    "model.summary()"
   ]
  },
  {
   "cell_type": "code",
   "execution_count": 15,
   "metadata": {},
   "outputs": [
    {
     "name": "stdout",
     "output_type": "stream",
     "text": [
      "{'loss_2': <tf.Tensor 'model/loss_2:0' shape=() dtype=float32>, 'loss_1': <tf.Tensor 'model/loss_1:0' shape=() dtype=float32>}\n"
     ]
    }
   ],
   "source": [
    "if NUM_BRANCHES > 1:\n",
    "    print(model.losses)"
   ]
  },
  {
   "cell_type": "markdown",
   "metadata": {},
   "source": [
    "In order to train the model, we must supply the training and validation data. The training data can either be shared or different (in the case of bagging). Either way, the batches are random so each branch gets \"different\" data. Finally, we call the `fit` method, which handles both `Model` and `ModelVB` and returns a dictionary of all metrics over epochs. "
   ]
  },
  {
   "cell_type": "code",
   "execution_count": 16,
   "metadata": {},
   "outputs": [],
   "source": [
    "if NUM_BRANCHES == 1 or BAGGING_SAMPLES == 1:\n",
    "    train_dict = {'x:0': X_train, 'y:0': y_train, 'batch_size:0': BATCH_SIZE}\n",
    "else:\n",
    "    train_dict = {}\n",
    "    for i in range(NUM_BRANCHES):\n",
    "        train_dict['vb{}_x:0'.format(i+1)] = x_train_list[i]\n",
    "        train_dict['vb{}_y:0'.format(i+1)] = y_train_list[i]\n",
    "    train_dict['batch_size:0'] = BATCH_SIZE\n",
    "    \n",
    "val_dict = {'x:0': X_test, 'y:0': y_test, 'batch_size:0': len(X_test)}"
   ]
  },
  {
   "cell_type": "code",
   "execution_count": 17,
   "metadata": {
    "scrolled": false
   },
   "outputs": [
    {
     "name": "stdout",
     "output_type": "stream",
     "text": [
      "Epoch 1/10\n",
      " - 5s - loss_2: 0.4884 - loss_1: 0.4945 - acc_2: 0.9174 - acc_1: 0.9091 - acc_ensemble: 0.9255 - val_loss_2: 0.2701 - val_loss_1: 0.2872 - val_acc_2: 0.9170 - val_acc_1: 0.9087 - val_acc_ensemble: 0.9261\n",
      "Epoch 2/10\n",
      " - 3s - loss_2: 0.1651 - loss_1: 0.1860 - acc_2: 0.9278 - acc_1: 0.9304 - acc_ensemble: 0.9404 - val_loss_2: 0.2315 - val_loss_1: 0.2267 - val_acc_2: 0.9272 - val_acc_1: 0.9276 - val_acc_ensemble: 0.9377\n",
      "Epoch 3/10\n",
      " - 4s - loss_2: 0.1450 - loss_1: 0.1130 - acc_2: 0.9399 - acc_1: 0.9389 - acc_ensemble: 0.9457 - val_loss_2: 0.1922 - val_loss_1: 0.1942 - val_acc_2: 0.9395 - val_acc_1: 0.9395 - val_acc_ensemble: 0.9471\n",
      "Epoch 4/10\n",
      " - 4s - loss_2: 0.0705 - loss_1: 0.1000 - acc_2: 0.9441 - acc_1: 0.9429 - acc_ensemble: 0.9487 - val_loss_2: 0.1927 - val_loss_1: 0.1940 - val_acc_2: 0.9383 - val_acc_1: 0.9386 - val_acc_ensemble: 0.9444\n",
      "Epoch 5/10\n",
      " - 4s - loss_2: 0.0549 - loss_1: 0.0532 - acc_2: 0.9459 - acc_1: 0.9473 - acc_ensemble: 0.9518 - val_loss_2: 0.1842 - val_loss_1: 0.1736 - val_acc_2: 0.9429 - val_acc_1: 0.9456 - val_acc_ensemble: 0.9520\n",
      "Epoch 6/10\n",
      " - 4s - loss_2: 0.0360 - loss_1: 0.0524 - acc_2: 0.9482 - acc_1: 0.9472 - acc_ensemble: 0.9530 - val_loss_2: 0.1814 - val_loss_1: 0.1734 - val_acc_2: 0.9447 - val_acc_1: 0.9451 - val_acc_ensemble: 0.9528\n",
      "Epoch 7/10\n",
      " - 3s - loss_2: 0.0213 - loss_1: 0.0369 - acc_2: 0.9505 - acc_1: 0.9483 - acc_ensemble: 0.9548 - val_loss_2: 0.1761 - val_loss_1: 0.1736 - val_acc_2: 0.9498 - val_acc_1: 0.9461 - val_acc_ensemble: 0.9526\n",
      "Epoch 8/10\n",
      " - 3s - loss_2: 0.0188 - loss_1: 0.0237 - acc_2: 0.9534 - acc_1: 0.9518 - acc_ensemble: 0.9567 - val_loss_2: 0.1681 - val_loss_1: 0.1716 - val_acc_2: 0.9512 - val_acc_1: 0.9486 - val_acc_ensemble: 0.9541\n",
      "Epoch 9/10\n",
      " - 4s - loss_2: 0.0180 - loss_1: 0.0142 - acc_2: 0.9523 - acc_1: 0.9555 - acc_ensemble: 0.9570 - val_loss_2: 0.1660 - val_loss_1: 0.1535 - val_acc_2: 0.9506 - val_acc_1: 0.9536 - val_acc_ensemble: 0.9563\n",
      "Epoch 10/10\n",
      " - 4s - loss_2: 0.0134 - loss_1: 0.0076 - acc_2: 0.9496 - acc_1: 0.9558 - acc_ensemble: 0.9569 - val_loss_2: 0.1808 - val_loss_1: 0.1577 - val_acc_2: 0.9461 - val_acc_1: 0.9548 - val_acc_ensemble: 0.9549\n"
     ]
    }
   ],
   "source": [
    "history = model.fit(EPOCHS, STEPS_PER_EPOCH, train_dict=train_dict,\n",
    "                    val_dict=val_dict, log_path=model_path if SAVE else None)"
   ]
  },
  {
   "cell_type": "code",
   "execution_count": 27,
   "metadata": {},
   "outputs": [
    {
     "data": {
      "image/png": "[encoded data removed]",
      "text/plain": [
       "<Figure size 1080x360 with 2 Axes>"
      ]
     },
     "metadata": {
      "needs_background": "light"
     },
     "output_type": "display_data"
    }
   ],
   "source": [
    "plt.figure(figsize=(15, 5))\n",
    "\n",
    "plt.subplot(1,2,1)\n",
    "for i in range(NUM_BRANCHES):\n",
    "    plt.plot(history['loss_{}'.format(i+1)], label='loss {}'.format(i+1))\n",
    "plt.title('Training Loss')\n",
    "plt.xlabel('Epoch')\n",
    "plt.ylabel('Loss')\n",
    "plt.legend()\n",
    "\n",
    "plt.subplot(1,2,2)\n",
    "for i in range(NUM_BRANCHES):\n",
    "    plt.plot(history['val_acc_{}'.format(i+1)], linestyle='--', label='acc {}'.format(i+1))\n",
    "plt.plot(history['val_acc_ensemble'], label='ensemble acc')\n",
    "plt.title('Validation Accuracy')\n",
    "plt.xlabel('Epoch')\n",
    "plt.ylabel('Acc')\n",
    "plt.legend()\n",
    "\n",
    "plt.show()"
   ]
  },
  {
   "cell_type": "markdown",
   "metadata": {},
   "source": [
    "The ensemble never has validation accuracy greater than the individual branches. In fact, the ensemble accuracy exceeds the individual accuracies by a large margin for most epochs. Of course, this is only a limited example. See below for more comprehensive results."
   ]
  },
  {
   "cell_type": "markdown",
   "metadata": {},
   "source": [
    "## Evaluation"
   ]
  },
  {
   "cell_type": "markdown",
   "metadata": {},
   "source": [
    "Run the following script in the terminal. This script with perform multiple trials of the code above and with varying hyperparameters. Individual configurations can also be called from the terminal using the following scripts (arguments shown)."
   ]
  },
  {
   "cell_type": "raw",
   "metadata": {},
   "source": [
    "python experiments/classification/run.py"
   ]
  },
  {
   "cell_type": "raw",
   "metadata": {},
   "source": [
    "python experiments/classification/baseline.py --help\n",
    "python experiments/classification/vbranch.py --help"
   ]
  },
  {
   "cell_type": "code",
   "execution_count": 32,
   "metadata": {},
   "outputs": [],
   "source": [
    "from vbranch.utils.generic import get_model_path, get_vb_model_path\n",
    "from vbranch.utils.test import baseline_classification"
   ]
  },
  {
   "cell_type": "markdown",
   "metadata": {},
   "source": [
    "### Baseline"
   ]
  },
  {
   "cell_type": "code",
   "execution_count": 37,
   "metadata": {},
   "outputs": [
    {
     "name": "stdout",
     "output_type": "stream",
     "text": [
      "INFO:tensorflow:Restoring parameters from models/mnist-fcn2/model_1/ckpt\n",
      "Model 1: 0.9494\n",
      "INFO:tensorflow:Restoring parameters from models/mnist-fcn2/model_2/ckpt\n",
      "Model 2: 0.9432\n",
      "INFO:tensorflow:Restoring parameters from models/mnist-fcn2/model_3/ckpt\n",
      "Model 3: 0.9483\n",
      "INFO:tensorflow:Restoring parameters from models/mnist-fcn2/model_4/ckpt\n",
      "Model 4: 0.9466\n",
      "INFO:tensorflow:Restoring parameters from models/mnist-fcn2/model_5/ckpt\n",
      "Model 5: 0.9445\n",
      "INFO:tensorflow:Restoring parameters from models/mnist-fcn2/model_6/ckpt\n",
      "Model 6: 0.9468\n",
      "INFO:tensorflow:Restoring parameters from models/mnist-fcn2/model_7/ckpt\n",
      "Model 7: 0.9378\n",
      "INFO:tensorflow:Restoring parameters from models/mnist-fcn2/model_8/ckpt\n",
      "Model 8: 0.9527\n",
      "MEAN: 0.9461625\n",
      "STD: 0.004181196\n"
     ]
    }
   ],
   "source": [
    "# List of models to run\n",
    "model_id_list = range(1, 9)\n",
    "baseline_acc_list = []\n",
    "\n",
    "for model_id in model_id_list:\n",
    "    tf.reset_default_graph()\n",
    "    model_path = get_model_path(DATASET, ARCHITECTURE, model_id=model_id)\n",
    "    \n",
    "    with TFSessionGrow() as sess:\n",
    "        restore_sess(sess, model_path)\n",
    "        acc = baseline_classification(sess, X_test, y_test)['acc']\n",
    "        print('Model {}:'.format(model_id), acc)\n",
    "        baseline_acc_list.append(acc)\n",
    "        \n",
    "print('MEAN:', np.mean(baseline_acc_list))\n",
    "print('STD:', np.std(baseline_acc_list))"
   ]
  },
  {
   "cell_type": "markdown",
   "metadata": {},
   "source": [
    "### Ensemble"
   ]
  },
  {
   "cell_type": "code",
   "execution_count": null,
   "metadata": {},
   "outputs": [],
   "source": [
    "test_outputs = []\n",
    "test_losses = []\n",
    "test_accs = []\n",
    "\n",
    "num_models = 4\n",
    "graphs = [tf.Graph() for _ in range(5)]\n",
    "sessions = [tf.Session(graph=g) for g in graphs]\n",
    "\n",
    "for i in np.random.choice(5, num_models, replace=False):\n",
    "    with graphs[i].as_default():\n",
    "        model_path = 'models/mnist-{}_{}'.format(architecture, i + 1)\n",
    "        meta_path = os.path.join(model_path, 'ckpt.meta')\n",
    "        ckpt = tf.train.get_checkpoint_state(model_path)\n",
    "        \n",
    "        imported_graph = tf.train.import_meta_graph(meta_path)\n",
    "        imported_graph.restore(sessions[i], ckpt.model_checkpoint_path)\n",
    "                \n",
    "        sessions[i].run('test_init_op', feed_dict={'batch_size:0': len(X_test)})\n",
    "        \n",
    "        output, loss, acc = sessions[i].run(['model_%d'%(i+1)+'/'+'output:0', \n",
    "                                             'loss:0', 'acc:0'])\n",
    "        test_outputs.append(output)\n",
    "        test_losses.append(loss)\n",
    "        test_accs.append(acc)"
   ]
  },
  {
   "cell_type": "markdown",
   "metadata": {},
   "source": [
    "### Virtual Branching"
   ]
  },
  {
   "cell_type": "code",
   "execution_count": null,
   "metadata": {},
   "outputs": [],
   "source": [
    "model_id_list = [1]\n",
    "vbranch_acc_list = []\n",
    "\n",
    "for model_id in model_id_list:\n",
    "    tf.reset_default_graph()\n",
    "    model_name = 'vb-{}-{}-B{:d}-S{:.2f}_{:d}'.format(DATASET, ARCHITECTURE,\n",
    "                                            NUM_BRANCHES, SHARED_FRAC, model_id)\n",
    "    model_path = os.path.join('models', model_name)\n",
    "    \n",
    "    with TFSessionGrow() as sess:\n",
    "        restore_sess(sess, model_path)\n",
    "        acc, branch_acc = vbranch_classification(sess, X_test, y_test, \n",
    "                                     model_name='model_'+str(model_id)+'_1', \n",
    "                                     num_classes=NUM_CLASSES, \n",
    "                                     n_branches=NUM_BRANCHES)\n",
    "        print('Model {} acc:'.format(model_id), acc, branch_acc)\n",
    "        vbranch_acc_list.append(acc)\n",
    "        \n",
    "print('Mean acc:', np.mean(vbranch_acc_list), ', std:', np.std(vbranch_acc_list))"
   ]
  },
  {
   "cell_type": "markdown",
   "metadata": {},
   "source": [
    "### Feature Visualization"
   ]
  },
  {
   "cell_type": "code",
   "execution_count": null,
   "metadata": {},
   "outputs": [],
   "source": [
    "def get_tsne(features):\n",
    "    start = time.time()\n",
    "    tsne = TSNE(n_components=2, verbose=1, perplexity=40, n_iter=300)\n",
    "    tsne_results = tsne.fit_transform(features)\n",
    "\n",
    "    print('t-SNE done! Time elapsed: {} seconds'.format(time.time()-start))\n",
    "    return tsne_results"
   ]
  },
  {
   "cell_type": "code",
   "execution_count": null,
   "metadata": {},
   "outputs": [],
   "source": [
    "X_sample, y_sample = bag_samples(X_train, y_train, 1, max_samples=250)\n",
    "print(X_sample.shape, y_sample.shape)"
   ]
  },
  {
   "cell_type": "code",
   "execution_count": null,
   "metadata": {},
   "outputs": [],
   "source": [
    "tf.reset_default_graph()\n",
    "model_name = '{}-{}_{:d}'.format(DATASET, ARCHITECTURE, MODEL_ID)\n",
    "model_path = os.path.join('models', model_name)\n",
    "\n",
    "with TFSessionGrow() as sess:\n",
    "    restore_sess(sess, model_path)\n",
    "    baseline_features = sess.run('model_{}_1/output/output:0'.format(MODEL_ID), \n",
    "                                 feed_dict={'x_test:0':X_sample})"
   ]
  },
  {
   "cell_type": "code",
   "execution_count": null,
   "metadata": {},
   "outputs": [],
   "source": [
    "tf.reset_default_graph()\n",
    "model_name = 'vb-{}-{}-B{:d}-S{:.2f}_{:d}'.format(DATASET, ARCHITECTURE,\n",
    "                                            NUM_BRANCHES, SHARED_FRAC, MODEL_ID)\n",
    "model_path = os.path.join('models', model_name)\n",
    "    \n",
    "with TFSessionGrow() as sess:\n",
    "    restore_sess(sess, model_path)\n",
    "    \n",
    "    outputs = []\n",
    "    for i in range(NUM_BRANCHES):\n",
    "        name = os.path.join('model_{}_1/output/vb{}/output:0'.format(MODEL_ID, i+1))\n",
    "        outputs.append(name)\n",
    "        \n",
    "    vbranch_features = sess.run(outputs, feed_dict={'x_test:0':X_sample})\n",
    "    mean_vbranch_features = np.mean(vbranch_features, axis=0)"
   ]
  },
  {
   "cell_type": "code",
   "execution_count": null,
   "metadata": {},
   "outputs": [],
   "source": [
    "baseline_tsne = get_tsne(baseline_features)\n",
    "vbranch_tsne = get_tsne(mean_vbranch_features)\n",
    "sample_labels = np.argmax(y_sample, axis=-1)\n",
    "\n",
    "plt.figure(figsize=(15,5))\n",
    "\n",
    "plt.subplot(1, 2, 1)\n",
    "plt.scatter(baseline_tsne[:,0], baseline_tsne[:,1], c=sample_labels, cmap=plt.cm.jet)\n",
    "plt.colorbar()\n",
    "plt.title('Baseline')\n",
    "\n",
    "plt.subplot(1, 2, 2)\n",
    "plt.scatter(vbranch_tsne[:,0], vbranch_tsne[:,1], c=sample_labels, cmap=plt.cm.jet)\n",
    "plt.colorbar()\n",
    "plt.title('Virtual Branching')\n",
    "\n",
    "plt.show()"
   ]
  },
  {
   "cell_type": "markdown",
   "metadata": {},
   "source": [
    "### Correlation and Strength"
   ]
  },
  {
   "cell_type": "code",
   "execution_count": null,
   "metadata": {},
   "outputs": [],
   "source": [
    "from vbranch.utils.generic_utils import get_model_path, get_vb_model_path\n",
    "from vbranch.utils.test_utils import compute_correlation_strength, compute_acc_from_logits"
   ]
  },
  {
   "cell_type": "code",
   "execution_count": null,
   "metadata": {},
   "outputs": [],
   "source": [
    "y_labels = np.argmax(y_test, axis=-1)\n",
    "\n",
    "model_id_list = range(1, 9)\n",
    "output_list = []\n",
    "acc_list = []\n",
    "pred_list = []\n",
    "\n",
    "for model_id in model_id_list:\n",
    "    tf.reset_default_graph()\n",
    "\n",
    "    with tf.Session() as sess:\n",
    "        model_path = get_model_path(DATASET, ARCHITECTURE, NUM_CLASSES, \n",
    "                                    SAMPLES_PER_CLASS, model_id)\n",
    "        restore_sess(sess, model_path)\n",
    "        output = sess.run('model_{}_1/output:0'.format(model_id),\n",
    "            feed_dict={'x_test:0':X_test})\n",
    "\n",
    "    output_list.append(output)\n",
    "    acc_list.append(compute_acc_from_logits(output, y_test, NUM_CLASSES))\n",
    "    pred_list.append(np.argmax(output, axis=1))\n",
    "    \n",
    "model_preds = np.array(pred_list).transpose(1,0)\n",
    "baseline_corr, baseline_strength = compute_correlation_strength(model_preds, y_labels, \n",
    "                                                                NUM_CLASSES, \n",
    "                                                                len(model_id_list))\n",
    "\n",
    "print('Mean correlation:', baseline_corr)\n",
    "print('Strength:' , baseline_strength)"
   ]
  },
  {
   "cell_type": "code",
   "execution_count": null,
   "metadata": {},
   "outputs": [],
   "source": [
    "shared_frac_list = [0, 0.25, 0.5, 0.75, 1]\n",
    "shared_correlation_list = []\n",
    "shared_strength_list = []\n",
    "\n",
    "for shared in shared_frac_list:\n",
    "    mean_correlation_list = []\n",
    "    strength_list = []\n",
    "    \n",
    "    for model_id in range(1, 5):\n",
    "        model_path = get_vb_model_path(DATASET, ARCHITECTURE, NUM_BRANCHES, shared, \n",
    "                                       NUM_CLASSES, SAMPLES_PER_CLASS, model_id)\n",
    "\n",
    "        tensors = []\n",
    "        for i in range(NUM_BRANCHES):\n",
    "            tensors.append('model/output/vb{}/output:0'.format(i+1))\n",
    "\n",
    "        tf.reset_default_graph()\n",
    "\n",
    "        with tf.Session() as sess:\n",
    "            restore_sess(sess, model_path)\n",
    "            feed_dict = feed_dict={'x_test:0': X_test, 'y_test:0': y_test}\n",
    "            outputs, acc = sess.run([tensors, 'acc_ensemble_1:0'], feed_dict=feed_dict)\n",
    "            \n",
    "        preds = np.array([np.argmax(x, axis=1) for x in outputs]).transpose(1,0)\n",
    "        mean_correlation, strength = compute_correlation_strength(preds, y_labels, NUM_CLASSES, NUM_BRANCHES)\n",
    "        \n",
    "        mean_correlation_list.append(mean_correlation)\n",
    "        strength_list.append(strength)\n",
    "        \n",
    "    shared_correlation_list.append([np.mean(mean_correlation_list), np.std(mean_correlation_list)])\n",
    "    shared_strength_list.append([np.mean(strength_list), np.std(strength_list)])"
   ]
  },
  {
   "cell_type": "code",
   "execution_count": null,
   "metadata": {},
   "outputs": [],
   "source": [
    "plt.plot(shared_frac_list, np.array(shared_correlation_list)[:, 0], label='correlation')\n",
    "plt.plot(shared_frac_list, np.array(shared_strength_list)[:, 0], label='strength')\n",
    "\n",
    "# Baseline\n",
    "plt.plot(shared_frac_list, [baseline_corr]* len(shared_correlation_list), \n",
    "         label='baseline correlation', linestyle='--')\n",
    "plt.plot(shared_frac_list, [baseline_strength]* len(shared_correlation_list), \n",
    "         label='baseline strength', linestyle='--')\n",
    "\n",
    "plt.xlabel('shared frac')\n",
    "plt.title('Correlation and Strength')\n",
    "plt.legend()\n",
    "\n",
    "plt.savefig('figs/correlation-strength.png')\n",
    "plt.show()"
   ]
  },
  {
   "cell_type": "code",
   "execution_count": null,
   "metadata": {},
   "outputs": [],
   "source": []
  }
 ],
 "metadata": {
  "kernelspec": {
   "display_name": "Python 3",
   "language": "python",
   "name": "python3"
  },
  "language_info": {
   "codemirror_mode": {
    "name": "ipython",
    "version": 3
   },
   "file_extension": ".py",
   "mimetype": "text/x-python",
   "name": "python",
   "nbconvert_exporter": "python",
   "pygments_lexer": "ipython3",
   "version": "3.5.6"
  }
 },
 "nbformat": 4,
 "nbformat_minor": 2
}
