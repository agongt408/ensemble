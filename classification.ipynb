{
 "cells": [
  {
   "cell_type": "markdown",
   "metadata": {},
   "source": [
    "# Classification with Virtual Branching"
   ]
  },
  {
   "cell_type": "code",
   "execution_count": 1,
   "metadata": {},
   "outputs": [],
   "source": [
    "import tensorflow as tf\n",
    "import numpy as np\n",
    "import os\n",
    "import matplotlib.pyplot as plt\n",
    "import time\n",
    "from sklearn.manifold import TSNE"
   ]
  },
  {
   "cell_type": "code",
   "execution_count": 2,
   "metadata": {},
   "outputs": [],
   "source": [
    "import vbranch as vb\n",
    "from vbranch.utils.training_utils import get_data, bag_samples, get_data_iterator\n",
    "from vbranch.utils import TFSessionGrow, restore_sess\n",
    "from vbranch.utils.test_utils import baseline_classification, vbranch_classification\n",
    "from vbranch.applications.fcn import SimpleFCNv1, SimpleFCNv2\n",
    "from vbranch.applications.cnn import SimpleCNNSmall"
   ]
  },
  {
   "cell_type": "code",
   "execution_count": 3,
   "metadata": {},
   "outputs": [],
   "source": [
    "SAVE = False\n",
    "MODEL_ID = 1\n",
    "ARCHITECTURE = 'fcn'\n",
    "DATASET = 'mnist'\n",
    "NUM_CLASSES = 10\n",
    "NUM_FEATURES = 784\n",
    "SAMPLES_PER_CLASS = 100\n",
    "BAGGING_SAMPLES = 0.6\n",
    "\n",
    "NUM_BRANCHES = 1\n",
    "SHARED_FRAC = 0\n",
    "BATCH_SIZE = 32\n",
    "EPOCHS = 10\n",
    "STEPS_PER_EPOCH = 100"
   ]
  },
  {
   "cell_type": "markdown",
   "metadata": {},
   "source": [
    "## Data"
   ]
  },
  {
   "cell_type": "code",
   "execution_count": 4,
   "metadata": {},
   "outputs": [],
   "source": [
    "(X_train, y_train), (X_test, y_test) = get_data(DATASET, ARCHITECTURE, NUM_CLASSES,\n",
    "                                                NUM_FEATURES, SAMPLES_PER_CLASS)\n",
    "x_shape = (None,) + X_train.shape[1:]\n",
    "y_shape = (None, NUM_CLASSES)"
   ]
  },
  {
   "cell_type": "code",
   "execution_count": 5,
   "metadata": {},
   "outputs": [],
   "source": [
    "# Perform bagging\n",
    "x_train_list, y_train_list = bag_samples(X_train, y_train, NUM_BRANCHES, \n",
    "                                         max_samples=BAGGING_SAMPLES)"
   ]
  },
  {
   "cell_type": "markdown",
   "metadata": {},
   "source": [
    "## Train"
   ]
  },
  {
   "cell_type": "markdown",
   "metadata": {},
   "source": [
    "### Build"
   ]
  },
  {
   "cell_type": "code",
   "execution_count": 6,
   "metadata": {},
   "outputs": [
    {
     "name": "stdout",
     "output_type": "stream",
     "text": [
      "models/mnist-fcn_1\n"
     ]
    }
   ],
   "source": [
    "if not os.path.isdir('models'):\n",
    "    os.system('mkdir models')\n",
    "\n",
    "if NUM_BRANCHES == 1:\n",
    "    model_name = '{}-{}_{:d}'.format(DATASET, ARCHITECTURE, MODEL_ID)\n",
    "else:\n",
    "    model_name = 'vb-{}-{}-B{:d}-S{:.2f}_{:d}'.format(DATASET, ARCHITECTURE,\n",
    "                                                      NUM_BRANCHES, SHARED_FRAC, MODEL_ID)\n",
    "model_path = os.path.join('models', model_name)\n",
    "print(model_path)"
   ]
  },
  {
   "cell_type": "code",
   "execution_count": 7,
   "metadata": {},
   "outputs": [
    {
     "name": "stdout",
     "output_type": "stream",
     "text": [
      "WARNING:tensorflow:From /home/gong/anaconda3/lib/python3.5/site-packages/tensorflow/python/data/ops/dataset_ops.py:1419: colocate_with (from tensorflow.python.framework.ops) is deprecated and will be removed in a future version.\n",
      "Instructions for updating:\n",
      "Colocations handled automatically by placer.\n"
     ]
    }
   ],
   "source": [
    "tf.reset_default_graph()\n",
    "\n",
    "# batch_size = tf.placeholder('int64', name='batch_size')\n",
    "\n",
    "# if NUM_BRANCHES == 1:\n",
    "#     x = tf.placeholder('float32', x_shape, name='x')\n",
    "#     y = tf.placeholder('float32', y_shape, name='y')\n",
    "\n",
    "#     dataset = tf.data.Dataset.from_tensor_slices((x,y)).\\\n",
    "#         batch(batch_size).repeat().\\\n",
    "#         shuffle(buffer_size=4*BATCH_SIZE)\n",
    "\n",
    "#     iterators = dataset.make_initializable_iterator()\n",
    "#     inputs, labels_one_hot = iterators.get_next('input')\n",
    "# else:\n",
    "#     x_list = []\n",
    "#     y_list = []\n",
    "#     iterators = []\n",
    "#     inputs = []\n",
    "#     labels_one_hot = []\n",
    "\n",
    "#     for i in range(NUM_BRANCHES):\n",
    "#         x = tf.placeholder('float32', x_shape, name='vb{:d}_x'.format(i+1))\n",
    "#         y = tf.placeholder('float32', y_shape, name='vb{:d}_y'.format(i+1))\n",
    "\n",
    "#         iter_ = tf.data.Dataset.from_tensor_slices((x,y)).\\\n",
    "#             repeat().batch(batch_size).shuffle(buffer_size=4*BATCH_SIZE).\\\n",
    "#             make_initializable_iterator()\n",
    "#         input_, labels_one_hot_ = iter_.get_next('input')\n",
    "        \n",
    "#         x_list.append(x)\n",
    "#         y_list.append(y)\n",
    "#         iterators.append(iter_)\n",
    "#         inputs.append(input_)\n",
    "#         labels_one_hot.append(labels_one_hot_)\n",
    "\n",
    "inputs, labels_one_hot, iterators = get_data_iterator(x_shape, y_shape, batch_size=BATCH_SIZE, \n",
    "                                                      n=NUM_BRANCHES, share_xy=BAGGING_SAMPLES == 1)"
   ]
  },
  {
   "cell_type": "code",
   "execution_count": 8,
   "metadata": {},
   "outputs": [],
   "source": [
    "def build_model(architecture,inputs,labels, num_classes,num_branches,model_id, shared_frac):\n",
    "    if num_branches > 1 and isinstance(inputs, tf.Tensor):\n",
    "        inputs = [inputs] * num_branches\n",
    "        \n",
    "    name = 'model_' + str(model_id)\n",
    "    \n",
    "    with tf.variable_scope(name, reuse=tf.AUTO_REUSE):\n",
    "        if architecture == 'fcn':\n",
    "            model = SimpleFCNv1(inputs, num_classes, name=name, shared_frac=shared_frac)\n",
    "        elif architecture == 'cnn':\n",
    "            model = SimpleCNNSmall(inputs, num_classes, name=name, shared_frac=shared_frac)\n",
    "        else:\n",
    "            raise ValueError('invalid model')\n",
    "            \n",
    "        if type(labels) is list:\n",
    "            labels_list = labels\n",
    "        else:\n",
    "            labels_list = [labels] * num_branches\n",
    "            \n",
    "        optimizer = tf.train.AdamOptimizer(learning_rate=0.001)\n",
    "        model.compile(optimizer, 'softmax_cross_entropy_with_logits',\n",
    "                        labels_one_hot=labels_list)\n",
    "\n",
    "    return model"
   ]
  },
  {
   "cell_type": "code",
   "execution_count": 9,
   "metadata": {},
   "outputs": [
    {
     "name": "stdout",
     "output_type": "stream",
     "text": [
      "WARNING:tensorflow:From /home/gong/anaconda3/lib/python3.5/site-packages/tensorflow/python/ops/math_ops.py:3066: to_int32 (from tensorflow.python.ops.math_ops) is deprecated and will be removed in a future version.\n",
      "Instructions for updating:\n",
      "Use tf.cast instead.\n",
      "i  Layer name                Output shape  Parameters       Num param  Inbound  \n",
      "--------------------------------------------------------------------------------\n",
      "   Input                     [None,784]                                         \n",
      "--------------------------------------------------------------------------------\n",
      "0  fc1 (Dense)               [None,512]    [784,512] [512]  401920     input:0  \n",
      "--------------------------------------------------------------------------------\n",
      "1  bn1 (BatchNormalization)  [None,512]    [512] [512]      1024       fc1      \n",
      "--------------------------------------------------------------------------------\n",
      "2  relu1 (Activation)        [None,512]                     0          bn1      \n",
      "--------------------------------------------------------------------------------\n",
      "3  output (Dense)            [None,10]     [512,10] [10]    5130       relu1    \n",
      "--------------------------------------------------------------------------------\n",
      "Total parameters: 408074\n"
     ]
    }
   ],
   "source": [
    "model = build_model(ARCHITECTURE, inputs, labels_one_hot, NUM_CLASSES,\n",
    "                    NUM_BRANCHES, MODEL_ID, SHARED_FRAC)\n",
    "model.summary()"
   ]
  },
  {
   "cell_type": "code",
   "execution_count": 10,
   "metadata": {},
   "outputs": [
    {
     "name": "stdout",
     "output_type": "stream",
     "text": [
      "Tensor(\"model_1/output/output:0\", shape=(?, 10), dtype=float32)\n"
     ]
    }
   ],
   "source": [
    "print(model.output)"
   ]
  },
  {
   "cell_type": "code",
   "execution_count": 11,
   "metadata": {},
   "outputs": [],
   "source": [
    "# Build copy of model for testing\n",
    "x_place = tf.placeholder('float32', x_shape, name='x_test')\n",
    "y_place = tf.placeholder('float32', y_shape, name='y_test')\n",
    "\n",
    "model_copy = build_model(ARCHITECTURE, x_place, y_place, \n",
    "                         NUM_CLASSES, NUM_BRANCHES, MODEL_ID, SHARED_FRAC)"
   ]
  },
  {
   "cell_type": "code",
   "execution_count": 12,
   "metadata": {},
   "outputs": [],
   "source": [
    "# tf.global_variables()\n",
    "# tf.get_default_graph().get_operations()"
   ]
  },
  {
   "cell_type": "code",
   "execution_count": 13,
   "metadata": {},
   "outputs": [
    {
     "name": "stdout",
     "output_type": "stream",
     "text": [
      "Tensor(\"model_1_1/output/output:0\", shape=(?, 10), dtype=float32)\n"
     ]
    }
   ],
   "source": [
    "print(model_copy.output)"
   ]
  },
  {
   "cell_type": "markdown",
   "metadata": {},
   "source": [
    "### Fit"
   ]
  },
  {
   "cell_type": "code",
   "execution_count": 14,
   "metadata": {
    "scrolled": false
   },
   "outputs": [
    {
     "name": "stdout",
     "output_type": "stream",
     "text": [
      "Epoch 1/10\n",
      " - 1s - train_loss: 0.4849 - train_acc: 2.7250 - val_loss: 0.3032 - val_acc: 908.7000\n",
      "Epoch 2/10\n",
      " - 1s - train_loss: 0.2276 - train_acc: 3.0090 - val_loss: 0.2452 - val_acc: 925.1000\n",
      "Epoch 3/10\n",
      " - 1s - train_loss: 0.1642 - train_acc: 3.0620 - val_loss: 0.2123 - val_acc: 935.8000\n",
      "Epoch 4/10\n",
      " - 1s - train_loss: 0.1122 - train_acc: 3.1080 - val_loss: 0.2100 - val_acc: 936.3000\n",
      "Epoch 5/10\n",
      " - 1s - train_loss: 0.0823 - train_acc: 3.1520 - val_loss: 0.1942 - val_acc: 941.1000\n",
      "Epoch 6/10\n",
      " - 1s - train_loss: 0.0750 - train_acc: 3.1340 - val_loss: 0.1919 - val_acc: 943.1000\n",
      "Epoch 7/10\n",
      " - 1s - train_loss: 0.0509 - train_acc: 3.1670 - val_loss: 0.1962 - val_acc: 940.3000\n",
      "Epoch 8/10\n",
      " - 1s - train_loss: 0.0373 - train_acc: 3.1780 - val_loss: 0.1809 - val_acc: 944.2000\n",
      "Epoch 9/10\n",
      " - 1s - train_loss: 0.0280 - train_acc: 3.1900 - val_loss: 0.1776 - val_acc: 945.2000\n",
      "Epoch 10/10\n",
      " - 1s - train_loss: 0.0311 - train_acc: 3.1780 - val_loss: 0.1998 - val_acc: 939.3000\n"
     ]
    }
   ],
   "source": [
    "if NUM_BRANCHES == 1:\n",
    "    history = model.fit(iterators, X_train, y_train, EPOCHS, STEPS_PER_EPOCH,\n",
    "                        BATCH_SIZE, validation=(X_test, y_test), test_model=model_copy,\n",
    "                        save_model_path=model_path)\n",
    "else:\n",
    "    data_dict = {}\n",
    "\n",
    "    for i in range(NUM_BRANCHES):\n",
    "        data_dict['vb{}_x:0'.format(i+1)] = x_train_list[i]\n",
    "        data_dict['vb{}_y:0'.format(i+1)] = y_train_list[i]\n",
    "\n",
    "    history = model.fit_data(iterators, EPOCHS, STEPS_PER_EPOCH, BATCH_SIZE, \n",
    "                             data_dict=data_dict, \n",
    "                             val_dict={x_place: X_test, y_place: y_test}, \n",
    "                             test_model=model_copy, save_model_path=model_path)"
   ]
  },
  {
   "cell_type": "markdown",
   "metadata": {},
   "source": [
    "## Evaluation"
   ]
  },
  {
   "cell_type": "markdown",
   "metadata": {},
   "source": [
    "### Baseline"
   ]
  },
  {
   "cell_type": "code",
   "execution_count": 7,
   "metadata": {},
   "outputs": [
    {
     "name": "stdout",
     "output_type": "stream",
     "text": [
      "INFO:tensorflow:Restoring parameters from models/mnist-fcn_1/ckpt\n",
      "Model 1 acc: 0.9459\n",
      "Mean acc: 0.9459 , std: 0.0\n"
     ]
    }
   ],
   "source": [
    "assert NUM_BRANCHES == 1\n",
    "\n",
    "model_id_list = [1]\n",
    "baseline_acc_list = []\n",
    "\n",
    "for model_id in model_id_list:\n",
    "    tf.reset_default_graph()\n",
    "    model_name = '{}-{}_{:d}'.format(DATASET, ARCHITECTURE, model_id)\n",
    "    model_path = os.path.join('models', model_name)\n",
    "    \n",
    "    with TFSessionGrow() as sess:\n",
    "        restore_sess(sess, model_path)\n",
    "        acc = baseline_classification(sess, X_test, y_test, \n",
    "                                      model_name='model_'+str(model_id)+'_1')\n",
    "        print('Model {} acc:'.format(model_id), acc)\n",
    "        baseline_acc_list.append(acc)\n",
    "        \n",
    "print('Mean acc:', np.mean(baseline_acc_list), ', std:', np.std(baseline_acc_list))"
   ]
  },
  {
   "cell_type": "markdown",
   "metadata": {},
   "source": [
    "### Ensemble"
   ]
  },
  {
   "cell_type": "code",
   "execution_count": null,
   "metadata": {},
   "outputs": [],
   "source": [
    "test_outputs = []\n",
    "test_losses = []\n",
    "test_accs = []\n",
    "\n",
    "num_models = 4\n",
    "graphs = [tf.Graph() for _ in range(5)]\n",
    "sessions = [tf.Session(graph=g) for g in graphs]\n",
    "\n",
    "for i in np.random.choice(5, num_models, replace=False):\n",
    "    with graphs[i].as_default():\n",
    "        model_path = 'models/mnist-{}_{}'.format(architecture, i + 1)\n",
    "        meta_path = os.path.join(model_path, 'ckpt.meta')\n",
    "        ckpt = tf.train.get_checkpoint_state(model_path)\n",
    "        \n",
    "        imported_graph = tf.train.import_meta_graph(meta_path)\n",
    "        imported_graph.restore(sessions[i], ckpt.model_checkpoint_path)\n",
    "                \n",
    "        sessions[i].run('test_init_op', feed_dict={'batch_size:0': len(X_test)})\n",
    "        \n",
    "        output, loss, acc = sessions[i].run(['model_%d'%(i+1)+'/'+'output:0', \n",
    "                                             'loss:0', 'acc:0'])\n",
    "        test_outputs.append(output)\n",
    "        test_losses.append(loss)\n",
    "        test_accs.append(acc)"
   ]
  },
  {
   "cell_type": "markdown",
   "metadata": {},
   "source": [
    "### Virtual Branching"
   ]
  },
  {
   "cell_type": "code",
   "execution_count": 6,
   "metadata": {},
   "outputs": [
    {
     "name": "stdout",
     "output_type": "stream",
     "text": [
      "INFO:tensorflow:Restoring parameters from models/vb-mnist-fcn-B2-S0.00_1/ckpt\n",
      "Model 1 acc: 0.9581 [0.953, 0.9516]\n",
      "Mean acc: 0.9581 , std: 0.0\n"
     ]
    }
   ],
   "source": [
    "model_id_list = [1]\n",
    "vbranch_acc_list = []\n",
    "\n",
    "for model_id in model_id_list:\n",
    "    tf.reset_default_graph()\n",
    "    model_name = 'vb-{}-{}-B{:d}-S{:.2f}_{:d}'.format(DATASET, ARCHITECTURE,\n",
    "                                            NUM_BRANCHES, SHARED_FRAC, model_id)\n",
    "    model_path = os.path.join('models', model_name)\n",
    "    \n",
    "    with TFSessionGrow() as sess:\n",
    "        restore_sess(sess, model_path)\n",
    "        acc, branch_acc = vbranch_classification(sess, X_test, y_test, \n",
    "                                     model_name='model_'+str(model_id)+'_1', \n",
    "                                     num_classes=NUM_CLASSES, \n",
    "                                     n_branches=NUM_BRANCHES)\n",
    "        print('Model {} acc:'.format(model_id), acc, branch_acc)\n",
    "        vbranch_acc_list.append(acc)\n",
    "        \n",
    "print('Mean acc:', np.mean(vbranch_acc_list), ', std:', np.std(vbranch_acc_list))"
   ]
  },
  {
   "cell_type": "markdown",
   "metadata": {},
   "source": [
    "### Feature Visualization"
   ]
  },
  {
   "cell_type": "code",
   "execution_count": 17,
   "metadata": {},
   "outputs": [],
   "source": [
    "def get_tsne(features):\n",
    "    start = time.time()\n",
    "    tsne = TSNE(n_components=2, verbose=1, perplexity=40, n_iter=300)\n",
    "    tsne_results = tsne.fit_transform(features)\n",
    "\n",
    "    print('t-SNE done! Time elapsed: {} seconds'.format(time.time()-start))\n",
    "    return tsne_results"
   ]
  },
  {
   "cell_type": "code",
   "execution_count": 8,
   "metadata": {},
   "outputs": [
    {
     "name": "stdout",
     "output_type": "stream",
     "text": [
      "(250, 784) (250, 10)\n"
     ]
    }
   ],
   "source": [
    "X_sample, y_sample = bag_samples(X_train, y_train, 1, max_samples=250)\n",
    "print(X_sample.shape, y_sample.shape)"
   ]
  },
  {
   "cell_type": "code",
   "execution_count": 9,
   "metadata": {},
   "outputs": [
    {
     "name": "stdout",
     "output_type": "stream",
     "text": [
      "INFO:tensorflow:Restoring parameters from models/mnist-fcn_1/ckpt\n"
     ]
    }
   ],
   "source": [
    "tf.reset_default_graph()\n",
    "model_name = '{}-{}_{:d}'.format(DATASET, ARCHITECTURE, MODEL_ID)\n",
    "model_path = os.path.join('models', model_name)\n",
    "\n",
    "with TFSessionGrow() as sess:\n",
    "    restore_sess(sess, model_path)\n",
    "    baseline_features = sess.run('model_{}_1/output/output:0'.format(MODEL_ID), \n",
    "                                 feed_dict={'x_test:0':X_sample})"
   ]
  },
  {
   "cell_type": "code",
   "execution_count": 13,
   "metadata": {},
   "outputs": [
    {
     "name": "stdout",
     "output_type": "stream",
     "text": [
      "INFO:tensorflow:Restoring parameters from models/vb-mnist-fcn-B2-S0.00_1/ckpt\n"
     ]
    }
   ],
   "source": [
    "tf.reset_default_graph()\n",
    "model_name = 'vb-{}-{}-B{:d}-S{:.2f}_{:d}'.format(DATASET, ARCHITECTURE,\n",
    "                                            NUM_BRANCHES, SHARED_FRAC, MODEL_ID)\n",
    "model_path = os.path.join('models', model_name)\n",
    "    \n",
    "with TFSessionGrow() as sess:\n",
    "    restore_sess(sess, model_path)\n",
    "    \n",
    "    outputs = []\n",
    "    for i in range(NUM_BRANCHES):\n",
    "        name = os.path.join('model_{}_1/output/vb{}/output:0'.format(MODEL_ID, i+1))\n",
    "        outputs.append(name)\n",
    "        \n",
    "    vbranch_features = sess.run(outputs, feed_dict={'x_test:0':X_sample})\n",
    "    mean_vbranch_features = np.mean(vbranch_features, axis=0)"
   ]
  },
  {
   "cell_type": "code",
   "execution_count": 22,
   "metadata": {},
   "outputs": [
    {
     "name": "stdout",
     "output_type": "stream",
     "text": [
      "[t-SNE] Computing 121 nearest neighbors...\n",
      "[t-SNE] Indexed 250 samples in 0.002s...\n",
      "[t-SNE] Computed neighbors for 250 samples in 0.014s...\n",
      "[t-SNE] Computed conditional probabilities for sample 250 / 250\n",
      "[t-SNE] Mean sigma: 7.259715\n",
      "[t-SNE] KL divergence after 250 iterations with early exaggeration: 59.512409\n",
      "[t-SNE] KL divergence after 300 iterations: 0.504960\n",
      "t-SNE done! Time elapsed: 0.3521549701690674 seconds\n",
      "[t-SNE] Computing 121 nearest neighbors...\n",
      "[t-SNE] Indexed 250 samples in 0.000s...\n",
      "[t-SNE] Computed neighbors for 250 samples in 0.004s...\n",
      "[t-SNE] Computed conditional probabilities for sample 250 / 250\n",
      "[t-SNE] Mean sigma: 7.740937\n",
      "[t-SNE] KL divergence after 250 iterations with early exaggeration: 60.471642\n",
      "[t-SNE] KL divergence after 300 iterations: 0.570972\n",
      "t-SNE done! Time elapsed: 0.3209238052368164 seconds\n"
     ]
    },
    {
     "data": {
      "image/png": "[encoded data removed]",
      "text/plain": [
       "<Figure size 1080x360 with 4 Axes>"
      ]
     },
     "metadata": {
      "needs_background": "light"
     },
     "output_type": "display_data"
    }
   ],
   "source": [
    "baseline_tsne = get_tsne(baseline_features)\n",
    "vbranch_tsne = get_tsne(mean_vbranch_features)\n",
    "sample_labels = np.argmax(y_sample, axis=-1)\n",
    "\n",
    "plt.figure(figsize=(15,5))\n",
    "\n",
    "plt.subplot(1, 2, 1)\n",
    "plt.scatter(baseline_tsne[:,0], baseline_tsne[:,1], c=sample_labels, cmap=plt.cm.jet)\n",
    "plt.colorbar()\n",
    "plt.title('Baseline')\n",
    "\n",
    "plt.subplot(1, 2, 2)\n",
    "plt.scatter(vbranch_tsne[:,0], vbranch_tsne[:,1], c=sample_labels, cmap=plt.cm.jet)\n",
    "plt.colorbar()\n",
    "plt.title('Virtual Branching')\n",
    "\n",
    "plt.show()"
   ]
  },
  {
   "cell_type": "markdown",
   "metadata": {},
   "source": [
    "### Correlation and Strength"
   ]
  },
  {
   "cell_type": "code",
   "execution_count": 5,
   "metadata": {},
   "outputs": [],
   "source": [
    "from vbranch.utils.generic_utils import get_model_path, get_vb_model_path\n",
    "from vbranch.utils.test_utils import compute_correlation_strength, compute_acc_from_logits"
   ]
  },
  {
   "cell_type": "code",
   "execution_count": 14,
   "metadata": {},
   "outputs": [
    {
     "name": "stdout",
     "output_type": "stream",
     "text": [
      "INFO:tensorflow:Restoring parameters from models/mnist-fcn/model_1/ckpt\n",
      "INFO:tensorflow:Restoring parameters from models/mnist-fcn/model_2/ckpt\n",
      "INFO:tensorflow:Restoring parameters from models/mnist-fcn/model_3/ckpt\n",
      "INFO:tensorflow:Restoring parameters from models/mnist-fcn/model_4/ckpt\n",
      "INFO:tensorflow:Restoring parameters from models/mnist-fcn/model_5/ckpt\n",
      "INFO:tensorflow:Restoring parameters from models/mnist-fcn/model_6/ckpt\n",
      "INFO:tensorflow:Restoring parameters from models/mnist-fcn/model_7/ckpt\n",
      "INFO:tensorflow:Restoring parameters from models/mnist-fcn/model_8/ckpt\n",
      "Mean correlation: 0.6910488884916635\n",
      "Strength: 0.893675\n"
     ]
    }
   ],
   "source": [
    "y_labels = np.argmax(y_test, axis=-1)\n",
    "\n",
    "model_id_list = range(1, 9)\n",
    "output_list = []\n",
    "acc_list = []\n",
    "pred_list = []\n",
    "\n",
    "for model_id in model_id_list:\n",
    "    tf.reset_default_graph()\n",
    "\n",
    "    with tf.Session() as sess:\n",
    "        model_path = get_model_path(DATASET, ARCHITECTURE, NUM_CLASSES, \n",
    "                                    SAMPLES_PER_CLASS, model_id)\n",
    "        restore_sess(sess, model_path)\n",
    "        output = sess.run('model_{}_1/output:0'.format(model_id),\n",
    "            feed_dict={'x_test:0':X_test})\n",
    "\n",
    "    output_list.append(output)\n",
    "    acc_list.append(compute_acc_from_logits(output, y_test, NUM_CLASSES))\n",
    "    pred_list.append(np.argmax(output, axis=1))\n",
    "    \n",
    "model_preds = np.array(pred_list).transpose(1,0)\n",
    "baseline_corr, baseline_strength = compute_correlation_strength(model_preds, y_labels, \n",
    "                                                                NUM_CLASSES, \n",
    "                                                                len(model_id_list))\n",
    "\n",
    "print('Mean correlation:', baseline_corr)\n",
    "print('Strength:' , baseline_strength)"
   ]
  },
  {
   "cell_type": "code",
   "execution_count": 15,
   "metadata": {},
   "outputs": [
    {
     "name": "stdout",
     "output_type": "stream",
     "text": [
      "INFO:tensorflow:Restoring parameters from models/vb-mnist-fcn/B4/S0.00/model_1/ckpt\n",
      "INFO:tensorflow:Restoring parameters from models/vb-mnist-fcn/B4/S0.00/model_2/ckpt\n",
      "INFO:tensorflow:Restoring parameters from models/vb-mnist-fcn/B4/S0.00/model_3/ckpt\n",
      "INFO:tensorflow:Restoring parameters from models/vb-mnist-fcn/B4/S0.00/model_4/ckpt\n",
      "INFO:tensorflow:Restoring parameters from models/vb-mnist-fcn/B4/S0.25/model_1/ckpt\n",
      "INFO:tensorflow:Restoring parameters from models/vb-mnist-fcn/B4/S0.25/model_2/ckpt\n",
      "INFO:tensorflow:Restoring parameters from models/vb-mnist-fcn/B4/S0.25/model_3/ckpt\n",
      "INFO:tensorflow:Restoring parameters from models/vb-mnist-fcn/B4/S0.25/model_4/ckpt\n",
      "INFO:tensorflow:Restoring parameters from models/vb-mnist-fcn/B4/S0.50/model_1/ckpt\n",
      "INFO:tensorflow:Restoring parameters from models/vb-mnist-fcn/B4/S0.50/model_2/ckpt\n",
      "INFO:tensorflow:Restoring parameters from models/vb-mnist-fcn/B4/S0.50/model_3/ckpt\n",
      "INFO:tensorflow:Restoring parameters from models/vb-mnist-fcn/B4/S0.50/model_4/ckpt\n",
      "INFO:tensorflow:Restoring parameters from models/vb-mnist-fcn/B4/S0.75/model_1/ckpt\n",
      "INFO:tensorflow:Restoring parameters from models/vb-mnist-fcn/B4/S0.75/model_2/ckpt\n",
      "INFO:tensorflow:Restoring parameters from models/vb-mnist-fcn/B4/S0.75/model_3/ckpt\n",
      "INFO:tensorflow:Restoring parameters from models/vb-mnist-fcn/B4/S0.75/model_4/ckpt\n",
      "INFO:tensorflow:Restoring parameters from models/vb-mnist-fcn/B4/S1.00/model_1/ckpt\n",
      "INFO:tensorflow:Restoring parameters from models/vb-mnist-fcn/B4/S1.00/model_2/ckpt\n",
      "INFO:tensorflow:Restoring parameters from models/vb-mnist-fcn/B4/S1.00/model_3/ckpt\n",
      "INFO:tensorflow:Restoring parameters from models/vb-mnist-fcn/B4/S1.00/model_4/ckpt\n"
     ]
    }
   ],
   "source": [
    "shared_frac_list = [0, 0.25, 0.5, 0.75, 1]\n",
    "shared_correlation_list = []\n",
    "shared_strength_list = []\n",
    "\n",
    "for shared in shared_frac_list:\n",
    "    mean_correlation_list = []\n",
    "    strength_list = []\n",
    "    \n",
    "    for model_id in range(1, 5):\n",
    "        model_path = get_vb_model_path(DATASET, ARCHITECTURE, NUM_BRANCHES, shared, \n",
    "                                       NUM_CLASSES, SAMPLES_PER_CLASS, model_id)\n",
    "\n",
    "        tensors = []\n",
    "        for i in range(NUM_BRANCHES):\n",
    "            if shared == 0:\n",
    "                t = 'model_{}_1/output_vb{}:0'.format(model_id, i+1)\n",
    "            else:\n",
    "                t = 'model_{}_1/output_{}:0'.format(model_id, i+1)\n",
    "            tensors.append(t)\n",
    "\n",
    "        tf.reset_default_graph()\n",
    "\n",
    "        with tf.Session() as sess:\n",
    "            restore_sess(sess, model_path)\n",
    "            feed_dict = feed_dict={'x_test:0': X_test, 'y_test:0': y_test}\n",
    "            outputs, acc = sess.run([tensors, 'acc_ensemble_1:0'], feed_dict=feed_dict)\n",
    "            \n",
    "        preds = np.array([np.argmax(x, axis=1) for x in outputs]).transpose(1,0)\n",
    "        mean_correlation, strength = compute_correlation_strength(preds, y_labels, NUM_CLASSES, NUM_BRANCHES)\n",
    "        \n",
    "        mean_correlation_list.append(mean_correlation)\n",
    "        strength_list.append(strength)\n",
    "        \n",
    "    shared_correlation_list.append([np.mean(mean_correlation_list), np.std(mean_correlation_list)])\n",
    "    shared_strength_list.append([np.mean(strength_list), np.std(strength_list)])"
   ]
  },
  {
   "cell_type": "code",
   "execution_count": 16,
   "metadata": {},
   "outputs": [
    {
     "data": {
      "image/png": "[encoded data removed]",
      "text/plain": [
       "<Figure size 432x288 with 1 Axes>"
      ]
     },
     "metadata": {
      "needs_background": "light"
     },
     "output_type": "display_data"
    }
   ],
   "source": [
    "plt.plot(shared_frac_list, np.array(shared_correlation_list)[:, 0], label='correlation')\n",
    "plt.plot(shared_frac_list, np.array(shared_strength_list)[:, 0], label='strength')\n",
    "\n",
    "# Baseline\n",
    "plt.plot(shared_frac_list, [baseline_corr]* len(shared_correlation_list), \n",
    "         label='baseline correlation', linestyle='--')\n",
    "plt.plot(shared_frac_list, [baseline_strength]* len(shared_correlation_list), \n",
    "         label='baseline strength', linestyle='--')\n",
    "\n",
    "plt.xlabel('shared frac')\n",
    "plt.title('Correlation and Strength')\n",
    "plt.legend()\n",
    "\n",
    "plt.savefig('figs/correlation-strength.png')\n",
    "plt.show()"
   ]
  },
  {
   "cell_type": "code",
   "execution_count": null,
   "metadata": {},
   "outputs": [],
   "source": []
  }
 ],
 "metadata": {
  "kernelspec": {
   "display_name": "Python 3",
   "language": "python",
   "name": "python3"
  },
  "language_info": {
   "codemirror_mode": {
    "name": "ipython",
    "version": 3
   },
   "file_extension": ".py",
   "mimetype": "text/x-python",
   "name": "python",
   "nbconvert_exporter": "python",
   "pygments_lexer": "ipython3",
   "version": "3.5.6"
  }
 },
 "nbformat": 4,
 "nbformat_minor": 2
}
