{
 "cells": [
  {
   "cell_type": "markdown",
   "metadata": {},
   "source": [
    "# Classification with Virtual Branching"
   ]
  },
  {
   "cell_type": "code",
   "execution_count": 1,
   "metadata": {},
   "outputs": [],
   "source": [
    "import tensorflow as tf\n",
    "import numpy as np\n",
    "import os\n",
    "import matplotlib.pyplot as plt"
   ]
  },
  {
   "cell_type": "code",
   "execution_count": 2,
   "metadata": {},
   "outputs": [],
   "source": [
    "from vbranch.callbacks import classification_acc\n",
    "from vbranch.applications.fcn import SimpleFCNv1, SimpleFCNv2\n",
    "from vbranch.applications.cnn import SimpleCNNSmall\n",
    "from vbranch.losses import softmax_cross_entropy_with_logits\n",
    "\n",
    "from vbranch.utils import TFSessionGrow, restore_sess\n",
    "from vbranch.utils.training import get_data, bag_samples, get_data_iterator"
   ]
  },
  {
   "cell_type": "code",
   "execution_count": 3,
   "metadata": {},
   "outputs": [],
   "source": [
    "SAVE = False\n",
    "MODEL_ID = 1\n",
    "ARCHITECTURE = 'fcn'\n",
    "DATASET = 'mnist'\n",
    "NUM_CLASSES = 10\n",
    "NUM_FEATURES = None\n",
    "SAMPLES_PER_CLASS = None\n",
    "BAGGING_SAMPLES = 1.\n",
    "TRAIN_FRAC = 0.01\n",
    "\n",
    "BATCH_SIZE = 32\n",
    "EPOCHS = 20\n",
    "STEPS_PER_EPOCH = 100"
   ]
  },
  {
   "cell_type": "code",
   "execution_count": 6,
   "metadata": {},
   "outputs": [
    {
     "name": "stdout",
     "output_type": "stream",
     "text": [
      "Model path: models/mnist-fcn_1\n"
     ]
    }
   ],
   "source": [
    "# Note models from experiments will be saved in separate format\n",
    "if not os.path.isdir('models'):\n",
    "    os.system('mkdir models')\n",
    "\n",
    "model_name = 'vb-{}-{}-B{:d}-S{:.2f}_{:d}'.format(DATASET, ARCHITECTURE,\n",
    "                                                  NUM_BRANCHES, SHARED_FRAC, MODEL_ID)\n",
    "model_path = os.path.join('models', model_name)\n",
    "print('Model path:', model_path)"
   ]
  },
  {
   "cell_type": "markdown",
   "metadata": {},
   "source": [
    "## Training"
   ]
  },
  {
   "cell_type": "code",
   "execution_count": null,
   "metadata": {},
   "outputs": [],
   "source": [
    "def build_model(shared_frac, name='model'):\n",
    "    with tf.variable_scope(name, reuse=tf.AUTO_REUSE):\n",
    "        if ARCHITECTURE == 'fcn':\n",
    "            model = SimpleFCNv1(inputs, NUM_CLASSES, name=name, shared_frac=shared_frac)\n",
    "        elif ARCHITECTURE == 'fcn2':\n",
    "            model = SimpleFCNv2(inputs, NUM_CLASSES, name=name, shared_frac=shared_frac)\n",
    "        elif ARCHITECTURE == 'cnn':\n",
    "            model = SimpleCNNSmall(inputs, NUM_CLASSES, name=name, shared_frac=shared_frac)\n",
    "        else:\n",
    "            raise ValueError('invalid model')\n",
    "\n",
    "        optimizer = tf.train.AdamOptimizer(learning_rate=0.001)\n",
    "        model.compile(optimizer, softmax_cross_entropy_with_logits(), \n",
    "                      train_init_op, test_init_op, labels=labels, \n",
    "                      callbacks={'acc':classification_acc(NUM_BRANCHES)})\n",
    "\n",
    "    model.summary()\n",
    "    return model"
   ]
  },
  {
   "cell_type": "code",
   "execution_count": 9,
   "metadata": {},
   "outputs": [
    {
     "name": "stdout",
     "output_type": "stream",
     "text": [
      "i  Layer name                Output shape  Parameters       Num param  Inbound  \n",
      "--------------------------------------------------------------------------------\n",
      "   Input                     [None,784]                                         \n",
      "--------------------------------------------------------------------------------\n",
      "0  fc1 (Dense)               [None,512]    [784,512] [512]  401920     input:0  \n",
      "--------------------------------------------------------------------------------\n",
      "1  bn1 (BatchNormalization)  [None,512]    [512] [512]      1024       fc1      \n",
      "--------------------------------------------------------------------------------\n",
      "2  relu1 (Activation)        [None,512]                     0          bn1      \n",
      "--------------------------------------------------------------------------------\n",
      "3  output (Dense)            [None,10]     [512,10] [10]    5130       relu1    \n",
      "--------------------------------------------------------------------------------\n",
      "Total parameters: 408074\n"
     ]
    }
   ],
   "source": [
    "(X_train, y_train), (X_test, y_test) = get_data(DATASET, ARCHITECTURE, NUM_CLASSES,\n",
    "                                                NUM_FEATURES, SAMPLES_PER_CLASS, \n",
    "                                                train_frac=TRAIN_FRAC)\n",
    "# Bagging\n",
    "if BAGGING_SAMPLES < 1:\n",
    "    x_train_list, y_train_list = bag_samples(X_train, y_train, NUM_BRANCHES, \n",
    "                                             max_samples=BAGGING_SAMPLES)\n",
    "\n",
    "def train():\n",
    "    inputs, labels, train_init_op, test_init_op = get_data_iterator(x_shape, y_shape, \n",
    "                                                                    batch_size=BATCH_SIZE, \n",
    "                                                                    n=NUM_BRANCHES, \n",
    "                                                                    share_xy=BAGGING_SAMPLES == 1)\n",
    "\n",
    "    if NUM_BRANCHES == 1 or BAGGING_SAMPLES == 1:\n",
    "        train_dict = {'x:0': X_train, 'y:0': y_train, 'batch_size:0': BATCH_SIZE}\n",
    "    else:\n",
    "        train_dict = {}\n",
    "        for i in range(NUM_BRANCHES):\n",
    "            train_dict['vb{}_x:0'.format(i+1)] = x_train_list[i]\n",
    "            train_dict['vb{}_y:0'.format(i+1)] = y_train_list[i]\n",
    "        train_dict['batch_size:0'] = BATCH_SIZE\n",
    "\n",
    "    val_dict = {'x:0': X_test, 'y:0': y_test, 'batch_size:0': len(X_test)}\n",
    "\n",
    "    history = model.fit(EPOCHS, STEPS_PER_EPOCH, train_dict=train_dict,\n",
    "                        val_dict=val_dict, log_path=model_path if SAVE else None)\n",
    "    return history"
   ]
  },
  {
   "cell_type": "markdown",
   "metadata": {},
   "source": [
    "## Evaluation"
   ]
  },
  {
   "cell_type": "code",
   "execution_count": 6,
   "metadata": {},
   "outputs": [],
   "source": [
    "from vbranch.utils.generic import get_model_path, get_vb_model_path\n",
    "from vbranch.utils.test import baseline_classification, compute_correlation_strength, compute_acc_from_logits"
   ]
  },
  {
   "cell_type": "markdown",
   "metadata": {},
   "source": [
    "### Correlation and Strength"
   ]
  },
  {
   "cell_type": "markdown",
   "metadata": {},
   "source": [
    "For classification, we can compute the correlation between models and their strength. The formulas used are from the Random Forest paper:\n",
    "\n",
    "https://www.stat.berkeley.edu/~breiman/randomforest2001.pdf"
   ]
  },
  {
   "cell_type": "code",
   "execution_count": 12,
   "metadata": {},
   "outputs": [
    {
     "name": "stdout",
     "output_type": "stream",
     "text": [
      "INFO:tensorflow:Restoring parameters from models/mnist-fcn2/model_1/ckpt\n",
      "INFO:tensorflow:Restoring parameters from models/mnist-fcn2/model_2/ckpt\n",
      "INFO:tensorflow:Restoring parameters from models/mnist-fcn2/model_3/ckpt\n",
      "INFO:tensorflow:Restoring parameters from models/mnist-fcn2/model_4/ckpt\n",
      "INFO:tensorflow:Restoring parameters from models/mnist-fcn2/model_5/ckpt\n",
      "INFO:tensorflow:Restoring parameters from models/mnist-fcn2/model_6/ckpt\n",
      "INFO:tensorflow:Restoring parameters from models/mnist-fcn2/model_7/ckpt\n",
      "INFO:tensorflow:Restoring parameters from models/mnist-fcn2/model_8/ckpt\n",
      "Mean correlation: 0.5901408352877151\n",
      "Strength: 0.8988125\n"
     ]
    }
   ],
   "source": [
    "# Baseline\n",
    "\n",
    "y_labels = np.argmax(y_test, axis=-1)\n",
    "\n",
    "model_id_list = range(1, 9)\n",
    "output_list = []\n",
    "acc_list = []\n",
    "pred_list = []\n",
    "\n",
    "for model_id in model_id_list:\n",
    "    tf.reset_default_graph()\n",
    "\n",
    "    with tf.Session() as sess:\n",
    "        model_path = get_model_path(DATASET, ARCHITECTURE, NUM_CLASSES, \n",
    "                                    SAMPLES_PER_CLASS, model_id=model_id)\n",
    "        restore_sess(sess, model_path)\n",
    "        sess.run('test_init_op', feed_dict={'x:0':X_test, 'y:0': y_test, \n",
    "                                        'batch_size:0':len(X_test)})\n",
    "        output = sess.run('model/output/output:0'.format(model_id))\n",
    "\n",
    "    output_list.append(output)\n",
    "    acc_list.append(compute_acc_from_logits(output, y_test, NUM_CLASSES))\n",
    "    pred_list.append(np.argmax(output, axis=1))\n",
    "    \n",
    "model_preds = np.array(pred_list).transpose(1,0)\n",
    "baseline_corr, baseline_strength = compute_correlation_strength(model_preds, y_labels, \n",
    "                                                                NUM_CLASSES, \n",
    "                                                                len(model_id_list))\n",
    "\n",
    "print('Mean correlation:', baseline_corr)\n",
    "print('Strength:' , baseline_strength)"
   ]
  },
  {
   "cell_type": "code",
   "execution_count": 13,
   "metadata": {},
   "outputs": [
    {
     "name": "stdout",
     "output_type": "stream",
     "text": [
      "INFO:tensorflow:Restoring parameters from models/vb-mnist-fcn2/B2/S0.00/model_1/ckpt\n",
      "INFO:tensorflow:Restoring parameters from models/vb-mnist-fcn2/B2/S0.00/model_2/ckpt\n",
      "INFO:tensorflow:Restoring parameters from models/vb-mnist-fcn2/B2/S0.00/model_3/ckpt\n",
      "INFO:tensorflow:Restoring parameters from models/vb-mnist-fcn2/B2/S0.00/model_4/ckpt\n",
      "INFO:tensorflow:Restoring parameters from models/vb-mnist-fcn2/B2/S0.25/model_1/ckpt\n",
      "INFO:tensorflow:Restoring parameters from models/vb-mnist-fcn2/B2/S0.25/model_2/ckpt\n",
      "INFO:tensorflow:Restoring parameters from models/vb-mnist-fcn2/B2/S0.25/model_3/ckpt\n",
      "INFO:tensorflow:Restoring parameters from models/vb-mnist-fcn2/B2/S0.25/model_4/ckpt\n",
      "INFO:tensorflow:Restoring parameters from models/vb-mnist-fcn2/B2/S0.50/model_1/ckpt\n",
      "INFO:tensorflow:Restoring parameters from models/vb-mnist-fcn2/B2/S0.50/model_2/ckpt\n",
      "INFO:tensorflow:Restoring parameters from models/vb-mnist-fcn2/B2/S0.50/model_3/ckpt\n",
      "INFO:tensorflow:Restoring parameters from models/vb-mnist-fcn2/B2/S0.50/model_4/ckpt\n",
      "INFO:tensorflow:Restoring parameters from models/vb-mnist-fcn2/B2/S0.75/model_1/ckpt\n",
      "INFO:tensorflow:Restoring parameters from models/vb-mnist-fcn2/B2/S0.75/model_2/ckpt\n",
      "INFO:tensorflow:Restoring parameters from models/vb-mnist-fcn2/B2/S0.75/model_3/ckpt\n",
      "INFO:tensorflow:Restoring parameters from models/vb-mnist-fcn2/B2/S0.75/model_4/ckpt\n",
      "INFO:tensorflow:Restoring parameters from models/vb-mnist-fcn2/B2/S1.00/model_1/ckpt\n",
      "INFO:tensorflow:Restoring parameters from models/vb-mnist-fcn2/B2/S1.00/model_2/ckpt\n",
      "INFO:tensorflow:Restoring parameters from models/vb-mnist-fcn2/B2/S1.00/model_3/ckpt\n",
      "INFO:tensorflow:Restoring parameters from models/vb-mnist-fcn2/B2/S1.00/model_4/ckpt\n"
     ]
    }
   ],
   "source": [
    "# Virtual branching\n",
    "\n",
    "shared_frac_list = [0, 0.25, 0.5, 0.75, 1.]\n",
    "shared_correlation_list = []\n",
    "shared_strength_list = []\n",
    "\n",
    "for shared in shared_frac_list:\n",
    "    mean_correlation_list = []\n",
    "    strength_list = []\n",
    "    \n",
    "    for model_id in range(1, 5):\n",
    "        model_path = get_vb_model_path(DATASET, ARCHITECTURE, NUM_BRANCHES, shared, \n",
    "                                       NUM_CLASSES, SAMPLES_PER_CLASS, model_id=model_id)\n",
    "\n",
    "        test_init_ops = []\n",
    "        tensors = []\n",
    "        for i in range(NUM_BRANCHES):\n",
    "            test_init_ops.append('test_init_op_{}'.format(i+1))\n",
    "            tensors.append('model/output/vb{}/output:0'.format(i+1))\n",
    "\n",
    "        tf.reset_default_graph()\n",
    "\n",
    "        with tf.Session() as sess:\n",
    "            restore_sess(sess, model_path)\n",
    "            sess.run(test_init_ops, feed_dict={'x:0':X_test, 'y:0': y_test, \n",
    "                                        'batch_size:0':len(X_test)})\n",
    "            outputs = sess.run(tensors)\n",
    "            \n",
    "        preds = np.array([np.argmax(x, axis=1) for x in outputs]).transpose(1,0)\n",
    "        mean_correlation, strength = compute_correlation_strength(preds, y_labels, \n",
    "                                                                  NUM_CLASSES, NUM_BRANCHES)\n",
    "        mean_correlation_list.append(mean_correlation)\n",
    "        strength_list.append(strength)\n",
    "        \n",
    "    shared_correlation_list.append([np.mean(mean_correlation_list), np.std(mean_correlation_list)])\n",
    "    shared_strength_list.append([np.mean(strength_list), np.std(strength_list)])"
   ]
  },
  {
   "cell_type": "code",
   "execution_count": 19,
   "metadata": {},
   "outputs": [
    {
     "data": {
      "image/png": "[encoded data removed]",
      "text/plain": [
       "<Figure size 432x288 with 1 Axes>"
      ]
     },
     "metadata": {
      "needs_background": "light"
     },
     "output_type": "display_data"
    }
   ],
   "source": [
    "plt.plot(shared_frac_list, np.array(shared_correlation_list)[:, 0], label='correlation')\n",
    "plt.plot(shared_frac_list, np.array(shared_strength_list)[:, 0], label='strength')\n",
    "\n",
    "# Baseline\n",
    "plt.plot(shared_frac_list, [baseline_corr]* len(shared_correlation_list), \n",
    "         label='baseline correlation', linestyle='--')\n",
    "plt.plot(shared_frac_list, [baseline_strength]* len(shared_correlation_list), \n",
    "         label='baseline strength', linestyle='--')\n",
    "\n",
    "plt.xlabel('shared frac')\n",
    "plt.title('Correlation and Strength ({})'.format(ARCHITECTURE))\n",
    "plt.legend()\n",
    "\n",
    "plt.savefig('figs/correlation-strength.png')\n",
    "plt.show()"
   ]
  },
  {
   "cell_type": "markdown",
   "metadata": {},
   "source": [
    "### Model Parameters"
   ]
  },
  {
   "cell_type": "code",
   "execution_count": 4,
   "metadata": {},
   "outputs": [
    {
     "name": "stdout",
     "output_type": "stream",
     "text": [
      "WARNING:tensorflow:From /home/gong/anaconda3/lib/python3.5/site-packages/tensorflow/python/framework/op_def_library.py:263: colocate_with (from tensorflow.python.framework.ops) is deprecated and will be removed in a future version.\n",
      "Instructions for updating:\n",
      "Colocations handled automatically by placer.\n",
      "Baseline parameters: 18010\n"
     ]
    }
   ],
   "source": [
    "tf.reset_default_graph()\n",
    "inputs = tf.placeholder('float32', [None, 28,28,1])\n",
    "\n",
    "# Baseline\n",
    "model = SimpleCNNSmall(inputs, NUM_CLASSES)\n",
    "baseline_params = model.count_parameters()\n",
    "print('Baseline parameters:', baseline_params)"
   ]
  },
  {
   "cell_type": "code",
   "execution_count": 5,
   "metadata": {},
   "outputs": [],
   "source": [
    "# Vbranch params\n",
    "shared_frac_list = [0, 0.25, 0.5, 0.75, 1.]\n",
    "\n",
    "vbranch_params = []\n",
    "for frac in shared_frac_list:\n",
    "    tf.reset_default_graph()\n",
    "    with tf.variable_scope('model', reuse=tf.AUTO_REUSE):\n",
    "        inputs = tf.placeholder('float32', [None, 28,28,1])\n",
    "        model = SimpleCNNSmall([inputs]*NUM_BRANCHES, NUM_CLASSES, shared_frac=frac)\n",
    "    vbranch_params.append(model.count_parameters())"
   ]
  },
  {
   "cell_type": "code",
   "execution_count": 6,
   "metadata": {},
   "outputs": [],
   "source": [
    "param_ratio = [p / baseline_params for p in vbranch_params]\n",
    "ideal_ratio = NUM_BRANCHES - np.array(shared_frac_list)**2 * (NUM_BRANCHES-1)"
   ]
  },
  {
   "cell_type": "code",
   "execution_count": 7,
   "metadata": {},
   "outputs": [
    {
     "data": {
      "image/png": "[encoded data removed]",
      "text/plain": [
       "<Figure size 432x288 with 1 Axes>"
      ]
     },
     "metadata": {
      "needs_background": "light"
     },
     "output_type": "display_data"
    }
   ],
   "source": [
    "plt.scatter(shared_frac_list, param_ratio, color='orange')\n",
    "plt.plot(shared_frac_list, [1]*len(shared_frac_list))\n",
    "plt.plot(shared_frac_list, ideal_ratio)\n",
    "\n",
    "plt.xlabel('shared frac')\n",
    "plt.ylabel('params / baseline')\n",
    "plt.title('{} parameter count'.format(ARCHITECTURE))\n",
    "\n",
    "plt.savefig('figs/cnn-small-parameter-count.png')\n",
    "plt.show()"
   ]
  },
  {
   "cell_type": "code",
   "execution_count": null,
   "metadata": {},
   "outputs": [],
   "source": []
  }
 ],
 "metadata": {
  "kernelspec": {
   "display_name": "Python 3",
   "language": "python",
   "name": "python3"
  },
  "language_info": {
   "codemirror_mode": {
    "name": "ipython",
    "version": 3
   },
   "file_extension": ".py",
   "mimetype": "text/x-python",
   "name": "python",
   "nbconvert_exporter": "python",
   "pygments_lexer": "ipython3",
   "version": "3.6.0"
  }
 },
 "nbformat": 4,
 "nbformat_minor": 2
}
