{
 "cells": [
  {
   "cell_type": "markdown",
   "metadata": {},
   "source": [
    "# Classification with Virtual Branching"
   ]
  },
  {
   "cell_type": "code",
   "execution_count": 1,
   "metadata": {},
   "outputs": [],
   "source": [
    "import tensorflow as tf\n",
    "import numpy as np\n",
    "import os\n",
    "import matplotlib.pyplot as plt"
   ]
  },
  {
   "cell_type": "code",
   "execution_count": 2,
   "metadata": {},
   "outputs": [
    {
     "name": "stderr",
     "output_type": "stream",
     "text": [
      "Using TensorFlow backend.\n"
     ]
    }
   ],
   "source": [
    "from vbranch.callbacks import classification_acc\n",
    "from vbranch.applications.fcn import FCN\n",
    "from vbranch.applications.cnn import CNN, CNNCifar10\n",
    "from vbranch.applications.resnet import ResNet18\n",
    "from vbranch.losses import softmax_cross_entropy_with_logits\n",
    "\n",
    "from vbranch.utils import TFSessionGrow, restore_sess\n",
    "from vbranch.utils.training import *\n",
    "from vbranch.utils.generic import get_path, save_results"
   ]
  },
  {
   "cell_type": "code",
   "execution_count": 3,
   "metadata": {},
   "outputs": [],
   "source": [
    "MODEL_ID = 1\n",
    "ARCHITECTURE = 'cnn'\n",
    "DATASET = 'cifar10'\n",
    "NUM_CLASSES = 10\n",
    "NUM_FEATURES = None\n",
    "SAMPLES_PER_CLASS = None\n",
    "BAGGING_SAMPLES = 1.0\n",
    "TRAIN_FRAC = 1.\n",
    "\n",
    "BATCH_SIZE = 32\n",
    "EPOCHS = 100\n",
    "T_0 = 50\n",
    "STEPS_PER_EPOCH = 100"
   ]
  },
  {
   "cell_type": "markdown",
   "metadata": {},
   "source": [
    "## Data"
   ]
  },
  {
   "cell_type": "code",
   "execution_count": 4,
   "metadata": {},
   "outputs": [],
   "source": [
    "(X_train, y_train), (X_test, y_test) = get_data(DATASET, ARCHITECTURE, NUM_CLASSES,\n",
    "                                                NUM_FEATURES, SAMPLES_PER_CLASS, \n",
    "                                                train_frac=TRAIN_FRAC, preprocess=True)\n",
    "x_shape = (None,) + X_train.shape[1:]\n",
    "y_shape = (None, NUM_CLASSES)"
   ]
  },
  {
   "cell_type": "code",
   "execution_count": 5,
   "metadata": {},
   "outputs": [
    {
     "data": {
      "text/plain": [
       "((50000, 32, 32, 3), (50000, 10), (10000, 32, 32, 3), (10000, 10))"
      ]
     },
     "execution_count": 5,
     "metadata": {},
     "output_type": "execute_result"
    }
   ],
   "source": [
    "X_train.shape, y_train.shape, X_test.shape, y_test.shape"
   ]
  },
  {
   "cell_type": "code",
   "execution_count": 6,
   "metadata": {},
   "outputs": [
    {
     "name": "stdout",
     "output_type": "stream",
     "text": [
      "-1.0 1.0\n"
     ]
    }
   ],
   "source": [
    "print(X_train.min(), X_train.max())"
   ]
  },
  {
   "cell_type": "code",
   "execution_count": 7,
   "metadata": {},
   "outputs": [],
   "source": [
    "class Generator(object):\n",
    "    def __init__(self, X, Y, batch_size):\n",
    "        self.X = X\n",
    "        self.Y = Y\n",
    "        self.batch_size = batch_size\n",
    "    \n",
    "    def __next__(self):\n",
    "        choice = np.random.choice(len(X), self.batch_size, replace=False)\n",
    "        return self.X[choice], self.Y[choice]"
   ]
  },
  {
   "cell_type": "markdown",
   "metadata": {},
   "source": [
    "## Training"
   ]
  },
  {
   "cell_type": "code",
   "execution_count": 8,
   "metadata": {},
   "outputs": [],
   "source": [
    "def path(n_branches, shared_frac):\n",
    "    return get_path(DATASET, ARCHITECTURE, 'sensitivity-Ba32', vb=True, \n",
    "                    B=n_branches, S=shared_frac)"
   ]
  },
  {
   "cell_type": "code",
   "execution_count": 9,
   "metadata": {},
   "outputs": [],
   "source": [
    "def build_model(n_branches, shared_frac, name='model', compile_loss=True):\n",
    "    inputs, labels, train_init_op, test_init_op = get_data_iterator(x_shape, y_shape, \n",
    "                                                                    batch_size=BATCH_SIZE, \n",
    "                                                                    n=n_branches, \n",
    "                                                                    share_xy=BAGGING_SAMPLES == 0)\n",
    "    print(inputs, labels)\n",
    "    lr = tf.placeholder('float32', name='lr')\n",
    "    lr_scheduler = lr_exp_decay_scheduler(0.001, T_0, EPOCHS, 0.001)\n",
    "    \n",
    "#     with tf.variable_scope(name, reuse=tf.AUTO_REUSE):\n",
    "#         if ARCHITECTURE == 'fcn':\n",
    "#             layer_spec = [(512, shared_frac), NUM_CLASSES]\n",
    "#         elif ARCHITECTURE == 'fcn2':\n",
    "#             layer_spec = [(512, shared_frac), 512, NUM_CLASSES]\n",
    "#         elif ARCHITECTURE == 'fcn3':\n",
    "#             layer_spec = [(512, shared_frac), 512, 512, NUM_CLASSES]\n",
    "#         elif ARCHITECTURE == 'fcn2A':\n",
    "#             layer_spec = [(512, shared_frac), (512, shared_frac), (NUM_CLASSES, shared_frac)]\n",
    "#         elif ARCHITECTURE == 'fcn3A':\n",
    "#             layer_spec = [(512, shared_frac), (512, shared_frac), \n",
    "#                           (512, shared_frac), (NUM_CLASSES, shared_frac)]\n",
    "#         else:\n",
    "#             raise ValueError('invalid model')\n",
    "            \n",
    "#         model = FCN(inputs, *layer_spec, name=name, shared_frac=1)\n",
    "\n",
    "    with tf.variable_scope(name, reuse=tf.AUTO_REUSE):\n",
    "        if ARCHITECTURE == 'cnn':\n",
    "            layers = [32, 64, 128]\n",
    "        elif ARCHITECTURE == 'cnnx':\n",
    "            layers = [(32, shared_frac), (64, 1.0), (128, 1.0)]\n",
    "        else:\n",
    "            raise ValueError('invalid model')\n",
    "        model = CNN(inputs, NUM_CLASSES, *layers, name=name, \n",
    "                    shared_frac=shared_frac, n_layers=2)\n",
    "#         model = ResNet18(inputs, NUM_CLASSES, name=name, shared_frac=shared_frac)\n",
    "    \n",
    "        if compile_loss:\n",
    "            optimizer = tf.train.AdamOptimizer(learning_rate=lr)\n",
    "            model.compile(optimizer, softmax_cross_entropy_with_logits(), \n",
    "                          train_init_op, test_init_op, labels=labels,\n",
    "                          callbacks={'acc':classification_acc(n_branches)}, \n",
    "                          schedulers={'lr:0': lr_scheduler})\n",
    "\n",
    "    return model"
   ]
  },
  {
   "cell_type": "code",
   "execution_count": 10,
   "metadata": {},
   "outputs": [],
   "source": [
    "def train(n_branches, shared_frac, model_id=1):\n",
    "    dirpath = path(n_branches, shared_frac)\n",
    "    model_path = os.path.join('models', dirpath, 'model_{}'.format(model_id))\n",
    "    os.system('mkdir -p ' + model_path)\n",
    "    print(model_path)\n",
    "    \n",
    "    tf.reset_default_graph()\n",
    "    model = build_model(n_branches, shared_frac)\n",
    "    model.summary()\n",
    "    \n",
    "    # Bagging\n",
    "    if BAGGING_SAMPLES > 0:\n",
    "        x_train_list, y_train_list = bag_samples(X_train, y_train, n_branches, \n",
    "                                                 max_samples=BAGGING_SAMPLES)\n",
    "    \n",
    "    train_dict = {'x:0': X_train, 'y:0': y_train, 'batch_size:0': BATCH_SIZE}\n",
    "    val_dict = {'x:0': X_test, 'y:0': y_test, 'batch_size:0': len(X_test)}\n",
    "    \n",
    "    if n_branches > 1 and BAGGING_SAMPLES > 0:\n",
    "        print('Bag', BAGGING_SAMPLES)\n",
    "        for i in range(n_branches):\n",
    "            train_dict[f'vb{i+1}_x:0'] = x_train_list[i]\n",
    "            train_dict[f'vb{i+1}_y:0'] = y_train_list[i]\n",
    "\n",
    "    history = model.fit(EPOCHS, STEPS_PER_EPOCH, train_dict=train_dict,\n",
    "                        val_dict=val_dict, log_path=model_path)\n",
    "    save_results(history, dirpath, f'train_{model_id}.csv')\n",
    "    \n",
    "    return history"
   ]
  },
  {
   "cell_type": "code",
   "execution_count": null,
   "metadata": {
    "scrolled": true
   },
   "outputs": [
    {
     "name": "stdout",
     "output_type": "stream",
     "text": [
      "models/sensitivity-Ba32/vb-cifar10-cnn/B3/S0.50/model_1\n",
      "WARNING:tensorflow:From /home/gong/anaconda3/lib/python3.6/site-packages/tensorflow/python/data/ops/iterator_ops.py:358: colocate_with (from tensorflow.python.framework.ops) is deprecated and will be removed in a future version.\n",
      "Instructions for updating:\n",
      "Colocations handled automatically by placer.\n",
      "[<tf.Tensor 'input:0' shape=(?, 32, 32, 3) dtype=float32>, <tf.Tensor 'input_1:0' shape=(?, 32, 32, 3) dtype=float32>, <tf.Tensor 'input_2:0' shape=(?, 32, 32, 3) dtype=float32>] [<tf.Tensor 'input:1' shape=(?, 10) dtype=float32>, <tf.Tensor 'input_1:1' shape=(?, 10) dtype=float32>, <tf.Tensor 'input_2:1' shape=(?, 10) dtype=float32>]\n",
      "WARNING:tensorflow:From /home/gong/anaconda3/lib/python3.6/site-packages/tensorflow/python/ops/math_ops.py:3066: to_int32 (from tensorflow.python.ops.math_ops) is deprecated and will be removed in a future version.\n",
      "Instructions for updating:\n",
      "Use tf.cast instead.\n",
      "i   Layer name                      Output shape                     Num param  Inbound            \n",
      "---------------------------------------------------------------------------------------------------\n",
      "    Input                           [None,32,32,3]                                                 \n",
      "---------------------------------------------------------------------------------------------------\n",
      "    Input                           [None,32,32,3]                                                 \n",
      "---------------------------------------------------------------------------------------------------\n",
      "    Input                           [None,32,32,3]                                                 \n",
      "---------------------------------------------------------------------------------------------------\n",
      "0   conv2d_1_1 (Conv2D)             [None,32,32,16] [None,32,32,16]  1792       input              \n",
      "                                    [None,32,32,16] [None,32,32,16]                                \n",
      "                                    [None,32,32,16] [None,32,32,16]                                \n",
      "---------------------------------------------------------------------------------------------------\n",
      "1   bn_1_1 (BatchNormalization)     [None,32,32,16] [None,32,32,16]  128        conv2d_1_1         \n",
      "                                    [None,32,32,16] [None,32,32,16]                                \n",
      "                                    [None,32,32,16] [None,32,32,16]                                \n",
      "---------------------------------------------------------------------------------------------------\n",
      "2   relu_1_1 (Activation)           [None,32,32,16] [None,32,32,16]  0          bn_1_1             \n",
      "                                    [None,32,32,16] [None,32,32,16]                                \n",
      "                                    [None,32,32,16] [None,32,32,16]                                \n",
      "---------------------------------------------------------------------------------------------------\n",
      "3   conv2d_1_2 (Conv2D)             [None,32,32,16] [None,32,32,16]  23200      relu_1_1           \n",
      "                                    [None,32,32,16] [None,32,32,16]                                \n",
      "                                    [None,32,32,16] [None,32,32,16]                                \n",
      "---------------------------------------------------------------------------------------------------\n",
      "4   bn_1_2 (BatchNormalization)     [None,32,32,16] [None,32,32,16]  128        conv2d_1_2         \n",
      "                                    [None,32,32,16] [None,32,32,16]                                \n",
      "                                    [None,32,32,16] [None,32,32,16]                                \n",
      "---------------------------------------------------------------------------------------------------\n",
      "5   relu_1_2 (Activation)           [None,32,32,16] [None,32,32,16]  0          bn_1_2             \n",
      "                                    [None,32,32,16] [None,32,32,16]                                \n",
      "                                    [None,32,32,16] [None,32,32,16]                                \n",
      "---------------------------------------------------------------------------------------------------\n",
      "6   avg_pool2d_1 (AveragePooling2D  [None,16,16,16] [None,16,16,16]  0          relu_1_2           \n",
      "                                    [None,16,16,16] [None,16,16,16]                                \n",
      "                                    [None,16,16,16] [None,16,16,16]                                \n",
      "---------------------------------------------------------------------------------------------------\n",
      "7   conv2d_2_1 (Conv2D)             [None,16,16,32] [None,16,16,32]  46400      avg_pool2d_1       \n",
      "                                    [None,16,16,32] [None,16,16,32]                                \n",
      "                                    [None,16,16,32] [None,16,16,32]                                \n",
      "---------------------------------------------------------------------------------------------------\n",
      "8   bn_2_1 (BatchNormalization)     [None,16,16,32] [None,16,16,32]  256        conv2d_2_1         \n",
      "                                    [None,16,16,32] [None,16,16,32]                                \n",
      "                                    [None,16,16,32] [None,16,16,32]                                \n",
      "---------------------------------------------------------------------------------------------------\n",
      "9   relu_2_1 (Activation)           [None,16,16,32] [None,16,16,32]  0          bn_2_1             \n",
      "                                    [None,16,16,32] [None,16,16,32]                                \n",
      "                                    [None,16,16,32] [None,16,16,32]                                \n",
      "---------------------------------------------------------------------------------------------------\n",
      "10  conv2d_2_2 (Conv2D)             [None,16,16,32] [None,16,16,32]  92480      relu_2_1           \n",
      "                                    [None,16,16,32] [None,16,16,32]                                \n",
      "                                    [None,16,16,32] [None,16,16,32]                                \n",
      "---------------------------------------------------------------------------------------------------\n",
      "11  bn_2_2 (BatchNormalization)     [None,16,16,32] [None,16,16,32]  256        conv2d_2_2         \n",
      "                                    [None,16,16,32] [None,16,16,32]                                \n",
      "                                    [None,16,16,32] [None,16,16,32]                                \n",
      "---------------------------------------------------------------------------------------------------\n",
      "12  relu_2_2 (Activation)           [None,16,16,32] [None,16,16,32]  0          bn_2_2             \n",
      "                                    [None,16,16,32] [None,16,16,32]                                \n",
      "                                    [None,16,16,32] [None,16,16,32]                                \n",
      "---------------------------------------------------------------------------------------------------\n",
      "13  avg_pool2d_2 (AveragePooling2D  [None,8,8,32] [None,8,8,32]      0          relu_2_2           \n",
      "                                    [None,8,8,32] [None,8,8,32]                                    \n",
      "                                    [None,8,8,32] [None,8,8,32]                                    \n",
      "---------------------------------------------------------------------------------------------------\n",
      "14  conv2d_3_1 (Conv2D)             [None,8,8,64] [None,8,8,64]      184960     avg_pool2d_2       \n",
      "                                    [None,8,8,64] [None,8,8,64]                                    \n",
      "                                    [None,8,8,64] [None,8,8,64]                                    \n",
      "---------------------------------------------------------------------------------------------------\n",
      "15  bn_3_1 (BatchNormalization)     [None,8,8,64] [None,8,8,64]      512        conv2d_3_1         \n",
      "                                    [None,8,8,64] [None,8,8,64]                                    \n",
      "                                    [None,8,8,64] [None,8,8,64]                                    \n",
      "---------------------------------------------------------------------------------------------------\n",
      "16  relu_3_1 (Activation)           [None,8,8,64] [None,8,8,64]      0          bn_3_1             \n",
      "                                    [None,8,8,64] [None,8,8,64]                                    \n",
      "                                    [None,8,8,64] [None,8,8,64]                                    \n",
      "---------------------------------------------------------------------------------------------------\n",
      "17  conv2d_3_2 (Conv2D)             [None,8,8,64] [None,8,8,64]      369280     relu_3_1           \n",
      "                                    [None,8,8,64] [None,8,8,64]                                    \n",
      "                                    [None,8,8,64] [None,8,8,64]                                    \n",
      "---------------------------------------------------------------------------------------------------\n",
      "18  bn_3_2 (BatchNormalization)     [None,8,8,64] [None,8,8,64]      512        conv2d_3_2         \n",
      "                                    [None,8,8,64] [None,8,8,64]                                    \n",
      "                                    [None,8,8,64] [None,8,8,64]                                    \n",
      "---------------------------------------------------------------------------------------------------\n",
      "19  relu_3_2 (Activation)           [None,8,8,64] [None,8,8,64]      0          bn_3_2             \n",
      "                                    [None,8,8,64] [None,8,8,64]                                    \n",
      "                                    [None,8,8,64] [None,8,8,64]                                    \n",
      "---------------------------------------------------------------------------------------------------\n",
      "20  global_avg_pool2d (GlobalAvera  [None,64] [None,64]              0          relu_3_2           \n",
      "                                    [None,64] [None,64]                                            \n",
      "                                    [None,64] [None,64]                                            \n",
      "---------------------------------------------------------------------------------------------------\n",
      "21  fc1 (Dense)                     [None,64] [None,64]              41600      global_avg_pool2d  \n",
      "                                    [None,64] [None,64]                                            \n",
      "                                    [None,64] [None,64]                                            \n",
      "---------------------------------------------------------------------------------------------------\n",
      "22  bn_fc1 (BatchNormalization)     [None,64] [None,64]              512        fc1                \n",
      "                                    [None,64] [None,64]                                            \n",
      "                                    [None,64] [None,64]                                            \n",
      "---------------------------------------------------------------------------------------------------\n",
      "23  relu_fc1 (Activation)           [None,64] [None,64]              0          bn_fc1             \n",
      "                                    [None,64] [None,64]                                            \n",
      "                                    [None,64] [None,64]                                            \n",
      "---------------------------------------------------------------------------------------------------\n",
      "24  output (Dense)                  [None,10]                        3250       relu_fc1           \n",
      "                                    [None,10]                                                      \n",
      "                                    [None,10]                                                      \n",
      "---------------------------------------------------------------------------------------------------\n",
      "Total parameters: 765266\n"
     ]
    },
    {
     "name": "stdout",
     "output_type": "stream",
     "text": [
      "Bag 1.0\n",
      "Epoch 1/100\n",
      "(500, 10)\n",
      "(10000, 10)\n",
      " - 21s - lr:0: 0.0010 - loss_1: 1.9237 - loss_2: 1.9411 - loss_3: 1.9412 - acc_ensemble: 0.4100 - acc_1: 0.3740 - acc_2: 0.3600 - acc_3: 0.3320 - val_loss_1: 1.6811 - val_loss_2: 1.6969 - val_loss_3: 1.7341 - val_acc_ensemble: 0.4048 - val_acc_1: 0.3717 - val_acc_2: 0.3742 - val_acc_3: 0.3530\n",
      "Epoch 2/100\n",
      "(500, 10)\n",
      "(10000, 10)\n",
      " - 84s - lr:0: 0.0010 - loss_1: 1.6504 - loss_2: 1.6988 - loss_3: 1.6697 - acc_ensemble: 0.4740 - acc_1: 0.4180 - acc_2: 0.4320 - acc_3: 0.4120 - val_loss_1: 1.5657 - val_loss_2: 1.5885 - val_loss_3: 1.6151 - val_acc_ensemble: 0.4495 - val_acc_1: 0.4240 - val_acc_2: 0.4100 - val_acc_3: 0.3995\n",
      "Epoch 3/100\n",
      "(500, 10)\n",
      "(10000, 10)\n",
      " - 68s - lr:0: 0.0010 - loss_1: 1.5280 - loss_2: 1.5685 - loss_3: 1.5894 - acc_ensemble: 0.5280 - acc_1: 0.4720 - acc_2: 0.4720 - acc_3: 0.4900 - val_loss_1: 1.4282 - val_loss_2: 1.4518 - val_loss_3: 1.4582 - val_acc_ensemble: 0.5071 - val_acc_1: 0.4693 - val_acc_2: 0.4673 - val_acc_3: 0.4613\n",
      "Epoch 4/100\n",
      "(500, 10)\n",
      "(10000, 10)\n",
      " - 44s - lr:0: 0.0010 - loss_1: 1.4306 - loss_2: 1.4536 - loss_3: 1.4159 - acc_ensemble: 0.5380 - acc_1: 0.4900 - acc_2: 0.5220 - acc_3: 0.4980 - val_loss_1: 1.3536 - val_loss_2: 1.3978 - val_loss_3: 1.3643 - val_acc_ensemble: 0.5322 - val_acc_1: 0.5066 - val_acc_2: 0.4842 - val_acc_3: 0.4950\n",
      "Epoch 5/100\n"
     ]
    }
   ],
   "source": [
    "for n_branches in range(3, 5):\n",
    "    for shared_frac in [0.5, 0.75, 1.]:\n",
    "        for t in range(4):\n",
    "            train(n_branches, shared_frac, model_id=t+1)\n",
    "# history = train(n_branches=2, shared_frac=1.0)"
   ]
  },
  {
   "cell_type": "markdown",
   "metadata": {},
   "source": [
    "## Evaluation"
   ]
  },
  {
   "cell_type": "code",
   "execution_count": 9,
   "metadata": {},
   "outputs": [],
   "source": [
    "# from vbranch.utils.generic import get_model_path, get_vb_model_path\n",
    "from vbranch.utils.test import baseline_classification, compute_correlation_strength, compute_acc_from_logits\n",
    "import json"
   ]
  },
  {
   "cell_type": "markdown",
   "metadata": {},
   "source": [
    "### Correlation and Strength"
   ]
  },
  {
   "cell_type": "markdown",
   "metadata": {},
   "source": [
    "For classification, we can compute the correlation between models and their strength. The formulas used are from the Random Forest paper:\n",
    "\n",
    "https://www.stat.berkeley.edu/~breiman/randomforest2001.pdf"
   ]
  },
  {
   "cell_type": "code",
   "execution_count": 10,
   "metadata": {},
   "outputs": [],
   "source": [
    "def correlation_strength(n_branches, shared_frac, model_id):\n",
    "    model_path = os.path.join('models', path(n_branches, shared_frac), \n",
    "                              'model_{}'.format(model_id))\n",
    "    print(model_path)\n",
    "\n",
    "    test_init_ops = []\n",
    "    tensors = []\n",
    "    for i in range(n_branches):\n",
    "        test_init_ops.append('test_init_op_{}'.format(i+1))\n",
    "        tensors.append('model/output/vb{}/output:0'.format(i+1))\n",
    "\n",
    "    with TFSessionGrow() as sess:\n",
    "        restore_sess(sess, model_path)\n",
    "        sess.run(test_init_ops, feed_dict={'x:0':X_test, 'y:0': y_test, \n",
    "                                           'batch_size:0':len(X_test)})\n",
    "        outputs = sess.run(tensors)\n",
    "\n",
    "    return compute_correlation_strength(outputs, y_test, NUM_CLASSES, n_branches)"
   ]
  },
  {
   "cell_type": "code",
   "execution_count": 11,
   "metadata": {
    "scrolled": true
   },
   "outputs": [
    {
     "name": "stdout",
     "output_type": "stream",
     "text": [
      "models/sensitivity-3/vb-cifar10-cnn/B2/S0.00/model_1\n",
      "WARNING:tensorflow:From /home/gong/anaconda3/lib/python3.6/site-packages/tensorflow/python/training/saver.py:1266: checkpoint_exists (from tensorflow.python.training.checkpoint_management) is deprecated and will be removed in a future version.\n",
      "Instructions for updating:\n",
      "Use standard file APIs to check for files with this prefix.\n",
      "INFO:tensorflow:Restoring parameters from models/sensitivity-3/vb-cifar10-cnn/B2/S0.00/model_1/ckpt\n",
      "[0.6525 0.653 ]\n",
      "models/sensitivity-3/vb-cifar10-cnn/B2/S0.00/model_2\n",
      "INFO:tensorflow:Restoring parameters from models/sensitivity-3/vb-cifar10-cnn/B2/S0.00/model_2/ckpt\n",
      "[0.6434 0.6534]\n",
      "models/sensitivity-3/vb-cifar10-cnn/B2/S0.00/model_3\n",
      "INFO:tensorflow:Restoring parameters from models/sensitivity-3/vb-cifar10-cnn/B2/S0.00/model_3/ckpt\n",
      "[0.6438 0.6531]\n",
      "models/sensitivity-3/vb-cifar10-cnn/B2/S0.00/model_4\n",
      "INFO:tensorflow:Restoring parameters from models/sensitivity-3/vb-cifar10-cnn/B2/S0.00/model_4/ckpt\n",
      "[0.6465 0.6445]\n",
      "models/sensitivity-3/vb-cifar10-cnn/B2/S0.25/model_1\n",
      "INFO:tensorflow:Restoring parameters from models/sensitivity-3/vb-cifar10-cnn/B2/S0.25/model_1/ckpt\n",
      "[0.6578 0.6485]\n",
      "models/sensitivity-3/vb-cifar10-cnn/B2/S0.25/model_2\n",
      "INFO:tensorflow:Restoring parameters from models/sensitivity-3/vb-cifar10-cnn/B2/S0.25/model_2/ckpt\n",
      "[0.6547 0.6419]\n",
      "models/sensitivity-3/vb-cifar10-cnn/B2/S0.25/model_3\n",
      "INFO:tensorflow:Restoring parameters from models/sensitivity-3/vb-cifar10-cnn/B2/S0.25/model_3/ckpt\n",
      "[0.6545 0.6549]\n",
      "models/sensitivity-3/vb-cifar10-cnn/B2/S0.25/model_4\n",
      "INFO:tensorflow:Restoring parameters from models/sensitivity-3/vb-cifar10-cnn/B2/S0.25/model_4/ckpt\n",
      "[0.6535 0.6447]\n",
      "models/sensitivity-3/vb-cifar10-cnn/B2/S0.50/model_1\n",
      "INFO:tensorflow:Restoring parameters from models/sensitivity-3/vb-cifar10-cnn/B2/S0.50/model_1/ckpt\n",
      "[0.6501 0.6579]\n",
      "models/sensitivity-3/vb-cifar10-cnn/B2/S0.50/model_2\n",
      "INFO:tensorflow:Restoring parameters from models/sensitivity-3/vb-cifar10-cnn/B2/S0.50/model_2/ckpt\n",
      "[0.6253 0.6488]\n",
      "models/sensitivity-3/vb-cifar10-cnn/B2/S0.50/model_3\n",
      "INFO:tensorflow:Restoring parameters from models/sensitivity-3/vb-cifar10-cnn/B2/S0.50/model_3/ckpt\n",
      "[0.6572 0.6417]\n",
      "models/sensitivity-3/vb-cifar10-cnn/B2/S0.50/model_4\n",
      "INFO:tensorflow:Restoring parameters from models/sensitivity-3/vb-cifar10-cnn/B2/S0.50/model_4/ckpt\n",
      "[0.6505 0.6478]\n",
      "models/sensitivity-3/vb-cifar10-cnn/B2/S0.75/model_1\n",
      "INFO:tensorflow:Restoring parameters from models/sensitivity-3/vb-cifar10-cnn/B2/S0.75/model_1/ckpt\n",
      "[0.6605 0.6627]\n",
      "models/sensitivity-3/vb-cifar10-cnn/B2/S0.75/model_2\n",
      "INFO:tensorflow:Restoring parameters from models/sensitivity-3/vb-cifar10-cnn/B2/S0.75/model_2/ckpt\n",
      "[0.6552 0.6594]\n",
      "models/sensitivity-3/vb-cifar10-cnn/B2/S0.75/model_3\n",
      "INFO:tensorflow:Restoring parameters from models/sensitivity-3/vb-cifar10-cnn/B2/S0.75/model_3/ckpt\n",
      "[0.6681 0.6615]\n",
      "models/sensitivity-3/vb-cifar10-cnn/B2/S0.75/model_4\n",
      "INFO:tensorflow:Restoring parameters from models/sensitivity-3/vb-cifar10-cnn/B2/S0.75/model_4/ckpt\n",
      "[0.6557 0.6613]\n",
      "models/sensitivity-3/vb-cifar10-cnn/B2/S1.00/model_1\n",
      "INFO:tensorflow:Restoring parameters from models/sensitivity-3/vb-cifar10-cnn/B2/S1.00/model_1/ckpt\n",
      "[0.6714 0.6714]\n",
      "models/sensitivity-3/vb-cifar10-cnn/B2/S1.00/model_2\n",
      "INFO:tensorflow:Restoring parameters from models/sensitivity-3/vb-cifar10-cnn/B2/S1.00/model_2/ckpt\n",
      "[0.6808 0.6808]\n",
      "models/sensitivity-3/vb-cifar10-cnn/B2/S1.00/model_3\n",
      "INFO:tensorflow:Restoring parameters from models/sensitivity-3/vb-cifar10-cnn/B2/S1.00/model_3/ckpt\n",
      "[0.6712 0.6712]\n",
      "models/sensitivity-3/vb-cifar10-cnn/B2/S1.00/model_4\n",
      "INFO:tensorflow:Restoring parameters from models/sensitivity-3/vb-cifar10-cnn/B2/S1.00/model_4/ckpt\n",
      "[0.663 0.663]\n"
     ]
    }
   ],
   "source": [
    "correlation_results = {}\n",
    "strength_results = {}\n",
    "\n",
    "# num_branches = 4\n",
    "shared_frac_list = [0., 0.25, 0.5, 0.75, 1.]\n",
    "# shared_correlation_list = []\n",
    "# shared_strength_list = []\n",
    "n_trials = 4\n",
    "\n",
    "for b in range(2, 3):\n",
    "    correlation_results[b] = {}\n",
    "    strength_results[b] = {}\n",
    "    \n",
    "    for shared in shared_frac_list:\n",
    "        correlation_list = []\n",
    "        strength_list = []\n",
    "\n",
    "        for model_id in range(1, n_trials + 1):\n",
    "            tf.reset_default_graph()\n",
    "            c, s = correlation_strength(b, shared, model_id)\n",
    "            correlation_list.append(c)\n",
    "            strength_list.append(s)\n",
    "\n",
    "        correlation_results[b][shared] = [np.mean(correlation_list), np.std(correlation_list)]\n",
    "        strength_results[b][shared] = [np.mean(strength_list), np.std(strength_list)]"
   ]
  },
  {
   "cell_type": "code",
   "execution_count": 12,
   "metadata": {},
   "outputs": [],
   "source": [
    "with open(f'results/sensitivity-3/correlation-{DATASET}-{ARCHITECTURE}.json', 'w') as f:\n",
    "    json.dump(correlation_results, f, indent=4)\n",
    "with open(f'results/sensitivity-3/strength-{DATASET}-{ARCHITECTURE}.json', 'w') as f:\n",
    "    json.dump(strength_results, f, indent=4)"
   ]
  },
  {
   "cell_type": "code",
   "execution_count": 16,
   "metadata": {},
   "outputs": [],
   "source": [
    "architecture = ['cnn'] #, 'cnnx'] #, 'fcn2', 'fcn3', 'fcn2A', 'fcn3A']\n",
    "correlation = []\n",
    "strength = []\n",
    "\n",
    "for arch in architecture:\n",
    "    with open(f'results/sensitivity-3/correlation-{DATASET}-{arch}.json', 'r') as f:\n",
    "        correlation.append(json.load(f))\n",
    "    with open(f'results/sensitivity-3/strength-{DATASET}-{arch}.json', 'r') as f:\n",
    "        strength.append(json.load(f))"
   ]
  },
  {
   "cell_type": "code",
   "execution_count": 17,
   "metadata": {},
   "outputs": [],
   "source": [
    "def plot_corr_strength(n_branches):\n",
    "    def mean_std(data):\n",
    "        mean = []\n",
    "        std = []\n",
    "        for frac in shared_frac_list:\n",
    "            mean.append(data[str(frac)][0])\n",
    "            std.append(data[str(frac)][1])\n",
    "        return np.array(mean), np.array(std)\n",
    "    \n",
    "    plt.figure(figsize=(10,4))\n",
    "    plt.subplot(1,2,1)\n",
    "    for i, arch in enumerate(architecture):\n",
    "        data = correlation[i][str(n_branches)]\n",
    "        mean, std = mean_std(data)    \n",
    "        plt.errorbar(shared_frac_list, mean, 2*std / np.sqrt(n_trials), label=arch)\n",
    "        plt.legend()\n",
    "        \n",
    "    plt.subplot(1,2,2)\n",
    "    for i, arch in enumerate(architecture):\n",
    "        data = strength[i][str(n_branches)]\n",
    "        mean, std = mean_std(data)    \n",
    "        plt.errorbar(shared_frac_list, mean, 2*std / np.sqrt(n_trials), label=arch)    \n",
    "        plt.legend()\n",
    "    \n",
    "    plt.show()"
   ]
  },
  {
   "cell_type": "code",
   "execution_count": 18,
   "metadata": {},
   "outputs": [
    {
     "data": {
      "image/png": "[encoded data removed]",
      "text/plain": [
       "<Figure size 720x288 with 2 Axes>"
      ]
     },
     "metadata": {
      "needs_background": "light"
     },
     "output_type": "display_data"
    }
   ],
   "source": [
    "plot_corr_strength(2)"
   ]
  },
  {
   "cell_type": "markdown",
   "metadata": {},
   "source": [
    "### Model Parameters"
   ]
  },
  {
   "cell_type": "code",
   "execution_count": 11,
   "metadata": {
    "scrolled": true
   },
   "outputs": [
    {
     "name": "stdout",
     "output_type": "stream",
     "text": [
      "i   Layer name                      Output shape     Parameters           Num param  Inbound            \n",
      "--------------------------------------------------------------------------------------------------------\n",
      "    Input                           [None,32,32,3]                                                      \n",
      "--------------------------------------------------------------------------------------------------------\n",
      "0   conv2d_1_1 (Conv2D)             [None,32,32,32]  [3,3,3,32] [32]      896        input:0            \n",
      "--------------------------------------------------------------------------------------------------------\n",
      "1   bn_1_1 (BatchNormalization)     [None,32,32,32]  [32] [32]            64         conv2d_1_1         \n",
      "--------------------------------------------------------------------------------------------------------\n",
      "2   relu_1_1 (Activation)           [None,32,32,32]                       0          bn_1_1             \n",
      "--------------------------------------------------------------------------------------------------------\n",
      "3   conv2d_1_2 (Conv2D)             [None,32,32,32]  [3,3,32,32] [32]     9248       relu_1_1           \n",
      "--------------------------------------------------------------------------------------------------------\n",
      "4   bn_1_2 (BatchNormalization)     [None,32,32,32]  [32] [32]            64         conv2d_1_2         \n",
      "--------------------------------------------------------------------------------------------------------\n",
      "5   relu_1_2 (Activation)           [None,32,32,32]                       0          bn_1_2             \n",
      "--------------------------------------------------------------------------------------------------------\n",
      "6   avg_pool2d_1 (AveragePooling2D  [None,16,16,32]                       0          relu_1_2           \n",
      "--------------------------------------------------------------------------------------------------------\n",
      "7   conv2d_2_1 (Conv2D)             [None,16,16,64]  [3,3,32,64] [64]     18496      avg_pool2d_1       \n",
      "--------------------------------------------------------------------------------------------------------\n",
      "8   bn_2_1 (BatchNormalization)     [None,16,16,64]  [64] [64]            128        conv2d_2_1         \n",
      "--------------------------------------------------------------------------------------------------------\n",
      "9   relu_2_1 (Activation)           [None,16,16,64]                       0          bn_2_1             \n",
      "--------------------------------------------------------------------------------------------------------\n",
      "10  conv2d_2_2 (Conv2D)             [None,16,16,64]  [3,3,64,64] [64]     36928      relu_2_1           \n",
      "--------------------------------------------------------------------------------------------------------\n",
      "11  bn_2_2 (BatchNormalization)     [None,16,16,64]  [64] [64]            128        conv2d_2_2         \n",
      "--------------------------------------------------------------------------------------------------------\n",
      "12  relu_2_2 (Activation)           [None,16,16,64]                       0          bn_2_2             \n",
      "--------------------------------------------------------------------------------------------------------\n",
      "13  avg_pool2d_2 (AveragePooling2D  [None,8,8,64]                         0          relu_2_2           \n",
      "--------------------------------------------------------------------------------------------------------\n",
      "14  conv2d_3_1 (Conv2D)             [None,8,8,128]   [3,3,64,128] [128]   73856      avg_pool2d_2       \n",
      "--------------------------------------------------------------------------------------------------------\n",
      "15  bn_3_1 (BatchNormalization)     [None,8,8,128]   [128] [128]          256        conv2d_3_1         \n",
      "--------------------------------------------------------------------------------------------------------\n",
      "16  relu_3_1 (Activation)           [None,8,8,128]                        0          bn_3_1             \n",
      "--------------------------------------------------------------------------------------------------------\n",
      "17  conv2d_3_2 (Conv2D)             [None,8,8,128]   [3,3,128,128] [128]  147584     relu_3_1           \n",
      "--------------------------------------------------------------------------------------------------------\n",
      "18  bn_3_2 (BatchNormalization)     [None,8,8,128]   [128] [128]          256        conv2d_3_2         \n",
      "--------------------------------------------------------------------------------------------------------\n",
      "19  relu_3_2 (Activation)           [None,8,8,128]                        0          bn_3_2             \n",
      "--------------------------------------------------------------------------------------------------------\n",
      "20  global_avg_pool2d (GlobalAvera  [None,128]                            0          relu_3_2           \n",
      "--------------------------------------------------------------------------------------------------------\n",
      "21  fc1 (Dense)                     [None,128]       [128,128] [128]      16512      global_avg_pool2d  \n",
      "--------------------------------------------------------------------------------------------------------\n",
      "22  bn_fc1 (BatchNormalization)     [None,128]       [128] [128]          256        fc1                \n",
      "--------------------------------------------------------------------------------------------------------\n",
      "23  relu_fc1 (Activation)           [None,128]                            0          bn_fc1             \n",
      "--------------------------------------------------------------------------------------------------------\n",
      "24  output (Dense)                  [None,10]        [128,10] [10]        1290       relu_fc1           \n",
      "--------------------------------------------------------------------------------------------------------\n",
      "Total parameters: 305962\n"
     ]
    }
   ],
   "source": [
    "# Vbranch params\n",
    "shared_frac_list = [0.] #, 0.25, 0.5, 0.75, 1.]\n",
    "num_branches = 1\n",
    "\n",
    "vbranch_params = []\n",
    "for frac in shared_frac_list:\n",
    "    tf.reset_default_graph()\n",
    "    inputs = tf.placeholder('float32', [None, 32,32,3])\n",
    "    model = build_model(num_branches, frac, compile_loss=False)\n",
    "    model.summary()\n",
    "    vbranch_params.append(model.count_parameters())"
   ]
  },
  {
   "cell_type": "code",
   "execution_count": 21,
   "metadata": {},
   "outputs": [],
   "source": [
    "param_ratio = [p / vbranch_params[-1] for p in vbranch_params]\n",
    "ideal_ratio = num_branches - np.array(shared_frac_list)**2 * (num_branches-1)"
   ]
  },
  {
   "cell_type": "code",
   "execution_count": 22,
   "metadata": {},
   "outputs": [
    {
     "data": {
      "image/png": "[encoded data removed]",
      "text/plain": [
       "<Figure size 432x288 with 1 Axes>"
      ]
     },
     "metadata": {
      "needs_background": "light"
     },
     "output_type": "display_data"
    }
   ],
   "source": [
    "plt.scatter(shared_frac_list, param_ratio, color='orange')\n",
    "# plt.plot(shared_frac_list, [1]*len(shared_frac_list))\n",
    "plt.plot(shared_frac_list, ideal_ratio)\n",
    "\n",
    "plt.xlabel('shared frac')\n",
    "plt.ylabel('params / baseline')\n",
    "plt.title('{} parameter count'.format(ARCHITECTURE))\n",
    "\n",
    "plt.savefig('figs/cnn-small-parameter-count.png')\n",
    "plt.show()"
   ]
  },
  {
   "cell_type": "code",
   "execution_count": null,
   "metadata": {},
   "outputs": [],
   "source": []
  }
 ],
 "metadata": {
  "kernelspec": {
   "display_name": "Python 3",
   "language": "python",
   "name": "python3"
  },
  "language_info": {
   "codemirror_mode": {
    "name": "ipython",
    "version": 3
   },
   "file_extension": ".py",
   "mimetype": "text/x-python",
   "name": "python",
   "nbconvert_exporter": "python",
   "pygments_lexer": "ipython3",
   "version": "3.6.0"
  }
 },
 "nbformat": 4,
 "nbformat_minor": 2
}
