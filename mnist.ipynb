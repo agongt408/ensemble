{
 "cells": [
  {
   "cell_type": "markdown",
   "metadata": {},
   "source": [
    "# Baseline MNIST"
   ]
  },
  {
   "cell_type": "code",
   "execution_count": 1,
   "metadata": {},
   "outputs": [],
   "source": [
    "import tensorflow as tf\n",
    "import numpy as np\n",
    "import os\n",
    "from scipy.special import softmax\n",
    "import time\n",
    "from sklearn.manifold import TSNE\n",
    "import matplotlib.pyplot as plt"
   ]
  },
  {
   "cell_type": "code",
   "execution_count": 2,
   "metadata": {},
   "outputs": [],
   "source": [
    "import vbranch as vb"
   ]
  },
  {
   "cell_type": "code",
   "execution_count": 3,
   "metadata": {},
   "outputs": [],
   "source": [
    "save = False\n",
    "model_id = 1\n",
    "architecture = 'fcn'"
   ]
  },
  {
   "cell_type": "markdown",
   "metadata": {},
   "source": [
    "## Load Data"
   ]
  },
  {
   "cell_type": "code",
   "execution_count": 4,
   "metadata": {},
   "outputs": [],
   "source": [
    "num_classes = 10\n",
    "(X_train, y_train_one_hot), (X_test, y_test_one_hot) = vb.datasets.mnist.load_data(format=architecture)"
   ]
  },
  {
   "cell_type": "code",
   "execution_count": 5,
   "metadata": {},
   "outputs": [
    {
     "name": "stdout",
     "output_type": "stream",
     "text": [
      "(784,)\n"
     ]
    }
   ],
   "source": [
    "input_shape = X_train.shape[1:]\n",
    "print(input_shape)"
   ]
  },
  {
   "cell_type": "markdown",
   "metadata": {},
   "source": [
    "## Build Model"
   ]
  },
  {
   "cell_type": "code",
   "execution_count": 6,
   "metadata": {},
   "outputs": [],
   "source": [
    "BATCH_SIZE = 32\n",
    "EPOCHS = 100\n",
    "STEPS_PER_EPOCH = 100\n",
    "model_path = './models/mnist-{}_{}'.format(architecture, model_id)"
   ]
  },
  {
   "cell_type": "code",
   "execution_count": 7,
   "metadata": {},
   "outputs": [],
   "source": [
    "tf.reset_default_graph()\n",
    "\n",
    "x = tf.placeholder('float32', (None,) + input_shape, name='x')\n",
    "y = tf.placeholder('float32', [None, num_classes], name='y')\n",
    "\n",
    "batch_size = tf.placeholder('int64', name='batch_size')\n",
    "\n",
    "dataset = tf.data.Dataset.from_tensor_slices((x,y)).\\\n",
    "    batch(batch_size).repeat().\\\n",
    "    shuffle(buffer_size=4*BATCH_SIZE)\n",
    "\n",
    "iter_ = dataset.make_initializable_iterator()\n",
    "inputs, labels_one_hot = iter_.get_next('input')"
   ]
  },
  {
   "cell_type": "code",
   "execution_count": 8,
   "metadata": {},
   "outputs": [],
   "source": [
    "def build_model(architecture, inputs, labels, num_classes,model_id,test=False):\n",
    "    if architecture == 'fcn':\n",
    "        model = vb.simple_fcn(inputs,128,num_classes,\n",
    "            name='model_'+str(model_id))\n",
    "    elif architecture == 'cnn':\n",
    "        model = vb.simple_cnn(inputs,num_classes,16,32,\n",
    "            name='model_'+str(model_id))\n",
    "    else:\n",
    "        raise ValueError('Invalid architecture')\n",
    "\n",
    "    optimizer = tf.train.AdamOptimizer(learning_rate=0.001)\n",
    "    model.compile(optimizer, 'softmax_cross_entropy_with_logits',\n",
    "                    labels_one_hot=labels, test=test)\n",
    "    model.summary()\n",
    "    return model"
   ]
  },
  {
   "cell_type": "code",
   "execution_count": 9,
   "metadata": {},
   "outputs": [
    {
     "name": "stdout",
     "output_type": "stream",
     "text": [
      "i  Layer name  Output shape  Parameters        Num param  Inbound  \n",
      "-------------------------------------------------------------------\n",
      "   Input       [None,784]                                          \n",
      "-------------------------------------------------------------------\n",
      "0  fc1         [None,128]    [784,128] [128]   100480     input:0  \n",
      "-------------------------------------------------------------------\n",
      "1  bn1         [None,128]    [128] [128]       256        fc1      \n",
      "-------------------------------------------------------------------\n",
      "2  relu1       [None,128]                      0          bn1      \n",
      "-------------------------------------------------------------------\n",
      "3  fc2         [None,10]     [128,10] [10]     1290       relu1    \n",
      "-------------------------------------------------------------------\n",
      "4  bn2         [None,10]     [10] [10]         20         fc2      \n",
      "-------------------------------------------------------------------\n",
      "5  output      [None,10]                       0          bn2      \n",
      "-------------------------------------------------------------------\n",
      "Total parameters: 102046\n"
     ]
    }
   ],
   "source": [
    "model = build_model(architecture, inputs, labels_one_hot, num_classes, model_id)"
   ]
  },
  {
   "cell_type": "code",
   "execution_count": 10,
   "metadata": {},
   "outputs": [
    {
     "name": "stdout",
     "output_type": "stream",
     "text": [
      "i  Layer name  Output shape  Parameters        Num param  Inbound   \n",
      "--------------------------------------------------------------------\n",
      "   Input       [None,784]                                           \n",
      "--------------------------------------------------------------------\n",
      "0  fc1         [None,128]    [784,128] [128]   100480     x_test:0  \n",
      "--------------------------------------------------------------------\n",
      "1  bn1         [None,128]    [128] [128]       256        fc1       \n",
      "--------------------------------------------------------------------\n",
      "2  relu1       [None,128]                      0          bn1       \n",
      "--------------------------------------------------------------------\n",
      "3  fc2         [None,10]     [128,10] [10]     1290       relu1     \n",
      "--------------------------------------------------------------------\n",
      "4  bn2         [None,10]     [10] [10]         20         fc2       \n",
      "--------------------------------------------------------------------\n",
      "5  output      [None,10]                       0          bn2       \n",
      "--------------------------------------------------------------------\n",
      "Total parameters: 102046\n"
     ]
    }
   ],
   "source": [
    "# Build copy of model for testing\n",
    "x_test = tf.placeholder('float32', (None,) + input_shape, name='x_test')\n",
    "y_test = tf.placeholder('float32', [None, num_classes], name='y_test')\n",
    "test_model = build_model(architecture, x_test, y_test,num_classes,model_id, test=True)"
   ]
  },
  {
   "cell_type": "code",
   "execution_count": 11,
   "metadata": {},
   "outputs": [
    {
     "name": "stdout",
     "output_type": "stream",
     "text": [
      "Epoch 1/100\n",
      " - 1s - train_acc: 0.7538 - train_loss: 1.1231 - val_acc: 0.8939 - val_loss: 0.7635\n",
      "Epoch 2/100\n",
      " - 0s - train_acc: 0.8981 - train_loss: 0.7317 - val_acc: 0.9128 - val_loss: 0.6258\n",
      "Epoch 3/100\n",
      " - 0s - train_acc: 0.9222 - train_loss: 0.6056 - val_acc: 0.9179 - val_loss: 0.5452\n",
      "Epoch 4/100\n",
      " - 0s - train_acc: 0.9347 - train_loss: 0.5307 - val_acc: 0.9292 - val_loss: 0.4831\n",
      "Epoch 5/100\n",
      " - 0s - train_acc: 0.9459 - train_loss: 0.4682 - val_acc: 0.9341 - val_loss: 0.4400\n",
      "Epoch 6/100\n",
      " - 0s - train_acc: 0.9569 - train_loss: 0.4091 - val_acc: 0.9362 - val_loss: 0.4012\n",
      "Epoch 7/100\n",
      " - 0s - train_acc: 0.9659 - train_loss: 0.3530 - val_acc: 0.9385 - val_loss: 0.3651\n",
      "Epoch 8/100\n",
      " - 0s - train_acc: 0.9678 - train_loss: 0.3259 - val_acc: 0.9401 - val_loss: 0.3448\n",
      "Epoch 9/100\n",
      " - 0s - train_acc: 0.9762 - train_loss: 0.2905 - val_acc: 0.9419 - val_loss: 0.3233\n",
      "Epoch 10/100\n",
      " - 0s - train_acc: 0.9759 - train_loss: 0.2620 - val_acc: 0.9433 - val_loss: 0.3089\n",
      "Epoch 11/100\n",
      " - 0s - train_acc: 0.9828 - train_loss: 0.2321 - val_acc: 0.9450 - val_loss: 0.2926\n",
      "Epoch 12/100\n",
      " - 0s - train_acc: 0.9888 - train_loss: 0.2078 - val_acc: 0.9467 - val_loss: 0.2805\n",
      "Epoch 13/100\n",
      " - 0s - train_acc: 0.9881 - train_loss: 0.1930 - val_acc: 0.9450 - val_loss: 0.2751\n",
      "Epoch 14/100\n",
      " - 0s - train_acc: 0.9925 - train_loss: 0.1721 - val_acc: 0.9451 - val_loss: 0.2633\n",
      "Epoch 15/100\n",
      " - 0s - train_acc: 0.9906 - train_loss: 0.1619 - val_acc: 0.9468 - val_loss: 0.2501\n",
      "Epoch 16/100\n",
      " - 0s - train_acc: 0.9944 - train_loss: 0.1496 - val_acc: 0.9436 - val_loss: 0.2549\n",
      "Epoch 17/100\n",
      " - 0s - train_acc: 0.9919 - train_loss: 0.1416 - val_acc: 0.9471 - val_loss: 0.2406\n",
      "Epoch 18/100\n",
      " - 0s - train_acc: 0.9950 - train_loss: 0.1250 - val_acc: 0.9460 - val_loss: 0.2389\n",
      "Epoch 19/100\n",
      " - 0s - train_acc: 0.9959 - train_loss: 0.1180 - val_acc: 0.9480 - val_loss: 0.2312\n",
      "Epoch 20/100\n",
      " - 0s - train_acc: 0.9972 - train_loss: 0.1024 - val_acc: 0.9481 - val_loss: 0.2198\n",
      "Epoch 21/100\n",
      " - 0s - train_acc: 0.9978 - train_loss: 0.0913 - val_acc: 0.9473 - val_loss: 0.2140\n",
      "Epoch 22/100\n",
      " - 0s - train_acc: 0.9981 - train_loss: 0.0867 - val_acc: 0.9496 - val_loss: 0.2179\n",
      "Epoch 23/100\n",
      " - 0s - train_acc: 0.9981 - train_loss: 0.0857 - val_acc: 0.9496 - val_loss: 0.2127\n",
      "Epoch 24/100\n",
      " - 0s - train_acc: 0.9972 - train_loss: 0.0771 - val_acc: 0.9479 - val_loss: 0.2052\n",
      "Epoch 25/100\n",
      " - 0s - train_acc: 0.9988 - train_loss: 0.0674 - val_acc: 0.9464 - val_loss: 0.2102\n",
      "Epoch 26/100\n",
      " - 0s - train_acc: 0.9981 - train_loss: 0.0686 - val_acc: 0.9487 - val_loss: 0.2042\n",
      "Epoch 27/100\n",
      " - 0s - train_acc: 0.9981 - train_loss: 0.0635 - val_acc: 0.9471 - val_loss: 0.2007\n",
      "Epoch 28/100\n",
      " - 0s - train_acc: 0.9984 - train_loss: 0.0562 - val_acc: 0.9462 - val_loss: 0.1990\n",
      "Epoch 29/100\n",
      " - 0s - train_acc: 0.9984 - train_loss: 0.0554 - val_acc: 0.9467 - val_loss: 0.1975\n",
      "Epoch 30/100\n",
      " - 0s - train_acc: 0.9981 - train_loss: 0.0525 - val_acc: 0.9482 - val_loss: 0.1896\n",
      "Epoch 31/100\n",
      " - 0s - train_acc: 0.9975 - train_loss: 0.0551 - val_acc: 0.9392 - val_loss: 0.2180\n",
      "Epoch 32/100\n",
      " - 0s - train_acc: 0.9969 - train_loss: 0.0593 - val_acc: 0.9430 - val_loss: 0.2053\n",
      "Epoch 33/100\n",
      " - 0s - train_acc: 0.9984 - train_loss: 0.0496 - val_acc: 0.9458 - val_loss: 0.1892\n",
      "Epoch 34/100\n",
      " - 0s - train_acc: 0.9997 - train_loss: 0.0406 - val_acc: 0.9479 - val_loss: 0.1863\n",
      "Epoch 35/100\n",
      " - 0s - train_acc: 0.9978 - train_loss: 0.0417 - val_acc: 0.9475 - val_loss: 0.1879\n",
      "Epoch 36/100\n",
      " - 0s - train_acc: 0.9991 - train_loss: 0.0370 - val_acc: 0.9502 - val_loss: 0.1775\n",
      "Epoch 37/100\n",
      " - 0s - train_acc: 0.9997 - train_loss: 0.0314 - val_acc: 0.9481 - val_loss: 0.1800\n",
      "Epoch 38/100\n",
      " - 0s - train_acc: 0.9972 - train_loss: 0.0345 - val_acc: 0.9445 - val_loss: 0.1979\n",
      "Epoch 39/100\n",
      " - 0s - train_acc: 0.9994 - train_loss: 0.0340 - val_acc: 0.9483 - val_loss: 0.1793\n",
      "Epoch 40/100\n",
      " - 0s - train_acc: 0.9991 - train_loss: 0.0286 - val_acc: 0.9485 - val_loss: 0.1778\n",
      "Epoch 41/100\n",
      " - 0s - train_acc: 0.9975 - train_loss: 0.0320 - val_acc: 0.9363 - val_loss: 0.2186\n",
      "Epoch 42/100\n",
      " - 0s - train_acc: 0.9972 - train_loss: 0.0435 - val_acc: 0.9430 - val_loss: 0.2000\n",
      "Epoch 43/100\n",
      " - 0s - train_acc: 0.9991 - train_loss: 0.0343 - val_acc: 0.9497 - val_loss: 0.1731\n",
      "Epoch 44/100\n",
      " - 0s - train_acc: 0.9991 - train_loss: 0.0249 - val_acc: 0.9509 - val_loss: 0.1712\n",
      "Epoch 45/100\n",
      " - 0s - train_acc: 0.9991 - train_loss: 0.0233 - val_acc: 0.9490 - val_loss: 0.1774\n",
      "Epoch 46/100\n",
      " - 0s - train_acc: 1.0000 - train_loss: 0.0206 - val_acc: 0.9505 - val_loss: 0.1706\n",
      "Epoch 47/100\n",
      " - 0s - train_acc: 0.9997 - train_loss: 0.0189 - val_acc: 0.9494 - val_loss: 0.1711\n",
      "Epoch 48/100\n",
      " - 0s - train_acc: 0.9997 - train_loss: 0.0166 - val_acc: 0.9481 - val_loss: 0.1709\n",
      "Epoch 49/100\n",
      " - 0s - train_acc: 0.9997 - train_loss: 0.0163 - val_acc: 0.9443 - val_loss: 0.1846\n",
      "Epoch 50/100\n",
      " - 0s - train_acc: 0.9994 - train_loss: 0.0168 - val_acc: 0.9476 - val_loss: 0.1719\n",
      "Epoch 51/100\n",
      " - 0s - train_acc: 1.0000 - train_loss: 0.0135 - val_acc: 0.9486 - val_loss: 0.1716\n",
      "Epoch 52/100\n",
      " - 0s - train_acc: 1.0000 - train_loss: 0.0133 - val_acc: 0.9478 - val_loss: 0.1743\n",
      "Epoch 53/100\n",
      " - 0s - train_acc: 0.9997 - train_loss: 0.0142 - val_acc: 0.9473 - val_loss: 0.1767\n",
      "Epoch 54/100\n",
      " - 0s - train_acc: 0.9994 - train_loss: 0.0134 - val_acc: 0.9461 - val_loss: 0.1826\n",
      "Epoch 55/100\n",
      " - 0s - train_acc: 0.9988 - train_loss: 0.0255 - val_acc: 0.9421 - val_loss: 0.1937\n",
      "Epoch 56/100\n",
      " - 0s - train_acc: 0.9984 - train_loss: 0.0310 - val_acc: 0.9428 - val_loss: 0.1936\n",
      "Epoch 57/100\n",
      " - 0s - train_acc: 0.9959 - train_loss: 0.0378 - val_acc: 0.9397 - val_loss: 0.2079\n",
      "Epoch 58/100\n",
      " - 0s - train_acc: 0.9959 - train_loss: 0.0378 - val_acc: 0.9436 - val_loss: 0.1861\n",
      "Epoch 59/100\n",
      " - 0s - train_acc: 1.0000 - train_loss: 0.0197 - val_acc: 0.9473 - val_loss: 0.1703\n",
      "Epoch 60/100\n",
      " - 0s - train_acc: 1.0000 - train_loss: 0.0146 - val_acc: 0.9505 - val_loss: 0.1636\n",
      "Epoch 61/100\n",
      " - 0s - train_acc: 0.9997 - train_loss: 0.0124 - val_acc: 0.9506 - val_loss: 0.1648\n",
      "Epoch 62/100\n",
      " - 0s - train_acc: 0.9994 - train_loss: 0.0110 - val_acc: 0.9493 - val_loss: 0.1648\n",
      "Epoch 63/100\n",
      " - 0s - train_acc: 0.9994 - train_loss: 0.0111 - val_acc: 0.9494 - val_loss: 0.1660\n",
      "Epoch 64/100\n",
      " - 0s - train_acc: 0.9997 - train_loss: 0.0099 - val_acc: 0.9509 - val_loss: 0.1646\n",
      "Epoch 65/100\n",
      " - 0s - train_acc: 1.0000 - train_loss: 0.0075 - val_acc: 0.9512 - val_loss: 0.1620\n",
      "Epoch 66/100\n",
      " - 0s - train_acc: 0.9997 - train_loss: 0.0087 - val_acc: 0.9498 - val_loss: 0.1657\n",
      "Epoch 67/100\n",
      " - 0s - train_acc: 0.9997 - train_loss: 0.0086 - val_acc: 0.9506 - val_loss: 0.1668\n",
      "Epoch 68/100\n",
      " - 0s - train_acc: 0.9991 - train_loss: 0.0094 - val_acc: 0.9465 - val_loss: 0.1751\n",
      "Epoch 69/100\n",
      " - 0s - train_acc: 0.9994 - train_loss: 0.0096 - val_acc: 0.9455 - val_loss: 0.1780\n",
      "Epoch 70/100\n",
      " - 0s - train_acc: 1.0000 - train_loss: 0.0088 - val_acc: 0.9499 - val_loss: 0.1686\n",
      "Epoch 71/100\n",
      " - 0s - train_acc: 0.9991 - train_loss: 0.0086 - val_acc: 0.9504 - val_loss: 0.1653\n",
      "Epoch 72/100\n",
      " - 0s - train_acc: 1.0000 - train_loss: 0.0077 - val_acc: 0.9492 - val_loss: 0.1696\n",
      "Epoch 73/100\n",
      " - 0s - train_acc: 1.0000 - train_loss: 0.0055 - val_acc: 0.9498 - val_loss: 0.1651\n",
      "Epoch 74/100\n",
      " - 0s - train_acc: 0.9997 - train_loss: 0.0055 - val_acc: 0.9509 - val_loss: 0.1645\n",
      "Epoch 75/100\n",
      " - 0s - train_acc: 0.9997 - train_loss: 0.0055 - val_acc: 0.9494 - val_loss: 0.1661\n",
      "Epoch 76/100\n",
      " - 0s - train_acc: 0.9994 - train_loss: 0.0124 - val_acc: 0.9436 - val_loss: 0.1975\n",
      "Epoch 77/100\n",
      " - 0s - train_acc: 0.9997 - train_loss: 0.0084 - val_acc: 0.9480 - val_loss: 0.1744\n",
      "Epoch 78/100\n",
      " - 0s - train_acc: 1.0000 - train_loss: 0.0054 - val_acc: 0.9488 - val_loss: 0.1710\n",
      "Epoch 79/100\n",
      " - 0s - train_acc: 1.0000 - train_loss: 0.0046 - val_acc: 0.9505 - val_loss: 0.1683\n",
      "Epoch 80/100\n",
      " - 0s - train_acc: 1.0000 - train_loss: 0.0037 - val_acc: 0.9501 - val_loss: 0.1686\n",
      "Epoch 81/100\n",
      " - 0s - train_acc: 0.9997 - train_loss: 0.0047 - val_acc: 0.9499 - val_loss: 0.1694\n",
      "Epoch 82/100\n",
      " - 0s - train_acc: 0.9997 - train_loss: 0.0044 - val_acc: 0.9507 - val_loss: 0.1686\n",
      "Epoch 83/100\n",
      " - 0s - train_acc: 1.0000 - train_loss: 0.0032 - val_acc: 0.9508 - val_loss: 0.1691\n",
      "Epoch 84/100\n",
      " - 0s - train_acc: 1.0000 - train_loss: 0.0033 - val_acc: 0.9501 - val_loss: 0.1694\n",
      "Epoch 85/100\n",
      " - 0s - train_acc: 1.0000 - train_loss: 0.0028 - val_acc: 0.9501 - val_loss: 0.1704\n"
     ]
    },
    {
     "name": "stdout",
     "output_type": "stream",
     "text": [
      "Epoch 86/100\n",
      " - 0s - train_acc: 0.9997 - train_loss: 0.0034 - val_acc: 0.9501 - val_loss: 0.1699\n",
      "Epoch 87/100\n",
      " - 0s - train_acc: 1.0000 - train_loss: 0.0026 - val_acc: 0.9493 - val_loss: 0.1701\n",
      "Epoch 88/100\n",
      " - 0s - train_acc: 0.9981 - train_loss: 0.0071 - val_acc: 0.9423 - val_loss: 0.2039\n",
      "Epoch 89/100\n",
      " - 0s - train_acc: 0.9741 - train_loss: 0.0801 - val_acc: 0.9311 - val_loss: 0.2347\n",
      "Epoch 90/100\n",
      " - 0s - train_acc: 0.9856 - train_loss: 0.0594 - val_acc: 0.9412 - val_loss: 0.1933\n",
      "Epoch 91/100\n",
      " - 0s - train_acc: 0.9966 - train_loss: 0.0233 - val_acc: 0.9451 - val_loss: 0.1826\n",
      "Epoch 92/100\n",
      " - 0s - train_acc: 0.9978 - train_loss: 0.0156 - val_acc: 0.9488 - val_loss: 0.1739\n",
      "Epoch 93/100\n",
      " - 0s - train_acc: 0.9966 - train_loss: 0.0188 - val_acc: 0.9463 - val_loss: 0.1740\n",
      "Epoch 94/100\n",
      " - 0s - train_acc: 0.9994 - train_loss: 0.0102 - val_acc: 0.9487 - val_loss: 0.1671\n",
      "Epoch 95/100\n",
      " - 0s - train_acc: 0.9994 - train_loss: 0.0075 - val_acc: 0.9490 - val_loss: 0.1732\n",
      "Epoch 96/100\n",
      " - 0s - train_acc: 0.9997 - train_loss: 0.0066 - val_acc: 0.9484 - val_loss: 0.1698\n",
      "Epoch 97/100\n",
      " - 0s - train_acc: 0.9997 - train_loss: 0.0058 - val_acc: 0.9484 - val_loss: 0.1680\n",
      "Epoch 98/100\n",
      " - 0s - train_acc: 0.9997 - train_loss: 0.0048 - val_acc: 0.9491 - val_loss: 0.1673\n",
      "Epoch 99/100\n",
      " - 0s - train_acc: 0.9994 - train_loss: 0.0052 - val_acc: 0.9476 - val_loss: 0.1757\n",
      "Epoch 100/100\n",
      " - 0s - train_acc: 1.0000 - train_loss: 0.0047 - val_acc: 0.9498 - val_loss: 0.1688\n"
     ]
    }
   ],
   "source": [
    "history = model.fit(iter_, X_train, y_train_one_hot, EPOCHS, STEPS_PER_EPOCH, BATCH_SIZE, \n",
    "                    validation=(X_test, y_test_one_hot), test_model=test_model)"
   ]
  },
  {
   "cell_type": "code",
   "execution_count": 12,
   "metadata": {},
   "outputs": [
    {
     "data": {
      "image/png": "[encoded data removed]",
      "text/plain": [
       "<Figure size 432x288 with 1 Axes>"
      ]
     },
     "metadata": {
      "needs_background": "light"
     },
     "output_type": "display_data"
    }
   ],
   "source": [
    "plt.plot(history['train_acc'])\n",
    "plt.plot(history['val_acc'])\n",
    "plt.show()"
   ]
  },
  {
   "cell_type": "code",
   "execution_count": 13,
   "metadata": {},
   "outputs": [],
   "source": [
    "import pickle\n",
    "\n",
    "with open(\"baseline-history-3.pkl\",\"wb\") as f:\n",
    "    pickle.dump(history, f)"
   ]
  },
  {
   "cell_type": "code",
   "execution_count": 22,
   "metadata": {},
   "outputs": [],
   "source": [
    "with open('baseline-history.pkl', 'rb') as f:\n",
    "    data = pickle.load(f)"
   ]
  },
  {
   "cell_type": "code",
   "execution_count": 23,
   "metadata": {},
   "outputs": [
    {
     "data": {
      "text/plain": [
       "{'train_acc': [0.84375,\n",
       "  0.9375,\n",
       "  0.875,\n",
       "  0.9375,\n",
       "  0.90625,\n",
       "  0.96875,\n",
       "  1.0,\n",
       "  0.96875,\n",
       "  0.96875,\n",
       "  0.96875,\n",
       "  0.96875,\n",
       "  1.0,\n",
       "  1.0,\n",
       "  1.0,\n",
       "  0.96875,\n",
       "  1.0,\n",
       "  1.0,\n",
       "  0.96875,\n",
       "  1.0,\n",
       "  0.90625,\n",
       "  0.96875,\n",
       "  0.9375,\n",
       "  1.0,\n",
       "  1.0,\n",
       "  1.0,\n",
       "  1.0,\n",
       "  1.0,\n",
       "  1.0,\n",
       "  1.0,\n",
       "  0.90625,\n",
       "  1.0,\n",
       "  1.0,\n",
       "  1.0,\n",
       "  1.0,\n",
       "  1.0,\n",
       "  1.0,\n",
       "  1.0,\n",
       "  1.0,\n",
       "  1.0,\n",
       "  1.0,\n",
       "  1.0,\n",
       "  1.0,\n",
       "  1.0,\n",
       "  1.0,\n",
       "  1.0,\n",
       "  1.0,\n",
       "  1.0,\n",
       "  1.0,\n",
       "  1.0,\n",
       "  1.0,\n",
       "  1.0,\n",
       "  1.0,\n",
       "  1.0,\n",
       "  1.0,\n",
       "  1.0,\n",
       "  1.0,\n",
       "  0.9375,\n",
       "  0.96875,\n",
       "  1.0,\n",
       "  1.0,\n",
       "  1.0,\n",
       "  1.0,\n",
       "  1.0,\n",
       "  1.0,\n",
       "  1.0,\n",
       "  1.0,\n",
       "  1.0,\n",
       "  1.0,\n",
       "  1.0,\n",
       "  1.0,\n",
       "  1.0,\n",
       "  1.0,\n",
       "  1.0,\n",
       "  1.0,\n",
       "  1.0,\n",
       "  1.0,\n",
       "  1.0,\n",
       "  1.0,\n",
       "  1.0,\n",
       "  1.0,\n",
       "  1.0,\n",
       "  1.0,\n",
       "  1.0,\n",
       "  1.0,\n",
       "  1.0,\n",
       "  0.9375,\n",
       "  0.96875,\n",
       "  1.0,\n",
       "  1.0,\n",
       "  1.0,\n",
       "  1.0,\n",
       "  1.0,\n",
       "  1.0,\n",
       "  1.0,\n",
       "  1.0,\n",
       "  1.0,\n",
       "  1.0,\n",
       "  1.0,\n",
       "  1.0,\n",
       "  1.0],\n",
       " 'train_loss': [0.8986679,\n",
       "  0.6232755,\n",
       "  0.73987865,\n",
       "  0.383486,\n",
       "  0.47834414,\n",
       "  0.37789997,\n",
       "  0.2119155,\n",
       "  0.3483417,\n",
       "  0.24298589,\n",
       "  0.240397,\n",
       "  0.20440511,\n",
       "  0.18943535,\n",
       "  0.16565984,\n",
       "  0.15889521,\n",
       "  0.2774533,\n",
       "  0.14371346,\n",
       "  0.07806873,\n",
       "  0.22147125,\n",
       "  0.06822225,\n",
       "  0.36222637,\n",
       "  0.098600514,\n",
       "  0.38013363,\n",
       "  0.08263106,\n",
       "  0.08724354,\n",
       "  0.053660713,\n",
       "  0.04623505,\n",
       "  0.052796215,\n",
       "  0.038585022,\n",
       "  0.06509949,\n",
       "  0.29470485,\n",
       "  0.054447833,\n",
       "  0.07945535,\n",
       "  0.021340411,\n",
       "  0.020517386,\n",
       "  0.051783618,\n",
       "  0.032047722,\n",
       "  0.024908766,\n",
       "  0.03290699,\n",
       "  0.043214984,\n",
       "  0.047794163,\n",
       "  0.019519677,\n",
       "  0.040998418,\n",
       "  0.029880166,\n",
       "  0.030665956,\n",
       "  0.011580433,\n",
       "  0.011923638,\n",
       "  0.015438821,\n",
       "  0.008583259,\n",
       "  0.027990071,\n",
       "  0.009626038,\n",
       "  0.021004796,\n",
       "  0.012159325,\n",
       "  0.016235508,\n",
       "  0.012942594,\n",
       "  0.009648962,\n",
       "  0.018507924,\n",
       "  0.11969715,\n",
       "  0.07936755,\n",
       "  0.024681646,\n",
       "  0.04499949,\n",
       "  0.020936519,\n",
       "  0.015412933,\n",
       "  0.013219856,\n",
       "  0.074343264,\n",
       "  0.008721452,\n",
       "  0.004617379,\n",
       "  0.005255241,\n",
       "  0.012128137,\n",
       "  0.006562197,\n",
       "  0.006395358,\n",
       "  0.02703504,\n",
       "  0.009491021,\n",
       "  0.010478095,\n",
       "  0.0022981013,\n",
       "  0.0037594992,\n",
       "  0.0020317594,\n",
       "  0.0048957625,\n",
       "  0.002505642,\n",
       "  0.0020265975,\n",
       "  0.008746574,\n",
       "  0.0021663054,\n",
       "  0.0043853763,\n",
       "  0.0066775265,\n",
       "  0.0092470925,\n",
       "  0.0032065767,\n",
       "  0.20101076,\n",
       "  0.20312507,\n",
       "  0.01846558,\n",
       "  0.007991297,\n",
       "  0.0083531225,\n",
       "  0.0041425833,\n",
       "  0.04611143,\n",
       "  0.010334164,\n",
       "  0.0017971784,\n",
       "  0.00860198,\n",
       "  0.003933753,\n",
       "  0.0021072775,\n",
       "  0.0037947167,\n",
       "  0.0070044356,\n",
       "  0.0017027482],\n",
       " 'val_acc': [0.8915,\n",
       "  0.9125,\n",
       "  0.9212,\n",
       "  0.929,\n",
       "  0.9322,\n",
       "  0.9371,\n",
       "  0.9373,\n",
       "  0.9401,\n",
       "  0.9434,\n",
       "  0.9438,\n",
       "  0.9444,\n",
       "  0.9421,\n",
       "  0.9462,\n",
       "  0.9444,\n",
       "  0.9457,\n",
       "  0.9456,\n",
       "  0.9468,\n",
       "  0.9461,\n",
       "  0.9472,\n",
       "  0.9482,\n",
       "  0.948,\n",
       "  0.9473,\n",
       "  0.9473,\n",
       "  0.9495,\n",
       "  0.9462,\n",
       "  0.9469,\n",
       "  0.9484,\n",
       "  0.9446,\n",
       "  0.9473,\n",
       "  0.9483,\n",
       "  0.9419,\n",
       "  0.9489,\n",
       "  0.9488,\n",
       "  0.9481,\n",
       "  0.9476,\n",
       "  0.95,\n",
       "  0.9461,\n",
       "  0.9483,\n",
       "  0.9481,\n",
       "  0.949,\n",
       "  0.9513,\n",
       "  0.9512,\n",
       "  0.9504,\n",
       "  0.9497,\n",
       "  0.9496,\n",
       "  0.9506,\n",
       "  0.9484,\n",
       "  0.9506,\n",
       "  0.951,\n",
       "  0.9511,\n",
       "  0.9451,\n",
       "  0.9473,\n",
       "  0.9501,\n",
       "  0.9509,\n",
       "  0.9493,\n",
       "  0.9371,\n",
       "  0.9307,\n",
       "  0.945,\n",
       "  0.9455,\n",
       "  0.9471,\n",
       "  0.9489,\n",
       "  0.952,\n",
       "  0.951,\n",
       "  0.9531,\n",
       "  0.9529,\n",
       "  0.9525,\n",
       "  0.9543,\n",
       "  0.9534,\n",
       "  0.9526,\n",
       "  0.9517,\n",
       "  0.952,\n",
       "  0.9522,\n",
       "  0.9522,\n",
       "  0.9541,\n",
       "  0.9531,\n",
       "  0.953,\n",
       "  0.953,\n",
       "  0.9531,\n",
       "  0.9527,\n",
       "  0.9528,\n",
       "  0.9521,\n",
       "  0.9516,\n",
       "  0.9503,\n",
       "  0.9483,\n",
       "  0.9509,\n",
       "  0.952,\n",
       "  0.9347,\n",
       "  0.9469,\n",
       "  0.9501,\n",
       "  0.9474,\n",
       "  0.9493,\n",
       "  0.9512,\n",
       "  0.95,\n",
       "  0.9527,\n",
       "  0.9535,\n",
       "  0.9537,\n",
       "  0.9534,\n",
       "  0.9541,\n",
       "  0.948,\n",
       "  0.9523],\n",
       " 'val_loss': [0.7620346,\n",
       "  0.6242805,\n",
       "  0.5491507,\n",
       "  0.48013246,\n",
       "  0.4429187,\n",
       "  0.40223515,\n",
       "  0.37282288,\n",
       "  0.3472401,\n",
       "  0.32713374,\n",
       "  0.30510786,\n",
       "  0.29037672,\n",
       "  0.2872514,\n",
       "  0.26963785,\n",
       "  0.26517713,\n",
       "  0.25722712,\n",
       "  0.24417605,\n",
       "  0.24123427,\n",
       "  0.23394994,\n",
       "  0.2308013,\n",
       "  0.22307205,\n",
       "  0.2174794,\n",
       "  0.21731699,\n",
       "  0.21990474,\n",
       "  0.20659922,\n",
       "  0.2072861,\n",
       "  0.20814097,\n",
       "  0.19978656,\n",
       "  0.2143295,\n",
       "  0.20049751,\n",
       "  0.1936133,\n",
       "  0.22353144,\n",
       "  0.19514231,\n",
       "  0.19016907,\n",
       "  0.18821514,\n",
       "  0.1905243,\n",
       "  0.1847434,\n",
       "  0.19330455,\n",
       "  0.19301298,\n",
       "  0.18531498,\n",
       "  0.18259464,\n",
       "  0.17875682,\n",
       "  0.17889373,\n",
       "  0.17761733,\n",
       "  0.18348666,\n",
       "  0.1782726,\n",
       "  0.1756615,\n",
       "  0.18261883,\n",
       "  0.17589575,\n",
       "  0.17688465,\n",
       "  0.17668517,\n",
       "  0.19464014,\n",
       "  0.18486577,\n",
       "  0.17644419,\n",
       "  0.17495759,\n",
       "  0.1809876,\n",
       "  0.22191678,\n",
       "  0.23542525,\n",
       "  0.19826025,\n",
       "  0.18491267,\n",
       "  0.18284634,\n",
       "  0.17803176,\n",
       "  0.17574675,\n",
       "  0.16994055,\n",
       "  0.16748708,\n",
       "  0.16844608,\n",
       "  0.16861336,\n",
       "  0.16579466,\n",
       "  0.16724367,\n",
       "  0.16580957,\n",
       "  0.17213987,\n",
       "  0.16794509,\n",
       "  0.16870262,\n",
       "  0.167489,\n",
       "  0.16654395,\n",
       "  0.16659231,\n",
       "  0.16888028,\n",
       "  0.16722439,\n",
       "  0.16743074,\n",
       "  0.16737947,\n",
       "  0.1674163,\n",
       "  0.16840251,\n",
       "  0.16878267,\n",
       "  0.17418641,\n",
       "  0.17890383,\n",
       "  0.17259409,\n",
       "  0.16764909,\n",
       "  0.23172249,\n",
       "  0.19002765,\n",
       "  0.18272695,\n",
       "  0.19176239,\n",
       "  0.18521155,\n",
       "  0.17653416,\n",
       "  0.17773291,\n",
       "  0.1698388,\n",
       "  0.1688795,\n",
       "  0.16689597,\n",
       "  0.16810887,\n",
       "  0.16942154,\n",
       "  0.18889123,\n",
       "  0.17678323]}"
      ]
     },
     "execution_count": 23,
     "metadata": {},
     "output_type": "execute_result"
    }
   ],
   "source": [
    "data"
   ]
  },
  {
   "cell_type": "markdown",
   "metadata": {},
   "source": [
    "## Model Ensemble"
   ]
  },
  {
   "cell_type": "code",
   "execution_count": 66,
   "metadata": {},
   "outputs": [
    {
     "name": "stdout",
     "output_type": "stream",
     "text": [
      "INFO:tensorflow:Restoring parameters from ./models/mnist_5/ckpt\n",
      "INFO:tensorflow:Restoring parameters from ./models/mnist_2/ckpt\n",
      "INFO:tensorflow:Restoring parameters from ./models/mnist_1/ckpt\n",
      "INFO:tensorflow:Restoring parameters from ./models/mnist_4/ckpt\n"
     ]
    }
   ],
   "source": [
    "test_outputs = []\n",
    "test_losses = []\n",
    "test_accs = []\n",
    "\n",
    "num_models = 4\n",
    "graphs = [tf.Graph() for _ in range(5)]\n",
    "sessions = [tf.Session(graph=g) for g in graphs]\n",
    "\n",
    "for i in np.random.choice(5, num_models, replace=False): # range(len(graphs)):\n",
    "    with graphs[i].as_default():\n",
    "        model_path = './models/mnist-{}_{}'.format(architecture, i + 1)\n",
    "        meta_path = os.path.join(model_path, 'ckpt.meta')\n",
    "        ckpt = tf.train.get_checkpoint_state(model_path)\n",
    "        \n",
    "        imported_graph = tf.train.import_meta_graph(meta_path)\n",
    "        imported_graph.restore(sessions[i], ckpt.model_checkpoint_path)\n",
    "                \n",
    "        sessions[i].run('test_init_op', feed_dict={'batch_size:0': len(X_test)})\n",
    "        \n",
    "        output, loss, acc = sessions[i].run(['model_%d'%(i+1)+'/'+'output:0', \n",
    "                                             'loss:0', 'acc:0'])\n",
    "        test_outputs.append(output)\n",
    "        test_losses.append(loss)\n",
    "        test_accs.append(acc)"
   ]
  },
  {
   "cell_type": "code",
   "execution_count": 67,
   "metadata": {},
   "outputs": [
    {
     "data": {
      "text/plain": [
       "[0.944, 0.9465, 0.9472, 0.9471]"
      ]
     },
     "execution_count": 67,
     "metadata": {},
     "output_type": "execute_result"
    }
   ],
   "source": [
    "test_accs"
   ]
  },
  {
   "cell_type": "code",
   "execution_count": 68,
   "metadata": {},
   "outputs": [],
   "source": [
    "def compute_acc(pred, labels_one_hot):\n",
    "    pred_max = tf.keras.utils.to_categorical(np.argmax(pred, axis=-1), num_classes)\n",
    "    return np.mean(np.sum(labels_one_hot*pred_max, axis=1))"
   ]
  },
  {
   "cell_type": "code",
   "execution_count": 69,
   "metadata": {},
   "outputs": [],
   "source": [
    "for i in range(num_models):\n",
    "    assert compute_acc(test_outputs[i], y_test_one_hot) == test_accs[i]"
   ]
  },
  {
   "cell_type": "markdown",
   "metadata": {},
   "source": [
    "### Average Predictions Before Softmax"
   ]
  },
  {
   "cell_type": "code",
   "execution_count": 70,
   "metadata": {},
   "outputs": [],
   "source": [
    "before_mean_output = np.array(test_outputs).mean(axis=0)\n",
    "before_mean_acc = compute_acc(softmax(before_mean_output, axis=-1), y_test_one_hot)"
   ]
  },
  {
   "cell_type": "code",
   "execution_count": 71,
   "metadata": {},
   "outputs": [
    {
     "name": "stdout",
     "output_type": "stream",
     "text": [
      "0.9536\n"
     ]
    }
   ],
   "source": [
    "print(before_mean_acc)"
   ]
  },
  {
   "cell_type": "markdown",
   "metadata": {},
   "source": [
    "### Average Predictions After Softmax"
   ]
  },
  {
   "cell_type": "code",
   "execution_count": 72,
   "metadata": {},
   "outputs": [],
   "source": [
    "after_mean_output = softmax(np.array(test_outputs), axis=-1).mean(axis=0)\n",
    "after_mean_acc = compute_acc(softmax(after_mean_output, axis=-1), y_test_one_hot)"
   ]
  },
  {
   "cell_type": "code",
   "execution_count": 73,
   "metadata": {},
   "outputs": [
    {
     "name": "stdout",
     "output_type": "stream",
     "text": [
      "0.9539\n"
     ]
    }
   ],
   "source": [
    "print(after_mean_acc)"
   ]
  },
  {
   "cell_type": "markdown",
   "metadata": {},
   "source": [
    "## Feature Visualization"
   ]
  },
  {
   "cell_type": "code",
   "execution_count": 18,
   "metadata": {},
   "outputs": [
    {
     "name": "stdout",
     "output_type": "stream",
     "text": [
      "INFO:tensorflow:Restoring parameters from models/mnist-cnn_1/ckpt\n"
     ]
    }
   ],
   "source": [
    "with tf.Session() as sess:\n",
    "    model_path = os.path.join('models', 'mnist-{}_{}'.format(architecture,model_id))\n",
    "    meta_path = os.path.join(model_path, 'ckpt.meta')\n",
    "    ckpt = tf.train.get_checkpoint_state(model_path)\n",
    "\n",
    "    imported_graph = tf.train.import_meta_graph(meta_path)\n",
    "    imported_graph.restore(sess, ckpt.model_checkpoint_path)\n",
    "\n",
    "    sample_size = 250\n",
    "    sess.run('test_init_op', feed_dict={'batch_size:0':sample_size})\n",
    "    X_test_samples, y_test_samples, features = sess.run(['input:0', 'input:1', \n",
    "                                                         'model_'+str(model_id)+'/output:0'])"
   ]
  },
  {
   "cell_type": "code",
   "execution_count": 23,
   "metadata": {},
   "outputs": [
    {
     "name": "stdout",
     "output_type": "stream",
     "text": [
      "[t-SNE] Computing 121 nearest neighbors...\n",
      "[t-SNE] Indexed 250 samples in 0.001s...\n",
      "[t-SNE] Computed neighbors for 250 samples in 0.010s...\n",
      "[t-SNE] Computed conditional probabilities for sample 250 / 250\n",
      "[t-SNE] Mean sigma: 5.143837\n",
      "[t-SNE] KL divergence after 250 iterations with early exaggeration: 58.256058\n",
      "[t-SNE] KL divergence after 300 iterations: 0.292163\n",
      "t-SNE done! Time elapsed: 0.5325720310211182 seconds\n"
     ]
    }
   ],
   "source": [
    "start = time.time()\n",
    "tsne = TSNE(n_components=2, verbose=1, perplexity=40, n_iter=300)\n",
    "tsne_results = tsne.fit_transform(features)\n",
    "\n",
    "print('t-SNE done! Time elapsed: {} seconds'.format(time.time()-start))"
   ]
  },
  {
   "cell_type": "code",
   "execution_count": 28,
   "metadata": {},
   "outputs": [],
   "source": [
    "labels = np.argmax(y_test_samples, axis=-1)"
   ]
  },
  {
   "cell_type": "code",
   "execution_count": 29,
   "metadata": {},
   "outputs": [
    {
     "data": {
      "image/png": "[encoded data removed]",
      "text/plain": [
       "<Figure size 432x288 with 2 Axes>"
      ]
     },
     "metadata": {
      "needs_background": "light"
     },
     "output_type": "display_data"
    }
   ],
   "source": [
    "plt.scatter(tsne_results[:,0], tsne_results[:,1], c=labels, cmap=plt.cm.jet)\n",
    "plt.colorbar()\n",
    "plt.show()"
   ]
  },
  {
   "cell_type": "code",
   "execution_count": null,
   "metadata": {},
   "outputs": [],
   "source": []
  }
 ],
 "metadata": {
  "kernelspec": {
   "display_name": "Python 3",
   "language": "python",
   "name": "python3"
  },
  "language_info": {
   "codemirror_mode": {
    "name": "ipython",
    "version": 3
   },
   "file_extension": ".py",
   "mimetype": "text/x-python",
   "name": "python",
   "nbconvert_exporter": "python",
   "pygments_lexer": "ipython3",
   "version": "3.5.6"
  }
 },
 "nbformat": 4,
 "nbformat_minor": 2
}
