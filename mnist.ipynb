{
 "cells": [
  {
   "cell_type": "markdown",
   "metadata": {},
   "source": [
    "# Baseline MNIST"
   ]
  },
  {
   "cell_type": "code",
   "execution_count": 1,
   "metadata": {},
   "outputs": [],
   "source": [
    "import tensorflow as tf\n",
    "import numpy as np\n",
    "import os\n",
    "from scipy.special import softmax\n",
    "import time\n",
    "from sklearn.manifold import TSNE\n",
    "import matplotlib.pyplot as plt"
   ]
  },
  {
   "cell_type": "code",
   "execution_count": 2,
   "metadata": {},
   "outputs": [],
   "source": [
    "import vbranch as vb"
   ]
  },
  {
   "cell_type": "code",
   "execution_count": 3,
   "metadata": {},
   "outputs": [],
   "source": [
    "save = False\n",
    "model_id = 1\n",
    "architecture = 'fcn'"
   ]
  },
  {
   "cell_type": "markdown",
   "metadata": {},
   "source": [
    "## Load Data"
   ]
  },
  {
   "cell_type": "code",
   "execution_count": 4,
   "metadata": {},
   "outputs": [],
   "source": [
    "num_classes = 10\n",
    "(X_train, y_train_one_hot), (X_test, y_test_one_hot) = vb.datasets.mnist.load_data(format=architecture)"
   ]
  },
  {
   "cell_type": "code",
   "execution_count": 5,
   "metadata": {},
   "outputs": [
    {
     "name": "stdout",
     "output_type": "stream",
     "text": [
      "(784,)\n"
     ]
    }
   ],
   "source": [
    "input_shape = X_train.shape[1:]\n",
    "print(input_shape)"
   ]
  },
  {
   "cell_type": "markdown",
   "metadata": {},
   "source": [
    "## Build Model"
   ]
  },
  {
   "cell_type": "code",
   "execution_count": 6,
   "metadata": {},
   "outputs": [],
   "source": [
    "BATCH_SIZE = 32\n",
    "EPOCHS = 15\n",
    "STEPS_PER_EPOCH = 100\n",
    "model_path = './models/mnist-{}_{}'.format(architecture, model_id)"
   ]
  },
  {
   "cell_type": "code",
   "execution_count": 7,
   "metadata": {},
   "outputs": [
    {
     "name": "stdout",
     "output_type": "stream",
     "text": [
      "WARNING:tensorflow:From /home/gong/anaconda3/lib/python3.5/site-packages/tensorflow/python/data/ops/dataset_ops.py:1419: colocate_with (from tensorflow.python.framework.ops) is deprecated and will be removed in a future version.\n",
      "Instructions for updating:\n",
      "Colocations handled automatically by placer.\n"
     ]
    }
   ],
   "source": [
    "tf.reset_default_graph()\n",
    "\n",
    "x = tf.placeholder('float32', (None,) + input_shape, name='x')\n",
    "y = tf.placeholder('float32', [None, num_classes], name='y')\n",
    "\n",
    "batch_size = tf.placeholder('int64', name='batch_size')\n",
    "\n",
    "dataset = tf.data.Dataset.from_tensor_slices((x,y)).\\\n",
    "    batch(batch_size).repeat().\\\n",
    "    shuffle(buffer_size=4*BATCH_SIZE)\n",
    "\n",
    "iter_ = dataset.make_initializable_iterator()\n",
    "inputs, labels_one_hot = iter_.get_next('input')"
   ]
  },
  {
   "cell_type": "code",
   "execution_count": 8,
   "metadata": {},
   "outputs": [],
   "source": [
    "def build_model(architecture, inputs, labels, num_classes,model_id,test=False):\n",
    "    if architecture == 'fcn':\n",
    "        model = vb.simple_fcn(inputs,512,num_classes,\n",
    "            name='model_'+str(model_id))\n",
    "    elif architecture == 'cnn':\n",
    "        model = vb.simple_cnn(inputs,num_classes,16,32,\n",
    "            name='model_'+str(model_id))\n",
    "    else:\n",
    "        raise ValueError('Invalid architecture')\n",
    "\n",
    "    optimizer = tf.train.AdamOptimizer(learning_rate=0.001)\n",
    "    model.compile(optimizer, 'softmax_cross_entropy_with_logits',\n",
    "                    labels_one_hot=labels, test=test)\n",
    "    model.summary()\n",
    "    return model"
   ]
  },
  {
   "cell_type": "code",
   "execution_count": 9,
   "metadata": {},
   "outputs": [
    {
     "name": "stdout",
     "output_type": "stream",
     "text": [
      "WARNING:tensorflow:From /home/gong/anaconda3/lib/python3.5/site-packages/tensorflow/python/ops/math_ops.py:3066: to_int32 (from tensorflow.python.ops.math_ops) is deprecated and will be removed in a future version.\n",
      "Instructions for updating:\n",
      "Use tf.cast instead.\n",
      "i  Layer name  Output shape  Parameters        Num param  Inbound  \n",
      "-------------------------------------------------------------------\n",
      "   Input       [None,784]                                          \n",
      "-------------------------------------------------------------------\n",
      "0  fc1         [None,512]    [784,512] [512]   401920     input:0  \n",
      "-------------------------------------------------------------------\n",
      "1  bn1         [None,512]    [512] [512]       1024       fc1      \n",
      "-------------------------------------------------------------------\n",
      "2  relu1       [None,512]                      0          bn1      \n",
      "-------------------------------------------------------------------\n",
      "3  output      [None,10]     [512,10] [10]     5130       relu1    \n",
      "-------------------------------------------------------------------\n",
      "Total parameters: 408074\n"
     ]
    }
   ],
   "source": [
    "model = build_model(architecture, inputs, labels_one_hot, num_classes, model_id)"
   ]
  },
  {
   "cell_type": "code",
   "execution_count": 10,
   "metadata": {},
   "outputs": [
    {
     "name": "stdout",
     "output_type": "stream",
     "text": [
      "i  Layer name  Output shape  Parameters        Num param  Inbound   \n",
      "--------------------------------------------------------------------\n",
      "   Input       [None,784]                                           \n",
      "--------------------------------------------------------------------\n",
      "0  fc1         [None,512]    [784,512] [512]   401920     x_test:0  \n",
      "--------------------------------------------------------------------\n",
      "1  bn1         [None,512]    [512] [512]       1024       fc1       \n",
      "--------------------------------------------------------------------\n",
      "2  relu1       [None,512]                      0          bn1       \n",
      "--------------------------------------------------------------------\n",
      "3  output      [None,10]     [512,10] [10]     5130       relu1     \n",
      "--------------------------------------------------------------------\n",
      "Total parameters: 408074\n"
     ]
    }
   ],
   "source": [
    "# Build copy of model for testing\n",
    "x_test = tf.placeholder('float32', (None,) + input_shape, name='x_test')\n",
    "y_test = tf.placeholder('float32', [None, num_classes], name='y_test')\n",
    "test_model = build_model(architecture, x_test, y_test,num_classes,model_id, test=True)"
   ]
  },
  {
   "cell_type": "code",
   "execution_count": 11,
   "metadata": {},
   "outputs": [
    {
     "name": "stdout",
     "output_type": "stream",
     "text": [
      "Epoch 1/15\n",
      " - 1s - train_loss: 0.4782 - train_acc: 0.8588 - val_acc: 0.9151 - val_loss: 0.2851\n",
      "Epoch 2/15\n",
      " - 1s - train_loss: 0.2110 - train_acc: 0.9456 - val_acc: 0.9227 - val_loss: 0.2514\n",
      "Epoch 3/15\n",
      " - 1s - train_loss: 0.1635 - train_acc: 0.9566 - val_acc: 0.9271 - val_loss: 0.2300\n",
      "Epoch 4/15\n",
      " - 1s - train_loss: 0.1142 - train_acc: 0.9691 - val_acc: 0.9332 - val_loss: 0.2172\n",
      "Epoch 5/15\n",
      " - 1s - train_loss: 0.0819 - train_acc: 0.9828 - val_acc: 0.9392 - val_loss: 0.2043\n",
      "Epoch 6/15\n",
      " - 1s - train_loss: 0.0640 - train_acc: 0.9862 - val_acc: 0.9383 - val_loss: 0.2053\n",
      "Epoch 7/15\n",
      " - 1s - train_loss: 0.0536 - train_acc: 0.9894 - val_acc: 0.9376 - val_loss: 0.2067\n",
      "Epoch 8/15\n",
      " - 1s - train_loss: 0.0373 - train_acc: 0.9934 - val_acc: 0.9420 - val_loss: 0.1904\n",
      "Epoch 9/15\n",
      " - 1s - train_loss: 0.0349 - train_acc: 0.9934 - val_acc: 0.9402 - val_loss: 0.1960\n",
      "Epoch 10/15\n",
      " - 1s - train_loss: 0.0178 - train_acc: 0.9981 - val_acc: 0.9452 - val_loss: 0.1817\n",
      "Epoch 11/15\n",
      " - 1s - train_loss: 0.0223 - train_acc: 0.9981 - val_acc: 0.9419 - val_loss: 0.1928\n",
      "Epoch 12/15\n",
      " - 1s - train_loss: 0.0249 - train_acc: 0.9950 - val_acc: 0.9382 - val_loss: 0.1957\n",
      "Epoch 13/15\n",
      " - 1s - train_loss: 0.0157 - train_acc: 0.9978 - val_acc: 0.9398 - val_loss: 0.2044\n",
      "Epoch 14/15\n",
      " - 1s - train_loss: 0.0121 - train_acc: 0.9988 - val_acc: 0.9437 - val_loss: 0.1823\n",
      "Epoch 15/15\n",
      " - 1s - train_loss: 0.0090 - train_acc: 0.9991 - val_acc: 0.9477 - val_loss: 0.1820\n"
     ]
    }
   ],
   "source": [
    "history = model.fit(iter_, X_train, y_train_one_hot, EPOCHS, STEPS_PER_EPOCH, BATCH_SIZE, \n",
    "                    validation=(X_test, y_test_one_hot), test_model=test_model)"
   ]
  },
  {
   "cell_type": "markdown",
   "metadata": {},
   "source": [
    "## Model Ensemble"
   ]
  },
  {
   "cell_type": "code",
   "execution_count": 66,
   "metadata": {},
   "outputs": [
    {
     "name": "stdout",
     "output_type": "stream",
     "text": [
      "INFO:tensorflow:Restoring parameters from ./models/mnist_5/ckpt\n",
      "INFO:tensorflow:Restoring parameters from ./models/mnist_2/ckpt\n",
      "INFO:tensorflow:Restoring parameters from ./models/mnist_1/ckpt\n",
      "INFO:tensorflow:Restoring parameters from ./models/mnist_4/ckpt\n"
     ]
    }
   ],
   "source": [
    "test_outputs = []\n",
    "test_losses = []\n",
    "test_accs = []\n",
    "\n",
    "num_models = 4\n",
    "graphs = [tf.Graph() for _ in range(5)]\n",
    "sessions = [tf.Session(graph=g) for g in graphs]\n",
    "\n",
    "for i in np.random.choice(5, num_models, replace=False): # range(len(graphs)):\n",
    "    with graphs[i].as_default():\n",
    "        model_path = './models/mnist-{}_{}'.format(architecture, i + 1)\n",
    "        meta_path = os.path.join(model_path, 'ckpt.meta')\n",
    "        ckpt = tf.train.get_checkpoint_state(model_path)\n",
    "        \n",
    "        imported_graph = tf.train.import_meta_graph(meta_path)\n",
    "        imported_graph.restore(sessions[i], ckpt.model_checkpoint_path)\n",
    "                \n",
    "        sessions[i].run('test_init_op', feed_dict={'batch_size:0': len(X_test)})\n",
    "        \n",
    "        output, loss, acc = sessions[i].run(['model_%d'%(i+1)+'/'+'output:0', \n",
    "                                             'loss:0', 'acc:0'])\n",
    "        test_outputs.append(output)\n",
    "        test_losses.append(loss)\n",
    "        test_accs.append(acc)"
   ]
  },
  {
   "cell_type": "code",
   "execution_count": 67,
   "metadata": {},
   "outputs": [
    {
     "data": {
      "text/plain": [
       "[0.944, 0.9465, 0.9472, 0.9471]"
      ]
     },
     "execution_count": 67,
     "metadata": {},
     "output_type": "execute_result"
    }
   ],
   "source": [
    "test_accs"
   ]
  },
  {
   "cell_type": "code",
   "execution_count": 68,
   "metadata": {},
   "outputs": [],
   "source": [
    "def compute_acc(pred, labels_one_hot):\n",
    "    pred_max = tf.keras.utils.to_categorical(np.argmax(pred, axis=-1), num_classes)\n",
    "    return np.mean(np.sum(labels_one_hot*pred_max, axis=1))"
   ]
  },
  {
   "cell_type": "code",
   "execution_count": 69,
   "metadata": {},
   "outputs": [],
   "source": [
    "for i in range(num_models):\n",
    "    assert compute_acc(test_outputs[i], y_test_one_hot) == test_accs[i]"
   ]
  },
  {
   "cell_type": "markdown",
   "metadata": {},
   "source": [
    "### Average Predictions Before Softmax"
   ]
  },
  {
   "cell_type": "code",
   "execution_count": 70,
   "metadata": {},
   "outputs": [],
   "source": [
    "before_mean_output = np.array(test_outputs).mean(axis=0)\n",
    "before_mean_acc = compute_acc(softmax(before_mean_output, axis=-1), y_test_one_hot)"
   ]
  },
  {
   "cell_type": "code",
   "execution_count": 71,
   "metadata": {},
   "outputs": [
    {
     "name": "stdout",
     "output_type": "stream",
     "text": [
      "0.9536\n"
     ]
    }
   ],
   "source": [
    "print(before_mean_acc)"
   ]
  },
  {
   "cell_type": "markdown",
   "metadata": {},
   "source": [
    "### Average Predictions After Softmax"
   ]
  },
  {
   "cell_type": "code",
   "execution_count": 72,
   "metadata": {},
   "outputs": [],
   "source": [
    "after_mean_output = softmax(np.array(test_outputs), axis=-1).mean(axis=0)\n",
    "after_mean_acc = compute_acc(softmax(after_mean_output, axis=-1), y_test_one_hot)"
   ]
  },
  {
   "cell_type": "code",
   "execution_count": 73,
   "metadata": {},
   "outputs": [
    {
     "name": "stdout",
     "output_type": "stream",
     "text": [
      "0.9539\n"
     ]
    }
   ],
   "source": [
    "print(after_mean_acc)"
   ]
  },
  {
   "cell_type": "markdown",
   "metadata": {},
   "source": [
    "## Feature Visualization"
   ]
  },
  {
   "cell_type": "code",
   "execution_count": 18,
   "metadata": {},
   "outputs": [
    {
     "name": "stdout",
     "output_type": "stream",
     "text": [
      "INFO:tensorflow:Restoring parameters from models/mnist-cnn_1/ckpt\n"
     ]
    }
   ],
   "source": [
    "with tf.Session() as sess:\n",
    "    model_path = os.path.join('models', 'mnist-{}_{}'.format(architecture,model_id))\n",
    "    meta_path = os.path.join(model_path, 'ckpt.meta')\n",
    "    ckpt = tf.train.get_checkpoint_state(model_path)\n",
    "\n",
    "    imported_graph = tf.train.import_meta_graph(meta_path)\n",
    "    imported_graph.restore(sess, ckpt.model_checkpoint_path)\n",
    "\n",
    "    sample_size = 250\n",
    "    sess.run('test_init_op', feed_dict={'batch_size:0':sample_size})\n",
    "    X_test_samples, y_test_samples, features = sess.run(['input:0', 'input:1', \n",
    "                                                         'model_'+str(model_id)+'/output:0'])"
   ]
  },
  {
   "cell_type": "code",
   "execution_count": 23,
   "metadata": {},
   "outputs": [
    {
     "name": "stdout",
     "output_type": "stream",
     "text": [
      "[t-SNE] Computing 121 nearest neighbors...\n",
      "[t-SNE] Indexed 250 samples in 0.001s...\n",
      "[t-SNE] Computed neighbors for 250 samples in 0.010s...\n",
      "[t-SNE] Computed conditional probabilities for sample 250 / 250\n",
      "[t-SNE] Mean sigma: 5.143837\n",
      "[t-SNE] KL divergence after 250 iterations with early exaggeration: 58.256058\n",
      "[t-SNE] KL divergence after 300 iterations: 0.292163\n",
      "t-SNE done! Time elapsed: 0.5325720310211182 seconds\n"
     ]
    }
   ],
   "source": [
    "start = time.time()\n",
    "tsne = TSNE(n_components=2, verbose=1, perplexity=40, n_iter=300)\n",
    "tsne_results = tsne.fit_transform(features)\n",
    "\n",
    "print('t-SNE done! Time elapsed: {} seconds'.format(time.time()-start))"
   ]
  },
  {
   "cell_type": "code",
   "execution_count": 28,
   "metadata": {},
   "outputs": [],
   "source": [
    "labels = np.argmax(y_test_samples, axis=-1)"
   ]
  },
  {
   "cell_type": "code",
   "execution_count": 29,
   "metadata": {},
   "outputs": [
    {
     "data": {
      "image/png": "[encoded data removed]",
      "text/plain": [
       "<Figure size 432x288 with 2 Axes>"
      ]
     },
     "metadata": {
      "needs_background": "light"
     },
     "output_type": "display_data"
    }
   ],
   "source": [
    "plt.scatter(tsne_results[:,0], tsne_results[:,1], c=labels, cmap=plt.cm.jet)\n",
    "plt.colorbar()\n",
    "plt.show()"
   ]
  },
  {
   "cell_type": "code",
   "execution_count": null,
   "metadata": {},
   "outputs": [],
   "source": []
  }
 ],
 "metadata": {
  "kernelspec": {
   "display_name": "Python 3",
   "language": "python",
   "name": "python3"
  },
  "language_info": {
   "codemirror_mode": {
    "name": "ipython",
    "version": 3
   },
   "file_extension": ".py",
   "mimetype": "text/x-python",
   "name": "python",
   "nbconvert_exporter": "python",
   "pygments_lexer": "ipython3",
   "version": "3.5.6"
  }
 },
 "nbformat": 4,
 "nbformat_minor": 2
}
