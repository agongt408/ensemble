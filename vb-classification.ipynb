{
 "cells": [
  {
   "cell_type": "markdown",
   "metadata": {},
   "source": [
    "# Classification with Virtual Branching"
   ]
  },
  {
   "cell_type": "code",
   "execution_count": 1,
   "metadata": {},
   "outputs": [],
   "source": [
    "import tensorflow as tf\n",
    "import numpy as np\n",
    "import os\n",
    "from scipy.special import softmax\n",
    "import matplotlib.pyplot as plt\n",
    "import time\n",
    "from sklearn.manifold import TSNE"
   ]
  },
  {
   "cell_type": "code",
   "execution_count": 2,
   "metadata": {},
   "outputs": [],
   "source": [
    "import vbranch as vb\n",
    "from vbranch.utils.training_utils import get_data, bag_samples"
   ]
  },
  {
   "cell_type": "code",
   "execution_count": 3,
   "metadata": {},
   "outputs": [],
   "source": [
    "save = False\n",
    "model_id = 1\n",
    "architecture = 'cnn'"
   ]
  },
  {
   "cell_type": "markdown",
   "metadata": {},
   "source": [
    "## Load Data"
   ]
  },
  {
   "cell_type": "code",
   "execution_count": 4,
   "metadata": {},
   "outputs": [],
   "source": [
    "dataset = 'mnist'\n",
    "num_classes = 10\n",
    "num_features = 784\n",
    "samples_per_class = 100\n",
    "(X_train, y_train), (X_test, y_test) = get_data(dataset, architecture, num_classes,\n",
    "                                                num_features, samples_per_class)"
   ]
  },
  {
   "cell_type": "code",
   "execution_count": 5,
   "metadata": {},
   "outputs": [],
   "source": [
    "x_shape = (None,) + X_train.shape[1:]\n",
    "y_shape = (None, num_classes)"
   ]
  },
  {
   "cell_type": "markdown",
   "metadata": {},
   "source": [
    "## Train"
   ]
  },
  {
   "cell_type": "markdown",
   "metadata": {},
   "source": [
    "### Build Model"
   ]
  },
  {
   "cell_type": "code",
   "execution_count": 6,
   "metadata": {},
   "outputs": [],
   "source": [
    "BATCH_SIZE = 32\n",
    "EPOCHS = 10\n",
    "STEPS_PER_EPOCH = 100\n",
    "NUM_BRANCHES = 2\n",
    "SHARED_FRAC = 0\n",
    "model_path = os.path.join('models', 'vb-{}-{}-B{:d}-S{:.2f}_{:d}'.format(dataset, architecture,\n",
    "    NUM_BRANCHES, SHARED_FRAC, model_id))"
   ]
  },
  {
   "cell_type": "code",
   "execution_count": 7,
   "metadata": {},
   "outputs": [
    {
     "data": {
      "text/plain": [
       "'models/vb-mnist-cnn-B2-S0.00_1'"
      ]
     },
     "execution_count": 7,
     "metadata": {},
     "output_type": "execute_result"
    }
   ],
   "source": [
    "model_path"
   ]
  },
  {
   "cell_type": "code",
   "execution_count": 8,
   "metadata": {},
   "outputs": [],
   "source": [
    "# Perform bagging\n",
    "x_train_list, y_train_list = bag_samples(X_train, y_train, NUM_BRANCHES, max_samples=0.6)"
   ]
  },
  {
   "cell_type": "code",
   "execution_count": 9,
   "metadata": {},
   "outputs": [
    {
     "name": "stdout",
     "output_type": "stream",
     "text": [
      "WARNING:tensorflow:From /home/gong/anaconda3/lib/python3.5/site-packages/tensorflow/python/data/ops/dataset_ops.py:1419: colocate_with (from tensorflow.python.framework.ops) is deprecated and will be removed in a future version.\n",
      "Instructions for updating:\n",
      "Colocations handled automatically by placer.\n"
     ]
    }
   ],
   "source": [
    "tf.reset_default_graph()\n",
    "\n",
    "batch_size = tf.placeholder('int64', name='batch_size')\n",
    "\n",
    "iterators = [None] * NUM_BRANCHES\n",
    "inputs = [None] * NUM_BRANCHES\n",
    "labels_one_hot = [None] * NUM_BRANCHES\n",
    "\n",
    "x_list = []\n",
    "y_list = []\n",
    "\n",
    "for i in range(NUM_BRANCHES):\n",
    "    x = tf.placeholder('float32', x_shape, name='x_vb{:d}'.format(i+1))\n",
    "    y = tf.placeholder('float32', y_shape, name='y_vb{:d}'.format(i+1))\n",
    "    x_list.append(x)\n",
    "    y_list.append(y)\n",
    "    \n",
    "    dataset = tf.data.Dataset.from_tensor_slices((x,y)).\\\n",
    "        repeat().batch(batch_size).shuffle(buffer_size=4*BATCH_SIZE)\n",
    "\n",
    "    iterators[i] = dataset.make_initializable_iterator()\n",
    "    inputs[i], labels_one_hot[i] = iterators[i].get_next('input')"
   ]
  },
  {
   "cell_type": "code",
   "execution_count": 10,
   "metadata": {},
   "outputs": [],
   "source": [
    "def build_model(architecture,inputs,labels, num_classes,num_branches,model_id, shared_frac):\n",
    "    name = 'model_' + str(model_id)\n",
    "    \n",
    "    if shared_frac > 0:\n",
    "        assert type(shared_frac) is float, \\\n",
    "            'shared_frac must be float but is {}'.format(shared_frac)\n",
    "    \n",
    "    with tf.variable_scope(name, reuse=tf.AUTO_REUSE):\n",
    "        if architecture == 'fcn':\n",
    "            model = vb.simple_fcn(inputs, (512, shared_frac),\n",
    "                (num_classes, shared_frac), name=name)\n",
    "        elif architecture == 'cnn':\n",
    "            model = vb.simple_cnn(inputs, (num_classes, 0),\n",
    "                (16, shared_frac), (32, shared_frac), name=name)\n",
    "        else:\n",
    "            raise ValueError('invalid model')\n",
    "            \n",
    "        if type(labels) is list:\n",
    "            labels_list = labels\n",
    "        else:\n",
    "            labels_list = [labels] * num_branches\n",
    "            \n",
    "        optimizer = tf.train.AdamOptimizer(learning_rate=0.001)\n",
    "        model.compile(optimizer, 'softmax_cross_entropy_with_logits',\n",
    "                        labels_one_hot=labels_list)\n",
    "\n",
    "    return model"
   ]
  },
  {
   "cell_type": "code",
   "execution_count": 11,
   "metadata": {},
   "outputs": [
    {
     "name": "stdout",
     "output_type": "stream",
     "text": [
      "WARNING:tensorflow:From /home/gong/anaconda3/lib/python3.5/site-packages/tensorflow/python/ops/math_ops.py:3066: to_int32 (from tensorflow.python.ops.math_ops) is deprecated and will be removed in a future version.\n",
      "Instructions for updating:\n",
      "Use tf.cast instead.\n"
     ]
    }
   ],
   "source": [
    "model = build_model(architecture, inputs, labels_one_hot, num_classes,\n",
    "                    NUM_BRANCHES, model_id, SHARED_FRAC)"
   ]
  },
  {
   "cell_type": "code",
   "execution_count": 12,
   "metadata": {},
   "outputs": [
    {
     "name": "stdout",
     "output_type": "stream",
     "text": [
      "i   Layer name                      Output shape     Num param  Inbound            \n",
      "-----------------------------------------------------------------------------------\n",
      "    Input                           [None,28,28,1]                                 \n",
      "-----------------------------------------------------------------------------------\n",
      "    Input                           [None,28,28,1]                                 \n",
      "-----------------------------------------------------------------------------------\n",
      "0   conv2d_1_1 (Conv2D)             [None,26,26,16]  320        input              \n",
      "                                    [None,26,26,16]                                \n",
      "-----------------------------------------------------------------------------------\n",
      "1   bn_1_1 (BatchNormalization)     [None,26,26,16]  64         conv2d_1_1         \n",
      "                                    [None,26,26,16]                                \n",
      "-----------------------------------------------------------------------------------\n",
      "2   relu_1_1 (Activation)           [None,26,26,16]  0          bn_1_1             \n",
      "                                    [None,26,26,16]                                \n",
      "-----------------------------------------------------------------------------------\n",
      "3   conv2d_1_2 (Conv2D)             [None,24,24,16]  4640       relu_1_1           \n",
      "                                    [None,24,24,16]                                \n",
      "-----------------------------------------------------------------------------------\n",
      "4   bn_1_2 (BatchNormalization)     [None,24,24,16]  64         conv2d_1_2         \n",
      "                                    [None,24,24,16]                                \n",
      "-----------------------------------------------------------------------------------\n",
      "5   relu_1_2 (Activation)           [None,24,24,16]  0          bn_1_2             \n",
      "                                    [None,24,24,16]                                \n",
      "-----------------------------------------------------------------------------------\n",
      "6   avg_pool2d_1 (AveragePooling2D  [None,12,12,16]  0          relu_1_2           \n",
      "                                    [None,12,12,16]                                \n",
      "-----------------------------------------------------------------------------------\n",
      "7   conv2d_2_1 (Conv2D)             [None,10,10,32]  9280       avg_pool2d_1       \n",
      "                                    [None,10,10,32]                                \n",
      "-----------------------------------------------------------------------------------\n",
      "8   bn_2_1 (BatchNormalization)     [None,10,10,32]  128        conv2d_2_1         \n",
      "                                    [None,10,10,32]                                \n",
      "-----------------------------------------------------------------------------------\n",
      "9   relu_2_1 (Activation)           [None,10,10,32]  0          bn_2_1             \n",
      "                                    [None,10,10,32]                                \n",
      "-----------------------------------------------------------------------------------\n",
      "10  conv2d_2_2 (Conv2D)             [None,8,8,32]    18496      relu_2_1           \n",
      "                                    [None,8,8,32]                                  \n",
      "-----------------------------------------------------------------------------------\n",
      "11  bn_2_2 (BatchNormalization)     [None,8,8,32]    128        conv2d_2_2         \n",
      "                                    [None,8,8,32]                                  \n",
      "-----------------------------------------------------------------------------------\n",
      "12  relu_2_2 (Activation)           [None,8,8,32]    0          bn_2_2             \n",
      "                                    [None,8,8,32]                                  \n",
      "-----------------------------------------------------------------------------------\n",
      "13  global_avg_pool2d (GlobalAvera  [None,32]        0          relu_2_2           \n",
      "                                    [None,32]                                      \n",
      "-----------------------------------------------------------------------------------\n",
      "14  fc1 (Dense)                     [None,32]        2112       global_avg_pool2d  \n",
      "                                    [None,32]                                      \n",
      "-----------------------------------------------------------------------------------\n",
      "15  bn_fc1 (BatchNormalization)     [None,32]        128        fc1                \n",
      "                                    [None,32]                                      \n",
      "-----------------------------------------------------------------------------------\n",
      "16  relu_fc1 (Activation)           [None,32]        0          bn_fc1             \n",
      "                                    [None,32]                                      \n",
      "-----------------------------------------------------------------------------------\n",
      "17  output (Dense)                  [None,10]        660        relu_fc1           \n",
      "                                    [None,10]                                      \n",
      "-----------------------------------------------------------------------------------\n",
      "Total parameters: 36020\n"
     ]
    }
   ],
   "source": [
    "model.summary()"
   ]
  },
  {
   "cell_type": "code",
   "execution_count": 13,
   "metadata": {},
   "outputs": [
    {
     "name": "stdout",
     "output_type": "stream",
     "text": [
      "[<tf.Tensor 'model_1/output/vb1/output:0' shape=(?, 10) dtype=float32>, <tf.Tensor 'model_1/output/vb2/output:0' shape=(?, 10) dtype=float32>]\n"
     ]
    }
   ],
   "source": [
    "print(model.output)"
   ]
  },
  {
   "cell_type": "code",
   "execution_count": 14,
   "metadata": {},
   "outputs": [],
   "source": [
    "# Build copy of model for testing\n",
    "x_place = tf.placeholder('float32', x_shape, name='x_test')\n",
    "y_place = tf.placeholder('float32', y_shape, name='y_test')\n",
    "\n",
    "model_copy = build_model(architecture, [x_place]*NUM_BRANCHES, y_place, num_classes,\n",
    "                         NUM_BRANCHES, model_id, SHARED_FRAC)"
   ]
  },
  {
   "cell_type": "code",
   "execution_count": 15,
   "metadata": {},
   "outputs": [],
   "source": [
    "# test_model.summary()"
   ]
  },
  {
   "cell_type": "code",
   "execution_count": 16,
   "metadata": {},
   "outputs": [],
   "source": [
    "# tf.global_variables()\n",
    "# tf.get_default_graph().get_operations()"
   ]
  },
  {
   "cell_type": "code",
   "execution_count": 17,
   "metadata": {},
   "outputs": [
    {
     "name": "stdout",
     "output_type": "stream",
     "text": [
      "[<tf.Tensor 'model_1_1/output/vb1/output:0' shape=(?, 10) dtype=float32>, <tf.Tensor 'model_1_1/output/vb2/output:0' shape=(?, 10) dtype=float32>]\n"
     ]
    }
   ],
   "source": [
    "print(model_copy.output)"
   ]
  },
  {
   "cell_type": "markdown",
   "metadata": {},
   "source": [
    "### Fit"
   ]
  },
  {
   "cell_type": "code",
   "execution_count": 18,
   "metadata": {
    "scrolled": false
   },
   "outputs": [
    {
     "name": "stdout",
     "output_type": "stream",
     "text": [
      "Epoch 1/10\n",
      " - 3s - train_loss_2: 1.3427 - train_acc_2: 0.6188 - train_acc_ensemble: 0.3622 - train_loss_1: 1.3853 - train_acc_1: 0.6150 - val_acc_1: 0.8922 - val_acc_ensemble: 0.9166 - val_loss_2: 0.6654 - val_acc_2: 0.8849 - val_loss_1: 0.6776\n",
      "Epoch 2/10\n",
      " - 1s - train_loss_2: 0.5601 - train_acc_2: 0.8819 - train_acc_ensemble: 0.4838 - train_loss_1: 0.5744 - train_acc_1: 0.8781 - val_acc_1: 0.9362 - val_acc_ensemble: 0.9536 - val_loss_2: 0.3311 - val_acc_2: 0.9346 - val_loss_1: 0.3392\n",
      "Epoch 3/10\n",
      " - 1s - train_loss_2: 0.3556 - train_acc_2: 0.9181 - train_acc_ensemble: 0.5081 - train_loss_1: 0.3456 - train_acc_1: 0.9222 - val_acc_1: 0.9543 - val_acc_ensemble: 0.9659 - val_loss_2: 0.2343 - val_acc_2: 0.9504 - val_loss_1: 0.2193\n",
      "Epoch 4/10\n",
      " - 1s - train_loss_2: 0.2614 - train_acc_2: 0.9394 - train_acc_ensemble: 0.5147 - train_loss_1: 0.2452 - train_acc_1: 0.9450 - val_acc_1: 0.9610 - val_acc_ensemble: 0.9691 - val_loss_2: 0.1744 - val_acc_2: 0.9600 - val_loss_1: 0.1742\n",
      "Epoch 5/10\n",
      " - 1s - train_loss_2: 0.2205 - train_acc_2: 0.9478 - train_acc_ensemble: 0.5431 - train_loss_1: 0.1911 - train_acc_1: 0.9531 - val_acc_1: 0.9671 - val_acc_ensemble: 0.9721 - val_loss_2: 0.1680 - val_acc_2: 0.9574 - val_loss_1: 0.1361\n",
      "Epoch 6/10\n",
      " - 1s - train_loss_2: 0.1647 - train_acc_2: 0.9600 - train_acc_ensemble: 0.5209 - train_loss_1: 0.1623 - train_acc_1: 0.9647 - val_acc_1: 0.9620 - val_acc_ensemble: 0.9709 - val_loss_2: 0.1396 - val_acc_2: 0.9617 - val_loss_1: 0.1433\n",
      "Epoch 7/10\n",
      " - 1s - train_loss_2: 0.1480 - train_acc_2: 0.9594 - train_acc_ensemble: 0.5244 - train_loss_1: 0.1268 - train_acc_1: 0.9728 - val_acc_1: 0.9684 - val_acc_ensemble: 0.9739 - val_loss_2: 0.1414 - val_acc_2: 0.9604 - val_loss_1: 0.1203\n",
      "Epoch 8/10\n",
      " - 1s - train_loss_2: 0.1202 - train_acc_2: 0.9681 - train_acc_ensemble: 0.5169 - train_loss_1: 0.1258 - train_acc_1: 0.9688 - val_acc_1: 0.9654 - val_acc_ensemble: 0.9748 - val_loss_2: 0.1257 - val_acc_2: 0.9625 - val_loss_1: 0.1196\n",
      "Epoch 9/10\n",
      " - 1s - train_loss_2: 0.1056 - train_acc_2: 0.9712 - train_acc_ensemble: 0.5156 - train_loss_1: 0.1053 - train_acc_1: 0.9756 - val_acc_1: 0.9642 - val_acc_ensemble: 0.9732 - val_loss_2: 0.1242 - val_acc_2: 0.9623 - val_loss_1: 0.1278\n",
      "Epoch 10/10\n",
      " - 1s - train_loss_2: 0.0875 - train_acc_2: 0.9803 - train_acc_ensemble: 0.5206 - train_loss_1: 0.1040 - train_acc_1: 0.9728 - val_acc_1: 0.9706 - val_acc_ensemble: 0.9751 - val_loss_2: 0.1217 - val_acc_2: 0.9639 - val_loss_1: 0.1056\n"
     ]
    }
   ],
   "source": [
    "# history = model.fit(iterators, X_train, y_train, EPOCHS, STEPS_PER_EPOCH,\n",
    "#         BATCH_SIZE, validation=(X_test, y_test), test_model=test_model,\n",
    "#         save_model_path=model_path)\n",
    "\n",
    "data_dict = {}\n",
    "\n",
    "for i in range(NUM_BRANCHES):\n",
    "    data_dict[x_list[i]] = x_train_list[i]\n",
    "    data_dict[y_list[i]] = y_train_list[i]\n",
    "    \n",
    "history = model.fit_data(iterators, EPOCHS, STEPS_PER_EPOCH, BATCH_SIZE, \n",
    "                         data_dict=data_dict, \n",
    "                         val_dict={x_place: X_test, y_place: y_test}, \n",
    "                         test_model=model_copy, save_model_path=model_path)"
   ]
  },
  {
   "cell_type": "markdown",
   "metadata": {},
   "source": [
    "## Load Model"
   ]
  },
  {
   "cell_type": "code",
   "execution_count": 15,
   "metadata": {},
   "outputs": [],
   "source": [
    "# test_init_ops = ['test_init_op_'+str(i+1) for i in range(NUM_BRANCHES)]\n",
    "# losses = ['loss_'+str(i+1)+':0' for i in range(NUM_BRANCHES)]\n",
    "# train_acc_ops = ['train_acc_'+str(i+1)+':0' for i in range(NUM_BRANCHES)]\n",
    "\n",
    "# inputs = ['input_{}:0'.format(i+1) for i in range(NUM_BRANCHES)]\n",
    "# labels_one_hot = ['input_{}:1'.format(i+1) for i in range(NUM_BRANCHES)]\n",
    "outputs = ['model_{}_1/output_vb{}:0'.format(model_id, i+1) for i in range(NUM_BRANCHES)]"
   ]
  },
  {
   "cell_type": "code",
   "execution_count": 16,
   "metadata": {},
   "outputs": [
    {
     "name": "stdout",
     "output_type": "stream",
     "text": [
      "INFO:tensorflow:Restoring parameters from models/vb-mnist-cnn-B4-S1.00_1/ckpt\n"
     ]
    }
   ],
   "source": [
    "with tf.Session() as sess:\n",
    "    model_path = os.path.join('models', 'vb-mnist-{}-B{:d}-S{:.2f}_{:d}'.format(architecture,\n",
    "        NUM_BRANCHES, SHARED_FRAC, model_id))\n",
    "    meta_path = os.path.join(model_path, 'ckpt.meta')\n",
    "    ckpt = tf.train.get_checkpoint_state(model_path)\n",
    "\n",
    "    imported_graph = tf.train.import_meta_graph(meta_path)\n",
    "    imported_graph.restore(sess, ckpt.model_checkpoint_path)\n",
    "\n",
    "#     sess.run(test_init_ops, feed_dict={'batch_size:0': len(X_test)})\n",
    "    features = sess.run(outputs, feed_dict={'x_test:0':X_test})\n",
    "    \n",
    "#     sample_size = 250\n",
    "#     sess.run(test_init_ops, feed_dict={'batch_size:0':sample_size})\n",
    "#     X_test_samples, y_test_samples, features = sess.run([inputs, labels_one_hot, outputs])"
   ]
  },
  {
   "cell_type": "code",
   "execution_count": 17,
   "metadata": {},
   "outputs": [],
   "source": [
    "# print('Loss:', np.mean(val_losses))\n",
    "# print('Acc:', val_acc)\n",
    "# print('Indiv accs:', indiv_accs)"
   ]
  },
  {
   "cell_type": "markdown",
   "metadata": {},
   "source": [
    "## Feature Visualization"
   ]
  },
  {
   "cell_type": "code",
   "execution_count": null,
   "metadata": {},
   "outputs": [],
   "source": [
    "mean_features = np.mean(features, axis=0)\n",
    "print(mean_features.shape)"
   ]
  },
  {
   "cell_type": "code",
   "execution_count": null,
   "metadata": {},
   "outputs": [],
   "source": [
    "start = time.time()\n",
    "tsne = TSNE(n_components=2, verbose=1, perplexity=40, n_iter=300)\n",
    "tsne_results = tsne.fit_transform(mean_features)\n",
    "\n",
    "print('t-SNE done! Time elapsed: {} seconds'.format(time.time()-start))"
   ]
  },
  {
   "cell_type": "code",
   "execution_count": null,
   "metadata": {},
   "outputs": [],
   "source": [
    "labels = np.argmax(y_test_samples[0], axis=-1)"
   ]
  },
  {
   "cell_type": "code",
   "execution_count": 13,
   "metadata": {},
   "outputs": [
    {
     "ename": "NameError",
     "evalue": "name 'tsne_results' is not defined",
     "output_type": "error",
     "traceback": [
      "\u001b[0;31m---------------------------------------------------------------------------\u001b[0m",
      "\u001b[0;31mNameError\u001b[0m                                 Traceback (most recent call last)",
      "\u001b[0;32m<ipython-input-13-e3e121595d2e>\u001b[0m in \u001b[0;36m<module>\u001b[0;34m\u001b[0m\n\u001b[0;32m----> 1\u001b[0;31m \u001b[0mplt\u001b[0m\u001b[0;34m.\u001b[0m\u001b[0mscatter\u001b[0m\u001b[0;34m(\u001b[0m\u001b[0mtsne_results\u001b[0m\u001b[0;34m[\u001b[0m\u001b[0;34m:\u001b[0m\u001b[0;34m,\u001b[0m\u001b[0;36m0\u001b[0m\u001b[0;34m]\u001b[0m\u001b[0;34m,\u001b[0m \u001b[0mtsne_results\u001b[0m\u001b[0;34m[\u001b[0m\u001b[0;34m:\u001b[0m\u001b[0;34m,\u001b[0m\u001b[0;36m1\u001b[0m\u001b[0;34m]\u001b[0m\u001b[0;34m,\u001b[0m \u001b[0mc\u001b[0m\u001b[0;34m=\u001b[0m\u001b[0mlabels\u001b[0m\u001b[0;34m,\u001b[0m \u001b[0mcmap\u001b[0m\u001b[0;34m=\u001b[0m\u001b[0mplt\u001b[0m\u001b[0;34m.\u001b[0m\u001b[0mcm\u001b[0m\u001b[0;34m.\u001b[0m\u001b[0mjet\u001b[0m\u001b[0;34m)\u001b[0m\u001b[0;34m\u001b[0m\u001b[0;34m\u001b[0m\u001b[0m\n\u001b[0m\u001b[1;32m      2\u001b[0m \u001b[0mplt\u001b[0m\u001b[0;34m.\u001b[0m\u001b[0mcolorbar\u001b[0m\u001b[0;34m(\u001b[0m\u001b[0;34m)\u001b[0m\u001b[0;34m\u001b[0m\u001b[0;34m\u001b[0m\u001b[0m\n\u001b[1;32m      3\u001b[0m \u001b[0mplt\u001b[0m\u001b[0;34m.\u001b[0m\u001b[0mshow\u001b[0m\u001b[0;34m(\u001b[0m\u001b[0;34m)\u001b[0m\u001b[0;34m\u001b[0m\u001b[0;34m\u001b[0m\u001b[0m\n",
      "\u001b[0;31mNameError\u001b[0m: name 'tsne_results' is not defined"
     ]
    }
   ],
   "source": [
    "plt.scatter(tsne_results[:,0], tsne_results[:,1], c=labels, cmap=plt.cm.jet)\n",
    "plt.colorbar()\n",
    "plt.show()"
   ]
  },
  {
   "cell_type": "markdown",
   "metadata": {},
   "source": [
    "## Feature Correlation"
   ]
  },
  {
   "cell_type": "code",
   "execution_count": 18,
   "metadata": {},
   "outputs": [],
   "source": [
    "features = np.array(features)\n",
    "corr_list = []\n",
    "\n",
    "for i in range(features.shape[1]):\n",
    "    corr = np.corrcoef(features[:, i], rowvar=False)\n",
    "    corr_list.append(corr)"
   ]
  },
  {
   "cell_type": "code",
   "execution_count": 24,
   "metadata": {},
   "outputs": [
    {
     "data": {
      "image/png": "[encoded data removed]",
      "text/plain": [
       "<Figure size 288x288 with 2 Axes>"
      ]
     },
     "metadata": {
      "needs_background": "light"
     },
     "output_type": "display_data"
    }
   ],
   "source": [
    "plt.matshow(corr_list[4], cmap=plt.cm.coolwarm)\n",
    "plt.colorbar()\n",
    "plt.show()"
   ]
  },
  {
   "cell_type": "code",
   "execution_count": 25,
   "metadata": {},
   "outputs": [
    {
     "name": "stdout",
     "output_type": "stream",
     "text": [
      "37.69674353424667\n"
     ]
    }
   ],
   "source": [
    "corr_list = np.array(corr_list)\n",
    "mean_corr = np.mean(np.sum(np.square(corr_list), axis=(1,2)) - 10)\n",
    "print(mean_corr)"
   ]
  },
  {
   "cell_type": "code",
   "execution_count": null,
   "metadata": {},
   "outputs": [],
   "source": [
    "0: 30.46930946455603\n",
    "0.75: 30.68270134409282"
   ]
  }
 ],
 "metadata": {
  "kernelspec": {
   "display_name": "Python 3",
   "language": "python",
   "name": "python3"
  },
  "language_info": {
   "codemirror_mode": {
    "name": "ipython",
    "version": 3
   },
   "file_extension": ".py",
   "mimetype": "text/x-python",
   "name": "python",
   "nbconvert_exporter": "python",
   "pygments_lexer": "ipython3",
   "version": "3.5.6"
  }
 },
 "nbformat": 4,
 "nbformat_minor": 2
}
