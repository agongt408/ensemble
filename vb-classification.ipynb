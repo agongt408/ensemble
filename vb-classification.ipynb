{
 "cells": [
  {
   "cell_type": "markdown",
   "metadata": {},
   "source": [
    "# Classification with Virtual Branching"
   ]
  },
  {
   "cell_type": "code",
   "execution_count": 1,
   "metadata": {},
   "outputs": [],
   "source": [
    "import tensorflow as tf\n",
    "import numpy as np\n",
    "import os\n",
    "from scipy.special import softmax\n",
    "import matplotlib.pyplot as plt\n",
    "import time\n",
    "from sklearn.manifold import TSNE"
   ]
  },
  {
   "cell_type": "code",
   "execution_count": 2,
   "metadata": {},
   "outputs": [],
   "source": [
    "import vbranch as vb\n",
    "from vbranch.utils.training_utils import bag_samples"
   ]
  },
  {
   "cell_type": "code",
   "execution_count": 3,
   "metadata": {},
   "outputs": [],
   "source": [
    "save = False\n",
    "model_id = 1\n",
    "architecture = 'fcn'"
   ]
  },
  {
   "cell_type": "markdown",
   "metadata": {},
   "source": [
    "## Load Data"
   ]
  },
  {
   "cell_type": "code",
   "execution_count": 4,
   "metadata": {},
   "outputs": [],
   "source": [
    "dataset = 'mnist'\n",
    "num_classes = 10\n",
    "num_features = 784\n",
    "samples_per_class = 100\n",
    "(X_train, y_train), (X_test, y_test) = vb.utils.get_data(dataset, architecture, num_classes,\n",
    "                                                         num_features, samples_per_class)"
   ]
  },
  {
   "cell_type": "code",
   "execution_count": 5,
   "metadata": {},
   "outputs": [],
   "source": [
    "x_shape = (None,) + X_train.shape[1:]\n",
    "y_shape = (None, num_classes)"
   ]
  },
  {
   "cell_type": "markdown",
   "metadata": {},
   "source": [
    "## Train"
   ]
  },
  {
   "cell_type": "markdown",
   "metadata": {},
   "source": [
    "### Build Model"
   ]
  },
  {
   "cell_type": "code",
   "execution_count": 6,
   "metadata": {},
   "outputs": [],
   "source": [
    "BATCH_SIZE = 32\n",
    "EPOCHS = 15\n",
    "STEPS_PER_EPOCH = 100\n",
    "NUM_BRANCHES = 4\n",
    "SHARED_FRAC = 0\n",
    "model_path = os.path.join('models', 'vb-{}-{}-B{:d}-S{:.2f}_{:d}'.format(dataset, architecture,\n",
    "    NUM_BRANCHES, SHARED_FRAC, model_id))"
   ]
  },
  {
   "cell_type": "code",
   "execution_count": 7,
   "metadata": {},
   "outputs": [
    {
     "data": {
      "text/plain": [
       "'models/vb-mnist-fcn-B4-S0.00_1'"
      ]
     },
     "execution_count": 7,
     "metadata": {},
     "output_type": "execute_result"
    }
   ],
   "source": [
    "model_path"
   ]
  },
  {
   "cell_type": "code",
   "execution_count": 8,
   "metadata": {},
   "outputs": [],
   "source": [
    "# Perform bagging\n",
    "x_train_list, y_train_list = bag_samples(X_train, y_train, NUM_BRANCHES, max_samples=0.6)"
   ]
  },
  {
   "cell_type": "code",
   "execution_count": 9,
   "metadata": {},
   "outputs": [
    {
     "name": "stdout",
     "output_type": "stream",
     "text": [
      "WARNING:tensorflow:From /home/gong/anaconda3/lib/python3.5/site-packages/tensorflow/python/data/ops/dataset_ops.py:1419: colocate_with (from tensorflow.python.framework.ops) is deprecated and will be removed in a future version.\n",
      "Instructions for updating:\n",
      "Colocations handled automatically by placer.\n"
     ]
    }
   ],
   "source": [
    "tf.reset_default_graph()\n",
    "\n",
    "batch_size = tf.placeholder('int64', name='batch_size')\n",
    "\n",
    "iterators = [None] * NUM_BRANCHES\n",
    "inputs = [None] * NUM_BRANCHES\n",
    "labels_one_hot = [None] * NUM_BRANCHES\n",
    "\n",
    "x_list = []\n",
    "y_list = []\n",
    "\n",
    "for i in range(NUM_BRANCHES):\n",
    "    x = tf.placeholder('float32', x_shape, name='x_vb{:d}'.format(i+1))\n",
    "    y = tf.placeholder('float32', y_shape, name='y_vb{:d}'.format(i+1))\n",
    "    x_list.append(x)\n",
    "    y_list.append(y)\n",
    "    \n",
    "    dataset = tf.data.Dataset.from_tensor_slices((x,y)).\\\n",
    "        repeat().batch(batch_size).shuffle(buffer_size=4*BATCH_SIZE)\n",
    "\n",
    "    iterators[i] = dataset.make_initializable_iterator()\n",
    "    inputs[i], labels_one_hot[i] = iterators[i].get_next('input')"
   ]
  },
  {
   "cell_type": "code",
   "execution_count": 10,
   "metadata": {},
   "outputs": [],
   "source": [
    "def build_model(architecture,inputs,labels, num_classes,num_branches,model_id, shared_frac):\n",
    "    name = 'model_' + str(model_id)\n",
    "    \n",
    "    with tf.variable_scope(name, reuse=tf.AUTO_REUSE):\n",
    "        if architecture == 'fcn':\n",
    "            model = vb.vbranch_simple_fcn(inputs,\n",
    "                ([512]*num_branches, int(512*shared_frac)),\n",
    "                ([num_classes]*num_branches, int(num_classes*shared_frac)),\n",
    "                branches=num_branches, name=name)\n",
    "        elif architecture == 'cnn':\n",
    "            model = vb.vbranch_simple_cnn(inputs, (num_classes, 0),\n",
    "                ([16]*num_branches, int(16*shared_frac)),\n",
    "                ([32]*num_branches, int(32*shared_frac)),\n",
    "                branches=num_branches, name=name)\n",
    "        else:\n",
    "            raise ValueError('invalid model')\n",
    "\n",
    "        if type(labels) is list:\n",
    "            labels_list = labels\n",
    "        else:\n",
    "            labels_list = [labels] * num_branches\n",
    "            \n",
    "        optimizer = tf.train.AdamOptimizer(learning_rate=0.001)\n",
    "        model.compile(optimizer, 'softmax_cross_entropy_with_logits',\n",
    "                        labels_one_hot=labels_list)\n",
    "\n",
    "    return model"
   ]
  },
  {
   "cell_type": "code",
   "execution_count": 11,
   "metadata": {},
   "outputs": [
    {
     "name": "stdout",
     "output_type": "stream",
     "text": [
      "WARNING:tensorflow:From /home/gong/anaconda3/lib/python3.5/site-packages/tensorflow/python/ops/math_ops.py:3066: to_int32 (from tensorflow.python.ops.math_ops) is deprecated and will be removed in a future version.\n",
      "Instructions for updating:\n",
      "Use tf.cast instead.\n"
     ]
    }
   ],
   "source": [
    "model = build_model(architecture, inputs, labels_one_hot, num_classes,\n",
    "        NUM_BRANCHES, model_id, SHARED_FRAC)"
   ]
  },
  {
   "cell_type": "code",
   "execution_count": 12,
   "metadata": {},
   "outputs": [],
   "source": [
    "# Build copy of model for testing\n",
    "x_place = tf.placeholder('float32', x_shape, name='x_test')\n",
    "y_place = tf.placeholder('float32', y_shape, name='y_test')\n",
    "\n",
    "test_model = build_model(architecture, x_place, y_place, num_classes,\n",
    "    NUM_BRANCHES, model_id, SHARED_FRAC)"
   ]
  },
  {
   "cell_type": "markdown",
   "metadata": {},
   "source": [
    "### Run Ops"
   ]
  },
  {
   "cell_type": "code",
   "execution_count": 13,
   "metadata": {
    "scrolled": false
   },
   "outputs": [
    {
     "name": "stdout",
     "output_type": "stream",
     "text": [
      "Epoch 1/15\n",
      " - 1s - train_acc_4: 0.8316 - train_loss_1: 0.5585 - train_acc_3: 0.8366 - train_acc_2: 0.8322 - train_loss_2: 0.5270 - train_loss_4: 0.5465 - train_acc_ensemble: 0.3088 - train_loss_3: 0.5054 - train_acc_1: 0.8253 - val_loss_1: 0.2936 - val_acc_ensemble: 0.9350 - val_loss_4: 0.2769 - val_acc_3: 0.9120 - val_loss_2: 0.2811 - val_acc_1: 0.9058 - val_acc_2: 0.9137 - val_acc_4: 0.9164 - val_loss_3: 0.2857\n",
      "Epoch 2/15\n",
      " - 1s - train_acc_4: 0.9328 - train_loss_1: 0.2360 - train_acc_3: 0.9391 - train_acc_2: 0.9291 - train_loss_2: 0.2355 - train_loss_4: 0.2285 - train_acc_ensemble: 0.3356 - train_loss_3: 0.2114 - train_acc_1: 0.9241 - val_loss_1: 0.2260 - val_acc_ensemble: 0.9471 - val_loss_4: 0.2484 - val_acc_3: 0.9304 - val_loss_2: 0.2362 - val_acc_1: 0.9304 - val_acc_2: 0.9279 - val_acc_4: 0.9240 - val_loss_3: 0.2351\n",
      "Epoch 3/15\n",
      " - 1s - train_acc_4: 0.9547 - train_loss_1: 0.1543 - train_acc_3: 0.9587 - train_acc_2: 0.9509 - train_loss_2: 0.1683 - train_loss_4: 0.1510 - train_acc_ensemble: 0.3519 - train_loss_3: 0.1553 - train_acc_1: 0.9525 - val_loss_1: 0.1995 - val_acc_ensemble: 0.9516 - val_loss_4: 0.2013 - val_acc_3: 0.9342 - val_loss_2: 0.2112 - val_acc_1: 0.9401 - val_acc_2: 0.9334 - val_acc_4: 0.9416 - val_loss_3: 0.2210\n",
      "Epoch 4/15\n",
      " - 1s - train_acc_4: 0.9694 - train_loss_1: 0.1202 - train_acc_3: 0.9747 - train_acc_2: 0.9706 - train_loss_2: 0.1219 - train_loss_4: 0.1220 - train_acc_ensemble: 0.3609 - train_loss_3: 0.1050 - train_acc_1: 0.9669 - val_loss_1: 0.1942 - val_acc_ensemble: 0.9553 - val_loss_4: 0.1785 - val_acc_3: 0.9387 - val_loss_2: 0.1935 - val_acc_1: 0.9418 - val_acc_2: 0.9380 - val_acc_4: 0.9475 - val_loss_3: 0.1981\n",
      "Epoch 5/15\n",
      " - 1s - train_acc_4: 0.9772 - train_loss_1: 0.0766 - train_acc_3: 0.9853 - train_acc_2: 0.9797 - train_loss_2: 0.0789 - train_loss_4: 0.0859 - train_acc_ensemble: 0.3447 - train_loss_3: 0.0717 - train_acc_1: 0.9819 - val_loss_1: 0.1770 - val_acc_ensemble: 0.9560 - val_loss_4: 0.1832 - val_acc_3: 0.9435 - val_loss_2: 0.1758 - val_acc_1: 0.9479 - val_acc_2: 0.9452 - val_acc_4: 0.9449 - val_loss_3: 0.1874\n",
      "Epoch 6/15\n",
      " - 1s - train_acc_4: 0.9900 - train_loss_1: 0.0511 - train_acc_3: 0.9922 - train_acc_2: 0.9859 - train_loss_2: 0.0570 - train_loss_4: 0.0568 - train_acc_ensemble: 0.3459 - train_loss_3: 0.0479 - train_acc_1: 0.9897 - val_loss_1: 0.1812 - val_acc_ensemble: 0.9569 - val_loss_4: 0.1834 - val_acc_3: 0.9440 - val_loss_2: 0.1710 - val_acc_1: 0.9461 - val_acc_2: 0.9468 - val_acc_4: 0.9462 - val_loss_3: 0.1827\n",
      "Epoch 7/15\n",
      " - 1s - train_acc_4: 0.9919 - train_loss_1: 0.0357 - train_acc_3: 0.9900 - train_acc_2: 0.9934 - train_loss_2: 0.0387 - train_loss_4: 0.0440 - train_acc_ensemble: 0.3644 - train_loss_3: 0.0470 - train_acc_1: 0.9941 - val_loss_1: 0.1698 - val_acc_ensemble: 0.9596 - val_loss_4: 0.1779 - val_acc_3: 0.9452 - val_loss_2: 0.1724 - val_acc_1: 0.9495 - val_acc_2: 0.9467 - val_acc_4: 0.9488 - val_loss_3: 0.1830\n",
      "Epoch 8/15\n",
      " - 1s - train_acc_4: 0.9903 - train_loss_1: 0.0294 - train_acc_3: 0.9928 - train_acc_2: 0.9978 - train_loss_2: 0.0237 - train_loss_4: 0.0423 - train_acc_ensemble: 0.3359 - train_loss_3: 0.0361 - train_acc_1: 0.9959 - val_loss_1: 0.1741 - val_acc_ensemble: 0.9601 - val_loss_4: 0.1712 - val_acc_3: 0.9454 - val_loss_2: 0.1672 - val_acc_1: 0.9487 - val_acc_2: 0.9504 - val_acc_4: 0.9500 - val_loss_3: 0.1789\n",
      "Epoch 9/15\n",
      " - 1s - train_acc_4: 0.9966 - train_loss_1: 0.0223 - train_acc_3: 0.9959 - train_acc_2: 0.9944 - train_loss_2: 0.0314 - train_loss_4: 0.0266 - train_acc_ensemble: 0.3653 - train_loss_3: 0.0234 - train_acc_1: 0.9966 - val_loss_1: 0.1666 - val_acc_ensemble: 0.9602 - val_loss_4: 0.1631 - val_acc_3: 0.9512 - val_loss_2: 0.1769 - val_acc_1: 0.9523 - val_acc_2: 0.9457 - val_acc_4: 0.9536 - val_loss_3: 0.1697\n",
      "Epoch 10/15\n",
      " - 1s - train_acc_4: 0.9972 - train_loss_1: 0.0298 - train_acc_3: 0.9962 - train_acc_2: 0.9975 - train_loss_2: 0.0233 - train_loss_4: 0.0203 - train_acc_ensemble: 0.3584 - train_loss_3: 0.0208 - train_acc_1: 0.9947 - val_loss_1: 0.1712 - val_acc_ensemble: 0.9622 - val_loss_4: 0.1600 - val_acc_3: 0.9503 - val_loss_2: 0.1695 - val_acc_1: 0.9502 - val_acc_2: 0.9470 - val_acc_4: 0.9548 - val_loss_3: 0.1736\n",
      "Epoch 11/15\n",
      " - 1s - train_acc_4: 0.9978 - train_loss_1: 0.0282 - train_acc_3: 0.9972 - train_acc_2: 0.9966 - train_loss_2: 0.0232 - train_loss_4: 0.0161 - train_acc_ensemble: 0.3544 - train_loss_3: 0.0172 - train_acc_1: 0.9947 - val_loss_1: 0.1689 - val_acc_ensemble: 0.9622 - val_loss_4: 0.1671 - val_acc_3: 0.9486 - val_loss_2: 0.1702 - val_acc_1: 0.9495 - val_acc_2: 0.9479 - val_acc_4: 0.9533 - val_loss_3: 0.1778\n",
      "Epoch 12/15\n",
      " - 1s - train_acc_4: 0.9966 - train_loss_1: 0.0150 - train_acc_3: 0.9959 - train_acc_2: 0.9975 - train_loss_2: 0.0182 - train_loss_4: 0.0192 - train_acc_ensemble: 0.3325 - train_loss_3: 0.0154 - train_acc_1: 0.9988 - val_loss_1: 0.1622 - val_acc_ensemble: 0.9632 - val_loss_4: 0.1698 - val_acc_3: 0.9499 - val_loss_2: 0.1705 - val_acc_1: 0.9532 - val_acc_2: 0.9487 - val_acc_4: 0.9552 - val_loss_3: 0.1750\n",
      "Epoch 13/15\n",
      " - 1s - train_acc_4: 0.9997 - train_loss_1: 0.0094 - train_acc_3: 0.9988 - train_acc_2: 0.9975 - train_loss_2: 0.0182 - train_loss_4: 0.0119 - train_acc_ensemble: 0.3559 - train_loss_3: 0.0127 - train_acc_1: 0.9994 - val_loss_1: 0.1615 - val_acc_ensemble: 0.9630 - val_loss_4: 0.1658 - val_acc_3: 0.9496 - val_loss_2: 0.1706 - val_acc_1: 0.9532 - val_acc_2: 0.9492 - val_acc_4: 0.9540 - val_loss_3: 0.1799\n",
      "Epoch 14/15\n",
      " - 1s - train_acc_4: 0.9991 - train_loss_1: 0.0086 - train_acc_3: 0.9988 - train_acc_2: 0.9962 - train_loss_2: 0.0206 - train_loss_4: 0.0089 - train_acc_ensemble: 0.3603 - train_loss_3: 0.0111 - train_acc_1: 0.9991 - val_loss_1: 0.1721 - val_acc_ensemble: 0.9636 - val_loss_4: 0.1693 - val_acc_3: 0.9519 - val_loss_2: 0.1712 - val_acc_1: 0.9525 - val_acc_2: 0.9485 - val_acc_4: 0.9532 - val_loss_3: 0.1692\n",
      "Epoch 15/15\n",
      " - 1s - train_acc_4: 0.9981 - train_loss_1: 0.0076 - train_acc_3: 0.9988 - train_acc_2: 0.9978 - train_loss_2: 0.0136 - train_loss_4: 0.0136 - train_acc_ensemble: 0.3547 - train_loss_3: 0.0083 - train_acc_1: 0.9997 - val_loss_1: 0.1664 - val_acc_ensemble: 0.9628 - val_loss_4: 0.1651 - val_acc_3: 0.9479 - val_loss_2: 0.1716 - val_acc_1: 0.9543 - val_acc_2: 0.9496 - val_acc_4: 0.9549 - val_loss_3: 0.1797\n"
     ]
    }
   ],
   "source": [
    "# history = model.fit(iterators, X_train, y_train, EPOCHS, STEPS_PER_EPOCH,\n",
    "#         BATCH_SIZE, validation=(X_test, y_test), test_model=test_model,\n",
    "#         save_model_path=model_path)\n",
    "\n",
    "data_dict = {}\n",
    "\n",
    "for i in range(NUM_BRANCHES):\n",
    "    data_dict[x_list[i]] = x_train_list[i]\n",
    "    data_dict[y_list[i]] = y_train_list[i]\n",
    "    \n",
    "history = model.fit_data(iterators, EPOCHS, STEPS_PER_EPOCH, BATCH_SIZE, \n",
    "                         data_dict=data_dict, \n",
    "                         val_dict={x_place: X_test, y_place: y_test}, \n",
    "                         test_model=test_model, save_model_path=model_path)"
   ]
  },
  {
   "cell_type": "markdown",
   "metadata": {},
   "source": [
    "## Load Model"
   ]
  },
  {
   "cell_type": "code",
   "execution_count": 15,
   "metadata": {},
   "outputs": [],
   "source": [
    "# test_init_ops = ['test_init_op_'+str(i+1) for i in range(NUM_BRANCHES)]\n",
    "# losses = ['loss_'+str(i+1)+':0' for i in range(NUM_BRANCHES)]\n",
    "# train_acc_ops = ['train_acc_'+str(i+1)+':0' for i in range(NUM_BRANCHES)]\n",
    "\n",
    "# inputs = ['input_{}:0'.format(i+1) for i in range(NUM_BRANCHES)]\n",
    "# labels_one_hot = ['input_{}:1'.format(i+1) for i in range(NUM_BRANCHES)]\n",
    "outputs = ['model_{}_1/output_vb{}:0'.format(model_id, i+1) for i in range(NUM_BRANCHES)]"
   ]
  },
  {
   "cell_type": "code",
   "execution_count": 16,
   "metadata": {},
   "outputs": [
    {
     "name": "stdout",
     "output_type": "stream",
     "text": [
      "INFO:tensorflow:Restoring parameters from models/vb-mnist-cnn-B4-S1.00_1/ckpt\n"
     ]
    }
   ],
   "source": [
    "with tf.Session() as sess:\n",
    "    model_path = os.path.join('models', 'vb-mnist-{}-B{:d}-S{:.2f}_{:d}'.format(architecture,\n",
    "        NUM_BRANCHES, SHARED_FRAC, model_id))\n",
    "    meta_path = os.path.join(model_path, 'ckpt.meta')\n",
    "    ckpt = tf.train.get_checkpoint_state(model_path)\n",
    "\n",
    "    imported_graph = tf.train.import_meta_graph(meta_path)\n",
    "    imported_graph.restore(sess, ckpt.model_checkpoint_path)\n",
    "\n",
    "#     sess.run(test_init_ops, feed_dict={'batch_size:0': len(X_test)})\n",
    "    features = sess.run(outputs, feed_dict={'x_test:0':X_test})\n",
    "    \n",
    "#     sample_size = 250\n",
    "#     sess.run(test_init_ops, feed_dict={'batch_size:0':sample_size})\n",
    "#     X_test_samples, y_test_samples, features = sess.run([inputs, labels_one_hot, outputs])"
   ]
  },
  {
   "cell_type": "code",
   "execution_count": 17,
   "metadata": {},
   "outputs": [],
   "source": [
    "# print('Loss:', np.mean(val_losses))\n",
    "# print('Acc:', val_acc)\n",
    "# print('Indiv accs:', indiv_accs)"
   ]
  },
  {
   "cell_type": "markdown",
   "metadata": {},
   "source": [
    "## Feature Visualization"
   ]
  },
  {
   "cell_type": "code",
   "execution_count": null,
   "metadata": {},
   "outputs": [],
   "source": [
    "mean_features = np.mean(features, axis=0)\n",
    "print(mean_features.shape)"
   ]
  },
  {
   "cell_type": "code",
   "execution_count": null,
   "metadata": {},
   "outputs": [],
   "source": [
    "start = time.time()\n",
    "tsne = TSNE(n_components=2, verbose=1, perplexity=40, n_iter=300)\n",
    "tsne_results = tsne.fit_transform(mean_features)\n",
    "\n",
    "print('t-SNE done! Time elapsed: {} seconds'.format(time.time()-start))"
   ]
  },
  {
   "cell_type": "code",
   "execution_count": null,
   "metadata": {},
   "outputs": [],
   "source": [
    "labels = np.argmax(y_test_samples[0], axis=-1)"
   ]
  },
  {
   "cell_type": "code",
   "execution_count": 13,
   "metadata": {},
   "outputs": [
    {
     "ename": "NameError",
     "evalue": "name 'tsne_results' is not defined",
     "output_type": "error",
     "traceback": [
      "\u001b[0;31m---------------------------------------------------------------------------\u001b[0m",
      "\u001b[0;31mNameError\u001b[0m                                 Traceback (most recent call last)",
      "\u001b[0;32m<ipython-input-13-e3e121595d2e>\u001b[0m in \u001b[0;36m<module>\u001b[0;34m\u001b[0m\n\u001b[0;32m----> 1\u001b[0;31m \u001b[0mplt\u001b[0m\u001b[0;34m.\u001b[0m\u001b[0mscatter\u001b[0m\u001b[0;34m(\u001b[0m\u001b[0mtsne_results\u001b[0m\u001b[0;34m[\u001b[0m\u001b[0;34m:\u001b[0m\u001b[0;34m,\u001b[0m\u001b[0;36m0\u001b[0m\u001b[0;34m]\u001b[0m\u001b[0;34m,\u001b[0m \u001b[0mtsne_results\u001b[0m\u001b[0;34m[\u001b[0m\u001b[0;34m:\u001b[0m\u001b[0;34m,\u001b[0m\u001b[0;36m1\u001b[0m\u001b[0;34m]\u001b[0m\u001b[0;34m,\u001b[0m \u001b[0mc\u001b[0m\u001b[0;34m=\u001b[0m\u001b[0mlabels\u001b[0m\u001b[0;34m,\u001b[0m \u001b[0mcmap\u001b[0m\u001b[0;34m=\u001b[0m\u001b[0mplt\u001b[0m\u001b[0;34m.\u001b[0m\u001b[0mcm\u001b[0m\u001b[0;34m.\u001b[0m\u001b[0mjet\u001b[0m\u001b[0;34m)\u001b[0m\u001b[0;34m\u001b[0m\u001b[0;34m\u001b[0m\u001b[0m\n\u001b[0m\u001b[1;32m      2\u001b[0m \u001b[0mplt\u001b[0m\u001b[0;34m.\u001b[0m\u001b[0mcolorbar\u001b[0m\u001b[0;34m(\u001b[0m\u001b[0;34m)\u001b[0m\u001b[0;34m\u001b[0m\u001b[0;34m\u001b[0m\u001b[0m\n\u001b[1;32m      3\u001b[0m \u001b[0mplt\u001b[0m\u001b[0;34m.\u001b[0m\u001b[0mshow\u001b[0m\u001b[0;34m(\u001b[0m\u001b[0;34m)\u001b[0m\u001b[0;34m\u001b[0m\u001b[0;34m\u001b[0m\u001b[0m\n",
      "\u001b[0;31mNameError\u001b[0m: name 'tsne_results' is not defined"
     ]
    }
   ],
   "source": [
    "plt.scatter(tsne_results[:,0], tsne_results[:,1], c=labels, cmap=plt.cm.jet)\n",
    "plt.colorbar()\n",
    "plt.show()"
   ]
  },
  {
   "cell_type": "markdown",
   "metadata": {},
   "source": [
    "## Feature Correlation"
   ]
  },
  {
   "cell_type": "code",
   "execution_count": 18,
   "metadata": {},
   "outputs": [],
   "source": [
    "features = np.array(features)\n",
    "corr_list = []\n",
    "\n",
    "for i in range(features.shape[1]):\n",
    "    corr = np.corrcoef(features[:, i], rowvar=False)\n",
    "    corr_list.append(corr)"
   ]
  },
  {
   "cell_type": "code",
   "execution_count": 24,
   "metadata": {},
   "outputs": [
    {
     "data": {
      "image/png": "[encoded data removed]",
      "text/plain": [
       "<Figure size 288x288 with 2 Axes>"
      ]
     },
     "metadata": {
      "needs_background": "light"
     },
     "output_type": "display_data"
    }
   ],
   "source": [
    "plt.matshow(corr_list[4], cmap=plt.cm.coolwarm)\n",
    "plt.colorbar()\n",
    "plt.show()"
   ]
  },
  {
   "cell_type": "code",
   "execution_count": 25,
   "metadata": {},
   "outputs": [
    {
     "name": "stdout",
     "output_type": "stream",
     "text": [
      "37.69674353424667\n"
     ]
    }
   ],
   "source": [
    "corr_list = np.array(corr_list)\n",
    "mean_corr = np.mean(np.sum(np.square(corr_list), axis=(1,2)) - 10)\n",
    "print(mean_corr)"
   ]
  },
  {
   "cell_type": "code",
   "execution_count": null,
   "metadata": {},
   "outputs": [],
   "source": [
    "0: 30.46930946455603\n",
    "0.75: 30.68270134409282"
   ]
  }
 ],
 "metadata": {
  "kernelspec": {
   "display_name": "Python 3",
   "language": "python",
   "name": "python3"
  },
  "language_info": {
   "codemirror_mode": {
    "name": "ipython",
    "version": 3
   },
   "file_extension": ".py",
   "mimetype": "text/x-python",
   "name": "python",
   "nbconvert_exporter": "python",
   "pygments_lexer": "ipython3",
   "version": "3.5.6"
  }
 },
 "nbformat": 4,
 "nbformat_minor": 2
}
