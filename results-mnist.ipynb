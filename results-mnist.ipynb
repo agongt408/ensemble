{
 "cells": [
  {
   "cell_type": "markdown",
   "metadata": {},
   "source": [
    "# Make Results Figures"
   ]
  },
  {
   "cell_type": "code",
   "execution_count": 1,
   "metadata": {},
   "outputs": [],
   "source": [
    "import numpy as np\n",
    "import pandas as pd\n",
    "import matplotlib.pyplot as plt\n",
    "import os"
   ]
  },
  {
   "cell_type": "code",
   "execution_count": 2,
   "metadata": {},
   "outputs": [],
   "source": [
    "architecture = 'fcn'\n",
    "branches = 6\n",
    "shared_frac_list = [0, 0.25, 0.5, 0.75, 1]"
   ]
  },
  {
   "cell_type": "markdown",
   "metadata": {},
   "source": [
    "## Ensemble"
   ]
  },
  {
   "cell_type": "code",
   "execution_count": 3,
   "metadata": {},
   "outputs": [],
   "source": [
    "df = pd.read_csv('results/mnist-{}/B{}-test.csv'.format(architecture, branches))"
   ]
  },
  {
   "cell_type": "code",
   "execution_count": 4,
   "metadata": {},
   "outputs": [
    {
     "data": {
      "text/html": [
       "<div>\n",
       "<style scoped>\n",
       "    .dataframe tbody tr th:only-of-type {\n",
       "        vertical-align: middle;\n",
       "    }\n",
       "\n",
       "    .dataframe tbody tr th {\n",
       "        vertical-align: top;\n",
       "    }\n",
       "\n",
       "    .dataframe thead th {\n",
       "        text-align: right;\n",
       "    }\n",
       "</style>\n",
       "<table border=\"1\" class=\"dataframe\">\n",
       "  <thead>\n",
       "    <tr style=\"text-align: right;\">\n",
       "      <th></th>\n",
       "      <th>Unnamed: 0</th>\n",
       "      <th>acc_1</th>\n",
       "      <th>acc_2</th>\n",
       "      <th>acc_3</th>\n",
       "      <th>acc_4</th>\n",
       "      <th>acc_5</th>\n",
       "      <th>acc_6</th>\n",
       "      <th>after_mean_acc</th>\n",
       "      <th>before_mean_acc</th>\n",
       "      <th>model_id_1</th>\n",
       "      <th>model_id_2</th>\n",
       "      <th>model_id_3</th>\n",
       "      <th>model_id_4</th>\n",
       "      <th>model_id_5</th>\n",
       "      <th>model_id_6</th>\n",
       "    </tr>\n",
       "  </thead>\n",
       "  <tbody>\n",
       "    <tr>\n",
       "      <th>0</th>\n",
       "      <td>0</td>\n",
       "      <td>0.9463</td>\n",
       "      <td>0.9429</td>\n",
       "      <td>0.9425</td>\n",
       "      <td>0.9427</td>\n",
       "      <td>0.9435</td>\n",
       "      <td>0.9474</td>\n",
       "      <td>0.9511</td>\n",
       "      <td>0.9511</td>\n",
       "      <td>8</td>\n",
       "      <td>2</td>\n",
       "      <td>6</td>\n",
       "      <td>4</td>\n",
       "      <td>5</td>\n",
       "      <td>1</td>\n",
       "    </tr>\n",
       "    <tr>\n",
       "      <th>1</th>\n",
       "      <td>0</td>\n",
       "      <td>0.9463</td>\n",
       "      <td>0.9435</td>\n",
       "      <td>0.9436</td>\n",
       "      <td>0.9429</td>\n",
       "      <td>0.9474</td>\n",
       "      <td>0.9427</td>\n",
       "      <td>0.9509</td>\n",
       "      <td>0.9511</td>\n",
       "      <td>8</td>\n",
       "      <td>5</td>\n",
       "      <td>3</td>\n",
       "      <td>2</td>\n",
       "      <td>1</td>\n",
       "      <td>4</td>\n",
       "    </tr>\n",
       "    <tr>\n",
       "      <th>2</th>\n",
       "      <td>0</td>\n",
       "      <td>0.9435</td>\n",
       "      <td>0.9436</td>\n",
       "      <td>0.9474</td>\n",
       "      <td>0.9463</td>\n",
       "      <td>0.9425</td>\n",
       "      <td>0.9429</td>\n",
       "      <td>0.9517</td>\n",
       "      <td>0.9515</td>\n",
       "      <td>5</td>\n",
       "      <td>3</td>\n",
       "      <td>1</td>\n",
       "      <td>8</td>\n",
       "      <td>6</td>\n",
       "      <td>2</td>\n",
       "    </tr>\n",
       "    <tr>\n",
       "      <th>3</th>\n",
       "      <td>0</td>\n",
       "      <td>0.9429</td>\n",
       "      <td>0.9425</td>\n",
       "      <td>0.9427</td>\n",
       "      <td>0.9463</td>\n",
       "      <td>0.9474</td>\n",
       "      <td>0.9435</td>\n",
       "      <td>0.9511</td>\n",
       "      <td>0.9511</td>\n",
       "      <td>2</td>\n",
       "      <td>6</td>\n",
       "      <td>4</td>\n",
       "      <td>8</td>\n",
       "      <td>1</td>\n",
       "      <td>5</td>\n",
       "    </tr>\n",
       "    <tr>\n",
       "      <th>4</th>\n",
       "      <td>0</td>\n",
       "      <td>0.9427</td>\n",
       "      <td>0.9425</td>\n",
       "      <td>0.9463</td>\n",
       "      <td>0.9375</td>\n",
       "      <td>0.9474</td>\n",
       "      <td>0.9436</td>\n",
       "      <td>0.9509</td>\n",
       "      <td>0.9502</td>\n",
       "      <td>4</td>\n",
       "      <td>6</td>\n",
       "      <td>8</td>\n",
       "      <td>7</td>\n",
       "      <td>1</td>\n",
       "      <td>3</td>\n",
       "    </tr>\n",
       "    <tr>\n",
       "      <th>5</th>\n",
       "      <td>0</td>\n",
       "      <td>0.9463</td>\n",
       "      <td>0.9435</td>\n",
       "      <td>0.9429</td>\n",
       "      <td>0.9436</td>\n",
       "      <td>0.9474</td>\n",
       "      <td>0.9425</td>\n",
       "      <td>0.9517</td>\n",
       "      <td>0.9515</td>\n",
       "      <td>8</td>\n",
       "      <td>5</td>\n",
       "      <td>2</td>\n",
       "      <td>3</td>\n",
       "      <td>1</td>\n",
       "      <td>6</td>\n",
       "    </tr>\n",
       "    <tr>\n",
       "      <th>6</th>\n",
       "      <td>0</td>\n",
       "      <td>0.9435</td>\n",
       "      <td>0.9427</td>\n",
       "      <td>0.9474</td>\n",
       "      <td>0.9436</td>\n",
       "      <td>0.9425</td>\n",
       "      <td>0.9463</td>\n",
       "      <td>0.9508</td>\n",
       "      <td>0.9512</td>\n",
       "      <td>5</td>\n",
       "      <td>4</td>\n",
       "      <td>1</td>\n",
       "      <td>3</td>\n",
       "      <td>6</td>\n",
       "      <td>8</td>\n",
       "    </tr>\n",
       "    <tr>\n",
       "      <th>7</th>\n",
       "      <td>0</td>\n",
       "      <td>0.9435</td>\n",
       "      <td>0.9463</td>\n",
       "      <td>0.9375</td>\n",
       "      <td>0.9474</td>\n",
       "      <td>0.9427</td>\n",
       "      <td>0.9436</td>\n",
       "      <td>0.9514</td>\n",
       "      <td>0.9509</td>\n",
       "      <td>5</td>\n",
       "      <td>8</td>\n",
       "      <td>7</td>\n",
       "      <td>1</td>\n",
       "      <td>4</td>\n",
       "      <td>3</td>\n",
       "    </tr>\n",
       "  </tbody>\n",
       "</table>\n",
       "</div>"
      ],
      "text/plain": [
       "   Unnamed: 0   acc_1   acc_2   acc_3   acc_4   acc_5   acc_6  after_mean_acc  \\\n",
       "0           0  0.9463  0.9429  0.9425  0.9427  0.9435  0.9474          0.9511   \n",
       "1           0  0.9463  0.9435  0.9436  0.9429  0.9474  0.9427          0.9509   \n",
       "2           0  0.9435  0.9436  0.9474  0.9463  0.9425  0.9429          0.9517   \n",
       "3           0  0.9429  0.9425  0.9427  0.9463  0.9474  0.9435          0.9511   \n",
       "4           0  0.9427  0.9425  0.9463  0.9375  0.9474  0.9436          0.9509   \n",
       "5           0  0.9463  0.9435  0.9429  0.9436  0.9474  0.9425          0.9517   \n",
       "6           0  0.9435  0.9427  0.9474  0.9436  0.9425  0.9463          0.9508   \n",
       "7           0  0.9435  0.9463  0.9375  0.9474  0.9427  0.9436          0.9514   \n",
       "\n",
       "   before_mean_acc  model_id_1  model_id_2  model_id_3  model_id_4  \\\n",
       "0           0.9511           8           2           6           4   \n",
       "1           0.9511           8           5           3           2   \n",
       "2           0.9515           5           3           1           8   \n",
       "3           0.9511           2           6           4           8   \n",
       "4           0.9502           4           6           8           7   \n",
       "5           0.9515           8           5           2           3   \n",
       "6           0.9512           5           4           1           3   \n",
       "7           0.9509           5           8           7           1   \n",
       "\n",
       "   model_id_5  model_id_6  \n",
       "0           5           1  \n",
       "1           1           4  \n",
       "2           6           2  \n",
       "3           1           5  \n",
       "4           1           3  \n",
       "5           1           6  \n",
       "6           6           8  \n",
       "7           4           3  "
      ]
     },
     "execution_count": 4,
     "metadata": {},
     "output_type": "execute_result"
    }
   ],
   "source": [
    "df"
   ]
  },
  {
   "cell_type": "code",
   "execution_count": 5,
   "metadata": {},
   "outputs": [
    {
     "name": "stdout",
     "output_type": "stream",
     "text": [
      "0.951075 0.00040970372570570655\n"
     ]
    }
   ],
   "source": [
    "avg_acc = df['before_mean_acc'].mean()\n",
    "std_acc = df['before_mean_acc'].std()\n",
    "print(avg_acc, std_acc)"
   ]
  },
  {
   "cell_type": "markdown",
   "metadata": {},
   "source": [
    "## Baseline"
   ]
  },
  {
   "cell_type": "code",
   "execution_count": 6,
   "metadata": {},
   "outputs": [
    {
     "name": "stdout",
     "output_type": "stream",
     "text": [
      "0.9433000013232231\n"
     ]
    }
   ],
   "source": [
    "baseline_val_acc = []\n",
    "for i in range(8):\n",
    "    df = pd.read_csv('results/mnist-{}/train_{}.csv'.format(architecture, i+1))\n",
    "    baseline_val_acc.append(df.iloc[-1]['val_acc'])\n",
    "baseline = np.mean(baseline_val_acc)\n",
    "print(baseline)"
   ]
  },
  {
   "cell_type": "code",
   "execution_count": 7,
   "metadata": {},
   "outputs": [
    {
     "name": "stdout",
     "output_type": "stream",
     "text": [
      "[0.9473999738693236, 0.942900002002716, 0.9435999989509584, 0.9427000284194946, 0.9434999823570251, 0.9424999952316284, 0.9375, 0.9463000297546388]\n"
     ]
    }
   ],
   "source": [
    "print(baseline_val_acc)"
   ]
  },
  {
   "cell_type": "markdown",
   "metadata": {},
   "source": [
    "## Virtual Branching"
   ]
  },
  {
   "cell_type": "code",
   "execution_count": 8,
   "metadata": {},
   "outputs": [
    {
     "name": "stdout",
     "output_type": "stream",
     "text": [
      "0 [0.9505000114440918, 0.9514999985694884, 0.9524000287055968, 0.9524000287055968]\n",
      "0.25 [0.9488999843597412, 0.948300004005432, 0.9477000236511229, 0.9495999813079834]\n",
      "0.5 [0.9485999941825868, 0.94760000705719, 0.9488999843597412, 0.9452000260353088]\n",
      "0.75 [0.94650000333786, 0.9462000131607056, 0.9441999793052672, 0.9463000297546388]\n",
      "1 [0.9409999847412108, 0.9452000260353088, 0.942900002002716, 0.9463000297546388]\n"
     ]
    }
   ],
   "source": [
    "results = {}\n",
    "results_std = {}\n",
    "for frac in shared_frac_list:\n",
    "    val_acc = []\n",
    "    for i in range(4):\n",
    "        df = pd.read_csv('results/vb-mnist-{}/B{}/S{:.2f}/train_{}.csv'.format(architecture, branches, frac, i+1))\n",
    "        val_acc.append(df.iloc[-1]['val_acc_ensemble'])\n",
    "    print(frac, val_acc)\n",
    "    results[frac] = np.mean(val_acc)\n",
    "    results_std[frac] = np.std(val_acc)"
   ]
  },
  {
   "cell_type": "code",
   "execution_count": 9,
   "metadata": {},
   "outputs": [
    {
     "data": {
      "text/plain": [
       "{0: 0.9517000168561935,\n",
       " 0.25: 0.94862499833107,\n",
       " 0.5: 0.9475750029087067,\n",
       " 0.75: 0.9458000063896179,\n",
       " 1: 0.9438500106334686}"
      ]
     },
     "execution_count": 9,
     "metadata": {},
     "output_type": "execute_result"
    }
   ],
   "source": [
    "results"
   ]
  },
  {
   "cell_type": "markdown",
   "metadata": {},
   "source": [
    "## Create Figure"
   ]
  },
  {
   "cell_type": "code",
   "execution_count": 10,
   "metadata": {},
   "outputs": [
    {
     "data": {
      "image/png": "[encoded data removed]",
      "text/plain": [
       "<Figure size 432x288 with 1 Axes>"
      ]
     },
     "metadata": {
      "needs_background": "light"
     },
     "output_type": "display_data"
    }
   ],
   "source": [
    "results_list = list(results.items())\n",
    "results_list.sort()\n",
    "results_list = np.array(results_list)\n",
    "\n",
    "plt.plot(results_list[:, 0], results_list[:,1], label='vbranch', color='blue')\n",
    "trials = 4\n",
    "error = np.sort(np.array(list(results_std.items())), 0)[:, 1] / np.sqrt(trials)\n",
    "plt.errorbar(results_list[:, 0], results_list[:,1], error*2)\n",
    "\n",
    "plt.plot(results_list[:, 0], [avg_acc]*len(results_list), label='ensemble', linestyle='--')\n",
    "plt.plot(results_list[:, 0], [baseline]*len(results_list), label='baseline', linestyle='--')\n",
    "\n",
    "plt.legend(loc='lower right')\n",
    "plt.xlabel('shared frac')\n",
    "plt.ylabel('acc')\n",
    "plt.title('{} x{} acc +/- 2*SEM'.format(architecture.upper(), branches))\n",
    "\n",
    "if not os.path.isdir('figs'):\n",
    "    os.system('mkdir figs')\n",
    "    \n",
    "plt.savefig('figs/{}-{}-results.png'.format(architecture, branches))\n",
    "plt.show()"
   ]
  },
  {
   "cell_type": "markdown",
   "metadata": {},
   "source": [
    "## Batch Size"
   ]
  },
  {
   "cell_type": "code",
   "execution_count": 11,
   "metadata": {},
   "outputs": [],
   "source": [
    "# batch_size_list = [10, 20, 40, 80, 100, 160, 200]\n",
    "# batch_size_acc = []\n",
    "\n",
    "# for batch_size in batch_size_list:\n",
    "#     arr = []\n",
    "#     for i in range(8):\n",
    "#         df = pd.read_csv('results/batch_size/mnist-fcn/batch_{}/train_{}.csv'.format(batch_size,i+1))\n",
    "#         arr.append(df.iloc[-1]['val_acc'])\n",
    "#     batch_size_acc.append([np.mean(arr), np.std(arr)])"
   ]
  },
  {
   "cell_type": "code",
   "execution_count": 12,
   "metadata": {},
   "outputs": [],
   "source": [
    "# batch_size_acc = np.array(batch_size_acc)\n",
    "\n",
    "# # plt.plot(batch_size_list, batch_size_acc[:, 0])\n",
    "# trials = 8\n",
    "# error = batch_size_acc[:, 1] / np.sqrt(trials)\n",
    "# plt.errorbar(batch_size_list, batch_size_acc[:, 0], error*2)\n",
    "# plt.title('fcn val acc vs. batch size')\n",
    "# plt.xlabel('batch size')\n",
    "# plt.ylabel('val acc')\n",
    "\n",
    "# plt.savefig('figs/fcn-val-acc-batch-size.png')\n",
    "# plt.show()"
   ]
  },
  {
   "cell_type": "code",
   "execution_count": null,
   "metadata": {},
   "outputs": [],
   "source": []
  }
 ],
 "metadata": {
  "kernelspec": {
   "display_name": "Python 3",
   "language": "python",
   "name": "python3"
  },
  "language_info": {
   "codemirror_mode": {
    "name": "ipython",
    "version": 3
   },
   "file_extension": ".py",
   "mimetype": "text/x-python",
   "name": "python",
   "nbconvert_exporter": "python",
   "pygments_lexer": "ipython3",
   "version": "3.5.6"
  }
 },
 "nbformat": 4,
 "nbformat_minor": 2
}
