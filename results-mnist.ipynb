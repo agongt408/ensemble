{
 "cells": [
  {
   "cell_type": "markdown",
   "metadata": {},
   "source": [
    "# Make Results Figures"
   ]
  },
  {
   "cell_type": "code",
   "execution_count": 1,
   "metadata": {},
   "outputs": [],
   "source": [
    "import numpy as np\n",
    "import pandas as pd\n",
    "import matplotlib.pyplot as plt\n",
    "import os"
   ]
  },
  {
   "cell_type": "code",
   "execution_count": 29,
   "metadata": {},
   "outputs": [],
   "source": [
    "architecture = 'fcn2'\n",
    "branches = 3\n",
    "shared_frac_list = [0, 0.25, 0.5, 0.75, 1]"
   ]
  },
  {
   "cell_type": "markdown",
   "metadata": {},
   "source": [
    "## Ensemble"
   ]
  },
  {
   "cell_type": "code",
   "execution_count": 30,
   "metadata": {},
   "outputs": [],
   "source": [
    "df = pd.read_csv('results/mnist-{}/B{}-test.csv'.format(architecture, branches))"
   ]
  },
  {
   "cell_type": "code",
   "execution_count": 31,
   "metadata": {},
   "outputs": [
    {
     "data": {
      "text/html": [
       "<div>\n",
       "<style scoped>\n",
       "    .dataframe tbody tr th:only-of-type {\n",
       "        vertical-align: middle;\n",
       "    }\n",
       "\n",
       "    .dataframe tbody tr th {\n",
       "        vertical-align: top;\n",
       "    }\n",
       "\n",
       "    .dataframe thead th {\n",
       "        text-align: right;\n",
       "    }\n",
       "</style>\n",
       "<table border=\"1\" class=\"dataframe\">\n",
       "  <thead>\n",
       "    <tr style=\"text-align: right;\">\n",
       "      <th></th>\n",
       "      <th>Unnamed: 0</th>\n",
       "      <th>acc_1</th>\n",
       "      <th>acc_2</th>\n",
       "      <th>acc_3</th>\n",
       "      <th>after_mean_acc</th>\n",
       "      <th>before_mean_acc</th>\n",
       "      <th>model_id_1</th>\n",
       "      <th>model_id_2</th>\n",
       "      <th>model_id_3</th>\n",
       "    </tr>\n",
       "  </thead>\n",
       "  <tbody>\n",
       "    <tr>\n",
       "      <th>0</th>\n",
       "      <td>0</td>\n",
       "      <td>0.9466</td>\n",
       "      <td>0.9483</td>\n",
       "      <td>0.9445</td>\n",
       "      <td>0.9545</td>\n",
       "      <td>0.9551</td>\n",
       "      <td>4</td>\n",
       "      <td>3</td>\n",
       "      <td>5</td>\n",
       "    </tr>\n",
       "    <tr>\n",
       "      <th>1</th>\n",
       "      <td>0</td>\n",
       "      <td>0.9378</td>\n",
       "      <td>0.9468</td>\n",
       "      <td>0.9432</td>\n",
       "      <td>0.9546</td>\n",
       "      <td>0.9539</td>\n",
       "      <td>7</td>\n",
       "      <td>6</td>\n",
       "      <td>2</td>\n",
       "    </tr>\n",
       "    <tr>\n",
       "      <th>2</th>\n",
       "      <td>0</td>\n",
       "      <td>0.9494</td>\n",
       "      <td>0.9378</td>\n",
       "      <td>0.9445</td>\n",
       "      <td>0.9554</td>\n",
       "      <td>0.9557</td>\n",
       "      <td>1</td>\n",
       "      <td>7</td>\n",
       "      <td>5</td>\n",
       "    </tr>\n",
       "    <tr>\n",
       "      <th>3</th>\n",
       "      <td>0</td>\n",
       "      <td>0.9445</td>\n",
       "      <td>0.9494</td>\n",
       "      <td>0.9432</td>\n",
       "      <td>0.9553</td>\n",
       "      <td>0.9549</td>\n",
       "      <td>5</td>\n",
       "      <td>1</td>\n",
       "      <td>2</td>\n",
       "    </tr>\n",
       "    <tr>\n",
       "      <th>4</th>\n",
       "      <td>0</td>\n",
       "      <td>0.9378</td>\n",
       "      <td>0.9432</td>\n",
       "      <td>0.9468</td>\n",
       "      <td>0.9546</td>\n",
       "      <td>0.9539</td>\n",
       "      <td>7</td>\n",
       "      <td>2</td>\n",
       "      <td>6</td>\n",
       "    </tr>\n",
       "    <tr>\n",
       "      <th>5</th>\n",
       "      <td>0</td>\n",
       "      <td>0.9466</td>\n",
       "      <td>0.9494</td>\n",
       "      <td>0.9468</td>\n",
       "      <td>0.9562</td>\n",
       "      <td>0.9559</td>\n",
       "      <td>4</td>\n",
       "      <td>1</td>\n",
       "      <td>6</td>\n",
       "    </tr>\n",
       "    <tr>\n",
       "      <th>6</th>\n",
       "      <td>0</td>\n",
       "      <td>0.9494</td>\n",
       "      <td>0.9445</td>\n",
       "      <td>0.9466</td>\n",
       "      <td>0.9566</td>\n",
       "      <td>0.9557</td>\n",
       "      <td>1</td>\n",
       "      <td>5</td>\n",
       "      <td>4</td>\n",
       "    </tr>\n",
       "    <tr>\n",
       "      <th>7</th>\n",
       "      <td>0</td>\n",
       "      <td>0.9466</td>\n",
       "      <td>0.9445</td>\n",
       "      <td>0.9378</td>\n",
       "      <td>0.9528</td>\n",
       "      <td>0.9527</td>\n",
       "      <td>4</td>\n",
       "      <td>5</td>\n",
       "      <td>7</td>\n",
       "    </tr>\n",
       "  </tbody>\n",
       "</table>\n",
       "</div>"
      ],
      "text/plain": [
       "   Unnamed: 0   acc_1   acc_2   acc_3  after_mean_acc  before_mean_acc  \\\n",
       "0           0  0.9466  0.9483  0.9445          0.9545           0.9551   \n",
       "1           0  0.9378  0.9468  0.9432          0.9546           0.9539   \n",
       "2           0  0.9494  0.9378  0.9445          0.9554           0.9557   \n",
       "3           0  0.9445  0.9494  0.9432          0.9553           0.9549   \n",
       "4           0  0.9378  0.9432  0.9468          0.9546           0.9539   \n",
       "5           0  0.9466  0.9494  0.9468          0.9562           0.9559   \n",
       "6           0  0.9494  0.9445  0.9466          0.9566           0.9557   \n",
       "7           0  0.9466  0.9445  0.9378          0.9528           0.9527   \n",
       "\n",
       "   model_id_1  model_id_2  model_id_3  \n",
       "0           4           3           5  \n",
       "1           7           6           2  \n",
       "2           1           7           5  \n",
       "3           5           1           2  \n",
       "4           7           2           6  \n",
       "5           4           1           6  \n",
       "6           1           5           4  \n",
       "7           4           5           7  "
      ]
     },
     "execution_count": 31,
     "metadata": {},
     "output_type": "execute_result"
    }
   ],
   "source": [
    "df"
   ]
  },
  {
   "cell_type": "code",
   "execution_count": 32,
   "metadata": {},
   "outputs": [
    {
     "name": "stdout",
     "output_type": "stream",
     "text": [
      "0.954725 0.0011285262197093288\n"
     ]
    }
   ],
   "source": [
    "avg_acc = df['before_mean_acc'].mean()\n",
    "std_acc = df['before_mean_acc'].std()\n",
    "print(avg_acc, std_acc)"
   ]
  },
  {
   "cell_type": "markdown",
   "metadata": {},
   "source": [
    "## Baseline"
   ]
  },
  {
   "cell_type": "code",
   "execution_count": 33,
   "metadata": {},
   "outputs": [
    {
     "name": "stdout",
     "output_type": "stream",
     "text": [
      "0.9461625069379807\n"
     ]
    }
   ],
   "source": [
    "baseline_val_acc = []\n",
    "for i in range(8):\n",
    "    df = pd.read_csv('results/mnist-{}/train_{}.csv'.format(architecture, i+1))\n",
    "    baseline_val_acc.append(df.iloc[-1]['val_acc'])\n",
    "baseline = np.mean(baseline_val_acc)\n",
    "print(baseline)"
   ]
  },
  {
   "cell_type": "code",
   "execution_count": 34,
   "metadata": {},
   "outputs": [
    {
     "name": "stdout",
     "output_type": "stream",
     "text": [
      "[0.9494000077247621, 0.9431999921798706, 0.948300004005432, 0.9466000199317932, 0.9445000290870668, 0.9467999935150146, 0.9377999901771544, 0.9527000188827516]\n"
     ]
    }
   ],
   "source": [
    "print(baseline_val_acc)"
   ]
  },
  {
   "cell_type": "markdown",
   "metadata": {},
   "source": [
    "## Virtual Branching"
   ]
  },
  {
   "cell_type": "code",
   "execution_count": 35,
   "metadata": {},
   "outputs": [
    {
     "name": "stdout",
     "output_type": "stream",
     "text": [
      "0 [0.9549999833106996, 0.9556000232696532, 0.9585000276565552, 0.9570999741554259]\n",
      "0.25 [0.9546999931335448, 0.9545999765396118, 0.9532999992370604, 0.9557999968528748]\n",
      "0.5 [0.9563999772071838, 0.9555000066757202, 0.9528999924659728, 0.9541000127792358]\n",
      "0.75 [0.9449999928474426, 0.9480000138282776, 0.9517999887466432, 0.9527000188827516]\n",
      "1 [0.9340999722480774, 0.9495000243186952, 0.9463000297546388, 0.9524999856948853]\n"
     ]
    }
   ],
   "source": [
    "results = {}\n",
    "results_std = {}\n",
    "for frac in shared_frac_list:\n",
    "    val_acc = []\n",
    "    for i in range(4):\n",
    "        df = pd.read_csv('results/vb-mnist-{}/B{}/S{:.2f}/train_{}.csv'.format(architecture, branches, frac, i+1))\n",
    "        val_acc.append(df.iloc[-1]['val_acc_ensemble'])\n",
    "    print(frac, val_acc)\n",
    "    results[frac] = np.mean(val_acc)\n",
    "    results_std[frac] = np.std(val_acc)"
   ]
  },
  {
   "cell_type": "code",
   "execution_count": 36,
   "metadata": {},
   "outputs": [
    {
     "data": {
      "text/plain": [
       "{0: 0.9565500020980835,\n",
       " 0.25: 0.954599991440773,\n",
       " 0.5: 0.9547249972820282,\n",
       " 0.75: 0.9493750035762787,\n",
       " 1: 0.9456000030040741}"
      ]
     },
     "execution_count": 36,
     "metadata": {},
     "output_type": "execute_result"
    }
   ],
   "source": [
    "results"
   ]
  },
  {
   "cell_type": "markdown",
   "metadata": {},
   "source": [
    "## Create Figure"
   ]
  },
  {
   "cell_type": "code",
   "execution_count": 37,
   "metadata": {},
   "outputs": [
    {
     "data": {
      "image/png": "[encoded data removed]",
      "text/plain": [
       "<Figure size 432x288 with 1 Axes>"
      ]
     },
     "metadata": {
      "needs_background": "light"
     },
     "output_type": "display_data"
    }
   ],
   "source": [
    "results_list = list(results.items())\n",
    "results_list.sort()\n",
    "results_list = np.array(results_list)\n",
    "\n",
    "plt.plot(results_list[:, 0], results_list[:,1], label='vbranch', color='blue')\n",
    "trials = 4\n",
    "error = np.sort(np.array(list(results_std.items())), 0)[:, 1] / np.sqrt(trials)\n",
    "plt.errorbar(results_list[:, 0], results_list[:,1], error*2)\n",
    "\n",
    "plt.plot(results_list[:, 0], [avg_acc]*len(results_list), label='ensemble', linestyle='--')\n",
    "plt.plot(results_list[:, 0], [baseline]*len(results_list), label='baseline', linestyle='--')\n",
    "\n",
    "plt.legend(loc='lower right')\n",
    "plt.xlabel('shared frac')\n",
    "plt.ylabel('acc')\n",
    "plt.title('{} x{} acc +/- 2*SEM'.format(architecture.upper(), branches))\n",
    "\n",
    "if not os.path.isdir('figs'):\n",
    "    os.system('mkdir figs')\n",
    "    \n",
    "plt.savefig('figs/{}-{}-results.png'.format(architecture, branches))\n",
    "plt.show()"
   ]
  },
  {
   "cell_type": "markdown",
   "metadata": {},
   "source": [
    "## Model Parameters"
   ]
  },
  {
   "cell_type": "code",
   "execution_count": 2,
   "metadata": {},
   "outputs": [],
   "source": [
    "import vbranch as vb\n",
    "from experiments.classification import baseline as baseline_expt\n",
    "from experiments.classification import vbranch as vb_expt"
   ]
  },
  {
   "cell_type": "code",
   "execution_count": 12,
   "metadata": {},
   "outputs": [
    {
     "name": "stdout",
     "output_type": "stream",
     "text": [
      "WARNING:tensorflow:From /home/gong/anaconda3/lib/python3.5/site-packages/tensorflow/python/framework/op_def_library.py:263: colocate_with (from tensorflow.python.framework.ops) is deprecated and will be removed in a future version.\n",
      "Instructions for updating:\n",
      "Colocations handled automatically by placer.\n"
     ]
    }
   ],
   "source": [
    "import tensorflow as tf\n",
    "\n",
    "num_classes = 10\n",
    "\n",
    "tf.reset_default_graph()\n",
    "inputs = tf.placeholder('float32', [None, 784])\n",
    "labels = tf.placeholder('float32', [None, num_classes])\n",
    "\n",
    "# Baseline\n",
    "model = baseline_expt.build_model(architecture, inputs, labels, num_classes,1, test=True)\n",
    "baseline_params = model.count_parameters()\n",
    "\n",
    "# Vbranch params\n",
    "vbranch_params = []\n",
    "for frac in [0, 0.25, 0.5, 0.75, 1]:\n",
    "    tf.reset_default_graph()\n",
    "    \n",
    "    inputs = tf.placeholder('float32', [None, 784])\n",
    "    labels = tf.placeholder('float32', [None, num_classes])\n",
    "\n",
    "    model = vb_expt.build_model(architecture,[inputs]*branches,[labels]*branches, \n",
    "                                num_classes, branches, 1, frac, test=True)\n",
    "    vbranch_params.append(model.count_parameters())"
   ]
  },
  {
   "cell_type": "code",
   "execution_count": 15,
   "metadata": {},
   "outputs": [],
   "source": [
    "param_ratio = [p / baseline_params for p in vbranch_params]\n",
    "ideal_ratio = branches - np.array(shared_frac_list)**2 * (branches-1)"
   ]
  },
  {
   "cell_type": "code",
   "execution_count": 18,
   "metadata": {},
   "outputs": [
    {
     "data": {
      "image/png": "[encoded data removed]",
      "text/plain": [
       "<Figure size 432x288 with 1 Axes>"
      ]
     },
     "metadata": {
      "needs_background": "light"
     },
     "output_type": "display_data"
    }
   ],
   "source": [
    "plt.scatter(shared_frac_list, param_ratio, color='orange')\n",
    "plt.plot(shared_frac_list, [1]*len(shared_frac_list))\n",
    "plt.plot(shared_frac_list, ideal_ratio)\n",
    "\n",
    "plt.xlabel('shared frac')\n",
    "plt.ylabel('params / baseline')\n",
    "plt.title('vbranch parameter count')\n",
    "\n",
    "plt.savefig('figs/vbranch-parameter-count.png')\n",
    "plt.show()"
   ]
  },
  {
   "cell_type": "code",
   "execution_count": null,
   "metadata": {},
   "outputs": [],
   "source": []
  }
 ],
 "metadata": {
  "kernelspec": {
   "display_name": "Python 3",
   "language": "python",
   "name": "python3"
  },
  "language_info": {
   "codemirror_mode": {
    "name": "ipython",
    "version": 3
   },
   "file_extension": ".py",
   "mimetype": "text/x-python",
   "name": "python",
   "nbconvert_exporter": "python",
   "pygments_lexer": "ipython3",
   "version": "3.5.6"
  }
 },
 "nbformat": 4,
 "nbformat_minor": 2
}
