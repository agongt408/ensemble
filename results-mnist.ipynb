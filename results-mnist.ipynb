{
 "cells": [
  {
   "cell_type": "markdown",
   "metadata": {},
   "source": [
    "# Make Results Figures"
   ]
  },
  {
   "cell_type": "code",
   "execution_count": 1,
   "metadata": {},
   "outputs": [],
   "source": [
    "import numpy as np\n",
    "import pandas as pd\n",
    "import matplotlib.pyplot as plt\n",
    "import os"
   ]
  },
  {
   "cell_type": "code",
   "execution_count": 11,
   "metadata": {},
   "outputs": [],
   "source": [
    "architecture = 'fcn2'\n",
    "branches = 6\n",
    "shared_frac_list = [0, 0.25, 0.5, 0.75, 1]"
   ]
  },
  {
   "cell_type": "markdown",
   "metadata": {},
   "source": [
    "## Ensemble"
   ]
  },
  {
   "cell_type": "code",
   "execution_count": 12,
   "metadata": {},
   "outputs": [],
   "source": [
    "df = pd.read_csv('results/mnist-{}/B{}-test.csv'.format(architecture, branches))"
   ]
  },
  {
   "cell_type": "code",
   "execution_count": 13,
   "metadata": {},
   "outputs": [
    {
     "data": {
      "text/html": [
       "<div>\n",
       "<style scoped>\n",
       "    .dataframe tbody tr th:only-of-type {\n",
       "        vertical-align: middle;\n",
       "    }\n",
       "\n",
       "    .dataframe tbody tr th {\n",
       "        vertical-align: top;\n",
       "    }\n",
       "\n",
       "    .dataframe thead th {\n",
       "        text-align: right;\n",
       "    }\n",
       "</style>\n",
       "<table border=\"1\" class=\"dataframe\">\n",
       "  <thead>\n",
       "    <tr style=\"text-align: right;\">\n",
       "      <th></th>\n",
       "      <th>Unnamed: 0</th>\n",
       "      <th>acc_1</th>\n",
       "      <th>acc_2</th>\n",
       "      <th>acc_3</th>\n",
       "      <th>acc_4</th>\n",
       "      <th>acc_5</th>\n",
       "      <th>acc_6</th>\n",
       "      <th>after_mean_acc</th>\n",
       "      <th>before_mean_acc</th>\n",
       "      <th>model_id_1</th>\n",
       "      <th>model_id_2</th>\n",
       "      <th>model_id_3</th>\n",
       "      <th>model_id_4</th>\n",
       "      <th>model_id_5</th>\n",
       "      <th>model_id_6</th>\n",
       "    </tr>\n",
       "  </thead>\n",
       "  <tbody>\n",
       "    <tr>\n",
       "      <th>0</th>\n",
       "      <td>0</td>\n",
       "      <td>0.9369</td>\n",
       "      <td>0.9508</td>\n",
       "      <td>0.9522</td>\n",
       "      <td>0.9503</td>\n",
       "      <td>0.9339</td>\n",
       "      <td>0.9499</td>\n",
       "      <td>0.9559</td>\n",
       "      <td>0.9562</td>\n",
       "      <td>7</td>\n",
       "      <td>3</td>\n",
       "      <td>4</td>\n",
       "      <td>8</td>\n",
       "      <td>2</td>\n",
       "      <td>5</td>\n",
       "    </tr>\n",
       "    <tr>\n",
       "      <th>1</th>\n",
       "      <td>0</td>\n",
       "      <td>0.9339</td>\n",
       "      <td>0.9508</td>\n",
       "      <td>0.9369</td>\n",
       "      <td>0.9503</td>\n",
       "      <td>0.9479</td>\n",
       "      <td>0.9528</td>\n",
       "      <td>0.9561</td>\n",
       "      <td>0.9563</td>\n",
       "      <td>2</td>\n",
       "      <td>3</td>\n",
       "      <td>7</td>\n",
       "      <td>8</td>\n",
       "      <td>6</td>\n",
       "      <td>1</td>\n",
       "    </tr>\n",
       "    <tr>\n",
       "      <th>2</th>\n",
       "      <td>0</td>\n",
       "      <td>0.9339</td>\n",
       "      <td>0.9503</td>\n",
       "      <td>0.9522</td>\n",
       "      <td>0.9499</td>\n",
       "      <td>0.9479</td>\n",
       "      <td>0.9528</td>\n",
       "      <td>0.9566</td>\n",
       "      <td>0.9565</td>\n",
       "      <td>2</td>\n",
       "      <td>8</td>\n",
       "      <td>4</td>\n",
       "      <td>5</td>\n",
       "      <td>6</td>\n",
       "      <td>1</td>\n",
       "    </tr>\n",
       "    <tr>\n",
       "      <th>3</th>\n",
       "      <td>0</td>\n",
       "      <td>0.9508</td>\n",
       "      <td>0.9528</td>\n",
       "      <td>0.9369</td>\n",
       "      <td>0.9339</td>\n",
       "      <td>0.9522</td>\n",
       "      <td>0.9499</td>\n",
       "      <td>0.9572</td>\n",
       "      <td>0.9564</td>\n",
       "      <td>3</td>\n",
       "      <td>1</td>\n",
       "      <td>7</td>\n",
       "      <td>2</td>\n",
       "      <td>4</td>\n",
       "      <td>5</td>\n",
       "    </tr>\n",
       "    <tr>\n",
       "      <th>4</th>\n",
       "      <td>0</td>\n",
       "      <td>0.9479</td>\n",
       "      <td>0.9522</td>\n",
       "      <td>0.9499</td>\n",
       "      <td>0.9503</td>\n",
       "      <td>0.9528</td>\n",
       "      <td>0.9508</td>\n",
       "      <td>0.9582</td>\n",
       "      <td>0.9580</td>\n",
       "      <td>6</td>\n",
       "      <td>4</td>\n",
       "      <td>5</td>\n",
       "      <td>8</td>\n",
       "      <td>1</td>\n",
       "      <td>3</td>\n",
       "    </tr>\n",
       "    <tr>\n",
       "      <th>5</th>\n",
       "      <td>0</td>\n",
       "      <td>0.9369</td>\n",
       "      <td>0.9522</td>\n",
       "      <td>0.9479</td>\n",
       "      <td>0.9508</td>\n",
       "      <td>0.9528</td>\n",
       "      <td>0.9503</td>\n",
       "      <td>0.9570</td>\n",
       "      <td>0.9573</td>\n",
       "      <td>7</td>\n",
       "      <td>4</td>\n",
       "      <td>6</td>\n",
       "      <td>3</td>\n",
       "      <td>1</td>\n",
       "      <td>8</td>\n",
       "    </tr>\n",
       "    <tr>\n",
       "      <th>6</th>\n",
       "      <td>0</td>\n",
       "      <td>0.9499</td>\n",
       "      <td>0.9528</td>\n",
       "      <td>0.9508</td>\n",
       "      <td>0.9522</td>\n",
       "      <td>0.9503</td>\n",
       "      <td>0.9479</td>\n",
       "      <td>0.9582</td>\n",
       "      <td>0.9580</td>\n",
       "      <td>5</td>\n",
       "      <td>1</td>\n",
       "      <td>3</td>\n",
       "      <td>4</td>\n",
       "      <td>8</td>\n",
       "      <td>6</td>\n",
       "    </tr>\n",
       "    <tr>\n",
       "      <th>7</th>\n",
       "      <td>0</td>\n",
       "      <td>0.9499</td>\n",
       "      <td>0.9528</td>\n",
       "      <td>0.9522</td>\n",
       "      <td>0.9369</td>\n",
       "      <td>0.9479</td>\n",
       "      <td>0.9503</td>\n",
       "      <td>0.9570</td>\n",
       "      <td>0.9571</td>\n",
       "      <td>5</td>\n",
       "      <td>1</td>\n",
       "      <td>4</td>\n",
       "      <td>7</td>\n",
       "      <td>6</td>\n",
       "      <td>8</td>\n",
       "    </tr>\n",
       "  </tbody>\n",
       "</table>\n",
       "</div>"
      ],
      "text/plain": [
       "   Unnamed: 0   acc_1   acc_2   acc_3   acc_4   acc_5   acc_6  after_mean_acc  \\\n",
       "0           0  0.9369  0.9508  0.9522  0.9503  0.9339  0.9499          0.9559   \n",
       "1           0  0.9339  0.9508  0.9369  0.9503  0.9479  0.9528          0.9561   \n",
       "2           0  0.9339  0.9503  0.9522  0.9499  0.9479  0.9528          0.9566   \n",
       "3           0  0.9508  0.9528  0.9369  0.9339  0.9522  0.9499          0.9572   \n",
       "4           0  0.9479  0.9522  0.9499  0.9503  0.9528  0.9508          0.9582   \n",
       "5           0  0.9369  0.9522  0.9479  0.9508  0.9528  0.9503          0.9570   \n",
       "6           0  0.9499  0.9528  0.9508  0.9522  0.9503  0.9479          0.9582   \n",
       "7           0  0.9499  0.9528  0.9522  0.9369  0.9479  0.9503          0.9570   \n",
       "\n",
       "   before_mean_acc  model_id_1  model_id_2  model_id_3  model_id_4  \\\n",
       "0           0.9562           7           3           4           8   \n",
       "1           0.9563           2           3           7           8   \n",
       "2           0.9565           2           8           4           5   \n",
       "3           0.9564           3           1           7           2   \n",
       "4           0.9580           6           4           5           8   \n",
       "5           0.9573           7           4           6           3   \n",
       "6           0.9580           5           1           3           4   \n",
       "7           0.9571           5           1           4           7   \n",
       "\n",
       "   model_id_5  model_id_6  \n",
       "0           2           5  \n",
       "1           6           1  \n",
       "2           6           1  \n",
       "3           4           5  \n",
       "4           1           3  \n",
       "5           1           8  \n",
       "6           8           6  \n",
       "7           6           8  "
      ]
     },
     "execution_count": 13,
     "metadata": {},
     "output_type": "execute_result"
    }
   ],
   "source": [
    "df"
   ]
  },
  {
   "cell_type": "code",
   "execution_count": 14,
   "metadata": {},
   "outputs": [
    {
     "name": "stdout",
     "output_type": "stream",
     "text": [
      "0.956975 0.0007401737247816201\n"
     ]
    }
   ],
   "source": [
    "avg_acc = df['before_mean_acc'].mean()\n",
    "std_acc = df['before_mean_acc'].std()\n",
    "print(avg_acc, std_acc)"
   ]
  },
  {
   "cell_type": "markdown",
   "metadata": {},
   "source": [
    "## Baseline"
   ]
  },
  {
   "cell_type": "code",
   "execution_count": 15,
   "metadata": {},
   "outputs": [
    {
     "name": "stdout",
     "output_type": "stream",
     "text": [
      "0.946837492287159\n"
     ]
    }
   ],
   "source": [
    "baseline_val_acc = []\n",
    "for i in range(8):\n",
    "    df = pd.read_csv('results/mnist-{}/train_{}.csv'.format(architecture, i+1))\n",
    "    baseline_val_acc.append(df.iloc[-1]['val_acc'])\n",
    "baseline = np.mean(baseline_val_acc)\n",
    "print(baseline)"
   ]
  },
  {
   "cell_type": "code",
   "execution_count": 16,
   "metadata": {},
   "outputs": [
    {
     "name": "stdout",
     "output_type": "stream",
     "text": [
      "[0.9527999758720398, 0.933899998664856, 0.9508000016212464, 0.9521999955177308, 0.949899971485138, 0.9478999972343444, 0.9369000196456908, 0.9502999782562256]\n"
     ]
    }
   ],
   "source": [
    "print(baseline_val_acc)"
   ]
  },
  {
   "cell_type": "markdown",
   "metadata": {},
   "source": [
    "## Virtual Branching"
   ]
  },
  {
   "cell_type": "code",
   "execution_count": 17,
   "metadata": {},
   "outputs": [
    {
     "name": "stdout",
     "output_type": "stream",
     "text": [
      "0 [0.9588000178337096, 0.959500014781952, 0.958400011062622, 0.9589999914169312]\n",
      "0.25 [0.9513999819755554, 0.9470000267028807, 0.9555000066757202, 0.9499999880790709]\n",
      "0.5 [0.9510999917984008, 0.9553999900817872, 0.9491000175476074, 0.9567000269889832]\n",
      "0.75 [0.9487000107765198, 0.9524999856948853, 0.946399986743927, 0.9524000287055968]\n",
      "1 [0.9509000182151794, 0.9559999704360962, 0.95770001411438, 0.9388999938964844]\n"
     ]
    }
   ],
   "source": [
    "results = {}\n",
    "results_std = {}\n",
    "for frac in shared_frac_list:\n",
    "    val_acc = []\n",
    "    for i in range(4):\n",
    "        df = pd.read_csv('results/vb-mnist-{}/B{}/S{:.2f}/train_{}.csv'.format(architecture, branches, frac, i+1))\n",
    "        val_acc.append(df.iloc[-1]['val_acc_ensemble'])\n",
    "    print(frac, val_acc)\n",
    "    results[frac] = np.mean(val_acc)\n",
    "    results_std[frac] = np.std(val_acc)"
   ]
  },
  {
   "cell_type": "code",
   "execution_count": 18,
   "metadata": {},
   "outputs": [
    {
     "data": {
      "text/plain": [
       "{0: 0.9589250087738037,\n",
       " 0.25: 0.9509750008583069,\n",
       " 0.5: 0.9530750066041946,\n",
       " 0.75: 0.9500000029802322,\n",
       " 1: 0.950874999165535}"
      ]
     },
     "execution_count": 18,
     "metadata": {},
     "output_type": "execute_result"
    }
   ],
   "source": [
    "results"
   ]
  },
  {
   "cell_type": "markdown",
   "metadata": {},
   "source": [
    "## Create Figure"
   ]
  },
  {
   "cell_type": "code",
   "execution_count": 19,
   "metadata": {},
   "outputs": [
    {
     "data": {
      "image/png": "[encoded data removed]",
      "text/plain": [
       "<Figure size 432x288 with 1 Axes>"
      ]
     },
     "metadata": {
      "needs_background": "light"
     },
     "output_type": "display_data"
    }
   ],
   "source": [
    "results_list = list(results.items())\n",
    "results_list.sort()\n",
    "results_list = np.array(results_list)\n",
    "\n",
    "plt.plot(results_list[:, 0], results_list[:,1], label='vbranch', color='blue')\n",
    "trials = 8\n",
    "error = np.sort(np.array(list(results_std.items())), 0)[:, 1] / np.sqrt(trials)\n",
    "plt.errorbar(results_list[:, 0], results_list[:,1], error*2)\n",
    "\n",
    "plt.plot(results_list[:, 0], [avg_acc]*len(results_list), label='ensemble', linestyle='--')\n",
    "plt.plot(results_list[:, 0], [baseline]*len(results_list), label='baseline', linestyle='--')\n",
    "\n",
    "plt.legend(loc='lower right')\n",
    "plt.xlabel('shared frac')\n",
    "plt.ylabel('acc')\n",
    "plt.title('{} x{} acc +/- 2*SEM'.format(architecture.upper(), branches))\n",
    "\n",
    "if not os.path.isdir('figs'):\n",
    "    os.system('mkdir figs')\n",
    "    \n",
    "plt.savefig('figs/{}-{}-results.png'.format(architecture, branches))\n",
    "plt.show()"
   ]
  },
  {
   "cell_type": "markdown",
   "metadata": {},
   "source": [
    "## Batch Size"
   ]
  },
  {
   "cell_type": "code",
   "execution_count": 11,
   "metadata": {},
   "outputs": [],
   "source": [
    "# batch_size_list = [10, 20, 40, 80, 100, 160, 200]\n",
    "# batch_size_acc = []\n",
    "\n",
    "# for batch_size in batch_size_list:\n",
    "#     arr = []\n",
    "#     for i in range(8):\n",
    "#         df = pd.read_csv('results/batch_size/mnist-fcn/batch_{}/train_{}.csv'.format(batch_size,i+1))\n",
    "#         arr.append(df.iloc[-1]['val_acc'])\n",
    "#     batch_size_acc.append([np.mean(arr), np.std(arr)])"
   ]
  },
  {
   "cell_type": "code",
   "execution_count": 12,
   "metadata": {},
   "outputs": [],
   "source": [
    "# batch_size_acc = np.array(batch_size_acc)\n",
    "\n",
    "# # plt.plot(batch_size_list, batch_size_acc[:, 0])\n",
    "# trials = 8\n",
    "# error = batch_size_acc[:, 1] / np.sqrt(trials)\n",
    "# plt.errorbar(batch_size_list, batch_size_acc[:, 0], error*2)\n",
    "# plt.title('fcn val acc vs. batch size')\n",
    "# plt.xlabel('batch size')\n",
    "# plt.ylabel('val acc')\n",
    "\n",
    "# plt.savefig('figs/fcn-val-acc-batch-size.png')\n",
    "# plt.show()"
   ]
  },
  {
   "cell_type": "code",
   "execution_count": null,
   "metadata": {},
   "outputs": [],
   "source": []
  }
 ],
 "metadata": {
  "kernelspec": {
   "display_name": "Python 3",
   "language": "python",
   "name": "python3"
  },
  "language_info": {
   "codemirror_mode": {
    "name": "ipython",
    "version": 3
   },
   "file_extension": ".py",
   "mimetype": "text/x-python",
   "name": "python",
   "nbconvert_exporter": "python",
   "pygments_lexer": "ipython3",
   "version": "3.6.0"
  }
 },
 "nbformat": 4,
 "nbformat_minor": 2
}
