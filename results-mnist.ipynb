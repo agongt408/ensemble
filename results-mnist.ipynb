{
 "cells": [
  {
   "cell_type": "markdown",
   "metadata": {},
   "source": [
    "# Make Results Figures"
   ]
  },
  {
   "cell_type": "code",
   "execution_count": 1,
   "metadata": {},
   "outputs": [],
   "source": [
    "import numpy as np\n",
    "import pandas as pd\n",
    "import matplotlib.pyplot as plt\n",
    "import os"
   ]
  },
  {
   "cell_type": "code",
   "execution_count": 2,
   "metadata": {},
   "outputs": [],
   "source": [
    "architecture = 'fcn'\n",
    "branches = 4\n",
    "shared_frac_list = [0, 0.25, 0.5, 0.75, 1]\n",
    "bagging = 1.0"
   ]
  },
  {
   "cell_type": "markdown",
   "metadata": {},
   "source": [
    "## Ensemble"
   ]
  },
  {
   "cell_type": "code",
   "execution_count": 3,
   "metadata": {},
   "outputs": [],
   "source": [
    "df = pd.read_csv(f'results/mnist-{architecture}/B{branches}-test.csv')"
   ]
  },
  {
   "cell_type": "code",
   "execution_count": 4,
   "metadata": {},
   "outputs": [
    {
     "data": {
      "text/html": [
       "<div>\n",
       "<style scoped>\n",
       "    .dataframe tbody tr th:only-of-type {\n",
       "        vertical-align: middle;\n",
       "    }\n",
       "\n",
       "    .dataframe tbody tr th {\n",
       "        vertical-align: top;\n",
       "    }\n",
       "\n",
       "    .dataframe thead th {\n",
       "        text-align: right;\n",
       "    }\n",
       "</style>\n",
       "<table border=\"1\" class=\"dataframe\">\n",
       "  <thead>\n",
       "    <tr style=\"text-align: right;\">\n",
       "      <th></th>\n",
       "      <th>Unnamed: 0</th>\n",
       "      <th>acc_1</th>\n",
       "      <th>acc_2</th>\n",
       "      <th>acc_3</th>\n",
       "      <th>acc_4</th>\n",
       "      <th>after_mean_acc</th>\n",
       "      <th>before_mean_acc</th>\n",
       "      <th>model_id_1</th>\n",
       "      <th>model_id_2</th>\n",
       "      <th>model_id_3</th>\n",
       "      <th>model_id_4</th>\n",
       "    </tr>\n",
       "  </thead>\n",
       "  <tbody>\n",
       "    <tr>\n",
       "      <th>0</th>\n",
       "      <td>0</td>\n",
       "      <td>0.9474</td>\n",
       "      <td>0.9436</td>\n",
       "      <td>0.9375</td>\n",
       "      <td>0.9425</td>\n",
       "      <td>0.9487</td>\n",
       "      <td>0.9487</td>\n",
       "      <td>1</td>\n",
       "      <td>3</td>\n",
       "      <td>7</td>\n",
       "      <td>6</td>\n",
       "    </tr>\n",
       "    <tr>\n",
       "      <th>1</th>\n",
       "      <td>0</td>\n",
       "      <td>0.9436</td>\n",
       "      <td>0.9435</td>\n",
       "      <td>0.9429</td>\n",
       "      <td>0.9375</td>\n",
       "      <td>0.9502</td>\n",
       "      <td>0.9503</td>\n",
       "      <td>3</td>\n",
       "      <td>5</td>\n",
       "      <td>2</td>\n",
       "      <td>7</td>\n",
       "    </tr>\n",
       "    <tr>\n",
       "      <th>2</th>\n",
       "      <td>0</td>\n",
       "      <td>0.9427</td>\n",
       "      <td>0.9429</td>\n",
       "      <td>0.9425</td>\n",
       "      <td>0.9463</td>\n",
       "      <td>0.9493</td>\n",
       "      <td>0.9491</td>\n",
       "      <td>4</td>\n",
       "      <td>2</td>\n",
       "      <td>6</td>\n",
       "      <td>8</td>\n",
       "    </tr>\n",
       "    <tr>\n",
       "      <th>3</th>\n",
       "      <td>0</td>\n",
       "      <td>0.9463</td>\n",
       "      <td>0.9474</td>\n",
       "      <td>0.9435</td>\n",
       "      <td>0.9427</td>\n",
       "      <td>0.9510</td>\n",
       "      <td>0.9512</td>\n",
       "      <td>8</td>\n",
       "      <td>1</td>\n",
       "      <td>5</td>\n",
       "      <td>4</td>\n",
       "    </tr>\n",
       "    <tr>\n",
       "      <th>4</th>\n",
       "      <td>0</td>\n",
       "      <td>0.9474</td>\n",
       "      <td>0.9375</td>\n",
       "      <td>0.9425</td>\n",
       "      <td>0.9429</td>\n",
       "      <td>0.9502</td>\n",
       "      <td>0.9496</td>\n",
       "      <td>1</td>\n",
       "      <td>7</td>\n",
       "      <td>6</td>\n",
       "      <td>2</td>\n",
       "    </tr>\n",
       "    <tr>\n",
       "      <th>5</th>\n",
       "      <td>0</td>\n",
       "      <td>0.9436</td>\n",
       "      <td>0.9427</td>\n",
       "      <td>0.9425</td>\n",
       "      <td>0.9474</td>\n",
       "      <td>0.9505</td>\n",
       "      <td>0.9507</td>\n",
       "      <td>3</td>\n",
       "      <td>4</td>\n",
       "      <td>6</td>\n",
       "      <td>1</td>\n",
       "    </tr>\n",
       "    <tr>\n",
       "      <th>6</th>\n",
       "      <td>0</td>\n",
       "      <td>0.9375</td>\n",
       "      <td>0.9436</td>\n",
       "      <td>0.9425</td>\n",
       "      <td>0.9435</td>\n",
       "      <td>0.9496</td>\n",
       "      <td>0.9491</td>\n",
       "      <td>7</td>\n",
       "      <td>3</td>\n",
       "      <td>6</td>\n",
       "      <td>5</td>\n",
       "    </tr>\n",
       "    <tr>\n",
       "      <th>7</th>\n",
       "      <td>0</td>\n",
       "      <td>0.9375</td>\n",
       "      <td>0.9425</td>\n",
       "      <td>0.9474</td>\n",
       "      <td>0.9429</td>\n",
       "      <td>0.9502</td>\n",
       "      <td>0.9496</td>\n",
       "      <td>7</td>\n",
       "      <td>6</td>\n",
       "      <td>1</td>\n",
       "      <td>2</td>\n",
       "    </tr>\n",
       "  </tbody>\n",
       "</table>\n",
       "</div>"
      ],
      "text/plain": [
       "   Unnamed: 0   acc_1   acc_2   acc_3   acc_4  after_mean_acc  \\\n",
       "0           0  0.9474  0.9436  0.9375  0.9425          0.9487   \n",
       "1           0  0.9436  0.9435  0.9429  0.9375          0.9502   \n",
       "2           0  0.9427  0.9429  0.9425  0.9463          0.9493   \n",
       "3           0  0.9463  0.9474  0.9435  0.9427          0.9510   \n",
       "4           0  0.9474  0.9375  0.9425  0.9429          0.9502   \n",
       "5           0  0.9436  0.9427  0.9425  0.9474          0.9505   \n",
       "6           0  0.9375  0.9436  0.9425  0.9435          0.9496   \n",
       "7           0  0.9375  0.9425  0.9474  0.9429          0.9502   \n",
       "\n",
       "   before_mean_acc  model_id_1  model_id_2  model_id_3  model_id_4  \n",
       "0           0.9487           1           3           7           6  \n",
       "1           0.9503           3           5           2           7  \n",
       "2           0.9491           4           2           6           8  \n",
       "3           0.9512           8           1           5           4  \n",
       "4           0.9496           1           7           6           2  \n",
       "5           0.9507           3           4           6           1  \n",
       "6           0.9491           7           3           6           5  \n",
       "7           0.9496           7           6           1           2  "
      ]
     },
     "execution_count": 4,
     "metadata": {},
     "output_type": "execute_result"
    }
   ],
   "source": [
    "df"
   ]
  },
  {
   "cell_type": "code",
   "execution_count": 5,
   "metadata": {},
   "outputs": [
    {
     "name": "stdout",
     "output_type": "stream",
     "text": [
      "0.9497875 0.000869215574115948\n"
     ]
    }
   ],
   "source": [
    "avg_acc = df['before_mean_acc'].mean()\n",
    "std_acc = df['before_mean_acc'].std()\n",
    "print(avg_acc, std_acc)"
   ]
  },
  {
   "cell_type": "markdown",
   "metadata": {},
   "source": [
    "## Baseline"
   ]
  },
  {
   "cell_type": "code",
   "execution_count": 6,
   "metadata": {},
   "outputs": [
    {
     "name": "stdout",
     "output_type": "stream",
     "text": [
      "0.9433000013232231\n"
     ]
    }
   ],
   "source": [
    "baseline_val_acc = []\n",
    "for i in range(8):\n",
    "    df = pd.read_csv(f'results/mnist-{architecture}/train_{i+1}.csv')\n",
    "    baseline_val_acc.append(df.iloc[-1]['val_acc'])\n",
    "baseline = np.mean(baseline_val_acc)\n",
    "print(baseline)"
   ]
  },
  {
   "cell_type": "code",
   "execution_count": 7,
   "metadata": {},
   "outputs": [
    {
     "name": "stdout",
     "output_type": "stream",
     "text": [
      "[0.9473999738693236, 0.942900002002716, 0.9435999989509584, 0.9427000284194946, 0.9434999823570251, 0.9424999952316284, 0.9375, 0.9463000297546388]\n"
     ]
    }
   ],
   "source": [
    "print(baseline_val_acc)"
   ]
  },
  {
   "cell_type": "markdown",
   "metadata": {},
   "source": [
    "## Virtual Branching"
   ]
  },
  {
   "cell_type": "code",
   "execution_count": 8,
   "metadata": {},
   "outputs": [
    {
     "name": "stdout",
     "output_type": "stream",
     "text": [
      "0 [0.9508000016212464, 0.9526000022888184, 0.9508000016212464, 0.9516000151634216]\n",
      "0.25 [0.9503999948501588, 0.9502999782562256, 0.9484999775886536, 0.9496999979019164]\n",
      "0.5 [0.94650000333786, 0.9484999775886536, 0.9473000168800354, 0.948099970817566]\n",
      "0.75 [0.9466999769210817, 0.9477999806404114, 0.9473999738693236, 0.9473999738693236]\n",
      "1 [0.9484999775886536, 0.9441999793052672, 0.9459999799728394, 0.94650000333786]\n"
     ]
    }
   ],
   "source": [
    "results = {}\n",
    "results_std = {}\n",
    "for frac in shared_frac_list:\n",
    "    val_acc = []\n",
    "    for i in range(4):\n",
    "        df = pd.read_csv(f'results/vb-mnist-{architecture}/' \\\n",
    "                         f'B{branches}/S{frac:.2f}/train_{i+1}.csv')\n",
    "        val_acc.append(df.iloc[-1]['val_acc_ensemble'])\n",
    "    print(frac, val_acc)\n",
    "    results[frac] = np.mean(val_acc)\n",
    "    results_std[frac] = np.std(val_acc)"
   ]
  },
  {
   "cell_type": "code",
   "execution_count": 9,
   "metadata": {},
   "outputs": [
    {
     "data": {
      "text/plain": [
       "{0: 0.9514500051736832,\n",
       " 0.25: 0.9497249871492386,\n",
       " 0.5: 0.9475999921560287,\n",
       " 0.75: 0.9473249763250351,\n",
       " 1: 0.9462999850511551}"
      ]
     },
     "execution_count": 9,
     "metadata": {},
     "output_type": "execute_result"
    }
   ],
   "source": [
    "results"
   ]
  },
  {
   "cell_type": "markdown",
   "metadata": {},
   "source": [
    "## Create Figure"
   ]
  },
  {
   "cell_type": "code",
   "execution_count": 10,
   "metadata": {},
   "outputs": [
    {
     "data": {
      "image/png": "[encoded data removed]",
      "text/plain": [
       "<Figure size 432x288 with 1 Axes>"
      ]
     },
     "metadata": {
      "needs_background": "light"
     },
     "output_type": "display_data"
    }
   ],
   "source": [
    "results_list = list(results.items())\n",
    "results_list.sort()\n",
    "results_list = np.array(results_list)\n",
    "\n",
    "plt.plot(results_list[:, 0], results_list[:,1], \n",
    "         label='vbranch', color='blue')\n",
    "trials = 8\n",
    "error = np.sort(np.array(list(results_std.items())), 0)[:, 1] / np.sqrt(trials)\n",
    "plt.errorbar(results_list[:, 0], results_list[:,1], error*2)\n",
    "\n",
    "# plt.plot(results_list[:, 0], [avg_acc]*len(results_list), label='ensemble', linestyle='--')\n",
    "plt.plot(results_list[:, 0], [baseline]*len(results_list), \n",
    "         label='baseline', linestyle='--')\n",
    "\n",
    "plt.legend(loc='lower right')\n",
    "plt.xlabel('shared frac')\n",
    "plt.ylabel('acc')\n",
    "plt.title(f'{architecture.upper()} x{branches} acc +/- 2*SEM')\n",
    "\n",
    "if not os.path.isdir('figs'):\n",
    "    os.system('mkdir figs')\n",
    "    \n",
    "plt.savefig(f'figs/{architecture}-{branches}-results.png')\n",
    "plt.show()"
   ]
  },
  {
   "cell_type": "code",
   "execution_count": null,
   "metadata": {},
   "outputs": [],
   "source": []
  }
 ],
 "metadata": {
  "kernelspec": {
   "display_name": "Python 3",
   "language": "python",
   "name": "python3"
  },
  "language_info": {
   "codemirror_mode": {
    "name": "ipython",
    "version": 3
   },
   "file_extension": ".py",
   "mimetype": "text/x-python",
   "name": "python",
   "nbconvert_exporter": "python",
   "pygments_lexer": "ipython3",
   "version": "3.6.0"
  }
 },
 "nbformat": 4,
 "nbformat_minor": 2
}
