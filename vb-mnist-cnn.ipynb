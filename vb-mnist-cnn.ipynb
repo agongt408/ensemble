{
 "cells": [
  {
   "cell_type": "markdown",
   "metadata": {},
   "source": [
    "# MNIST FCN with Virtual Branching"
   ]
  },
  {
   "cell_type": "code",
   "execution_count": 1,
   "metadata": {},
   "outputs": [],
   "source": [
    "import tensorflow as tf\n",
    "import numpy as np\n",
    "import os\n",
    "from scipy.special import softmax\n",
    "import matplotlib.pyplot as plt"
   ]
  },
  {
   "cell_type": "code",
   "execution_count": 2,
   "metadata": {},
   "outputs": [],
   "source": [
    "import vbranch as vb"
   ]
  },
  {
   "cell_type": "code",
   "execution_count": 3,
   "metadata": {},
   "outputs": [],
   "source": [
    "save = True\n",
    "model_id = 1"
   ]
  },
  {
   "cell_type": "markdown",
   "metadata": {},
   "source": [
    "## Load Data"
   ]
  },
  {
   "cell_type": "code",
   "execution_count": 4,
   "metadata": {},
   "outputs": [],
   "source": [
    "(X_train, y_train), (X_test, y_test) = tf.keras.datasets.mnist.load_data()"
   ]
  },
  {
   "cell_type": "code",
   "execution_count": 5,
   "metadata": {},
   "outputs": [],
   "source": [
    "num_classes = 10"
   ]
  },
  {
   "cell_type": "code",
   "execution_count": 6,
   "metadata": {},
   "outputs": [],
   "source": [
    "X_train = X_train[..., np.newaxis]\n",
    "X_test = X_test[..., np.newaxis]\n",
    "\n",
    "y_train_one_hot = tf.keras.utils.to_categorical(y_train, num_classes)\n",
    "y_test_one_hot = tf.keras.utils.to_categorical(y_test, num_classes)"
   ]
  },
  {
   "cell_type": "markdown",
   "metadata": {},
   "source": [
    "## Train"
   ]
  },
  {
   "cell_type": "markdown",
   "metadata": {},
   "source": [
    "### Build Model"
   ]
  },
  {
   "cell_type": "code",
   "execution_count": 7,
   "metadata": {},
   "outputs": [],
   "source": [
    "BATCH_SIZE = 32\n",
    "EPOCHS = 10\n",
    "STEPS_PER_EPOCH = 100\n",
    "NUM_BRANCHES = 2\n",
    "model_path = './models/vb-mnist-cnn-B' + str(NUM_BRANCHES) + '_' + str(model_id)"
   ]
  },
  {
   "cell_type": "code",
   "execution_count": 8,
   "metadata": {},
   "outputs": [
    {
     "data": {
      "text/plain": [
       "'./models/vb-mnist-cnn-B2_1'"
      ]
     },
     "execution_count": 8,
     "metadata": {},
     "output_type": "execute_result"
    }
   ],
   "source": [
    "model_path"
   ]
  },
  {
   "cell_type": "code",
   "execution_count": 9,
   "metadata": {},
   "outputs": [],
   "source": [
    "tf.reset_default_graph()\n",
    "\n",
    "train_data = (X_train.astype('float32'), y_train_one_hot)\n",
    "test_data = (X_test.astype('float32'), y_test_one_hot)\n",
    "\n",
    "batch_size = tf.placeholder('int64', name='batch_size')\n",
    "\n",
    "train_datasets = []\n",
    "test_datasets = []\n",
    "inputs = [None] * NUM_BRANCHES\n",
    "labels_one_hot = [None] * NUM_BRANCHES\n",
    "train_init_ops = []\n",
    "test_init_ops = []\n",
    "\n",
    "for i in range(NUM_BRANCHES):\n",
    "    train_datasets.append(tf.data.Dataset.from_tensor_slices(train_data).\\\n",
    "        batch(batch_size).repeat().\\\n",
    "        shuffle(buffer_size=4*BATCH_SIZE))\n",
    "\n",
    "    test_datasets.append(tf.data.Dataset.from_tensor_slices(test_data).\\\n",
    "        batch(batch_size))\n",
    "    \n",
    "    iterator = tf.data.Iterator.from_structure(train_datasets[i].output_types, \n",
    "                                           train_datasets[i].output_shapes)\n",
    "    inputs[i], labels_one_hot[i] = iterator.get_next()    \n",
    "\n",
    "    train_init_ops.append(iterator.make_initializer(train_datasets[i]))\n",
    "    test_init_ops.append(iterator.make_initializer(test_datasets[i], \n",
    "                                                name='test_init_op_'+str(i+1)))"
   ]
  },
  {
   "cell_type": "code",
   "execution_count": 10,
   "metadata": {},
   "outputs": [],
   "source": [
    "with tf.variable_scope('model_' + str(model_id), reuse=tf.AUTO_REUSE):\n",
    "    model = vb.models.vbranch_cnn(inputs, num_classes, \n",
    "                                  ([16]*NUM_BRANCHES, 8), ([32]*NUM_BRANCHES, 16), \n",
    "                                  branches=NUM_BRANCHES)"
   ]
  },
  {
   "cell_type": "code",
   "execution_count": 11,
   "metadata": {
    "scrolled": false
   },
   "outputs": [
    {
     "name": "stdout",
     "output_type": "stream",
     "text": [
      "i   Layer name          Output shapes                           Num param \n",
      "--------------------------------------------------------------------------\n",
      "    Input               [None,28,28,1]                                    \n",
      "--------------------------------------------------------------------------\n",
      "    Input               [None,28,28,1]                                    \n",
      "--------------------------------------------------------------------------\n",
      "0   bn_1_1              [None,28,28,1]                          4         \n",
      "                        [None,28,28,1]                                    \n",
      "--------------------------------------------------------------------------\n",
      "1   relu_1_1            [None,28,28,1]                          0         \n",
      "                        [None,28,28,1]                                    \n",
      "--------------------------------------------------------------------------\n",
      "2   conv2d_1_1          [None,26,26,8] [None,26,26,8]           240       \n",
      "                        [None,26,26,8] [None,26,26,8]                     \n",
      "--------------------------------------------------------------------------\n",
      "3   bn_1_2              [None,26,26,8] [None,26,26,8]           48        \n",
      "                        [None,26,26,8] [None,26,26,8]                     \n",
      "--------------------------------------------------------------------------\n",
      "4   relu_1_2            [None,26,26,8] [None,26,26,8]           0         \n",
      "                        [None,26,26,8] [None,26,26,8]                     \n",
      "--------------------------------------------------------------------------\n",
      "5   conv2d_1_2          [None,24,24,8] [None,24,24,8]           4088      \n",
      "                        [None,24,24,8] [None,24,24,8]                     \n",
      "--------------------------------------------------------------------------\n",
      "6   avg_pool2d_1        [None,12,12,8] [None,12,12,8]           0         \n",
      "                        [None,12,12,8] [None,12,12,8]                     \n",
      "--------------------------------------------------------------------------\n",
      "7   bn_2_1              [None,12,12,8] [None,12,12,8]           48        \n",
      "                        [None,12,12,8] [None,12,12,8]                     \n",
      "--------------------------------------------------------------------------\n",
      "8   relu_2_1            [None,12,12,8] [None,12,12,8]           0         \n",
      "                        [None,12,12,8] [None,12,12,8]                     \n",
      "--------------------------------------------------------------------------\n",
      "9   conv2d_2_1          [None,10,10,16] [None,10,10,16]         8176      \n",
      "                        [None,10,10,16] [None,10,10,16]                   \n",
      "--------------------------------------------------------------------------\n",
      "10  bn_2_2              [None,10,10,16] [None,10,10,16]         96        \n",
      "                        [None,10,10,16] [None,10,10,16]                   \n",
      "--------------------------------------------------------------------------\n",
      "11  relu_2_2            [None,10,10,16] [None,10,10,16]         0         \n",
      "                        [None,10,10,16] [None,10,10,16]                   \n",
      "--------------------------------------------------------------------------\n",
      "12  conv2d_2_2          [None,8,8,16] [None,8,8,16]             16240     \n",
      "                        [None,8,8,16] [None,8,8,16]                       \n",
      "--------------------------------------------------------------------------\n",
      "13  global_avg_pool2d   [None,16] [None,16]                     0         \n",
      "                        [None,16] [None,16]                               \n",
      "--------------------------------------------------------------------------\n",
      "14  fc1                 [None,16] [None,16]                     1904      \n",
      "                        [None,16] [None,16]                               \n",
      "--------------------------------------------------------------------------\n",
      "15  bn_fc1              [None,16] [None,16]                     96        \n",
      "                        [None,16] [None,16]                               \n",
      "--------------------------------------------------------------------------\n",
      "16  relu_fc1            [None,16] [None,16]                     0         \n",
      "                        [None,16] [None,16]                               \n",
      "--------------------------------------------------------------------------\n",
      "17  output              [None,10]                               660       \n",
      "                        [None,10]                                         \n",
      "--------------------------------------------------------------------------\n",
      "Total parameters: 31600\n"
     ]
    }
   ],
   "source": [
    "model.summary()"
   ]
  },
  {
   "cell_type": "code",
   "execution_count": 12,
   "metadata": {},
   "outputs": [
    {
     "data": {
      "text/plain": [
       "[<tf.Tensor 'model_1/output_vb1:0' shape=(?, 10) dtype=float32>,\n",
       " <tf.Tensor 'model_1/output_vb2:0' shape=(?, 10) dtype=float32>]"
      ]
     },
     "execution_count": 12,
     "metadata": {},
     "output_type": "execute_result"
    }
   ],
   "source": [
    "model.output"
   ]
  },
  {
   "cell_type": "code",
   "execution_count": 13,
   "metadata": {
    "scrolled": false
   },
   "outputs": [
    {
     "data": {
      "text/plain": [
       "[<tf.Variable 'model_1/bn_1_1_vb1_unique_to_unique_scale:0' shape=(1,) dtype=float32_ref>,\n",
       " <tf.Variable 'model_1/bn_1_1_vb1_unique_to_unique_beta:0' shape=(1,) dtype=float32_ref>,\n",
       " <tf.Variable 'model_1/bn_1_1_vb2_unique_to_unique_scale:0' shape=(1,) dtype=float32_ref>,\n",
       " <tf.Variable 'model_1/bn_1_1_vb2_unique_to_unique_beta:0' shape=(1,) dtype=float32_ref>,\n",
       " <tf.Variable 'model_1/conv2d_1_1_shared_to_shared_f:0' shape=(3, 3, 1, 8) dtype=float32_ref>,\n",
       " <tf.Variable 'model_1/conv2d_1_1_shared_to_shared_b:0' shape=(8,) dtype=float32_ref>,\n",
       " <tf.Variable 'model_1/conv2d_1_1_vb1_shared_to_unique_f:0' shape=(3, 3, 1, 8) dtype=float32_ref>,\n",
       " <tf.Variable 'model_1/conv2d_1_1_vb1_shared_to_unique_b:0' shape=(8,) dtype=float32_ref>,\n",
       " <tf.Variable 'model_1/conv2d_1_1_vb2_shared_to_unique_f:0' shape=(3, 3, 1, 8) dtype=float32_ref>,\n",
       " <tf.Variable 'model_1/conv2d_1_1_vb2_shared_to_unique_b:0' shape=(8,) dtype=float32_ref>,\n",
       " <tf.Variable 'model_1/bn_1_2_shared_to_shared_scale:0' shape=(8,) dtype=float32_ref>,\n",
       " <tf.Variable 'model_1/bn_1_2_shared_to_shared_beta:0' shape=(8,) dtype=float32_ref>,\n",
       " <tf.Variable 'model_1/bn_1_2_vb1_unique_to_unique_scale:0' shape=(8,) dtype=float32_ref>,\n",
       " <tf.Variable 'model_1/bn_1_2_vb1_unique_to_unique_beta:0' shape=(8,) dtype=float32_ref>,\n",
       " <tf.Variable 'model_1/bn_1_2_vb2_unique_to_unique_scale:0' shape=(8,) dtype=float32_ref>,\n",
       " <tf.Variable 'model_1/bn_1_2_vb2_unique_to_unique_beta:0' shape=(8,) dtype=float32_ref>,\n",
       " <tf.Variable 'model_1/conv2d_1_2_shared_to_shared_f:0' shape=(3, 3, 8, 8) dtype=float32_ref>,\n",
       " <tf.Variable 'model_1/conv2d_1_2_shared_to_shared_b:0' shape=(8,) dtype=float32_ref>,\n",
       " <tf.Variable 'model_1/conv2d_1_2_vb1_unique_to_shared_f:0' shape=(3, 3, 8, 8) dtype=float32_ref>,\n",
       " <tf.Variable 'model_1/conv2d_1_2_vb1_unique_to_shared_b:0' shape=(8,) dtype=float32_ref>,\n",
       " <tf.Variable 'model_1/conv2d_1_2_vb1_shared_to_unique_f:0' shape=(3, 3, 8, 8) dtype=float32_ref>,\n",
       " <tf.Variable 'model_1/conv2d_1_2_vb1_shared_to_unique_b:0' shape=(8,) dtype=float32_ref>,\n",
       " <tf.Variable 'model_1/conv2d_1_2_vb1_unique_to_unique_f:0' shape=(3, 3, 8, 8) dtype=float32_ref>,\n",
       " <tf.Variable 'model_1/conv2d_1_2_vb1_unique_to_unique_b:0' shape=(8,) dtype=float32_ref>,\n",
       " <tf.Variable 'model_1/conv2d_1_2_vb2_unique_to_shared_f:0' shape=(3, 3, 8, 8) dtype=float32_ref>,\n",
       " <tf.Variable 'model_1/conv2d_1_2_vb2_unique_to_shared_b:0' shape=(8,) dtype=float32_ref>,\n",
       " <tf.Variable 'model_1/conv2d_1_2_vb2_shared_to_unique_f:0' shape=(3, 3, 8, 8) dtype=float32_ref>,\n",
       " <tf.Variable 'model_1/conv2d_1_2_vb2_shared_to_unique_b:0' shape=(8,) dtype=float32_ref>,\n",
       " <tf.Variable 'model_1/conv2d_1_2_vb2_unique_to_unique_f:0' shape=(3, 3, 8, 8) dtype=float32_ref>,\n",
       " <tf.Variable 'model_1/conv2d_1_2_vb2_unique_to_unique_b:0' shape=(8,) dtype=float32_ref>,\n",
       " <tf.Variable 'model_1/bn_2_1_shared_to_shared_scale:0' shape=(8,) dtype=float32_ref>,\n",
       " <tf.Variable 'model_1/bn_2_1_shared_to_shared_beta:0' shape=(8,) dtype=float32_ref>,\n",
       " <tf.Variable 'model_1/bn_2_1_vb1_unique_to_unique_scale:0' shape=(8,) dtype=float32_ref>,\n",
       " <tf.Variable 'model_1/bn_2_1_vb1_unique_to_unique_beta:0' shape=(8,) dtype=float32_ref>,\n",
       " <tf.Variable 'model_1/bn_2_1_vb2_unique_to_unique_scale:0' shape=(8,) dtype=float32_ref>,\n",
       " <tf.Variable 'model_1/bn_2_1_vb2_unique_to_unique_beta:0' shape=(8,) dtype=float32_ref>,\n",
       " <tf.Variable 'model_1/conv2d_2_1_shared_to_shared_f:0' shape=(3, 3, 8, 16) dtype=float32_ref>,\n",
       " <tf.Variable 'model_1/conv2d_2_1_shared_to_shared_b:0' shape=(16,) dtype=float32_ref>,\n",
       " <tf.Variable 'model_1/conv2d_2_1_vb1_unique_to_shared_f:0' shape=(3, 3, 8, 16) dtype=float32_ref>,\n",
       " <tf.Variable 'model_1/conv2d_2_1_vb1_unique_to_shared_b:0' shape=(16,) dtype=float32_ref>,\n",
       " <tf.Variable 'model_1/conv2d_2_1_vb1_shared_to_unique_f:0' shape=(3, 3, 8, 16) dtype=float32_ref>,\n",
       " <tf.Variable 'model_1/conv2d_2_1_vb1_shared_to_unique_b:0' shape=(16,) dtype=float32_ref>,\n",
       " <tf.Variable 'model_1/conv2d_2_1_vb1_unique_to_unique_f:0' shape=(3, 3, 8, 16) dtype=float32_ref>,\n",
       " <tf.Variable 'model_1/conv2d_2_1_vb1_unique_to_unique_b:0' shape=(16,) dtype=float32_ref>,\n",
       " <tf.Variable 'model_1/conv2d_2_1_vb2_unique_to_shared_f:0' shape=(3, 3, 8, 16) dtype=float32_ref>,\n",
       " <tf.Variable 'model_1/conv2d_2_1_vb2_unique_to_shared_b:0' shape=(16,) dtype=float32_ref>,\n",
       " <tf.Variable 'model_1/conv2d_2_1_vb2_shared_to_unique_f:0' shape=(3, 3, 8, 16) dtype=float32_ref>,\n",
       " <tf.Variable 'model_1/conv2d_2_1_vb2_shared_to_unique_b:0' shape=(16,) dtype=float32_ref>,\n",
       " <tf.Variable 'model_1/conv2d_2_1_vb2_unique_to_unique_f:0' shape=(3, 3, 8, 16) dtype=float32_ref>,\n",
       " <tf.Variable 'model_1/conv2d_2_1_vb2_unique_to_unique_b:0' shape=(16,) dtype=float32_ref>,\n",
       " <tf.Variable 'model_1/bn_2_2_shared_to_shared_scale:0' shape=(16,) dtype=float32_ref>,\n",
       " <tf.Variable 'model_1/bn_2_2_shared_to_shared_beta:0' shape=(16,) dtype=float32_ref>,\n",
       " <tf.Variable 'model_1/bn_2_2_vb1_unique_to_unique_scale:0' shape=(16,) dtype=float32_ref>,\n",
       " <tf.Variable 'model_1/bn_2_2_vb1_unique_to_unique_beta:0' shape=(16,) dtype=float32_ref>,\n",
       " <tf.Variable 'model_1/bn_2_2_vb2_unique_to_unique_scale:0' shape=(16,) dtype=float32_ref>,\n",
       " <tf.Variable 'model_1/bn_2_2_vb2_unique_to_unique_beta:0' shape=(16,) dtype=float32_ref>,\n",
       " <tf.Variable 'model_1/conv2d_2_2_shared_to_shared_f:0' shape=(3, 3, 16, 16) dtype=float32_ref>,\n",
       " <tf.Variable 'model_1/conv2d_2_2_shared_to_shared_b:0' shape=(16,) dtype=float32_ref>,\n",
       " <tf.Variable 'model_1/conv2d_2_2_vb1_unique_to_shared_f:0' shape=(3, 3, 16, 16) dtype=float32_ref>,\n",
       " <tf.Variable 'model_1/conv2d_2_2_vb1_unique_to_shared_b:0' shape=(16,) dtype=float32_ref>,\n",
       " <tf.Variable 'model_1/conv2d_2_2_vb1_shared_to_unique_f:0' shape=(3, 3, 16, 16) dtype=float32_ref>,\n",
       " <tf.Variable 'model_1/conv2d_2_2_vb1_shared_to_unique_b:0' shape=(16,) dtype=float32_ref>,\n",
       " <tf.Variable 'model_1/conv2d_2_2_vb1_unique_to_unique_f:0' shape=(3, 3, 16, 16) dtype=float32_ref>,\n",
       " <tf.Variable 'model_1/conv2d_2_2_vb1_unique_to_unique_b:0' shape=(16,) dtype=float32_ref>,\n",
       " <tf.Variable 'model_1/conv2d_2_2_vb2_unique_to_shared_f:0' shape=(3, 3, 16, 16) dtype=float32_ref>,\n",
       " <tf.Variable 'model_1/conv2d_2_2_vb2_unique_to_shared_b:0' shape=(16,) dtype=float32_ref>,\n",
       " <tf.Variable 'model_1/conv2d_2_2_vb2_shared_to_unique_f:0' shape=(3, 3, 16, 16) dtype=float32_ref>,\n",
       " <tf.Variable 'model_1/conv2d_2_2_vb2_shared_to_unique_b:0' shape=(16,) dtype=float32_ref>,\n",
       " <tf.Variable 'model_1/conv2d_2_2_vb2_unique_to_unique_f:0' shape=(3, 3, 16, 16) dtype=float32_ref>,\n",
       " <tf.Variable 'model_1/conv2d_2_2_vb2_unique_to_unique_b:0' shape=(16,) dtype=float32_ref>,\n",
       " <tf.Variable 'model_1/fc1_shared_to_shared_w:0' shape=(16, 16) dtype=float32_ref>,\n",
       " <tf.Variable 'model_1/fc1_shared_to_shared_b:0' shape=(16,) dtype=float32_ref>,\n",
       " <tf.Variable 'model_1/fc1_vb1_unique_to_shared_w:0' shape=(16, 16) dtype=float32_ref>,\n",
       " <tf.Variable 'model_1/fc1_vb1_unique_to_shared_b:0' shape=(16,) dtype=float32_ref>,\n",
       " <tf.Variable 'model_1/fc1_vb1_shared_to_unique_w:0' shape=(16, 16) dtype=float32_ref>,\n",
       " <tf.Variable 'model_1/fc1_vb1_shared_to_unique_b:0' shape=(16,) dtype=float32_ref>,\n",
       " <tf.Variable 'model_1/fc1_vb1_unique_to_unique_w:0' shape=(16, 16) dtype=float32_ref>,\n",
       " <tf.Variable 'model_1/fc1_vb1_unique_to_unique_b:0' shape=(16,) dtype=float32_ref>,\n",
       " <tf.Variable 'model_1/fc1_vb2_unique_to_shared_w:0' shape=(16, 16) dtype=float32_ref>,\n",
       " <tf.Variable 'model_1/fc1_vb2_unique_to_shared_b:0' shape=(16,) dtype=float32_ref>,\n",
       " <tf.Variable 'model_1/fc1_vb2_shared_to_unique_w:0' shape=(16, 16) dtype=float32_ref>,\n",
       " <tf.Variable 'model_1/fc1_vb2_shared_to_unique_b:0' shape=(16,) dtype=float32_ref>,\n",
       " <tf.Variable 'model_1/fc1_vb2_unique_to_unique_w:0' shape=(16, 16) dtype=float32_ref>,\n",
       " <tf.Variable 'model_1/fc1_vb2_unique_to_unique_b:0' shape=(16,) dtype=float32_ref>,\n",
       " <tf.Variable 'model_1/bn_fc1_shared_to_shared_scale:0' shape=(16,) dtype=float32_ref>,\n",
       " <tf.Variable 'model_1/bn_fc1_shared_to_shared_beta:0' shape=(16,) dtype=float32_ref>,\n",
       " <tf.Variable 'model_1/bn_fc1_vb1_unique_to_unique_scale:0' shape=(16,) dtype=float32_ref>,\n",
       " <tf.Variable 'model_1/bn_fc1_vb1_unique_to_unique_beta:0' shape=(16,) dtype=float32_ref>,\n",
       " <tf.Variable 'model_1/bn_fc1_vb2_unique_to_unique_scale:0' shape=(16,) dtype=float32_ref>,\n",
       " <tf.Variable 'model_1/bn_fc1_vb2_unique_to_unique_beta:0' shape=(16,) dtype=float32_ref>,\n",
       " <tf.Variable 'model_1/output_vb1_w:0' shape=(32, 10) dtype=float32_ref>,\n",
       " <tf.Variable 'model_1/output_vb1_b:0' shape=(10,) dtype=float32_ref>,\n",
       " <tf.Variable 'model_1/output_vb2_w:0' shape=(32, 10) dtype=float32_ref>,\n",
       " <tf.Variable 'model_1/output_vb2_b:0' shape=(10,) dtype=float32_ref>]"
      ]
     },
     "execution_count": 13,
     "metadata": {},
     "output_type": "execute_result"
    }
   ],
   "source": [
    "tf.global_variables()"
   ]
  },
  {
   "cell_type": "markdown",
   "metadata": {},
   "source": [
    "### Declare Training Ops"
   ]
  },
  {
   "cell_type": "code",
   "execution_count": 14,
   "metadata": {},
   "outputs": [],
   "source": [
    "def get_shared_unshared_vars():\n",
    "    \"\"\"\n",
    "    Get shared variables (in order to later average gradients)\n",
    "    and unshared variables (unique to each branch)\"\"\"\n",
    "    \n",
    "    shared_vars = []\n",
    "    unshared_vars = [[] for i in range(NUM_BRANCHES)]\n",
    "    \n",
    "    for var in tf.global_variables():\n",
    "        if 'shared_to_shared' in var.name:\n",
    "            shared_vars.append(var)\n",
    "        else:\n",
    "            for i in range(NUM_BRANCHES):\n",
    "                if 'vb'+str(i+1) in var.name:\n",
    "                    unshared_vars[i].append(var)\n",
    "            \n",
    "    return shared_vars, unshared_vars"
   ]
  },
  {
   "cell_type": "code",
   "execution_count": 15,
   "metadata": {},
   "outputs": [],
   "source": [
    "shared_vars, unshared_vars = get_shared_unshared_vars()"
   ]
  },
  {
   "cell_type": "code",
   "execution_count": 16,
   "metadata": {},
   "outputs": [
    {
     "data": {
      "text/plain": [
       "[<tf.Variable 'model_1/conv2d_1_1_shared_to_shared_f:0' shape=(3, 3, 1, 8) dtype=float32_ref>,\n",
       " <tf.Variable 'model_1/conv2d_1_1_shared_to_shared_b:0' shape=(8,) dtype=float32_ref>,\n",
       " <tf.Variable 'model_1/bn_1_2_shared_to_shared_scale:0' shape=(8,) dtype=float32_ref>,\n",
       " <tf.Variable 'model_1/bn_1_2_shared_to_shared_beta:0' shape=(8,) dtype=float32_ref>,\n",
       " <tf.Variable 'model_1/conv2d_1_2_shared_to_shared_f:0' shape=(3, 3, 8, 8) dtype=float32_ref>,\n",
       " <tf.Variable 'model_1/conv2d_1_2_shared_to_shared_b:0' shape=(8,) dtype=float32_ref>,\n",
       " <tf.Variable 'model_1/bn_2_1_shared_to_shared_scale:0' shape=(8,) dtype=float32_ref>,\n",
       " <tf.Variable 'model_1/bn_2_1_shared_to_shared_beta:0' shape=(8,) dtype=float32_ref>,\n",
       " <tf.Variable 'model_1/conv2d_2_1_shared_to_shared_f:0' shape=(3, 3, 8, 16) dtype=float32_ref>,\n",
       " <tf.Variable 'model_1/conv2d_2_1_shared_to_shared_b:0' shape=(16,) dtype=float32_ref>,\n",
       " <tf.Variable 'model_1/bn_2_2_shared_to_shared_scale:0' shape=(16,) dtype=float32_ref>,\n",
       " <tf.Variable 'model_1/bn_2_2_shared_to_shared_beta:0' shape=(16,) dtype=float32_ref>,\n",
       " <tf.Variable 'model_1/conv2d_2_2_shared_to_shared_f:0' shape=(3, 3, 16, 16) dtype=float32_ref>,\n",
       " <tf.Variable 'model_1/conv2d_2_2_shared_to_shared_b:0' shape=(16,) dtype=float32_ref>,\n",
       " <tf.Variable 'model_1/fc1_shared_to_shared_w:0' shape=(16, 16) dtype=float32_ref>,\n",
       " <tf.Variable 'model_1/fc1_shared_to_shared_b:0' shape=(16,) dtype=float32_ref>,\n",
       " <tf.Variable 'model_1/bn_fc1_shared_to_shared_scale:0' shape=(16,) dtype=float32_ref>,\n",
       " <tf.Variable 'model_1/bn_fc1_shared_to_shared_beta:0' shape=(16,) dtype=float32_ref>]"
      ]
     },
     "execution_count": 16,
     "metadata": {},
     "output_type": "execute_result"
    }
   ],
   "source": [
    "shared_vars"
   ]
  },
  {
   "cell_type": "code",
   "execution_count": 17,
   "metadata": {},
   "outputs": [],
   "source": [
    "# Multi output loss\n",
    "optimizer = tf.train.AdamOptimizer(learning_rate=0.001)\n",
    "\n",
    "losses = []\n",
    "# Store gradients from shared variables over each branch\n",
    "shared_grads = []\n",
    "unshared_train_ops = []\n",
    "\n",
    "for i in range(NUM_BRANCHES):\n",
    "    loss = vb.losses.softmax_cross_entropy_with_logits(labels=labels_one_hot[i], \n",
    "                                                       logits=model.output[i], \n",
    "                                                       name='loss_'+str(i+1))\n",
    "    losses.append(loss)\n",
    "    \n",
    "    # Compute gradients of shared vars for each branch (but don't apply)\n",
    "    if len(shared_vars) > 0:\n",
    "        shared_grads.append(optimizer.compute_gradients(loss, var_list=shared_vars))\n",
    "        \n",
    "    # Apply gradients for unshared vars for each branch\n",
    "    unshared_train_ops.append(optimizer.minimize(loss, var_list=unshared_vars[i]))"
   ]
  },
  {
   "cell_type": "code",
   "execution_count": 18,
   "metadata": {},
   "outputs": [],
   "source": [
    "# Take average of the gradients over each branch\n",
    "mean_shared_grads = []\n",
    "\n",
    "for v, var in enumerate(shared_vars):\n",
    "    grad = tf.reduce_mean([shared_grads[i][v][0] for i in range(NUM_BRANCHES)], [0])\n",
    "    mean_shared_grads.append((grad, var))\n",
    "    \n",
    "if len(shared_vars) > 0:\n",
    "    shared_train_op = optimizer.apply_gradients(mean_shared_grads)\n",
    "else:\n",
    "    shared_train_op = []"
   ]
  },
  {
   "cell_type": "code",
   "execution_count": 19,
   "metadata": {},
   "outputs": [
    {
     "data": {
      "text/plain": [
       "[(<tf.Tensor 'Mean:0' shape=(3, 3, 1, 8) dtype=float32>,\n",
       "  <tf.Variable 'model_1/conv2d_1_1_shared_to_shared_f:0' shape=(3, 3, 1, 8) dtype=float32_ref>),\n",
       " (<tf.Tensor 'Mean_1:0' shape=(8,) dtype=float32>,\n",
       "  <tf.Variable 'model_1/conv2d_1_1_shared_to_shared_b:0' shape=(8,) dtype=float32_ref>),\n",
       " (<tf.Tensor 'Mean_2:0' shape=(8,) dtype=float32>,\n",
       "  <tf.Variable 'model_1/bn_1_2_shared_to_shared_scale:0' shape=(8,) dtype=float32_ref>),\n",
       " (<tf.Tensor 'Mean_3:0' shape=(8,) dtype=float32>,\n",
       "  <tf.Variable 'model_1/bn_1_2_shared_to_shared_beta:0' shape=(8,) dtype=float32_ref>),\n",
       " (<tf.Tensor 'Mean_4:0' shape=(3, 3, 8, 8) dtype=float32>,\n",
       "  <tf.Variable 'model_1/conv2d_1_2_shared_to_shared_f:0' shape=(3, 3, 8, 8) dtype=float32_ref>),\n",
       " (<tf.Tensor 'Mean_5:0' shape=(8,) dtype=float32>,\n",
       "  <tf.Variable 'model_1/conv2d_1_2_shared_to_shared_b:0' shape=(8,) dtype=float32_ref>),\n",
       " (<tf.Tensor 'Mean_6:0' shape=(8,) dtype=float32>,\n",
       "  <tf.Variable 'model_1/bn_2_1_shared_to_shared_scale:0' shape=(8,) dtype=float32_ref>),\n",
       " (<tf.Tensor 'Mean_7:0' shape=(8,) dtype=float32>,\n",
       "  <tf.Variable 'model_1/bn_2_1_shared_to_shared_beta:0' shape=(8,) dtype=float32_ref>),\n",
       " (<tf.Tensor 'Mean_8:0' shape=(3, 3, 8, 16) dtype=float32>,\n",
       "  <tf.Variable 'model_1/conv2d_2_1_shared_to_shared_f:0' shape=(3, 3, 8, 16) dtype=float32_ref>),\n",
       " (<tf.Tensor 'Mean_9:0' shape=(16,) dtype=float32>,\n",
       "  <tf.Variable 'model_1/conv2d_2_1_shared_to_shared_b:0' shape=(16,) dtype=float32_ref>),\n",
       " (<tf.Tensor 'Mean_10:0' shape=(16,) dtype=float32>,\n",
       "  <tf.Variable 'model_1/bn_2_2_shared_to_shared_scale:0' shape=(16,) dtype=float32_ref>),\n",
       " (<tf.Tensor 'Mean_11:0' shape=(16,) dtype=float32>,\n",
       "  <tf.Variable 'model_1/bn_2_2_shared_to_shared_beta:0' shape=(16,) dtype=float32_ref>),\n",
       " (<tf.Tensor 'Mean_12:0' shape=(3, 3, 16, 16) dtype=float32>,\n",
       "  <tf.Variable 'model_1/conv2d_2_2_shared_to_shared_f:0' shape=(3, 3, 16, 16) dtype=float32_ref>),\n",
       " (<tf.Tensor 'Mean_13:0' shape=(16,) dtype=float32>,\n",
       "  <tf.Variable 'model_1/conv2d_2_2_shared_to_shared_b:0' shape=(16,) dtype=float32_ref>),\n",
       " (<tf.Tensor 'Mean_14:0' shape=(16, 16) dtype=float32>,\n",
       "  <tf.Variable 'model_1/fc1_shared_to_shared_w:0' shape=(16, 16) dtype=float32_ref>),\n",
       " (<tf.Tensor 'Mean_15:0' shape=(16,) dtype=float32>,\n",
       "  <tf.Variable 'model_1/fc1_shared_to_shared_b:0' shape=(16,) dtype=float32_ref>),\n",
       " (<tf.Tensor 'Mean_16:0' shape=(16,) dtype=float32>,\n",
       "  <tf.Variable 'model_1/bn_fc1_shared_to_shared_scale:0' shape=(16,) dtype=float32_ref>),\n",
       " (<tf.Tensor 'Mean_17:0' shape=(16,) dtype=float32>,\n",
       "  <tf.Variable 'model_1/bn_fc1_shared_to_shared_beta:0' shape=(16,) dtype=float32_ref>)]"
      ]
     },
     "execution_count": 19,
     "metadata": {},
     "output_type": "execute_result"
    }
   ],
   "source": [
    "mean_shared_grads"
   ]
  },
  {
   "cell_type": "code",
   "execution_count": 20,
   "metadata": {},
   "outputs": [],
   "source": [
    "train_ops = [unshared_train_ops, shared_train_op]"
   ]
  },
  {
   "cell_type": "code",
   "execution_count": 21,
   "metadata": {},
   "outputs": [],
   "source": [
    "# Train accuracies\n",
    "train_acc_ops = []\n",
    "for i in range(NUM_BRANCHES):\n",
    "    pred_max = tf.one_hot(tf.argmax(tf.nn.softmax(model.output[i]), axis=-1), \n",
    "                          num_classes)\n",
    "    train_acc_op = tf.reduce_mean(tf.reduce_sum(labels_one_hot[i]*pred_max, [1]), \n",
    "                                  name='train_acc_'+str(i+1))\n",
    "    train_acc_ops.append(train_acc_op)\n",
    "\n",
    "# Test accuracy\n",
    "pred = tf.nn.softmax(tf.reduce_mean(model.output, [0]))\n",
    "pred_max = tf.one_hot(tf.argmax(pred, axis=-1), num_classes)\n",
    "test_acc_op = tf.reduce_mean(tf.reduce_sum(labels_one_hot[0]*pred_max, [1]), \n",
    "                             name='test_acc')"
   ]
  },
  {
   "cell_type": "markdown",
   "metadata": {},
   "source": [
    "### Run Ops"
   ]
  },
  {
   "cell_type": "code",
   "execution_count": 22,
   "metadata": {},
   "outputs": [
    {
     "name": "stdout",
     "output_type": "stream",
     "text": [
      "Epoch 1/10\n",
      "100/100 [==============================] - 69s 690ms/step - loss_1: 1.4576 - loss_2: 1.4324 - acc_1: 0.5409 - acc_2: 0.5744 - val_loss: 0.8077 - val_acc: 0.8665 - ind_acc_1: 0.8192 - ind_acc_2: 0.8207\n",
      "Epoch 2/10\n",
      "100/100 [==============================] - 41s 411ms/step - loss_1: 0.6050 - loss_2: 0.6076 - acc_1: 0.8553 - acc_2: 0.8631 - val_loss: 0.4099 - val_acc: 0.9275 - ind_acc_1: 0.8961 - ind_acc_2: 0.9130\n",
      "Epoch 3/10\n",
      "100/100 [==============================] - 36s 358ms/step - loss_1: 0.3892 - loss_2: 0.3922 - acc_1: 0.9028 - acc_2: 0.8994 - val_loss: 0.3095 - val_acc: 0.9380 - ind_acc_1: 0.9160 - ind_acc_2: 0.9226\n",
      "Epoch 4/10\n",
      "100/100 [==============================] - 43s 425ms/step - loss_1: 0.3155 - loss_2: 0.2948 - acc_1: 0.9141 - acc_2: 0.9269 - val_loss: 0.2288 - val_acc: 0.9534 - ind_acc_1: 0.9360 - ind_acc_2: 0.9438\n",
      "Epoch 5/10\n",
      "100/100 [==============================] - 45s 451ms/step - loss_1: 0.2580 - loss_2: 0.2287 - acc_1: 0.9319 - acc_2: 0.9416 - val_loss: 0.1953 - val_acc: 0.9574 - ind_acc_1: 0.9471 - ind_acc_2: 0.9453\n",
      "Epoch 6/10\n",
      "100/100 [==============================] - 45s 454ms/step - loss_1: 0.2213 - loss_2: 0.1888 - acc_1: 0.9384 - acc_2: 0.9525 - val_loss: 0.1845 - val_acc: 0.9609 - ind_acc_1: 0.9465 - ind_acc_2: 0.9508\n",
      "Epoch 7/10\n",
      "100/100 [==============================] - 43s 426ms/step - loss_1: 0.1686 - loss_2: 0.1818 - acc_1: 0.9556 - acc_2: 0.9497 - val_loss: 0.1839 - val_acc: 0.9604 - ind_acc_1: 0.9541 - ind_acc_2: 0.9421\n",
      "Epoch 8/10\n",
      "100/100 [==============================] - 49s 493ms/step - loss_1: 0.1631 - loss_2: 0.1549 - acc_1: 0.9528 - acc_2: 0.9553 - val_loss: 0.1578 - val_acc: 0.9665 - ind_acc_1: 0.9491 - ind_acc_2: 0.9569\n",
      "Epoch 9/10\n",
      "100/100 [==============================] - 45s 445ms/step - loss_1: 0.1414 - loss_2: 0.1246 - acc_1: 0.9616 - acc_2: 0.9656 - val_loss: 0.1402 - val_acc: 0.9684 - ind_acc_1: 0.9597 - ind_acc_2: 0.9595\n",
      "Epoch 10/10\n",
      "100/100 [==============================] - 48s 482ms/step - loss_1: 0.1377 - loss_2: 0.1249 - acc_1: 0.9628 - acc_2: 0.9681 - val_loss: 0.1388 - val_acc: 0.9689 - ind_acc_1: 0.9618 - ind_acc_2: 0.9572\n"
     ]
    }
   ],
   "source": [
    "with tf.Session() as sess:\n",
    "    sess.run(tf.global_variables_initializer())\n",
    "\n",
    "    for e in range(EPOCHS):\n",
    "        print(\"Epoch {}/{}\".format(e + 1, EPOCHS))\n",
    "        progbar = tf.keras.utils.Progbar(STEPS_PER_EPOCH)\n",
    "        \n",
    "        sess.run(train_init_ops, feed_dict={batch_size: BATCH_SIZE})\n",
    "\n",
    "        for i in range(STEPS_PER_EPOCH):\n",
    "            _, train_losses, train_accs = sess.run([train_ops, losses, \n",
    "                                                 train_acc_ops])\n",
    "            \n",
    "            prog_vals = [('loss_'+str(b+1),train_losses[b]) for b in range(NUM_BRANCHES)]\n",
    "            prog_vals += [('acc_'+str(b+1),train_accs[b]) for b in range(NUM_BRANCHES)]\n",
    "            \n",
    "            if i == STEPS_PER_EPOCH - 1:\n",
    "                sess.run(test_init_ops, feed_dict={batch_size: len(X_test)})\n",
    "                val_losses, val_acc, indiv_accs = sess.run([losses, test_acc_op, \n",
    "                                                            train_acc_ops])\n",
    "                \n",
    "                prog_vals += [('val_loss', np.mean(val_losses)), ('val_acc', val_acc)] + \\\n",
    "                    [('ind_acc_'+str(b+1), indiv_accs[b]) for b in range(NUM_BRANCHES)]\n",
    "            \n",
    "            progbar.update(i+1, values=prog_vals)\n",
    "    \n",
    "    if save:\n",
    "        saver = tf.train.Saver()\n",
    "        path = os.path.join(model_path, 'ckpt')\n",
    "        saver.save(sess, path)"
   ]
  },
  {
   "cell_type": "markdown",
   "metadata": {},
   "source": [
    "## Load Model"
   ]
  },
  {
   "cell_type": "code",
   "execution_count": 23,
   "metadata": {},
   "outputs": [],
   "source": [
    "test_init_ops = ['test_init_op_'+str(i+1) for i in range(NUM_BRANCHES)]\n",
    "losses = ['loss_'+str(i+1)+':0' for i in range(NUM_BRANCHES)]\n",
    "train_acc_ops = ['train_acc_'+str(i+1)+':0' for i in range(NUM_BRANCHES)]"
   ]
  },
  {
   "cell_type": "code",
   "execution_count": 24,
   "metadata": {},
   "outputs": [
    {
     "name": "stdout",
     "output_type": "stream",
     "text": [
      "INFO:tensorflow:Restoring parameters from ./models/vb-mnist-cnn-B2_1/ckpt\n"
     ]
    }
   ],
   "source": [
    "with tf.Session() as sess:\n",
    "    model_path = './models/vb-mnist-cnn-B' + str(NUM_BRANCHES) + '_' + str(model_id)\n",
    "    meta_path = os.path.join(model_path, 'ckpt.meta')\n",
    "    ckpt = tf.train.get_checkpoint_state(model_path)\n",
    "\n",
    "    imported_graph = tf.train.import_meta_graph(meta_path)\n",
    "    imported_graph.restore(sess, ckpt.model_checkpoint_path)\n",
    "\n",
    "    sess.run(test_init_ops, feed_dict={'batch_size:0': len(X_test)})\n",
    "\n",
    "    val_losses, val_acc, indiv_accs = sess.run([losses, 'test_acc:0', train_acc_ops])"
   ]
  },
  {
   "cell_type": "code",
   "execution_count": 25,
   "metadata": {},
   "outputs": [
    {
     "name": "stdout",
     "output_type": "stream",
     "text": [
      "Loss: 0.13883737\n",
      "Acc: 0.9689\n",
      "Indiv accs: [0.9618, 0.9572]\n"
     ]
    }
   ],
   "source": [
    "print('Loss:', np.mean(val_losses))\n",
    "print('Acc:', val_acc)\n",
    "print('Indiv accs:', indiv_accs)"
   ]
  },
  {
   "cell_type": "code",
   "execution_count": null,
   "metadata": {},
   "outputs": [],
   "source": []
  }
 ],
 "metadata": {
  "kernelspec": {
   "display_name": "Python 3",
   "language": "python",
   "name": "python3"
  },
  "language_info": {
   "codemirror_mode": {
    "name": "ipython",
    "version": 3
   },
   "file_extension": ".py",
   "mimetype": "text/x-python",
   "name": "python",
   "nbconvert_exporter": "python",
   "pygments_lexer": "ipython3",
   "version": "3.6.8"
  }
 },
 "nbformat": 4,
 "nbformat_minor": 2
}
