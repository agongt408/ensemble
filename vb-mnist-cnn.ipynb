{
 "cells": [
  {
   "cell_type": "markdown",
   "metadata": {},
   "source": [
    "# MNIST CNN with Virtual Branching"
   ]
  },
  {
   "cell_type": "code",
   "execution_count": 1,
   "metadata": {},
   "outputs": [],
   "source": [
    "import tensorflow as tf\n",
    "import numpy as np\n",
    "import os\n",
    "from scipy.special import softmax\n",
    "import matplotlib.pyplot as plt"
   ]
  },
  {
   "cell_type": "code",
   "execution_count": 2,
   "metadata": {},
   "outputs": [],
   "source": [
    "import vbranch as vb"
   ]
  },
  {
   "cell_type": "code",
   "execution_count": 3,
   "metadata": {},
   "outputs": [],
   "source": [
    "save = False\n",
    "model_id = 1"
   ]
  },
  {
   "cell_type": "markdown",
   "metadata": {},
   "source": [
    "## Load Data"
   ]
  },
  {
   "cell_type": "code",
   "execution_count": 4,
   "metadata": {},
   "outputs": [],
   "source": [
    "(X_train, y_train), (X_test, y_test) = tf.keras.datasets.mnist.load_data()"
   ]
  },
  {
   "cell_type": "code",
   "execution_count": 5,
   "metadata": {},
   "outputs": [],
   "source": [
    "num_classes = 10"
   ]
  },
  {
   "cell_type": "code",
   "execution_count": 6,
   "metadata": {},
   "outputs": [],
   "source": [
    "X_train = X_train[..., np.newaxis]\n",
    "X_test = X_test[..., np.newaxis]\n",
    "\n",
    "y_train_one_hot = tf.keras.utils.to_categorical(y_train, num_classes)\n",
    "y_test_one_hot = tf.keras.utils.to_categorical(y_test, num_classes)"
   ]
  },
  {
   "cell_type": "markdown",
   "metadata": {},
   "source": [
    "## Train"
   ]
  },
  {
   "cell_type": "markdown",
   "metadata": {},
   "source": [
    "### Build Model"
   ]
  },
  {
   "cell_type": "code",
   "execution_count": 7,
   "metadata": {},
   "outputs": [],
   "source": [
    "BATCH_SIZE = 32\n",
    "EPOCHS = 30\n",
    "STEPS_PER_EPOCH = 100\n",
    "NUM_BRANCHES = 1\n",
    "model_path = './models/vb-mnist-cnn-B' + str(NUM_BRANCHES) + '_' + str(model_id)"
   ]
  },
  {
   "cell_type": "code",
   "execution_count": 8,
   "metadata": {},
   "outputs": [
    {
     "data": {
      "text/plain": [
       "'./models/vb-mnist-cnn-B1_1'"
      ]
     },
     "execution_count": 8,
     "metadata": {},
     "output_type": "execute_result"
    }
   ],
   "source": [
    "model_path"
   ]
  },
  {
   "cell_type": "code",
   "execution_count": 9,
   "metadata": {},
   "outputs": [],
   "source": [
    "tf.reset_default_graph()\n",
    "\n",
    "train_data = (X_train.astype('float32'), y_train_one_hot)\n",
    "test_data = (X_test.astype('float32'), y_test_one_hot)\n",
    "\n",
    "batch_size = tf.placeholder('int64', name='batch_size')\n",
    "\n",
    "train_datasets = []\n",
    "test_datasets = []\n",
    "inputs = [None] * NUM_BRANCHES\n",
    "labels_one_hot = [None] * NUM_BRANCHES\n",
    "train_init_ops = []\n",
    "test_init_ops = []\n",
    "\n",
    "for i in range(NUM_BRANCHES):\n",
    "    train_datasets.append(tf.data.Dataset.from_tensor_slices(train_data).\\\n",
    "        batch(batch_size).repeat().\\\n",
    "        shuffle(buffer_size=4*BATCH_SIZE))\n",
    "\n",
    "    test_datasets.append(tf.data.Dataset.from_tensor_slices(test_data).\\\n",
    "        batch(batch_size))\n",
    "    \n",
    "    iterator = tf.data.Iterator.from_structure(train_datasets[i].output_types, \n",
    "                                           train_datasets[i].output_shapes)\n",
    "    inputs[i], labels_one_hot[i] = iterator.get_next()    \n",
    "\n",
    "    train_init_ops.append(iterator.make_initializer(train_datasets[i]))\n",
    "    test_init_ops.append(iterator.make_initializer(test_datasets[i], \n",
    "                                                name='test_init_op_'+str(i+1)))"
   ]
  },
  {
   "cell_type": "code",
   "execution_count": 10,
   "metadata": {},
   "outputs": [],
   "source": [
    "with tf.variable_scope('model_' + str(model_id), reuse=tf.AUTO_REUSE):\n",
    "    model = vb.models.vbranch_cnn(inputs, (num_classes, 10), \n",
    "                                  ([16]*NUM_BRANCHES, 16), ([32]*NUM_BRANCHES, 32), \n",
    "                                  branches=NUM_BRANCHES)"
   ]
  },
  {
   "cell_type": "code",
   "execution_count": 11,
   "metadata": {
    "scrolled": false
   },
   "outputs": [
    {
     "name": "stdout",
     "output_type": "stream",
     "text": [
      "i   Layer name          Output shapes                           Num param \n",
      "--------------------------------------------------------------------------\n",
      "    Input               [None,28,28,1]                                    \n",
      "--------------------------------------------------------------------------\n",
      "0   conv2d_1_1          [None,26,26,16] []                      160       \n",
      "--------------------------------------------------------------------------\n",
      "1   bn_1_1              [None,26,26,16] []                      32        \n",
      "--------------------------------------------------------------------------\n",
      "2   relu_1_1            [None,26,26,16] []                      0         \n",
      "--------------------------------------------------------------------------\n",
      "3   conv2d_1_2          [None,24,24,16] []                      2320      \n",
      "--------------------------------------------------------------------------\n",
      "4   bn_1_2              [None,24,24,16] []                      32        \n",
      "--------------------------------------------------------------------------\n",
      "5   relu_1_2            [None,24,24,16] []                      0         \n",
      "--------------------------------------------------------------------------\n",
      "6   avg_pool2d_1        [None,12,12,16] []                      0         \n",
      "--------------------------------------------------------------------------\n",
      "7   conv2d_2_1          [None,10,10,32] []                      4640      \n",
      "--------------------------------------------------------------------------\n",
      "8   bn_2_1              [None,10,10,32] []                      64        \n",
      "--------------------------------------------------------------------------\n",
      "9   relu_2_1            [None,10,10,32] []                      0         \n",
      "--------------------------------------------------------------------------\n",
      "10  conv2d_2_2          [None,8,8,32] []                        9248      \n",
      "--------------------------------------------------------------------------\n",
      "11  bn_2_2              [None,8,8,32] []                        64        \n",
      "--------------------------------------------------------------------------\n",
      "12  relu_2_2            [None,8,8,32] []                        0         \n",
      "--------------------------------------------------------------------------\n",
      "13  global_avg_pool2d   [None,32] []                            0         \n",
      "--------------------------------------------------------------------------\n",
      "14  fc1                 [None,32] []                            1056      \n",
      "--------------------------------------------------------------------------\n",
      "15  bn_fc1              [None,32] []                            64        \n",
      "--------------------------------------------------------------------------\n",
      "16  relu_fc1            [None,32] []                            0         \n",
      "--------------------------------------------------------------------------\n",
      "17  fc2                 [None,10] []                            330       \n",
      "--------------------------------------------------------------------------\n",
      "18  output              [None,10]                               0         \n",
      "--------------------------------------------------------------------------\n",
      "Total parameters: 18010\n"
     ]
    }
   ],
   "source": [
    "model.summary()"
   ]
  },
  {
   "cell_type": "code",
   "execution_count": 12,
   "metadata": {
    "scrolled": false
   },
   "outputs": [
    {
     "data": {
      "text/plain": [
       "[<tf.Variable 'model_1/conv2d_1_1_shared_to_shared_f:0' shape=(3, 3, 1, 16) dtype=float32_ref>,\n",
       " <tf.Variable 'model_1/conv2d_1_1_shared_to_shared_b:0' shape=(16,) dtype=float32_ref>,\n",
       " <tf.Variable 'model_1/bn_1_1_shared_to_shared_scale:0' shape=(16,) dtype=float32_ref>,\n",
       " <tf.Variable 'model_1/bn_1_1_shared_to_shared_beta:0' shape=(16,) dtype=float32_ref>,\n",
       " <tf.Variable 'model_1/conv2d_1_2_shared_to_shared_f:0' shape=(3, 3, 16, 16) dtype=float32_ref>,\n",
       " <tf.Variable 'model_1/conv2d_1_2_shared_to_shared_b:0' shape=(16,) dtype=float32_ref>,\n",
       " <tf.Variable 'model_1/bn_1_2_shared_to_shared_scale:0' shape=(16,) dtype=float32_ref>,\n",
       " <tf.Variable 'model_1/bn_1_2_shared_to_shared_beta:0' shape=(16,) dtype=float32_ref>,\n",
       " <tf.Variable 'model_1/conv2d_2_1_shared_to_shared_f:0' shape=(3, 3, 16, 32) dtype=float32_ref>,\n",
       " <tf.Variable 'model_1/conv2d_2_1_shared_to_shared_b:0' shape=(32,) dtype=float32_ref>,\n",
       " <tf.Variable 'model_1/bn_2_1_shared_to_shared_scale:0' shape=(32,) dtype=float32_ref>,\n",
       " <tf.Variable 'model_1/bn_2_1_shared_to_shared_beta:0' shape=(32,) dtype=float32_ref>,\n",
       " <tf.Variable 'model_1/conv2d_2_2_shared_to_shared_f:0' shape=(3, 3, 32, 32) dtype=float32_ref>,\n",
       " <tf.Variable 'model_1/conv2d_2_2_shared_to_shared_b:0' shape=(32,) dtype=float32_ref>,\n",
       " <tf.Variable 'model_1/bn_2_2_shared_to_shared_scale:0' shape=(32,) dtype=float32_ref>,\n",
       " <tf.Variable 'model_1/bn_2_2_shared_to_shared_beta:0' shape=(32,) dtype=float32_ref>,\n",
       " <tf.Variable 'model_1/fc1_shared_to_shared_w:0' shape=(32, 32) dtype=float32_ref>,\n",
       " <tf.Variable 'model_1/fc1_shared_to_shared_b:0' shape=(32,) dtype=float32_ref>,\n",
       " <tf.Variable 'model_1/bn_fc1_shared_to_shared_scale:0' shape=(32,) dtype=float32_ref>,\n",
       " <tf.Variable 'model_1/bn_fc1_shared_to_shared_beta:0' shape=(32,) dtype=float32_ref>,\n",
       " <tf.Variable 'model_1/fc2_shared_to_shared_w:0' shape=(32, 10) dtype=float32_ref>,\n",
       " <tf.Variable 'model_1/fc2_shared_to_shared_b:0' shape=(10,) dtype=float32_ref>]"
      ]
     },
     "execution_count": 12,
     "metadata": {},
     "output_type": "execute_result"
    }
   ],
   "source": [
    "tf.global_variables()"
   ]
  },
  {
   "cell_type": "code",
   "execution_count": 13,
   "metadata": {},
   "outputs": [
    {
     "data": {
      "text/plain": [
       "[<tf.Tensor 'model_1/output_1:0' shape=(?, 10) dtype=float32>]"
      ]
     },
     "execution_count": 13,
     "metadata": {},
     "output_type": "execute_result"
    }
   ],
   "source": [
    "model.output"
   ]
  },
  {
   "cell_type": "markdown",
   "metadata": {},
   "source": [
    "### Declare Training Ops"
   ]
  },
  {
   "cell_type": "code",
   "execution_count": 13,
   "metadata": {},
   "outputs": [],
   "source": [
    "def get_shared_unshared_vars():\n",
    "    \"\"\"\n",
    "    Get shared variables (in order to later average gradients)\n",
    "    and unshared variables (unique to each branch)\"\"\"\n",
    "    \n",
    "    shared_vars = []\n",
    "    unshared_vars = [[] for i in range(NUM_BRANCHES)]\n",
    "    \n",
    "    for var in tf.global_variables():\n",
    "        if 'shared_to_shared' in var.name:\n",
    "            shared_vars.append(var)\n",
    "        else:\n",
    "            for i in range(NUM_BRANCHES):\n",
    "                if 'vb'+str(i+1) in var.name:\n",
    "                    unshared_vars[i].append(var)\n",
    "            \n",
    "    return shared_vars, unshared_vars"
   ]
  },
  {
   "cell_type": "code",
   "execution_count": 14,
   "metadata": {},
   "outputs": [],
   "source": [
    "shared_vars, unshared_vars = get_shared_unshared_vars()"
   ]
  },
  {
   "cell_type": "code",
   "execution_count": 17,
   "metadata": {},
   "outputs": [
    {
     "data": {
      "text/plain": [
       "[[<tf.Variable 'model_1/output_vb1_w:0' shape=(32, 10) dtype=float32_ref>,\n",
       "  <tf.Variable 'model_1/output_vb1_b:0' shape=(10,) dtype=float32_ref>],\n",
       " [<tf.Variable 'model_1/output_vb2_w:0' shape=(32, 10) dtype=float32_ref>,\n",
       "  <tf.Variable 'model_1/output_vb2_b:0' shape=(10,) dtype=float32_ref>]]"
      ]
     },
     "execution_count": 17,
     "metadata": {},
     "output_type": "execute_result"
    }
   ],
   "source": [
    "unshared_vars"
   ]
  },
  {
   "cell_type": "code",
   "execution_count": 18,
   "metadata": {},
   "outputs": [],
   "source": [
    "# Multi output loss\n",
    "optimizer = tf.train.AdamOptimizer(learning_rate=0.001)\n",
    "\n",
    "losses = []\n",
    "# Store gradients from shared variables over each branch\n",
    "shared_grads = []\n",
    "unshared_train_ops = []\n",
    "\n",
    "for i in range(NUM_BRANCHES):\n",
    "    loss = vb.losses.softmax_cross_entropy_with_logits(labels=labels_one_hot[i], \n",
    "                                                       logits=model.output[i], \n",
    "                                                       name='loss_'+str(i+1))\n",
    "    losses.append(loss)\n",
    "    \n",
    "    # Compute gradients of shared vars for each branch (but don't apply)\n",
    "    if len(shared_vars) > 0:\n",
    "        shared_grads.append(optimizer.compute_gradients(loss, var_list=shared_vars))\n",
    "        \n",
    "    # Apply gradients for unshared vars for each branch\n",
    "    if len(unshared_vars[i]) > 0:\n",
    "        unshared_train_ops.append(optimizer.minimize(loss, var_list=unshared_vars[i]))"
   ]
  },
  {
   "cell_type": "code",
   "execution_count": 19,
   "metadata": {},
   "outputs": [],
   "source": [
    "# Take average of the gradients over each branch\n",
    "mean_shared_grads = []\n",
    "\n",
    "for v, var in enumerate(shared_vars):\n",
    "    grad = tf.reduce_mean([shared_grads[i][v][0] for i in range(NUM_BRANCHES)], [0])\n",
    "    mean_shared_grads.append((grad, var))\n",
    "    \n",
    "if len(shared_vars) > 0:\n",
    "    shared_train_op = optimizer.apply_gradients(mean_shared_grads)\n",
    "else:\n",
    "    shared_train_op = []"
   ]
  },
  {
   "cell_type": "code",
   "execution_count": 20,
   "metadata": {},
   "outputs": [
    {
     "data": {
      "text/plain": [
       "[(<tf.Tensor 'Mean:0' shape=(3, 3, 1, 16) dtype=float32>,\n",
       "  <tf.Variable 'model_1/conv2d_1_1_shared_to_shared_f:0' shape=(3, 3, 1, 16) dtype=float32_ref>),\n",
       " (<tf.Tensor 'Mean_1:0' shape=(16,) dtype=float32>,\n",
       "  <tf.Variable 'model_1/conv2d_1_1_shared_to_shared_b:0' shape=(16,) dtype=float32_ref>),\n",
       " (<tf.Tensor 'Mean_2:0' shape=(16,) dtype=float32>,\n",
       "  <tf.Variable 'model_1/bn_1_1_shared_to_shared_scale:0' shape=(16,) dtype=float32_ref>),\n",
       " (<tf.Tensor 'Mean_3:0' shape=(16,) dtype=float32>,\n",
       "  <tf.Variable 'model_1/bn_1_1_shared_to_shared_beta:0' shape=(16,) dtype=float32_ref>),\n",
       " (<tf.Tensor 'Mean_4:0' shape=(3, 3, 16, 16) dtype=float32>,\n",
       "  <tf.Variable 'model_1/conv2d_1_2_shared_to_shared_f:0' shape=(3, 3, 16, 16) dtype=float32_ref>),\n",
       " (<tf.Tensor 'Mean_5:0' shape=(16,) dtype=float32>,\n",
       "  <tf.Variable 'model_1/conv2d_1_2_shared_to_shared_b:0' shape=(16,) dtype=float32_ref>),\n",
       " (<tf.Tensor 'Mean_6:0' shape=(16,) dtype=float32>,\n",
       "  <tf.Variable 'model_1/bn_1_2_shared_to_shared_scale:0' shape=(16,) dtype=float32_ref>),\n",
       " (<tf.Tensor 'Mean_7:0' shape=(16,) dtype=float32>,\n",
       "  <tf.Variable 'model_1/bn_1_2_shared_to_shared_beta:0' shape=(16,) dtype=float32_ref>),\n",
       " (<tf.Tensor 'Mean_8:0' shape=(3, 3, 16, 32) dtype=float32>,\n",
       "  <tf.Variable 'model_1/conv2d_2_1_shared_to_shared_f:0' shape=(3, 3, 16, 32) dtype=float32_ref>),\n",
       " (<tf.Tensor 'Mean_9:0' shape=(32,) dtype=float32>,\n",
       "  <tf.Variable 'model_1/conv2d_2_1_shared_to_shared_b:0' shape=(32,) dtype=float32_ref>),\n",
       " (<tf.Tensor 'Mean_10:0' shape=(32,) dtype=float32>,\n",
       "  <tf.Variable 'model_1/bn_2_1_shared_to_shared_scale:0' shape=(32,) dtype=float32_ref>),\n",
       " (<tf.Tensor 'Mean_11:0' shape=(32,) dtype=float32>,\n",
       "  <tf.Variable 'model_1/bn_2_1_shared_to_shared_beta:0' shape=(32,) dtype=float32_ref>),\n",
       " (<tf.Tensor 'Mean_12:0' shape=(3, 3, 32, 32) dtype=float32>,\n",
       "  <tf.Variable 'model_1/conv2d_2_2_shared_to_shared_f:0' shape=(3, 3, 32, 32) dtype=float32_ref>),\n",
       " (<tf.Tensor 'Mean_13:0' shape=(32,) dtype=float32>,\n",
       "  <tf.Variable 'model_1/conv2d_2_2_shared_to_shared_b:0' shape=(32,) dtype=float32_ref>),\n",
       " (<tf.Tensor 'Mean_14:0' shape=(32,) dtype=float32>,\n",
       "  <tf.Variable 'model_1/bn_2_2_shared_to_shared_scale:0' shape=(32,) dtype=float32_ref>),\n",
       " (<tf.Tensor 'Mean_15:0' shape=(32,) dtype=float32>,\n",
       "  <tf.Variable 'model_1/bn_2_2_shared_to_shared_beta:0' shape=(32,) dtype=float32_ref>),\n",
       " (<tf.Tensor 'Mean_16:0' shape=(32, 32) dtype=float32>,\n",
       "  <tf.Variable 'model_1/fc1_shared_to_shared_w:0' shape=(32, 32) dtype=float32_ref>),\n",
       " (<tf.Tensor 'Mean_17:0' shape=(32,) dtype=float32>,\n",
       "  <tf.Variable 'model_1/fc1_shared_to_shared_b:0' shape=(32,) dtype=float32_ref>),\n",
       " (<tf.Tensor 'Mean_18:0' shape=(32,) dtype=float32>,\n",
       "  <tf.Variable 'model_1/bn_fc1_shared_to_shared_scale:0' shape=(32,) dtype=float32_ref>),\n",
       " (<tf.Tensor 'Mean_19:0' shape=(32,) dtype=float32>,\n",
       "  <tf.Variable 'model_1/bn_fc1_shared_to_shared_beta:0' shape=(32,) dtype=float32_ref>)]"
      ]
     },
     "execution_count": 20,
     "metadata": {},
     "output_type": "execute_result"
    }
   ],
   "source": [
    "mean_shared_grads"
   ]
  },
  {
   "cell_type": "code",
   "execution_count": 21,
   "metadata": {},
   "outputs": [],
   "source": [
    "train_ops = [unshared_train_ops, shared_train_op]"
   ]
  },
  {
   "cell_type": "code",
   "execution_count": 22,
   "metadata": {},
   "outputs": [],
   "source": [
    "# Train accuracies\n",
    "train_acc_ops = []\n",
    "for i in range(NUM_BRANCHES):\n",
    "    pred_max = tf.one_hot(tf.argmax(tf.nn.softmax(model.output[i]), axis=-1), \n",
    "                          num_classes)\n",
    "    train_acc_op = tf.reduce_mean(tf.reduce_sum(labels_one_hot[i]*pred_max, [1]), \n",
    "                                  name='train_acc_'+str(i+1))\n",
    "    train_acc_ops.append(train_acc_op)\n",
    "\n",
    "# Test accuracy\n",
    "pred = tf.nn.softmax(tf.reduce_mean(model.output, [0]))\n",
    "pred_max = tf.one_hot(tf.argmax(pred, axis=-1), num_classes)\n",
    "test_acc_op = tf.reduce_mean(tf.reduce_sum(labels_one_hot[0]*pred_max, [1]), \n",
    "                             name='test_acc')"
   ]
  },
  {
   "cell_type": "markdown",
   "metadata": {},
   "source": [
    "### Run Ops"
   ]
  },
  {
   "cell_type": "code",
   "execution_count": 23,
   "metadata": {
    "scrolled": false
   },
   "outputs": [
    {
     "name": "stdout",
     "output_type": "stream",
     "text": [
      "Epoch 1/30\n",
      "100/100 [==============================] - 50s 497ms/step - loss_1: 1.2501 - loss_2: 1.3879 - acc_1: 0.6609 - acc_2: 0.6175 - val_loss: 0.5973 - val_acc: 0.9174 - ind_acc_1: 0.9093 - ind_acc_2: 0.9082\n",
      "Epoch 2/30\n",
      "100/100 [==============================] - 29s 293ms/step - loss_1: 0.4411 - loss_2: 0.4677 - acc_1: 0.9134 - acc_2: 0.9119 - val_loss: 0.2920 - val_acc: 0.9445 - ind_acc_1: 0.9423 - ind_acc_2: 0.9386\n",
      "Epoch 3/30\n",
      "100/100 [==============================] - 29s 289ms/step - loss_1: 0.2525 - loss_2: 0.2654 - acc_1: 0.9450 - acc_2: 0.9456 - val_loss: 0.1708 - val_acc: 0.9640 - ind_acc_1: 0.9623 - ind_acc_2: 0.9629\n",
      "Epoch 4/30\n",
      "100/100 [==============================] - 22s 223ms/step - loss_1: 0.1773 - loss_2: 0.1873 - acc_1: 0.9603 - acc_2: 0.9591 - val_loss: 0.1572 - val_acc: 0.9609 - ind_acc_1: 0.9604 - ind_acc_2: 0.9595\n",
      "Epoch 5/30\n",
      "100/100 [==============================] - 23s 232ms/step - loss_1: 0.1487 - loss_2: 0.1364 - acc_1: 0.9691 - acc_2: 0.9681 - val_loss: 0.1292 - val_acc: 0.9665 - ind_acc_1: 0.9640 - ind_acc_2: 0.9665\n",
      "Epoch 6/30\n",
      "100/100 [==============================] - 24s 242ms/step - loss_1: 0.1053 - loss_2: 0.1089 - acc_1: 0.9769 - acc_2: 0.9766 - val_loss: 0.1198 - val_acc: 0.9665 - ind_acc_1: 0.9645 - ind_acc_2: 0.9669\n",
      "Epoch 7/30\n",
      "100/100 [==============================] - 31s 307ms/step - loss_1: 0.0849 - loss_2: 0.0835 - acc_1: 0.9809 - acc_2: 0.9822 - val_loss: 0.1086 - val_acc: 0.9690 - ind_acc_1: 0.9671 - ind_acc_2: 0.9687\n",
      "Epoch 8/30\n",
      "100/100 [==============================] - 23s 226ms/step - loss_1: 0.0542 - loss_2: 0.0676 - acc_1: 0.9912 - acc_2: 0.9862 - val_loss: 0.0964 - val_acc: 0.9716 - ind_acc_1: 0.9716 - ind_acc_2: 0.9705\n",
      "Epoch 9/30\n",
      "100/100 [==============================] - 24s 240ms/step - loss_1: 0.0510 - loss_2: 0.0592 - acc_1: 0.9900 - acc_2: 0.9881 - val_loss: 0.0958 - val_acc: 0.9718 - ind_acc_1: 0.9722 - ind_acc_2: 0.9697\n",
      "Epoch 10/30\n",
      "100/100 [==============================] - 20s 199ms/step - loss_1: 0.0448 - loss_2: 0.0384 - acc_1: 0.9938 - acc_2: 0.9938 - val_loss: 0.0910 - val_acc: 0.9727 - ind_acc_1: 0.9727 - ind_acc_2: 0.9711\n",
      "Epoch 11/30\n",
      "100/100 [==============================] - 22s 218ms/step - loss_1: 0.0323 - loss_2: 0.0382 - acc_1: 0.9947 - acc_2: 0.9925 - val_loss: 0.0856 - val_acc: 0.9752 - ind_acc_1: 0.9747 - ind_acc_2: 0.9733\n",
      "Epoch 12/30\n",
      "100/100 [==============================] - 26s 262ms/step - loss_1: 0.0348 - loss_2: 0.0284 - acc_1: 0.9938 - acc_2: 0.9962 - val_loss: 0.0738 - val_acc: 0.9780 - ind_acc_1: 0.9779 - ind_acc_2: 0.9770\n",
      "Epoch 13/30\n",
      "100/100 [==============================] - 30s 304ms/step - loss_1: 0.0203 - loss_2: 0.0192 - acc_1: 0.9981 - acc_2: 0.9978 - val_loss: 0.0748 - val_acc: 0.9781 - ind_acc_1: 0.9772 - ind_acc_2: 0.9767\n",
      "Epoch 14/30\n",
      "100/100 [==============================] - 29s 295ms/step - loss_1: 0.0219 - loss_2: 0.0279 - acc_1: 0.9978 - acc_2: 0.9938 - val_loss: 0.0922 - val_acc: 0.9725 - ind_acc_1: 0.9727 - ind_acc_2: 0.9720\n",
      "Epoch 15/30\n",
      "100/100 [==============================] - 31s 310ms/step - loss_1: 0.0247 - loss_2: 0.0219 - acc_1: 0.9953 - acc_2: 0.9975 - val_loss: 0.0887 - val_acc: 0.9742 - ind_acc_1: 0.9738 - ind_acc_2: 0.9731\n",
      "Epoch 16/30\n",
      "100/100 [==============================] - 32s 321ms/step - loss_1: 0.0271 - loss_2: 0.0240 - acc_1: 0.9950 - acc_2: 0.9950 - val_loss: 0.0795 - val_acc: 0.9756 - ind_acc_1: 0.9754 - ind_acc_2: 0.9755\n",
      "Epoch 17/30\n",
      "100/100 [==============================] - 27s 268ms/step - loss_1: 0.0263 - loss_2: 0.0201 - acc_1: 0.9928 - acc_2: 0.9972 - val_loss: 0.0836 - val_acc: 0.9740 - ind_acc_1: 0.9744 - ind_acc_2: 0.9735\n",
      "Epoch 18/30\n",
      "100/100 [==============================] - 27s 269ms/step - loss_1: 0.0199 - loss_2: 0.0121 - acc_1: 0.9959 - acc_2: 0.9994 - val_loss: 0.0903 - val_acc: 0.9737 - ind_acc_1: 0.9736 - ind_acc_2: 0.9737\n",
      "Epoch 19/30\n",
      "100/100 [==============================] - 20s 202ms/step - loss_1: 0.0123 - loss_2: 0.0132 - acc_1: 0.9988 - acc_2: 0.9984 - val_loss: 0.0792 - val_acc: 0.9753 - ind_acc_1: 0.9749 - ind_acc_2: 0.9748\n",
      "Epoch 20/30\n",
      "100/100 [==============================] - 21s 208ms/step - loss_1: 0.0062 - loss_2: 0.0082 - acc_1: 1.0000 - acc_2: 0.9984 - val_loss: 0.0719 - val_acc: 0.9773 - ind_acc_1: 0.9778 - ind_acc_2: 0.9761\n",
      "Epoch 21/30\n",
      "100/100 [==============================] - 22s 218ms/step - loss_1: 0.0049 - loss_2: 0.0047 - acc_1: 1.0000 - acc_2: 1.0000 - val_loss: 0.0649 - val_acc: 0.9803 - ind_acc_1: 0.9816 - ind_acc_2: 0.9796\n",
      "Epoch 22/30\n",
      "100/100 [==============================] - 25s 255ms/step - loss_1: 0.0041 - loss_2: 0.0032 - acc_1: 0.9997 - acc_2: 1.0000 - val_loss: 0.0653 - val_acc: 0.9795 - ind_acc_1: 0.9799 - ind_acc_2: 0.9790\n",
      "Epoch 23/30\n",
      "100/100 [==============================] - 25s 253ms/step - loss_1: 0.0027 - loss_2: 0.0028 - acc_1: 1.0000 - acc_2: 1.0000 - val_loss: 0.0643 - val_acc: 0.9807 - ind_acc_1: 0.9803 - ind_acc_2: 0.9798\n",
      "Epoch 24/30\n",
      "100/100 [==============================] - 35s 347ms/step - loss_1: 0.0024 - loss_2: 0.0027 - acc_1: 1.0000 - acc_2: 1.0000 - val_loss: 0.0647 - val_acc: 0.9803 - ind_acc_1: 0.9805 - ind_acc_2: 0.9798\n",
      "Epoch 25/30\n",
      "100/100 [==============================] - 25s 247ms/step - loss_1: 0.0034 - loss_2: 0.0034 - acc_1: 0.9994 - acc_2: 0.9997 - val_loss: 0.0748 - val_acc: 0.9775 - ind_acc_1: 0.9772 - ind_acc_2: 0.9769\n",
      "Epoch 26/30\n",
      "100/100 [==============================] - 26s 265ms/step - loss_1: 0.0244 - loss_2: 0.0214 - acc_1: 0.9941 - acc_2: 0.9947 - val_loss: 0.0931 - val_acc: 0.9720 - ind_acc_1: 0.9710 - ind_acc_2: 0.9720\n",
      "Epoch 27/30\n",
      "100/100 [==============================] - 18s 180ms/step - loss_1: 0.0189 - loss_2: 0.0208 - acc_1: 0.9966 - acc_2: 0.9953 - val_loss: 0.1299 - val_acc: 0.9623 - ind_acc_1: 0.9615 - ind_acc_2: 0.9615\n",
      "Epoch 28/30\n",
      "100/100 [==============================] - 27s 273ms/step - loss_1: 0.0263 - loss_2: 0.0222 - acc_1: 0.9916 - acc_2: 0.9925 - val_loss: 0.0965 - val_acc: 0.9718 - ind_acc_1: 0.9715 - ind_acc_2: 0.9715\n",
      "Epoch 29/30\n",
      "100/100 [==============================] - 25s 249ms/step - loss_1: 0.0119 - loss_2: 0.0122 - acc_1: 0.9972 - acc_2: 0.9972 - val_loss: 0.0806 - val_acc: 0.9751 - ind_acc_1: 0.9751 - ind_acc_2: 0.9748\n",
      "Epoch 30/30\n",
      "100/100 [==============================] - 26s 256ms/step - loss_1: 0.0054 - loss_2: 0.0054 - acc_1: 0.9997 - acc_2: 0.9994 - val_loss: 0.0706 - val_acc: 0.9785 - ind_acc_1: 0.9781 - ind_acc_2: 0.9781\n"
     ]
    }
   ],
   "source": [
    "with tf.Session() as sess:\n",
    "    sess.run(tf.global_variables_initializer())\n",
    "\n",
    "    for e in range(EPOCHS):\n",
    "        print(\"Epoch {}/{}\".format(e + 1, EPOCHS))\n",
    "        progbar = tf.keras.utils.Progbar(STEPS_PER_EPOCH)\n",
    "        \n",
    "        sess.run(train_init_ops, feed_dict={batch_size: BATCH_SIZE})\n",
    "\n",
    "        for i in range(STEPS_PER_EPOCH):\n",
    "            _, train_losses, train_accs = sess.run([train_ops, losses, \n",
    "                                                 train_acc_ops])\n",
    "            \n",
    "            prog_vals = [('loss_'+str(b+1),train_losses[b]) for b in range(NUM_BRANCHES)]\n",
    "            prog_vals += [('acc_'+str(b+1),train_accs[b]) for b in range(NUM_BRANCHES)]\n",
    "            \n",
    "            if i == STEPS_PER_EPOCH - 1:\n",
    "                sess.run(test_init_ops, feed_dict={batch_size: len(X_test)})\n",
    "                val_losses, val_acc, indiv_accs = sess.run([losses, test_acc_op, \n",
    "                                                            train_acc_ops])\n",
    "                \n",
    "                prog_vals += [('val_loss', np.mean(val_losses)), ('val_acc', val_acc)] + \\\n",
    "                    [('ind_acc_'+str(b+1), indiv_accs[b]) for b in range(NUM_BRANCHES)]\n",
    "            \n",
    "            progbar.update(i+1, values=prog_vals)\n",
    "    \n",
    "    if save:\n",
    "        saver = tf.train.Saver()\n",
    "        path = os.path.join(model_path, 'ckpt')\n",
    "        saver.save(sess, path)"
   ]
  },
  {
   "cell_type": "markdown",
   "metadata": {},
   "source": [
    "## Load Model"
   ]
  },
  {
   "cell_type": "code",
   "execution_count": 23,
   "metadata": {},
   "outputs": [],
   "source": [
    "test_init_ops = ['test_init_op_'+str(i+1) for i in range(NUM_BRANCHES)]\n",
    "losses = ['loss_'+str(i+1)+':0' for i in range(NUM_BRANCHES)]\n",
    "train_acc_ops = ['train_acc_'+str(i+1)+':0' for i in range(NUM_BRANCHES)]"
   ]
  },
  {
   "cell_type": "code",
   "execution_count": 24,
   "metadata": {},
   "outputs": [
    {
     "name": "stdout",
     "output_type": "stream",
     "text": [
      "INFO:tensorflow:Restoring parameters from ./models/vb-mnist-cnn-B2_1/ckpt\n"
     ]
    }
   ],
   "source": [
    "with tf.Session() as sess:\n",
    "    model_path = './models/vb-mnist-cnn-B' + str(NUM_BRANCHES) + '_' + str(model_id)\n",
    "    meta_path = os.path.join(model_path, 'ckpt.meta')\n",
    "    ckpt = tf.train.get_checkpoint_state(model_path)\n",
    "\n",
    "    imported_graph = tf.train.import_meta_graph(meta_path)\n",
    "    imported_graph.restore(sess, ckpt.model_checkpoint_path)\n",
    "\n",
    "    sess.run(test_init_ops, feed_dict={'batch_size:0': len(X_test)})\n",
    "\n",
    "    val_losses, val_acc, indiv_accs = sess.run([losses, 'test_acc:0', train_acc_ops])"
   ]
  },
  {
   "cell_type": "code",
   "execution_count": 25,
   "metadata": {},
   "outputs": [
    {
     "name": "stdout",
     "output_type": "stream",
     "text": [
      "Loss: 0.13883737\n",
      "Acc: 0.9689\n",
      "Indiv accs: [0.9618, 0.9572]\n"
     ]
    }
   ],
   "source": [
    "print('Loss:', np.mean(val_losses))\n",
    "print('Acc:', val_acc)\n",
    "print('Indiv accs:', indiv_accs)"
   ]
  },
  {
   "cell_type": "code",
   "execution_count": null,
   "metadata": {},
   "outputs": [],
   "source": []
  }
 ],
 "metadata": {
  "kernelspec": {
   "display_name": "Python 3",
   "language": "python",
   "name": "python3"
  },
  "language_info": {
   "codemirror_mode": {
    "name": "ipython",
    "version": 3
   },
   "file_extension": ".py",
   "mimetype": "text/x-python",
   "name": "python",
   "nbconvert_exporter": "python",
   "pygments_lexer": "ipython3",
   "version": "3.6.8"
  }
 },
 "nbformat": 4,
 "nbformat_minor": 2
}
