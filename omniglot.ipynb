{
 "cells": [
  {
   "cell_type": "markdown",
   "metadata": {},
   "source": [
    "# Omnigot One-Shot with Virtual Branching"
   ]
  },
  {
   "cell_type": "code",
   "execution_count": 1,
   "metadata": {},
   "outputs": [],
   "source": [
    "import tensorflow as tf\n",
    "import numpy as np\n",
    "import os\n",
    "import matplotlib.pyplot as plt\n",
    "import copy\n",
    "import cv2\n",
    "from scipy.spatial import distance"
   ]
  },
  {
   "cell_type": "code",
   "execution_count": 2,
   "metadata": {},
   "outputs": [],
   "source": [
    "import vbranch as vb\n",
    "from vbranch.applications.resnet import ResNet18\n",
    "from vbranch.applications.cnn import SimpleCNNLarge\n",
    "\n",
    "from vbranch.utils.training_utils import wrap_iterator, get_data_iterator_from_generator, lr_exp_decay_scheduler\n",
    "from vbranch.utils import TFSessionGrow, restore_sess\n",
    "from vbranch.callbacks import one_shot_acc\n",
    "from vbranch.losses import triplet"
   ]
  },
  {
   "cell_type": "code",
   "execution_count": 3,
   "metadata": {},
   "outputs": [],
   "source": [
    "SAVE = False\n",
    "MODEL_ID = 1\n",
    "ARCHITECTURE = 'res'\n",
    "DATASET = 'omniglot'\n",
    "NUM_BRANCHES = 1\n",
    "SHARED_FRAC = None\n",
    "\n",
    "EPOCHS = 50\n",
    "STEPS_PER_EPOCH = 100\n",
    "T_0 = 30\n",
    "OUTPUT_DIM = 128"
   ]
  },
  {
   "cell_type": "markdown",
   "metadata": {},
   "source": [
    "## Load Data"
   ]
  },
  {
   "cell_type": "code",
   "execution_count": 4,
   "metadata": {},
   "outputs": [],
   "source": [
    "if DATASET == 'omniglot':\n",
    "    A, P, K = 4, 8, 4\n",
    "    train_generator = vb.datasets.omniglot.load_generator('train')\n",
    "    test_generator = vb.datasets.omniglot.load_generator('test')"
   ]
  },
  {
   "cell_type": "code",
   "execution_count": 5,
   "metadata": {},
   "outputs": [],
   "source": [
    "batch = train_generator.next(4, 4, 4, flatten=False, preprocess=False)"
   ]
  },
  {
   "cell_type": "code",
   "execution_count": 6,
   "metadata": {},
   "outputs": [
    {
     "data": {
      "image/png": "[encoded data removed]",
      "text/plain": [
       "<Figure size 432x288 with 1 Axes>"
      ]
     },
     "metadata": {
      "needs_background": "light"
     },
     "output_type": "display_data"
    }
   ],
   "source": [
    "plt.imshow(batch[0, 3, 0].squeeze(), cmap=plt.cm.gray)\n",
    "plt.show()"
   ]
  },
  {
   "cell_type": "markdown",
   "metadata": {},
   "source": [
    "## Build Model"
   ]
  },
  {
   "cell_type": "code",
   "execution_count": 7,
   "metadata": {},
   "outputs": [
    {
     "name": "stdout",
     "output_type": "stream",
     "text": [
      "models/omniglot-res_1\n"
     ]
    }
   ],
   "source": [
    "if not os.path.isdir('models'):\n",
    "    os.system('mkdir models')\n",
    "\n",
    "if NUM_BRANCHES == 1:\n",
    "    model_name = '{}-{}_{:d}'.format(DATASET, ARCHITECTURE, MODEL_ID)\n",
    "else:\n",
    "    model_name = 'vb-{}-{}-B{:d}-S{:.2f}_{:d}'.format(DATASET, ARCHITECTURE,\n",
    "                                        NUM_BRANCHES, SHARED_FRAC, MODEL_ID)\n",
    "model_path = os.path.join('models', model_name)\n",
    "print(model_path)"
   ]
  },
  {
   "cell_type": "code",
   "execution_count": 8,
   "metadata": {},
   "outputs": [
    {
     "name": "stdout",
     "output_type": "stream",
     "text": [
      "(None, 105, 105, 1)\n",
      "WARNING:tensorflow:From /home/gong/anaconda3/lib/python3.5/site-packages/tensorflow/python/data/ops/dataset_ops.py:429: py_func (from tensorflow.python.ops.script_ops) is deprecated and will be removed in a future version.\n",
      "Instructions for updating:\n",
      "tf.py_func is deprecated in TF V2. Instead, use\n",
      "    tf.py_function, which takes a python function which manipulates tf eager\n",
      "    tensors instead of numpy arrays. It's easy to convert a tf eager tensor to\n",
      "    an ndarray (just call tensor.numpy()) but having access to eager tensors\n",
      "    means `tf.py_function`s can use accelerators such as GPUs as well as\n",
      "    being differentiable using a gradient tape.\n",
      "    \n",
      "WARNING:tensorflow:From /home/gong/anaconda3/lib/python3.5/site-packages/tensorflow/python/data/ops/iterator_ops.py:358: colocate_with (from tensorflow.python.framework.ops) is deprecated and will be removed in a future version.\n",
      "Instructions for updating:\n",
      "Colocations handled automatically by placer.\n"
     ]
    }
   ],
   "source": [
    "input_dim = (None,) + batch.shape[-3:]\n",
    "print(input_dim)\n",
    "\n",
    "tf.reset_default_graph()\n",
    "\n",
    "inputs, train_init_op, test_init_op = get_data_iterator_from_generator(train_generator, input_dim, \n",
    "                                                                       A, P,K, n=NUM_BRANCHES)"
   ]
  },
  {
   "cell_type": "code",
   "execution_count": 9,
   "metadata": {},
   "outputs": [
    {
     "data": {
      "text/plain": [
       "<tf.Tensor 'IteratorGetNext:0' shape=(?, 105, 105, 1) dtype=float32>"
      ]
     },
     "execution_count": 9,
     "metadata": {},
     "output_type": "execute_result"
    }
   ],
   "source": [
    "inputs"
   ]
  },
  {
   "cell_type": "code",
   "execution_count": 10,
   "metadata": {
    "scrolled": false
   },
   "outputs": [
    {
     "name": "stdout",
     "output_type": "stream",
     "text": [
      "WARNING:tensorflow:From /home/gong/anaconda3/lib/python3.5/site-packages/tensorflow/python/ops/math_ops.py:3066: to_int32 (from tensorflow.python.ops.math_ops) is deprecated and will be removed in a future version.\n",
      "Instructions for updating:\n",
      "Use tf.cast instead.\n",
      "WARNING:tensorflow:From /home/gong/anaconda3/lib/python3.5/site-packages/tensorflow/python/ops/math_grad.py:102: div (from tensorflow.python.ops.math_ops) is deprecated and will be removed in a future version.\n",
      "Instructions for updating:\n",
      "Deprecated in favor of operator or tf.math.divide.\n",
      "i   Layer name                      Output shape      Parameters           Num param  Inbound            \n",
      "---------------------------------------------------------------------------------------------------------\n",
      "    Input                           [None,105,105,1]                                                     \n",
      "---------------------------------------------------------------------------------------------------------\n",
      "0   conv1 (Conv2D)                  [None,53,53,64]   [7,7,1,64] [64]      3200       IteratorGetNext:0  \n",
      "---------------------------------------------------------------------------------------------------------\n",
      "1   bn_conv1 (BatchNormalization)   [None,53,53,64]   [64] [64]            128        conv1              \n",
      "---------------------------------------------------------------------------------------------------------\n",
      "2   relu (Activation)               [None,53,53,64]                        0          bn_conv1           \n",
      "---------------------------------------------------------------------------------------------------------\n",
      "3   max_pool2d (MaxPooling2D)       [None,27,27,64]                        0          relu               \n",
      "---------------------------------------------------------------------------------------------------------\n",
      "4   res2a_branch2a (Conv2D)         [None,27,27,64]   [3,3,64,64] [64]     36928      max_pool2d         \n",
      "---------------------------------------------------------------------------------------------------------\n",
      "5   bn2a_branch2a (BatchNormalizat  [None,27,27,64]   [64] [64]            128        res2a_branch2a     \n",
      "---------------------------------------------------------------------------------------------------------\n",
      "6   relu_1 (Activation)             [None,27,27,64]                        0          bn2a_branch2a      \n",
      "---------------------------------------------------------------------------------------------------------\n",
      "7   res2a_branch2b (Conv2D)         [None,27,27,64]   [3,3,64,64] [64]     36928      relu_1             \n",
      "---------------------------------------------------------------------------------------------------------\n",
      "8   bn2a_branch2b (BatchNormalizat  [None,27,27,64]   [64] [64]            128        res2a_branch2b     \n",
      "---------------------------------------------------------------------------------------------------------\n",
      "9   res2a_branch1 (Conv2D)          [None,27,27,64]   [1,1,64,64] [64]     4160       max_pool2d         \n",
      "---------------------------------------------------------------------------------------------------------\n",
      "10  bn2a_branch1 (BatchNormalizati  [None,27,27,64]   [64] [64]            128        res2a_branch1      \n",
      "---------------------------------------------------------------------------------------------------------\n",
      "11  add (Add)                       [None,27,27,64]                        0          bn2a_branch2b      \n",
      "                                                                                      bn2a_branch1       \n",
      "---------------------------------------------------------------------------------------------------------\n",
      "12  relu_2 (Activation)             [None,27,27,64]                        0          add                \n",
      "---------------------------------------------------------------------------------------------------------\n",
      "13  res2b_branch2a (Conv2D)         [None,27,27,64]   [3,3,64,64] [64]     36928      relu_2             \n",
      "---------------------------------------------------------------------------------------------------------\n",
      "14  bn2b_branch2a (BatchNormalizat  [None,27,27,64]   [64] [64]            128        res2b_branch2a     \n",
      "---------------------------------------------------------------------------------------------------------\n",
      "15  relu_3 (Activation)             [None,27,27,64]                        0          bn2b_branch2a      \n",
      "---------------------------------------------------------------------------------------------------------\n",
      "16  res2b_branch2b (Conv2D)         [None,27,27,64]   [3,3,64,64] [64]     36928      relu_3             \n",
      "---------------------------------------------------------------------------------------------------------\n",
      "17  bn2b_branch2b (BatchNormalizat  [None,27,27,64]   [64] [64]            128        res2b_branch2b     \n",
      "---------------------------------------------------------------------------------------------------------\n",
      "18  add_1 (Add)                     [None,27,27,64]                        0          bn2b_branch2b      \n",
      "                                                                                      relu_2             \n",
      "---------------------------------------------------------------------------------------------------------\n",
      "19  relu_4 (Activation)             [None,27,27,64]                        0          add_1              \n",
      "---------------------------------------------------------------------------------------------------------\n",
      "20  res3a_branch2a (Conv2D)         [None,14,14,128]  [3,3,64,128] [128]   73856      relu_4             \n",
      "---------------------------------------------------------------------------------------------------------\n",
      "21  bn3a_branch2a (BatchNormalizat  [None,14,14,128]  [128] [128]          256        res3a_branch2a     \n",
      "---------------------------------------------------------------------------------------------------------\n",
      "22  relu_5 (Activation)             [None,14,14,128]                       0          bn3a_branch2a      \n",
      "---------------------------------------------------------------------------------------------------------\n",
      "23  res3a_branch2b (Conv2D)         [None,14,14,128]  [3,3,128,128] [128]  147584     relu_5             \n",
      "---------------------------------------------------------------------------------------------------------\n",
      "24  bn3a_branch2b (BatchNormalizat  [None,14,14,128]  [128] [128]          256        res3a_branch2b     \n",
      "---------------------------------------------------------------------------------------------------------\n",
      "25  res3a_branch1 (Conv2D)          [None,14,14,128]  [1,1,64,128] [128]   8320       relu_4             \n",
      "---------------------------------------------------------------------------------------------------------\n",
      "26  bn3a_branch1 (BatchNormalizati  [None,14,14,128]  [128] [128]          256        res3a_branch1      \n",
      "---------------------------------------------------------------------------------------------------------\n",
      "27  add_2 (Add)                     [None,14,14,128]                       0          bn3a_branch2b      \n",
      "                                                                                      bn3a_branch1       \n",
      "---------------------------------------------------------------------------------------------------------\n",
      "28  relu_6 (Activation)             [None,14,14,128]                       0          add_2              \n",
      "---------------------------------------------------------------------------------------------------------\n",
      "29  res3b_branch2a (Conv2D)         [None,14,14,128]  [3,3,128,128] [128]  147584     relu_6             \n",
      "---------------------------------------------------------------------------------------------------------\n",
      "30  bn3b_branch2a (BatchNormalizat  [None,14,14,128]  [128] [128]          256        res3b_branch2a     \n",
      "---------------------------------------------------------------------------------------------------------\n",
      "31  relu_7 (Activation)             [None,14,14,128]                       0          bn3b_branch2a      \n",
      "---------------------------------------------------------------------------------------------------------\n",
      "32  res3b_branch2b (Conv2D)         [None,14,14,128]  [3,3,128,128] [128]  147584     relu_7             \n",
      "---------------------------------------------------------------------------------------------------------\n",
      "33  bn3b_branch2b (BatchNormalizat  [None,14,14,128]  [128] [128]          256        res3b_branch2b     \n",
      "---------------------------------------------------------------------------------------------------------\n",
      "34  add_3 (Add)                     [None,14,14,128]                       0          bn3b_branch2b      \n",
      "                                                                                      relu_6             \n",
      "---------------------------------------------------------------------------------------------------------\n",
      "35  relu_8 (Activation)             [None,14,14,128]                       0          add_3              \n",
      "---------------------------------------------------------------------------------------------------------\n",
      "36  res4a_branch2a (Conv2D)         [None,7,7,256]    [3,3,128,256] [256]  295168     relu_8             \n",
      "---------------------------------------------------------------------------------------------------------\n",
      "37  bn4a_branch2a (BatchNormalizat  [None,7,7,256]    [256] [256]          512        res4a_branch2a     \n",
      "---------------------------------------------------------------------------------------------------------\n",
      "38  relu_9 (Activation)             [None,7,7,256]                         0          bn4a_branch2a      \n",
      "---------------------------------------------------------------------------------------------------------\n",
      "39  res4a_branch2b (Conv2D)         [None,7,7,256]    [3,3,256,256] [256]  590080     relu_9             \n",
      "---------------------------------------------------------------------------------------------------------\n",
      "40  bn4a_branch2b (BatchNormalizat  [None,7,7,256]    [256] [256]          512        res4a_branch2b     \n",
      "---------------------------------------------------------------------------------------------------------\n",
      "41  res4a_branch1 (Conv2D)          [None,7,7,256]    [1,1,128,256] [256]  33024      relu_8             \n",
      "---------------------------------------------------------------------------------------------------------\n",
      "42  bn4a_branch1 (BatchNormalizati  [None,7,7,256]    [256] [256]          512        res4a_branch1      \n",
      "---------------------------------------------------------------------------------------------------------\n",
      "43  add_4 (Add)                     [None,7,7,256]                         0          bn4a_branch2b      \n",
      "                                                                                      bn4a_branch1       \n",
      "---------------------------------------------------------------------------------------------------------\n",
      "44  relu_10 (Activation)            [None,7,7,256]                         0          add_4              \n",
      "---------------------------------------------------------------------------------------------------------\n",
      "45  res4b_branch2a (Conv2D)         [None,7,7,256]    [3,3,256,256] [256]  590080     relu_10            \n",
      "---------------------------------------------------------------------------------------------------------\n",
      "46  bn4b_branch2a (BatchNormalizat  [None,7,7,256]    [256] [256]          512        res4b_branch2a     \n",
      "---------------------------------------------------------------------------------------------------------\n",
      "47  relu_11 (Activation)            [None,7,7,256]                         0          bn4b_branch2a      \n",
      "---------------------------------------------------------------------------------------------------------\n",
      "48  res4b_branch2b (Conv2D)         [None,7,7,256]    [3,3,256,256] [256]  590080     relu_11            \n",
      "---------------------------------------------------------------------------------------------------------\n",
      "49  bn4b_branch2b (BatchNormalizat  [None,7,7,256]    [256] [256]          512        res4b_branch2b     \n",
      "---------------------------------------------------------------------------------------------------------\n",
      "50  add_5 (Add)                     [None,7,7,256]                         0          bn4b_branch2b      \n",
      "                                                                                      relu_10            \n",
      "---------------------------------------------------------------------------------------------------------\n",
      "51  relu_12 (Activation)            [None,7,7,256]                         0          add_5              \n",
      "---------------------------------------------------------------------------------------------------------\n",
      "52  res5a_branch2a (Conv2D)         [None,4,4,512]    [3,3,256,512] [512]  1180160    relu_12            \n",
      "---------------------------------------------------------------------------------------------------------\n",
      "53  bn5a_branch2a (BatchNormalizat  [None,4,4,512]    [512] [512]          1024       res5a_branch2a     \n",
      "---------------------------------------------------------------------------------------------------------\n",
      "54  relu_13 (Activation)            [None,4,4,512]                         0          bn5a_branch2a      \n",
      "---------------------------------------------------------------------------------------------------------\n",
      "55  res5a_branch2b (Conv2D)         [None,4,4,512]    [3,3,512,512] [512]  2359808    relu_13            \n",
      "---------------------------------------------------------------------------------------------------------\n",
      "56  bn5a_branch2b (BatchNormalizat  [None,4,4,512]    [512] [512]          1024       res5a_branch2b     \n",
      "---------------------------------------------------------------------------------------------------------\n",
      "57  res5a_branch1 (Conv2D)          [None,4,4,512]    [1,1,256,512] [512]  131584     relu_12            \n",
      "---------------------------------------------------------------------------------------------------------\n",
      "58  bn5a_branch1 (BatchNormalizati  [None,4,4,512]    [512] [512]          1024       res5a_branch1      \n",
      "---------------------------------------------------------------------------------------------------------\n",
      "59  add_6 (Add)                     [None,4,4,512]                         0          bn5a_branch2b      \n",
      "                                                                                      bn5a_branch1       \n",
      "---------------------------------------------------------------------------------------------------------\n",
      "60  relu_14 (Activation)            [None,4,4,512]                         0          add_6              \n",
      "---------------------------------------------------------------------------------------------------------\n",
      "61  res5b_branch2a (Conv2D)         [None,4,4,512]    [3,3,512,512] [512]  2359808    relu_14            \n",
      "---------------------------------------------------------------------------------------------------------\n",
      "62  bn5b_branch2a (BatchNormalizat  [None,4,4,512]    [512] [512]          1024       res5b_branch2a     \n",
      "---------------------------------------------------------------------------------------------------------\n",
      "63  relu_15 (Activation)            [None,4,4,512]                         0          bn5b_branch2a      \n",
      "---------------------------------------------------------------------------------------------------------\n",
      "64  res5b_branch2b (Conv2D)         [None,4,4,512]    [3,3,512,512] [512]  2359808    relu_15            \n",
      "---------------------------------------------------------------------------------------------------------\n",
      "65  bn5b_branch2b (BatchNormalizat  [None,4,4,512]    [512] [512]          1024       res5b_branch2b     \n",
      "---------------------------------------------------------------------------------------------------------\n",
      "66  add_7 (Add)                     [None,4,4,512]                         0          bn5b_branch2b      \n",
      "                                                                                      relu_14            \n",
      "---------------------------------------------------------------------------------------------------------\n",
      "67  relu_16 (Activation)            [None,4,4,512]                         0          add_7              \n",
      "---------------------------------------------------------------------------------------------------------\n",
      "68  avg_pool (GlobalAveragePooling  [None,512]                             0          relu_16            \n",
      "---------------------------------------------------------------------------------------------------------\n",
      "69  output (Dense)                  [None,128]        [512,128] [128]      65664      avg_pool           \n",
      "---------------------------------------------------------------------------------------------------------\n",
      "Total parameters: 11244992\n"
     ]
    }
   ],
   "source": [
    "lr = tf.placeholder('float32', name='lr')\n",
    "lr_scheduler = lr_exp_decay_scheduler(0.001, T_0, EPOCHS, 0.001)\n",
    "\n",
    "name = 'model'\n",
    "\n",
    "with tf.variable_scope(name, reuse=tf.AUTO_REUSE):\n",
    "    if ARCHITECTURE == 'simple':\n",
    "        model = SimpleCNNLarge(inputs, OUTPUT_DIM, name=name, shared_frac=SHARED_FRAC)\n",
    "    elif ARCHITECTURE == 'res':\n",
    "        model = ResNet18(inputs, OUTPUT_DIM, name=name, shared_frac=SHARED_FRAC)\n",
    "        \n",
    "    optimizer = tf.train.AdamOptimizer(learning_rate=lr)\n",
    "\n",
    "    # Compile model\n",
    "    model.compile(optimizer, 'triplet_omniglot', train_init_op, test_init_op, \n",
    "                  callbacks={'acc': one_shot_acc(NUM_BRANCHES)}, \n",
    "                  schedulers={'lr:0': lr_scheduler}, A=A, P=P, K=K)\n",
    "\n",
    "model.summary()"
   ]
  },
  {
   "cell_type": "code",
   "execution_count": 11,
   "metadata": {},
   "outputs": [
    {
     "name": "stdout",
     "output_type": "stream",
     "text": [
      "Tensor(\"model/output/output:0\", shape=(?, 128), dtype=float32)\n"
     ]
    }
   ],
   "source": [
    "print(model.output)"
   ]
  },
  {
   "cell_type": "code",
   "execution_count": 12,
   "metadata": {},
   "outputs": [
    {
     "data": {
      "image/png": "[encoded data removed]",
      "text/plain": [
       "<Figure size 432x288 with 1 Axes>"
      ]
     },
     "metadata": {
      "needs_background": "light"
     },
     "output_type": "display_data"
    }
   ],
   "source": [
    "lr_steps = [lr_scheduler(e + 1) for e in range(EPOCHS)]\n",
    "plt.plot(lr_steps)\n",
    "plt.show()"
   ]
  },
  {
   "cell_type": "code",
   "execution_count": 13,
   "metadata": {
    "scrolled": false
   },
   "outputs": [
    {
     "name": "stdout",
     "output_type": "stream",
     "text": [
      "Epoch 1/50\n"
     ]
    },
    {
     "ename": "InvalidArgumentError",
     "evalue": "TypeError: next() missing 1 required positional argument: 'K'\nTraceback (most recent call last):\n\n  File \"/home/gong/anaconda3/lib/python3.5/site-packages/tensorflow/python/ops/script_ops.py\", line 207, in __call__\n    ret = func(*args)\n\n  File \"/home/gong/anaconda3/lib/python3.5/site-packages/tensorflow/python/data/ops/dataset_ops.py\", line 449, in generator_py_func\n    values = next(generator_state.get_iterator(iterator_id))\n\n  File \"/home/gong/research/vbranch/vbranch/utils/training_utils.py\", line 134, in func\n    batch = generator.next(*args).astype('float32')\n\nTypeError: next() missing 1 required positional argument: 'K'\n\n\n\t [[{{node PyFunc}}]]\n\t [[node IteratorGetNext (defined at /home/gong/research/vbranch/vbranch/utils/training_utils.py:193) ]]\n\t [[node IteratorGetNext (defined at /home/gong/research/vbranch/vbranch/utils/training_utils.py:193) ]]",
     "output_type": "error",
     "traceback": [
      "\u001b[0;31m---------------------------------------------------------------------------\u001b[0m",
      "\u001b[0;31mInvalidArgumentError\u001b[0m                      Traceback (most recent call last)",
      "\u001b[0;32m~/anaconda3/lib/python3.5/site-packages/tensorflow/python/client/session.py\u001b[0m in \u001b[0;36m_do_call\u001b[0;34m(self, fn, *args)\u001b[0m\n\u001b[1;32m   1333\u001b[0m     \u001b[0;32mtry\u001b[0m\u001b[0;34m:\u001b[0m\u001b[0;34m\u001b[0m\u001b[0m\n\u001b[0;32m-> 1334\u001b[0;31m       \u001b[0;32mreturn\u001b[0m \u001b[0mfn\u001b[0m\u001b[0;34m(\u001b[0m\u001b[0;34m*\u001b[0m\u001b[0margs\u001b[0m\u001b[0;34m)\u001b[0m\u001b[0;34m\u001b[0m\u001b[0m\n\u001b[0m\u001b[1;32m   1335\u001b[0m     \u001b[0;32mexcept\u001b[0m \u001b[0merrors\u001b[0m\u001b[0;34m.\u001b[0m\u001b[0mOpError\u001b[0m \u001b[0;32mas\u001b[0m \u001b[0me\u001b[0m\u001b[0;34m:\u001b[0m\u001b[0;34m\u001b[0m\u001b[0m\n",
      "\u001b[0;32m~/anaconda3/lib/python3.5/site-packages/tensorflow/python/client/session.py\u001b[0m in \u001b[0;36m_run_fn\u001b[0;34m(feed_dict, fetch_list, target_list, options, run_metadata)\u001b[0m\n\u001b[1;32m   1318\u001b[0m       return self._call_tf_sessionrun(\n\u001b[0;32m-> 1319\u001b[0;31m           options, feed_dict, fetch_list, target_list, run_metadata)\n\u001b[0m\u001b[1;32m   1320\u001b[0m \u001b[0;34m\u001b[0m\u001b[0m\n",
      "\u001b[0;32m~/anaconda3/lib/python3.5/site-packages/tensorflow/python/client/session.py\u001b[0m in \u001b[0;36m_call_tf_sessionrun\u001b[0;34m(self, options, feed_dict, fetch_list, target_list, run_metadata)\u001b[0m\n\u001b[1;32m   1406\u001b[0m         \u001b[0mself\u001b[0m\u001b[0;34m.\u001b[0m\u001b[0m_session\u001b[0m\u001b[0;34m,\u001b[0m \u001b[0moptions\u001b[0m\u001b[0;34m,\u001b[0m \u001b[0mfeed_dict\u001b[0m\u001b[0;34m,\u001b[0m \u001b[0mfetch_list\u001b[0m\u001b[0;34m,\u001b[0m \u001b[0mtarget_list\u001b[0m\u001b[0;34m,\u001b[0m\u001b[0;34m\u001b[0m\u001b[0m\n\u001b[0;32m-> 1407\u001b[0;31m         run_metadata)\n\u001b[0m\u001b[1;32m   1408\u001b[0m \u001b[0;34m\u001b[0m\u001b[0m\n",
      "\u001b[0;31mInvalidArgumentError\u001b[0m: TypeError: next() missing 1 required positional argument: 'K'\nTraceback (most recent call last):\n\n  File \"/home/gong/anaconda3/lib/python3.5/site-packages/tensorflow/python/ops/script_ops.py\", line 207, in __call__\n    ret = func(*args)\n\n  File \"/home/gong/anaconda3/lib/python3.5/site-packages/tensorflow/python/data/ops/dataset_ops.py\", line 449, in generator_py_func\n    values = next(generator_state.get_iterator(iterator_id))\n\n  File \"/home/gong/research/vbranch/vbranch/utils/training_utils.py\", line 134, in func\n    batch = generator.next(*args).astype('float32')\n\nTypeError: next() missing 1 required positional argument: 'K'\n\n\n\t [[{{node PyFunc}}]]\n\t [[{{node IteratorGetNext}}]]\n\t [[{{node IteratorGetNext}}]]",
      "\nDuring handling of the above exception, another exception occurred:\n",
      "\u001b[0;31mInvalidArgumentError\u001b[0m                      Traceback (most recent call last)",
      "\u001b[0;32m<ipython-input-13-fe9ebab2a9b1>\u001b[0m in \u001b[0;36m<module>\u001b[0;34m()\u001b[0m\n\u001b[1;32m      1\u001b[0m history = model.fit({}, EPOCHS, STEPS_PER_EPOCH,\n\u001b[0;32m----> 2\u001b[0;31m                     val_dict=None, log_path=model_path if SAVE else None)\n\u001b[0m",
      "\u001b[0;32m~/research/vbranch/vbranch/engine/training.py\u001b[0m in \u001b[0;36mfit\u001b[0;34m(self, train_dict, epochs, steps_per_epoch, val_dict, log_path)\u001b[0m\n\u001b[1;32m     43\u001b[0m         history = _fit(self.train_init_op, self.test_init_op, train_dict,\n\u001b[1;32m     44\u001b[0m             \u001b[0mepochs\u001b[0m\u001b[0;34m,\u001b[0m \u001b[0msteps_per_epoch\u001b[0m\u001b[0;34m,\u001b[0m \u001b[0mself\u001b[0m\u001b[0;34m.\u001b[0m\u001b[0mloss\u001b[0m\u001b[0;34m,\u001b[0m \u001b[0mself\u001b[0m\u001b[0;34m.\u001b[0m\u001b[0mtrain_op\u001b[0m\u001b[0;34m,\u001b[0m \u001b[0mval_dict\u001b[0m\u001b[0;34m,\u001b[0m\u001b[0;34m\u001b[0m\u001b[0m\n\u001b[0;32m---> 45\u001b[0;31m             log_path, self.callbacks, self.schedulers)\n\u001b[0m\u001b[1;32m     46\u001b[0m         \u001b[0;32mreturn\u001b[0m \u001b[0mhistory\u001b[0m\u001b[0;34m\u001b[0m\u001b[0m\n\u001b[1;32m     47\u001b[0m \u001b[0;34m\u001b[0m\u001b[0m\n",
      "\u001b[0;32m~/research/vbranch/vbranch/engine/training.py\u001b[0m in \u001b[0;36m_fit\u001b[0;34m(train_init_op, test_init_op, train_dict, epochs, steps_per_epoch, loss_op, train_op, val_dict, save_model_path, callbacks, schedulers, n_branches)\u001b[0m\n\u001b[1;32m    211\u001b[0m             \u001b[0;32mfor\u001b[0m \u001b[0mi\u001b[0m \u001b[0;32min\u001b[0m \u001b[0mrange\u001b[0m\u001b[0;34m(\u001b[0m\u001b[0msteps_per_epoch\u001b[0m\u001b[0;34m)\u001b[0m\u001b[0;34m:\u001b[0m\u001b[0;34m\u001b[0m\u001b[0m\n\u001b[1;32m    212\u001b[0m                 \u001b[0mprogbar_vals\u001b[0m \u001b[0;34m=\u001b[0m \u001b[0;34m[\u001b[0m\u001b[0;34m]\u001b[0m\u001b[0;34m\u001b[0m\u001b[0m\n\u001b[0;32m--> 213\u001b[0;31m                 \u001b[0mloss\u001b[0m\u001b[0;34m,\u001b[0m \u001b[0m_\u001b[0m \u001b[0;34m=\u001b[0m \u001b[0msess\u001b[0m\u001b[0;34m.\u001b[0m\u001b[0mrun\u001b[0m\u001b[0;34m(\u001b[0m\u001b[0;34m[\u001b[0m\u001b[0mloss_op\u001b[0m\u001b[0;34m,\u001b[0m \u001b[0mtrain_op\u001b[0m\u001b[0;34m]\u001b[0m\u001b[0;34m,\u001b[0m \u001b[0mfeed_dict\u001b[0m\u001b[0;34m=\u001b[0m\u001b[0msched_dict\u001b[0m\u001b[0;34m)\u001b[0m\u001b[0;34m\u001b[0m\u001b[0m\n\u001b[0m\u001b[1;32m    214\u001b[0m \u001b[0;34m\u001b[0m\u001b[0m\n\u001b[1;32m    215\u001b[0m                 \u001b[0;32mfor\u001b[0m \u001b[0mname\u001b[0m\u001b[0;34m,\u001b[0m \u001b[0ml\u001b[0m \u001b[0;32min\u001b[0m \u001b[0mloss\u001b[0m\u001b[0;34m.\u001b[0m\u001b[0mitems\u001b[0m\u001b[0;34m(\u001b[0m\u001b[0;34m)\u001b[0m\u001b[0;34m:\u001b[0m\u001b[0;34m\u001b[0m\u001b[0m\n",
      "\u001b[0;32m~/anaconda3/lib/python3.5/site-packages/tensorflow/python/client/session.py\u001b[0m in \u001b[0;36mrun\u001b[0;34m(self, fetches, feed_dict, options, run_metadata)\u001b[0m\n\u001b[1;32m    927\u001b[0m     \u001b[0;32mtry\u001b[0m\u001b[0;34m:\u001b[0m\u001b[0;34m\u001b[0m\u001b[0m\n\u001b[1;32m    928\u001b[0m       result = self._run(None, fetches, feed_dict, options_ptr,\n\u001b[0;32m--> 929\u001b[0;31m                          run_metadata_ptr)\n\u001b[0m\u001b[1;32m    930\u001b[0m       \u001b[0;32mif\u001b[0m \u001b[0mrun_metadata\u001b[0m\u001b[0;34m:\u001b[0m\u001b[0;34m\u001b[0m\u001b[0m\n\u001b[1;32m    931\u001b[0m         \u001b[0mproto_data\u001b[0m \u001b[0;34m=\u001b[0m \u001b[0mtf_session\u001b[0m\u001b[0;34m.\u001b[0m\u001b[0mTF_GetBuffer\u001b[0m\u001b[0;34m(\u001b[0m\u001b[0mrun_metadata_ptr\u001b[0m\u001b[0;34m)\u001b[0m\u001b[0;34m\u001b[0m\u001b[0m\n",
      "\u001b[0;32m~/anaconda3/lib/python3.5/site-packages/tensorflow/python/client/session.py\u001b[0m in \u001b[0;36m_run\u001b[0;34m(self, handle, fetches, feed_dict, options, run_metadata)\u001b[0m\n\u001b[1;32m   1150\u001b[0m     \u001b[0;32mif\u001b[0m \u001b[0mfinal_fetches\u001b[0m \u001b[0;32mor\u001b[0m \u001b[0mfinal_targets\u001b[0m \u001b[0;32mor\u001b[0m \u001b[0;34m(\u001b[0m\u001b[0mhandle\u001b[0m \u001b[0;32mand\u001b[0m \u001b[0mfeed_dict_tensor\u001b[0m\u001b[0;34m)\u001b[0m\u001b[0;34m:\u001b[0m\u001b[0;34m\u001b[0m\u001b[0m\n\u001b[1;32m   1151\u001b[0m       results = self._do_run(handle, final_targets, final_fetches,\n\u001b[0;32m-> 1152\u001b[0;31m                              feed_dict_tensor, options, run_metadata)\n\u001b[0m\u001b[1;32m   1153\u001b[0m     \u001b[0;32melse\u001b[0m\u001b[0;34m:\u001b[0m\u001b[0;34m\u001b[0m\u001b[0m\n\u001b[1;32m   1154\u001b[0m       \u001b[0mresults\u001b[0m \u001b[0;34m=\u001b[0m \u001b[0;34m[\u001b[0m\u001b[0;34m]\u001b[0m\u001b[0;34m\u001b[0m\u001b[0m\n",
      "\u001b[0;32m~/anaconda3/lib/python3.5/site-packages/tensorflow/python/client/session.py\u001b[0m in \u001b[0;36m_do_run\u001b[0;34m(self, handle, target_list, fetch_list, feed_dict, options, run_metadata)\u001b[0m\n\u001b[1;32m   1326\u001b[0m     \u001b[0;32mif\u001b[0m \u001b[0mhandle\u001b[0m \u001b[0;32mis\u001b[0m \u001b[0;32mNone\u001b[0m\u001b[0;34m:\u001b[0m\u001b[0;34m\u001b[0m\u001b[0m\n\u001b[1;32m   1327\u001b[0m       return self._do_call(_run_fn, feeds, fetches, targets, options,\n\u001b[0;32m-> 1328\u001b[0;31m                            run_metadata)\n\u001b[0m\u001b[1;32m   1329\u001b[0m     \u001b[0;32melse\u001b[0m\u001b[0;34m:\u001b[0m\u001b[0;34m\u001b[0m\u001b[0m\n\u001b[1;32m   1330\u001b[0m       \u001b[0;32mreturn\u001b[0m \u001b[0mself\u001b[0m\u001b[0;34m.\u001b[0m\u001b[0m_do_call\u001b[0m\u001b[0;34m(\u001b[0m\u001b[0m_prun_fn\u001b[0m\u001b[0;34m,\u001b[0m \u001b[0mhandle\u001b[0m\u001b[0;34m,\u001b[0m \u001b[0mfeeds\u001b[0m\u001b[0;34m,\u001b[0m \u001b[0mfetches\u001b[0m\u001b[0;34m)\u001b[0m\u001b[0;34m\u001b[0m\u001b[0m\n",
      "\u001b[0;32m~/anaconda3/lib/python3.5/site-packages/tensorflow/python/client/session.py\u001b[0m in \u001b[0;36m_do_call\u001b[0;34m(self, fn, *args)\u001b[0m\n\u001b[1;32m   1346\u001b[0m           \u001b[0;32mpass\u001b[0m\u001b[0;34m\u001b[0m\u001b[0m\n\u001b[1;32m   1347\u001b[0m       \u001b[0mmessage\u001b[0m \u001b[0;34m=\u001b[0m \u001b[0merror_interpolation\u001b[0m\u001b[0;34m.\u001b[0m\u001b[0minterpolate\u001b[0m\u001b[0;34m(\u001b[0m\u001b[0mmessage\u001b[0m\u001b[0;34m,\u001b[0m \u001b[0mself\u001b[0m\u001b[0;34m.\u001b[0m\u001b[0m_graph\u001b[0m\u001b[0;34m)\u001b[0m\u001b[0;34m\u001b[0m\u001b[0m\n\u001b[0;32m-> 1348\u001b[0;31m       \u001b[0;32mraise\u001b[0m \u001b[0mtype\u001b[0m\u001b[0;34m(\u001b[0m\u001b[0me\u001b[0m\u001b[0;34m)\u001b[0m\u001b[0;34m(\u001b[0m\u001b[0mnode_def\u001b[0m\u001b[0;34m,\u001b[0m \u001b[0mop\u001b[0m\u001b[0;34m,\u001b[0m \u001b[0mmessage\u001b[0m\u001b[0;34m)\u001b[0m\u001b[0;34m\u001b[0m\u001b[0m\n\u001b[0m\u001b[1;32m   1349\u001b[0m \u001b[0;34m\u001b[0m\u001b[0m\n\u001b[1;32m   1350\u001b[0m   \u001b[0;32mdef\u001b[0m \u001b[0m_extend_graph\u001b[0m\u001b[0;34m(\u001b[0m\u001b[0mself\u001b[0m\u001b[0;34m)\u001b[0m\u001b[0;34m:\u001b[0m\u001b[0;34m\u001b[0m\u001b[0m\n",
      "\u001b[0;31mInvalidArgumentError\u001b[0m: TypeError: next() missing 1 required positional argument: 'K'\nTraceback (most recent call last):\n\n  File \"/home/gong/anaconda3/lib/python3.5/site-packages/tensorflow/python/ops/script_ops.py\", line 207, in __call__\n    ret = func(*args)\n\n  File \"/home/gong/anaconda3/lib/python3.5/site-packages/tensorflow/python/data/ops/dataset_ops.py\", line 449, in generator_py_func\n    values = next(generator_state.get_iterator(iterator_id))\n\n  File \"/home/gong/research/vbranch/vbranch/utils/training_utils.py\", line 134, in func\n    batch = generator.next(*args).astype('float32')\n\nTypeError: next() missing 1 required positional argument: 'K'\n\n\n\t [[{{node PyFunc}}]]\n\t [[node IteratorGetNext (defined at /home/gong/research/vbranch/vbranch/utils/training_utils.py:193) ]]\n\t [[node IteratorGetNext (defined at /home/gong/research/vbranch/vbranch/utils/training_utils.py:193) ]]"
     ]
    }
   ],
   "source": [
    "history = model.fit({}, EPOCHS, STEPS_PER_EPOCH,\n",
    "                    val_dict=None, log_path=model_path if SAVE else None)"
   ]
  },
  {
   "cell_type": "markdown",
   "metadata": {},
   "source": [
    "## Evaluation"
   ]
  },
  {
   "cell_type": "markdown",
   "metadata": {},
   "source": [
    "### Baseline"
   ]
  },
  {
   "cell_type": "code",
   "execution_count": 15,
   "metadata": {},
   "outputs": [
    {
     "name": "stdout",
     "output_type": "stream",
     "text": [
      "WARNING:tensorflow:From /home/gong/anaconda3/lib/python3.5/site-packages/tensorflow/python/training/saver.py:1266: checkpoint_exists (from tensorflow.python.training.checkpoint_management) is deprecated and will be removed in a future version.\n",
      "Instructions for updating:\n",
      "Use standard file APIs to check for files with this prefix.\n",
      "INFO:tensorflow:Restoring parameters from models/omniglot-res_1/ckpt\n",
      "Model 1 acc: 0.8049999999999999\n",
      "Mean acc: 0.8049999999999999 , std: 0.0\n"
     ]
    }
   ],
   "source": [
    "assert NUM_BRANCHES == 1\n",
    "\n",
    "model_id_list = [1]\n",
    "baseline_acc_list = []\n",
    "\n",
    "for model_id in model_id_list:\n",
    "    tf.reset_default_graph()\n",
    "    model_name = '{}-{}_{:d}'.format(DATASET, ARCHITECTURE, MODEL_ID)\n",
    "    model_path = os.path.join('models', model_name)\n",
    "    \n",
    "    with TFSessionGrow() as sess:\n",
    "        restore_sess(sess, model_path)\n",
    "        acc = baseline_one_shot(sess, model_name='model_'+str(model_id))\n",
    "        print('Model {} acc:'.format(model_id), acc)\n",
    "        baseline_acc_list.append(acc)\n",
    "        \n",
    "print('Mean acc:', np.mean(baseline_acc_list), ', std:', np.std(baseline_acc_list))"
   ]
  },
  {
   "cell_type": "markdown",
   "metadata": {},
   "source": [
    "### Virtual Branching"
   ]
  },
  {
   "cell_type": "code",
   "execution_count": 8,
   "metadata": {},
   "outputs": [
    {
     "name": "stdout",
     "output_type": "stream",
     "text": [
      "WARNING:tensorflow:From /home/gong/anaconda3/lib/python3.5/site-packages/tensorflow/python/training/saver.py:1266: checkpoint_exists (from tensorflow.python.training.checkpoint_management) is deprecated and will be removed in a future version.\n",
      "Instructions for updating:\n",
      "Use standard file APIs to check for files with this prefix.\n",
      "INFO:tensorflow:Restoring parameters from models/vb-omniglot-res-B2-S0.25_1/ckpt\n",
      "Model 1 acc: 0.8375 [0.7849999999999999, 0.8125]\n",
      "Mean acc: 0.8375 , std: 0.0\n"
     ]
    }
   ],
   "source": [
    "model_id_list = [1]\n",
    "vbranch_acc_list = []\n",
    "\n",
    "for model_id in model_id_list:\n",
    "    tf.reset_default_graph()\n",
    "    \n",
    "    model_name = 'vb-{}-{}-B{:d}-S{:.2f}_{:d}'.format(dataset, architecture,\n",
    "                                            NUM_BRANCHES, SHARED_FRAC, model_id)\n",
    "    model_path = os.path.join('models', model_name)\n",
    "    \n",
    "    with TFSessionGrow() as sess:\n",
    "        restore_sess(sess, model_path)    \n",
    "        acc, branch_acc = vbranch_one_shot(sess, model_name='model_'+str(model_id), \n",
    "                                           n_branches=NUM_BRANCHES)\n",
    "        print('Model {} acc:'.format(model_id), acc, branch_acc)\n",
    "        vbranch_acc_list.append(acc)\n",
    "        \n",
    "print('Mean acc:', np.mean(vbranch_acc_list), ', std:', np.std(vbranch_acc_list))"
   ]
  },
  {
   "cell_type": "code",
   "execution_count": null,
   "metadata": {},
   "outputs": [],
   "source": []
  }
 ],
 "metadata": {
  "kernelspec": {
   "display_name": "Python 3",
   "language": "python",
   "name": "python3"
  },
  "language_info": {
   "codemirror_mode": {
    "name": "ipython",
    "version": 3
   },
   "file_extension": ".py",
   "mimetype": "text/x-python",
   "name": "python",
   "nbconvert_exporter": "python",
   "pygments_lexer": "ipython3",
   "version": "3.5.6"
  }
 },
 "nbformat": 4,
 "nbformat_minor": 2
}
