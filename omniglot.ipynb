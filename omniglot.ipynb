{
 "cells": [
  {
   "cell_type": "markdown",
   "metadata": {},
   "source": [
    "# Omnigot One-Shot"
   ]
  },
  {
   "cell_type": "code",
   "execution_count": 1,
   "metadata": {},
   "outputs": [],
   "source": [
    "import tensorflow as tf\n",
    "import numpy as np\n",
    "import os\n",
    "import zipfile\n",
    "import matplotlib.pyplot as plt\n",
    "import copy\n",
    "import cv2\n",
    "from scipy.spatial import distance"
   ]
  },
  {
   "cell_type": "code",
   "execution_count": 2,
   "metadata": {},
   "outputs": [],
   "source": [
    "import vbranch\n",
    "from vbranch.data import Omniglot"
   ]
  },
  {
   "cell_type": "code",
   "execution_count": 3,
   "metadata": {},
   "outputs": [],
   "source": [
    "save = True\n",
    "model_id = 1"
   ]
  },
  {
   "cell_type": "markdown",
   "metadata": {},
   "source": [
    "## Load Data"
   ]
  },
  {
   "cell_type": "code",
   "execution_count": 4,
   "metadata": {},
   "outputs": [],
   "source": [
    "if not os.path.isdir('./omniglot/python/images_background'):\n",
    "    with zipfile.ZipFile('./omniglot/python/images_background.zip','r') as zip_ref:\n",
    "        zip_ref.extractall('./omniglot/python')\n",
    "        \n",
    "if not os.path.isdir('./omniglot/python/images_evaluation'):\n",
    "    with zipfile.ZipFile('./omniglot/python/images_evaluation.zip','r') as zip_ref:\n",
    "        zip_ref.extractall('./omniglot/python')"
   ]
  },
  {
   "cell_type": "code",
   "execution_count": 5,
   "metadata": {},
   "outputs": [],
   "source": [
    "train_generator = Omniglot('./omniglot/python/images_background/')\n",
    "test_generator = Omniglot('./omniglot/python/images_evaluation')"
   ]
  },
  {
   "cell_type": "code",
   "execution_count": 6,
   "metadata": {},
   "outputs": [],
   "source": [
    "batch = train_generator.next(4, 4, 4, flatten=False)"
   ]
  },
  {
   "cell_type": "code",
   "execution_count": 7,
   "metadata": {},
   "outputs": [
    {
     "data": {
      "image/png": "[encoded data removed]",
      "text/plain": [
       "<Figure size 432x288 with 1 Axes>"
      ]
     },
     "metadata": {
      "needs_background": "light"
     },
     "output_type": "display_data"
    }
   ],
   "source": [
    "plt.imshow(batch[2, 3, 0].squeeze(), cmap=plt.cm.gray)\n",
    "plt.show()"
   ]
  },
  {
   "cell_type": "markdown",
   "metadata": {},
   "source": [
    "## Build Model"
   ]
  },
  {
   "cell_type": "code",
   "execution_count": 8,
   "metadata": {},
   "outputs": [],
   "source": [
    "EPOCHS = 20\n",
    "STEPS_PER_EPOCH = 100\n",
    "model_path = './models/model_' + str(model_id)\n",
    "A, P, K = 4, 4, 4 # triplet batch specs\n",
    "output_dim = 128\n",
    "input_dim = [None, 105, 105, 1]"
   ]
  },
  {
   "cell_type": "code",
   "execution_count": 9,
   "metadata": {},
   "outputs": [],
   "source": [
    "def batch_gen(A, P, K):\n",
    "    def func():\n",
    "        while True:\n",
    "            batch = train_generator.next(A, P, K)\n",
    "            batch = batch.astype('float32')\n",
    "            yield batch\n",
    "    return func"
   ]
  },
  {
   "cell_type": "code",
   "execution_count": 10,
   "metadata": {},
   "outputs": [],
   "source": [
    "tf.reset_default_graph()\n",
    "\n",
    "train_dataset = tf.data.Dataset.from_generator(batch_gen(A, P, K), 'float32', \n",
    "                                                 output_shapes=input_dim)\n",
    "\n",
    "# Dataset for feeding non-triplet batched images from memory\n",
    "x = tf.placeholder('float32', input_dim, name='x')\n",
    "batch_size = tf.placeholder('int64', name='batch_size')\n",
    "test_dataset = tf.data.Dataset.from_tensor_slices(x).batch(batch_size)\n",
    "\n",
    "iter_ = tf.data.Iterator.from_structure('float32', input_dim)\n",
    "train_init_op = iter_.make_initializer(train_dataset)\n",
    "test_init_op = iter_.make_initializer(test_dataset, name='test_init_op')\n",
    "\n",
    "inputs = iter_.get_next()"
   ]
  },
  {
   "cell_type": "code",
   "execution_count": 11,
   "metadata": {},
   "outputs": [],
   "source": [
    "with tf.variable_scope('model_' + str(model_id)):\n",
    "    model = vbranch.models.simple_cnn(inputs, output_dim, 32, 64, 128)"
   ]
  },
  {
   "cell_type": "code",
   "execution_count": 12,
   "metadata": {},
   "outputs": [
    {
     "name": "stdout",
     "output_type": "stream",
     "text": [
      "i   Layer name          Output shape        Parameters                    Num param \n",
      "------------------------------------------------------------------------------------\n",
      "    Input               [None,105,105,1]                                            \n",
      "------------------------------------------------------------------------------------\n",
      "0   conv2d_1_1          [None,103,103,32]   (3,3,1,32) (32,)              320       \n",
      "------------------------------------------------------------------------------------\n",
      "1   bn_1_1              [None,103,103,32]   (32,) (32,)                   64        \n",
      "------------------------------------------------------------------------------------\n",
      "2   relu_1_1            [None,103,103,32]                                 0         \n",
      "------------------------------------------------------------------------------------\n",
      "3   conv2d_1_2          [None,101,101,32]   (3,3,32,32) (32,)             9248      \n",
      "------------------------------------------------------------------------------------\n",
      "4   bn_1_2              [None,101,101,32]   (32,) (32,)                   64        \n",
      "------------------------------------------------------------------------------------\n",
      "5   relu_1_2            [None,101,101,32]                                 0         \n",
      "------------------------------------------------------------------------------------\n",
      "6   avg_pool2d_1        [None,50,50,32]                                   0         \n",
      "------------------------------------------------------------------------------------\n",
      "7   conv2d_2_1          [None,48,48,64]     (3,3,32,64) (64,)             18496     \n",
      "------------------------------------------------------------------------------------\n",
      "8   bn_2_1              [None,48,48,64]     (64,) (64,)                   128       \n",
      "------------------------------------------------------------------------------------\n",
      "9   relu_2_1            [None,48,48,64]                                   0         \n",
      "------------------------------------------------------------------------------------\n",
      "10  conv2d_2_2          [None,46,46,64]     (3,3,64,64) (64,)             36928     \n",
      "------------------------------------------------------------------------------------\n",
      "11  bn_2_2              [None,46,46,64]     (64,) (64,)                   128       \n",
      "------------------------------------------------------------------------------------\n",
      "12  relu_2_2            [None,46,46,64]                                   0         \n",
      "------------------------------------------------------------------------------------\n",
      "13  avg_pool2d_2        [None,23,23,64]                                   0         \n",
      "------------------------------------------------------------------------------------\n",
      "14  conv2d_3_1          [None,21,21,128]    (3,3,64,128) (128,)           73856     \n",
      "------------------------------------------------------------------------------------\n",
      "15  bn_3_1              [None,21,21,128]    (128,) (128,)                 256       \n",
      "------------------------------------------------------------------------------------\n",
      "16  relu_3_1            [None,21,21,128]                                  0         \n",
      "------------------------------------------------------------------------------------\n",
      "17  conv2d_3_2          [None,19,19,128]    (3,3,128,128) (128,)          147584    \n",
      "------------------------------------------------------------------------------------\n",
      "18  bn_3_2              [None,19,19,128]    (128,) (128,)                 256       \n",
      "------------------------------------------------------------------------------------\n",
      "19  relu_3_2            [None,19,19,128]                                  0         \n",
      "------------------------------------------------------------------------------------\n",
      "20  global_avg_pool2d   [None,128]                                        0         \n",
      "------------------------------------------------------------------------------------\n",
      "21  pred                [None,128]          (128,128) (128,)              16512     \n",
      "------------------------------------------------------------------------------------\n",
      "Total parameters: 303840\n"
     ]
    }
   ],
   "source": [
    "model.summary()"
   ]
  },
  {
   "cell_type": "code",
   "execution_count": 13,
   "metadata": {},
   "outputs": [],
   "source": [
    "def lr_exp_decay_scheduler(init_lr, t0, decay):\n",
    "    \"\"\"NOTE: `episode` starts from 1\"\"\"\n",
    "    def func(episode):\n",
    "        if episode < t0:\n",
    "            return init_lr\n",
    "        lr = init_lr * np.power(decay, (episode - t0) / 2)\n",
    "        return lr\n",
    "    return func"
   ]
  },
  {
   "cell_type": "code",
   "execution_count": 14,
   "metadata": {},
   "outputs": [
    {
     "data": {
      "text/plain": [
       "[<matplotlib.lines.Line2D at 0xb2e941898>]"
      ]
     },
     "execution_count": 14,
     "metadata": {},
     "output_type": "execute_result"
    },
    {
     "data": {
      "image/png": "[encoded data removed]",
      "text/plain": [
       "<Figure size 432x288 with 1 Axes>"
      ]
     },
     "metadata": {
      "needs_background": "light"
     },
     "output_type": "display_data"
    }
   ],
   "source": [
    "lr_scheduler = lr_exp_decay_scheduler(0.001, 5, 0.75)\n",
    "lr_steps = [lr_scheduler(e + 1) for e in range(EPOCHS)]\n",
    "plt.plot(lr_steps)"
   ]
  },
  {
   "cell_type": "code",
   "execution_count": 15,
   "metadata": {},
   "outputs": [],
   "source": [
    "loss = vbranch.losses.triplet_omniglot(model.output, A, P, K, 'loss')\n",
    "lr = tf.placeholder('float32', name='lr')\n",
    "train_op = tf.train.AdamOptimizer(learning_rate=lr).minimize(loss)"
   ]
  },
  {
   "cell_type": "code",
   "execution_count": 16,
   "metadata": {},
   "outputs": [
    {
     "name": "stdout",
     "output_type": "stream",
     "text": [
      "Epoch 1/20\n",
      "100/100 [==============================] - 466s 5s/step - loss: 19.4145 - lr: 0.0010\n",
      "Epoch 2/20\n",
      "100/100 [==============================] - 444s 4s/step - loss: 7.1651 - lr: 0.0010\n",
      "Epoch 3/20\n",
      "100/100 [==============================] - 459s 5s/step - loss: 5.0561 - lr: 0.0010\n",
      "Epoch 4/20\n",
      "100/100 [==============================] - 451s 5s/step - loss: 4.6177 - lr: 0.0010\n",
      "Epoch 5/20\n",
      "100/100 [==============================] - 462s 5s/step - loss: 4.4491 - lr: 0.0010\n",
      "Epoch 6/20\n",
      "100/100 [==============================] - 447s 4s/step - loss: 3.8657 - lr: 8.6603e-04\n",
      "Epoch 7/20\n",
      "100/100 [==============================] - 432s 4s/step - loss: 3.0636 - lr: 7.5000e-04\n",
      "Epoch 8/20\n",
      "100/100 [==============================] - 443s 4s/step - loss: 2.6433 - lr: 6.4952e-04\n",
      "Epoch 9/20\n",
      "100/100 [==============================] - 455s 5s/step - loss: 2.2783 - lr: 5.6250e-04\n",
      "Epoch 10/20\n",
      "100/100 [==============================] - 441s 4s/step - loss: 2.2878 - lr: 4.8714e-04\n",
      "Epoch 11/20\n",
      "100/100 [==============================] - 440s 4s/step - loss: 1.9860 - lr: 4.2188e-04\n",
      "Epoch 12/20\n",
      "100/100 [==============================] - 422s 4s/step - loss: 1.7863 - lr: 3.6535e-04\n",
      "Epoch 13/20\n",
      "100/100 [==============================] - 448s 4s/step - loss: 1.5860 - lr: 3.1641e-04\n",
      "Epoch 14/20\n",
      "100/100 [==============================] - 447s 4s/step - loss: 1.6071 - lr: 2.7402e-04\n",
      "Epoch 15/20\n",
      "100/100 [==============================] - 430s 4s/step - loss: 1.4152 - lr: 2.3730e-04\n",
      "Epoch 16/20\n",
      "100/100 [==============================] - 453s 5s/step - loss: 1.3392 - lr: 2.0551e-04\n",
      "Epoch 17/20\n",
      "100/100 [==============================] - 480s 5s/step - loss: 1.3915 - lr: 1.7798e-04\n",
      "Epoch 18/20\n",
      "100/100 [==============================] - 463s 5s/step - loss: 0.9985 - lr: 1.5413e-04\n",
      "Epoch 19/20\n",
      "100/100 [==============================] - 501s 5s/step - loss: 1.0125 - lr: 1.3348e-04\n",
      "Epoch 20/20\n",
      "100/100 [==============================] - 464s 5s/step - loss: 1.0103 - lr: 1.1560e-04\n"
     ]
    }
   ],
   "source": [
    "with tf.Session() as sess:\n",
    "    sess.run(tf.global_variables_initializer())\n",
    "    sess.run(train_init_op)\n",
    "\n",
    "    for e in range(EPOCHS):\n",
    "        print(\"Epoch {}/{}\".format(e + 1, EPOCHS))\n",
    "        progbar = tf.keras.utils.Progbar(STEPS_PER_EPOCH)\n",
    "        \n",
    "        learning_rate = lr_scheduler(e + 1)\n",
    "        for i in range(STEPS_PER_EPOCH):\n",
    "            _, loss_value = sess.run([train_op, loss], feed_dict={lr:learning_rate})\n",
    "            progbar.update(i + 1, values=[('loss', loss_value), ('lr', learning_rate)])\n",
    "    \n",
    "    if save:\n",
    "        saver = tf.train.Saver()\n",
    "        path = os.path.join(model_path, 'ckpt')\n",
    "        saver.save(sess, path)"
   ]
  },
  {
   "cell_type": "markdown",
   "metadata": {},
   "source": [
    "## Model Ensemble"
   ]
  },
  {
   "cell_type": "code",
   "execution_count": 17,
   "metadata": {},
   "outputs": [],
   "source": [
    "def restore_sess(sess, model_path):\n",
    "    meta_path = os.path.join(model_path, 'ckpt.meta')\n",
    "    ckpt = tf.train.get_checkpoint_state(model_path)\n",
    "\n",
    "    imported_graph = tf.train.import_meta_graph(meta_path)\n",
    "    imported_graph.restore(sess, ckpt.model_checkpoint_path)"
   ]
  },
  {
   "cell_type": "code",
   "execution_count": 18,
   "metadata": {},
   "outputs": [],
   "source": [
    "def get_run(n_run):\n",
    "    all_runs = './omniglot/python/one-shot-classification/all_runs'\n",
    "    \n",
    "    run_path = os.path.join(all_runs,'run%02d'%n_run,'class_labels.txt')\n",
    "    with open(run_path) as f:\n",
    "        content = f.read().splitlines()\n",
    "\n",
    "    pairs = [line.split() for line in content]\n",
    "    test_files  = [pair[0] for pair in pairs]\n",
    "    train_files = [pair[1] for pair in pairs]\n",
    "\n",
    "    answers_files = copy.copy(train_files)\n",
    "    test_files.sort()\n",
    "    train_files.sort()\n",
    "    \n",
    "    def f_load(f):\n",
    "        path = os.path.join(all_runs, f)\n",
    "        return cv2.imread(path)[..., 0]\n",
    "\n",
    "    train_imgs = np.stack([f_load(f) for f in train_files]).\\\n",
    "                        astype('float32')[..., np.newaxis]\n",
    "    test_imgs  = np.stack([f_load(f) for f in test_files]).\\\n",
    "                        astype('float32')[..., np.newaxis]\n",
    "\n",
    "    return train_files, test_files, train_imgs, test_imgs, answers_files"
   ]
  },
  {
   "cell_type": "code",
   "execution_count": 19,
   "metadata": {},
   "outputs": [],
   "source": [
    "def compute_one_shot_acc(test_pred, train_pred, train_files, answers_files):\n",
    "    n_test = len(test_pred)\n",
    "    n_train = len(train_pred)\n",
    "    \n",
    "    distM = np.zeros((n_test, n_train))\n",
    "    for i in range(n_test):\n",
    "        for c in range(n_train):\n",
    "            distM[i,c] = distance.euclidean(test_pred[i],train_pred[c])\n",
    "            \n",
    "    YHAT = np.argmin(distM, axis=1)\n",
    "    \n",
    "    # compute the error rate\n",
    "    correct = 0.0\n",
    "    for i in range(n_test):\n",
    "        if train_files[YHAT[i]] == answers_files[i]:\n",
    "            correct += 1.0\n",
    "        \n",
    "    return correct / n_test"
   ]
  },
  {
   "cell_type": "code",
   "execution_count": 20,
   "metadata": {},
   "outputs": [
    {
     "name": "stdout",
     "output_type": "stream",
     "text": [
      "INFO:tensorflow:Restoring parameters from ./models/model_1/ckpt\n"
     ]
    }
   ],
   "source": [
    "total_runs = 20\n",
    "train_pred_runs = [[] for _ in range(total_runs)]\n",
    "test_pred_runs = [[] for _ in range(total_runs)]\n",
    "\n",
    "run_data = [get_run(r+1) for r in range(total_runs)]\n",
    "\n",
    "num_models = 1\n",
    "graphs = [tf.Graph() for _ in range(num_models)]\n",
    "sessions = [tf.Session(graph=g) for g in graphs]\n",
    "\n",
    "for i in range(len(graphs)):\n",
    "    with graphs[i].as_default():\n",
    "        restore_sess(sessions[i], './models/model_' + str(i + 1))\n",
    "        \n",
    "        for r in range(total_runs):\n",
    "            train_files,test_files,train_imgs,test_imgs,answers_files = run_data[r]\n",
    "            \n",
    "            feed_dict = {'x:0':train_imgs, 'batch_size:0':len(train_imgs)}\n",
    "            sessions[i].run('test_init_op', feed_dict=feed_dict)\n",
    "            train_pred_runs[r].append(sessions[i].run('model_%d'%(i+1)+'/'+'pred:0'))\n",
    "    \n",
    "            feed_dict = {'x:0':test_imgs, 'batch_size:0':len(test_imgs)}\n",
    "            sessions[i].run('test_init_op', feed_dict=feed_dict)\n",
    "            test_pred_runs[r].append(sessions[i].run('model_%d'%(i+1)+'/'+'pred:0'))"
   ]
  },
  {
   "cell_type": "code",
   "execution_count": 21,
   "metadata": {},
   "outputs": [],
   "source": [
    "acc_runs = []\n",
    "for r in range(total_runs):\n",
    "    test_embed = np.mean(test_pred_runs[r], axis=0)\n",
    "    train_embed = np.mean(train_pred_runs[r], axis=0)\n",
    "    train_files = run_data[r][0]\n",
    "    answers_files = run_data[r][-1]\n",
    "    \n",
    "    acc = compute_one_shot_acc(test_embed, train_embed,train_files, answers_files)\n",
    "    acc_runs.append(acc)"
   ]
  },
  {
   "cell_type": "code",
   "execution_count": 57,
   "metadata": {},
   "outputs": [
    {
     "name": "stdout",
     "output_type": "stream",
     "text": [
      "[0.75, 0.5, 0.7, 0.75, 0.65, 0.75, 0.55, 0.45, 0.5, 0.45, 0.6, 0.45, 0.5, 0.6, 0.75, 0.8, 0.7, 0.45, 0.35, 0.65]\n",
      "0.595\n"
     ]
    }
   ],
   "source": [
    "print(acc_runs)\n",
    "print(np.mean(acc_runs))"
   ]
  },
  {
   "cell_type": "code",
   "execution_count": null,
   "metadata": {},
   "outputs": [],
   "source": []
  }
 ],
 "metadata": {
  "kernelspec": {
   "display_name": "Python 3",
   "language": "python",
   "name": "python3"
  },
  "language_info": {
   "codemirror_mode": {
    "name": "ipython",
    "version": 3
   },
   "file_extension": ".py",
   "mimetype": "text/x-python",
   "name": "python",
   "nbconvert_exporter": "python",
   "pygments_lexer": "ipython3",
   "version": "3.6.8"
  }
 },
 "nbformat": 4,
 "nbformat_minor": 2
}
