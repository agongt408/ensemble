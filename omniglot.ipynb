{
 "cells": [
  {
   "cell_type": "markdown",
   "metadata": {},
   "source": [
    "# Omnigot One-Shot with Virtual Branching"
   ]
  },
  {
   "cell_type": "code",
   "execution_count": 1,
   "metadata": {},
   "outputs": [],
   "source": [
    "import tensorflow as tf\n",
    "import numpy as np\n",
    "import os\n",
    "import matplotlib.pyplot as plt\n",
    "import copy\n",
    "import cv2\n",
    "from scipy.spatial import distance"
   ]
  },
  {
   "cell_type": "code",
   "execution_count": 2,
   "metadata": {},
   "outputs": [
    {
     "name": "stderr",
     "output_type": "stream",
     "text": [
      "Using TensorFlow backend.\n"
     ]
    }
   ],
   "source": [
    "from vbranch.applications.resnet import ResNet18\n",
    "from vbranch.applications.cnn import SimpleCNNLarge\n",
    "from vbranch.datasets import omniglot\n",
    "\n",
    "from vbranch.utils.training import wrap_iterator, get_data_iterator_from_generator, lr_exp_decay_scheduler\n",
    "from vbranch.utils import TFSessionGrow, restore_sess\n",
    "from vbranch.callbacks import one_shot_acc\n",
    "from vbranch.losses import triplet_omniglot"
   ]
  },
  {
   "cell_type": "code",
   "execution_count": 3,
   "metadata": {},
   "outputs": [],
   "source": [
    "SAVE = False\n",
    "MODEL_ID = 1\n",
    "ARCHITECTURE = 'simple'\n",
    "DATASET = 'omniglot'\n",
    "NUM_BRANCHES = 1\n",
    "SHARED_FRAC = 0.\n",
    "\n",
    "EPOCHS = 45\n",
    "STEPS_PER_EPOCH = 100\n",
    "T_0 = 30\n",
    "OUTPUT_DIM = 128"
   ]
  },
  {
   "cell_type": "markdown",
   "metadata": {},
   "source": [
    "## Load Data"
   ]
  },
  {
   "cell_type": "code",
   "execution_count": 4,
   "metadata": {},
   "outputs": [],
   "source": [
    "if DATASET == 'omniglot':\n",
    "    A, P, K = 4, 8, 4\n",
    "    train_generator = omniglot.load_generator('train')\n",
    "    test_generator = omniglot.load_generator('test')"
   ]
  },
  {
   "cell_type": "code",
   "execution_count": 5,
   "metadata": {},
   "outputs": [],
   "source": [
    "batch = train_generator.next(4, 4, 4, flatten=False, preprocess=False)"
   ]
  },
  {
   "cell_type": "code",
   "execution_count": 6,
   "metadata": {},
   "outputs": [
    {
     "data": {
      "image/png": "[encoded data removed]",
      "text/plain": [
       "<Figure size 432x288 with 1 Axes>"
      ]
     },
     "metadata": {
      "needs_background": "light"
     },
     "output_type": "display_data"
    }
   ],
   "source": [
    "plt.imshow(batch[0, 3, 0].squeeze(), cmap=plt.cm.gray)\n",
    "plt.show()"
   ]
  },
  {
   "cell_type": "markdown",
   "metadata": {},
   "source": [
    "## Build Model"
   ]
  },
  {
   "cell_type": "code",
   "execution_count": 7,
   "metadata": {},
   "outputs": [
    {
     "name": "stdout",
     "output_type": "stream",
     "text": [
      "models/omniglot-simple_1\n"
     ]
    }
   ],
   "source": [
    "if not os.path.isdir('models'):\n",
    "    os.system('mkdir models')\n",
    "\n",
    "if NUM_BRANCHES == 1:\n",
    "    model_name = '{}-{}_{:d}'.format(DATASET, ARCHITECTURE, MODEL_ID)\n",
    "else:\n",
    "    model_name = 'vb-{}-{}-B{:d}-S{:.2f}_{:d}'.format(DATASET, ARCHITECTURE,\n",
    "                                        NUM_BRANCHES, SHARED_FRAC, MODEL_ID)\n",
    "model_path = os.path.join('models', model_name)\n",
    "print(model_path)"
   ]
  },
  {
   "cell_type": "code",
   "execution_count": 8,
   "metadata": {},
   "outputs": [
    {
     "name": "stdout",
     "output_type": "stream",
     "text": [
      "(None, 105, 105, 1)\n",
      "WARNING:tensorflow:From /home/gong/anaconda3/lib/python3.6/site-packages/tensorflow/python/data/ops/dataset_ops.py:429: py_func (from tensorflow.python.ops.script_ops) is deprecated and will be removed in a future version.\n",
      "Instructions for updating:\n",
      "tf.py_func is deprecated in TF V2. Instead, use\n",
      "    tf.py_function, which takes a python function which manipulates tf eager\n",
      "    tensors instead of numpy arrays. It's easy to convert a tf eager tensor to\n",
      "    an ndarray (just call tensor.numpy()) but having access to eager tensors\n",
      "    means `tf.py_function`s can use accelerators such as GPUs as well as\n",
      "    being differentiable using a gradient tape.\n",
      "    \n",
      "WARNING:tensorflow:From /home/gong/anaconda3/lib/python3.6/site-packages/tensorflow/python/data/ops/iterator_ops.py:358: colocate_with (from tensorflow.python.framework.ops) is deprecated and will be removed in a future version.\n",
      "Instructions for updating:\n",
      "Colocations handled automatically by placer.\n"
     ]
    }
   ],
   "source": [
    "input_dim = (None,) + batch.shape[-3:]\n",
    "print(input_dim)\n",
    "\n",
    "tf.reset_default_graph()\n",
    "\n",
    "inputs, train_init_op, test_init_op = get_data_iterator_from_generator(train_generator, input_dim, \n",
    "                                                                       A, P,K, n=NUM_BRANCHES)"
   ]
  },
  {
   "cell_type": "code",
   "execution_count": 9,
   "metadata": {},
   "outputs": [
    {
     "data": {
      "text/plain": [
       "<tf.Tensor 'input:0' shape=(?, 105, 105, 1) dtype=float32>"
      ]
     },
     "execution_count": 9,
     "metadata": {},
     "output_type": "execute_result"
    }
   ],
   "source": [
    "inputs"
   ]
  },
  {
   "cell_type": "code",
   "execution_count": 10,
   "metadata": {
    "scrolled": false
   },
   "outputs": [
    {
     "name": "stdout",
     "output_type": "stream",
     "text": [
      "WARNING:tensorflow:From /home/gong/anaconda3/lib/python3.6/site-packages/tensorflow/python/ops/math_ops.py:3066: to_int32 (from tensorflow.python.ops.math_ops) is deprecated and will be removed in a future version.\n",
      "Instructions for updating:\n",
      "Use tf.cast instead.\n",
      "WARNING:tensorflow:From /home/gong/anaconda3/lib/python3.6/site-packages/tensorflow/python/ops/math_grad.py:102: div (from tensorflow.python.ops.math_ops) is deprecated and will be removed in a future version.\n",
      "Instructions for updating:\n",
      "Deprecated in favor of operator or tf.math.divide.\n",
      "i   Layer name                      Output shape       Parameters           Num param  Inbound            \n",
      "----------------------------------------------------------------------------------------------------------\n",
      "    Input                           [None,105,105,1]                                                      \n",
      "----------------------------------------------------------------------------------------------------------\n",
      "0   conv2d_1_1 (Conv2D)             [None,103,103,32]  [3,3,1,32] [32]      320        input:0            \n",
      "----------------------------------------------------------------------------------------------------------\n",
      "1   bn_1_1 (BatchNormalization)     [None,103,103,32]  [32] [32]            64         conv2d_1_1         \n",
      "----------------------------------------------------------------------------------------------------------\n",
      "2   relu_1_1 (Activation)           [None,103,103,32]                       0          bn_1_1             \n",
      "----------------------------------------------------------------------------------------------------------\n",
      "3   conv2d_1_2 (Conv2D)             [None,101,101,32]  [3,3,32,32] [32]     9248       relu_1_1           \n",
      "----------------------------------------------------------------------------------------------------------\n",
      "4   bn_1_2 (BatchNormalization)     [None,101,101,32]  [32] [32]            64         conv2d_1_2         \n",
      "----------------------------------------------------------------------------------------------------------\n",
      "5   relu_1_2 (Activation)           [None,101,101,32]                       0          bn_1_2             \n",
      "----------------------------------------------------------------------------------------------------------\n",
      "6   avg_pool2d_1 (AveragePooling2D  [None,50,50,32]                         0          relu_1_2           \n",
      "----------------------------------------------------------------------------------------------------------\n",
      "7   conv2d_2_1 (Conv2D)             [None,48,48,64]    [3,3,32,64] [64]     18496      avg_pool2d_1       \n",
      "----------------------------------------------------------------------------------------------------------\n",
      "8   bn_2_1 (BatchNormalization)     [None,48,48,64]    [64] [64]            128        conv2d_2_1         \n",
      "----------------------------------------------------------------------------------------------------------\n",
      "9   relu_2_1 (Activation)           [None,48,48,64]                         0          bn_2_1             \n",
      "----------------------------------------------------------------------------------------------------------\n",
      "10  conv2d_2_2 (Conv2D)             [None,46,46,64]    [3,3,64,64] [64]     36928      relu_2_1           \n",
      "----------------------------------------------------------------------------------------------------------\n",
      "11  bn_2_2 (BatchNormalization)     [None,46,46,64]    [64] [64]            128        conv2d_2_2         \n",
      "----------------------------------------------------------------------------------------------------------\n",
      "12  relu_2_2 (Activation)           [None,46,46,64]                         0          bn_2_2             \n",
      "----------------------------------------------------------------------------------------------------------\n",
      "13  avg_pool2d_2 (AveragePooling2D  [None,23,23,64]                         0          relu_2_2           \n",
      "----------------------------------------------------------------------------------------------------------\n",
      "14  conv2d_3_1 (Conv2D)             [None,21,21,128]   [3,3,64,128] [128]   73856      avg_pool2d_2       \n",
      "----------------------------------------------------------------------------------------------------------\n",
      "15  bn_3_1 (BatchNormalization)     [None,21,21,128]   [128] [128]          256        conv2d_3_1         \n",
      "----------------------------------------------------------------------------------------------------------\n",
      "16  relu_3_1 (Activation)           [None,21,21,128]                        0          bn_3_1             \n",
      "----------------------------------------------------------------------------------------------------------\n",
      "17  conv2d_3_2 (Conv2D)             [None,19,19,128]   [3,3,128,128] [128]  147584     relu_3_1           \n",
      "----------------------------------------------------------------------------------------------------------\n",
      "18  bn_3_2 (BatchNormalization)     [None,19,19,128]   [128] [128]          256        conv2d_3_2         \n",
      "----------------------------------------------------------------------------------------------------------\n",
      "19  relu_3_2 (Activation)           [None,19,19,128]                        0          bn_3_2             \n",
      "----------------------------------------------------------------------------------------------------------\n",
      "20  avg_pool2d_3 (AveragePooling2D  [None,9,9,128]                          0          relu_3_2           \n",
      "----------------------------------------------------------------------------------------------------------\n",
      "21  conv2d_4_1 (Conv2D)             [None,7,7,256]     [3,3,128,256] [256]  295168     avg_pool2d_3       \n",
      "----------------------------------------------------------------------------------------------------------\n",
      "22  bn_4_1 (BatchNormalization)     [None,7,7,256]     [256] [256]          512        conv2d_4_1         \n",
      "----------------------------------------------------------------------------------------------------------\n",
      "23  relu_4_1 (Activation)           [None,7,7,256]                          0          bn_4_1             \n",
      "----------------------------------------------------------------------------------------------------------\n",
      "24  conv2d_4_2 (Conv2D)             [None,5,5,256]     [3,3,256,256] [256]  590080     relu_4_1           \n",
      "----------------------------------------------------------------------------------------------------------\n",
      "25  bn_4_2 (BatchNormalization)     [None,5,5,256]     [256] [256]          512        conv2d_4_2         \n",
      "----------------------------------------------------------------------------------------------------------\n",
      "26  relu_4_2 (Activation)           [None,5,5,256]                          0          bn_4_2             \n",
      "----------------------------------------------------------------------------------------------------------\n",
      "27  global_avg_pool2d (GlobalAvera  [None,256]                              0          relu_4_2           \n",
      "----------------------------------------------------------------------------------------------------------\n",
      "28  fc1 (Dense)                     [None,256]         [256,256] [256]      65792      global_avg_pool2d  \n",
      "----------------------------------------------------------------------------------------------------------\n",
      "29  bn_fc1 (BatchNormalization)     [None,256]         [256] [256]          512        fc1                \n",
      "----------------------------------------------------------------------------------------------------------\n",
      "30  relu_fc1 (Activation)           [None,256]                              0          bn_fc1             \n",
      "----------------------------------------------------------------------------------------------------------\n",
      "31  output (Dense)                  [None,128]         [256,128] [128]      32896      relu_fc1           \n",
      "----------------------------------------------------------------------------------------------------------\n",
      "Total parameters: 1272800\n"
     ]
    }
   ],
   "source": [
    "lr = tf.placeholder('float32', name='lr')\n",
    "lr_scheduler = lr_exp_decay_scheduler(0.001, T_0, EPOCHS, 0.001)\n",
    "\n",
    "name = 'model'\n",
    "\n",
    "with tf.variable_scope(name, reuse=tf.AUTO_REUSE):\n",
    "    if ARCHITECTURE == 'simple':\n",
    "        model = SimpleCNNLarge(inputs, OUTPUT_DIM, name=name, shared_frac=SHARED_FRAC)\n",
    "    elif ARCHITECTURE == 'res':\n",
    "        model = ResNet18(inputs, OUTPUT_DIM, name=name, shared_frac=SHARED_FRAC)\n",
    "        \n",
    "    optimizer = tf.train.AdamOptimizer(learning_rate=lr)\n",
    "\n",
    "    # Compile model\n",
    "    model.compile(optimizer, triplet_omniglot(A, P, K), train_init_op, test_init_op, \n",
    "                  callbacks={'acc': one_shot_acc(NUM_BRANCHES)}, \n",
    "                  schedulers={'lr:0': lr_scheduler})\n",
    "\n",
    "model.summary()"
   ]
  },
  {
   "cell_type": "code",
   "execution_count": 11,
   "metadata": {},
   "outputs": [
    {
     "name": "stdout",
     "output_type": "stream",
     "text": [
      "Tensor(\"model/output/output:0\", shape=(?, 128), dtype=float32)\n"
     ]
    }
   ],
   "source": [
    "print(model.output)"
   ]
  },
  {
   "cell_type": "code",
   "execution_count": 12,
   "metadata": {},
   "outputs": [
    {
     "data": {
      "image/png": "[encoded data removed]",
      "text/plain": [
       "<Figure size 432x288 with 1 Axes>"
      ]
     },
     "metadata": {
      "needs_background": "light"
     },
     "output_type": "display_data"
    }
   ],
   "source": [
    "lr_steps = [lr_scheduler(e + 1) for e in range(EPOCHS)]\n",
    "plt.plot(lr_steps)\n",
    "plt.show()"
   ]
  },
  {
   "cell_type": "code",
   "execution_count": 13,
   "metadata": {
    "scrolled": false
   },
   "outputs": [
    {
     "name": "stdout",
     "output_type": "stream",
     "text": [
      "Epoch 1/45\n",
      " - 35s - lr:0: 0.0010 - loss: 845.9788 - acc: 0.6175\n",
      "Epoch 2/45\n",
      " - 20s - lr:0: 0.0010 - loss: 206.7416 - acc: 0.6900\n",
      "Epoch 3/45\n",
      " - 20s - lr:0: 0.0010 - loss: 152.0185 - acc: 0.7200\n",
      "Epoch 4/45\n",
      " - 20s - lr:0: 0.0010 - loss: 129.4061 - acc: 0.7375\n",
      "Epoch 5/45\n",
      " - 20s - lr:0: 0.0010 - loss: 121.4280 - acc: 0.7300\n",
      "Epoch 6/45\n",
      " - 20s - lr:0: 0.0010 - loss: 109.3044 - acc: 0.7500\n",
      "Epoch 7/45\n",
      " - 20s - lr:0: 0.0010 - loss: 101.3462 - acc: 0.7625\n",
      "Epoch 8/45\n",
      " - 20s - lr:0: 0.0010 - loss: 93.4010 - acc: 0.7650\n",
      "Epoch 9/45\n",
      " - 20s - lr:0: 0.0010 - loss: 85.1010 - acc: 0.7850\n",
      "Epoch 10/45\n",
      " - 20s - lr:0: 0.0010 - loss: 87.2075 - acc: 0.8225\n",
      "Epoch 11/45\n",
      " - 20s - lr:0: 0.0010 - loss: 75.4361 - acc: 0.8275\n",
      "Epoch 12/45\n",
      " - 20s - lr:0: 0.0010 - loss: 78.6876 - acc: 0.8450\n",
      "Epoch 13/45\n",
      " - 20s - lr:0: 0.0010 - loss: 76.9189 - acc: 0.8650\n",
      "Epoch 14/45\n",
      " - 20s - lr:0: 0.0010 - loss: 70.1208 - acc: 0.8650\n",
      "Epoch 15/45\n",
      " - 20s - lr:0: 0.0010 - loss: 69.0045 - acc: 0.8400\n",
      "Epoch 16/45\n",
      " - 20s - lr:0: 0.0010 - loss: 77.6721 - acc: 0.8375\n",
      "Epoch 17/45\n",
      " - 20s - lr:0: 0.0010 - loss: 65.3740 - acc: 0.8525\n",
      "Epoch 18/45\n",
      " - 20s - lr:0: 0.0010 - loss: 67.4114 - acc: 0.8725\n",
      "Epoch 19/45\n",
      " - 20s - lr:0: 0.0010 - loss: 63.3445 - acc: 0.8650\n",
      "Epoch 20/45\n",
      " - 20s - lr:0: 0.0010 - loss: 62.1756 - acc: 0.8525\n",
      "Epoch 21/45\n",
      " - 20s - lr:0: 0.0010 - loss: 65.8069 - acc: 0.8775\n",
      "Epoch 22/45\n",
      " - 20s - lr:0: 0.0010 - loss: 60.2824 - acc: 0.8800\n",
      "Epoch 23/45\n",
      " - 20s - lr:0: 0.0010 - loss: 52.9974 - acc: 0.9025\n",
      "Epoch 24/45\n",
      " - 20s - lr:0: 0.0010 - loss: 49.8637 - acc: 0.9000\n",
      "Epoch 25/45\n",
      " - 20s - lr:0: 0.0010 - loss: 47.3489 - acc: 0.8700\n",
      "Epoch 26/45\n",
      " - 20s - lr:0: 0.0010 - loss: 52.8664 - acc: 0.8850\n",
      "Epoch 27/45\n",
      " - 20s - lr:0: 0.0010 - loss: 52.6365 - acc: 0.8750\n",
      "Epoch 28/45\n",
      " - 20s - lr:0: 0.0010 - loss: 51.9096 - acc: 0.8825\n",
      "Epoch 29/45\n",
      " - 20s - lr:0: 0.0010 - loss: 45.4499 - acc: 0.9000\n",
      "Epoch 30/45\n",
      " - 20s - lr:0: 0.0010 - loss: 53.7767 - acc: 0.8825\n",
      "Epoch 31/45\n",
      " - 20s - lr:0: 6.3096e-04 - loss: 39.3223 - acc: 0.9150\n",
      "Epoch 32/45\n",
      " - 20s - lr:0: 3.9811e-04 - loss: 28.4144 - acc: 0.9000\n",
      "Epoch 33/45\n",
      " - 20s - lr:0: 2.5119e-04 - loss: 21.3337 - acc: 0.9150\n",
      "Epoch 34/45\n",
      " - 20s - lr:0: 1.5849e-04 - loss: 15.4301 - acc: 0.9175\n",
      "Epoch 35/45\n",
      " - 20s - lr:0: 1.0000e-04 - loss: 15.9147 - acc: 0.9225\n",
      "Epoch 36/45\n",
      " - 20s - lr:0: 6.3096e-05 - loss: 14.9255 - acc: 0.9200\n",
      "Epoch 37/45\n",
      " - 20s - lr:0: 3.9811e-05 - loss: 11.7733 - acc: 0.9200\n",
      "Epoch 38/45\n",
      " - 20s - lr:0: 2.5119e-05 - loss: 11.7632 - acc: 0.9175\n",
      "Epoch 39/45\n",
      " - 20s - lr:0: 1.5849e-05 - loss: 12.4941 - acc: 0.9150\n",
      "Epoch 40/45\n",
      " - 20s - lr:0: 1.0000e-05 - loss: 12.4698 - acc: 0.9175\n",
      "Epoch 41/45\n",
      " - 20s - lr:0: 6.3096e-06 - loss: 11.8722 - acc: 0.9175\n",
      "Epoch 42/45\n",
      " - 20s - lr:0: 3.9811e-06 - loss: 13.5040 - acc: 0.9125\n",
      "Epoch 43/45\n",
      " - 20s - lr:0: 2.5119e-06 - loss: 14.5452 - acc: 0.9125\n",
      "Epoch 44/45\n",
      " - 20s - lr:0: 1.5849e-06 - loss: 12.1405 - acc: 0.9125\n",
      "Epoch 45/45\n",
      " - 20s - lr:0: 1.0000e-06 - loss: 14.0480 - acc: 0.9100\n"
     ]
    }
   ],
   "source": [
    "history = model.fit(EPOCHS, STEPS_PER_EPOCH, log_path=model_path if SAVE else None)"
   ]
  },
  {
   "cell_type": "markdown",
   "metadata": {},
   "source": [
    "## Evaluation"
   ]
  },
  {
   "cell_type": "markdown",
   "metadata": {},
   "source": [
    "### Baseline"
   ]
  },
  {
   "cell_type": "code",
   "execution_count": 15,
   "metadata": {},
   "outputs": [
    {
     "name": "stdout",
     "output_type": "stream",
     "text": [
      "WARNING:tensorflow:From /home/gong/anaconda3/lib/python3.5/site-packages/tensorflow/python/training/saver.py:1266: checkpoint_exists (from tensorflow.python.training.checkpoint_management) is deprecated and will be removed in a future version.\n",
      "Instructions for updating:\n",
      "Use standard file APIs to check for files with this prefix.\n",
      "INFO:tensorflow:Restoring parameters from models/omniglot-res_1/ckpt\n",
      "Model 1 acc: 0.8049999999999999\n",
      "Mean acc: 0.8049999999999999 , std: 0.0\n"
     ]
    }
   ],
   "source": [
    "assert NUM_BRANCHES == 1\n",
    "\n",
    "model_id_list = [1]\n",
    "baseline_acc_list = []\n",
    "\n",
    "for model_id in model_id_list:\n",
    "    tf.reset_default_graph()\n",
    "    model_name = '{}-{}_{:d}'.format(DATASET, ARCHITECTURE, MODEL_ID)\n",
    "    model_path = os.path.join('models', model_name)\n",
    "    \n",
    "    with TFSessionGrow() as sess:\n",
    "        restore_sess(sess, model_path)\n",
    "        acc = baseline_one_shot(sess, model_name='model_'+str(model_id))\n",
    "        print('Model {} acc:'.format(model_id), acc)\n",
    "        baseline_acc_list.append(acc)\n",
    "        \n",
    "print('Mean acc:', np.mean(baseline_acc_list), ', std:', np.std(baseline_acc_list))"
   ]
  },
  {
   "cell_type": "markdown",
   "metadata": {},
   "source": [
    "### Virtual Branching"
   ]
  },
  {
   "cell_type": "code",
   "execution_count": 8,
   "metadata": {},
   "outputs": [
    {
     "name": "stdout",
     "output_type": "stream",
     "text": [
      "WARNING:tensorflow:From /home/gong/anaconda3/lib/python3.5/site-packages/tensorflow/python/training/saver.py:1266: checkpoint_exists (from tensorflow.python.training.checkpoint_management) is deprecated and will be removed in a future version.\n",
      "Instructions for updating:\n",
      "Use standard file APIs to check for files with this prefix.\n",
      "INFO:tensorflow:Restoring parameters from models/vb-omniglot-res-B2-S0.25_1/ckpt\n",
      "Model 1 acc: 0.8375 [0.7849999999999999, 0.8125]\n",
      "Mean acc: 0.8375 , std: 0.0\n"
     ]
    }
   ],
   "source": [
    "model_id_list = [1]\n",
    "vbranch_acc_list = []\n",
    "\n",
    "for model_id in model_id_list:\n",
    "    tf.reset_default_graph()\n",
    "    \n",
    "    model_name = 'vb-{}-{}-B{:d}-S{:.2f}_{:d}'.format(dataset, architecture,\n",
    "                                            NUM_BRANCHES, SHARED_FRAC, model_id)\n",
    "    model_path = os.path.join('models', model_name)\n",
    "    \n",
    "    with TFSessionGrow() as sess:\n",
    "        restore_sess(sess, model_path)    \n",
    "        acc, branch_acc = vbranch_one_shot(sess, model_name='model_'+str(model_id), \n",
    "                                           n_branches=NUM_BRANCHES)\n",
    "        print('Model {} acc:'.format(model_id), acc, branch_acc)\n",
    "        vbranch_acc_list.append(acc)\n",
    "        \n",
    "print('Mean acc:', np.mean(vbranch_acc_list), ', std:', np.std(vbranch_acc_list))"
   ]
  },
  {
   "cell_type": "code",
   "execution_count": null,
   "metadata": {},
   "outputs": [],
   "source": []
  }
 ],
 "metadata": {
  "kernelspec": {
   "display_name": "Python 3",
   "language": "python",
   "name": "python3"
  },
  "language_info": {
   "codemirror_mode": {
    "name": "ipython",
    "version": 3
   },
   "file_extension": ".py",
   "mimetype": "text/x-python",
   "name": "python",
   "nbconvert_exporter": "python",
   "pygments_lexer": "ipython3",
   "version": "3.6.0"
  }
 },
 "nbformat": 4,
 "nbformat_minor": 2
}
