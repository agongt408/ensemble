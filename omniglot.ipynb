{
 "cells": [
  {
   "cell_type": "markdown",
   "metadata": {},
   "source": [
    "# Omnigot One-Shot with Virtual Branching"
   ]
  },
  {
   "cell_type": "code",
   "execution_count": 1,
   "metadata": {},
   "outputs": [],
   "source": [
    "import tensorflow as tf\n",
    "import numpy as np\n",
    "import os\n",
    "import matplotlib.pyplot as plt"
   ]
  },
  {
   "cell_type": "code",
   "execution_count": 2,
   "metadata": {},
   "outputs": [],
   "source": [
    "os.environ['CUDA_VISIBLE_DEVICES'] = '-1'"
   ]
  },
  {
   "cell_type": "code",
   "execution_count": 3,
   "metadata": {},
   "outputs": [
    {
     "name": "stderr",
     "output_type": "stream",
     "text": [
      "Using TensorFlow backend.\n"
     ]
    }
   ],
   "source": [
    "from vbranch.applications.resnet import ResNet18\n",
    "from vbranch.applications.cnn import SimpleCNNLarge\n",
    "from vbranch.datasets import omniglot\n",
    "\n",
    "from vbranch.utils import *\n",
    "from vbranch.callbacks import one_shot_acc\n",
    "from vbranch.losses import triplet_omniglot"
   ]
  },
  {
   "cell_type": "code",
   "execution_count": 4,
   "metadata": {},
   "outputs": [],
   "source": [
    "SAVE = False\n",
    "MODEL_ID = 1\n",
    "ARCHITECTURE = 'simple'\n",
    "DATASET = 'omniglot'\n",
    "NUM_BRANCHES = 4\n",
    "SHARED_FRAC = 0.0\n",
    "\n",
    "EPOCHS = 60\n",
    "STEPS_PER_EPOCH = 100\n",
    "T_0 = 40\n",
    "OUTPUT_DIM = 128"
   ]
  },
  {
   "cell_type": "markdown",
   "metadata": {},
   "source": [
    "## Load Data"
   ]
  },
  {
   "cell_type": "code",
   "execution_count": 5,
   "metadata": {},
   "outputs": [],
   "source": [
    "if DATASET == 'omniglot':\n",
    "    A, P, K = 2, 8, 4\n",
    "    train_generator = omniglot.load_generator('train', A, P, K)\n",
    "    test_generator = omniglot.load_generator('test', A, P, K)"
   ]
  },
  {
   "cell_type": "code",
   "execution_count": 6,
   "metadata": {},
   "outputs": [],
   "source": [
    "batch = train_generator.sample(4, 4, 4, flatten=False, preprocess=False)"
   ]
  },
  {
   "cell_type": "code",
   "execution_count": 7,
   "metadata": {},
   "outputs": [
    {
     "data": {
      "image/png": "[encoded data removed]",
      "text/plain": [
       "<Figure size 432x288 with 1 Axes>"
      ]
     },
     "metadata": {
      "needs_background": "light"
     },
     "output_type": "display_data"
    }
   ],
   "source": [
    "plt.imshow(batch[0, 3, 0].squeeze(), cmap=plt.cm.gray)\n",
    "plt.show()"
   ]
  },
  {
   "cell_type": "markdown",
   "metadata": {},
   "source": [
    "## Build Model"
   ]
  },
  {
   "cell_type": "code",
   "execution_count": 8,
   "metadata": {},
   "outputs": [
    {
     "name": "stdout",
     "output_type": "stream",
     "text": [
      "models/vb-omniglot-simple-B4-S0.00_1\n"
     ]
    }
   ],
   "source": [
    "if not os.path.isdir('models'):\n",
    "    os.system('mkdir models')\n",
    "\n",
    "if NUM_BRANCHES == 1:\n",
    "    model_name = '{}-{}_{:d}'.format(DATASET, ARCHITECTURE, MODEL_ID)\n",
    "else:\n",
    "    model_name = 'vb-{}-{}-B{:d}-S{:.2f}_{:d}'.format(DATASET, ARCHITECTURE,\n",
    "                                        NUM_BRANCHES, SHARED_FRAC, MODEL_ID)\n",
    "model_path = os.path.join('models', model_name)\n",
    "print(model_path)"
   ]
  },
  {
   "cell_type": "code",
   "execution_count": 9,
   "metadata": {},
   "outputs": [
    {
     "name": "stderr",
     "output_type": "stream",
     "text": [
      "WARNING: Logging before flag parsing goes to stderr.\n",
      "W0805 12:42:19.609991 140493924488960 deprecation_wrapper.py:119] From /home/gong/research/vbranch/vbranch/utils/training.py:191: The name tf.placeholder is deprecated. Please use tf.compat.v1.placeholder instead.\n",
      "\n"
     ]
    },
    {
     "name": "stdout",
     "output_type": "stream",
     "text": [
      "(None, 105, 105, 1)\n"
     ]
    },
    {
     "name": "stderr",
     "output_type": "stream",
     "text": [
      "W0805 12:42:19.642715 140493924488960 deprecation.py:323] From /home/gong/anaconda3/lib/python3.6/site-packages/tensorflow/python/data/ops/dataset_ops.py:494: py_func (from tensorflow.python.ops.script_ops) is deprecated and will be removed in a future version.\n",
      "Instructions for updating:\n",
      "tf.py_func is deprecated in TF V2. Instead, there are two\n",
      "    options available in V2.\n",
      "    - tf.py_function takes a python function which manipulates tf eager\n",
      "    tensors instead of numpy arrays. It's easy to convert a tf eager tensor to\n",
      "    an ndarray (just call tensor.numpy()) but having access to eager tensors\n",
      "    means `tf.py_function`s can use accelerators such as GPUs as well as\n",
      "    being differentiable using a gradient tape.\n",
      "    - tf.numpy_function maintains the semantics of the deprecated tf.py_func\n",
      "    (it is not differentiable, and manipulates numpy arrays). It drops the\n",
      "    stateful argument making all functions stateful.\n",
      "    \n",
      "W0805 12:42:19.663601 140493924488960 deprecation_wrapper.py:119] From /home/gong/research/vbranch/vbranch/utils/training.py:202: The name tf.data.Iterator is deprecated. Please use tf.compat.v1.data.Iterator instead.\n",
      "\n",
      "W0805 12:42:19.667591 140493924488960 deprecation.py:323] From /home/gong/anaconda3/lib/python3.6/site-packages/tensorflow/python/data/ops/iterator_ops.py:348: Iterator.output_types (from tensorflow.python.data.ops.iterator_ops) is deprecated and will be removed in a future version.\n",
      "Instructions for updating:\n",
      "Use `tf.compat.v1.data.get_output_types(iterator)`.\n",
      "W0805 12:42:19.669605 140493924488960 deprecation.py:323] From /home/gong/anaconda3/lib/python3.6/site-packages/tensorflow/python/data/ops/iterator_ops.py:349: Iterator.output_shapes (from tensorflow.python.data.ops.iterator_ops) is deprecated and will be removed in a future version.\n",
      "Instructions for updating:\n",
      "Use `tf.compat.v1.data.get_output_shapes(iterator)`.\n",
      "W0805 12:42:19.671196 140493924488960 deprecation.py:323] From /home/gong/anaconda3/lib/python3.6/site-packages/tensorflow/python/data/ops/iterator_ops.py:351: Iterator.output_classes (from tensorflow.python.data.ops.iterator_ops) is deprecated and will be removed in a future version.\n",
      "Instructions for updating:\n",
      "Use `tf.compat.v1.data.get_output_classes(iterator)`.\n"
     ]
    }
   ],
   "source": [
    "input_dim = (None,) + batch.shape[-3:]\n",
    "print(input_dim)\n",
    "\n",
    "tf.reset_default_graph()\n",
    "\n",
    "inputs, train_init_op, test_init_op = get_data_iterator_from_generator(train_generator, input_dim, \n",
    "                                                                       n=NUM_BRANCHES)"
   ]
  },
  {
   "cell_type": "code",
   "execution_count": 10,
   "metadata": {},
   "outputs": [
    {
     "data": {
      "text/plain": [
       "[<tf.Tensor 'input_1:0' shape=(?, 105, 105, 1) dtype=float32>,\n",
       " <tf.Tensor 'input_2:0' shape=(?, 105, 105, 1) dtype=float32>,\n",
       " <tf.Tensor 'input_3:0' shape=(?, 105, 105, 1) dtype=float32>,\n",
       " <tf.Tensor 'input_4:0' shape=(?, 105, 105, 1) dtype=float32>]"
      ]
     },
     "execution_count": 10,
     "metadata": {},
     "output_type": "execute_result"
    }
   ],
   "source": [
    "inputs"
   ]
  },
  {
   "cell_type": "code",
   "execution_count": 11,
   "metadata": {
    "scrolled": false
   },
   "outputs": [
    {
     "name": "stderr",
     "output_type": "stream",
     "text": [
      "W0805 12:42:21.081523 140493924488960 deprecation_wrapper.py:119] From /home/gong/research/vbranch/vbranch/vb_layers/core.py:63: The name tf.get_variable_scope is deprecated. Please use tf.compat.v1.get_variable_scope instead.\n",
      "\n",
      "W0805 12:42:21.082407 140493924488960 deprecation_wrapper.py:119] From /home/gong/research/vbranch/vbranch/vb_layers/core.py:92: The name tf.variable_scope is deprecated. Please use tf.compat.v1.variable_scope instead.\n",
      "\n",
      "W0805 12:42:21.090309 140493924488960 deprecation_wrapper.py:119] From /home/gong/research/vbranch/vbranch/layers/convolutional.py:36: The name tf.get_variable is deprecated. Please use tf.compat.v1.get_variable instead.\n",
      "\n",
      "W0805 12:42:21.091236 140493924488960 deprecation.py:506] From /home/gong/anaconda3/lib/python3.6/site-packages/tensorflow/python/ops/init_ops.py:1251: calling VarianceScaling.__init__ (from tensorflow.python.ops.init_ops) with dtype is deprecated and will be removed in a future version.\n",
      "Instructions for updating:\n",
      "Call initializer instance with the dtype argument instead of passing it to the constructor\n",
      "W0805 12:42:21.193280 140493924488960 deprecation_wrapper.py:119] From /home/gong/research/vbranch/vbranch/slim.py:172: The name tf.get_collection is deprecated. Please use tf.compat.v1.get_collection instead.\n",
      "\n",
      "W0805 12:42:21.203568 140493924488960 deprecation_wrapper.py:119] From /home/gong/research/vbranch/vbranch/layers/pooling.py:56: The name tf.nn.max_pool is deprecated. Please use tf.nn.max_pool2d instead.\n",
      "\n",
      "W0805 12:42:21.487859 140493924488960 deprecation_wrapper.py:119] From /home/gong/research/vbranch/vbranch/layers/pooling.py:22: The name tf.nn.avg_pool is deprecated. Please use tf.nn.avg_pool2d instead.\n",
      "\n",
      "W0805 12:42:22.156463 140493924488960 deprecation_wrapper.py:119] From /home/gong/research/vbranch/vbranch/layers/core.py:83: The name tf.nn.xw_plus_b is deprecated. Please use tf.compat.v1.nn.xw_plus_b instead.\n",
      "\n",
      "W0805 12:42:27.757108 140493924488960 deprecation.py:323] From /home/gong/anaconda3/lib/python3.6/site-packages/tensorflow/python/ops/math_grad.py:1250: add_dispatch_support.<locals>.wrapper (from tensorflow.python.ops.array_ops) is deprecated and will be removed in a future version.\n",
      "Instructions for updating:\n",
      "Use tf.where in 2.0, which has the same broadcast rule as np.where\n"
     ]
    },
    {
     "name": "stdout",
     "output_type": "stream",
     "text": [
      "i   Layer name                      Output shape        Num param  Inbound            \n",
      "--------------------------------------------------------------------------------------\n",
      "    Input                           [None,105,105,1]                                  \n",
      "--------------------------------------------------------------------------------------\n",
      "    Input                           [None,105,105,1]                                  \n",
      "--------------------------------------------------------------------------------------\n",
      "    Input                           [None,105,105,1]                                  \n",
      "--------------------------------------------------------------------------------------\n",
      "    Input                           [None,105,105,1]                                  \n",
      "--------------------------------------------------------------------------------------\n",
      "0   conv1_pad (ZeroPadding2D)       [None,111,111,1]    0          input              \n",
      "                                    [None,111,111,1]                                  \n",
      "                                    [None,111,111,1]                                  \n",
      "                                    [None,111,111,1]                                  \n",
      "--------------------------------------------------------------------------------------\n",
      "1   conv1 (Conv2D)                  [] [None,53,53,32]  6400       conv1_pad          \n",
      "                                    [] [None,53,53,32]                                \n",
      "                                    [] [None,53,53,32]                                \n",
      "                                    [] [None,53,53,32]                                \n",
      "--------------------------------------------------------------------------------------\n",
      "2   bn_conv1 (BatchNormalization)   [] [None,53,53,32]  256        conv1              \n",
      "                                    [] [None,53,53,32]                                \n",
      "                                    [] [None,53,53,32]                                \n",
      "                                    [] [None,53,53,32]                                \n",
      "--------------------------------------------------------------------------------------\n",
      "3   relu (Activation)               [] [None,53,53,32]  0          bn_conv1           \n",
      "                                    [] [None,53,53,32]                                \n",
      "                                    [] [None,53,53,32]                                \n",
      "                                    [] [None,53,53,32]                                \n",
      "--------------------------------------------------------------------------------------\n",
      "4   pool1_pad (ZeroPadding2D)       [] [None,55,55,32]  0          relu               \n",
      "                                    [] [None,55,55,32]                                \n",
      "                                    [] [None,55,55,32]                                \n",
      "                                    [] [None,55,55,32]                                \n",
      "--------------------------------------------------------------------------------------\n",
      "5   max_pool2d (MaxPooling2D)       [] [None,27,27,32]  0          pool1_pad          \n",
      "                                    [] [None,27,27,32]                                \n",
      "                                    [] [None,27,27,32]                                \n",
      "                                    [] [None,27,27,32]                                \n",
      "--------------------------------------------------------------------------------------\n",
      "6   conv2d_1_1 (Conv2D)             [] [None,27,27,32]  36992      max_pool2d         \n",
      "                                    [] [None,27,27,32]                                \n",
      "                                    [] [None,27,27,32]                                \n",
      "                                    [] [None,27,27,32]                                \n",
      "--------------------------------------------------------------------------------------\n",
      "7   bn_1_1 (BatchNormalization)     [] [None,27,27,32]  256        conv2d_1_1         \n",
      "                                    [] [None,27,27,32]                                \n",
      "                                    [] [None,27,27,32]                                \n",
      "                                    [] [None,27,27,32]                                \n",
      "--------------------------------------------------------------------------------------\n",
      "8   relu_1_1 (Activation)           [] [None,27,27,32]  0          bn_1_1             \n",
      "                                    [] [None,27,27,32]                                \n",
      "                                    [] [None,27,27,32]                                \n",
      "                                    [] [None,27,27,32]                                \n",
      "--------------------------------------------------------------------------------------\n",
      "9   conv2d_1_2 (Conv2D)             [] [None,27,27,32]  36992      relu_1_1           \n",
      "                                    [] [None,27,27,32]                                \n",
      "                                    [] [None,27,27,32]                                \n",
      "                                    [] [None,27,27,32]                                \n",
      "--------------------------------------------------------------------------------------\n",
      "10  bn_1_2 (BatchNormalization)     [] [None,27,27,32]  256        conv2d_1_2         \n",
      "                                    [] [None,27,27,32]                                \n",
      "                                    [] [None,27,27,32]                                \n",
      "                                    [] [None,27,27,32]                                \n",
      "--------------------------------------------------------------------------------------\n",
      "11  relu_1_2 (Activation)           [] [None,27,27,32]  0          bn_1_2             \n",
      "                                    [] [None,27,27,32]                                \n",
      "                                    [] [None,27,27,32]                                \n",
      "                                    [] [None,27,27,32]                                \n",
      "--------------------------------------------------------------------------------------\n",
      "12  avg_pool2d_1 (AveragePooling2D  [] [None,13,13,32]  0          relu_1_2           \n",
      "                                    [] [None,13,13,32]                                \n",
      "                                    [] [None,13,13,32]                                \n",
      "                                    [] [None,13,13,32]                                \n",
      "--------------------------------------------------------------------------------------\n",
      "13  conv2d_2_1 (Conv2D)             [] [None,13,13,64]  73984      avg_pool2d_1       \n",
      "                                    [] [None,13,13,64]                                \n",
      "                                    [] [None,13,13,64]                                \n",
      "                                    [] [None,13,13,64]                                \n",
      "--------------------------------------------------------------------------------------\n",
      "14  bn_2_1 (BatchNormalization)     [] [None,13,13,64]  512        conv2d_2_1         \n",
      "                                    [] [None,13,13,64]                                \n",
      "                                    [] [None,13,13,64]                                \n",
      "                                    [] [None,13,13,64]                                \n",
      "--------------------------------------------------------------------------------------\n",
      "15  relu_2_1 (Activation)           [] [None,13,13,64]  0          bn_2_1             \n",
      "                                    [] [None,13,13,64]                                \n",
      "                                    [] [None,13,13,64]                                \n",
      "                                    [] [None,13,13,64]                                \n",
      "--------------------------------------------------------------------------------------\n",
      "16  conv2d_2_2 (Conv2D)             [] [None,13,13,64]  147712     relu_2_1           \n",
      "                                    [] [None,13,13,64]                                \n",
      "                                    [] [None,13,13,64]                                \n",
      "                                    [] [None,13,13,64]                                \n",
      "--------------------------------------------------------------------------------------\n",
      "17  bn_2_2 (BatchNormalization)     [] [None,13,13,64]  512        conv2d_2_2         \n",
      "                                    [] [None,13,13,64]                                \n",
      "                                    [] [None,13,13,64]                                \n",
      "                                    [] [None,13,13,64]                                \n",
      "--------------------------------------------------------------------------------------\n",
      "18  relu_2_2 (Activation)           [] [None,13,13,64]  0          bn_2_2             \n",
      "                                    [] [None,13,13,64]                                \n",
      "                                    [] [None,13,13,64]                                \n",
      "                                    [] [None,13,13,64]                                \n",
      "--------------------------------------------------------------------------------------\n",
      "19  avg_pool2d_2 (AveragePooling2D  [] [None,6,6,64]    0          relu_2_2           \n",
      "                                    [] [None,6,6,64]                                  \n",
      "                                    [] [None,6,6,64]                                  \n",
      "                                    [] [None,6,6,64]                                  \n",
      "--------------------------------------------------------------------------------------\n",
      "20  conv2d_3_1 (Conv2D)             [] [None,6,6,128]   295424     avg_pool2d_2       \n",
      "                                    [] [None,6,6,128]                                 \n",
      "                                    [] [None,6,6,128]                                 \n",
      "                                    [] [None,6,6,128]                                 \n",
      "--------------------------------------------------------------------------------------\n",
      "21  bn_3_1 (BatchNormalization)     [] [None,6,6,128]   1024       conv2d_3_1         \n",
      "                                    [] [None,6,6,128]                                 \n",
      "                                    [] [None,6,6,128]                                 \n",
      "                                    [] [None,6,6,128]                                 \n",
      "--------------------------------------------------------------------------------------\n",
      "22  relu_3_1 (Activation)           [] [None,6,6,128]   0          bn_3_1             \n",
      "                                    [] [None,6,6,128]                                 \n",
      "                                    [] [None,6,6,128]                                 \n",
      "                                    [] [None,6,6,128]                                 \n",
      "--------------------------------------------------------------------------------------\n",
      "23  conv2d_3_2 (Conv2D)             [] [None,6,6,128]   590336     relu_3_1           \n",
      "                                    [] [None,6,6,128]                                 \n",
      "                                    [] [None,6,6,128]                                 \n",
      "                                    [] [None,6,6,128]                                 \n",
      "--------------------------------------------------------------------------------------\n",
      "24  bn_3_2 (BatchNormalization)     [] [None,6,6,128]   1024       conv2d_3_2         \n",
      "                                    [] [None,6,6,128]                                 \n",
      "                                    [] [None,6,6,128]                                 \n",
      "                                    [] [None,6,6,128]                                 \n",
      "--------------------------------------------------------------------------------------\n",
      "25  relu_3_2 (Activation)           [] [None,6,6,128]   0          bn_3_2             \n",
      "                                    [] [None,6,6,128]                                 \n",
      "                                    [] [None,6,6,128]                                 \n",
      "                                    [] [None,6,6,128]                                 \n",
      "--------------------------------------------------------------------------------------\n",
      "26  avg_pool2d_3 (AveragePooling2D  [] [None,3,3,128]   0          relu_3_2           \n",
      "                                    [] [None,3,3,128]                                 \n",
      "                                    [] [None,3,3,128]                                 \n",
      "                                    [] [None,3,3,128]                                 \n",
      "--------------------------------------------------------------------------------------\n",
      "27  conv2d_4_1 (Conv2D)             [] [None,3,3,256]   1180672    avg_pool2d_3       \n",
      "                                    [] [None,3,3,256]                                 \n",
      "                                    [] [None,3,3,256]                                 \n",
      "                                    [] [None,3,3,256]                                 \n",
      "--------------------------------------------------------------------------------------\n",
      "28  bn_4_1 (BatchNormalization)     [] [None,3,3,256]   2048       conv2d_4_1         \n",
      "                                    [] [None,3,3,256]                                 \n",
      "                                    [] [None,3,3,256]                                 \n",
      "                                    [] [None,3,3,256]                                 \n",
      "--------------------------------------------------------------------------------------\n",
      "29  relu_4_1 (Activation)           [] [None,3,3,256]   0          bn_4_1             \n",
      "                                    [] [None,3,3,256]                                 \n",
      "                                    [] [None,3,3,256]                                 \n",
      "                                    [] [None,3,3,256]                                 \n",
      "--------------------------------------------------------------------------------------\n",
      "30  conv2d_4_2 (Conv2D)             [] [None,3,3,256]   2360320    relu_4_1           \n",
      "                                    [] [None,3,3,256]                                 \n",
      "                                    [] [None,3,3,256]                                 \n",
      "                                    [] [None,3,3,256]                                 \n",
      "--------------------------------------------------------------------------------------\n",
      "31  bn_4_2 (BatchNormalization)     [] [None,3,3,256]   2048       conv2d_4_2         \n",
      "                                    [] [None,3,3,256]                                 \n",
      "                                    [] [None,3,3,256]                                 \n",
      "                                    [] [None,3,3,256]                                 \n",
      "--------------------------------------------------------------------------------------\n",
      "32  relu_4_2 (Activation)           [] [None,3,3,256]   0          bn_4_2             \n",
      "                                    [] [None,3,3,256]                                 \n",
      "                                    [] [None,3,3,256]                                 \n",
      "                                    [] [None,3,3,256]                                 \n",
      "--------------------------------------------------------------------------------------\n",
      "33  global_avg_pool2d (GlobalAvera  [] [None,256]       0          relu_4_2           \n",
      "                                    [] [None,256]                                     \n",
      "                                    [] [None,256]                                     \n",
      "                                    [] [None,256]                                     \n",
      "--------------------------------------------------------------------------------------\n",
      "34  fc1 (Dense)                     [] [None,256]       263168     global_avg_pool2d  \n",
      "                                    [] [None,256]                                     \n",
      "                                    [] [None,256]                                     \n",
      "                                    [] [None,256]                                     \n",
      "--------------------------------------------------------------------------------------\n",
      "35  bn_fc1 (BatchNormalization)     [] [None,256]       2048       fc1                \n",
      "                                    [] [None,256]                                     \n",
      "                                    [] [None,256]                                     \n",
      "                                    [] [None,256]                                     \n",
      "--------------------------------------------------------------------------------------\n",
      "36  relu_fc1 (Activation)           [] [None,256]       0          bn_fc1             \n",
      "                                    [] [None,256]                                     \n",
      "                                    [] [None,256]                                     \n",
      "                                    [] [None,256]                                     \n",
      "--------------------------------------------------------------------------------------\n",
      "37  output (Dense)                  [None,128]          131584     relu_fc1           \n",
      "                                    [None,128]                                        \n",
      "                                    [None,128]                                        \n",
      "                                    [None,128]                                        \n",
      "--------------------------------------------------------------------------------------\n",
      "Total parameters: 5133568\n"
     ]
    }
   ],
   "source": [
    "lr = tf.placeholder('float32', name='lr')\n",
    "lr_scheduler = lr_exp_decay_scheduler(0.001, T_0, EPOCHS, 0.001)\n",
    "\n",
    "name = 'model'\n",
    "\n",
    "with tf.variable_scope(name, reuse=tf.AUTO_REUSE):\n",
    "    if ARCHITECTURE == 'simple':\n",
    "        model = SimpleCNNLarge(inputs, OUTPUT_DIM, name=name, shared_frac=SHARED_FRAC)\n",
    "    elif ARCHITECTURE == 'res':\n",
    "        model = ResNet18(inputs, OUTPUT_DIM, name=name, shared_frac=SHARED_FRAC)\n",
    "        \n",
    "    optimizer = tf.train.AdamOptimizer(learning_rate=lr)\n",
    "\n",
    "    # Compile model\n",
    "    model.compile(optimizer, triplet_omniglot(A, P, K), \n",
    "                  train_init_op, test_init_op, \n",
    "                  callbacks={'acc': one_shot_acc(NUM_BRANCHES)}, \n",
    "                  schedulers={'lr:0': lr_scheduler})\n",
    "\n",
    "model.summary()"
   ]
  },
  {
   "cell_type": "code",
   "execution_count": 12,
   "metadata": {},
   "outputs": [
    {
     "name": "stdout",
     "output_type": "stream",
     "text": [
      "[<tf.Tensor 'model/output/vb1/output:0' shape=(?, 128) dtype=float32>, <tf.Tensor 'model/output/vb2/output:0' shape=(?, 128) dtype=float32>, <tf.Tensor 'model/output/vb3/output:0' shape=(?, 128) dtype=float32>, <tf.Tensor 'model/output/vb4/output:0' shape=(?, 128) dtype=float32>]\n"
     ]
    }
   ],
   "source": [
    "print(model.output)"
   ]
  },
  {
   "cell_type": "code",
   "execution_count": 13,
   "metadata": {},
   "outputs": [
    {
     "data": {
      "image/png": "[encoded data removed]",
      "text/plain": [
       "<Figure size 432x288 with 1 Axes>"
      ]
     },
     "metadata": {
      "needs_background": "light"
     },
     "output_type": "display_data"
    }
   ],
   "source": [
    "lr_steps = [lr_scheduler(e + 1) for e in range(EPOCHS)]\n",
    "plt.plot(lr_steps)\n",
    "plt.show()"
   ]
  },
  {
   "cell_type": "code",
   "execution_count": null,
   "metadata": {
    "scrolled": false
   },
   "outputs": [
    {
     "name": "stdout",
     "output_type": "stream",
     "text": [
      "Epoch 1/60\n",
      "100/100 - 129s - lr:0: 0.0010 - loss_1: 252.2177 - loss_2: 218.8904 - loss_3: 247.6989 - loss_4: 231.5767\n",
      "Epoch 2/60\n",
      "100/100 - 97s - lr:0: 0.0010 - loss_1: 59.5802 - loss_2: 64.4464 - loss_3: 66.5956 - loss_4: 60.7381\n",
      "Epoch 3/60\n"
     ]
    }
   ],
   "source": [
    "history = model.fit(EPOCHS, STEPS_PER_EPOCH, log_path=model_path if SAVE else None)"
   ]
  },
  {
   "cell_type": "markdown",
   "metadata": {},
   "source": [
    "## Evaluation"
   ]
  },
  {
   "cell_type": "markdown",
   "metadata": {},
   "source": [
    "### Baseline"
   ]
  },
  {
   "cell_type": "code",
   "execution_count": 15,
   "metadata": {},
   "outputs": [
    {
     "name": "stdout",
     "output_type": "stream",
     "text": [
      "WARNING:tensorflow:From /home/gong/anaconda3/lib/python3.5/site-packages/tensorflow/python/training/saver.py:1266: checkpoint_exists (from tensorflow.python.training.checkpoint_management) is deprecated and will be removed in a future version.\n",
      "Instructions for updating:\n",
      "Use standard file APIs to check for files with this prefix.\n",
      "INFO:tensorflow:Restoring parameters from models/omniglot-res_1/ckpt\n",
      "Model 1 acc: 0.8049999999999999\n",
      "Mean acc: 0.8049999999999999 , std: 0.0\n"
     ]
    }
   ],
   "source": [
    "assert NUM_BRANCHES == 1\n",
    "\n",
    "model_id_list = [1]\n",
    "baseline_acc_list = []\n",
    "\n",
    "for model_id in model_id_list:\n",
    "    tf.reset_default_graph()\n",
    "    model_name = '{}-{}_{:d}'.format(DATASET, ARCHITECTURE, MODEL_ID)\n",
    "    model_path = os.path.join('models', model_name)\n",
    "    \n",
    "    with TFSessionGrow() as sess:\n",
    "        restore_sess(sess, model_path)\n",
    "        acc = baseline_one_shot(sess, model_name='model_'+str(model_id))\n",
    "        print('Model {} acc:'.format(model_id), acc)\n",
    "        baseline_acc_list.append(acc)\n",
    "        \n",
    "print('Mean acc:', np.mean(baseline_acc_list), ', std:', np.std(baseline_acc_list))"
   ]
  },
  {
   "cell_type": "markdown",
   "metadata": {},
   "source": [
    "### Virtual Branching"
   ]
  },
  {
   "cell_type": "code",
   "execution_count": 8,
   "metadata": {},
   "outputs": [
    {
     "name": "stdout",
     "output_type": "stream",
     "text": [
      "WARNING:tensorflow:From /home/gong/anaconda3/lib/python3.5/site-packages/tensorflow/python/training/saver.py:1266: checkpoint_exists (from tensorflow.python.training.checkpoint_management) is deprecated and will be removed in a future version.\n",
      "Instructions for updating:\n",
      "Use standard file APIs to check for files with this prefix.\n",
      "INFO:tensorflow:Restoring parameters from models/vb-omniglot-res-B2-S0.25_1/ckpt\n",
      "Model 1 acc: 0.8375 [0.7849999999999999, 0.8125]\n",
      "Mean acc: 0.8375 , std: 0.0\n"
     ]
    }
   ],
   "source": [
    "model_id_list = [1]\n",
    "vbranch_acc_list = []\n",
    "\n",
    "for model_id in model_id_list:\n",
    "    tf.reset_default_graph()\n",
    "    \n",
    "    model_name = 'vb-{}-{}-B{:d}-S{:.2f}_{:d}'.format(dataset, architecture,\n",
    "                                            NUM_BRANCHES, SHARED_FRAC, model_id)\n",
    "    model_path = os.path.join('models', model_name)\n",
    "    \n",
    "    with TFSessionGrow() as sess:\n",
    "        restore_sess(sess, model_path)    \n",
    "        acc, branch_acc = vbranch_one_shot(sess, model_name='model_'+str(model_id), \n",
    "                                           n_branches=NUM_BRANCHES)\n",
    "        print('Model {} acc:'.format(model_id), acc, branch_acc)\n",
    "        vbranch_acc_list.append(acc)\n",
    "        \n",
    "print('Mean acc:', np.mean(vbranch_acc_list), ', std:', np.std(vbranch_acc_list))"
   ]
  },
  {
   "cell_type": "code",
   "execution_count": null,
   "metadata": {},
   "outputs": [],
   "source": []
  }
 ],
 "metadata": {
  "kernelspec": {
   "display_name": "Python 3",
   "language": "python",
   "name": "python3"
  },
  "language_info": {
   "codemirror_mode": {
    "name": "ipython",
    "version": 3
   },
   "file_extension": ".py",
   "mimetype": "text/x-python",
   "name": "python",
   "nbconvert_exporter": "python",
   "pygments_lexer": "ipython3",
   "version": "3.6.0"
  }
 },
 "nbformat": 4,
 "nbformat_minor": 2
}
