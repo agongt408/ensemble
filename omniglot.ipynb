{
 "cells": [
  {
   "cell_type": "markdown",
   "metadata": {},
   "source": [
    "# Omnigot One-Shot"
   ]
  },
  {
   "cell_type": "code",
   "execution_count": 1,
   "metadata": {},
   "outputs": [],
   "source": [
    "import tensorflow as tf\n",
    "import numpy as np\n",
    "import os\n",
    "import zipfile\n",
    "import matplotlib.pyplot as plt"
   ]
  },
  {
   "cell_type": "code",
   "execution_count": 2,
   "metadata": {},
   "outputs": [],
   "source": [
    "import vbranch\n",
    "from vbranch.dataset import Omniglot"
   ]
  },
  {
   "cell_type": "code",
   "execution_count": 3,
   "metadata": {},
   "outputs": [],
   "source": [
    "model_id = 5"
   ]
  },
  {
   "cell_type": "markdown",
   "metadata": {},
   "source": [
    "## Load Data"
   ]
  },
  {
   "cell_type": "code",
   "execution_count": 4,
   "metadata": {},
   "outputs": [],
   "source": [
    "if not os.path.isdir('./omniglot-images/images_background/'):\n",
    "    with zipfile.ZipFile(\"./omniglot/python/images_background.zip\",\"r\") as zip_ref:\n",
    "        zip_ref.extractall(\"omniglot-images\")\n",
    "        \n",
    "if not os.path.isdir('./omniglot-images/images_evaluation/'):\n",
    "    with zipfile.ZipFile(\"./omniglot/python/images_evaluation.zip\",\"r\") as zip_ref:\n",
    "        zip_ref.extractall(\"omniglot-images\")"
   ]
  },
  {
   "cell_type": "code",
   "execution_count": 5,
   "metadata": {},
   "outputs": [],
   "source": [
    "train_generator = Omniglot('./omniglot-images/images_background/', 4, 4, 4, False)\n",
    "test_generator = Omniglot('./omniglot-images/images_evaluation/', 4, 4, 4, False)"
   ]
  },
  {
   "cell_type": "code",
   "execution_count": 6,
   "metadata": {},
   "outputs": [],
   "source": [
    "batch = next(train_generator)"
   ]
  },
  {
   "cell_type": "code",
   "execution_count": 8,
   "metadata": {},
   "outputs": [
    {
     "data": {
      "image/png": "[encoded data removed]",
      "text/plain": [
       "<Figure size 432x288 with 1 Axes>"
      ]
     },
     "metadata": {
      "needs_background": "light"
     },
     "output_type": "display_data"
    }
   ],
   "source": [
    "plt.imshow(batch[2, 3, 0], cmap=plt.cm.gray)\n",
    "plt.show()"
   ]
  },
  {
   "cell_type": "markdown",
   "metadata": {},
   "source": [
    "## Build Model"
   ]
  },
  {
   "cell_type": "code",
   "execution_count": 8,
   "metadata": {},
   "outputs": [],
   "source": [
    "BATCH_SIZE = 32\n",
    "EPOCHS = 10\n",
    "STEPS_PER_EPOCH = 100\n",
    "model_path = './models/model_' + str(model_id)"
   ]
  },
  {
   "cell_type": "code",
   "execution_count": 9,
   "metadata": {},
   "outputs": [],
   "source": [
    "tf.reset_default_graph()\n",
    "\n",
    "train_data = (X_train_flat.astype('float32'), y_train_one_hot)\n",
    "test_data = (X_test_flat.astype('float32'), y_test_one_hot)\n",
    "\n",
    "batch_size = tf.placeholder('int64', name='batch_size')\n",
    "\n",
    "train_dataset = tf.data.Dataset.from_tensor_slices(train_data).\\\n",
    "    batch(batch_size).repeat().\\\n",
    "    shuffle(buffer_size=4*BATCH_SIZE)\n",
    "\n",
    "test_dataset = tf.data.Dataset.from_tensor_slices(test_data).\\\n",
    "    batch(batch_size).repeat()\n",
    "\n",
    "iter_ = tf.data.Iterator.from_structure(train_dataset.output_types, \n",
    "                                       train_dataset.output_shapes)\n",
    "inputs, labels_one_hot = iter_.get_next()\n",
    "\n",
    "train_init_op = iter_.make_initializer(train_dataset)\n",
    "test_init_op = iter_.make_initializer(test_dataset, name='test_init_op')"
   ]
  },
  {
   "cell_type": "code",
   "execution_count": 10,
   "metadata": {},
   "outputs": [],
   "source": [
    "with tf.variable_scope('model_' + str(model_id)):\n",
    "    outputs = vbranch.models.simple_fcnet(inputs, 128, num_classes)"
   ]
  },
  {
   "cell_type": "code",
   "execution_count": 11,
   "metadata": {},
   "outputs": [
    {
     "data": {
      "text/plain": [
       "[<tf.Variable 'model_5/fc1_w:0' shape=(784, 128) dtype=float32_ref>,\n",
       " <tf.Variable 'model_5/fc1_b:0' shape=(128,) dtype=float32_ref>,\n",
       " <tf.Variable 'model_5/bn1_scale:0' shape=(128,) dtype=float32_ref>,\n",
       " <tf.Variable 'model_5/bn1_beta:0' shape=(128,) dtype=float32_ref>,\n",
       " <tf.Variable 'model_5/fc2_w:0' shape=(128, 10) dtype=float32_ref>,\n",
       " <tf.Variable 'model_5/fc2_b:0' shape=(10,) dtype=float32_ref>,\n",
       " <tf.Variable 'model_5/bn2_scale:0' shape=(10,) dtype=float32_ref>,\n",
       " <tf.Variable 'model_5/bn2_beta:0' shape=(10,) dtype=float32_ref>]"
      ]
     },
     "execution_count": 11,
     "metadata": {},
     "output_type": "execute_result"
    }
   ],
   "source": [
    "tf.trainable_variables()"
   ]
  },
  {
   "cell_type": "code",
   "execution_count": 12,
   "metadata": {},
   "outputs": [],
   "source": [
    "loss = tf.reduce_mean(tf.nn.softmax_cross_entropy_with_logits_v2(labels=labels_one_hot, \n",
    "                                                                 logits=outputs), name='loss')\n",
    "train_op = tf.train.AdamOptimizer(learning_rate=0.001).minimize(loss)\n",
    "saver = tf.train.Saver()"
   ]
  },
  {
   "cell_type": "code",
   "execution_count": 13,
   "metadata": {},
   "outputs": [],
   "source": [
    "pred = tf.nn.softmax(outputs, name='pred')\n",
    "pred_max = tf.one_hot(tf.argmax(pred, axis=-1), num_classes)\n",
    "acc = tf.reduce_mean(tf.reduce_sum(labels_one_hot*pred_max, [1]), name='acc')"
   ]
  },
  {
   "cell_type": "code",
   "execution_count": 14,
   "metadata": {},
   "outputs": [
    {
     "name": "stdout",
     "output_type": "stream",
     "text": [
      "Epoch 1/10\n",
      "100/100 [==============================] - 11s 107ms/step - loss: 1.0735 - acc: 0.7894 - val_loss: 0.7641 - val_acc: 0.8916\n",
      "Epoch 2/10\n",
      "100/100 [==============================] - 0s 3ms/step - loss: 0.7311 - acc: 0.8975 - val_loss: 0.6266 - val_acc: 0.9145\n",
      "Epoch 3/10\n",
      "100/100 [==============================] - 0s 3ms/step - loss: 0.6086 - acc: 0.9241 - val_loss: 0.5356 - val_acc: 0.9241\n",
      "Epoch 4/10\n",
      "100/100 [==============================] - 0s 3ms/step - loss: 0.5093 - acc: 0.9444 - val_loss: 0.4771 - val_acc: 0.9295\n",
      "Epoch 5/10\n",
      "100/100 [==============================] - 0s 3ms/step - loss: 0.4578 - acc: 0.9481 - val_loss: 0.4398 - val_acc: 0.9349\n",
      "Epoch 6/10\n",
      "100/100 [==============================] - 0s 3ms/step - loss: 0.3885 - acc: 0.9637 - val_loss: 0.3988 - val_acc: 0.9357\n",
      "Epoch 7/10\n",
      "100/100 [==============================] - 0s 3ms/step - loss: 0.3557 - acc: 0.9625 - val_loss: 0.3644 - val_acc: 0.9423\n",
      "Epoch 8/10\n",
      "100/100 [==============================] - 0s 3ms/step - loss: 0.3177 - acc: 0.9709 - val_loss: 0.3426 - val_acc: 0.9423\n",
      "Epoch 9/10\n",
      "100/100 [==============================] - 0s 3ms/step - loss: 0.2888 - acc: 0.9728 - val_loss: 0.3256 - val_acc: 0.9426\n",
      "Epoch 10/10\n",
      "100/100 [==============================] - 0s 3ms/step - loss: 0.2662 - acc: 0.9766 - val_loss: 0.3142 - val_acc: 0.9400\n"
     ]
    }
   ],
   "source": [
    "with tf.Session() as sess:\n",
    "    sess.run(tf.global_variables_initializer())\n",
    "\n",
    "    for e in range(EPOCHS):\n",
    "        print(\"Epoch {}/{}\".format(e + 1, EPOCHS))\n",
    "        progbar = tf.keras.utils.Progbar(STEPS_PER_EPOCH)\n",
    "        \n",
    "        sess.run(train_init_op, feed_dict={batch_size: BATCH_SIZE})\n",
    "\n",
    "        for i in range(STEPS_PER_EPOCH):\n",
    "            _, loss_value, acc_value = sess.run([train_op, loss, acc])\n",
    "            \n",
    "            if i == STEPS_PER_EPOCH - 1:\n",
    "                sess.run(test_init_op, feed_dict={batch_size: len(X_test_flat)})\n",
    "                val_loss, val_acc = sess.run([loss, acc])\n",
    "                progbar.update(i + 1, values=[(\"loss\", loss_value), (\"acc\", acc_value), \n",
    "                                              (\"val_loss\", val_loss), (\"val_acc\", val_acc)])\n",
    "            else:\n",
    "                progbar.update(i + 1, values=[(\"loss\", loss_value), (\"acc\", acc_value)])\n",
    "                \n",
    "    path = os.path.join(model_path, 'ckpt')\n",
    "    saver.save(sess, path)"
   ]
  },
  {
   "cell_type": "markdown",
   "metadata": {},
   "source": [
    "## Model Ensemble"
   ]
  },
  {
   "cell_type": "code",
   "execution_count": 15,
   "metadata": {},
   "outputs": [
    {
     "name": "stdout",
     "output_type": "stream",
     "text": [
      "INFO:tensorflow:Restoring parameters from ./models/model_1/ckpt\n",
      "INFO:tensorflow:Restoring parameters from ./models/model_2/ckpt\n",
      "INFO:tensorflow:Restoring parameters from ./models/model_3/ckpt\n",
      "INFO:tensorflow:Restoring parameters from ./models/model_4/ckpt\n",
      "INFO:tensorflow:Restoring parameters from ./models/model_5/ckpt\n"
     ]
    }
   ],
   "source": [
    "test_pred = []\n",
    "test_loss = []\n",
    "test_acc = []\n",
    "\n",
    "num_models = 5\n",
    "graphs = [tf.Graph() for _ in range(num_models)]\n",
    "sessions = [tf.Session(graph=g) for g in graphs]\n",
    "\n",
    "for i in range(len(graphs)):\n",
    "    with graphs[i].as_default():\n",
    "        model_path = './models/model_' + str(i + 1)\n",
    "        meta_path = os.path.join(model_path, 'ckpt.meta')\n",
    "        ckpt = tf.train.get_checkpoint_state(model_path)\n",
    "        \n",
    "        imported_graph = tf.train.import_meta_graph(meta_path)\n",
    "        imported_graph.restore(sessions[i], ckpt.model_checkpoint_path)\n",
    "                \n",
    "        sessions[i].run('test_init_op', feed_dict={'batch_size:0': len(X_test_flat)})\n",
    "        \n",
    "        pred, loss, acc = sessions[i].run(['pred:0', 'loss:0', 'acc:0'])\n",
    "        test_pred.append(pred)\n",
    "        test_loss.append(loss)\n",
    "        test_acc.append(acc)"
   ]
  },
  {
   "cell_type": "code",
   "execution_count": 16,
   "metadata": {},
   "outputs": [
    {
     "data": {
      "text/plain": [
       "[0.9435, 0.9438, 0.9419, 0.942, 0.94]"
      ]
     },
     "execution_count": 16,
     "metadata": {},
     "output_type": "execute_result"
    }
   ],
   "source": [
    "test_acc"
   ]
  },
  {
   "cell_type": "code",
   "execution_count": 17,
   "metadata": {},
   "outputs": [],
   "source": [
    "def compute_acc(pred, labels_one_hot):\n",
    "    pred_max = tf.keras.utils.to_categorical(np.argmax(pred, axis=-1), num_classes)\n",
    "    return np.mean(np.sum(labels_one_hot*pred_max, axis=1))"
   ]
  },
  {
   "cell_type": "code",
   "execution_count": 21,
   "metadata": {},
   "outputs": [],
   "source": [
    "for i in range(num_models):\n",
    "    assert compute_acc(test_pred[i], y_test_one_hot) == test_acc[i]"
   ]
  },
  {
   "cell_type": "code",
   "execution_count": 19,
   "metadata": {},
   "outputs": [
    {
     "name": "stdout",
     "output_type": "stream",
     "text": [
      "0.9522\n"
     ]
    }
   ],
   "source": [
    "pred_avg = np.mean(test_pred, axis=0)\n",
    "print(compute_acc(pred_avg, y_test_one_hot))"
   ]
  },
  {
   "cell_type": "code",
   "execution_count": null,
   "metadata": {},
   "outputs": [],
   "source": []
  }
 ],
 "metadata": {
  "kernelspec": {
   "display_name": "Python 3",
   "language": "python",
   "name": "python3"
  },
  "language_info": {
   "codemirror_mode": {
    "name": "ipython",
    "version": 3
   },
   "file_extension": ".py",
   "mimetype": "text/x-python",
   "name": "python",
   "nbconvert_exporter": "python",
   "pygments_lexer": "ipython3",
   "version": "3.6.8"
  }
 },
 "nbformat": 4,
 "nbformat_minor": 2
}
