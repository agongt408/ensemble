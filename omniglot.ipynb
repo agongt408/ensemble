{
 "cells": [
  {
   "cell_type": "markdown",
   "metadata": {},
   "source": [
    "# Omnigot One-Shot with Virtual Branching"
   ]
  },
  {
   "cell_type": "code",
   "execution_count": 1,
   "metadata": {},
   "outputs": [],
   "source": [
    "import tensorflow as tf\n",
    "import numpy as np\n",
    "import os\n",
    "import matplotlib.pyplot as plt"
   ]
  },
  {
   "cell_type": "code",
   "execution_count": 2,
   "metadata": {},
   "outputs": [
    {
     "name": "stderr",
     "output_type": "stream",
     "text": [
      "Using TensorFlow backend.\n"
     ]
    }
   ],
   "source": [
    "from vbranch.applications.resnet import ResNet18\n",
    "from vbranch.applications.cnn import SimpleCNNLarge\n",
    "from vbranch.datasets import omniglot\n",
    "\n",
    "from vbranch.utils import *\n",
    "from vbranch.callbacks import one_shot_acc\n",
    "from vbranch.losses import triplet_omniglot"
   ]
  },
  {
   "cell_type": "code",
   "execution_count": 3,
   "metadata": {},
   "outputs": [],
   "source": [
    "SAVE = False\n",
    "MODEL_ID = 1\n",
    "ARCHITECTURE = 'simple'\n",
    "DATASET = 'omniglot'\n",
    "NUM_BRANCHES = 3\n",
    "SHARED_FRAC = 0.0\n",
    "\n",
    "EPOCHS = 60\n",
    "STEPS_PER_EPOCH = 100\n",
    "T_0 = 40\n",
    "OUTPUT_DIM = 128"
   ]
  },
  {
   "cell_type": "markdown",
   "metadata": {},
   "source": [
    "## Load Data"
   ]
  },
  {
   "cell_type": "code",
   "execution_count": 4,
   "metadata": {},
   "outputs": [],
   "source": [
    "if DATASET == 'omniglot':\n",
    "    A, P, K = 4, 8, 4\n",
    "    train_generator = omniglot.load_generator('train', A, P, K)\n",
    "    test_generator = omniglot.load_generator('test', A, P, K)"
   ]
  },
  {
   "cell_type": "code",
   "execution_count": 5,
   "metadata": {},
   "outputs": [],
   "source": [
    "batch = train_generator.sample(4, 4, 4, flatten=False, preprocess=False)"
   ]
  },
  {
   "cell_type": "code",
   "execution_count": 6,
   "metadata": {},
   "outputs": [
    {
     "data": {
      "image/png": "[encoded data removed]",
      "text/plain": [
       "<Figure size 432x288 with 1 Axes>"
      ]
     },
     "metadata": {
      "needs_background": "light"
     },
     "output_type": "display_data"
    }
   ],
   "source": [
    "plt.imshow(batch[0, 3, 0].squeeze(), cmap=plt.cm.gray)\n",
    "plt.show()"
   ]
  },
  {
   "cell_type": "markdown",
   "metadata": {},
   "source": [
    "## Build Model"
   ]
  },
  {
   "cell_type": "code",
   "execution_count": 7,
   "metadata": {},
   "outputs": [
    {
     "name": "stdout",
     "output_type": "stream",
     "text": [
      "models/vb-omniglot-simple-B3-S0.00_1\n"
     ]
    }
   ],
   "source": [
    "if not os.path.isdir('models'):\n",
    "    os.system('mkdir models')\n",
    "\n",
    "if NUM_BRANCHES == 1:\n",
    "    model_name = '{}-{}_{:d}'.format(DATASET, ARCHITECTURE, MODEL_ID)\n",
    "else:\n",
    "    model_name = 'vb-{}-{}-B{:d}-S{:.2f}_{:d}'.format(DATASET, ARCHITECTURE,\n",
    "                                        NUM_BRANCHES, SHARED_FRAC, MODEL_ID)\n",
    "model_path = os.path.join('models', model_name)\n",
    "print(model_path)"
   ]
  },
  {
   "cell_type": "code",
   "execution_count": 8,
   "metadata": {},
   "outputs": [
    {
     "name": "stderr",
     "output_type": "stream",
     "text": [
      "WARNING: Logging before flag parsing goes to stderr.\n",
      "W0801 22:47:22.368802 140351647655680 deprecation_wrapper.py:119] From /home/gong/research/vbranch/vbranch/utils/training.py:191: The name tf.placeholder is deprecated. Please use tf.compat.v1.placeholder instead.\n",
      "\n",
      "W0801 22:47:22.391903 140351647655680 deprecation.py:323] From /home/gong/anaconda3/lib/python3.6/site-packages/tensorflow/python/data/ops/dataset_ops.py:494: py_func (from tensorflow.python.ops.script_ops) is deprecated and will be removed in a future version.\n",
      "Instructions for updating:\n",
      "tf.py_func is deprecated in TF V2. Instead, there are two\n",
      "    options available in V2.\n",
      "    - tf.py_function takes a python function which manipulates tf eager\n",
      "    tensors instead of numpy arrays. It's easy to convert a tf eager tensor to\n",
      "    an ndarray (just call tensor.numpy()) but having access to eager tensors\n",
      "    means `tf.py_function`s can use accelerators such as GPUs as well as\n",
      "    being differentiable using a gradient tape.\n",
      "    - tf.numpy_function maintains the semantics of the deprecated tf.py_func\n",
      "    (it is not differentiable, and manipulates numpy arrays). It drops the\n",
      "    stateful argument making all functions stateful.\n",
      "    \n",
      "W0801 22:47:22.418881 140351647655680 deprecation_wrapper.py:119] From /home/gong/research/vbranch/vbranch/utils/training.py:202: The name tf.data.Iterator is deprecated. Please use tf.compat.v1.data.Iterator instead.\n",
      "\n",
      "W0801 22:47:22.424596 140351647655680 deprecation.py:323] From /home/gong/anaconda3/lib/python3.6/site-packages/tensorflow/python/data/ops/iterator_ops.py:348: Iterator.output_types (from tensorflow.python.data.ops.iterator_ops) is deprecated and will be removed in a future version.\n",
      "Instructions for updating:\n",
      "Use `tf.compat.v1.data.get_output_types(iterator)`.\n",
      "W0801 22:47:22.429957 140351647655680 deprecation.py:323] From /home/gong/anaconda3/lib/python3.6/site-packages/tensorflow/python/data/ops/iterator_ops.py:349: Iterator.output_shapes (from tensorflow.python.data.ops.iterator_ops) is deprecated and will be removed in a future version.\n",
      "Instructions for updating:\n",
      "Use `tf.compat.v1.data.get_output_shapes(iterator)`.\n",
      "W0801 22:47:22.435180 140351647655680 deprecation.py:323] From /home/gong/anaconda3/lib/python3.6/site-packages/tensorflow/python/data/ops/iterator_ops.py:351: Iterator.output_classes (from tensorflow.python.data.ops.iterator_ops) is deprecated and will be removed in a future version.\n",
      "Instructions for updating:\n",
      "Use `tf.compat.v1.data.get_output_classes(iterator)`.\n"
     ]
    },
    {
     "name": "stdout",
     "output_type": "stream",
     "text": [
      "(None, 105, 105, 1)\n"
     ]
    }
   ],
   "source": [
    "input_dim = (None,) + batch.shape[-3:]\n",
    "print(input_dim)\n",
    "\n",
    "tf.reset_default_graph()\n",
    "\n",
    "inputs, train_init_op, test_init_op = get_data_iterator_from_generator(train_generator, input_dim, \n",
    "                                                                       n=NUM_BRANCHES)"
   ]
  },
  {
   "cell_type": "code",
   "execution_count": 9,
   "metadata": {},
   "outputs": [
    {
     "data": {
      "text/plain": [
       "[<tf.Tensor 'input_1:0' shape=(?, 105, 105, 1) dtype=float32>,\n",
       " <tf.Tensor 'input_2:0' shape=(?, 105, 105, 1) dtype=float32>,\n",
       " <tf.Tensor 'input_3:0' shape=(?, 105, 105, 1) dtype=float32>]"
      ]
     },
     "execution_count": 9,
     "metadata": {},
     "output_type": "execute_result"
    }
   ],
   "source": [
    "inputs"
   ]
  },
  {
   "cell_type": "code",
   "execution_count": 10,
   "metadata": {
    "scrolled": false
   },
   "outputs": [
    {
     "name": "stderr",
     "output_type": "stream",
     "text": [
      "W0801 22:47:22.557141 140351647655680 deprecation_wrapper.py:119] From /home/gong/research/vbranch/vbranch/vb_layers/core.py:63: The name tf.get_variable_scope is deprecated. Please use tf.compat.v1.get_variable_scope instead.\n",
      "\n",
      "W0801 22:47:22.557778 140351647655680 deprecation_wrapper.py:119] From /home/gong/research/vbranch/vbranch/vb_layers/core.py:92: The name tf.variable_scope is deprecated. Please use tf.compat.v1.variable_scope instead.\n",
      "\n",
      "W0801 22:47:22.565049 140351647655680 deprecation_wrapper.py:119] From /home/gong/research/vbranch/vbranch/layers/convolutional.py:36: The name tf.get_variable is deprecated. Please use tf.compat.v1.get_variable instead.\n",
      "\n",
      "W0801 22:47:22.566044 140351647655680 deprecation.py:506] From /home/gong/anaconda3/lib/python3.6/site-packages/tensorflow/python/ops/init_ops.py:1251: calling VarianceScaling.__init__ (from tensorflow.python.ops.init_ops) with dtype is deprecated and will be removed in a future version.\n",
      "Instructions for updating:\n",
      "Call initializer instance with the dtype argument instead of passing it to the constructor\n",
      "W0801 22:47:22.665905 140351647655680 deprecation_wrapper.py:119] From /home/gong/research/vbranch/vbranch/slim.py:172: The name tf.get_collection is deprecated. Please use tf.compat.v1.get_collection instead.\n",
      "\n",
      "W0801 22:47:22.743340 140351647655680 deprecation_wrapper.py:119] From /home/gong/research/vbranch/vbranch/layers/pooling.py:56: The name tf.nn.max_pool is deprecated. Please use tf.nn.max_pool2d instead.\n",
      "\n",
      "W0801 22:47:22.925951 140351647655680 deprecation_wrapper.py:119] From /home/gong/research/vbranch/vbranch/layers/pooling.py:22: The name tf.nn.avg_pool is deprecated. Please use tf.nn.avg_pool2d instead.\n",
      "\n",
      "W0801 22:47:23.502349 140351647655680 deprecation_wrapper.py:119] From /home/gong/research/vbranch/vbranch/layers/core.py:83: The name tf.nn.xw_plus_b is deprecated. Please use tf.compat.v1.nn.xw_plus_b instead.\n",
      "\n",
      "W0801 22:47:33.502280 140351647655680 deprecation.py:323] From /home/gong/anaconda3/lib/python3.6/site-packages/tensorflow/python/ops/math_grad.py:1250: add_dispatch_support.<locals>.wrapper (from tensorflow.python.ops.array_ops) is deprecated and will be removed in a future version.\n",
      "Instructions for updating:\n",
      "Use tf.where in 2.0, which has the same broadcast rule as np.where\n"
     ]
    },
    {
     "name": "stdout",
     "output_type": "stream",
     "text": [
      "i   Layer name                      Output shape        Num param  Inbound            \n",
      "--------------------------------------------------------------------------------------\n",
      "    Input                           [None,105,105,1]                                  \n",
      "--------------------------------------------------------------------------------------\n",
      "    Input                           [None,105,105,1]                                  \n",
      "--------------------------------------------------------------------------------------\n",
      "    Input                           [None,105,105,1]                                  \n",
      "--------------------------------------------------------------------------------------\n",
      "0   conv1_pad (ZeroPadding2D)       [None,111,111,1]    0          input              \n",
      "                                    [None,111,111,1]                                  \n",
      "                                    [None,111,111,1]                                  \n",
      "--------------------------------------------------------------------------------------\n",
      "1   conv1 (Conv2D)                  [] [None,53,53,32]  4800       conv1_pad          \n",
      "                                    [] [None,53,53,32]                                \n",
      "                                    [] [None,53,53,32]                                \n",
      "--------------------------------------------------------------------------------------\n",
      "2   bn_conv1 (BatchNormalization)   [] [None,53,53,32]  192        conv1              \n",
      "                                    [] [None,53,53,32]                                \n",
      "                                    [] [None,53,53,32]                                \n",
      "--------------------------------------------------------------------------------------\n",
      "3   relu (Activation)               [] [None,53,53,32]  0          bn_conv1           \n",
      "                                    [] [None,53,53,32]                                \n",
      "                                    [] [None,53,53,32]                                \n",
      "--------------------------------------------------------------------------------------\n",
      "4   pool1_pad (ZeroPadding2D)       [] [None,55,55,32]  0          relu               \n",
      "                                    [] [None,55,55,32]                                \n",
      "                                    [] [None,55,55,32]                                \n",
      "--------------------------------------------------------------------------------------\n",
      "5   max_pool2d (MaxPooling2D)       [] [None,27,27,32]  0          pool1_pad          \n",
      "                                    [] [None,27,27,32]                                \n",
      "                                    [] [None,27,27,32]                                \n",
      "--------------------------------------------------------------------------------------\n",
      "6   conv2d_1_1 (Conv2D)             [] [None,27,27,32]  27744      max_pool2d         \n",
      "                                    [] [None,27,27,32]                                \n",
      "                                    [] [None,27,27,32]                                \n",
      "--------------------------------------------------------------------------------------\n",
      "7   bn_1_1 (BatchNormalization)     [] [None,27,27,32]  192        conv2d_1_1         \n",
      "                                    [] [None,27,27,32]                                \n",
      "                                    [] [None,27,27,32]                                \n",
      "--------------------------------------------------------------------------------------\n",
      "8   relu_1_1 (Activation)           [] [None,27,27,32]  0          bn_1_1             \n",
      "                                    [] [None,27,27,32]                                \n",
      "                                    [] [None,27,27,32]                                \n",
      "--------------------------------------------------------------------------------------\n",
      "9   conv2d_1_2 (Conv2D)             [] [None,27,27,32]  27744      relu_1_1           \n",
      "                                    [] [None,27,27,32]                                \n",
      "                                    [] [None,27,27,32]                                \n",
      "--------------------------------------------------------------------------------------\n",
      "10  bn_1_2 (BatchNormalization)     [] [None,27,27,32]  192        conv2d_1_2         \n",
      "                                    [] [None,27,27,32]                                \n",
      "                                    [] [None,27,27,32]                                \n",
      "--------------------------------------------------------------------------------------\n",
      "11  relu_1_2 (Activation)           [] [None,27,27,32]  0          bn_1_2             \n",
      "                                    [] [None,27,27,32]                                \n",
      "                                    [] [None,27,27,32]                                \n",
      "--------------------------------------------------------------------------------------\n",
      "12  avg_pool2d_1 (AveragePooling2D  [] [None,13,13,32]  0          relu_1_2           \n",
      "                                    [] [None,13,13,32]                                \n",
      "                                    [] [None,13,13,32]                                \n",
      "--------------------------------------------------------------------------------------\n",
      "13  conv2d_2_1 (Conv2D)             [] [None,13,13,64]  55488      avg_pool2d_1       \n",
      "                                    [] [None,13,13,64]                                \n",
      "                                    [] [None,13,13,64]                                \n",
      "--------------------------------------------------------------------------------------\n",
      "14  bn_2_1 (BatchNormalization)     [] [None,13,13,64]  384        conv2d_2_1         \n",
      "                                    [] [None,13,13,64]                                \n",
      "                                    [] [None,13,13,64]                                \n",
      "--------------------------------------------------------------------------------------\n",
      "15  relu_2_1 (Activation)           [] [None,13,13,64]  0          bn_2_1             \n",
      "                                    [] [None,13,13,64]                                \n",
      "                                    [] [None,13,13,64]                                \n",
      "--------------------------------------------------------------------------------------\n",
      "16  conv2d_2_2 (Conv2D)             [] [None,13,13,64]  110784     relu_2_1           \n",
      "                                    [] [None,13,13,64]                                \n",
      "                                    [] [None,13,13,64]                                \n",
      "--------------------------------------------------------------------------------------\n",
      "17  bn_2_2 (BatchNormalization)     [] [None,13,13,64]  384        conv2d_2_2         \n",
      "                                    [] [None,13,13,64]                                \n",
      "                                    [] [None,13,13,64]                                \n",
      "--------------------------------------------------------------------------------------\n",
      "18  relu_2_2 (Activation)           [] [None,13,13,64]  0          bn_2_2             \n",
      "                                    [] [None,13,13,64]                                \n",
      "                                    [] [None,13,13,64]                                \n",
      "--------------------------------------------------------------------------------------\n",
      "19  avg_pool2d_2 (AveragePooling2D  [] [None,6,6,64]    0          relu_2_2           \n",
      "                                    [] [None,6,6,64]                                  \n",
      "                                    [] [None,6,6,64]                                  \n",
      "--------------------------------------------------------------------------------------\n",
      "20  conv2d_3_1 (Conv2D)             [] [None,6,6,128]   221568     avg_pool2d_2       \n",
      "                                    [] [None,6,6,128]                                 \n",
      "                                    [] [None,6,6,128]                                 \n",
      "--------------------------------------------------------------------------------------\n",
      "21  bn_3_1 (BatchNormalization)     [] [None,6,6,128]   768        conv2d_3_1         \n",
      "                                    [] [None,6,6,128]                                 \n",
      "                                    [] [None,6,6,128]                                 \n",
      "--------------------------------------------------------------------------------------\n",
      "22  relu_3_1 (Activation)           [] [None,6,6,128]   0          bn_3_1             \n",
      "                                    [] [None,6,6,128]                                 \n",
      "                                    [] [None,6,6,128]                                 \n",
      "--------------------------------------------------------------------------------------\n",
      "23  conv2d_3_2 (Conv2D)             [] [None,6,6,128]   442752     relu_3_1           \n",
      "                                    [] [None,6,6,128]                                 \n",
      "                                    [] [None,6,6,128]                                 \n",
      "--------------------------------------------------------------------------------------\n",
      "24  bn_3_2 (BatchNormalization)     [] [None,6,6,128]   768        conv2d_3_2         \n",
      "                                    [] [None,6,6,128]                                 \n",
      "                                    [] [None,6,6,128]                                 \n",
      "--------------------------------------------------------------------------------------\n",
      "25  relu_3_2 (Activation)           [] [None,6,6,128]   0          bn_3_2             \n",
      "                                    [] [None,6,6,128]                                 \n",
      "                                    [] [None,6,6,128]                                 \n",
      "--------------------------------------------------------------------------------------\n",
      "26  avg_pool2d_3 (AveragePooling2D  [] [None,3,3,128]   0          relu_3_2           \n",
      "                                    [] [None,3,3,128]                                 \n",
      "                                    [] [None,3,3,128]                                 \n",
      "--------------------------------------------------------------------------------------\n",
      "27  conv2d_4_1 (Conv2D)             [] [None,3,3,256]   885504     avg_pool2d_3       \n",
      "                                    [] [None,3,3,256]                                 \n",
      "                                    [] [None,3,3,256]                                 \n",
      "--------------------------------------------------------------------------------------\n",
      "28  bn_4_1 (BatchNormalization)     [] [None,3,3,256]   1536       conv2d_4_1         \n",
      "                                    [] [None,3,3,256]                                 \n",
      "                                    [] [None,3,3,256]                                 \n",
      "--------------------------------------------------------------------------------------\n",
      "29  relu_4_1 (Activation)           [] [None,3,3,256]   0          bn_4_1             \n",
      "                                    [] [None,3,3,256]                                 \n",
      "                                    [] [None,3,3,256]                                 \n",
      "--------------------------------------------------------------------------------------\n",
      "30  conv2d_4_2 (Conv2D)             [] [None,3,3,256]   1770240    relu_4_1           \n",
      "                                    [] [None,3,3,256]                                 \n",
      "                                    [] [None,3,3,256]                                 \n",
      "--------------------------------------------------------------------------------------\n",
      "31  bn_4_2 (BatchNormalization)     [] [None,3,3,256]   1536       conv2d_4_2         \n",
      "                                    [] [None,3,3,256]                                 \n",
      "                                    [] [None,3,3,256]                                 \n",
      "--------------------------------------------------------------------------------------\n",
      "32  relu_4_2 (Activation)           [] [None,3,3,256]   0          bn_4_2             \n",
      "                                    [] [None,3,3,256]                                 \n",
      "                                    [] [None,3,3,256]                                 \n",
      "--------------------------------------------------------------------------------------\n",
      "33  global_avg_pool2d (GlobalAvera  [] [None,256]       0          relu_4_2           \n",
      "                                    [] [None,256]                                     \n",
      "                                    [] [None,256]                                     \n",
      "--------------------------------------------------------------------------------------\n",
      "34  fc1 (Dense)                     [] [None,256]       197376     global_avg_pool2d  \n",
      "                                    [] [None,256]                                     \n",
      "                                    [] [None,256]                                     \n",
      "--------------------------------------------------------------------------------------\n",
      "35  bn_fc1 (BatchNormalization)     [] [None,256]       1536       fc1                \n",
      "                                    [] [None,256]                                     \n",
      "                                    [] [None,256]                                     \n",
      "--------------------------------------------------------------------------------------\n",
      "36  relu_fc1 (Activation)           [] [None,256]       0          bn_fc1             \n",
      "                                    [] [None,256]                                     \n",
      "                                    [] [None,256]                                     \n",
      "--------------------------------------------------------------------------------------\n",
      "37  output (Dense)                  [None,128]          98688      relu_fc1           \n",
      "                                    [None,128]                                        \n",
      "                                    [None,128]                                        \n",
      "--------------------------------------------------------------------------------------\n",
      "Total parameters: 3850176\n"
     ]
    }
   ],
   "source": [
    "lr = tf.placeholder('float32', name='lr')\n",
    "lr_scheduler = lr_exp_decay_scheduler(0.001, T_0, EPOCHS, 0.001)\n",
    "\n",
    "name = 'model'\n",
    "\n",
    "with tf.variable_scope(name, reuse=tf.AUTO_REUSE):\n",
    "    if ARCHITECTURE == 'simple':\n",
    "        model = SimpleCNNLarge(inputs, OUTPUT_DIM, name=name, shared_frac=SHARED_FRAC)\n",
    "    elif ARCHITECTURE == 'res':\n",
    "        model = ResNet18(inputs, OUTPUT_DIM, name=name, shared_frac=SHARED_FRAC)\n",
    "        \n",
    "    optimizer = tf.train.AdamOptimizer(learning_rate=lr)\n",
    "\n",
    "    # Compile model\n",
    "    model.compile(optimizer, triplet_omniglot(A, P, K), \n",
    "                  train_init_op, test_init_op, \n",
    "                  callbacks={'acc': one_shot_acc(NUM_BRANCHES)}, \n",
    "                  schedulers={'lr:0': lr_scheduler})\n",
    "\n",
    "model.summary()"
   ]
  },
  {
   "cell_type": "code",
   "execution_count": 11,
   "metadata": {},
   "outputs": [
    {
     "name": "stdout",
     "output_type": "stream",
     "text": [
      "[<tf.Tensor 'model/output/vb1/output:0' shape=(?, 128) dtype=float32>, <tf.Tensor 'model/output/vb2/output:0' shape=(?, 128) dtype=float32>, <tf.Tensor 'model/output/vb3/output:0' shape=(?, 128) dtype=float32>]\n"
     ]
    }
   ],
   "source": [
    "print(model.output)"
   ]
  },
  {
   "cell_type": "code",
   "execution_count": 12,
   "metadata": {},
   "outputs": [
    {
     "data": {
      "image/png": "[encoded data removed]",
      "text/plain": [
       "<Figure size 432x288 with 1 Axes>"
      ]
     },
     "metadata": {
      "needs_background": "light"
     },
     "output_type": "display_data"
    }
   ],
   "source": [
    "lr_steps = [lr_scheduler(e + 1) for e in range(EPOCHS)]\n",
    "plt.plot(lr_steps)\n",
    "plt.show()"
   ]
  },
  {
   "cell_type": "code",
   "execution_count": 13,
   "metadata": {
    "scrolled": false
   },
   "outputs": [
    {
     "name": "stdout",
     "output_type": "stream",
     "text": [
      "Epoch 1/60\n",
      "100/100 - 102s - lr:0: 0.0010 - loss_1: 167.0444 - loss_2: 151.6123 - loss_3: 152.9364 - acc_ensemble: 0.7450 - acc_1: 0.6800 - acc_2: 0.6500 - acc_3: 0.6675\n",
      "Epoch 2/60\n",
      "100/100 - 31s - lr:0: 0.0010 - loss_1: 35.0653 - loss_2: 30.1310 - loss_3: 30.4494 - acc_ensemble: 0.8175 - acc_1: 0.7850 - acc_2: 0.7375 - acc_3: 0.7400\n",
      "Epoch 3/60\n",
      "100/100 - 31s - lr:0: 0.0010 - loss_1: 25.3002 - loss_2: 26.3500 - loss_3: 30.1687 - acc_ensemble: 0.8525 - acc_1: 0.7900 - acc_2: 0.7975 - acc_3: 0.7525\n",
      "Epoch 4/60\n",
      "100/100 - 31s - lr:0: 0.0010 - loss_1: 21.0293 - loss_2: 26.0878 - loss_3: 24.5842 - acc_ensemble: 0.8650 - acc_1: 0.7950 - acc_2: 0.8250 - acc_3: 0.7950\n",
      "Epoch 5/60\n",
      "100/100 - 31s - lr:0: 0.0010 - loss_1: 18.9316 - loss_2: 18.1389 - loss_3: 20.3237 - acc_ensemble: 0.8975 - acc_1: 0.8050 - acc_2: 0.8250 - acc_3: 0.8075\n",
      "Epoch 6/60\n",
      "100/100 - 31s - lr:0: 0.0010 - loss_1: 19.1036 - loss_2: 18.8094 - loss_3: 18.2097 - acc_ensemble: 0.8825 - acc_1: 0.8350 - acc_2: 0.8375 - acc_3: 0.8375\n",
      "Epoch 7/60\n",
      "100/100 - 30s - lr:0: 0.0010 - loss_1: 20.3043 - loss_2: 15.3554 - loss_3: 16.2963 - acc_ensemble: 0.9225 - acc_1: 0.8275 - acc_2: 0.8725 - acc_3: 0.8700\n",
      "Epoch 8/60\n",
      "100/100 - 31s - lr:0: 0.0010 - loss_1: 18.8081 - loss_2: 13.0548 - loss_3: 15.1721 - acc_ensemble: 0.9200 - acc_1: 0.8700 - acc_2: 0.8600 - acc_3: 0.8850\n",
      "Epoch 9/60\n",
      "100/100 - 31s - lr:0: 0.0010 - loss_1: 13.6595 - loss_2: 12.2160 - loss_3: 15.3899 - acc_ensemble: 0.9350 - acc_1: 0.8675 - acc_2: 0.8875 - acc_3: 0.9100\n",
      "Epoch 10/60\n",
      "100/100 - 31s - lr:0: 0.0010 - loss_1: 13.1882 - loss_2: 12.8499 - loss_3: 14.4864 - acc_ensemble: 0.9400 - acc_1: 0.8575 - acc_2: 0.8850 - acc_3: 0.9125\n",
      "Epoch 11/60\n",
      "100/100 - 30s - lr:0: 0.0010 - loss_1: 12.9009 - loss_2: 11.8477 - loss_3: 12.9071 - acc_ensemble: 0.9100 - acc_1: 0.8250 - acc_2: 0.8925 - acc_3: 0.8975\n",
      "Epoch 12/60\n",
      "100/100 - 30s - lr:0: 0.0010 - loss_1: 14.8189 - loss_2: 10.1645 - loss_3: 10.3977 - acc_ensemble: 0.9275 - acc_1: 0.8925 - acc_2: 0.8825 - acc_3: 0.8675\n",
      "Epoch 13/60\n",
      "100/100 - 31s - lr:0: 0.0010 - loss_1: 11.5072 - loss_2: 10.4378 - loss_3: 9.5580 - acc_ensemble: 0.9300 - acc_1: 0.8875 - acc_2: 0.8925 - acc_3: 0.9025\n",
      "Epoch 14/60\n",
      "100/100 - 30s - lr:0: 0.0010 - loss_1: 10.2839 - loss_2: 10.3266 - loss_3: 11.7392 - acc_ensemble: 0.9350 - acc_1: 0.9100 - acc_2: 0.8975 - acc_3: 0.8775\n",
      "Epoch 15/60\n",
      "100/100 - 30s - lr:0: 0.0010 - loss_1: 11.9508 - loss_2: 10.1995 - loss_3: 11.2203 - acc_ensemble: 0.9250 - acc_1: 0.8650 - acc_2: 0.9000 - acc_3: 0.8975\n",
      "Epoch 16/60\n",
      "100/100 - 30s - lr:0: 0.0010 - loss_1: 10.5834 - loss_2: 10.4766 - loss_3: 11.1295 - acc_ensemble: 0.9400 - acc_1: 0.9025 - acc_2: 0.8600 - acc_3: 0.8975\n",
      "Epoch 17/60\n",
      "100/100 - 30s - lr:0: 0.0010 - loss_1: 9.6731 - loss_2: 11.5183 - loss_3: 10.2962 - acc_ensemble: 0.9400 - acc_1: 0.8975 - acc_2: 0.9000 - acc_3: 0.8925\n",
      "Epoch 18/60\n",
      "100/100 - 31s - lr:0: 0.0010 - loss_1: 9.3588 - loss_2: 9.6270 - loss_3: 8.9813 - acc_ensemble: 0.9375 - acc_1: 0.9100 - acc_2: 0.9100 - acc_3: 0.9050\n",
      "Epoch 19/60\n",
      "100/100 - 31s - lr:0: 0.0010 - loss_1: 8.0726 - loss_2: 9.0739 - loss_3: 8.7141 - acc_ensemble: 0.9425 - acc_1: 0.9000 - acc_2: 0.9075 - acc_3: 0.8850\n",
      "Epoch 20/60\n",
      "100/100 - 30s - lr:0: 0.0010 - loss_1: 7.8507 - loss_2: 8.9185 - loss_3: 8.0289 - acc_ensemble: 0.9500 - acc_1: 0.9000 - acc_2: 0.9050 - acc_3: 0.9325\n",
      "Epoch 21/60\n",
      "100/100 - 31s - lr:0: 0.0010 - loss_1: 7.6757 - loss_2: 8.6278 - loss_3: 8.9526 - acc_ensemble: 0.9325 - acc_1: 0.8950 - acc_2: 0.8875 - acc_3: 0.8825\n",
      "Epoch 22/60\n",
      "100/100 - 30s - lr:0: 0.0010 - loss_1: 9.7826 - loss_2: 8.1728 - loss_3: 10.1535 - acc_ensemble: 0.9450 - acc_1: 0.8650 - acc_2: 0.9400 - acc_3: 0.8900\n",
      "Epoch 23/60\n",
      "100/100 - 31s - lr:0: 0.0010 - loss_1: 9.1403 - loss_2: 9.7136 - loss_3: 9.3497 - acc_ensemble: 0.9575 - acc_1: 0.9175 - acc_2: 0.9000 - acc_3: 0.9225\n",
      "Epoch 24/60\n",
      "100/100 - 30s - lr:0: 0.0010 - loss_1: 6.9117 - loss_2: 8.7423 - loss_3: 6.7395 - acc_ensemble: 0.9475 - acc_1: 0.9200 - acc_2: 0.9150 - acc_3: 0.9125\n",
      "Epoch 25/60\n",
      "100/100 - 31s - lr:0: 0.0010 - loss_1: 7.2010 - loss_2: 7.1605 - loss_3: 7.3461 - acc_ensemble: 0.9450 - acc_1: 0.9100 - acc_2: 0.8900 - acc_3: 0.9100\n",
      "Epoch 26/60\n",
      "100/100 - 33s - lr:0: 0.0010 - loss_1: 9.0538 - loss_2: 6.9962 - loss_3: 8.1243 - acc_ensemble: 0.9300 - acc_1: 0.8775 - acc_2: 0.9025 - acc_3: 0.9075\n",
      "Epoch 27/60\n",
      "100/100 - 32s - lr:0: 0.0010 - loss_1: 10.7854 - loss_2: 6.8092 - loss_3: 6.5542 - acc_ensemble: 0.9650 - acc_1: 0.9300 - acc_2: 0.9150 - acc_3: 0.9325\n",
      "Epoch 28/60\n",
      "100/100 - 31s - lr:0: 0.0010 - loss_1: 7.7699 - loss_2: 7.3577 - loss_3: 8.1705 - acc_ensemble: 0.9625 - acc_1: 0.8975 - acc_2: 0.8975 - acc_3: 0.9025\n",
      "Epoch 29/60\n",
      "100/100 - 32s - lr:0: 0.0010 - loss_1: 6.9072 - loss_2: 8.8786 - loss_3: 8.1367 - acc_ensemble: 0.9575 - acc_1: 0.9450 - acc_2: 0.8775 - acc_3: 0.9300\n",
      "Epoch 30/60\n",
      "100/100 - 31s - lr:0: 0.0010 - loss_1: 5.6916 - loss_2: 9.9885 - loss_3: 7.2603 - acc_ensemble: 0.9400 - acc_1: 0.9100 - acc_2: 0.8900 - acc_3: 0.9200\n",
      "Epoch 31/60\n",
      "100/100 - 31s - lr:0: 0.0010 - loss_1: 7.3545 - loss_2: 6.6587 - loss_3: 7.5249 - acc_ensemble: 0.9500 - acc_1: 0.9250 - acc_2: 0.9200 - acc_3: 0.9175\n",
      "Epoch 32/60\n",
      "100/100 - 31s - lr:0: 0.0010 - loss_1: 7.9827 - loss_2: 5.8482 - loss_3: 7.4290 - acc_ensemble: 0.9450 - acc_1: 0.9175 - acc_2: 0.9125 - acc_3: 0.9150\n",
      "Epoch 33/60\n",
      "100/100 - 30s - lr:0: 0.0010 - loss_1: 7.1455 - loss_2: 7.0386 - loss_3: 7.0395 - acc_ensemble: 0.9525 - acc_1: 0.9325 - acc_2: 0.9050 - acc_3: 0.9300\n",
      "Epoch 34/60\n",
      "100/100 - 31s - lr:0: 0.0010 - loss_1: 6.6741 - loss_2: 7.3565 - loss_3: 6.1749 - acc_ensemble: 0.9550 - acc_1: 0.9400 - acc_2: 0.8875 - acc_3: 0.9175\n",
      "Epoch 35/60\n",
      "100/100 - 31s - lr:0: 0.0010 - loss_1: 6.1584 - loss_2: 6.4559 - loss_3: 6.5194 - acc_ensemble: 0.9550 - acc_1: 0.9300 - acc_2: 0.8925 - acc_3: 0.9075\n",
      "Epoch 36/60\n",
      "100/100 - 31s - lr:0: 0.0010 - loss_1: 7.8180 - loss_2: 6.1452 - loss_3: 7.3290 - acc_ensemble: 0.9550 - acc_1: 0.8925 - acc_2: 0.9000 - acc_3: 0.9150\n",
      "Epoch 37/60\n",
      "100/100 - 31s - lr:0: 0.0010 - loss_1: 8.3536 - loss_2: 7.6514 - loss_3: 7.1993 - acc_ensemble: 0.9600 - acc_1: 0.9100 - acc_2: 0.8800 - acc_3: 0.9125\n",
      "Epoch 38/60\n",
      "100/100 - 30s - lr:0: 0.0010 - loss_1: 6.2840 - loss_2: 5.6463 - loss_3: 6.4054 - acc_ensemble: 0.9550 - acc_1: 0.9400 - acc_2: 0.9350 - acc_3: 0.8950\n",
      "Epoch 39/60\n",
      "100/100 - 31s - lr:0: 0.0010 - loss_1: 6.7422 - loss_2: 5.9449 - loss_3: 6.1229 - acc_ensemble: 0.9600 - acc_1: 0.9475 - acc_2: 0.9200 - acc_3: 0.9025\n",
      "Epoch 40/60\n",
      "100/100 - 31s - lr:0: 0.0010 - loss_1: 5.4773 - loss_2: 6.1355 - loss_3: 8.5887 - acc_ensemble: 0.9500 - acc_1: 0.9375 - acc_2: 0.9025 - acc_3: 0.9150\n",
      "Epoch 41/60\n",
      "100/100 - 31s - lr:0: 7.0795e-04 - loss_1: 4.8683 - loss_2: 5.4533 - loss_3: 5.1209 - acc_ensemble: 0.9600 - acc_1: 0.9550 - acc_2: 0.9200 - acc_3: 0.9275\n",
      "Epoch 42/60\n",
      "100/100 - 31s - lr:0: 5.0119e-04 - loss_1: 2.7624 - loss_2: 2.8473 - loss_3: 3.0910 - acc_ensemble: 0.9650 - acc_1: 0.9525 - acc_2: 0.9475 - acc_3: 0.9425\n",
      "Epoch 43/60\n",
      "100/100 - 30s - lr:0: 3.5481e-04 - loss_1: 2.3892 - loss_2: 1.6835 - loss_3: 2.2055 - acc_ensemble: 0.9675 - acc_1: 0.9675 - acc_2: 0.9500 - acc_3: 0.9525\n",
      "Epoch 44/60\n",
      "100/100 - 30s - lr:0: 2.5119e-04 - loss_1: 2.2441 - loss_2: 1.9077 - loss_3: 2.2690 - acc_ensemble: 0.9750 - acc_1: 0.9550 - acc_2: 0.9475 - acc_3: 0.9575\n",
      "Epoch 45/60\n",
      "100/100 - 31s - lr:0: 1.7783e-04 - loss_1: 1.7477 - loss_2: 1.5666 - loss_3: 1.9224 - acc_ensemble: 0.9750 - acc_1: 0.9625 - acc_2: 0.9525 - acc_3: 0.9425\n",
      "Epoch 46/60\n",
      "100/100 - 31s - lr:0: 1.2589e-04 - loss_1: 1.6617 - loss_2: 1.8619 - loss_3: 1.3709 - acc_ensemble: 0.9675 - acc_1: 0.9650 - acc_2: 0.9350 - acc_3: 0.9500\n",
      "Epoch 47/60\n",
      "100/100 - 31s - lr:0: 8.9125e-05 - loss_1: 1.4283 - loss_2: 1.4140 - loss_3: 1.5286 - acc_ensemble: 0.9675 - acc_1: 0.9650 - acc_2: 0.9525 - acc_3: 0.9400\n",
      "Epoch 48/60\n",
      "100/100 - 31s - lr:0: 6.3096e-05 - loss_1: 1.4115 - loss_2: 1.2843 - loss_3: 1.4396 - acc_ensemble: 0.9725 - acc_1: 0.9550 - acc_2: 0.9525 - acc_3: 0.9500\n",
      "Epoch 49/60\n",
      "100/100 - 31s - lr:0: 4.4668e-05 - loss_1: 1.2866 - loss_2: 1.1979 - loss_3: 1.1126 - acc_ensemble: 0.9750 - acc_1: 0.9600 - acc_2: 0.9550 - acc_3: 0.9550\n",
      "Epoch 50/60\n",
      "100/100 - 31s - lr:0: 3.1623e-05 - loss_1: 1.4693 - loss_2: 1.3159 - loss_3: 1.2073 - acc_ensemble: 0.9700 - acc_1: 0.9575 - acc_2: 0.9525 - acc_3: 0.9525\n"
     ]
    },
    {
     "name": "stdout",
     "output_type": "stream",
     "text": [
      "Epoch 51/60\n",
      "100/100 - 32s - lr:0: 2.2387e-05 - loss_1: 1.1985 - loss_2: 1.6451 - loss_3: 0.9937 - acc_ensemble: 0.9675 - acc_1: 0.9625 - acc_2: 0.9500 - acc_3: 0.9525\n",
      "Epoch 52/60\n",
      "100/100 - 31s - lr:0: 1.5849e-05 - loss_1: 1.2243 - loss_2: 1.5177 - loss_3: 1.2049 - acc_ensemble: 0.9650 - acc_1: 0.9625 - acc_2: 0.9525 - acc_3: 0.9525\n",
      "Epoch 53/60\n",
      "100/100 - 32s - lr:0: 1.1220e-05 - loss_1: 1.4071 - loss_2: 1.3666 - loss_3: 1.1754 - acc_ensemble: 0.9650 - acc_1: 0.9625 - acc_2: 0.9475 - acc_3: 0.9500\n",
      "Epoch 54/60\n",
      "100/100 - 31s - lr:0: 7.9433e-06 - loss_1: 1.1903 - loss_2: 1.2104 - loss_3: 1.2978 - acc_ensemble: 0.9700 - acc_1: 0.9625 - acc_2: 0.9500 - acc_3: 0.9525\n",
      "Epoch 55/60\n",
      "100/100 - 31s - lr:0: 5.6234e-06 - loss_1: 1.1185 - loss_2: 0.9674 - loss_3: 1.3227 - acc_ensemble: 0.9650 - acc_1: 0.9625 - acc_2: 0.9475 - acc_3: 0.9500\n",
      "Epoch 56/60\n",
      "100/100 - 31s - lr:0: 3.9811e-06 - loss_1: 1.3162 - loss_2: 1.3011 - loss_3: 1.0219 - acc_ensemble: 0.9675 - acc_1: 0.9625 - acc_2: 0.9475 - acc_3: 0.9500\n",
      "Epoch 57/60\n",
      "100/100 - 33s - lr:0: 2.8184e-06 - loss_1: 1.2757 - loss_2: 1.2939 - loss_3: 1.1475 - acc_ensemble: 0.9700 - acc_1: 0.9625 - acc_2: 0.9475 - acc_3: 0.9500\n",
      "Epoch 58/60\n",
      "100/100 - 32s - lr:0: 1.9953e-06 - loss_1: 1.0736 - loss_2: 1.2729 - loss_3: 1.1802 - acc_ensemble: 0.9700 - acc_1: 0.9625 - acc_2: 0.9475 - acc_3: 0.9500\n",
      "Epoch 59/60\n",
      "100/100 - 31s - lr:0: 1.4125e-06 - loss_1: 1.2572 - loss_2: 1.1892 - loss_3: 1.1197 - acc_ensemble: 0.9700 - acc_1: 0.9625 - acc_2: 0.9475 - acc_3: 0.9500\n",
      "Epoch 60/60\n",
      "100/100 - 31s - lr:0: 1.0000e-06 - loss_1: 1.3045 - loss_2: 1.0851 - loss_3: 1.2358 - acc_ensemble: 0.9700 - acc_1: 0.9625 - acc_2: 0.9475 - acc_3: 0.9500\n"
     ]
    }
   ],
   "source": [
    "history = model.fit(EPOCHS, STEPS_PER_EPOCH, log_path=model_path if SAVE else None)"
   ]
  },
  {
   "cell_type": "markdown",
   "metadata": {},
   "source": [
    "## Evaluation"
   ]
  },
  {
   "cell_type": "markdown",
   "metadata": {},
   "source": [
    "### Baseline"
   ]
  },
  {
   "cell_type": "code",
   "execution_count": 15,
   "metadata": {},
   "outputs": [
    {
     "name": "stdout",
     "output_type": "stream",
     "text": [
      "WARNING:tensorflow:From /home/gong/anaconda3/lib/python3.5/site-packages/tensorflow/python/training/saver.py:1266: checkpoint_exists (from tensorflow.python.training.checkpoint_management) is deprecated and will be removed in a future version.\n",
      "Instructions for updating:\n",
      "Use standard file APIs to check for files with this prefix.\n",
      "INFO:tensorflow:Restoring parameters from models/omniglot-res_1/ckpt\n",
      "Model 1 acc: 0.8049999999999999\n",
      "Mean acc: 0.8049999999999999 , std: 0.0\n"
     ]
    }
   ],
   "source": [
    "assert NUM_BRANCHES == 1\n",
    "\n",
    "model_id_list = [1]\n",
    "baseline_acc_list = []\n",
    "\n",
    "for model_id in model_id_list:\n",
    "    tf.reset_default_graph()\n",
    "    model_name = '{}-{}_{:d}'.format(DATASET, ARCHITECTURE, MODEL_ID)\n",
    "    model_path = os.path.join('models', model_name)\n",
    "    \n",
    "    with TFSessionGrow() as sess:\n",
    "        restore_sess(sess, model_path)\n",
    "        acc = baseline_one_shot(sess, model_name='model_'+str(model_id))\n",
    "        print('Model {} acc:'.format(model_id), acc)\n",
    "        baseline_acc_list.append(acc)\n",
    "        \n",
    "print('Mean acc:', np.mean(baseline_acc_list), ', std:', np.std(baseline_acc_list))"
   ]
  },
  {
   "cell_type": "markdown",
   "metadata": {},
   "source": [
    "### Virtual Branching"
   ]
  },
  {
   "cell_type": "code",
   "execution_count": 8,
   "metadata": {},
   "outputs": [
    {
     "name": "stdout",
     "output_type": "stream",
     "text": [
      "WARNING:tensorflow:From /home/gong/anaconda3/lib/python3.5/site-packages/tensorflow/python/training/saver.py:1266: checkpoint_exists (from tensorflow.python.training.checkpoint_management) is deprecated and will be removed in a future version.\n",
      "Instructions for updating:\n",
      "Use standard file APIs to check for files with this prefix.\n",
      "INFO:tensorflow:Restoring parameters from models/vb-omniglot-res-B2-S0.25_1/ckpt\n",
      "Model 1 acc: 0.8375 [0.7849999999999999, 0.8125]\n",
      "Mean acc: 0.8375 , std: 0.0\n"
     ]
    }
   ],
   "source": [
    "model_id_list = [1]\n",
    "vbranch_acc_list = []\n",
    "\n",
    "for model_id in model_id_list:\n",
    "    tf.reset_default_graph()\n",
    "    \n",
    "    model_name = 'vb-{}-{}-B{:d}-S{:.2f}_{:d}'.format(dataset, architecture,\n",
    "                                            NUM_BRANCHES, SHARED_FRAC, model_id)\n",
    "    model_path = os.path.join('models', model_name)\n",
    "    \n",
    "    with TFSessionGrow() as sess:\n",
    "        restore_sess(sess, model_path)    \n",
    "        acc, branch_acc = vbranch_one_shot(sess, model_name='model_'+str(model_id), \n",
    "                                           n_branches=NUM_BRANCHES)\n",
    "        print('Model {} acc:'.format(model_id), acc, branch_acc)\n",
    "        vbranch_acc_list.append(acc)\n",
    "        \n",
    "print('Mean acc:', np.mean(vbranch_acc_list), ', std:', np.std(vbranch_acc_list))"
   ]
  },
  {
   "cell_type": "code",
   "execution_count": null,
   "metadata": {},
   "outputs": [],
   "source": []
  }
 ],
 "metadata": {
  "kernelspec": {
   "display_name": "Python 3",
   "language": "python",
   "name": "python3"
  },
  "language_info": {
   "codemirror_mode": {
    "name": "ipython",
    "version": 3
   },
   "file_extension": ".py",
   "mimetype": "text/x-python",
   "name": "python",
   "nbconvert_exporter": "python",
   "pygments_lexer": "ipython3",
   "version": "3.6.0"
  }
 },
 "nbformat": 4,
 "nbformat_minor": 2
}
