{
 "cells": [
  {
   "cell_type": "markdown",
   "metadata": {},
   "source": [
    "# Omnigot One-Shot"
   ]
  },
  {
   "cell_type": "code",
   "execution_count": 1,
   "metadata": {},
   "outputs": [],
   "source": [
    "import tensorflow as tf\n",
    "import numpy as np\n",
    "import os\n",
    "import zipfile\n",
    "import matplotlib.pyplot as plt\n",
    "import copy\n",
    "import cv2\n",
    "from scipy.spatial import distance"
   ]
  },
  {
   "cell_type": "code",
   "execution_count": 2,
   "metadata": {},
   "outputs": [],
   "source": [
    "import vbranch\n",
    "from vbranch.data import Omniglot"
   ]
  },
  {
   "cell_type": "code",
   "execution_count": 3,
   "metadata": {},
   "outputs": [],
   "source": [
    "save = True\n",
    "model_id = 4"
   ]
  },
  {
   "cell_type": "markdown",
   "metadata": {},
   "source": [
    "## Load Data"
   ]
  },
  {
   "cell_type": "code",
   "execution_count": 4,
   "metadata": {},
   "outputs": [],
   "source": [
    "if not os.path.isdir('./omniglot/python/images_background'):\n",
    "    with zipfile.ZipFile('./omniglot/python/images_background.zip','r') as zip_ref:\n",
    "        zip_ref.extractall('./omniglot/python')\n",
    "        \n",
    "if not os.path.isdir('./omniglot/python/images_evaluation'):\n",
    "    with zipfile.ZipFile('./omniglot/python/images_evaluation.zip','r') as zip_ref:\n",
    "        zip_ref.extractall('./omniglot/python')"
   ]
  },
  {
   "cell_type": "code",
   "execution_count": 5,
   "metadata": {},
   "outputs": [],
   "source": [
    "train_generator = Omniglot('./omniglot/python/images_background/')\n",
    "test_generator = Omniglot('./omniglot/python/images_evaluation')"
   ]
  },
  {
   "cell_type": "code",
   "execution_count": 6,
   "metadata": {},
   "outputs": [],
   "source": [
    "batch = train_generator.next(4, 4, 4, flatten=False)"
   ]
  },
  {
   "cell_type": "code",
   "execution_count": 7,
   "metadata": {},
   "outputs": [
    {
     "data": {
      "image/png": "[encoded data removed]",
      "text/plain": [
       "<Figure size 432x288 with 1 Axes>"
      ]
     },
     "metadata": {
      "needs_background": "light"
     },
     "output_type": "display_data"
    }
   ],
   "source": [
    "plt.imshow(batch[2, 3, 0].squeeze(), cmap=plt.cm.gray)\n",
    "plt.show()"
   ]
  },
  {
   "cell_type": "markdown",
   "metadata": {},
   "source": [
    "## Build Model"
   ]
  },
  {
   "cell_type": "code",
   "execution_count": 8,
   "metadata": {},
   "outputs": [],
   "source": [
    "EPOCHS = 90\n",
    "T_0 = 30\n",
    "STEPS_PER_EPOCH = 100\n",
    "model_path = './models/omniglot_' + str(model_id)\n",
    "A, P, K = 4, 8, 4 # triplet batch specs\n",
    "output_dim = 128\n",
    "input_dim = [None, 105, 105, 1]"
   ]
  },
  {
   "cell_type": "code",
   "execution_count": 9,
   "metadata": {},
   "outputs": [],
   "source": [
    "if not os.path.isdir('./models'):\n",
    "    os.system('mkdir models')"
   ]
  },
  {
   "cell_type": "code",
   "execution_count": 10,
   "metadata": {},
   "outputs": [],
   "source": [
    "def batch_gen(A, P, K):\n",
    "    def func():\n",
    "        while True:\n",
    "            batch = train_generator.next(A, P, K)\n",
    "            batch = batch.astype('float32')\n",
    "            yield batch\n",
    "    return func"
   ]
  },
  {
   "cell_type": "code",
   "execution_count": 11,
   "metadata": {},
   "outputs": [],
   "source": [
    "tf.reset_default_graph()\n",
    "\n",
    "train_dataset = tf.data.Dataset.from_generator(batch_gen(A, P, K), 'float32', \n",
    "                                                 output_shapes=input_dim)\n",
    "\n",
    "# Dataset for feeding non-triplet batched images from memory\n",
    "x = tf.placeholder('float32', input_dim, name='x')\n",
    "batch_size = tf.placeholder('int64', name='batch_size')\n",
    "test_dataset = tf.data.Dataset.from_tensor_slices(x).batch(batch_size)\n",
    "\n",
    "iter_ = tf.data.Iterator.from_structure('float32', input_dim)\n",
    "train_init_op = iter_.make_initializer(train_dataset)\n",
    "test_init_op = iter_.make_initializer(test_dataset, name='test_init_op')\n",
    "\n",
    "inputs = iter_.get_next()"
   ]
  },
  {
   "cell_type": "code",
   "execution_count": 12,
   "metadata": {},
   "outputs": [],
   "source": [
    "with tf.variable_scope('model_' + str(model_id)):\n",
    "    model = vbranch.models.simple_cnn(inputs, output_dim, 32, 64, 128, 256)"
   ]
  },
  {
   "cell_type": "code",
   "execution_count": 13,
   "metadata": {},
   "outputs": [
    {
     "name": "stdout",
     "output_type": "stream",
     "text": [
      "i   Layer name          Output shape        Parameters                    Num param \n",
      "------------------------------------------------------------------------------------\n",
      "    Input               [None,105,105,1]                                            \n",
      "------------------------------------------------------------------------------------\n",
      "0   bn_1_1              [None,105,105,1]    (1,) (1,)                     2         \n",
      "------------------------------------------------------------------------------------\n",
      "1   relu_1_1            [None,105,105,1]                                  0         \n",
      "------------------------------------------------------------------------------------\n",
      "2   conv2d_1_1          [None,103,103,32]   (3,3,1,32) (32,)              320       \n",
      "------------------------------------------------------------------------------------\n",
      "3   bn_1_2              [None,103,103,32]   (32,) (32,)                   64        \n",
      "------------------------------------------------------------------------------------\n",
      "4   relu_1_2            [None,103,103,32]                                 0         \n",
      "------------------------------------------------------------------------------------\n",
      "5   conv2d_1_2          [None,101,101,32]   (3,3,32,32) (32,)             9248      \n",
      "------------------------------------------------------------------------------------\n",
      "6   avg_pool2d_1        [None,50,50,32]                                   0         \n",
      "------------------------------------------------------------------------------------\n",
      "7   bn_2_1              [None,50,50,32]     (32,) (32,)                   64        \n",
      "------------------------------------------------------------------------------------\n",
      "8   relu_2_1            [None,50,50,32]                                   0         \n",
      "------------------------------------------------------------------------------------\n",
      "9   conv2d_2_1          [None,48,48,64]     (3,3,32,64) (64,)             18496     \n",
      "------------------------------------------------------------------------------------\n",
      "10  bn_2_2              [None,48,48,64]     (64,) (64,)                   128       \n",
      "------------------------------------------------------------------------------------\n",
      "11  relu_2_2            [None,48,48,64]                                   0         \n",
      "------------------------------------------------------------------------------------\n",
      "12  conv2d_2_2          [None,46,46,64]     (3,3,64,64) (64,)             36928     \n",
      "------------------------------------------------------------------------------------\n",
      "13  avg_pool2d_2        [None,23,23,64]                                   0         \n",
      "------------------------------------------------------------------------------------\n",
      "14  bn_3_1              [None,23,23,64]     (64,) (64,)                   128       \n",
      "------------------------------------------------------------------------------------\n",
      "15  relu_3_1            [None,23,23,64]                                   0         \n",
      "------------------------------------------------------------------------------------\n",
      "16  conv2d_3_1          [None,21,21,128]    (3,3,64,128) (128,)           73856     \n",
      "------------------------------------------------------------------------------------\n",
      "17  bn_3_2              [None,21,21,128]    (128,) (128,)                 256       \n",
      "------------------------------------------------------------------------------------\n",
      "18  relu_3_2            [None,21,21,128]                                  0         \n",
      "------------------------------------------------------------------------------------\n",
      "19  conv2d_3_2          [None,19,19,128]    (3,3,128,128) (128,)          147584    \n",
      "------------------------------------------------------------------------------------\n",
      "20  avg_pool2d_3        [None,9,9,128]                                    0         \n",
      "------------------------------------------------------------------------------------\n",
      "21  bn_4_1              [None,9,9,128]      (128,) (128,)                 256       \n",
      "------------------------------------------------------------------------------------\n",
      "22  relu_4_1            [None,9,9,128]                                    0         \n",
      "------------------------------------------------------------------------------------\n",
      "23  conv2d_4_1          [None,7,7,256]      (3,3,128,256) (256,)          295168    \n",
      "------------------------------------------------------------------------------------\n",
      "24  bn_4_2              [None,7,7,256]      (256,) (256,)                 512       \n",
      "------------------------------------------------------------------------------------\n",
      "25  relu_4_2            [None,7,7,256]                                    0         \n",
      "------------------------------------------------------------------------------------\n",
      "26  conv2d_4_2          [None,5,5,256]      (3,3,256,256) (256,)          590080    \n",
      "------------------------------------------------------------------------------------\n",
      "27  global_avg_pool2d   [None,256]                                        0         \n",
      "------------------------------------------------------------------------------------\n",
      "28  fc1                 [None,256]          (256,256) (256,)              65792     \n",
      "------------------------------------------------------------------------------------\n",
      "29  bn_fc1              [None,256]          (256,) (256,)                 512       \n",
      "------------------------------------------------------------------------------------\n",
      "30  relu_fc1            [None,256]                                        0         \n",
      "------------------------------------------------------------------------------------\n",
      "31  output              [None,128]          (256,128) (128,)              32896     \n",
      "------------------------------------------------------------------------------------\n",
      "Total parameters: 1272290\n"
     ]
    }
   ],
   "source": [
    "model.summary()"
   ]
  },
  {
   "cell_type": "code",
   "execution_count": 14,
   "metadata": {},
   "outputs": [],
   "source": [
    "def lr_exp_decay_scheduler(init_lr, t0, t1, decay):\n",
    "    \"\"\"NOTE: `episode` starts from 1\"\"\"\n",
    "    def func(episode):\n",
    "        if episode < t0:\n",
    "            return init_lr\n",
    "        lr = init_lr * np.power(decay, (episode - t0) / (t1 - t0))\n",
    "        return lr\n",
    "    return func"
   ]
  },
  {
   "cell_type": "code",
   "execution_count": 15,
   "metadata": {},
   "outputs": [
    {
     "data": {
      "image/png": "[encoded data removed]",
      "text/plain": [
       "<Figure size 432x288 with 1 Axes>"
      ]
     },
     "metadata": {
      "needs_background": "light"
     },
     "output_type": "display_data"
    }
   ],
   "source": [
    "lr_scheduler = lr_exp_decay_scheduler(0.001, T_0, EPOCHS, 0.001)\n",
    "lr_steps = [lr_scheduler(e + 1) for e in range(EPOCHS)]\n",
    "plt.plot(lr_steps)\n",
    "plt.show()"
   ]
  },
  {
   "cell_type": "code",
   "execution_count": 16,
   "metadata": {},
   "outputs": [],
   "source": [
    "loss = vbranch.losses.triplet_omniglot(model.output, A, P, K, 'loss')\n",
    "lr = tf.placeholder('float32', name='lr')\n",
    "train_op = tf.train.AdamOptimizer(learning_rate=lr).minimize(loss)"
   ]
  },
  {
   "cell_type": "code",
   "execution_count": 17,
   "metadata": {
    "scrolled": false
   },
   "outputs": [
    {
     "name": "stdout",
     "output_type": "stream",
     "text": [
      "Epoch 1/90\n",
      "100/100 [==============================] - 30s 301ms/step - loss: 203.2345 - lr: 0.0010\n",
      "Epoch 2/90\n",
      "100/100 [==============================] - 17s 171ms/step - loss: 34.3832 - lr: 0.0010\n",
      "Epoch 3/90\n",
      "100/100 [==============================] - 17s 171ms/step - loss: 30.9500 - lr: 0.0010\n",
      "Epoch 4/90\n",
      "100/100 [==============================] - 17s 170ms/step - loss: 28.1805 - lr: 0.0010\n",
      "Epoch 5/90\n",
      "100/100 [==============================] - 17s 171ms/step - loss: 26.9174 - lr: 0.0010\n",
      "Epoch 6/90\n",
      "100/100 [==============================] - 17s 170ms/step - loss: 25.4925 - lr: 0.0010\n",
      "Epoch 7/90\n",
      "100/100 [==============================] - 17s 170ms/step - loss: 24.4774 - lr: 0.0010\n",
      "Epoch 8/90\n",
      "100/100 [==============================] - 17s 170ms/step - loss: 23.0067 - lr: 0.0010\n",
      "Epoch 9/90\n",
      "100/100 [==============================] - 17s 170ms/step - loss: 20.2327 - lr: 0.0010\n",
      "Epoch 10/90\n",
      "100/100 [==============================] - 17s 170ms/step - loss: 18.7231 - lr: 0.0010\n",
      "Epoch 11/90\n",
      "100/100 [==============================] - 17s 170ms/step - loss: 18.1981 - lr: 0.0010\n",
      "Epoch 12/90\n",
      "100/100 [==============================] - 17s 170ms/step - loss: 18.2818 - lr: 0.0010\n",
      "Epoch 13/90\n",
      "100/100 [==============================] - 17s 170ms/step - loss: 18.4706 - lr: 0.0010\n",
      "Epoch 14/90\n",
      "100/100 [==============================] - 17s 170ms/step - loss: 21.3396 - lr: 0.0010\n",
      "Epoch 15/90\n",
      "100/100 [==============================] - 17s 171ms/step - loss: 17.6926 - lr: 0.0010\n",
      "Epoch 16/90\n",
      "100/100 [==============================] - 17s 170ms/step - loss: 16.7432 - lr: 0.0010\n",
      "Epoch 17/90\n",
      "100/100 [==============================] - 17s 170ms/step - loss: 15.9965 - lr: 0.0010\n",
      "Epoch 18/90\n",
      "100/100 [==============================] - 17s 170ms/step - loss: 14.9217 - lr: 0.0010\n",
      "Epoch 19/90\n",
      "100/100 [==============================] - 17s 170ms/step - loss: 16.6859 - lr: 0.0010\n",
      "Epoch 20/90\n",
      "100/100 [==============================] - 17s 171ms/step - loss: 17.3265 - lr: 0.0010\n",
      "Epoch 21/90\n",
      "100/100 [==============================] - 17s 172ms/step - loss: 17.7059 - lr: 0.0010\n",
      "Epoch 22/90\n",
      "100/100 [==============================] - 17s 170ms/step - loss: 14.5998 - lr: 0.0010\n",
      "Epoch 23/90\n",
      "100/100 [==============================] - 17s 170ms/step - loss: 16.0596 - lr: 0.0010\n",
      "Epoch 24/90\n",
      "100/100 [==============================] - 17s 170ms/step - loss: 15.8467 - lr: 0.0010\n",
      "Epoch 25/90\n",
      "100/100 [==============================] - 17s 170ms/step - loss: 14.3008 - lr: 0.0010\n",
      "Epoch 26/90\n",
      "100/100 [==============================] - 17s 170ms/step - loss: 15.3702 - lr: 0.0010\n",
      "Epoch 27/90\n",
      "100/100 [==============================] - 17s 170ms/step - loss: 16.5934 - lr: 0.0010\n",
      "Epoch 28/90\n",
      "100/100 [==============================] - 17s 170ms/step - loss: 12.8635 - lr: 0.0010\n",
      "Epoch 29/90\n",
      "100/100 [==============================] - 17s 170ms/step - loss: 14.1854 - lr: 0.0010\n",
      "Epoch 30/90\n",
      "100/100 [==============================] - 17s 170ms/step - loss: 12.9952 - lr: 0.0010\n",
      "Epoch 31/90\n",
      "100/100 [==============================] - 17s 170ms/step - loss: 11.1737 - lr: 8.9125e-04\n",
      "Epoch 32/90\n",
      "100/100 [==============================] - 17s 171ms/step - loss: 9.6740 - lr: 7.9433e-04\n",
      "Epoch 33/90\n",
      "100/100 [==============================] - 17s 170ms/step - loss: 8.5724 - lr: 7.0795e-04\n",
      "Epoch 34/90\n",
      "100/100 [==============================] - 17s 170ms/step - loss: 8.3749 - lr: 6.3096e-04\n",
      "Epoch 35/90\n",
      "100/100 [==============================] - 17s 170ms/step - loss: 7.0713 - lr: 5.6234e-04\n",
      "Epoch 36/90\n",
      "100/100 [==============================] - 17s 171ms/step - loss: 6.8322 - lr: 5.0119e-04\n",
      "Epoch 37/90\n",
      "100/100 [==============================] - 17s 171ms/step - loss: 5.8118 - lr: 4.4668e-04\n",
      "Epoch 38/90\n",
      "100/100 [==============================] - 17s 170ms/step - loss: 5.6723 - lr: 3.9811e-04\n",
      "Epoch 39/90\n",
      "100/100 [==============================] - 17s 170ms/step - loss: 4.7676 - lr: 3.5481e-04\n",
      "Epoch 40/90\n",
      "100/100 [==============================] - 17s 170ms/step - loss: 4.9218 - lr: 3.1623e-04\n",
      "Epoch 41/90\n",
      "100/100 [==============================] - 17s 170ms/step - loss: 3.7571 - lr: 2.8184e-04\n",
      "Epoch 42/90\n",
      "100/100 [==============================] - 17s 171ms/step - loss: 3.8978 - lr: 2.5119e-04\n",
      "Epoch 43/90\n",
      "100/100 [==============================] - 17s 170ms/step - loss: 3.4133 - lr: 2.2387e-04\n",
      "Epoch 44/90\n",
      "100/100 [==============================] - 17s 170ms/step - loss: 3.5054 - lr: 1.9953e-04\n",
      "Epoch 45/90\n",
      "100/100 [==============================] - 17s 170ms/step - loss: 3.1187 - lr: 1.7783e-04\n",
      "Epoch 46/90\n",
      "100/100 [==============================] - 17s 170ms/step - loss: 3.2970 - lr: 1.5849e-04\n",
      "Epoch 47/90\n",
      "100/100 [==============================] - 17s 170ms/step - loss: 2.8588 - lr: 1.4125e-04\n",
      "Epoch 48/90\n",
      "100/100 [==============================] - 17s 170ms/step - loss: 2.6963 - lr: 1.2589e-04\n",
      "Epoch 49/90\n",
      "100/100 [==============================] - 17s 170ms/step - loss: 2.3675 - lr: 1.1220e-04\n",
      "Epoch 50/90\n",
      "100/100 [==============================] - 17s 170ms/step - loss: 2.5333 - lr: 1.0000e-04\n",
      "Epoch 51/90\n",
      "100/100 [==============================] - 17s 170ms/step - loss: 2.2246 - lr: 8.9125e-05\n",
      "Epoch 52/90\n",
      "100/100 [==============================] - 17s 171ms/step - loss: 2.3380 - lr: 7.9433e-05\n",
      "Epoch 53/90\n",
      "100/100 [==============================] - 17s 170ms/step - loss: 2.3777 - lr: 7.0795e-05\n",
      "Epoch 54/90\n",
      "100/100 [==============================] - 17s 170ms/step - loss: 2.2656 - lr: 6.3096e-05\n",
      "Epoch 55/90\n",
      "100/100 [==============================] - 17s 170ms/step - loss: 2.0346 - lr: 5.6234e-05\n",
      "Epoch 56/90\n",
      "100/100 [==============================] - 17s 170ms/step - loss: 1.9217 - lr: 5.0119e-05\n",
      "Epoch 57/90\n",
      "100/100 [==============================] - 17s 170ms/step - loss: 2.1567 - lr: 4.4668e-05\n",
      "Epoch 58/90\n",
      "100/100 [==============================] - 17s 170ms/step - loss: 1.9040 - lr: 3.9811e-05\n",
      "Epoch 59/90\n",
      "100/100 [==============================] - 17s 170ms/step - loss: 1.9650 - lr: 3.5481e-05\n",
      "Epoch 60/90\n",
      "100/100 [==============================] - 17s 170ms/step - loss: 1.9719 - lr: 3.1623e-05\n",
      "Epoch 61/90\n",
      "100/100 [==============================] - 17s 170ms/step - loss: 1.8095 - lr: 2.8184e-05\n",
      "Epoch 62/90\n",
      "100/100 [==============================] - 17s 170ms/step - loss: 2.0159 - lr: 2.5119e-05\n",
      "Epoch 63/90\n",
      "100/100 [==============================] - 17s 171ms/step - loss: 1.5719 - lr: 2.2387e-05\n",
      "Epoch 64/90\n",
      "100/100 [==============================] - 17s 170ms/step - loss: 1.7234 - lr: 1.9953e-05\n",
      "Epoch 65/90\n",
      "100/100 [==============================] - 17s 171ms/step - loss: 1.5348 - lr: 1.7783e-05\n",
      "Epoch 66/90\n",
      "100/100 [==============================] - 17s 170ms/step - loss: 1.7610 - lr: 1.5849e-05\n",
      "Epoch 67/90\n",
      "100/100 [==============================] - 17s 174ms/step - loss: 1.6748 - lr: 1.4125e-05\n",
      "Epoch 68/90\n",
      "100/100 [==============================] - 17s 173ms/step - loss: 1.7791 - lr: 1.2589e-05\n",
      "Epoch 69/90\n",
      "100/100 [==============================] - 17s 175ms/step - loss: 1.6820 - lr: 1.1220e-05\n",
      "Epoch 70/90\n",
      "100/100 [==============================] - 17s 172ms/step - loss: 1.7199 - lr: 1.0000e-05\n",
      "Epoch 71/90\n",
      "100/100 [==============================] - 17s 170ms/step - loss: 1.8953 - lr: 8.9125e-06\n",
      "Epoch 72/90\n",
      "100/100 [==============================] - 17s 171ms/step - loss: 1.6850 - lr: 7.9433e-06\n",
      "Epoch 73/90\n",
      "100/100 [==============================] - 17s 171ms/step - loss: 1.7150 - lr: 7.0795e-06\n",
      "Epoch 74/90\n",
      "100/100 [==============================] - 17s 170ms/step - loss: 1.5930 - lr: 6.3096e-06\n",
      "Epoch 75/90\n",
      "100/100 [==============================] - 17s 170ms/step - loss: 1.6698 - lr: 5.6234e-06\n",
      "Epoch 76/90\n",
      "100/100 [==============================] - 17s 171ms/step - loss: 1.5004 - lr: 5.0119e-06\n",
      "Epoch 77/90\n",
      "100/100 [==============================] - 17s 171ms/step - loss: 1.4696 - lr: 4.4668e-06\n",
      "Epoch 78/90\n",
      "100/100 [==============================] - 17s 171ms/step - loss: 1.7950 - lr: 3.9811e-06\n",
      "Epoch 79/90\n",
      "100/100 [==============================] - 17s 171ms/step - loss: 1.6429 - lr: 3.5481e-06\n",
      "Epoch 80/90\n",
      "100/100 [==============================] - 17s 171ms/step - loss: 1.5495 - lr: 3.1623e-06\n",
      "Epoch 81/90\n",
      "100/100 [==============================] - 17s 171ms/step - loss: 1.6078 - lr: 2.8184e-06\n",
      "Epoch 82/90\n"
     ]
    },
    {
     "name": "stdout",
     "output_type": "stream",
     "text": [
      "100/100 [==============================] - 17s 170ms/step - loss: 1.6950 - lr: 2.5119e-06\n",
      "Epoch 83/90\n",
      "100/100 [==============================] - 17s 170ms/step - loss: 1.7604 - lr: 2.2387e-06\n",
      "Epoch 84/90\n",
      "100/100 [==============================] - 17s 171ms/step - loss: 1.4979 - lr: 1.9953e-06\n",
      "Epoch 85/90\n",
      "100/100 [==============================] - 17s 170ms/step - loss: 1.7408 - lr: 1.7783e-06\n",
      "Epoch 86/90\n",
      "100/100 [==============================] - 17s 170ms/step - loss: 1.6331 - lr: 1.5849e-06\n",
      "Epoch 87/90\n",
      "100/100 [==============================] - 17s 170ms/step - loss: 1.7148 - lr: 1.4125e-06\n",
      "Epoch 88/90\n",
      "100/100 [==============================] - 17s 171ms/step - loss: 1.5886 - lr: 1.2589e-06\n",
      "Epoch 89/90\n",
      "100/100 [==============================] - 17s 172ms/step - loss: 1.7311 - lr: 1.1220e-06\n",
      "Epoch 90/90\n",
      "100/100 [==============================] - 17s 170ms/step - loss: 1.5580 - lr: 1.0000e-06\n"
     ]
    }
   ],
   "source": [
    "with tf.Session() as sess:\n",
    "    sess.run(tf.global_variables_initializer())\n",
    "    sess.run(train_init_op)\n",
    "\n",
    "    for e in range(EPOCHS):\n",
    "        print(\"Epoch {}/{}\".format(e + 1, EPOCHS))\n",
    "        progbar = tf.keras.utils.Progbar(STEPS_PER_EPOCH)\n",
    "        \n",
    "        learning_rate = lr_scheduler(e + 1)\n",
    "        for i in range(STEPS_PER_EPOCH):\n",
    "            _, loss_value = sess.run([train_op, loss], feed_dict={lr:learning_rate})\n",
    "            progbar.update(i + 1, values=[('loss', loss_value), ('lr', learning_rate)])\n",
    "    \n",
    "    if save:\n",
    "        saver = tf.train.Saver()\n",
    "        path = os.path.join(model_path, 'ckpt')\n",
    "        saver.save(sess, path)"
   ]
  },
  {
   "cell_type": "markdown",
   "metadata": {},
   "source": [
    "## Model Ensemble"
   ]
  },
  {
   "cell_type": "code",
   "execution_count": 18,
   "metadata": {},
   "outputs": [],
   "source": [
    "def restore_sess(sess, model_path):\n",
    "    meta_path = os.path.join(model_path, 'ckpt.meta')\n",
    "    ckpt = tf.train.get_checkpoint_state(model_path)\n",
    "\n",
    "    imported_graph = tf.train.import_meta_graph(meta_path)\n",
    "    imported_graph.restore(sess, ckpt.model_checkpoint_path)"
   ]
  },
  {
   "cell_type": "code",
   "execution_count": 19,
   "metadata": {},
   "outputs": [],
   "source": [
    "def get_run(n_run):\n",
    "    all_runs = './omniglot/python/one-shot-classification/all_runs'\n",
    "    \n",
    "    if not os.path.isdir(all_runs):\n",
    "        with zipfile.ZipFile(all_runs + '.zip','r') as zip_ref:\n",
    "            zip_ref.extractall(all_runs)\n",
    "    \n",
    "    run_path = os.path.join(all_runs,'run%02d'%n_run,'class_labels.txt')\n",
    "    with open(run_path) as f:\n",
    "        content = f.read().splitlines()\n",
    "\n",
    "    pairs = [line.split() for line in content]\n",
    "    test_files  = [pair[0] for pair in pairs]\n",
    "    train_files = [pair[1] for pair in pairs]\n",
    "\n",
    "    answers_files = copy.copy(train_files)\n",
    "    test_files.sort()\n",
    "    train_files.sort()\n",
    "    \n",
    "    def f_load(f):\n",
    "        path = os.path.join(all_runs, f)\n",
    "        return cv2.imread(path)[..., 0]\n",
    "\n",
    "    train_imgs = np.stack([f_load(f) for f in train_files]).\\\n",
    "                        astype('float32')[..., np.newaxis]\n",
    "    test_imgs  = np.stack([f_load(f) for f in test_files]).\\\n",
    "                        astype('float32')[..., np.newaxis]\n",
    "\n",
    "    return train_files, test_files, train_imgs, test_imgs, answers_files"
   ]
  },
  {
   "cell_type": "code",
   "execution_count": 20,
   "metadata": {},
   "outputs": [],
   "source": [
    "def compute_one_shot_acc(test_pred, train_pred, train_files, answers_files):\n",
    "    n_test = len(test_pred)\n",
    "    n_train = len(train_pred)\n",
    "    \n",
    "    distM = np.zeros((n_test, n_train))\n",
    "    for i in range(n_test):\n",
    "        for c in range(n_train):\n",
    "            distM[i,c] = distance.euclidean(test_pred[i],train_pred[c])\n",
    "            \n",
    "    YHAT = np.argmin(distM, axis=1)\n",
    "    \n",
    "    # compute the error rate\n",
    "    correct = 0.0\n",
    "    for i in range(n_test):\n",
    "        if train_files[YHAT[i]] == answers_files[i]:\n",
    "            correct += 1.0\n",
    "        \n",
    "    return correct / n_test"
   ]
  },
  {
   "cell_type": "code",
   "execution_count": 21,
   "metadata": {},
   "outputs": [
    {
     "name": "stdout",
     "output_type": "stream",
     "text": [
      "INFO:tensorflow:Restoring parameters from ./models/omniglot_1/ckpt\n",
      "INFO:tensorflow:Restoring parameters from ./models/omniglot_2/ckpt\n",
      "INFO:tensorflow:Restoring parameters from ./models/omniglot_3/ckpt\n",
      "INFO:tensorflow:Restoring parameters from ./models/omniglot_4/ckpt\n"
     ]
    }
   ],
   "source": [
    "total_runs = 20\n",
    "train_pred_runs = [[] for _ in range(total_runs)]\n",
    "test_pred_runs = [[] for _ in range(total_runs)]\n",
    "\n",
    "run_data = [get_run(r+1) for r in range(total_runs)]\n",
    "\n",
    "num_models = model_id\n",
    "\n",
    "for i in range(num_models):\n",
    "    graph = tf.Graph()\n",
    "    sess = tf.Session(graph=graph)\n",
    "    \n",
    "    with sess.as_default(), graph.as_default():\n",
    "        restore_sess(sess, './models/omniglot_' + str(i + 1))\n",
    "        \n",
    "        for r in range(total_runs):\n",
    "            train_files,test_files,train_imgs,test_imgs,answers_files = run_data[r]\n",
    "            \n",
    "            feed_dict = {'x:0':train_imgs, 'batch_size:0':len(train_imgs)}\n",
    "            sess.run('test_init_op', feed_dict=feed_dict)\n",
    "            train_pred_runs[r].append(sess.run('model_%d'%(i+1)+'/'+'output:0'))\n",
    "    \n",
    "            feed_dict = {'x:0':test_imgs, 'batch_size:0':len(test_imgs)}\n",
    "            sess.run('test_init_op', feed_dict=feed_dict)\n",
    "            test_pred_runs[r].append(sess.run('model_%d'%(i+1)+'/'+'output:0'))"
   ]
  },
  {
   "cell_type": "markdown",
   "metadata": {},
   "source": [
    "### Average Embedding"
   ]
  },
  {
   "cell_type": "code",
   "execution_count": 22,
   "metadata": {},
   "outputs": [],
   "source": [
    "mean_acc_runs = []\n",
    "for r in range(total_runs):\n",
    "    test_embed = np.mean(test_pred_runs[r], axis=0)\n",
    "    train_embed = np.mean(train_pred_runs[r], axis=0)\n",
    "    train_files = run_data[r][0]\n",
    "    answers_files = run_data[r][-1]\n",
    "    \n",
    "    acc = compute_one_shot_acc(test_embed, train_embed,train_files, answers_files)\n",
    "    mean_acc_runs.append(acc)"
   ]
  },
  {
   "cell_type": "code",
   "execution_count": 23,
   "metadata": {},
   "outputs": [
    {
     "name": "stdout",
     "output_type": "stream",
     "text": [
      "[0.8, 0.7, 0.95, 0.8, 0.85, 0.95, 0.75, 0.65, 0.65, 0.75, 1.0, 0.7, 0.65, 0.9, 0.95, 1.0, 0.8, 0.95, 0.7, 0.75]\n",
      "0.8125\n"
     ]
    }
   ],
   "source": [
    "print(mean_acc_runs)\n",
    "print(np.mean(mean_acc_runs))"
   ]
  },
  {
   "cell_type": "markdown",
   "metadata": {},
   "source": [
    "### Concatenate Embedding"
   ]
  },
  {
   "cell_type": "code",
   "execution_count": 24,
   "metadata": {},
   "outputs": [],
   "source": [
    "concat_acc_runs = []\n",
    "for r in range(total_runs):\n",
    "    test_embed = np.concatenate(test_pred_runs[r], axis=-1)\n",
    "    train_embed = np.concatenate(train_pred_runs[r], axis=-1)\n",
    "    train_files = run_data[r][0]\n",
    "    answers_files = run_data[r][-1]\n",
    "    \n",
    "    acc = compute_one_shot_acc(test_embed, train_embed,train_files, answers_files)\n",
    "    concat_acc_runs.append(acc)"
   ]
  },
  {
   "cell_type": "code",
   "execution_count": 25,
   "metadata": {},
   "outputs": [
    {
     "name": "stdout",
     "output_type": "stream",
     "text": [
      "[0.9, 0.8, 0.95, 0.85, 0.95, 0.9, 0.8, 0.65, 0.7, 0.85, 1.0, 0.85, 0.7, 0.9, 0.95, 1.0, 0.8, 1.0, 0.85, 0.8]\n",
      "0.8600000000000001\n"
     ]
    }
   ],
   "source": [
    "print(concat_acc_runs)\n",
    "print(np.mean(concat_acc_runs))"
   ]
  },
  {
   "cell_type": "code",
   "execution_count": null,
   "metadata": {},
   "outputs": [],
   "source": []
  }
 ],
 "metadata": {
  "kernelspec": {
   "display_name": "Python 3",
   "language": "python",
   "name": "python3"
  },
  "language_info": {
   "codemirror_mode": {
    "name": "ipython",
    "version": 3
   },
   "file_extension": ".py",
   "mimetype": "text/x-python",
   "name": "python",
   "nbconvert_exporter": "python",
   "pygments_lexer": "ipython3",
   "version": "3.5.6"
  }
 },
 "nbformat": 4,
 "nbformat_minor": 2
}
