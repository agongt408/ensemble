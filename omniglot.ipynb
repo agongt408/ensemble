{
 "cells": [
  {
   "cell_type": "markdown",
   "metadata": {},
   "source": [
    "# Omnigot One-Shot"
   ]
  },
  {
   "cell_type": "code",
   "execution_count": 1,
   "metadata": {},
   "outputs": [],
   "source": [
    "import tensorflow as tf\n",
    "import numpy as np\n",
    "import os\n",
    "import zipfile\n",
    "import matplotlib.pyplot as plt\n",
    "import copy\n",
    "import cv2\n",
    "from scipy.spatial import distance"
   ]
  },
  {
   "cell_type": "code",
   "execution_count": 2,
   "metadata": {},
   "outputs": [],
   "source": [
    "import vbranch\n",
    "from vbranch.data import Omniglot"
   ]
  },
  {
   "cell_type": "code",
   "execution_count": 3,
   "metadata": {},
   "outputs": [],
   "source": [
    "save = True\n",
    "model_id = 1"
   ]
  },
  {
   "cell_type": "markdown",
   "metadata": {},
   "source": [
    "## Load Data"
   ]
  },
  {
   "cell_type": "code",
   "execution_count": 4,
   "metadata": {},
   "outputs": [],
   "source": [
    "if not os.path.isdir('./omniglot/python/images_background'):\n",
    "    with zipfile.ZipFile('./omniglot/python/images_background.zip','r') as zip_ref:\n",
    "        zip_ref.extractall('./omniglot/python')\n",
    "        \n",
    "if not os.path.isdir('./omniglot/python/images_evaluation'):\n",
    "    with zipfile.ZipFile('./omniglot/python/images_evaluation.zip','r') as zip_ref:\n",
    "        zip_ref.extractall('./omniglot/python')"
   ]
  },
  {
   "cell_type": "code",
   "execution_count": 5,
   "metadata": {},
   "outputs": [],
   "source": [
    "train_generator = Omniglot('./omniglot/python/images_background/')\n",
    "test_generator = Omniglot('./omniglot/python/images_evaluation')"
   ]
  },
  {
   "cell_type": "code",
   "execution_count": 6,
   "metadata": {},
   "outputs": [],
   "source": [
    "batch = train_generator.next(4, 4, 4, flatten=False)"
   ]
  },
  {
   "cell_type": "code",
   "execution_count": 7,
   "metadata": {},
   "outputs": [
    {
     "data": {
      "image/png": "[encoded data removed]",
      "text/plain": [
       "<Figure size 432x288 with 1 Axes>"
      ]
     },
     "metadata": {
      "needs_background": "light"
     },
     "output_type": "display_data"
    }
   ],
   "source": [
    "plt.imshow(batch[2, 3, 0].squeeze(), cmap=plt.cm.gray)\n",
    "plt.show()"
   ]
  },
  {
   "cell_type": "markdown",
   "metadata": {},
   "source": [
    "## Build Model"
   ]
  },
  {
   "cell_type": "code",
   "execution_count": 8,
   "metadata": {},
   "outputs": [],
   "source": [
    "EPOCHS = 60\n",
    "STEPS_PER_EPOCH = 100\n",
    "model_path = './models/model_' + str(model_id)\n",
    "A, P, K = 8, 8, 4 # triplet batch specs\n",
    "output_dim = 128\n",
    "input_dim = [None, 105, 105, 1]"
   ]
  },
  {
   "cell_type": "code",
   "execution_count": 9,
   "metadata": {},
   "outputs": [],
   "source": [
    "if not os.path.isdir('./models'):\n",
    "    os.system('mkdir models')"
   ]
  },
  {
   "cell_type": "code",
   "execution_count": 10,
   "metadata": {},
   "outputs": [],
   "source": [
    "def batch_gen(A, P, K):\n",
    "    def func():\n",
    "        while True:\n",
    "            batch = train_generator.next(A, P, K)\n",
    "            batch = batch.astype('float32')\n",
    "            yield batch\n",
    "    return func"
   ]
  },
  {
   "cell_type": "code",
   "execution_count": 11,
   "metadata": {},
   "outputs": [],
   "source": [
    "tf.reset_default_graph()\n",
    "\n",
    "train_dataset = tf.data.Dataset.from_generator(batch_gen(A, P, K), 'float32', \n",
    "                                                 output_shapes=input_dim)\n",
    "\n",
    "# Dataset for feeding non-triplet batched images from memory\n",
    "x = tf.placeholder('float32', input_dim, name='x')\n",
    "batch_size = tf.placeholder('int64', name='batch_size')\n",
    "test_dataset = tf.data.Dataset.from_tensor_slices(x).batch(batch_size)\n",
    "\n",
    "iter_ = tf.data.Iterator.from_structure('float32', input_dim)\n",
    "train_init_op = iter_.make_initializer(train_dataset)\n",
    "test_init_op = iter_.make_initializer(test_dataset, name='test_init_op')\n",
    "\n",
    "inputs = iter_.get_next()"
   ]
  },
  {
   "cell_type": "code",
   "execution_count": 12,
   "metadata": {},
   "outputs": [],
   "source": [
    "with tf.variable_scope('model_' + str(model_id)):\n",
    "    model = vbranch.models.simple_cnn(inputs, output_dim, 32, 64, 128, 256)"
   ]
  },
  {
   "cell_type": "code",
   "execution_count": 13,
   "metadata": {},
   "outputs": [
    {
     "name": "stdout",
     "output_type": "stream",
     "text": [
      "i   Layer name          Output shape        Parameters                    Num param \n",
      "------------------------------------------------------------------------------------\n",
      "    Input               [None,105,105,1]                                            \n",
      "------------------------------------------------------------------------------------\n",
      "0   conv2d_1_1          [None,103,103,32]   (3,3,1,32) (32,)              320       \n",
      "------------------------------------------------------------------------------------\n",
      "1   bn_1_1              [None,103,103,32]   (32,) (32,)                   64        \n",
      "------------------------------------------------------------------------------------\n",
      "2   relu_1_1            [None,103,103,32]                                 0         \n",
      "------------------------------------------------------------------------------------\n",
      "3   conv2d_1_2          [None,101,101,32]   (3,3,32,32) (32,)             9248      \n",
      "------------------------------------------------------------------------------------\n",
      "4   bn_1_2              [None,101,101,32]   (32,) (32,)                   64        \n",
      "------------------------------------------------------------------------------------\n",
      "5   relu_1_2            [None,101,101,32]                                 0         \n",
      "------------------------------------------------------------------------------------\n",
      "6   avg_pool2d_1        [None,50,50,32]                                   0         \n",
      "------------------------------------------------------------------------------------\n",
      "7   conv2d_2_1          [None,48,48,64]     (3,3,32,64) (64,)             18496     \n",
      "------------------------------------------------------------------------------------\n",
      "8   bn_2_1              [None,48,48,64]     (64,) (64,)                   128       \n",
      "------------------------------------------------------------------------------------\n",
      "9   relu_2_1            [None,48,48,64]                                   0         \n",
      "------------------------------------------------------------------------------------\n",
      "10  conv2d_2_2          [None,46,46,64]     (3,3,64,64) (64,)             36928     \n",
      "------------------------------------------------------------------------------------\n",
      "11  bn_2_2              [None,46,46,64]     (64,) (64,)                   128       \n",
      "------------------------------------------------------------------------------------\n",
      "12  relu_2_2            [None,46,46,64]                                   0         \n",
      "------------------------------------------------------------------------------------\n",
      "13  avg_pool2d_2        [None,23,23,64]                                   0         \n",
      "------------------------------------------------------------------------------------\n",
      "14  conv2d_3_1          [None,21,21,128]    (3,3,64,128) (128,)           73856     \n",
      "------------------------------------------------------------------------------------\n",
      "15  bn_3_1              [None,21,21,128]    (128,) (128,)                 256       \n",
      "------------------------------------------------------------------------------------\n",
      "16  relu_3_1            [None,21,21,128]                                  0         \n",
      "------------------------------------------------------------------------------------\n",
      "17  conv2d_3_2          [None,19,19,128]    (3,3,128,128) (128,)          147584    \n",
      "------------------------------------------------------------------------------------\n",
      "18  bn_3_2              [None,19,19,128]    (128,) (128,)                 256       \n",
      "------------------------------------------------------------------------------------\n",
      "19  relu_3_2            [None,19,19,128]                                  0         \n",
      "------------------------------------------------------------------------------------\n",
      "20  avg_pool2d_3        [None,9,9,128]                                    0         \n",
      "------------------------------------------------------------------------------------\n",
      "21  conv2d_4_1          [None,7,7,256]      (3,3,128,256) (256,)          295168    \n",
      "------------------------------------------------------------------------------------\n",
      "22  bn_4_1              [None,7,7,256]      (256,) (256,)                 512       \n",
      "------------------------------------------------------------------------------------\n",
      "23  relu_4_1            [None,7,7,256]                                    0         \n",
      "------------------------------------------------------------------------------------\n",
      "24  conv2d_4_2          [None,5,5,256]      (3,3,256,256) (256,)          590080    \n",
      "------------------------------------------------------------------------------------\n",
      "25  bn_4_2              [None,5,5,256]      (256,) (256,)                 512       \n",
      "------------------------------------------------------------------------------------\n",
      "26  relu_4_2            [None,5,5,256]                                    0         \n",
      "------------------------------------------------------------------------------------\n",
      "27  global_avg_pool2d   [None,256]                                        0         \n",
      "------------------------------------------------------------------------------------\n",
      "28  fc1                 [None,256]          (256,256) (256,)              65792     \n",
      "------------------------------------------------------------------------------------\n",
      "29  bn_fc1              [None,256]          (256,) (256,)                 512       \n",
      "------------------------------------------------------------------------------------\n",
      "30  relu_fc1            [None,256]                                        0         \n",
      "------------------------------------------------------------------------------------\n",
      "31  output              [None,128]          (256,128) (128,)              32896     \n",
      "------------------------------------------------------------------------------------\n",
      "Total parameters: 1272800\n"
     ]
    }
   ],
   "source": [
    "model.summary()"
   ]
  },
  {
   "cell_type": "code",
   "execution_count": 14,
   "metadata": {},
   "outputs": [],
   "source": [
    "def lr_exp_decay_scheduler(init_lr, t0, decay):\n",
    "    \"\"\"NOTE: `episode` starts from 1\"\"\"\n",
    "    def func(episode):\n",
    "        if episode < t0:\n",
    "            return init_lr\n",
    "        lr = init_lr * np.power(decay, (episode - t0) / 2)\n",
    "        return lr\n",
    "    return func"
   ]
  },
  {
   "cell_type": "code",
   "execution_count": 15,
   "metadata": {},
   "outputs": [
    {
     "data": {
      "text/plain": [
       "[<matplotlib.lines.Line2D at 0x7fbcbc30be80>]"
      ]
     },
     "execution_count": 15,
     "metadata": {},
     "output_type": "execute_result"
    },
    {
     "data": {
      "image/png": "[encoded data removed]",
      "text/plain": [
       "<Figure size 432x288 with 1 Axes>"
      ]
     },
     "metadata": {
      "needs_background": "light"
     },
     "output_type": "display_data"
    }
   ],
   "source": [
    "lr_scheduler = lr_exp_decay_scheduler(0.001, EPOCHS // 2, 0.75)\n",
    "lr_steps = [lr_scheduler(e + 1) for e in range(EPOCHS)]\n",
    "plt.plot(lr_steps)"
   ]
  },
  {
   "cell_type": "code",
   "execution_count": 16,
   "metadata": {},
   "outputs": [],
   "source": [
    "loss = vbranch.losses.triplet_omniglot(model.output, A, P, K, 'loss')\n",
    "lr = tf.placeholder('float32', name='lr')\n",
    "train_op = tf.train.AdamOptimizer(learning_rate=lr).minimize(loss)"
   ]
  },
  {
   "cell_type": "code",
   "execution_count": null,
   "metadata": {
    "scrolled": false
   },
   "outputs": [
    {
     "name": "stdout",
     "output_type": "stream",
     "text": [
      "Epoch 1/60\n",
      "100/100 [==============================] - 65s 655ms/step - loss: 158.7531 - lr: 0.0010\n",
      "Epoch 2/60\n",
      "100/100 [==============================] - 39s 386ms/step - loss: 32.9269 - lr: 0.0010\n",
      "Epoch 3/60\n",
      "100/100 [==============================] - 39s 386ms/step - loss: 25.5741 - lr: 0.0010\n",
      "Epoch 4/60\n",
      "100/100 [==============================] - 39s 386ms/step - loss: 19.6124 - lr: 0.0010\n",
      "Epoch 5/60\n",
      "100/100 [==============================] - 39s 385ms/step - loss: 16.7604 - lr: 0.0010\n",
      "Epoch 6/60\n",
      "100/100 [==============================] - 39s 386ms/step - loss: 15.5771 - lr: 0.0010\n",
      "Epoch 7/60\n",
      "100/100 [==============================] - 39s 389ms/step - loss: 14.4724 - lr: 0.0010\n",
      "Epoch 8/60\n",
      "100/100 [==============================] - 39s 386ms/step - loss: 13.1653 - lr: 0.0010\n",
      "Epoch 9/60\n",
      "100/100 [==============================] - 39s 386ms/step - loss: 12.3306 - lr: 0.0010\n",
      "Epoch 10/60\n",
      "100/100 [==============================] - 39s 386ms/step - loss: 12.2888 - lr: 0.0010\n",
      "Epoch 11/60\n",
      "100/100 [==============================] - 39s 386ms/step - loss: 10.6457 - lr: 0.0010\n",
      "Epoch 12/60\n",
      "100/100 [==============================] - 39s 386ms/step - loss: 10.2106 - lr: 0.0010\n",
      "Epoch 13/60\n",
      "100/100 [==============================] - 39s 386ms/step - loss: 9.9595 - lr: 0.0010\n",
      "Epoch 14/60\n",
      "100/100 [==============================] - 39s 386ms/step - loss: 9.3138 - lr: 0.0010\n",
      "Epoch 15/60\n",
      "100/100 [==============================] - 39s 391ms/step - loss: 9.8144 - lr: 0.0010\n",
      "Epoch 16/60\n",
      "100/100 [==============================] - 39s 388ms/step - loss: 9.3131 - lr: 0.0010\n",
      "Epoch 17/60\n",
      "100/100 [==============================] - 39s 388ms/step - loss: 8.8355 - lr: 0.0010\n",
      "Epoch 18/60\n",
      " 34/100 [=========>....................] - ETA: 26s - loss: 7.5869 - lr: 0.0010"
     ]
    }
   ],
   "source": [
    "with tf.Session() as sess:\n",
    "    sess.run(tf.global_variables_initializer())\n",
    "    sess.run(train_init_op)\n",
    "\n",
    "    for e in range(EPOCHS):\n",
    "        print(\"Epoch {}/{}\".format(e + 1, EPOCHS))\n",
    "        progbar = tf.keras.utils.Progbar(STEPS_PER_EPOCH)\n",
    "        \n",
    "        learning_rate = lr_scheduler(e + 1)\n",
    "        for i in range(STEPS_PER_EPOCH):\n",
    "            _, loss_value = sess.run([train_op, loss], feed_dict={lr:learning_rate})\n",
    "            progbar.update(i + 1, values=[('loss', loss_value), ('lr', learning_rate)])\n",
    "    \n",
    "    if save:\n",
    "        saver = tf.train.Saver()\n",
    "        path = os.path.join(model_path, 'ckpt')\n",
    "        saver.save(sess, path)"
   ]
  },
  {
   "cell_type": "markdown",
   "metadata": {},
   "source": [
    "## Model Ensemble"
   ]
  },
  {
   "cell_type": "code",
   "execution_count": null,
   "metadata": {},
   "outputs": [],
   "source": [
    "def restore_sess(sess, model_path):\n",
    "    meta_path = os.path.join(model_path, 'ckpt.meta')\n",
    "    ckpt = tf.train.get_checkpoint_state(model_path)\n",
    "\n",
    "    imported_graph = tf.train.import_meta_graph(meta_path)\n",
    "    imported_graph.restore(sess, ckpt.model_checkpoint_path)"
   ]
  },
  {
   "cell_type": "code",
   "execution_count": null,
   "metadata": {},
   "outputs": [],
   "source": [
    "def get_run(n_run):\n",
    "    all_runs = './omniglot/python/one-shot-classification/all_runs'\n",
    "    \n",
    "    if not os.path.isdir(all_runs):\n",
    "        with zipfile.ZipFile(all_runs + '.zip','r') as zip_ref:\n",
    "            zip_ref.extractall(all_runs)\n",
    "    \n",
    "    run_path = os.path.join(all_runs,'run%02d'%n_run,'class_labels.txt')\n",
    "    with open(run_path) as f:\n",
    "        content = f.read().splitlines()\n",
    "\n",
    "    pairs = [line.split() for line in content]\n",
    "    test_files  = [pair[0] for pair in pairs]\n",
    "    train_files = [pair[1] for pair in pairs]\n",
    "\n",
    "    answers_files = copy.copy(train_files)\n",
    "    test_files.sort()\n",
    "    train_files.sort()\n",
    "    \n",
    "    def f_load(f):\n",
    "        path = os.path.join(all_runs, f)\n",
    "        return cv2.imread(path)[..., 0]\n",
    "\n",
    "    train_imgs = np.stack([f_load(f) for f in train_files]).\\\n",
    "                        astype('float32')[..., np.newaxis]\n",
    "    test_imgs  = np.stack([f_load(f) for f in test_files]).\\\n",
    "                        astype('float32')[..., np.newaxis]\n",
    "\n",
    "    return train_files, test_files, train_imgs, test_imgs, answers_files"
   ]
  },
  {
   "cell_type": "code",
   "execution_count": null,
   "metadata": {},
   "outputs": [],
   "source": [
    "def compute_one_shot_acc(test_pred, train_pred, train_files, answers_files):\n",
    "    n_test = len(test_pred)\n",
    "    n_train = len(train_pred)\n",
    "    \n",
    "    distM = np.zeros((n_test, n_train))\n",
    "    for i in range(n_test):\n",
    "        for c in range(n_train):\n",
    "            distM[i,c] = distance.euclidean(test_pred[i],train_pred[c])\n",
    "            \n",
    "    YHAT = np.argmin(distM, axis=1)\n",
    "    \n",
    "    # compute the error rate\n",
    "    correct = 0.0\n",
    "    for i in range(n_test):\n",
    "        if train_files[YHAT[i]] == answers_files[i]:\n",
    "            correct += 1.0\n",
    "        \n",
    "    return correct / n_test"
   ]
  },
  {
   "cell_type": "code",
   "execution_count": null,
   "metadata": {},
   "outputs": [],
   "source": [
    "total_runs = 20\n",
    "train_pred_runs = [[] for _ in range(total_runs)]\n",
    "test_pred_runs = [[] for _ in range(total_runs)]\n",
    "\n",
    "run_data = [get_run(r+1) for r in range(total_runs)]\n",
    "\n",
    "num_models = 1\n",
    "\n",
    "for i in range(len(graphs)):\n",
    "    with tf.Session() as sess:\n",
    "        restore_sess(sess, './models/model_' + str(i + 1))\n",
    "        \n",
    "        for r in range(total_runs):\n",
    "            train_files,test_files,train_imgs,test_imgs,answers_files = run_data[r]\n",
    "            \n",
    "            feed_dict = {'x:0':train_imgs, 'batch_size:0':len(train_imgs)}\n",
    "            sess.run('test_init_op', feed_dict=feed_dict)\n",
    "            train_pred_runs[r].append(sess.run('model_%d'%(i+1)+'/'+'output:0'))\n",
    "    \n",
    "            feed_dict = {'x:0':test_imgs, 'batch_size:0':len(test_imgs)}\n",
    "            sess.run('test_init_op', feed_dict=feed_dict)\n",
    "            test_pred_runs[r].append(sess.run('model_%d'%(i+1)+'/'+'output:0'))"
   ]
  },
  {
   "cell_type": "code",
   "execution_count": null,
   "metadata": {},
   "outputs": [],
   "source": [
    "acc_runs = []\n",
    "for r in range(total_runs):\n",
    "    test_embed = np.mean(test_pred_runs[r], axis=0)\n",
    "    train_embed = np.mean(train_pred_runs[r], axis=0)\n",
    "    train_files = run_data[r][0]\n",
    "    answers_files = run_data[r][-1]\n",
    "    \n",
    "    acc = compute_one_shot_acc(test_embed, train_embed,train_files, answers_files)\n",
    "    acc_runs.append(acc)"
   ]
  },
  {
   "cell_type": "code",
   "execution_count": null,
   "metadata": {},
   "outputs": [],
   "source": [
    "print(acc_runs)\n",
    "print(np.mean(acc_runs))"
   ]
  },
  {
   "cell_type": "code",
   "execution_count": null,
   "metadata": {},
   "outputs": [],
   "source": []
  }
 ],
 "metadata": {
  "kernelspec": {
   "display_name": "Python 3",
   "language": "python",
   "name": "python3"
  },
  "language_info": {
   "codemirror_mode": {
    "name": "ipython",
    "version": 3
   },
   "file_extension": ".py",
   "mimetype": "text/x-python",
   "name": "python",
   "nbconvert_exporter": "python",
   "pygments_lexer": "ipython3",
   "version": "3.5.6"
  }
 },
 "nbformat": 4,
 "nbformat_minor": 2
}
