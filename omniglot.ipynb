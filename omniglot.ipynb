{
 "cells": [
  {
   "cell_type": "markdown",
   "metadata": {},
   "source": [
    "# Omnigot One-Shot with Virtual Branching"
   ]
  },
  {
   "cell_type": "code",
   "execution_count": 1,
   "metadata": {},
   "outputs": [],
   "source": [
    "import tensorflow as tf\n",
    "import numpy as np\n",
    "import os\n",
    "import matplotlib.pyplot as plt\n",
    "import copy\n",
    "import cv2\n",
    "from scipy.spatial import distance"
   ]
  },
  {
   "cell_type": "code",
   "execution_count": 2,
   "metadata": {},
   "outputs": [
    {
     "name": "stderr",
     "output_type": "stream",
     "text": [
      "Using TensorFlow backend.\n"
     ]
    }
   ],
   "source": [
    "from vbranch.applications.resnet import ResNet18\n",
    "from vbranch.applications.cnn import SimpleCNNLarge\n",
    "from vbranch.datasets import omniglot\n",
    "\n",
    "from vbranch.utils.training import get_data_iterator_from_generator, lr_exp_decay_scheduler\n",
    "from vbranch.utils import TFSessionGrow, restore_sess\n",
    "from vbranch.callbacks import one_shot_acc\n",
    "from vbranch.losses import triplet_omniglot"
   ]
  },
  {
   "cell_type": "code",
   "execution_count": 3,
   "metadata": {},
   "outputs": [],
   "source": [
    "SAVE = False\n",
    "MODEL_ID = 1\n",
    "ARCHITECTURE = 'simple'\n",
    "DATASET = 'omniglot'\n",
    "NUM_BRANCHES = 2\n",
    "SHARED_FRAC = 0.5\n",
    "\n",
    "EPOCHS = 45\n",
    "STEPS_PER_EPOCH = 100\n",
    "T_0 = 30\n",
    "OUTPUT_DIM = 128"
   ]
  },
  {
   "cell_type": "markdown",
   "metadata": {},
   "source": [
    "## Load Data"
   ]
  },
  {
   "cell_type": "code",
   "execution_count": 4,
   "metadata": {},
   "outputs": [],
   "source": [
    "if DATASET == 'omniglot':\n",
    "    A, P, K = 4, 8, 4\n",
    "    train_generator = omniglot.load_generator('train', A, P, K)\n",
    "    test_generator = omniglot.load_generator('test', A, P, K)"
   ]
  },
  {
   "cell_type": "code",
   "execution_count": 5,
   "metadata": {},
   "outputs": [],
   "source": [
    "batch = train_generator.sample(4, 4, 4, flatten=False, preprocess=False)"
   ]
  },
  {
   "cell_type": "code",
   "execution_count": 6,
   "metadata": {},
   "outputs": [
    {
     "data": {
      "image/png": "[encoded data removed]",
      "text/plain": [
       "<Figure size 432x288 with 1 Axes>"
      ]
     },
     "metadata": {
      "needs_background": "light"
     },
     "output_type": "display_data"
    }
   ],
   "source": [
    "plt.imshow(batch[0, 3, 0].squeeze(), cmap=plt.cm.gray)\n",
    "plt.show()"
   ]
  },
  {
   "cell_type": "markdown",
   "metadata": {},
   "source": [
    "## Build Model"
   ]
  },
  {
   "cell_type": "code",
   "execution_count": 7,
   "metadata": {},
   "outputs": [
    {
     "name": "stdout",
     "output_type": "stream",
     "text": [
      "models/vb-omniglot-simple-B2-S0.50_1\n"
     ]
    }
   ],
   "source": [
    "if not os.path.isdir('models'):\n",
    "    os.system('mkdir models')\n",
    "\n",
    "if NUM_BRANCHES == 1:\n",
    "    model_name = '{}-{}_{:d}'.format(DATASET, ARCHITECTURE, MODEL_ID)\n",
    "else:\n",
    "    model_name = 'vb-{}-{}-B{:d}-S{:.2f}_{:d}'.format(DATASET, ARCHITECTURE,\n",
    "                                        NUM_BRANCHES, SHARED_FRAC, MODEL_ID)\n",
    "model_path = os.path.join('models', model_name)\n",
    "print(model_path)"
   ]
  },
  {
   "cell_type": "code",
   "execution_count": 8,
   "metadata": {},
   "outputs": [
    {
     "name": "stderr",
     "output_type": "stream",
     "text": [
      "WARNING: Logging before flag parsing goes to stderr.\n",
      "W0721 13:12:24.647626 140143670863616 deprecation_wrapper.py:119] From /home/gong/research/vbranch/vbranch/utils/training.py:182: The name tf.placeholder is deprecated. Please use tf.compat.v1.placeholder instead.\n",
      "\n",
      "W0721 13:12:24.674041 140143670863616 deprecation.py:323] From /home/gong/anaconda3/lib/python3.6/site-packages/tensorflow/python/data/ops/dataset_ops.py:494: py_func (from tensorflow.python.ops.script_ops) is deprecated and will be removed in a future version.\n",
      "Instructions for updating:\n",
      "tf.py_func is deprecated in TF V2. Instead, there are two\n",
      "    options available in V2.\n",
      "    - tf.py_function takes a python function which manipulates tf eager\n",
      "    tensors instead of numpy arrays. It's easy to convert a tf eager tensor to\n",
      "    an ndarray (just call tensor.numpy()) but having access to eager tensors\n",
      "    means `tf.py_function`s can use accelerators such as GPUs as well as\n",
      "    being differentiable using a gradient tape.\n",
      "    - tf.numpy_function maintains the semantics of the deprecated tf.py_func\n",
      "    (it is not differentiable, and manipulates numpy arrays). It drops the\n",
      "    stateful argument making all functions stateful.\n",
      "    \n",
      "W0721 13:12:24.695465 140143670863616 deprecation_wrapper.py:119] From /home/gong/research/vbranch/vbranch/utils/training.py:193: The name tf.data.Iterator is deprecated. Please use tf.compat.v1.data.Iterator instead.\n",
      "\n",
      "W0721 13:12:24.699990 140143670863616 deprecation.py:323] From /home/gong/anaconda3/lib/python3.6/site-packages/tensorflow/python/data/ops/iterator_ops.py:348: Iterator.output_types (from tensorflow.python.data.ops.iterator_ops) is deprecated and will be removed in a future version.\n",
      "Instructions for updating:\n",
      "Use `tf.compat.v1.data.get_output_types(iterator)`.\n",
      "W0721 13:12:24.700489 140143670863616 deprecation.py:323] From /home/gong/anaconda3/lib/python3.6/site-packages/tensorflow/python/data/ops/iterator_ops.py:349: Iterator.output_shapes (from tensorflow.python.data.ops.iterator_ops) is deprecated and will be removed in a future version.\n",
      "Instructions for updating:\n",
      "Use `tf.compat.v1.data.get_output_shapes(iterator)`.\n",
      "W0721 13:12:24.700867 140143670863616 deprecation.py:323] From /home/gong/anaconda3/lib/python3.6/site-packages/tensorflow/python/data/ops/iterator_ops.py:351: Iterator.output_classes (from tensorflow.python.data.ops.iterator_ops) is deprecated and will be removed in a future version.\n",
      "Instructions for updating:\n",
      "Use `tf.compat.v1.data.get_output_classes(iterator)`.\n"
     ]
    },
    {
     "name": "stdout",
     "output_type": "stream",
     "text": [
      "(None, 105, 105, 1)\n"
     ]
    }
   ],
   "source": [
    "input_dim = (None,) + batch.shape[-3:]\n",
    "print(input_dim)\n",
    "\n",
    "tf.reset_default_graph()\n",
    "\n",
    "inputs, train_init_op, test_init_op = get_data_iterator_from_generator(train_generator, input_dim, \n",
    "                                                                       n=NUM_BRANCHES)"
   ]
  },
  {
   "cell_type": "code",
   "execution_count": 9,
   "metadata": {},
   "outputs": [
    {
     "data": {
      "text/plain": [
       "[<tf.Tensor 'input_1:0' shape=(?, 105, 105, 1) dtype=float32>,\n",
       " <tf.Tensor 'input_2:0' shape=(?, 105, 105, 1) dtype=float32>]"
      ]
     },
     "execution_count": 9,
     "metadata": {},
     "output_type": "execute_result"
    }
   ],
   "source": [
    "inputs"
   ]
  },
  {
   "cell_type": "code",
   "execution_count": 10,
   "metadata": {
    "scrolled": false
   },
   "outputs": [
    {
     "name": "stderr",
     "output_type": "stream",
     "text": [
      "W0721 13:12:24.780284 140143670863616 deprecation_wrapper.py:119] From /home/gong/research/vbranch/vbranch/vb_layers/core.py:63: The name tf.get_variable_scope is deprecated. Please use tf.compat.v1.get_variable_scope instead.\n",
      "\n",
      "W0721 13:12:24.781872 140143670863616 deprecation_wrapper.py:119] From /home/gong/research/vbranch/vbranch/vb_layers/core.py:92: The name tf.variable_scope is deprecated. Please use tf.compat.v1.variable_scope instead.\n",
      "\n",
      "W0721 13:12:24.783899 140143670863616 deprecation_wrapper.py:119] From /home/gong/research/vbranch/vbranch/layers/convolutional.py:32: The name tf.get_variable is deprecated. Please use tf.compat.v1.get_variable instead.\n",
      "\n",
      "W0721 13:12:25.079617 140143670863616 deprecation_wrapper.py:119] From /home/gong/research/vbranch/vbranch/layers/pooling.py:22: The name tf.nn.avg_pool is deprecated. Please use tf.nn.avg_pool2d instead.\n",
      "\n",
      "W0721 13:12:25.895963 140143670863616 deprecation_wrapper.py:119] From /home/gong/research/vbranch/vbranch/layers/core.py:83: The name tf.nn.xw_plus_b is deprecated. Please use tf.compat.v1.nn.xw_plus_b instead.\n",
      "\n",
      "W0721 13:12:26.012100 140143670863616 deprecation.py:506] From /home/gong/anaconda3/lib/python3.6/site-packages/tensorflow/python/ops/init_ops.py:1251: calling VarianceScaling.__init__ (from tensorflow.python.ops.init_ops) with dtype is deprecated and will be removed in a future version.\n",
      "Instructions for updating:\n",
      "Call initializer instance with the dtype argument instead of passing it to the constructor\n",
      "W0721 13:12:31.297245 140143670863616 deprecation_wrapper.py:119] From /home/gong/research/vbranch/vbranch/engine/training.py:127: The name tf.get_collection is deprecated. Please use tf.compat.v1.get_collection instead.\n",
      "\n",
      "W0721 13:12:31.463569 140143670863616 deprecation.py:323] From /home/gong/anaconda3/lib/python3.6/site-packages/tensorflow/python/ops/math_grad.py:1250: add_dispatch_support.<locals>.wrapper (from tensorflow.python.ops.array_ops) is deprecated and will be removed in a future version.\n",
      "Instructions for updating:\n",
      "Use tf.where in 2.0, which has the same broadcast rule as np.where\n"
     ]
    },
    {
     "name": "stdout",
     "output_type": "stream",
     "text": [
      "i   Layer name                      Output shape                         Num param  Inbound            \n",
      "-------------------------------------------------------------------------------------------------------\n",
      "    Input                           [None,105,105,1]                                                   \n",
      "-------------------------------------------------------------------------------------------------------\n",
      "    Input                           [None,105,105,1]                                                   \n",
      "-------------------------------------------------------------------------------------------------------\n",
      "0   conv2d_1_1 (Conv2D)             [None,103,103,16] [None,103,103,16]  480        input              \n",
      "                                    [None,103,103,16] [None,103,103,16]                                \n",
      "-------------------------------------------------------------------------------------------------------\n",
      "1   bn_1_1 (BatchNormalization)     [None,103,103,16] [None,103,103,16]  96         conv2d_1_1         \n",
      "                                    [None,103,103,16] [None,103,103,16]                                \n",
      "-------------------------------------------------------------------------------------------------------\n",
      "2   relu_1_1 (Activation)           [None,103,103,16] [None,103,103,16]  0          bn_1_1             \n",
      "                                    [None,103,103,16] [None,103,103,16]                                \n",
      "-------------------------------------------------------------------------------------------------------\n",
      "3   conv2d_1_2 (Conv2D)             [None,101,101,16] [None,101,101,16]  16240      relu_1_1           \n",
      "                                    [None,101,101,16] [None,101,101,16]                                \n",
      "-------------------------------------------------------------------------------------------------------\n",
      "4   bn_1_2 (BatchNormalization)     [None,101,101,16] [None,101,101,16]  96         conv2d_1_2         \n",
      "                                    [None,101,101,16] [None,101,101,16]                                \n",
      "-------------------------------------------------------------------------------------------------------\n",
      "5   relu_1_2 (Activation)           [None,101,101,16] [None,101,101,16]  0          bn_1_2             \n",
      "                                    [None,101,101,16] [None,101,101,16]                                \n",
      "-------------------------------------------------------------------------------------------------------\n",
      "6   avg_pool2d_1 (AveragePooling2D  [None,50,50,16] [None,50,50,16]      0          relu_1_2           \n",
      "                                    [None,50,50,16] [None,50,50,16]                                    \n",
      "-------------------------------------------------------------------------------------------------------\n",
      "7   conv2d_2_1 (Conv2D)             [None,48,48,32] [None,48,48,32]      32480      avg_pool2d_1       \n",
      "                                    [None,48,48,32] [None,48,48,32]                                    \n",
      "-------------------------------------------------------------------------------------------------------\n",
      "8   bn_2_1 (BatchNormalization)     [None,48,48,32] [None,48,48,32]      192        conv2d_2_1         \n",
      "                                    [None,48,48,32] [None,48,48,32]                                    \n",
      "-------------------------------------------------------------------------------------------------------\n",
      "9   relu_2_1 (Activation)           [None,48,48,32] [None,48,48,32]      0          bn_2_1             \n",
      "                                    [None,48,48,32] [None,48,48,32]                                    \n",
      "-------------------------------------------------------------------------------------------------------\n",
      "10  conv2d_2_2 (Conv2D)             [None,46,46,32] [None,46,46,32]      64736      relu_2_1           \n",
      "                                    [None,46,46,32] [None,46,46,32]                                    \n",
      "-------------------------------------------------------------------------------------------------------\n",
      "11  bn_2_2 (BatchNormalization)     [None,46,46,32] [None,46,46,32]      192        conv2d_2_2         \n",
      "                                    [None,46,46,32] [None,46,46,32]                                    \n",
      "-------------------------------------------------------------------------------------------------------\n",
      "12  relu_2_2 (Activation)           [None,46,46,32] [None,46,46,32]      0          bn_2_2             \n",
      "                                    [None,46,46,32] [None,46,46,32]                                    \n",
      "-------------------------------------------------------------------------------------------------------\n",
      "13  avg_pool2d_2 (AveragePooling2D  [None,23,23,32] [None,23,23,32]      0          relu_2_2           \n",
      "                                    [None,23,23,32] [None,23,23,32]                                    \n",
      "-------------------------------------------------------------------------------------------------------\n",
      "14  conv2d_3_1 (Conv2D)             [None,21,21,64] [None,21,21,64]      129472     avg_pool2d_2       \n",
      "                                    [None,21,21,64] [None,21,21,64]                                    \n",
      "-------------------------------------------------------------------------------------------------------\n",
      "15  bn_3_1 (BatchNormalization)     [None,21,21,64] [None,21,21,64]      384        conv2d_3_1         \n",
      "                                    [None,21,21,64] [None,21,21,64]                                    \n",
      "-------------------------------------------------------------------------------------------------------\n",
      "16  relu_3_1 (Activation)           [None,21,21,64] [None,21,21,64]      0          bn_3_1             \n",
      "                                    [None,21,21,64] [None,21,21,64]                                    \n",
      "-------------------------------------------------------------------------------------------------------\n",
      "17  conv2d_3_2 (Conv2D)             [None,19,19,64] [None,19,19,64]      258496     relu_3_1           \n",
      "                                    [None,19,19,64] [None,19,19,64]                                    \n",
      "-------------------------------------------------------------------------------------------------------\n",
      "18  bn_3_2 (BatchNormalization)     [None,19,19,64] [None,19,19,64]      384        conv2d_3_2         \n",
      "                                    [None,19,19,64] [None,19,19,64]                                    \n",
      "-------------------------------------------------------------------------------------------------------\n",
      "19  relu_3_2 (Activation)           [None,19,19,64] [None,19,19,64]      0          bn_3_2             \n",
      "                                    [None,19,19,64] [None,19,19,64]                                    \n",
      "-------------------------------------------------------------------------------------------------------\n",
      "20  avg_pool2d_3 (AveragePooling2D  [None,9,9,64] [None,9,9,64]          0          relu_3_2           \n",
      "                                    [None,9,9,64] [None,9,9,64]                                        \n",
      "-------------------------------------------------------------------------------------------------------\n",
      "21  conv2d_4_1 (Conv2D)             [None,7,7,128] [None,7,7,128]        516992     avg_pool2d_3       \n",
      "                                    [None,7,7,128] [None,7,7,128]                                      \n",
      "-------------------------------------------------------------------------------------------------------\n",
      "22  bn_4_1 (BatchNormalization)     [None,7,7,128] [None,7,7,128]        768        conv2d_4_1         \n",
      "                                    [None,7,7,128] [None,7,7,128]                                      \n",
      "-------------------------------------------------------------------------------------------------------\n",
      "23  relu_4_1 (Activation)           [None,7,7,128] [None,7,7,128]        0          bn_4_1             \n",
      "                                    [None,7,7,128] [None,7,7,128]                                      \n",
      "-------------------------------------------------------------------------------------------------------\n",
      "24  conv2d_4_2 (Conv2D)             [None,5,5,128] [None,5,5,128]        1033088    relu_4_1           \n",
      "                                    [None,5,5,128] [None,5,5,128]                                      \n",
      "-------------------------------------------------------------------------------------------------------\n",
      "25  bn_4_2 (BatchNormalization)     [None,5,5,128] [None,5,5,128]        768        conv2d_4_2         \n",
      "                                    [None,5,5,128] [None,5,5,128]                                      \n",
      "-------------------------------------------------------------------------------------------------------\n",
      "26  relu_4_2 (Activation)           [None,5,5,128] [None,5,5,128]        0          bn_4_2             \n",
      "                                    [None,5,5,128] [None,5,5,128]                                      \n",
      "-------------------------------------------------------------------------------------------------------\n",
      "27  global_avg_pool2d (GlobalAvera  [None,128] [None,128]                0          relu_4_2           \n",
      "                                    [None,128] [None,128]                                              \n",
      "-------------------------------------------------------------------------------------------------------\n",
      "28  fc1 (Dense)                     [None,128] [None,128]                115584     global_avg_pool2d  \n",
      "                                    [None,128] [None,128]                                              \n",
      "-------------------------------------------------------------------------------------------------------\n",
      "29  bn_fc1 (BatchNormalization)     [None,128] [None,128]                768        fc1                \n",
      "                                    [None,128] [None,128]                                              \n",
      "-------------------------------------------------------------------------------------------------------\n",
      "30  relu_fc1 (Activation)           [None,128] [None,128]                0          bn_fc1             \n",
      "                                    [None,128] [None,128]                                              \n",
      "-------------------------------------------------------------------------------------------------------\n",
      "31  output (Dense)                  [None,128]                           65792      relu_fc1           \n",
      "                                    [None,128]                                                         \n",
      "-------------------------------------------------------------------------------------------------------\n",
      "Total parameters: 2237008\n"
     ]
    }
   ],
   "source": [
    "lr = tf.placeholder('float32', name='lr')\n",
    "lr_scheduler = lr_exp_decay_scheduler(0.001, T_0, EPOCHS, 0.001)\n",
    "\n",
    "name = 'model'\n",
    "\n",
    "with tf.variable_scope(name, reuse=tf.AUTO_REUSE):\n",
    "    if ARCHITECTURE == 'simple':\n",
    "        model = SimpleCNNLarge(inputs, OUTPUT_DIM, name=name, shared_frac=SHARED_FRAC)\n",
    "    elif ARCHITECTURE == 'res':\n",
    "        model = ResNet18(inputs, OUTPUT_DIM, name=name, shared_frac=SHARED_FRAC)\n",
    "        \n",
    "    optimizer = tf.train.AdamOptimizer(learning_rate=lr)\n",
    "\n",
    "    # Compile model\n",
    "    model.compile(optimizer, triplet_omniglot(A, P, K), \n",
    "                  train_init_op, test_init_op, \n",
    "                  callbacks={'acc': one_shot_acc(NUM_BRANCHES)}, \n",
    "                  schedulers={'lr:0': lr_scheduler})\n",
    "\n",
    "model.summary()"
   ]
  },
  {
   "cell_type": "code",
   "execution_count": 11,
   "metadata": {},
   "outputs": [
    {
     "name": "stdout",
     "output_type": "stream",
     "text": [
      "[<tf.Tensor 'model/output/vb1/output:0' shape=(?, 128) dtype=float32>, <tf.Tensor 'model/output/vb2/output:0' shape=(?, 128) dtype=float32>]\n"
     ]
    }
   ],
   "source": [
    "print(model.output)"
   ]
  },
  {
   "cell_type": "code",
   "execution_count": 12,
   "metadata": {},
   "outputs": [
    {
     "data": {
      "image/png": "[encoded data removed]",
      "text/plain": [
       "<Figure size 432x288 with 1 Axes>"
      ]
     },
     "metadata": {
      "needs_background": "light"
     },
     "output_type": "display_data"
    }
   ],
   "source": [
    "lr_steps = [lr_scheduler(e + 1) for e in range(EPOCHS)]\n",
    "plt.plot(lr_steps)\n",
    "plt.show()"
   ]
  },
  {
   "cell_type": "code",
   "execution_count": 13,
   "metadata": {
    "scrolled": false
   },
   "outputs": [
    {
     "name": "stdout",
     "output_type": "stream",
     "text": [
      "Epoch 1/45\n",
      "100/100 - 157s - lr:0: 0.0010 - loss_1: 898.5879 - loss_2: 955.5109 - acc_ensemble: 0.7025 - acc_1: 0.6475 - acc_2: 0.6750\n",
      "Epoch 2/45\n",
      "100/100 - 63s - lr:0: 0.0010 - loss_1: 266.7906 - loss_2: 277.4011 - acc_ensemble: 0.7575 - acc_1: 0.7350 - acc_2: 0.7000\n",
      "Epoch 3/45\n",
      "100/100 - 63s - lr:0: 0.0010 - loss_1: 168.2386 - loss_2: 175.6087 - acc_ensemble: 0.7750 - acc_1: 0.7250 - acc_2: 0.7325\n",
      "Epoch 4/45\n",
      "100/100 - 63s - lr:0: 0.0010 - loss_1: 154.0692 - loss_2: 145.1976 - acc_ensemble: 0.7850 - acc_1: 0.7375 - acc_2: 0.7375\n",
      "Epoch 5/45\n",
      "100/100 - 63s - lr:0: 0.0010 - loss_1: 113.2765 - loss_2: 131.1687 - acc_ensemble: 0.7975 - acc_1: 0.7600 - acc_2: 0.7600\n",
      "Epoch 6/45\n",
      "100/100 - 63s - lr:0: 0.0010 - loss_1: 103.8596 - loss_2: 114.9895 - acc_ensemble: 0.7750 - acc_1: 0.7675 - acc_2: 0.7575\n",
      "Epoch 7/45\n",
      "100/100 - 63s - lr:0: 0.0010 - loss_1: 106.7747 - loss_2: 107.9830 - acc_ensemble: 0.8025 - acc_1: 0.8075 - acc_2: 0.7700\n",
      "Epoch 8/45\n",
      "100/100 - 63s - lr:0: 0.0010 - loss_1: 88.1609 - loss_2: 97.9034 - acc_ensemble: 0.8525 - acc_1: 0.7800 - acc_2: 0.8275\n",
      "Epoch 9/45\n",
      "100/100 - 63s - lr:0: 0.0010 - loss_1: 89.5491 - loss_2: 86.5906 - acc_ensemble: 0.8450 - acc_1: 0.8150 - acc_2: 0.8125\n",
      "Epoch 10/45\n",
      "100/100 - 63s - lr:0: 0.0010 - loss_1: 86.7184 - loss_2: 83.5144 - acc_ensemble: 0.8450 - acc_1: 0.8250 - acc_2: 0.8175\n",
      "Epoch 11/45\n",
      "100/100 - 63s - lr:0: 0.0010 - loss_1: 78.1784 - loss_2: 75.9777 - acc_ensemble: 0.8750 - acc_1: 0.8175 - acc_2: 0.8325\n",
      "Epoch 12/45\n",
      "100/100 - 63s - lr:0: 0.0010 - loss_1: 72.6585 - loss_2: 73.8301 - acc_ensemble: 0.8350 - acc_1: 0.8050 - acc_2: 0.8100\n",
      "Epoch 13/45\n",
      "100/100 - 63s - lr:0: 0.0010 - loss_1: 68.8492 - loss_2: 63.9310 - acc_ensemble: 0.8775 - acc_1: 0.8300 - acc_2: 0.8475\n",
      "Epoch 14/45\n",
      "100/100 - 63s - lr:0: 0.0010 - loss_1: 65.2408 - loss_2: 64.6408 - acc_ensemble: 0.8825 - acc_1: 0.8600 - acc_2: 0.8375\n",
      "Epoch 15/45\n",
      "100/100 - 63s - lr:0: 0.0010 - loss_1: 65.8645 - loss_2: 54.2092 - acc_ensemble: 0.8700 - acc_1: 0.8425 - acc_2: 0.8500\n",
      "Epoch 16/45\n",
      "100/100 - 63s - lr:0: 0.0010 - loss_1: 62.5176 - loss_2: 57.1318 - acc_ensemble: 0.8775 - acc_1: 0.8275 - acc_2: 0.8450\n",
      "Epoch 17/45\n",
      "100/100 - 63s - lr:0: 0.0010 - loss_1: 54.9257 - loss_2: 54.0933 - acc_ensemble: 0.8975 - acc_1: 0.8375 - acc_2: 0.8650\n",
      "Epoch 18/45\n",
      "100/100 - 63s - lr:0: 0.0010 - loss_1: 57.1371 - loss_2: 59.5343 - acc_ensemble: 0.8875 - acc_1: 0.8725 - acc_2: 0.8450\n",
      "Epoch 19/45\n",
      "100/100 - 63s - lr:0: 0.0010 - loss_1: 52.1020 - loss_2: 50.2999 - acc_ensemble: 0.8825 - acc_1: 0.8625 - acc_2: 0.8425\n",
      "Epoch 20/45\n",
      "100/100 - 63s - lr:0: 0.0010 - loss_1: 57.2003 - loss_2: 54.9244 - acc_ensemble: 0.8850 - acc_1: 0.8475 - acc_2: 0.8600\n",
      "Epoch 21/45\n",
      "100/100 - 63s - lr:0: 0.0010 - loss_1: 54.0953 - loss_2: 54.9738 - acc_ensemble: 0.9100 - acc_1: 0.8725 - acc_2: 0.8825\n",
      "Epoch 22/45\n",
      "100/100 - 63s - lr:0: 0.0010 - loss_1: 47.4172 - loss_2: 52.2824 - acc_ensemble: 0.9000 - acc_1: 0.8600 - acc_2: 0.8650\n",
      "Epoch 23/45\n",
      "100/100 - 63s - lr:0: 0.0010 - loss_1: 41.9645 - loss_2: 47.6225 - acc_ensemble: 0.9000 - acc_1: 0.8850 - acc_2: 0.8500\n",
      "Epoch 24/45\n",
      "100/100 - 63s - lr:0: 0.0010 - loss_1: 46.6950 - loss_2: 51.3608 - acc_ensemble: 0.9150 - acc_1: 0.8925 - acc_2: 0.8800\n",
      "Epoch 25/45\n",
      "100/100 - 63s - lr:0: 0.0010 - loss_1: 47.9345 - loss_2: 44.2228 - acc_ensemble: 0.9100 - acc_1: 0.8925 - acc_2: 0.8600\n",
      "Epoch 26/45\n",
      "100/100 - 63s - lr:0: 0.0010 - loss_1: 43.2773 - loss_2: 39.2102 - acc_ensemble: 0.9050 - acc_1: 0.8900 - acc_2: 0.8900\n",
      "Epoch 27/45\n",
      "100/100 - 63s - lr:0: 0.0010 - loss_1: 44.1041 - loss_2: 50.3159 - acc_ensemble: 0.9150 - acc_1: 0.8750 - acc_2: 0.8825\n",
      "Epoch 28/45\n",
      "100/100 - 63s - lr:0: 0.0010 - loss_1: 46.4666 - loss_2: 42.6682 - acc_ensemble: 0.9150 - acc_1: 0.9075 - acc_2: 0.8800\n",
      "Epoch 29/45\n",
      "100/100 - 63s - lr:0: 0.0010 - loss_1: 37.9752 - loss_2: 43.4063 - acc_ensemble: 0.9250 - acc_1: 0.8900 - acc_2: 0.8825\n",
      "Epoch 30/45\n",
      "100/100 - 63s - lr:0: 0.0010 - loss_1: 39.0925 - loss_2: 42.1208 - acc_ensemble: 0.9225 - acc_1: 0.8750 - acc_2: 0.8850\n",
      "Epoch 31/45\n",
      "100/100 - 63s - lr:0: 6.3096e-04 - loss_1: 31.0172 - loss_2: 32.8321 - acc_ensemble: 0.9275 - acc_1: 0.9050 - acc_2: 0.9125\n",
      "Epoch 32/45\n",
      "100/100 - 63s - lr:0: 3.9811e-04 - loss_1: 18.5791 - loss_2: 23.7323 - acc_ensemble: 0.9300 - acc_1: 0.9200 - acc_2: 0.9125\n",
      "Epoch 33/45\n",
      "100/100 - 63s - lr:0: 2.5119e-04 - loss_1: 18.9437 - loss_2: 18.7335 - acc_ensemble: 0.9450 - acc_1: 0.9250 - acc_2: 0.9150\n",
      "Epoch 34/45\n",
      "100/100 - 63s - lr:0: 1.5849e-04 - loss_1: 15.9609 - loss_2: 16.3456 - acc_ensemble: 0.9350 - acc_1: 0.9100 - acc_2: 0.9125\n",
      "Epoch 35/45\n",
      "100/100 - 63s - lr:0: 1.0000e-04 - loss_1: 14.7874 - loss_2: 15.7297 - acc_ensemble: 0.9400 - acc_1: 0.9125 - acc_2: 0.9150\n",
      "Epoch 36/45\n",
      "100/100 - 63s - lr:0: 6.3096e-05 - loss_1: 13.0910 - loss_2: 14.2984 - acc_ensemble: 0.9400 - acc_1: 0.9225 - acc_2: 0.9200\n",
      "Epoch 37/45\n",
      "100/100 - 63s - lr:0: 3.9811e-05 - loss_1: 13.3883 - loss_2: 13.4489 - acc_ensemble: 0.9325 - acc_1: 0.9075 - acc_2: 0.9200\n",
      "Epoch 38/45\n",
      "100/100 - 63s - lr:0: 2.5119e-05 - loss_1: 13.4793 - loss_2: 12.5024 - acc_ensemble: 0.9375 - acc_1: 0.9150 - acc_2: 0.9150\n",
      "Epoch 39/45\n",
      "100/100 - 63s - lr:0: 1.5849e-05 - loss_1: 13.0312 - loss_2: 12.7497 - acc_ensemble: 0.9375 - acc_1: 0.9250 - acc_2: 0.9200\n",
      "Epoch 40/45\n",
      "100/100 - 63s - lr:0: 1.0000e-05 - loss_1: 12.9698 - loss_2: 11.1883 - acc_ensemble: 0.9350 - acc_1: 0.9175 - acc_2: 0.9175\n",
      "Epoch 41/45\n",
      "100/100 - 63s - lr:0: 6.3096e-06 - loss_1: 12.8543 - loss_2: 12.0911 - acc_ensemble: 0.9400 - acc_1: 0.9200 - acc_2: 0.9200\n",
      "Epoch 42/45\n",
      "100/100 - 63s - lr:0: 3.9811e-06 - loss_1: 11.6126 - loss_2: 12.3725 - acc_ensemble: 0.9400 - acc_1: 0.9225 - acc_2: 0.9200\n",
      "Epoch 43/45\n",
      "100/100 - 63s - lr:0: 2.5119e-06 - loss_1: 12.9479 - loss_2: 12.8068 - acc_ensemble: 0.9400 - acc_1: 0.9200 - acc_2: 0.9200\n",
      "Epoch 44/45\n",
      "100/100 - 63s - lr:0: 1.5849e-06 - loss_1: 12.4091 - loss_2: 13.4614 - acc_ensemble: 0.9400 - acc_1: 0.9225 - acc_2: 0.9200\n",
      "Epoch 45/45\n",
      "100/100 - 63s - lr:0: 1.0000e-06 - loss_1: 13.1712 - loss_2: 11.7060 - acc_ensemble: 0.9400 - acc_1: 0.9200 - acc_2: 0.9200\n"
     ]
    }
   ],
   "source": [
    "history = model.fit(EPOCHS, STEPS_PER_EPOCH, log_path=model_path if SAVE else None)"
   ]
  },
  {
   "cell_type": "markdown",
   "metadata": {},
   "source": [
    "## Evaluation"
   ]
  },
  {
   "cell_type": "markdown",
   "metadata": {},
   "source": [
    "### Baseline"
   ]
  },
  {
   "cell_type": "code",
   "execution_count": 15,
   "metadata": {},
   "outputs": [
    {
     "name": "stdout",
     "output_type": "stream",
     "text": [
      "WARNING:tensorflow:From /home/gong/anaconda3/lib/python3.5/site-packages/tensorflow/python/training/saver.py:1266: checkpoint_exists (from tensorflow.python.training.checkpoint_management) is deprecated and will be removed in a future version.\n",
      "Instructions for updating:\n",
      "Use standard file APIs to check for files with this prefix.\n",
      "INFO:tensorflow:Restoring parameters from models/omniglot-res_1/ckpt\n",
      "Model 1 acc: 0.8049999999999999\n",
      "Mean acc: 0.8049999999999999 , std: 0.0\n"
     ]
    }
   ],
   "source": [
    "assert NUM_BRANCHES == 1\n",
    "\n",
    "model_id_list = [1]\n",
    "baseline_acc_list = []\n",
    "\n",
    "for model_id in model_id_list:\n",
    "    tf.reset_default_graph()\n",
    "    model_name = '{}-{}_{:d}'.format(DATASET, ARCHITECTURE, MODEL_ID)\n",
    "    model_path = os.path.join('models', model_name)\n",
    "    \n",
    "    with TFSessionGrow() as sess:\n",
    "        restore_sess(sess, model_path)\n",
    "        acc = baseline_one_shot(sess, model_name='model_'+str(model_id))\n",
    "        print('Model {} acc:'.format(model_id), acc)\n",
    "        baseline_acc_list.append(acc)\n",
    "        \n",
    "print('Mean acc:', np.mean(baseline_acc_list), ', std:', np.std(baseline_acc_list))"
   ]
  },
  {
   "cell_type": "markdown",
   "metadata": {},
   "source": [
    "### Virtual Branching"
   ]
  },
  {
   "cell_type": "code",
   "execution_count": 8,
   "metadata": {},
   "outputs": [
    {
     "name": "stdout",
     "output_type": "stream",
     "text": [
      "WARNING:tensorflow:From /home/gong/anaconda3/lib/python3.5/site-packages/tensorflow/python/training/saver.py:1266: checkpoint_exists (from tensorflow.python.training.checkpoint_management) is deprecated and will be removed in a future version.\n",
      "Instructions for updating:\n",
      "Use standard file APIs to check for files with this prefix.\n",
      "INFO:tensorflow:Restoring parameters from models/vb-omniglot-res-B2-S0.25_1/ckpt\n",
      "Model 1 acc: 0.8375 [0.7849999999999999, 0.8125]\n",
      "Mean acc: 0.8375 , std: 0.0\n"
     ]
    }
   ],
   "source": [
    "model_id_list = [1]\n",
    "vbranch_acc_list = []\n",
    "\n",
    "for model_id in model_id_list:\n",
    "    tf.reset_default_graph()\n",
    "    \n",
    "    model_name = 'vb-{}-{}-B{:d}-S{:.2f}_{:d}'.format(dataset, architecture,\n",
    "                                            NUM_BRANCHES, SHARED_FRAC, model_id)\n",
    "    model_path = os.path.join('models', model_name)\n",
    "    \n",
    "    with TFSessionGrow() as sess:\n",
    "        restore_sess(sess, model_path)    \n",
    "        acc, branch_acc = vbranch_one_shot(sess, model_name='model_'+str(model_id), \n",
    "                                           n_branches=NUM_BRANCHES)\n",
    "        print('Model {} acc:'.format(model_id), acc, branch_acc)\n",
    "        vbranch_acc_list.append(acc)\n",
    "        \n",
    "print('Mean acc:', np.mean(vbranch_acc_list), ', std:', np.std(vbranch_acc_list))"
   ]
  },
  {
   "cell_type": "code",
   "execution_count": null,
   "metadata": {},
   "outputs": [],
   "source": []
  }
 ],
 "metadata": {
  "kernelspec": {
   "display_name": "Python 3",
   "language": "python",
   "name": "python3"
  },
  "language_info": {
   "codemirror_mode": {
    "name": "ipython",
    "version": 3
   },
   "file_extension": ".py",
   "mimetype": "text/x-python",
   "name": "python",
   "nbconvert_exporter": "python",
   "pygments_lexer": "ipython3",
   "version": "3.6.0"
  }
 },
 "nbformat": 4,
 "nbformat_minor": 2
}
