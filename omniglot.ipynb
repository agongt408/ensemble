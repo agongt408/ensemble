{
 "cells": [
  {
   "cell_type": "markdown",
   "metadata": {},
   "source": [
    "# Omnigot One-Shot with Virtual Branching"
   ]
  },
  {
   "cell_type": "code",
   "execution_count": 1,
   "metadata": {},
   "outputs": [
    {
     "name": "stdout",
     "output_type": "stream",
     "text": [
      "1.13.1\n"
     ]
    }
   ],
   "source": [
    "import tensorflow as tf\n",
    "print(tf.__version__)\n",
    "import numpy as np\n",
    "import os\n",
    "import matplotlib.pyplot as plt"
   ]
  },
  {
   "cell_type": "code",
   "execution_count": 2,
   "metadata": {},
   "outputs": [],
   "source": [
    "# os.environ['CUDA_VISIBLE_DEVICES'] = '-1'"
   ]
  },
  {
   "cell_type": "code",
   "execution_count": 3,
   "metadata": {},
   "outputs": [
    {
     "name": "stderr",
     "output_type": "stream",
     "text": [
      "Using TensorFlow backend.\n"
     ]
    }
   ],
   "source": [
    "from vbranch.applications.resnet import ResNet18\n",
    "from vbranch.applications.cnn import SimpleCNNLarge\n",
    "from vbranch.datasets import omniglot\n",
    "\n",
    "from vbranch.utils import *\n",
    "from vbranch.callbacks import one_shot_acc\n",
    "from vbranch.losses import triplet_omniglot"
   ]
  },
  {
   "cell_type": "code",
   "execution_count": 4,
   "metadata": {},
   "outputs": [],
   "source": [
    "SAVE = False\n",
    "MODEL_ID = 1\n",
    "ARCHITECTURE = 'simple'\n",
    "DATASET = 'omniglot'\n",
    "NUM_BRANCHES = 4\n",
    "SHARED_FRAC = 1.0\n",
    "\n",
    "EPOCHS = 60\n",
    "STEPS_PER_EPOCH = 100\n",
    "T_0 = 40\n",
    "OUTPUT_DIM = 128"
   ]
  },
  {
   "cell_type": "markdown",
   "metadata": {},
   "source": [
    "## Load Data"
   ]
  },
  {
   "cell_type": "code",
   "execution_count": 5,
   "metadata": {},
   "outputs": [],
   "source": [
    "class SyncGenerator(object):\n",
    "    def __init__(self, A, P, K, n_branches):\n",
    "        self.A = A\n",
    "        self.P = P\n",
    "        self.K = K\n",
    "        self.n_branches = n_branches\n",
    "        self.gen = omniglot.load_generator('train', A*n_branches, P, K)\n",
    "        self.batch = None\n",
    "        self.requests = 0\n",
    "        \n",
    "    def get(self, i):\n",
    "        if self.batch is None:\n",
    "            self.batch = next(self.gen)\n",
    "            self.requests = self.n_branches\n",
    "            \n",
    "        branch_batch = self.batch[i*self.A*self.P*self.K:(i+1)*self.A*self.P*self.K]\n",
    "        self.requests -= 1\n",
    "        \n",
    "        if self.requests == 0:\n",
    "            self.batch = None\n",
    "            \n",
    "        return branch_batch\n",
    "    \n",
    "class Slicer(object):\n",
    "    def __init__(self, parent, branch):\n",
    "        self.parent = parent\n",
    "        self.branch = branch\n",
    "        \n",
    "    def __next__(self):\n",
    "        return self.parent.get(self.branch)"
   ]
  },
  {
   "cell_type": "code",
   "execution_count": 6,
   "metadata": {},
   "outputs": [],
   "source": [
    "if DATASET == 'omniglot':\n",
    "    A, P, K = 1, 8, 4\n",
    "    train_generator = omniglot.load_generator('train', A*NUM_BRANCHES, P, K)\n",
    "\n",
    "    sync_gen = SyncGenerator(A, P, K, NUM_BRANCHES)\n",
    "    branch_gen = [Slicer(sync_gen, i) for i in range(NUM_BRANCHES)]"
   ]
  },
  {
   "cell_type": "code",
   "execution_count": 22,
   "metadata": {},
   "outputs": [],
   "source": [
    "batch = next(branch_gen[3])"
   ]
  },
  {
   "cell_type": "code",
   "execution_count": 23,
   "metadata": {},
   "outputs": [],
   "source": [
    "# batch = train_generator.sample(4, 4, 4, flatten=False, preprocess=False)"
   ]
  },
  {
   "cell_type": "code",
   "execution_count": 24,
   "metadata": {},
   "outputs": [
    {
     "data": {
      "image/png": "[encoded data removed]",
      "text/plain": [
       "<Figure size 432x288 with 1 Axes>"
      ]
     },
     "metadata": {
      "needs_background": "light"
     },
     "output_type": "display_data"
    }
   ],
   "source": [
    "plt.imshow(batch[0].squeeze(), cmap=plt.cm.gray)\n",
    "plt.show()"
   ]
  },
  {
   "cell_type": "markdown",
   "metadata": {},
   "source": [
    "## Build Model"
   ]
  },
  {
   "cell_type": "code",
   "execution_count": 9,
   "metadata": {},
   "outputs": [
    {
     "name": "stdout",
     "output_type": "stream",
     "text": [
      "models/vb-omniglot-simple-B4-S1.00_1\n"
     ]
    }
   ],
   "source": [
    "if not os.path.isdir('models'):\n",
    "    os.system('mkdir models')\n",
    "\n",
    "if NUM_BRANCHES == 1:\n",
    "    model_name = '{}-{}_{:d}'.format(DATASET, ARCHITECTURE, MODEL_ID)\n",
    "else:\n",
    "    model_name = 'vb-{}-{}-B{:d}-S{:.2f}_{:d}'.format(DATASET, ARCHITECTURE,\n",
    "                                        NUM_BRANCHES, SHARED_FRAC, MODEL_ID)\n",
    "model_path = os.path.join('models', model_name)\n",
    "print(model_path)"
   ]
  },
  {
   "cell_type": "code",
   "execution_count": 10,
   "metadata": {},
   "outputs": [
    {
     "name": "stdout",
     "output_type": "stream",
     "text": [
      "(None, 105, 105, 1)\n",
      "WARNING:tensorflow:From /home/gong/anaconda3/lib/python3.6/site-packages/tensorflow/python/data/ops/dataset_ops.py:429: py_func (from tensorflow.python.ops.script_ops) is deprecated and will be removed in a future version.\n",
      "Instructions for updating:\n",
      "tf.py_func is deprecated in TF V2. Instead, use\n",
      "    tf.py_function, which takes a python function which manipulates tf eager\n",
      "    tensors instead of numpy arrays. It's easy to convert a tf eager tensor to\n",
      "    an ndarray (just call tensor.numpy()) but having access to eager tensors\n",
      "    means `tf.py_function`s can use accelerators such as GPUs as well as\n",
      "    being differentiable using a gradient tape.\n",
      "    \n",
      "WARNING:tensorflow:From /home/gong/anaconda3/lib/python3.6/site-packages/tensorflow/python/data/ops/iterator_ops.py:358: colocate_with (from tensorflow.python.framework.ops) is deprecated and will be removed in a future version.\n",
      "Instructions for updating:\n",
      "Colocations handled automatically by placer.\n"
     ]
    }
   ],
   "source": [
    "input_dim = (None,) + batch.shape[-3:]\n",
    "print(input_dim)\n",
    "\n",
    "tf.reset_default_graph()\n",
    "\n",
    "inputs, train_init_op, test_init_op = get_data_iterator_from_generator(branch_gen, input_dim, \n",
    "                                                                       n=NUM_BRANCHES)\n",
    "# combined_input, train_init_op, test_init_op = get_data_iterator_from_generator(train_generator, \n",
    "#                                                                                input_dim, n=NUM_BRANCHES)\n",
    "# inputs = [combined_input[0][i*A*P*K:(i+1)*A*P*K] for i in range(NUM_BRANCHES)]"
   ]
  },
  {
   "cell_type": "code",
   "execution_count": 11,
   "metadata": {},
   "outputs": [
    {
     "data": {
      "text/plain": [
       "[<tf.Tensor 'input_1:0' shape=(?, 105, 105, 1) dtype=float32>,\n",
       " <tf.Tensor 'input_2:0' shape=(?, 105, 105, 1) dtype=float32>,\n",
       " <tf.Tensor 'input_3:0' shape=(?, 105, 105, 1) dtype=float32>,\n",
       " <tf.Tensor 'input_4:0' shape=(?, 105, 105, 1) dtype=float32>]"
      ]
     },
     "execution_count": 11,
     "metadata": {},
     "output_type": "execute_result"
    }
   ],
   "source": [
    "inputs"
   ]
  },
  {
   "cell_type": "code",
   "execution_count": 12,
   "metadata": {
    "scrolled": true
   },
   "outputs": [
    {
     "name": "stdout",
     "output_type": "stream",
     "text": [
      "WARNING:tensorflow:From /home/gong/anaconda3/lib/python3.6/site-packages/tensorflow/python/ops/math_ops.py:3066: to_int32 (from tensorflow.python.ops.math_ops) is deprecated and will be removed in a future version.\n",
      "Instructions for updating:\n",
      "Use tf.cast instead.\n",
      "WARNING:tensorflow:From /home/gong/anaconda3/lib/python3.6/site-packages/tensorflow/python/ops/math_grad.py:102: div (from tensorflow.python.ops.math_ops) is deprecated and will be removed in a future version.\n",
      "Instructions for updating:\n",
      "Deprecated in favor of operator or tf.math.divide.\n",
      "i   Layer name                      Output shape        Num param  Inbound            \n",
      "--------------------------------------------------------------------------------------\n",
      "    Input                           [None,105,105,1]                                  \n",
      "--------------------------------------------------------------------------------------\n",
      "    Input                           [None,105,105,1]                                  \n",
      "--------------------------------------------------------------------------------------\n",
      "    Input                           [None,105,105,1]                                  \n",
      "--------------------------------------------------------------------------------------\n",
      "    Input                           [None,105,105,1]                                  \n",
      "--------------------------------------------------------------------------------------\n",
      "0   conv1_pad (ZeroPadding2D)       [None,111,111,1]    0          input              \n",
      "                                    [None,111,111,1]                                  \n",
      "                                    [None,111,111,1]                                  \n",
      "                                    [None,111,111,1]                                  \n",
      "--------------------------------------------------------------------------------------\n",
      "1   conv1 (Conv2D)                  [None,53,53,32] []  1600       conv1_pad          \n",
      "                                    [None,53,53,32] []                                \n",
      "                                    [None,53,53,32] []                                \n",
      "                                    [None,53,53,32] []                                \n",
      "--------------------------------------------------------------------------------------\n",
      "2   bn_conv1 (BatchNormalization)   [None,53,53,32] []  64         conv1              \n",
      "                                    [None,53,53,32] []                                \n",
      "                                    [None,53,53,32] []                                \n",
      "                                    [None,53,53,32] []                                \n",
      "--------------------------------------------------------------------------------------\n",
      "3   relu (Activation)               [None,53,53,32] []  0          bn_conv1           \n",
      "                                    [None,53,53,32] []                                \n",
      "                                    [None,53,53,32] []                                \n",
      "                                    [None,53,53,32] []                                \n",
      "--------------------------------------------------------------------------------------\n",
      "4   pool1_pad (ZeroPadding2D)       [None,55,55,32] []  0          relu               \n",
      "                                    [None,55,55,32] []                                \n",
      "                                    [None,55,55,32] []                                \n",
      "                                    [None,55,55,32] []                                \n",
      "--------------------------------------------------------------------------------------\n",
      "5   max_pool2d (MaxPooling2D)       [None,27,27,32] []  0          pool1_pad          \n",
      "                                    [None,27,27,32] []                                \n",
      "                                    [None,27,27,32] []                                \n",
      "                                    [None,27,27,32] []                                \n",
      "--------------------------------------------------------------------------------------\n",
      "6   conv2d_1_1 (Conv2D)             [None,27,27,32] []  9248       max_pool2d         \n",
      "                                    [None,27,27,32] []                                \n",
      "                                    [None,27,27,32] []                                \n",
      "                                    [None,27,27,32] []                                \n",
      "--------------------------------------------------------------------------------------\n",
      "7   bn_1_1 (BatchNormalization)     [None,27,27,32] []  64         conv2d_1_1         \n",
      "                                    [None,27,27,32] []                                \n",
      "                                    [None,27,27,32] []                                \n",
      "                                    [None,27,27,32] []                                \n",
      "--------------------------------------------------------------------------------------\n",
      "8   relu_1_1 (Activation)           [None,27,27,32] []  0          bn_1_1             \n",
      "                                    [None,27,27,32] []                                \n",
      "                                    [None,27,27,32] []                                \n",
      "                                    [None,27,27,32] []                                \n",
      "--------------------------------------------------------------------------------------\n",
      "9   conv2d_1_2 (Conv2D)             [None,27,27,32] []  9248       relu_1_1           \n",
      "                                    [None,27,27,32] []                                \n",
      "                                    [None,27,27,32] []                                \n",
      "                                    [None,27,27,32] []                                \n",
      "--------------------------------------------------------------------------------------\n",
      "10  bn_1_2 (BatchNormalization)     [None,27,27,32] []  64         conv2d_1_2         \n",
      "                                    [None,27,27,32] []                                \n",
      "                                    [None,27,27,32] []                                \n",
      "                                    [None,27,27,32] []                                \n",
      "--------------------------------------------------------------------------------------\n",
      "11  relu_1_2 (Activation)           [None,27,27,32] []  0          bn_1_2             \n",
      "                                    [None,27,27,32] []                                \n",
      "                                    [None,27,27,32] []                                \n",
      "                                    [None,27,27,32] []                                \n",
      "--------------------------------------------------------------------------------------\n",
      "12  avg_pool2d_1 (AveragePooling2D  [None,13,13,32] []  0          relu_1_2           \n",
      "                                    [None,13,13,32] []                                \n",
      "                                    [None,13,13,32] []                                \n",
      "                                    [None,13,13,32] []                                \n",
      "--------------------------------------------------------------------------------------\n",
      "13  conv2d_2_1 (Conv2D)             [None,13,13,64] []  18496      avg_pool2d_1       \n",
      "                                    [None,13,13,64] []                                \n",
      "                                    [None,13,13,64] []                                \n",
      "                                    [None,13,13,64] []                                \n",
      "--------------------------------------------------------------------------------------\n",
      "14  bn_2_1 (BatchNormalization)     [None,13,13,64] []  128        conv2d_2_1         \n",
      "                                    [None,13,13,64] []                                \n",
      "                                    [None,13,13,64] []                                \n",
      "                                    [None,13,13,64] []                                \n",
      "--------------------------------------------------------------------------------------\n",
      "15  relu_2_1 (Activation)           [None,13,13,64] []  0          bn_2_1             \n",
      "                                    [None,13,13,64] []                                \n",
      "                                    [None,13,13,64] []                                \n",
      "                                    [None,13,13,64] []                                \n",
      "--------------------------------------------------------------------------------------\n",
      "16  conv2d_2_2 (Conv2D)             [None,13,13,64] []  36928      relu_2_1           \n",
      "                                    [None,13,13,64] []                                \n",
      "                                    [None,13,13,64] []                                \n",
      "                                    [None,13,13,64] []                                \n",
      "--------------------------------------------------------------------------------------\n",
      "17  bn_2_2 (BatchNormalization)     [None,13,13,64] []  128        conv2d_2_2         \n",
      "                                    [None,13,13,64] []                                \n",
      "                                    [None,13,13,64] []                                \n",
      "                                    [None,13,13,64] []                                \n",
      "--------------------------------------------------------------------------------------\n",
      "18  relu_2_2 (Activation)           [None,13,13,64] []  0          bn_2_2             \n",
      "                                    [None,13,13,64] []                                \n",
      "                                    [None,13,13,64] []                                \n",
      "                                    [None,13,13,64] []                                \n",
      "--------------------------------------------------------------------------------------\n",
      "19  avg_pool2d_2 (AveragePooling2D  [None,6,6,64] []    0          relu_2_2           \n",
      "                                    [None,6,6,64] []                                  \n",
      "                                    [None,6,6,64] []                                  \n",
      "                                    [None,6,6,64] []                                  \n",
      "--------------------------------------------------------------------------------------\n",
      "20  conv2d_3_1 (Conv2D)             [None,6,6,128] []   73856      avg_pool2d_2       \n",
      "                                    [None,6,6,128] []                                 \n",
      "                                    [None,6,6,128] []                                 \n",
      "                                    [None,6,6,128] []                                 \n",
      "--------------------------------------------------------------------------------------\n",
      "21  bn_3_1 (BatchNormalization)     [None,6,6,128] []   256        conv2d_3_1         \n",
      "                                    [None,6,6,128] []                                 \n",
      "                                    [None,6,6,128] []                                 \n",
      "                                    [None,6,6,128] []                                 \n",
      "--------------------------------------------------------------------------------------\n",
      "22  relu_3_1 (Activation)           [None,6,6,128] []   0          bn_3_1             \n",
      "                                    [None,6,6,128] []                                 \n",
      "                                    [None,6,6,128] []                                 \n",
      "                                    [None,6,6,128] []                                 \n",
      "--------------------------------------------------------------------------------------\n",
      "23  conv2d_3_2 (Conv2D)             [None,6,6,128] []   147584     relu_3_1           \n",
      "                                    [None,6,6,128] []                                 \n",
      "                                    [None,6,6,128] []                                 \n",
      "                                    [None,6,6,128] []                                 \n",
      "--------------------------------------------------------------------------------------\n",
      "24  bn_3_2 (BatchNormalization)     [None,6,6,128] []   256        conv2d_3_2         \n",
      "                                    [None,6,6,128] []                                 \n",
      "                                    [None,6,6,128] []                                 \n",
      "                                    [None,6,6,128] []                                 \n",
      "--------------------------------------------------------------------------------------\n",
      "25  relu_3_2 (Activation)           [None,6,6,128] []   0          bn_3_2             \n",
      "                                    [None,6,6,128] []                                 \n",
      "                                    [None,6,6,128] []                                 \n",
      "                                    [None,6,6,128] []                                 \n",
      "--------------------------------------------------------------------------------------\n",
      "26  avg_pool2d_3 (AveragePooling2D  [None,3,3,128] []   0          relu_3_2           \n",
      "                                    [None,3,3,128] []                                 \n",
      "                                    [None,3,3,128] []                                 \n",
      "                                    [None,3,3,128] []                                 \n",
      "--------------------------------------------------------------------------------------\n",
      "27  conv2d_4_1 (Conv2D)             [None,3,3,256] []   295168     avg_pool2d_3       \n",
      "                                    [None,3,3,256] []                                 \n",
      "                                    [None,3,3,256] []                                 \n",
      "                                    [None,3,3,256] []                                 \n",
      "--------------------------------------------------------------------------------------\n",
      "28  bn_4_1 (BatchNormalization)     [None,3,3,256] []   512        conv2d_4_1         \n",
      "                                    [None,3,3,256] []                                 \n",
      "                                    [None,3,3,256] []                                 \n",
      "                                    [None,3,3,256] []                                 \n",
      "--------------------------------------------------------------------------------------\n",
      "29  relu_4_1 (Activation)           [None,3,3,256] []   0          bn_4_1             \n",
      "                                    [None,3,3,256] []                                 \n",
      "                                    [None,3,3,256] []                                 \n",
      "                                    [None,3,3,256] []                                 \n",
      "--------------------------------------------------------------------------------------\n",
      "30  conv2d_4_2 (Conv2D)             [None,3,3,256] []   590080     relu_4_1           \n",
      "                                    [None,3,3,256] []                                 \n",
      "                                    [None,3,3,256] []                                 \n",
      "                                    [None,3,3,256] []                                 \n",
      "--------------------------------------------------------------------------------------\n",
      "31  bn_4_2 (BatchNormalization)     [None,3,3,256] []   512        conv2d_4_2         \n",
      "                                    [None,3,3,256] []                                 \n",
      "                                    [None,3,3,256] []                                 \n",
      "                                    [None,3,3,256] []                                 \n",
      "--------------------------------------------------------------------------------------\n",
      "32  relu_4_2 (Activation)           [None,3,3,256] []   0          bn_4_2             \n",
      "                                    [None,3,3,256] []                                 \n",
      "                                    [None,3,3,256] []                                 \n",
      "                                    [None,3,3,256] []                                 \n",
      "--------------------------------------------------------------------------------------\n",
      "33  global_avg_pool2d (GlobalAvera  [None,256] []       0          relu_4_2           \n",
      "                                    [None,256] []                                     \n",
      "                                    [None,256] []                                     \n",
      "                                    [None,256] []                                     \n",
      "--------------------------------------------------------------------------------------\n",
      "34  fc1 (Dense)                     [None,256] []       65792      global_avg_pool2d  \n",
      "                                    [None,256] []                                     \n",
      "                                    [None,256] []                                     \n",
      "                                    [None,256] []                                     \n",
      "--------------------------------------------------------------------------------------\n",
      "35  bn_fc1 (BatchNormalization)     [None,256] []       512        fc1                \n",
      "                                    [None,256] []                                     \n",
      "                                    [None,256] []                                     \n",
      "                                    [None,256] []                                     \n",
      "--------------------------------------------------------------------------------------\n",
      "36  relu_fc1 (Activation)           [None,256] []       0          bn_fc1             \n",
      "                                    [None,256] []                                     \n",
      "                                    [None,256] []                                     \n",
      "                                    [None,256] []                                     \n",
      "--------------------------------------------------------------------------------------\n",
      "37  output (Dense)                  [None,128]          32896      relu_fc1           \n",
      "                                    [None,128]                                        \n",
      "                                    [None,128]                                        \n",
      "                                    [None,128]                                        \n",
      "--------------------------------------------------------------------------------------\n",
      "Total parameters: 1283392\n"
     ]
    }
   ],
   "source": [
    "lr = tf.placeholder('float32', name='lr')\n",
    "lr_scheduler = lr_exp_decay_scheduler(0.001, T_0, EPOCHS, 0.001)\n",
    "\n",
    "name = 'model'\n",
    "\n",
    "with tf.variable_scope(name, reuse=tf.AUTO_REUSE):\n",
    "    if ARCHITECTURE == 'simple':\n",
    "        model = SimpleCNNLarge(inputs, OUTPUT_DIM, name=name, shared_frac=SHARED_FRAC)\n",
    "    elif ARCHITECTURE == 'res':\n",
    "        model = ResNet18(inputs, OUTPUT_DIM, name=name, shared_frac=SHARED_FRAC)\n",
    "        \n",
    "    optimizer = tf.train.AdamOptimizer(learning_rate=lr)\n",
    "\n",
    "    # Compile model\n",
    "    model.compile(optimizer, triplet_omniglot(A, P, K), \n",
    "                  train_init_op, test_init_op, \n",
    "                  callbacks={'acc': one_shot_acc(NUM_BRANCHES)}, \n",
    "                  schedulers={'lr:0': lr_scheduler})\n",
    "\n",
    "model.summary()"
   ]
  },
  {
   "cell_type": "code",
   "execution_count": 13,
   "metadata": {},
   "outputs": [
    {
     "name": "stdout",
     "output_type": "stream",
     "text": [
      "[<tf.Tensor 'model/output/vb1/output:0' shape=(?, 128) dtype=float32>, <tf.Tensor 'model/output/vb2/output:0' shape=(?, 128) dtype=float32>, <tf.Tensor 'model/output/vb3/output:0' shape=(?, 128) dtype=float32>, <tf.Tensor 'model/output/vb4/output:0' shape=(?, 128) dtype=float32>]\n"
     ]
    }
   ],
   "source": [
    "print(model.output)"
   ]
  },
  {
   "cell_type": "code",
   "execution_count": 14,
   "metadata": {},
   "outputs": [
    {
     "data": {
      "image/png": "[encoded data removed]",
      "text/plain": [
       "<Figure size 432x288 with 1 Axes>"
      ]
     },
     "metadata": {
      "needs_background": "light"
     },
     "output_type": "display_data"
    }
   ],
   "source": [
    "lr_steps = [lr_scheduler(e + 1) for e in range(EPOCHS)]\n",
    "plt.plot(lr_steps)\n",
    "plt.show()"
   ]
  },
  {
   "cell_type": "code",
   "execution_count": 15,
   "metadata": {},
   "outputs": [
    {
     "data": {
      "text/plain": [
       "[<tf.Operation 'test_init_op_1' type=MakeIterator>,\n",
       " <tf.Operation 'test_init_op_2' type=MakeIterator>,\n",
       " <tf.Operation 'test_init_op_3' type=MakeIterator>,\n",
       " <tf.Operation 'test_init_op_4' type=MakeIterator>]"
      ]
     },
     "execution_count": 15,
     "metadata": {},
     "output_type": "execute_result"
    }
   ],
   "source": [
    "model.test_init_ops"
   ]
  },
  {
   "cell_type": "code",
   "execution_count": 16,
   "metadata": {
    "scrolled": false
   },
   "outputs": [
    {
     "name": "stdout",
     "output_type": "stream",
     "text": [
      "Epoch 1/60\n",
      " - 29s - lr:0: 0.0010 - loss_1: 270.6875 - loss_2: 253.0603 - loss_3: 234.5373 - loss_4: 255.8024 - acc_ensemble: 0.5850 - acc_1: 0.5850 - acc_2: 0.5850 - acc_3: 0.5850 - acc_4: 0.5850\n",
      "Epoch 2/60\n",
      " - 10s - lr:0: 0.0010 - loss_1: 70.6240 - loss_2: 74.9567 - loss_3: 66.8438 - loss_4: 70.3890 - acc_ensemble: 0.6800 - acc_1: 0.6800 - acc_2: 0.6800 - acc_3: 0.6800 - acc_4: 0.6800\n",
      "Epoch 3/60\n",
      " - 10s - lr:0: 0.0010 - loss_1: 41.8302 - loss_2: 41.0904 - loss_3: 42.5982 - loss_4: 45.9606 - acc_ensemble: 0.7050 - acc_1: 0.7050 - acc_2: 0.7050 - acc_3: 0.7050 - acc_4: 0.7050\n",
      "Epoch 4/60\n",
      " - 10s - lr:0: 0.0010 - loss_1: 42.7190 - loss_2: 41.0183 - loss_3: 46.9236 - loss_4: 45.6100 - acc_ensemble: 0.6950 - acc_1: 0.6950 - acc_2: 0.6950 - acc_3: 0.6950 - acc_4: 0.6950\n",
      "Epoch 5/60\n",
      " - 10s - lr:0: 0.0010 - loss_1: 33.4798 - loss_2: 33.0463 - loss_3: 33.1161 - loss_4: 39.7262 - acc_ensemble: 0.7225 - acc_1: 0.7225 - acc_2: 0.7225 - acc_3: 0.7225 - acc_4: 0.7225\n",
      "Epoch 6/60\n",
      " - 10s - lr:0: 0.0010 - loss_1: 34.0678 - loss_2: 29.0353 - loss_3: 25.5850 - loss_4: 27.1586 - acc_ensemble: 0.7475 - acc_1: 0.7475 - acc_2: 0.7475 - acc_3: 0.7475 - acc_4: 0.7475\n",
      "Epoch 7/60\n",
      " - 10s - lr:0: 0.0010 - loss_1: 28.9520 - loss_2: 27.1917 - loss_3: 31.1795 - loss_4: 33.4236 - acc_ensemble: 0.7900 - acc_1: 0.7900 - acc_2: 0.7900 - acc_3: 0.7900 - acc_4: 0.7900\n",
      "Epoch 8/60\n",
      " - 10s - lr:0: 0.0010 - loss_1: 40.0467 - loss_2: 38.4500 - loss_3: 36.8950 - loss_4: 33.4518 - acc_ensemble: 0.7500 - acc_1: 0.7500 - acc_2: 0.7500 - acc_3: 0.7500 - acc_4: 0.7500\n",
      "Epoch 9/60\n",
      " - 10s - lr:0: 0.0010 - loss_1: 31.6319 - loss_2: 31.1276 - loss_3: 28.7293 - loss_4: 31.5079 - acc_ensemble: 0.7800 - acc_1: 0.7800 - acc_2: 0.7800 - acc_3: 0.7800 - acc_4: 0.7800\n",
      "Epoch 10/60\n",
      " - 10s - lr:0: 0.0010 - loss_1: 24.1249 - loss_2: 27.3347 - loss_3: 33.0862 - loss_4: 33.3215 - acc_ensemble: 0.8025 - acc_1: 0.8025 - acc_2: 0.8025 - acc_3: 0.8025 - acc_4: 0.8025\n",
      "Epoch 11/60\n",
      " - 10s - lr:0: 0.0010 - loss_1: 25.4783 - loss_2: 20.2709 - loss_3: 31.1167 - loss_4: 25.2783 - acc_ensemble: 0.8100 - acc_1: 0.8100 - acc_2: 0.8100 - acc_3: 0.8100 - acc_4: 0.8100\n",
      "Epoch 12/60\n",
      " - 10s - lr:0: 0.0010 - loss_1: 21.3160 - loss_2: 22.9008 - loss_3: 20.6815 - loss_4: 19.7486 - acc_ensemble: 0.8200 - acc_1: 0.8200 - acc_2: 0.8200 - acc_3: 0.8200 - acc_4: 0.8200\n",
      "Epoch 13/60\n",
      " - 10s - lr:0: 0.0010 - loss_1: 20.0316 - loss_2: 18.6676 - loss_3: 20.1789 - loss_4: 22.5353 - acc_ensemble: 0.8125 - acc_1: 0.8125 - acc_2: 0.8125 - acc_3: 0.8125 - acc_4: 0.8125\n",
      "Epoch 14/60\n",
      " - 10s - lr:0: 0.0010 - loss_1: 23.9246 - loss_2: 18.0701 - loss_3: 23.9525 - loss_4: 19.9375 - acc_ensemble: 0.8425 - acc_1: 0.8425 - acc_2: 0.8425 - acc_3: 0.8425 - acc_4: 0.8425\n",
      "Epoch 15/60\n",
      " - 10s - lr:0: 0.0010 - loss_1: 21.0015 - loss_2: 17.2915 - loss_3: 16.8764 - loss_4: 19.3190 - acc_ensemble: 0.8350 - acc_1: 0.8350 - acc_2: 0.8350 - acc_3: 0.8350 - acc_4: 0.8350\n",
      "Epoch 16/60\n",
      " - 10s - lr:0: 0.0010 - loss_1: 17.5535 - loss_2: 18.5584 - loss_3: 17.3782 - loss_4: 19.5504 - acc_ensemble: 0.8500 - acc_1: 0.8500 - acc_2: 0.8500 - acc_3: 0.8500 - acc_4: 0.8500\n",
      "Epoch 17/60\n",
      " - 10s - lr:0: 0.0010 - loss_1: 19.4122 - loss_2: 15.8001 - loss_3: 15.7440 - loss_4: 17.3290 - acc_ensemble: 0.8475 - acc_1: 0.8475 - acc_2: 0.8475 - acc_3: 0.8475 - acc_4: 0.8475\n",
      "Epoch 18/60\n",
      " - 10s - lr:0: 0.0010 - loss_1: 16.4945 - loss_2: 16.9395 - loss_3: 14.0892 - loss_4: 16.0950 - acc_ensemble: 0.8725 - acc_1: 0.8725 - acc_2: 0.8725 - acc_3: 0.8725 - acc_4: 0.8725\n",
      "Epoch 19/60\n",
      " - 11s - lr:0: 0.0010 - loss_1: 17.8973 - loss_2: 18.5562 - loss_3: 19.0218 - loss_4: 15.5217 - acc_ensemble: 0.8525 - acc_1: 0.8525 - acc_2: 0.8525 - acc_3: 0.8525 - acc_4: 0.8525\n",
      "Epoch 20/60\n",
      " - 10s - lr:0: 0.0010 - loss_1: 17.2158 - loss_2: 15.2091 - loss_3: 13.3750 - loss_4: 14.3941 - acc_ensemble: 0.8800 - acc_1: 0.8800 - acc_2: 0.8800 - acc_3: 0.8800 - acc_4: 0.8800\n",
      "Epoch 21/60\n",
      " - 10s - lr:0: 0.0010 - loss_1: 11.2723 - loss_2: 16.0655 - loss_3: 15.3655 - loss_4: 12.2683 - acc_ensemble: 0.8700 - acc_1: 0.8700 - acc_2: 0.8700 - acc_3: 0.8700 - acc_4: 0.8700\n",
      "Epoch 22/60\n",
      " - 10s - lr:0: 0.0010 - loss_1: 12.8951 - loss_2: 13.9719 - loss_3: 13.7310 - loss_4: 12.6225 - acc_ensemble: 0.8975 - acc_1: 0.8975 - acc_2: 0.8975 - acc_3: 0.8975 - acc_4: 0.8975\n",
      "Epoch 23/60\n",
      " - 10s - lr:0: 0.0010 - loss_1: 11.3786 - loss_2: 11.9697 - loss_3: 12.6664 - loss_4: 11.7426 - acc_ensemble: 0.9025 - acc_1: 0.9025 - acc_2: 0.9025 - acc_3: 0.9025 - acc_4: 0.9025\n",
      "Epoch 24/60\n",
      " - 10s - lr:0: 0.0010 - loss_1: 14.0131 - loss_2: 14.8978 - loss_3: 13.5103 - loss_4: 13.1655 - acc_ensemble: 0.8700 - acc_1: 0.8700 - acc_2: 0.8700 - acc_3: 0.8700 - acc_4: 0.8700\n",
      "Epoch 25/60\n",
      " - 10s - lr:0: 0.0010 - loss_1: 13.2356 - loss_2: 15.5407 - loss_3: 12.1802 - loss_4: 13.4731 - acc_ensemble: 0.8800 - acc_1: 0.8800 - acc_2: 0.8800 - acc_3: 0.8800 - acc_4: 0.8800\n",
      "Epoch 26/60\n",
      " - 10s - lr:0: 0.0010 - loss_1: 9.8163 - loss_2: 9.2311 - loss_3: 14.6948 - loss_4: 9.2637 - acc_ensemble: 0.8550 - acc_1: 0.8550 - acc_2: 0.8550 - acc_3: 0.8550 - acc_4: 0.8550\n",
      "Epoch 27/60\n",
      " - 10s - lr:0: 0.0010 - loss_1: 13.1870 - loss_2: 13.1296 - loss_3: 14.3269 - loss_4: 13.1058 - acc_ensemble: 0.9125 - acc_1: 0.9125 - acc_2: 0.9125 - acc_3: 0.9125 - acc_4: 0.9125\n",
      "Epoch 28/60\n",
      " - 10s - lr:0: 0.0010 - loss_1: 10.8740 - loss_2: 12.3040 - loss_3: 9.7037 - loss_4: 12.5873 - acc_ensemble: 0.8950 - acc_1: 0.8950 - acc_2: 0.8950 - acc_3: 0.8950 - acc_4: 0.8950\n",
      "Epoch 29/60\n",
      " - 10s - lr:0: 0.0010 - loss_1: 10.9898 - loss_2: 10.8949 - loss_3: 10.9837 - loss_4: 10.3583 - acc_ensemble: 0.8900 - acc_1: 0.8900 - acc_2: 0.8900 - acc_3: 0.8900 - acc_4: 0.8900\n",
      "Epoch 30/60\n",
      " - 10s - lr:0: 0.0010 - loss_1: 8.4948 - loss_2: 9.9609 - loss_3: 12.7619 - loss_4: 9.3255 - acc_ensemble: 0.8950 - acc_1: 0.8950 - acc_2: 0.8950 - acc_3: 0.8950 - acc_4: 0.8950\n",
      "Epoch 31/60\n",
      " - 10s - lr:0: 0.0010 - loss_1: 9.6098 - loss_2: 10.5481 - loss_3: 8.4437 - loss_4: 10.7310 - acc_ensemble: 0.8725 - acc_1: 0.8725 - acc_2: 0.8725 - acc_3: 0.8725 - acc_4: 0.8725\n",
      "Epoch 32/60\n",
      " - 10s - lr:0: 0.0010 - loss_1: 15.4865 - loss_2: 12.8882 - loss_3: 11.2380 - loss_4: 11.1121 - acc_ensemble: 0.8975 - acc_1: 0.8975 - acc_2: 0.8975 - acc_3: 0.8975 - acc_4: 0.8975\n",
      "Epoch 33/60\n",
      " - 10s - lr:0: 0.0010 - loss_1: 13.6971 - loss_2: 13.5893 - loss_3: 15.5426 - loss_4: 13.7578 - acc_ensemble: 0.9150 - acc_1: 0.9150 - acc_2: 0.9150 - acc_3: 0.9150 - acc_4: 0.9150\n",
      "Epoch 34/60\n",
      " - 10s - lr:0: 0.0010 - loss_1: 14.1887 - loss_2: 10.6342 - loss_3: 12.3611 - loss_4: 12.4647 - acc_ensemble: 0.8975 - acc_1: 0.8975 - acc_2: 0.8975 - acc_3: 0.8975 - acc_4: 0.8975\n",
      "Epoch 35/60\n",
      " - 10s - lr:0: 0.0010 - loss_1: 12.3709 - loss_2: 10.9757 - loss_3: 9.8841 - loss_4: 9.7980 - acc_ensemble: 0.8825 - acc_1: 0.8825 - acc_2: 0.8825 - acc_3: 0.8825 - acc_4: 0.8825\n",
      "Epoch 36/60\n",
      " - 10s - lr:0: 0.0010 - loss_1: 10.3032 - loss_2: 10.9347 - loss_3: 10.9525 - loss_4: 11.8314 - acc_ensemble: 0.9050 - acc_1: 0.9050 - acc_2: 0.9050 - acc_3: 0.9050 - acc_4: 0.9050\n",
      "Epoch 37/60\n",
      " - 10s - lr:0: 0.0010 - loss_1: 7.7879 - loss_2: 12.6551 - loss_3: 9.6878 - loss_4: 10.6027 - acc_ensemble: 0.8775 - acc_1: 0.8775 - acc_2: 0.8775 - acc_3: 0.8775 - acc_4: 0.8775\n",
      "Epoch 38/60\n",
      " - 10s - lr:0: 0.0010 - loss_1: 11.3915 - loss_2: 8.2241 - loss_3: 12.4203 - loss_4: 9.7987 - acc_ensemble: 0.8850 - acc_1: 0.8850 - acc_2: 0.8850 - acc_3: 0.8850 - acc_4: 0.8850\n",
      "Epoch 39/60\n",
      " - 10s - lr:0: 0.0010 - loss_1: 8.0339 - loss_2: 8.9171 - loss_3: 7.2989 - loss_4: 9.6046 - acc_ensemble: 0.9000 - acc_1: 0.9000 - acc_2: 0.9000 - acc_3: 0.9000 - acc_4: 0.9000\n",
      "Epoch 40/60\n",
      " - 10s - lr:0: 0.0010 - loss_1: 8.5963 - loss_2: 10.2729 - loss_3: 10.3055 - loss_4: 10.4980 - acc_ensemble: 0.9050 - acc_1: 0.9050 - acc_2: 0.9050 - acc_3: 0.9050 - acc_4: 0.9050\n",
      "Epoch 41/60\n",
      " - 10s - lr:0: 7.0795e-04 - loss_1: 5.6375 - loss_2: 6.0552 - loss_3: 5.8833 - loss_4: 6.6943 - acc_ensemble: 0.9200 - acc_1: 0.9200 - acc_2: 0.9200 - acc_3: 0.9200 - acc_4: 0.9200\n",
      "Epoch 42/60\n",
      " - 10s - lr:0: 5.0119e-04 - loss_1: 5.9565 - loss_2: 5.3849 - loss_3: 5.7113 - loss_4: 6.6454 - acc_ensemble: 0.9250 - acc_1: 0.9250 - acc_2: 0.9250 - acc_3: 0.9250 - acc_4: 0.9250\n",
      "Epoch 43/60\n",
      " - 10s - lr:0: 3.5481e-04 - loss_1: 3.7058 - loss_2: 4.4772 - loss_3: 4.3210 - loss_4: 3.6863 - acc_ensemble: 0.9475 - acc_1: 0.9475 - acc_2: 0.9475 - acc_3: 0.9475 - acc_4: 0.9475\n"
     ]
    },
    {
     "name": "stdout",
     "output_type": "stream",
     "text": [
      "Epoch 44/60\n",
      " - 10s - lr:0: 2.5119e-04 - loss_1: 3.0346 - loss_2: 2.7732 - loss_3: 3.8132 - loss_4: 2.6526 - acc_ensemble: 0.9425 - acc_1: 0.9425 - acc_2: 0.9425 - acc_3: 0.9425 - acc_4: 0.9425\n",
      "Epoch 45/60\n",
      " - 10s - lr:0: 1.7783e-04 - loss_1: 2.4013 - loss_2: 2.8626 - loss_3: 2.3771 - loss_4: 3.8731 - acc_ensemble: 0.9375 - acc_1: 0.9375 - acc_2: 0.9375 - acc_3: 0.9375 - acc_4: 0.9375\n",
      "Epoch 46/60\n",
      " - 10s - lr:0: 1.2589e-04 - loss_1: 2.6814 - loss_2: 2.5624 - loss_3: 3.0887 - loss_4: 2.8880 - acc_ensemble: 0.9475 - acc_1: 0.9475 - acc_2: 0.9475 - acc_3: 0.9475 - acc_4: 0.9475\n",
      "Epoch 47/60\n",
      " - 10s - lr:0: 8.9125e-05 - loss_1: 3.3756 - loss_2: 3.1148 - loss_3: 2.2191 - loss_4: 2.9057 - acc_ensemble: 0.9475 - acc_1: 0.9475 - acc_2: 0.9475 - acc_3: 0.9475 - acc_4: 0.9475\n",
      "Epoch 48/60\n",
      " - 10s - lr:0: 6.3096e-05 - loss_1: 3.1896 - loss_2: 2.2885 - loss_3: 2.7946 - loss_4: 2.4543 - acc_ensemble: 0.9400 - acc_1: 0.9400 - acc_2: 0.9400 - acc_3: 0.9400 - acc_4: 0.9400\n",
      "Epoch 49/60\n",
      " - 10s - lr:0: 4.4668e-05 - loss_1: 2.4426 - loss_2: 2.4049 - loss_3: 2.3477 - loss_4: 1.6718 - acc_ensemble: 0.9425 - acc_1: 0.9425 - acc_2: 0.9425 - acc_3: 0.9425 - acc_4: 0.9425\n",
      "Epoch 50/60\n",
      " - 10s - lr:0: 3.1623e-05 - loss_1: 1.3358 - loss_2: 1.8018 - loss_3: 2.0022 - loss_4: 2.0013 - acc_ensemble: 0.9425 - acc_1: 0.9425 - acc_2: 0.9425 - acc_3: 0.9425 - acc_4: 0.9425\n",
      "Epoch 51/60\n",
      " - 10s - lr:0: 2.2387e-05 - loss_1: 1.3356 - loss_2: 2.5087 - loss_3: 1.6731 - loss_4: 2.0737 - acc_ensemble: 0.9325 - acc_1: 0.9325 - acc_2: 0.9325 - acc_3: 0.9325 - acc_4: 0.9325\n",
      "Epoch 52/60\n",
      " - 10s - lr:0: 1.5849e-05 - loss_1: 1.5567 - loss_2: 2.6386 - loss_3: 1.9699 - loss_4: 2.3293 - acc_ensemble: 0.9375 - acc_1: 0.9375 - acc_2: 0.9375 - acc_3: 0.9375 - acc_4: 0.9375\n",
      "Epoch 53/60\n",
      " - 10s - lr:0: 1.1220e-05 - loss_1: 2.1053 - loss_2: 2.2106 - loss_3: 3.3299 - loss_4: 3.0825 - acc_ensemble: 0.9375 - acc_1: 0.9375 - acc_2: 0.9375 - acc_3: 0.9375 - acc_4: 0.9375\n",
      "Epoch 54/60\n",
      " - 10s - lr:0: 7.9433e-06 - loss_1: 2.7062 - loss_2: 2.1260 - loss_3: 2.4552 - loss_4: 2.3127 - acc_ensemble: 0.9375 - acc_1: 0.9375 - acc_2: 0.9375 - acc_3: 0.9375 - acc_4: 0.9375\n",
      "Epoch 55/60\n",
      " - 10s - lr:0: 5.6234e-06 - loss_1: 1.5616 - loss_2: 2.4772 - loss_3: 2.6020 - loss_4: 1.8030 - acc_ensemble: 0.9375 - acc_1: 0.9375 - acc_2: 0.9375 - acc_3: 0.9375 - acc_4: 0.9375\n",
      "Epoch 56/60\n",
      " - 10s - lr:0: 3.9811e-06 - loss_1: 2.3710 - loss_2: 2.1879 - loss_3: 1.6821 - loss_4: 2.2488 - acc_ensemble: 0.9375 - acc_1: 0.9375 - acc_2: 0.9375 - acc_3: 0.9375 - acc_4: 0.9375\n",
      "Epoch 57/60\n",
      " - 10s - lr:0: 2.8184e-06 - loss_1: 1.3304 - loss_2: 2.6479 - loss_3: 2.0042 - loss_4: 1.5720 - acc_ensemble: 0.9375 - acc_1: 0.9375 - acc_2: 0.9375 - acc_3: 0.9375 - acc_4: 0.9375\n",
      "Epoch 58/60\n",
      " - 10s - lr:0: 1.9953e-06 - loss_1: 2.5347 - loss_2: 1.9309 - loss_3: 2.7035 - loss_4: 1.6869 - acc_ensemble: 0.9400 - acc_1: 0.9400 - acc_2: 0.9400 - acc_3: 0.9400 - acc_4: 0.9400\n",
      "Epoch 59/60\n",
      " - 10s - lr:0: 1.4125e-06 - loss_1: 1.9640 - loss_2: 1.9729 - loss_3: 1.7108 - loss_4: 2.7484 - acc_ensemble: 0.9400 - acc_1: 0.9400 - acc_2: 0.9400 - acc_3: 0.9400 - acc_4: 0.9400\n",
      "Epoch 60/60\n",
      " - 10s - lr:0: 1.0000e-06 - loss_1: 1.7383 - loss_2: 1.7992 - loss_3: 2.4760 - loss_4: 1.7433 - acc_ensemble: 0.9400 - acc_1: 0.9400 - acc_2: 0.9400 - acc_3: 0.9400 - acc_4: 0.9400\n"
     ]
    }
   ],
   "source": [
    "history = model.fit(EPOCHS, STEPS_PER_EPOCH, train_dict=None, \n",
    "                    log_path=model_path if SAVE else None)"
   ]
  },
  {
   "cell_type": "markdown",
   "metadata": {},
   "source": [
    "## Evaluation"
   ]
  },
  {
   "cell_type": "markdown",
   "metadata": {},
   "source": [
    "### Baseline"
   ]
  },
  {
   "cell_type": "code",
   "execution_count": 15,
   "metadata": {},
   "outputs": [
    {
     "name": "stdout",
     "output_type": "stream",
     "text": [
      "WARNING:tensorflow:From /home/gong/anaconda3/lib/python3.5/site-packages/tensorflow/python/training/saver.py:1266: checkpoint_exists (from tensorflow.python.training.checkpoint_management) is deprecated and will be removed in a future version.\n",
      "Instructions for updating:\n",
      "Use standard file APIs to check for files with this prefix.\n",
      "INFO:tensorflow:Restoring parameters from models/omniglot-res_1/ckpt\n",
      "Model 1 acc: 0.8049999999999999\n",
      "Mean acc: 0.8049999999999999 , std: 0.0\n"
     ]
    }
   ],
   "source": [
    "assert NUM_BRANCHES == 1\n",
    "\n",
    "model_id_list = [1]\n",
    "baseline_acc_list = []\n",
    "\n",
    "for model_id in model_id_list:\n",
    "    tf.reset_default_graph()\n",
    "    model_name = '{}-{}_{:d}'.format(DATASET, ARCHITECTURE, MODEL_ID)\n",
    "    model_path = os.path.join('models', model_name)\n",
    "    \n",
    "    with TFSessionGrow() as sess:\n",
    "        restore_sess(sess, model_path)\n",
    "        acc = baseline_one_shot(sess, model_name='model_'+str(model_id))\n",
    "        print('Model {} acc:'.format(model_id), acc)\n",
    "        baseline_acc_list.append(acc)\n",
    "        \n",
    "print('Mean acc:', np.mean(baseline_acc_list), ', std:', np.std(baseline_acc_list))"
   ]
  },
  {
   "cell_type": "markdown",
   "metadata": {},
   "source": [
    "### Virtual Branching"
   ]
  },
  {
   "cell_type": "code",
   "execution_count": 8,
   "metadata": {},
   "outputs": [
    {
     "name": "stdout",
     "output_type": "stream",
     "text": [
      "WARNING:tensorflow:From /home/gong/anaconda3/lib/python3.5/site-packages/tensorflow/python/training/saver.py:1266: checkpoint_exists (from tensorflow.python.training.checkpoint_management) is deprecated and will be removed in a future version.\n",
      "Instructions for updating:\n",
      "Use standard file APIs to check for files with this prefix.\n",
      "INFO:tensorflow:Restoring parameters from models/vb-omniglot-res-B2-S0.25_1/ckpt\n",
      "Model 1 acc: 0.8375 [0.7849999999999999, 0.8125]\n",
      "Mean acc: 0.8375 , std: 0.0\n"
     ]
    }
   ],
   "source": [
    "model_id_list = [1]\n",
    "vbranch_acc_list = []\n",
    "\n",
    "for model_id in model_id_list:\n",
    "    tf.reset_default_graph()\n",
    "    \n",
    "    model_name = 'vb-{}-{}-B{:d}-S{:.2f}_{:d}'.format(dataset, architecture,\n",
    "                                            NUM_BRANCHES, SHARED_FRAC, model_id)\n",
    "    model_path = os.path.join('models', model_name)\n",
    "    \n",
    "    with TFSessionGrow() as sess:\n",
    "        restore_sess(sess, model_path)    \n",
    "        acc, branch_acc = vbranch_one_shot(sess, model_name='model_'+str(model_id), \n",
    "                                           n_branches=NUM_BRANCHES)\n",
    "        print('Model {} acc:'.format(model_id), acc, branch_acc)\n",
    "        vbranch_acc_list.append(acc)\n",
    "        \n",
    "print('Mean acc:', np.mean(vbranch_acc_list), ', std:', np.std(vbranch_acc_list))"
   ]
  },
  {
   "cell_type": "code",
   "execution_count": null,
   "metadata": {},
   "outputs": [],
   "source": []
  }
 ],
 "metadata": {
  "kernelspec": {
   "display_name": "Python 3",
   "language": "python",
   "name": "python3"
  },
  "language_info": {
   "codemirror_mode": {
    "name": "ipython",
    "version": 3
   },
   "file_extension": ".py",
   "mimetype": "text/x-python",
   "name": "python",
   "nbconvert_exporter": "python",
   "pygments_lexer": "ipython3",
   "version": "3.6.0"
  }
 },
 "nbformat": 4,
 "nbformat_minor": 2
}
