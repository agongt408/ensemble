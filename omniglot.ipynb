{
 "cells": [
  {
   "cell_type": "markdown",
   "metadata": {},
   "source": [
    "# Omnigot One-Shot"
   ]
  },
  {
   "cell_type": "code",
   "execution_count": 1,
   "metadata": {},
   "outputs": [],
   "source": [
    "import tensorflow as tf\n",
    "import numpy as np\n",
    "import os\n",
    "import matplotlib.pyplot as plt\n",
    "import copy\n",
    "import cv2\n",
    "from scipy.spatial import distance"
   ]
  },
  {
   "cell_type": "code",
   "execution_count": 2,
   "metadata": {},
   "outputs": [],
   "source": [
    "import vbranch as vb"
   ]
  },
  {
   "cell_type": "code",
   "execution_count": 3,
   "metadata": {},
   "outputs": [],
   "source": [
    "model_id = 1\n",
    "architecture = 'simple'"
   ]
  },
  {
   "cell_type": "markdown",
   "metadata": {},
   "source": [
    "## Load Data"
   ]
  },
  {
   "cell_type": "code",
   "execution_count": 4,
   "metadata": {},
   "outputs": [],
   "source": [
    "train_generator = vb.datasets.omniglot.load_generator('train')\n",
    "test_generator = vb.datasets.omniglot.load_generator('test')"
   ]
  },
  {
   "cell_type": "code",
   "execution_count": 5,
   "metadata": {},
   "outputs": [],
   "source": [
    "batch = test_generator.next(4, 4, 4, flatten=False)"
   ]
  },
  {
   "cell_type": "code",
   "execution_count": 6,
   "metadata": {},
   "outputs": [
    {
     "data": {
      "image/png": "[encoded data removed]",
      "text/plain": [
       "<Figure size 432x288 with 1 Axes>"
      ]
     },
     "metadata": {
      "needs_background": "light"
     },
     "output_type": "display_data"
    }
   ],
   "source": [
    "plt.imshow(batch[2, 3, 0].squeeze(), cmap=plt.cm.gray)\n",
    "plt.show()"
   ]
  },
  {
   "cell_type": "markdown",
   "metadata": {},
   "source": [
    "## Build Model"
   ]
  },
  {
   "cell_type": "code",
   "execution_count": 7,
   "metadata": {},
   "outputs": [],
   "source": [
    "EPOCHS = 90\n",
    "T_0 = 30\n",
    "STEPS_PER_EPOCH = 100\n",
    "model_path = './models/omniglot-{}_{}'.format(architecture, model_id)\n",
    "A, P, K = 4, 8, 4 # triplet batch specs\n",
    "output_dim = 128\n",
    "input_dim = [None, 105, 105, 1]"
   ]
  },
  {
   "cell_type": "code",
   "execution_count": 8,
   "metadata": {},
   "outputs": [],
   "source": [
    "if not os.path.isdir('./models'):\n",
    "    os.system('mkdir models')"
   ]
  },
  {
   "cell_type": "code",
   "execution_count": 9,
   "metadata": {},
   "outputs": [],
   "source": [
    "def batch_gen(A, P, K):\n",
    "    def func():\n",
    "        while True:\n",
    "            batch = train_generator.next(A, P, K)\n",
    "            batch = batch.astype('float32')\n",
    "            yield batch\n",
    "    return func"
   ]
  },
  {
   "cell_type": "code",
   "execution_count": 10,
   "metadata": {},
   "outputs": [],
   "source": [
    "tf.reset_default_graph()\n",
    "\n",
    "train_dataset = tf.data.Dataset.from_generator(batch_gen(A, P, K), 'float32', \n",
    "                                                 output_shapes=input_dim)\n",
    "\n",
    "# Dataset for feeding non-triplet batched images from memory\n",
    "x = tf.placeholder('float32', input_dim, name='x')\n",
    "batch_size = tf.placeholder('int64', name='batch_size')\n",
    "test_dataset = tf.data.Dataset.from_tensor_slices(x).batch(batch_size)\n",
    "\n",
    "iter_ = tf.data.Iterator.from_structure('float32', input_dim)\n",
    "train_init_op = iter_.make_initializer(train_dataset)\n",
    "test_init_op = iter_.make_initializer(test_dataset, name='test_init_op')\n",
    "\n",
    "inputs = iter_.get_next()"
   ]
  },
  {
   "cell_type": "code",
   "execution_count": 11,
   "metadata": {},
   "outputs": [],
   "source": [
    "if architecture == 'simple':\n",
    "    model = vb.simple_cnn(inputs, output_dim, 32, 64, 128, 256, \n",
    "                          name='model_' + str(model_id))\n",
    "elif architecture == 'res':\n",
    "    model = vb.resnet(inputs, output_dim, 32, 64, 128, 256, \n",
    "                      name='model_' + str(model_id))"
   ]
  },
  {
   "cell_type": "code",
   "execution_count": 12,
   "metadata": {
    "scrolled": false
   },
   "outputs": [
    {
     "name": "stdout",
     "output_type": "stream",
     "text": [
      "i   Layer name         Output shape       Parameters            Num param  Inbound            \n",
      "----------------------------------------------------------------------------------------------\n",
      "    Input              [None,105,105,1]                                                       \n",
      "----------------------------------------------------------------------------------------------\n",
      "0   conv2d_1_1         [None,103,103,32]  [3,3,1,32] [32]       320        IteratorGetNext:0  \n",
      "----------------------------------------------------------------------------------------------\n",
      "1   bn_1_1             [None,103,103,32]  [32] [32]             64         conv2d_1_1         \n",
      "----------------------------------------------------------------------------------------------\n",
      "2   relu_1_1           [None,103,103,32]                        0          bn_1_1             \n",
      "----------------------------------------------------------------------------------------------\n",
      "3   conv2d_1_2         [None,101,101,32]  [3,3,32,32] [32]      9248       relu_1_1           \n",
      "----------------------------------------------------------------------------------------------\n",
      "4   bn_1_2             [None,101,101,32]  [32] [32]             64         conv2d_1_2         \n",
      "----------------------------------------------------------------------------------------------\n",
      "5   relu_1_2           [None,101,101,32]                        0          bn_1_2             \n",
      "----------------------------------------------------------------------------------------------\n",
      "6   avg_pool2d_1       [None,50,50,32]                          0          relu_1_2           \n",
      "----------------------------------------------------------------------------------------------\n",
      "7   conv2d_2_1         [None,48,48,64]    [3,3,32,64] [64]      18496      avg_pool2d_1       \n",
      "----------------------------------------------------------------------------------------------\n",
      "8   bn_2_1             [None,48,48,64]    [64] [64]             128        conv2d_2_1         \n",
      "----------------------------------------------------------------------------------------------\n",
      "9   relu_2_1           [None,48,48,64]                          0          bn_2_1             \n",
      "----------------------------------------------------------------------------------------------\n",
      "10  conv2d_2_2         [None,46,46,64]    [3,3,64,64] [64]      36928      relu_2_1           \n",
      "----------------------------------------------------------------------------------------------\n",
      "11  bn_2_2             [None,46,46,64]    [64] [64]             128        conv2d_2_2         \n",
      "----------------------------------------------------------------------------------------------\n",
      "12  relu_2_2           [None,46,46,64]                          0          bn_2_2             \n",
      "----------------------------------------------------------------------------------------------\n",
      "13  avg_pool2d_2       [None,23,23,64]                          0          relu_2_2           \n",
      "----------------------------------------------------------------------------------------------\n",
      "14  conv2d_3_1         [None,21,21,128]   [3,3,64,128] [128]    73856      avg_pool2d_2       \n",
      "----------------------------------------------------------------------------------------------\n",
      "15  bn_3_1             [None,21,21,128]   [128] [128]           256        conv2d_3_1         \n",
      "----------------------------------------------------------------------------------------------\n",
      "16  relu_3_1           [None,21,21,128]                         0          bn_3_1             \n",
      "----------------------------------------------------------------------------------------------\n",
      "17  conv2d_3_2         [None,19,19,128]   [3,3,128,128] [128]   147584     relu_3_1           \n",
      "----------------------------------------------------------------------------------------------\n",
      "18  bn_3_2             [None,19,19,128]   [128] [128]           256        conv2d_3_2         \n",
      "----------------------------------------------------------------------------------------------\n",
      "19  relu_3_2           [None,19,19,128]                         0          bn_3_2             \n",
      "----------------------------------------------------------------------------------------------\n",
      "20  avg_pool2d_3       [None,9,9,128]                           0          relu_3_2           \n",
      "----------------------------------------------------------------------------------------------\n",
      "21  conv2d_4_1         [None,7,7,256]     [3,3,128,256] [256]   295168     avg_pool2d_3       \n",
      "----------------------------------------------------------------------------------------------\n",
      "22  bn_4_1             [None,7,7,256]     [256] [256]           512        conv2d_4_1         \n",
      "----------------------------------------------------------------------------------------------\n",
      "23  relu_4_1           [None,7,7,256]                           0          bn_4_1             \n",
      "----------------------------------------------------------------------------------------------\n",
      "24  conv2d_4_2         [None,5,5,256]     [3,3,256,256] [256]   590080     relu_4_1           \n",
      "----------------------------------------------------------------------------------------------\n",
      "25  bn_4_2             [None,5,5,256]     [256] [256]           512        conv2d_4_2         \n",
      "----------------------------------------------------------------------------------------------\n",
      "26  relu_4_2           [None,5,5,256]                           0          bn_4_2             \n",
      "----------------------------------------------------------------------------------------------\n",
      "27  global_avg_pool2d  [None,256]                               0          relu_4_2           \n",
      "----------------------------------------------------------------------------------------------\n",
      "28  fc1                [None,256]         [256,256] [256]       65792      global_avg_pool2d  \n",
      "----------------------------------------------------------------------------------------------\n",
      "29  bn_fc1             [None,256]         [256] [256]           512        fc1                \n",
      "----------------------------------------------------------------------------------------------\n",
      "30  relu_fc1           [None,256]                               0          bn_fc1             \n",
      "----------------------------------------------------------------------------------------------\n",
      "31  output             [None,128]         [256,128] [128]       32896      relu_fc1           \n",
      "----------------------------------------------------------------------------------------------\n",
      "Total parameters: 1272800\n"
     ]
    }
   ],
   "source": [
    "model.summary()"
   ]
  },
  {
   "cell_type": "code",
   "execution_count": 13,
   "metadata": {},
   "outputs": [],
   "source": [
    "def lr_exp_decay_scheduler(init_lr, t0, t1, decay):\n",
    "    \"\"\"NOTE: `episode` starts from 1\"\"\"\n",
    "    def func(episode):\n",
    "        if episode < t0:\n",
    "            return init_lr\n",
    "        lr = init_lr * np.power(decay, (episode - t0) / (t1 - t0))\n",
    "        return lr\n",
    "    return func"
   ]
  },
  {
   "cell_type": "code",
   "execution_count": 14,
   "metadata": {},
   "outputs": [
    {
     "data": {
      "image/png": "[encoded data removed]",
      "text/plain": [
       "<Figure size 432x288 with 1 Axes>"
      ]
     },
     "metadata": {
      "needs_background": "light"
     },
     "output_type": "display_data"
    }
   ],
   "source": [
    "lr_scheduler = lr_exp_decay_scheduler(0.001, T_0, EPOCHS, 0.001)\n",
    "lr_steps = [lr_scheduler(e + 1) for e in range(EPOCHS)]\n",
    "plt.plot(lr_steps)\n",
    "plt.show()"
   ]
  },
  {
   "cell_type": "code",
   "execution_count": 15,
   "metadata": {},
   "outputs": [],
   "source": [
    "lr = tf.placeholder('float32', name='lr')\n",
    "optimizer = tf.train.AdamOptimizer(learning_rate=lr)\n",
    "\n",
    "model.compile(optimizer, 'triplet_omniglot', A=A, P=P, K=K)"
   ]
  },
  {
   "cell_type": "code",
   "execution_count": 16,
   "metadata": {
    "scrolled": false
   },
   "outputs": [
    {
     "name": "stdout",
     "output_type": "stream",
     "text": [
      "Epoch 1/90\n",
      "100/100 [==============================] - 39s 393ms/step - loss: 248.0973 - lr: 0.0010\n",
      "Epoch 2/90\n",
      "100/100 [==============================] - 25s 247ms/step - loss: 61.7863 - lr: 0.0010\n",
      "Epoch 3/90\n",
      "100/100 [==============================] - 23s 232ms/step - loss: 40.0774 - lr: 0.0010\n",
      "Epoch 4/90\n",
      "100/100 [==============================] - 21s 215ms/step - loss: 32.6180 - lr: 0.0010\n",
      "Epoch 5/90\n",
      "100/100 [==============================] - 21s 209ms/step - loss: 31.6464 - lr: 0.0010\n",
      "Epoch 6/90\n",
      "100/100 [==============================] - 20s 204ms/step - loss: 27.9680 - lr: 0.0010\n",
      "Epoch 7/90\n",
      "100/100 [==============================] - 20s 201ms/step - loss: 24.4837 - lr: 0.0010\n",
      "Epoch 8/90\n",
      "100/100 [==============================] - 20s 200ms/step - loss: 24.0631 - lr: 0.0010\n",
      "Epoch 9/90\n",
      "100/100 [==============================] - 20s 198ms/step - loss: 26.6990 - lr: 0.0010\n",
      "Epoch 10/90\n",
      "100/100 [==============================] - 20s 198ms/step - loss: 22.3999 - lr: 0.0010\n",
      "Epoch 11/90\n",
      "100/100 [==============================] - 20s 198ms/step - loss: 20.4040 - lr: 0.0010\n",
      "Epoch 12/90\n",
      "100/100 [==============================] - 20s 200ms/step - loss: 20.9564 - lr: 0.0010\n",
      "Epoch 13/90\n",
      "100/100 [==============================] - 20s 198ms/step - loss: 18.8178 - lr: 0.0010\n",
      "Epoch 14/90\n",
      "100/100 [==============================] - 20s 196ms/step - loss: 19.6800 - lr: 0.0010\n",
      "Epoch 15/90\n",
      "100/100 [==============================] - 20s 198ms/step - loss: 21.8124 - lr: 0.0010\n",
      "Epoch 16/90\n",
      "100/100 [==============================] - 20s 197ms/step - loss: 15.9071 - lr: 0.0010\n",
      "Epoch 17/90\n",
      "100/100 [==============================] - 20s 196ms/step - loss: 16.7277 - lr: 0.0010\n",
      "Epoch 18/90\n",
      "100/100 [==============================] - 20s 197ms/step - loss: 16.2721 - lr: 0.0010\n",
      "Epoch 19/90\n",
      "100/100 [==============================] - 20s 197ms/step - loss: 14.7546 - lr: 0.0010\n",
      "Epoch 20/90\n",
      "100/100 [==============================] - 20s 197ms/step - loss: 15.6285 - lr: 0.0010\n",
      "Epoch 21/90\n",
      "100/100 [==============================] - 20s 197ms/step - loss: 15.7409 - lr: 0.0010\n",
      "Epoch 22/90\n",
      "100/100 [==============================] - 20s 198ms/step - loss: 13.2694 - lr: 0.0010\n",
      "Epoch 23/90\n",
      "100/100 [==============================] - 20s 197ms/step - loss: 16.3763 - lr: 0.0010\n",
      "Epoch 24/90\n",
      "100/100 [==============================] - 20s 197ms/step - loss: 15.0145 - lr: 0.0010\n",
      "Epoch 25/90\n",
      "100/100 [==============================] - 20s 198ms/step - loss: 15.7702 - lr: 0.0010\n",
      "Epoch 26/90\n",
      "100/100 [==============================] - 20s 198ms/step - loss: 13.2824 - lr: 0.0010\n",
      "Epoch 27/90\n",
      "100/100 [==============================] - 20s 196ms/step - loss: 13.5218 - lr: 0.0010\n",
      "Epoch 28/90\n",
      "100/100 [==============================] - 20s 195ms/step - loss: 11.4049 - lr: 0.0010\n",
      "Epoch 29/90\n",
      "100/100 [==============================] - 19s 195ms/step - loss: 13.5866 - lr: 0.0010\n",
      "Epoch 30/90\n",
      "100/100 [==============================] - 20s 198ms/step - loss: 12.8162 - lr: 0.0010\n",
      "Epoch 31/90\n",
      "100/100 [==============================] - 20s 199ms/step - loss: 10.5038 - lr: 8.9125e-04\n",
      "Epoch 32/90\n",
      "100/100 [==============================] - 20s 197ms/step - loss: 8.8660 - lr: 7.9433e-04\n",
      "Epoch 33/90\n",
      "100/100 [==============================] - 20s 198ms/step - loss: 9.1660 - lr: 7.0795e-04\n",
      "Epoch 34/90\n",
      "100/100 [==============================] - 20s 197ms/step - loss: 7.1659 - lr: 6.3096e-04\n",
      "Epoch 35/90\n",
      "100/100 [==============================] - 20s 200ms/step - loss: 6.6981 - lr: 5.6234e-04\n",
      "Epoch 36/90\n",
      "100/100 [==============================] - 20s 197ms/step - loss: 6.0376 - lr: 5.0119e-04\n",
      "Epoch 37/90\n",
      "100/100 [==============================] - 20s 197ms/step - loss: 5.2819 - lr: 4.4668e-04\n",
      "Epoch 38/90\n",
      "100/100 [==============================] - 20s 198ms/step - loss: 6.0682 - lr: 3.9811e-04\n",
      "Epoch 39/90\n",
      "100/100 [==============================] - 20s 195ms/step - loss: 4.4358 - lr: 3.5481e-04\n",
      "Epoch 40/90\n",
      "100/100 [==============================] - 20s 196ms/step - loss: 4.6187 - lr: 3.1623e-04\n",
      "Epoch 41/90\n",
      "100/100 [==============================] - 20s 197ms/step - loss: 4.0008 - lr: 2.8184e-04\n",
      "Epoch 42/90\n",
      "100/100 [==============================] - 20s 197ms/step - loss: 3.9380 - lr: 2.5119e-04\n",
      "Epoch 43/90\n",
      "100/100 [==============================] - 20s 197ms/step - loss: 3.5069 - lr: 2.2387e-04\n",
      "Epoch 44/90\n",
      "100/100 [==============================] - 20s 196ms/step - loss: 3.3822 - lr: 1.9953e-04\n",
      "Epoch 45/90\n",
      "100/100 [==============================] - 20s 196ms/step - loss: 3.2597 - lr: 1.7783e-04\n",
      "Epoch 46/90\n",
      "100/100 [==============================] - 20s 196ms/step - loss: 2.7283 - lr: 1.5849e-04\n",
      "Epoch 47/90\n",
      "100/100 [==============================] - 20s 197ms/step - loss: 3.0469 - lr: 1.4125e-04\n",
      "Epoch 48/90\n",
      "100/100 [==============================] - 20s 196ms/step - loss: 2.7631 - lr: 1.2589e-04\n",
      "Epoch 49/90\n",
      "100/100 [==============================] - 20s 196ms/step - loss: 2.7906 - lr: 1.1220e-04\n",
      "Epoch 50/90\n",
      "100/100 [==============================] - 20s 195ms/step - loss: 2.3775 - lr: 1.0000e-04\n",
      "Epoch 51/90\n",
      "100/100 [==============================] - 20s 196ms/step - loss: 2.4600 - lr: 8.9125e-05\n",
      "Epoch 52/90\n",
      "100/100 [==============================] - 20s 195ms/step - loss: 2.4420 - lr: 7.9433e-05\n",
      "Epoch 53/90\n",
      "100/100 [==============================] - 20s 199ms/step - loss: 2.4804 - lr: 7.0795e-05\n",
      "Epoch 54/90\n",
      "100/100 [==============================] - 20s 196ms/step - loss: 2.2655 - lr: 6.3096e-05\n",
      "Epoch 55/90\n",
      "100/100 [==============================] - 20s 196ms/step - loss: 2.1679 - lr: 5.6234e-05\n",
      "Epoch 56/90\n",
      "100/100 [==============================] - 20s 195ms/step - loss: 2.1007 - lr: 5.0119e-05\n",
      "Epoch 57/90\n",
      "100/100 [==============================] - 20s 195ms/step - loss: 2.1146 - lr: 4.4668e-05\n",
      "Epoch 58/90\n",
      "100/100 [==============================] - 20s 195ms/step - loss: 2.1328 - lr: 3.9811e-05\n",
      "Epoch 59/90\n",
      "100/100 [==============================] - 20s 195ms/step - loss: 2.0596 - lr: 3.5481e-05\n",
      "Epoch 60/90\n",
      "100/100 [==============================] - 19s 195ms/step - loss: 2.2455 - lr: 3.1623e-05\n",
      "Epoch 61/90\n",
      "100/100 [==============================] - 20s 195ms/step - loss: 2.1761 - lr: 2.8184e-05\n",
      "Epoch 62/90\n",
      "100/100 [==============================] - 20s 195ms/step - loss: 2.0600 - lr: 2.5119e-05\n",
      "Epoch 63/90\n",
      "100/100 [==============================] - 20s 195ms/step - loss: 2.0915 - lr: 2.2387e-05\n",
      "Epoch 64/90\n",
      "100/100 [==============================] - 19s 195ms/step - loss: 1.9313 - lr: 1.9953e-05\n",
      "Epoch 65/90\n",
      "100/100 [==============================] - 20s 195ms/step - loss: 1.9173 - lr: 1.7783e-05\n",
      "Epoch 66/90\n",
      "100/100 [==============================] - 20s 195ms/step - loss: 1.9030 - lr: 1.5849e-05\n",
      "Epoch 67/90\n",
      "100/100 [==============================] - 20s 195ms/step - loss: 1.9065 - lr: 1.4125e-05\n",
      "Epoch 68/90\n",
      "100/100 [==============================] - 20s 195ms/step - loss: 1.7663 - lr: 1.2589e-05\n",
      "Epoch 69/90\n",
      "100/100 [==============================] - 20s 195ms/step - loss: 2.0145 - lr: 1.1220e-05\n",
      "Epoch 70/90\n",
      "100/100 [==============================] - 20s 198ms/step - loss: 1.8128 - lr: 1.0000e-05\n",
      "Epoch 71/90\n",
      "100/100 [==============================] - 19s 194ms/step - loss: 2.0228 - lr: 8.9125e-06\n",
      "Epoch 72/90\n",
      "100/100 [==============================] - 19s 194ms/step - loss: 2.1107 - lr: 7.9433e-06\n",
      "Epoch 73/90\n",
      "100/100 [==============================] - 19s 194ms/step - loss: 1.7835 - lr: 7.0795e-06\n",
      "Epoch 74/90\n",
      "100/100 [==============================] - 19s 194ms/step - loss: 1.7375 - lr: 6.3096e-06\n",
      "Epoch 75/90\n",
      "100/100 [==============================] - 19s 194ms/step - loss: 1.8992 - lr: 5.6234e-06\n",
      "Epoch 76/90\n",
      "100/100 [==============================] - 19s 194ms/step - loss: 1.6469 - lr: 5.0119e-06\n",
      "Epoch 77/90\n",
      "100/100 [==============================] - 19s 194ms/step - loss: 1.9028 - lr: 4.4668e-06\n",
      "Epoch 78/90\n",
      "100/100 [==============================] - 19s 194ms/step - loss: 1.8628 - lr: 3.9811e-06\n",
      "Epoch 79/90\n",
      "100/100 [==============================] - 19s 194ms/step - loss: 1.9071 - lr: 3.5481e-06\n",
      "Epoch 80/90\n",
      "100/100 [==============================] - 19s 194ms/step - loss: 1.6786 - lr: 3.1623e-06\n",
      "Epoch 81/90\n",
      "100/100 [==============================] - 19s 195ms/step - loss: 1.9042 - lr: 2.8184e-06\n",
      "Epoch 82/90\n",
      "100/100 [==============================] - 19s 193ms/step - loss: 1.7990 - lr: 2.5119e-06\n",
      "Epoch 83/90\n",
      "100/100 [==============================] - 19s 193ms/step - loss: 1.9495 - lr: 2.2387e-06\n",
      "Epoch 84/90\n",
      "100/100 [==============================] - 19s 193ms/step - loss: 1.9730 - lr: 1.9953e-06\n",
      "Epoch 85/90\n",
      "100/100 [==============================] - 19s 193ms/step - loss: 1.9742 - lr: 1.7783e-06\n",
      "Epoch 86/90\n",
      "100/100 [==============================] - 19s 193ms/step - loss: 1.9413 - lr: 1.5849e-06\n",
      "Epoch 87/90\n",
      "100/100 [==============================] - 19s 193ms/step - loss: 1.8819 - lr: 1.4125e-06\n",
      "Epoch 88/90\n",
      "100/100 [==============================] - 19s 193ms/step - loss: 1.8537 - lr: 1.2589e-06\n",
      "Epoch 89/90\n",
      "100/100 [==============================] - 19s 193ms/step - loss: 1.6516 - lr: 1.1220e-06\n",
      "Epoch 90/90\n",
      "100/100 [==============================] - 19s 193ms/step - loss: 1.7053 - lr: 1.0000e-06\n"
     ]
    }
   ],
   "source": [
    "with tf.Session() as sess:\n",
    "    sess.run(tf.global_variables_initializer())\n",
    "    sess.run(train_init_op)\n",
    "\n",
    "    for e in range(EPOCHS):\n",
    "        print(\"Epoch {}/{}\".format(e + 1, EPOCHS))\n",
    "        progbar = tf.keras.utils.Progbar(STEPS_PER_EPOCH)\n",
    "        \n",
    "        learning_rate = lr_scheduler(e + 1)\n",
    "        for i in range(STEPS_PER_EPOCH):\n",
    "            _, loss_value = sess.run([model.train_op, model.loss], feed_dict={lr:learning_rate})\n",
    "            progbar.update(i + 1, values=[('loss', loss_value), ('lr', learning_rate)])\n",
    "    \n",
    "    saver = tf.train.Saver()\n",
    "    path = os.path.join(model_path, 'ckpt')\n",
    "    saver.save(sess, path)"
   ]
  },
  {
   "cell_type": "markdown",
   "metadata": {},
   "source": [
    "## Model Ensemble"
   ]
  },
  {
   "cell_type": "code",
   "execution_count": 8,
   "metadata": {},
   "outputs": [],
   "source": [
    "def restore_sess(sess, model_path):\n",
    "    meta_path = os.path.join(model_path, 'ckpt.meta')\n",
    "    ckpt = tf.train.get_checkpoint_state(model_path)\n",
    "\n",
    "    imported_graph = tf.train.import_meta_graph(meta_path)\n",
    "    imported_graph.restore(sess, ckpt.model_checkpoint_path)"
   ]
  },
  {
   "cell_type": "code",
   "execution_count": 9,
   "metadata": {},
   "outputs": [],
   "source": [
    "def get_run(n_run):\n",
    "    all_runs = 'omniglot/python/one-shot-classification/all_runs'\n",
    "    \n",
    "    if not os.path.isdir(all_runs):\n",
    "        with zipfile.ZipFile(all_runs + '.zip','r') as zip_ref:\n",
    "            zip_ref.extractall(all_runs)\n",
    "    \n",
    "    run_path = os.path.join(all_runs,'run%02d'%n_run,'class_labels.txt')\n",
    "    with open(run_path) as f:\n",
    "        content = f.read().splitlines()\n",
    "\n",
    "    pairs = [line.split() for line in content]\n",
    "    test_files  = [pair[0] for pair in pairs]\n",
    "    train_files = [pair[1] for pair in pairs]\n",
    "\n",
    "    answers_files = copy.copy(train_files)\n",
    "    test_files.sort()\n",
    "    train_files.sort()\n",
    "    \n",
    "    def f_load(f):\n",
    "        path = os.path.join(all_runs, f)\n",
    "        return cv2.imread(path)[..., 0]\n",
    "\n",
    "    train_imgs = np.stack([f_load(f) for f in train_files]).\\\n",
    "                        astype('float32')[..., np.newaxis]\n",
    "    test_imgs  = np.stack([f_load(f) for f in test_files]).\\\n",
    "                        astype('float32')[..., np.newaxis]\n",
    "\n",
    "    return train_files, test_files, train_imgs, test_imgs, answers_files"
   ]
  },
  {
   "cell_type": "code",
   "execution_count": 10,
   "metadata": {},
   "outputs": [],
   "source": [
    "def compute_one_shot_acc(test_pred, train_pred, train_files, answers_files):\n",
    "    n_test = len(test_pred)\n",
    "    n_train = len(train_pred)\n",
    "    \n",
    "    distM = np.zeros((n_test, n_train))\n",
    "    for i in range(n_test):\n",
    "        for c in range(n_train):\n",
    "            distM[i,c] = distance.euclidean(test_pred[i],train_pred[c])\n",
    "            \n",
    "    YHAT = np.argmin(distM, axis=1)\n",
    "    \n",
    "    # compute the error rate\n",
    "    correct = 0.0\n",
    "    for i in range(n_test):\n",
    "        if train_files[YHAT[i]] == answers_files[i]:\n",
    "            correct += 1.0\n",
    "        \n",
    "    return correct / n_test"
   ]
  },
  {
   "cell_type": "code",
   "execution_count": 12,
   "metadata": {},
   "outputs": [
    {
     "name": "stdout",
     "output_type": "stream",
     "text": [
      "INFO:tensorflow:Restoring parameters from ./models/omniglot-simple_1/ckpt\n"
     ]
    }
   ],
   "source": [
    "total_runs = 20\n",
    "run_data = [get_run(r+1) for r in range(total_runs)]\n",
    "\n",
    "model_train_runs = []\n",
    "model_test_runs = []\n",
    "\n",
    "for i in [0]:\n",
    "    train_runs = []\n",
    "    test_runs = []\n",
    "\n",
    "    graph = tf.Graph()\n",
    "    sess = tf.Session(graph=graph)\n",
    "\n",
    "    with sess.as_default(), graph.as_default():\n",
    "        restore_sess(sess, model_path)\n",
    "\n",
    "        for r in range(total_runs):\n",
    "            train_files,test_files,train_ims,test_ims,answers_files = \\\n",
    "                run_data[r]\n",
    "\n",
    "            feed_dict = {'x:0':train_ims,'batch_size:0':len(train_ims)}\n",
    "            sess.run('test_init_op', feed_dict=feed_dict)\n",
    "            train_runs.append(sess.run('model_%d'%(i+1)+'/'+'output:0'))\n",
    "\n",
    "            feed_dict = {'x:0':test_ims, 'batch_size:0':len(test_ims)}\n",
    "            sess.run('test_init_op', feed_dict=feed_dict)\n",
    "            test_runs.append(sess.run('model_%d'%(i+1)+'/'+'output:0'))\n",
    "\n",
    "    model_train_runs.append(train_runs)\n",
    "    model_test_runs.append(test_runs)"
   ]
  },
  {
   "cell_type": "markdown",
   "metadata": {},
   "source": [
    "### Average Embedding"
   ]
  },
  {
   "cell_type": "code",
   "execution_count": 13,
   "metadata": {},
   "outputs": [],
   "source": [
    "mean_acc_runs = []\n",
    "\n",
    "test_embed = np.mean(model_test_runs, axis=0)\n",
    "train_embed = np.mean(model_train_runs, axis=0)\n",
    "\n",
    "for r in range(total_runs):\n",
    "    train_files = run_data[r][0]\n",
    "    answers_files = run_data[r][-1]\n",
    "\n",
    "    acc = compute_one_shot_acc(test_embed[r], train_embed[r],train_files,answers_files)\n",
    "    mean_acc_runs.append(acc)"
   ]
  },
  {
   "cell_type": "code",
   "execution_count": 14,
   "metadata": {},
   "outputs": [
    {
     "name": "stdout",
     "output_type": "stream",
     "text": [
      "[0.6, 0.4, 0.5, 0.7, 0.75, 0.65, 0.3, 0.65, 0.35, 0.5, 0.85, 0.6, 0.35, 0.55, 0.95, 0.85, 0.7, 0.5, 0.4, 0.6]\n",
      "0.5875\n"
     ]
    }
   ],
   "source": [
    "print(mean_acc_runs)\n",
    "print(np.mean(mean_acc_runs))"
   ]
  },
  {
   "cell_type": "markdown",
   "metadata": {},
   "source": [
    "### Concatenate Embedding"
   ]
  },
  {
   "cell_type": "code",
   "execution_count": 15,
   "metadata": {},
   "outputs": [],
   "source": [
    "concat_acc_runs = []\n",
    "\n",
    "test_embed = np.concatenate(model_test_runs, axis=-1)\n",
    "train_embed = np.concatenate(model_train_runs, axis=-1)\n",
    "\n",
    "for r in range(total_runs):\n",
    "    train_files = run_data[r][0]\n",
    "    answers_files = run_data[r][-1]\n",
    "    \n",
    "    acc = compute_one_shot_acc(test_embed[r], train_embed[r],train_files, answers_files)\n",
    "    concat_acc_runs.append(acc)"
   ]
  },
  {
   "cell_type": "code",
   "execution_count": 16,
   "metadata": {},
   "outputs": [
    {
     "data": {
      "text/plain": [
       "(20, 20, 128)"
      ]
     },
     "execution_count": 16,
     "metadata": {},
     "output_type": "execute_result"
    }
   ],
   "source": [
    "test_embed.shape"
   ]
  },
  {
   "cell_type": "code",
   "execution_count": 17,
   "metadata": {},
   "outputs": [
    {
     "name": "stdout",
     "output_type": "stream",
     "text": [
      "[0.6, 0.4, 0.5, 0.7, 0.75, 0.65, 0.3, 0.65, 0.35, 0.5, 0.85, 0.6, 0.35, 0.55, 0.95, 0.85, 0.7, 0.5, 0.4, 0.6]\n",
      "0.5875\n"
     ]
    }
   ],
   "source": [
    "print(concat_acc_runs)\n",
    "print(np.mean(concat_acc_runs))"
   ]
  },
  {
   "cell_type": "code",
   "execution_count": null,
   "metadata": {},
   "outputs": [],
   "source": []
  }
 ],
 "metadata": {
  "kernelspec": {
   "display_name": "Python 3",
   "language": "python",
   "name": "python3"
  },
  "language_info": {
   "codemirror_mode": {
    "name": "ipython",
    "version": 3
   },
   "file_extension": ".py",
   "mimetype": "text/x-python",
   "name": "python",
   "nbconvert_exporter": "python",
   "pygments_lexer": "ipython3",
   "version": "3.5.6"
  }
 },
 "nbformat": 4,
 "nbformat_minor": 2
}
