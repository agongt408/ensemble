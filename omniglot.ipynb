{
 "cells": [
  {
   "cell_type": "markdown",
   "metadata": {},
   "source": [
    "# Omnigot One-Shot"
   ]
  },
  {
   "cell_type": "code",
   "execution_count": 1,
   "metadata": {},
   "outputs": [],
   "source": [
    "import tensorflow as tf\n",
    "import numpy as np\n",
    "import os\n",
    "import zipfile\n",
    "import matplotlib.pyplot as plt\n",
    "import copy\n",
    "import cv2\n",
    "from scipy.spatial import distance"
   ]
  },
  {
   "cell_type": "code",
   "execution_count": 2,
   "metadata": {},
   "outputs": [],
   "source": [
    "import vbranch\n",
    "from vbranch.data import Omniglot"
   ]
  },
  {
   "cell_type": "code",
   "execution_count": 3,
   "metadata": {},
   "outputs": [],
   "source": [
    "save = True\n",
    "model_id = 1"
   ]
  },
  {
   "cell_type": "markdown",
   "metadata": {},
   "source": [
    "## Load Data"
   ]
  },
  {
   "cell_type": "code",
   "execution_count": 4,
   "metadata": {},
   "outputs": [],
   "source": [
    "if not os.path.isdir('./omniglot/python/images_background'):\n",
    "    with zipfile.ZipFile('./omniglot/python/images_background.zip','r') as zip_ref:\n",
    "        zip_ref.extractall('./omniglot/python')\n",
    "        \n",
    "if not os.path.isdir('./omniglot/python/images_evaluation'):\n",
    "    with zipfile.ZipFile('./omniglot/python/images_evaluation.zip','r') as zip_ref:\n",
    "        zip_ref.extractall('./omniglot/python')"
   ]
  },
  {
   "cell_type": "code",
   "execution_count": 5,
   "metadata": {},
   "outputs": [],
   "source": [
    "train_generator = Omniglot('./omniglot/python/images_background/')\n",
    "test_generator = Omniglot('./omniglot/python/images_evaluation')"
   ]
  },
  {
   "cell_type": "code",
   "execution_count": 6,
   "metadata": {},
   "outputs": [],
   "source": [
    "batch = train_generator.next(4, 4, 4, flatten=False)"
   ]
  },
  {
   "cell_type": "code",
   "execution_count": 7,
   "metadata": {},
   "outputs": [
    {
     "data": {
      "image/png": "[encoded data removed]",
      "text/plain": [
       "<Figure size 432x288 with 1 Axes>"
      ]
     },
     "metadata": {
      "needs_background": "light"
     },
     "output_type": "display_data"
    }
   ],
   "source": [
    "plt.imshow(batch[2, 3, 0].squeeze(), cmap=plt.cm.gray)\n",
    "plt.show()"
   ]
  },
  {
   "cell_type": "markdown",
   "metadata": {},
   "source": [
    "## Build Model"
   ]
  },
  {
   "cell_type": "code",
   "execution_count": 8,
   "metadata": {},
   "outputs": [],
   "source": [
    "EPOCHS = 10\n",
    "STEPS_PER_EPOCH = 100\n",
    "model_path = './models/model_' + str(model_id)\n",
    "A, P, K = 4, 4, 4\n",
    "output_dim = 128\n",
    "input_dim = [None, 105, 105, 1]"
   ]
  },
  {
   "cell_type": "code",
   "execution_count": 9,
   "metadata": {},
   "outputs": [],
   "source": [
    "def batch_gen(A, P, K):\n",
    "    def func():\n",
    "        while True:\n",
    "            batch = train_generator.next(A, P, K)\n",
    "            batch = batch.astype('float32')\n",
    "            yield batch\n",
    "    return func"
   ]
  },
  {
   "cell_type": "code",
   "execution_count": 10,
   "metadata": {},
   "outputs": [],
   "source": [
    "tf.reset_default_graph()\n",
    "\n",
    "train_dataset = tf.data.Dataset.from_generator(batch_gen(A, P, K), 'float32', \n",
    "                                                 output_shapes=input_dim)\n",
    "\n",
    "# Dataset for feeding non-triplet batched images from memory\n",
    "x = tf.placeholder('float32', input_dim, name='x')\n",
    "batch_size = tf.placeholder('int64', name='batch_size')\n",
    "test_dataset = tf.data.Dataset.from_tensor_slices(x).batch(batch_size)\n",
    "\n",
    "iter_ = tf.data.Iterator.from_structure('float32', input_dim)\n",
    "train_init_op = iter_.make_initializer(train_dataset)\n",
    "test_init_op = iter_.make_initializer(test_dataset, name='test_init_op')\n",
    "\n",
    "inputs = iter_.get_next()"
   ]
  },
  {
   "cell_type": "code",
   "execution_count": 11,
   "metadata": {},
   "outputs": [],
   "source": [
    "with tf.variable_scope('model_' + str(model_id)):\n",
    "    model = vbranch.models.simple_cnn(inputs, output_dim, 32, 64, 128)"
   ]
  },
  {
   "cell_type": "code",
   "execution_count": 12,
   "metadata": {},
   "outputs": [
    {
     "name": "stdout",
     "output_type": "stream",
     "text": [
      "i   Layer name                  Output shape          Parameters\n",
      "----------------------------------------------------------------\n",
      "    Input                [None, 105, 105, 1]                    \n",
      "----------------------------------------------------------------\n",
      "0   conv2d_1_1          [None, 103, 103, 32]                 320\n",
      "----------------------------------------------------------------\n",
      "1   bn_1_1              [None, 103, 103, 32]                  64\n",
      "----------------------------------------------------------------\n",
      "2   relu_1_1            [None, 103, 103, 32]                   0\n",
      "----------------------------------------------------------------\n",
      "3   conv2d_1_2          [None, 101, 101, 32]                9248\n",
      "----------------------------------------------------------------\n",
      "4   bn_1_2              [None, 101, 101, 32]                  64\n",
      "----------------------------------------------------------------\n",
      "5   relu_1_2            [None, 101, 101, 32]                   0\n",
      "----------------------------------------------------------------\n",
      "6   avg_pool2d_1          [None, 50, 50, 32]                   0\n",
      "----------------------------------------------------------------\n",
      "7   conv2d_2_1            [None, 48, 48, 64]               18496\n",
      "----------------------------------------------------------------\n",
      "8   bn_2_1                [None, 48, 48, 64]                 128\n",
      "----------------------------------------------------------------\n",
      "9   relu_2_1              [None, 48, 48, 64]                   0\n",
      "----------------------------------------------------------------\n",
      "10  conv2d_2_2            [None, 46, 46, 64]               36928\n",
      "----------------------------------------------------------------\n",
      "11  bn_2_2                [None, 46, 46, 64]                 128\n",
      "----------------------------------------------------------------\n",
      "12  relu_2_2              [None, 46, 46, 64]                   0\n",
      "----------------------------------------------------------------\n",
      "13  avg_pool2d_2          [None, 23, 23, 64]                   0\n",
      "----------------------------------------------------------------\n",
      "14  conv2d_3_1           [None, 21, 21, 128]               73856\n",
      "----------------------------------------------------------------\n",
      "15  bn_3_1               [None, 21, 21, 128]                 256\n",
      "----------------------------------------------------------------\n",
      "16  relu_3_1             [None, 21, 21, 128]                   0\n",
      "----------------------------------------------------------------\n",
      "17  conv2d_3_2           [None, 19, 19, 128]              147584\n",
      "----------------------------------------------------------------\n",
      "18  bn_3_2               [None, 19, 19, 128]                 256\n",
      "----------------------------------------------------------------\n",
      "19  relu_3_2             [None, 19, 19, 128]                   0\n",
      "----------------------------------------------------------------\n",
      "20  global_avg_pool2d            [None, 128]                   0\n",
      "----------------------------------------------------------------\n",
      "21  pred                         [None, 128]               16512\n",
      "----------------------------------------------------------------\n",
      "Parameters: 303840\n"
     ]
    }
   ],
   "source": [
    "model.summary()"
   ]
  },
  {
   "cell_type": "code",
   "execution_count": 13,
   "metadata": {},
   "outputs": [
    {
     "data": {
      "text/plain": [
       "[<tf.Variable 'model_1/conv2d_1_1_f:0' shape=(3, 3, 1, 32) dtype=float32_ref>,\n",
       " <tf.Variable 'model_1/conv2d_1_1_b:0' shape=(32,) dtype=float32_ref>,\n",
       " <tf.Variable 'model_1/bn_1_1_scale:0' shape=(32,) dtype=float32_ref>,\n",
       " <tf.Variable 'model_1/bn_1_1_beta:0' shape=(32,) dtype=float32_ref>,\n",
       " <tf.Variable 'model_1/conv2d_1_2_f:0' shape=(3, 3, 32, 32) dtype=float32_ref>,\n",
       " <tf.Variable 'model_1/conv2d_1_2_b:0' shape=(32,) dtype=float32_ref>,\n",
       " <tf.Variable 'model_1/bn_1_2_scale:0' shape=(32,) dtype=float32_ref>,\n",
       " <tf.Variable 'model_1/bn_1_2_beta:0' shape=(32,) dtype=float32_ref>,\n",
       " <tf.Variable 'model_1/conv2d_2_1_f:0' shape=(3, 3, 32, 64) dtype=float32_ref>,\n",
       " <tf.Variable 'model_1/conv2d_2_1_b:0' shape=(64,) dtype=float32_ref>,\n",
       " <tf.Variable 'model_1/bn_2_1_scale:0' shape=(64,) dtype=float32_ref>,\n",
       " <tf.Variable 'model_1/bn_2_1_beta:0' shape=(64,) dtype=float32_ref>,\n",
       " <tf.Variable 'model_1/conv2d_2_2_f:0' shape=(3, 3, 64, 64) dtype=float32_ref>,\n",
       " <tf.Variable 'model_1/conv2d_2_2_b:0' shape=(64,) dtype=float32_ref>,\n",
       " <tf.Variable 'model_1/bn_2_2_scale:0' shape=(64,) dtype=float32_ref>,\n",
       " <tf.Variable 'model_1/bn_2_2_beta:0' shape=(64,) dtype=float32_ref>,\n",
       " <tf.Variable 'model_1/conv2d_3_1_f:0' shape=(3, 3, 64, 128) dtype=float32_ref>,\n",
       " <tf.Variable 'model_1/conv2d_3_1_b:0' shape=(128,) dtype=float32_ref>,\n",
       " <tf.Variable 'model_1/bn_3_1_scale:0' shape=(128,) dtype=float32_ref>,\n",
       " <tf.Variable 'model_1/bn_3_1_beta:0' shape=(128,) dtype=float32_ref>,\n",
       " <tf.Variable 'model_1/conv2d_3_2_f:0' shape=(3, 3, 128, 128) dtype=float32_ref>,\n",
       " <tf.Variable 'model_1/conv2d_3_2_b:0' shape=(128,) dtype=float32_ref>,\n",
       " <tf.Variable 'model_1/bn_3_2_scale:0' shape=(128,) dtype=float32_ref>,\n",
       " <tf.Variable 'model_1/bn_3_2_beta:0' shape=(128,) dtype=float32_ref>,\n",
       " <tf.Variable 'model_1/pred_w:0' shape=(128, 128) dtype=float32_ref>,\n",
       " <tf.Variable 'model_1/pred_b:0' shape=(128,) dtype=float32_ref>]"
      ]
     },
     "execution_count": 13,
     "metadata": {},
     "output_type": "execute_result"
    }
   ],
   "source": [
    "tf.trainable_variables()"
   ]
  },
  {
   "cell_type": "code",
   "execution_count": 14,
   "metadata": {},
   "outputs": [],
   "source": [
    "loss = vbranch.losses.triplet_omniglot(model.output, A, P, K, 'loss')\n",
    "train_op = tf.train.AdamOptimizer(learning_rate=0.001).minimize(loss)"
   ]
  },
  {
   "cell_type": "code",
   "execution_count": null,
   "metadata": {},
   "outputs": [
    {
     "name": "stdout",
     "output_type": "stream",
     "text": [
      "Epoch 1/10\n",
      "  7/100 [=>............................] - ETA: 9:30 - loss: 58.2008"
     ]
    }
   ],
   "source": [
    "with tf.Session() as sess:\n",
    "    sess.run(tf.global_variables_initializer())\n",
    "    sess.run(train_init_op)\n",
    "\n",
    "    for e in range(EPOCHS):\n",
    "        print(\"Epoch {}/{}\".format(e + 1, EPOCHS))\n",
    "        progbar = tf.keras.utils.Progbar(STEPS_PER_EPOCH)\n",
    "        \n",
    "        for i in range(STEPS_PER_EPOCH):\n",
    "            _, loss_value = sess.run([train_op, loss])\n",
    "            progbar.update(i + 1, values=[(\"loss\", loss_value)])\n",
    "    \n",
    "    if save:\n",
    "        saver = tf.train.Saver()\n",
    "        path = os.path.join(model_path, 'ckpt')\n",
    "        saver.save(sess, path)"
   ]
  },
  {
   "cell_type": "markdown",
   "metadata": {},
   "source": [
    "## Model Ensemble"
   ]
  },
  {
   "cell_type": "code",
   "execution_count": 4,
   "metadata": {},
   "outputs": [],
   "source": [
    "def restore_sess(sess, model_path):\n",
    "    meta_path = os.path.join(model_path, 'ckpt.meta')\n",
    "    ckpt = tf.train.get_checkpoint_state(model_path)\n",
    "\n",
    "    imported_graph = tf.train.import_meta_graph(meta_path)\n",
    "    imported_graph.restore(sess, ckpt.model_checkpoint_path)"
   ]
  },
  {
   "cell_type": "code",
   "execution_count": 8,
   "metadata": {},
   "outputs": [],
   "source": [
    "def get_run(n_run):\n",
    "    all_runs = './omniglot/python/one-shot-classification/all_runs'\n",
    "    \n",
    "    run_path = os.path.join(all_runs,'run%02d'%n_run,'class_labels.txt')\n",
    "    with open(run_path) as f:\n",
    "        content = f.read().splitlines()\n",
    "\n",
    "    pairs = [line.split() for line in content]\n",
    "    test_files  = [pair[0] for pair in pairs]\n",
    "    train_files = [pair[1] for pair in pairs]\n",
    "\n",
    "    answers_files = copy.copy(train_files)\n",
    "    test_files.sort()\n",
    "    train_files.sort()\n",
    "    \n",
    "    def f_load(f):\n",
    "        path = os.path.join(all_runs, f)\n",
    "        return cv2.imread(path)[..., 0]\n",
    "\n",
    "    train_imgs = np.stack([f_load(f) for f in train_files]).\\\n",
    "                        astype('float32')[..., np.newaxis]\n",
    "    test_imgs  = np.stack([f_load(f) for f in test_files]).\\\n",
    "                        astype('float32')[..., np.newaxis]\n",
    "\n",
    "    return train_files, test_files, train_imgs, test_imgs, answers_files"
   ]
  },
  {
   "cell_type": "code",
   "execution_count": 31,
   "metadata": {},
   "outputs": [],
   "source": [
    "def compute_one_shot_acc(test_pred, train_pred, train_files, answers_files):\n",
    "    n_test = len(test_pred)\n",
    "    n_train = len(train_pred)\n",
    "    \n",
    "    distM = np.zeros((n_test, n_train))\n",
    "    for i in range(n_test):\n",
    "        for c in range(n_train):\n",
    "            distM[i,c] = distance.euclidean(test_pred[i],train_pred[c])\n",
    "            \n",
    "    YHAT = np.argmin(distM,axis=1)\n",
    "    \n",
    "    # compute the error rate\n",
    "    correct = 0.0\n",
    "    for i in range(n_test):\n",
    "        if train_files[YHAT[i]] == answers_files[i]:\n",
    "            correct += 1.0\n",
    "        \n",
    "    return correct / n_test"
   ]
  },
  {
   "cell_type": "code",
   "execution_count": 32,
   "metadata": {},
   "outputs": [
    {
     "name": "stdout",
     "output_type": "stream",
     "text": [
      "INFO:tensorflow:Restoring parameters from ./models/model_1/ckpt\n"
     ]
    }
   ],
   "source": [
    "total_runs = 20\n",
    "train_pred_runs = [[] for _ in range(total_runs)]\n",
    "test_pred_runs = [[] for _ in range(total_runs)]\n",
    "\n",
    "run_data = [get_run(r+1) for r in range(total_runs)]\n",
    "\n",
    "num_models = 1\n",
    "graphs = [tf.Graph() for _ in range(num_models)]\n",
    "sessions = [tf.Session(graph=g) for g in graphs]\n",
    "\n",
    "for i in range(len(graphs)):\n",
    "    with graphs[i].as_default():\n",
    "        restore_sess(sessions[i], './models/model_' + str(i + 1))\n",
    "        \n",
    "        for r in range(total_runs):\n",
    "            train_files,test_files,train_imgs,test_imgs,answers_files = run_data[r]\n",
    "            \n",
    "            feed_dict = {'x:0':train_imgs, 'batch_size:0':len(train_imgs)}\n",
    "            sessions[i].run('test_init_op', feed_dict=feed_dict)\n",
    "            train_pred_runs[r].append(sessions[i].run('model_%d'%(i+1)+'/'+'pred:0'))\n",
    "    \n",
    "            feed_dict = {'x:0':test_imgs, 'batch_size:0':len(test_imgs)}\n",
    "            sessions[i].run('test_init_op', feed_dict=feed_dict)\n",
    "            test_pred_runs[r].append(sessions[i].run('model_%d'%(i+1)+'/'+'pred:0'))"
   ]
  },
  {
   "cell_type": "code",
   "execution_count": 33,
   "metadata": {},
   "outputs": [],
   "source": [
    "acc_runs = []\n",
    "for r in range(total_runs):\n",
    "    test_embed = np.mean(test_pred_runs[r], axis=0)\n",
    "    train_embed = np.mean(train_pred_runs[r], axis=0)\n",
    "    train_files = run_data[r][0]\n",
    "    answers_files = run_data[r][-1]\n",
    "    \n",
    "    acc = compute_one_shot_acc(test_embed, train_embed,train_files, answers_files)\n",
    "    acc_runs.append(acc)"
   ]
  },
  {
   "cell_type": "code",
   "execution_count": 36,
   "metadata": {},
   "outputs": [
    {
     "name": "stdout",
     "output_type": "stream",
     "text": [
      "[0.3, 0.4, 0.35, 0.2, 0.45, 0.4, 0.35, 0.2, 0.25, 0.15, 0.5, 0.3, 0.1, 0.5, 0.45, 0.45, 0.25, 0.3, 0.2, 0.2]\n",
      "0.31500000000000006\n"
     ]
    }
   ],
   "source": [
    "print(acc_runs)\n",
    "print(np.mean(acc_runs))"
   ]
  },
  {
   "cell_type": "code",
   "execution_count": null,
   "metadata": {},
   "outputs": [],
   "source": []
  }
 ],
 "metadata": {
  "kernelspec": {
   "display_name": "Python 3",
   "language": "python",
   "name": "python3"
  },
  "language_info": {
   "codemirror_mode": {
    "name": "ipython",
    "version": 3
   },
   "file_extension": ".py",
   "mimetype": "text/x-python",
   "name": "python",
   "nbconvert_exporter": "python",
   "pygments_lexer": "ipython3",
   "version": "3.6.8"
  }
 },
 "nbformat": 4,
 "nbformat_minor": 2
}
