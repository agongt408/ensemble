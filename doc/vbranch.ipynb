{
 "cells": [
  {
   "cell_type": "markdown",
   "metadata": {},
   "source": [
    "# Virtual Branching for Person Re-ID"
   ]
  },
  {
   "cell_type": "code",
   "execution_count": null,
   "metadata": {},
   "outputs": [
    {
     "name": "stderr",
     "output_type": "stream",
     "text": [
      "Using TensorFlow backend.\n"
     ]
    }
   ],
   "source": [
    "import numpy as np\n",
    "np.set_printoptions(threshold=1000)\n",
    "\n",
    "import matplotlib.pyplot as plt\n",
    "import time\n",
    "import os\n",
    "%matplotlib inline\n",
    "\n",
    "from keras.callbacks import LearningRateScheduler, History"
   ]
  },
  {
   "cell_type": "code",
   "execution_count": null,
   "metadata": {},
   "outputs": [],
   "source": [
    "import sys\n",
    "sys.path.insert(0, '../src/')\n",
    "import evaluation,data, training, models"
   ]
  },
  {
   "cell_type": "markdown",
   "metadata": {},
   "source": [
    "### Load Data"
   ]
  },
  {
   "cell_type": "code",
   "execution_count": null,
   "metadata": {
    "collapsed": true
   },
   "outputs": [],
   "source": [
    "# Batch parameters for batch-hard triplet loss\n",
    "P_param = 5\n",
    "K_param = 4"
   ]
  },
  {
   "cell_type": "code",
   "execution_count": null,
   "metadata": {
    "collapsed": true
   },
   "outputs": [],
   "source": [
    "train_dict, train_files = data.get_data('train')"
   ]
  },
  {
   "cell_type": "code",
   "execution_count": null,
   "metadata": {},
   "outputs": [],
   "source": [
    "start = time.time()\n",
    "batch = data.batch_generator(train_dict, P=P_param, K=K_param, preprocess=True,\n",
    "                                    shape=(256,128)).next()\n",
    "print time.time() - start\n",
    "\n",
    "i = 0\n",
    "\n",
    "plt.figure(figsize=(15,2))\n",
    "for j in range(P_param*K_param):\n",
    "    plt.subplot(1,20,j+1)\n",
    "    im = batch[0][i][j].squeeze().astype(np.uint8)\n",
    "#         print im.min(), im.max()\n",
    "    plt.imshow(im)\n",
    "    plt.axis('off')\n",
    "plt.show()"
   ]
  },
  {
   "cell_type": "markdown",
   "metadata": {},
   "source": [
    "### Define Learning Rate Schedule"
   ]
  },
  {
   "cell_type": "code",
   "execution_count": null,
   "metadata": {},
   "outputs": [],
   "source": [
    "epochs = 10\n",
    "steps_per_epoch = 100\n",
    "\n",
    "lr = []\n",
    "for era in range(1,21):\n",
    "    for j in range(10):\n",
    "        lr.append(training.step_decay_cont(epochs, era)(j))\n",
    "plt.plot(np.arange(200), lr)"
   ]
  },
  {
   "cell_type": "markdown",
   "metadata": {},
   "source": [
    "### Define Model"
   ]
  },
  {
   "cell_type": "code",
   "execution_count": null,
   "metadata": {},
   "outputs": [],
   "source": [
    "model = models.DenseNetDrop(P_param=P_param, K_param=K_param, weights='imagenet')"
   ]
  },
  {
   "cell_type": "code",
   "execution_count": null,
   "metadata": {
    "scrolled": true
   },
   "outputs": [],
   "source": [
    "# During evaluation, weights from model are loaded onto model_eval\n",
    "model_eval = models.DenseNetDrop()"
   ]
  },
  {
   "cell_type": "code",
   "execution_count": null,
   "metadata": {
    "scrolled": true
   },
   "outputs": [],
   "source": [
    "# model.summary()"
   ]
  },
  {
   "cell_type": "code",
   "execution_count": null,
   "metadata": {
    "scrolled": true
   },
   "outputs": [],
   "source": [
    "history = History()\n",
    "for era in range(1,16):\n",
    "    iterations = era * epochs * steps_per_epoch\n",
    "    lrate = LearningRateScheduler(training.step_decay_cont(epochs, era))\n",
    "\n",
    "    print 'era, ' + str(era)\n",
    "\n",
    "    model.fit_generator(data.batch_generator(train_dict, P=P_param, K=K_param,\n",
    "                            preprocess=True, shape=(256,128)),\n",
    "                         steps_per_epoch=steps_per_epoch,\n",
    "                         epochs=epochs,\n",
    "                         callbacks=[lrate,history])\n",
    "\n",
    "    path = training.save_weights(model, it=iterations, root='vbranch_P5K4')\n",
    "    model_eval.set_weights(model.get_weights())\n",
    "\n",
    "    print evaluation.get_score(model_eval, hist=history, inputs=1)"
   ]
  },
  {
   "cell_type": "code",
   "execution_count": null,
   "metadata": {},
   "outputs": [],
   "source": [
    "for it in range(1000, 14000, 1000):\n",
    "    model_eval.set_weights(np.load('../models/vbranch_P5K4_pool3/vbranch_P5K4_pool3_%d.npy' % it))\n",
    "    print evaluation.get_score(model_eval, inputs=1)"
   ]
  },
  {
   "cell_type": "markdown",
   "metadata": {},
   "source": [
    "vbranch_P5K4 <br>\n",
    "1000: r1=0.49 <br>\n",
    "2000: {'mAP': 0.36899999999999999, 'rank': {'r5': 0.7931, 'r1': 0.5799}, 'loss': []} <br>\n",
    "3000: {'mAP': 0.35020000000000001, 'rank': {'r5': 0.7755, 'r1': 0.5647}, 'loss': []} <br>\n",
    "12000: {'mAP': 0.5544, 'rank': {'r5': 0.9062, 'r1': 0.7402}, 'loss': []}"
   ]
  },
  {
   "cell_type": "code",
   "execution_count": null,
   "metadata": {
    "collapsed": true
   },
   "outputs": [],
   "source": []
  }
 ],
 "metadata": {
  "kernelspec": {
   "display_name": "Python 2",
   "language": "python",
   "name": "python2"
  },
  "language_info": {
   "codemirror_mode": {
    "name": "ipython",
    "version": 2
   },
   "file_extension": ".py",
   "mimetype": "text/x-python",
   "name": "python",
   "nbconvert_exporter": "python",
   "pygments_lexer": "ipython2",
   "version": "2.7.13"
  }
 },
 "nbformat": 4,
 "nbformat_minor": 2
}
