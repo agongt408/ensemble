{
 "cells": [
  {
   "cell_type": "markdown",
   "metadata": {},
   "source": [
    "# Omnigot One-Shot with Virtual Branching"
   ]
  },
  {
   "cell_type": "code",
   "execution_count": 1,
   "metadata": {},
   "outputs": [],
   "source": [
    "import tensorflow as tf\n",
    "import numpy as np\n",
    "import os\n",
    "import matplotlib.pyplot as plt\n",
    "import copy\n",
    "import cv2\n",
    "from scipy.spatial import distance"
   ]
  },
  {
   "cell_type": "code",
   "execution_count": 2,
   "metadata": {},
   "outputs": [],
   "source": [
    "import vbranch as vb"
   ]
  },
  {
   "cell_type": "code",
   "execution_count": 3,
   "metadata": {},
   "outputs": [],
   "source": [
    "model_id = 1\n",
    "architecture = 'simple'"
   ]
  },
  {
   "cell_type": "markdown",
   "metadata": {},
   "source": [
    "## Load Data"
   ]
  },
  {
   "cell_type": "code",
   "execution_count": 4,
   "metadata": {},
   "outputs": [],
   "source": [
    "train_generator = vb.datasets.omniglot.load_generator('train')\n",
    "test_generator = vb.datasets.omniglot.load_generator('test')"
   ]
  },
  {
   "cell_type": "code",
   "execution_count": 5,
   "metadata": {},
   "outputs": [],
   "source": [
    "batch = test_generator.next(4, 4, 4, flatten=False)"
   ]
  },
  {
   "cell_type": "code",
   "execution_count": 6,
   "metadata": {},
   "outputs": [
    {
     "data": {
      "image/png": "[encoded data removed]",
      "text/plain": [
       "<Figure size 432x288 with 1 Axes>"
      ]
     },
     "metadata": {
      "needs_background": "light"
     },
     "output_type": "display_data"
    }
   ],
   "source": [
    "plt.imshow(batch[2, 3, 0].squeeze(), cmap=plt.cm.gray)\n",
    "plt.show()"
   ]
  },
  {
   "cell_type": "markdown",
   "metadata": {},
   "source": [
    "## Build Model"
   ]
  },
  {
   "cell_type": "code",
   "execution_count": 7,
   "metadata": {},
   "outputs": [],
   "source": [
    "EPOCHS = 90\n",
    "STEPS_PER_EPOCH = 100\n",
    "T_0 = 30\n",
    "\n",
    "NUM_BRANCHES = 3\n",
    "SHARED_FRAC = 0\n",
    "model_path = os.path.join('models', 'vb-omniglot-{}-B{:d}-S{:.2f}_{:d}'.format(architecture,\n",
    "    NUM_BRANCHES, SHARED_FRAC, model_id))\n",
    "\n",
    "A, P, K = 4, 8, 4 # triplet batch specs\n",
    "output_dim = 128\n",
    "input_dim = [None, 105, 105, 1]"
   ]
  },
  {
   "cell_type": "code",
   "execution_count": 8,
   "metadata": {},
   "outputs": [],
   "source": [
    "if not os.path.isdir('./models'):\n",
    "    os.system('mkdir models')"
   ]
  },
  {
   "cell_type": "code",
   "execution_count": 9,
   "metadata": {},
   "outputs": [],
   "source": [
    "def batch_gen(A, P, K):\n",
    "    def func():\n",
    "        while True:\n",
    "            batch = train_generator.next(A, P, K)\n",
    "            batch = batch.astype('float32')\n",
    "            yield batch\n",
    "    return func"
   ]
  },
  {
   "cell_type": "code",
   "execution_count": 10,
   "metadata": {},
   "outputs": [],
   "source": [
    "tf.reset_default_graph()\n",
    "\n",
    "# Placeholder for feeding test images\n",
    "x = tf.placeholder('float32', input_dim, name='x')\n",
    "batch_size = tf.placeholder('int64', name='batch_size')\n",
    "\n",
    "train_datasets = []\n",
    "test_datasets = []\n",
    "inputs = [None] * NUM_BRANCHES\n",
    "train_init_ops = []\n",
    "test_init_ops = []\n",
    "\n",
    "for i in range(NUM_BRANCHES):\n",
    "    train_datasets.append( tf.data.Dataset.from_generator(batch_gen(A, P, K), \n",
    "                                                          'float32', \n",
    "                                                          output_shapes=input_dim))\n",
    "\n",
    "    test_datasets.append(tf.data.Dataset.from_tensor_slices(x).batch(batch_size))\n",
    "    \n",
    "    iterator = tf.data.Iterator.from_structure('float32', input_dim)\n",
    "    inputs[i] = iterator.get_next(name='input_'+str(i+1))    \n",
    "\n",
    "    train_init_ops.append(iterator.make_initializer(train_datasets[i]))\n",
    "    test_init_ops.append(iterator.make_initializer(test_datasets[i], \n",
    "                                                name='test_init_op_'+str(i+1)))"
   ]
  },
  {
   "cell_type": "code",
   "execution_count": 11,
   "metadata": {},
   "outputs": [],
   "source": [
    "if architecture == 'simple':        \n",
    "    filters = [32, 64, 128, 256]\n",
    "    layers_spec = [([f]*NUM_BRANCHES, int(f*SHARED_FRAC)) for f in filters]\n",
    "\n",
    "    model = vb.vbranch_simple_cnn(inputs, (output_dim, 0), *layers_spec,\n",
    "        branches=NUM_BRANCHES, name='model_' + str(model_id))\n",
    "\n",
    "elif architecture == 'res':\n",
    "    model = vb.res_cnn(inputs, output_dim, 32, 64, 128, 256)"
   ]
  },
  {
   "cell_type": "code",
   "execution_count": 12,
   "metadata": {
    "scrolled": false
   },
   "outputs": [
    {
     "name": "stdout",
     "output_type": "stream",
     "text": [
      "i   Layer name         Output shape        Num param  Inbound            \n",
      "-------------------------------------------------------------------------\n",
      "    Input              [None,105,105,1]                                  \n",
      "-------------------------------------------------------------------------\n",
      "    Input              [None,105,105,1]                                  \n",
      "-------------------------------------------------------------------------\n",
      "    Input              [None,105,105,1]                                  \n",
      "-------------------------------------------------------------------------\n",
      "0   conv2d_1_1         [None,103,103,32]   960        input              \n",
      "                       [None,103,103,32]                                 \n",
      "                       [None,103,103,32]                                 \n",
      "-------------------------------------------------------------------------\n",
      "1   bn_1_1             [None,103,103,32]   192        conv2d_1_1         \n",
      "                       [None,103,103,32]                                 \n",
      "                       [None,103,103,32]                                 \n",
      "-------------------------------------------------------------------------\n",
      "2   relu_1_1           [None,103,103,32]   0          bn_1_1             \n",
      "                       [None,103,103,32]                                 \n",
      "                       [None,103,103,32]                                 \n",
      "-------------------------------------------------------------------------\n",
      "3   conv2d_1_2         [None,101,101,32]   27744      relu_1_1           \n",
      "                       [None,101,101,32]                                 \n",
      "                       [None,101,101,32]                                 \n",
      "-------------------------------------------------------------------------\n",
      "4   bn_1_2             [None,101,101,32]   192        conv2d_1_2         \n",
      "                       [None,101,101,32]                                 \n",
      "                       [None,101,101,32]                                 \n",
      "-------------------------------------------------------------------------\n",
      "5   relu_1_2           [None,101,101,32]   0          bn_1_2             \n",
      "                       [None,101,101,32]                                 \n",
      "                       [None,101,101,32]                                 \n",
      "-------------------------------------------------------------------------\n",
      "6   avg_pool2d_1       [None,50,50,32]     0          relu_1_2           \n",
      "                       [None,50,50,32]                                   \n",
      "                       [None,50,50,32]                                   \n",
      "-------------------------------------------------------------------------\n",
      "7   conv2d_2_1         [None,48,48,64]     55488      avg_pool2d_1       \n",
      "                       [None,48,48,64]                                   \n",
      "                       [None,48,48,64]                                   \n",
      "-------------------------------------------------------------------------\n",
      "8   bn_2_1             [None,48,48,64]     384        conv2d_2_1         \n",
      "                       [None,48,48,64]                                   \n",
      "                       [None,48,48,64]                                   \n",
      "-------------------------------------------------------------------------\n",
      "9   relu_2_1           [None,48,48,64]     0          bn_2_1             \n",
      "                       [None,48,48,64]                                   \n",
      "                       [None,48,48,64]                                   \n",
      "-------------------------------------------------------------------------\n",
      "10  conv2d_2_2         [None,46,46,64]     110784     relu_2_1           \n",
      "                       [None,46,46,64]                                   \n",
      "                       [None,46,46,64]                                   \n",
      "-------------------------------------------------------------------------\n",
      "11  bn_2_2             [None,46,46,64]     384        conv2d_2_2         \n",
      "                       [None,46,46,64]                                   \n",
      "                       [None,46,46,64]                                   \n",
      "-------------------------------------------------------------------------\n",
      "12  relu_2_2           [None,46,46,64]     0          bn_2_2             \n",
      "                       [None,46,46,64]                                   \n",
      "                       [None,46,46,64]                                   \n",
      "-------------------------------------------------------------------------\n",
      "13  avg_pool2d_2       [None,23,23,64]     0          relu_2_2           \n",
      "                       [None,23,23,64]                                   \n",
      "                       [None,23,23,64]                                   \n",
      "-------------------------------------------------------------------------\n",
      "14  conv2d_3_1         [None,21,21,128]    221568     avg_pool2d_2       \n",
      "                       [None,21,21,128]                                  \n",
      "                       [None,21,21,128]                                  \n",
      "-------------------------------------------------------------------------\n",
      "15  bn_3_1             [None,21,21,128]    768        conv2d_3_1         \n",
      "                       [None,21,21,128]                                  \n",
      "                       [None,21,21,128]                                  \n",
      "-------------------------------------------------------------------------\n",
      "16  relu_3_1           [None,21,21,128]    0          bn_3_1             \n",
      "                       [None,21,21,128]                                  \n",
      "                       [None,21,21,128]                                  \n",
      "-------------------------------------------------------------------------\n",
      "17  conv2d_3_2         [None,19,19,128]    442752     relu_3_1           \n",
      "                       [None,19,19,128]                                  \n",
      "                       [None,19,19,128]                                  \n",
      "-------------------------------------------------------------------------\n",
      "18  bn_3_2             [None,19,19,128]    768        conv2d_3_2         \n",
      "                       [None,19,19,128]                                  \n",
      "                       [None,19,19,128]                                  \n",
      "-------------------------------------------------------------------------\n",
      "19  relu_3_2           [None,19,19,128]    0          bn_3_2             \n",
      "                       [None,19,19,128]                                  \n",
      "                       [None,19,19,128]                                  \n",
      "-------------------------------------------------------------------------\n",
      "20  avg_pool2d_3       [None,9,9,128]      0          relu_3_2           \n",
      "                       [None,9,9,128]                                    \n",
      "                       [None,9,9,128]                                    \n",
      "-------------------------------------------------------------------------\n",
      "21  conv2d_4_1         [None,7,7,256]      885504     avg_pool2d_3       \n",
      "                       [None,7,7,256]                                    \n",
      "                       [None,7,7,256]                                    \n",
      "-------------------------------------------------------------------------\n",
      "22  bn_4_1             [None,7,7,256]      1536       conv2d_4_1         \n",
      "                       [None,7,7,256]                                    \n",
      "                       [None,7,7,256]                                    \n",
      "-------------------------------------------------------------------------\n",
      "23  relu_4_1           [None,7,7,256]      0          bn_4_1             \n",
      "                       [None,7,7,256]                                    \n",
      "                       [None,7,7,256]                                    \n",
      "-------------------------------------------------------------------------\n",
      "24  conv2d_4_2         [None,5,5,256]      1770240    relu_4_1           \n",
      "                       [None,5,5,256]                                    \n",
      "                       [None,5,5,256]                                    \n",
      "-------------------------------------------------------------------------\n",
      "25  bn_4_2             [None,5,5,256]      1536       conv2d_4_2         \n",
      "                       [None,5,5,256]                                    \n",
      "                       [None,5,5,256]                                    \n",
      "-------------------------------------------------------------------------\n",
      "26  relu_4_2           [None,5,5,256]      0          bn_4_2             \n",
      "                       [None,5,5,256]                                    \n",
      "                       [None,5,5,256]                                    \n",
      "-------------------------------------------------------------------------\n",
      "27  global_avg_pool2d  [None,256]          0          relu_4_2           \n",
      "                       [None,256]                                        \n",
      "                       [None,256]                                        \n",
      "-------------------------------------------------------------------------\n",
      "28  fc1                [None,256]          197376     global_avg_pool2d  \n",
      "                       [None,256]                                        \n",
      "                       [None,256]                                        \n",
      "-------------------------------------------------------------------------\n",
      "29  bn_fc1             [None,256]          1536       fc1                \n",
      "                       [None,256]                                        \n",
      "                       [None,256]                                        \n",
      "-------------------------------------------------------------------------\n",
      "30  relu_fc1           [None,256]          0          bn_fc1             \n",
      "                       [None,256]                                        \n",
      "                       [None,256]                                        \n",
      "-------------------------------------------------------------------------\n",
      "31  output             [None,128]          98688      relu_fc1           \n",
      "                       [None,128]                                        \n",
      "                       [None,128]                                        \n",
      "-------------------------------------------------------------------------\n",
      "Total parameters: 3818400\n"
     ]
    }
   ],
   "source": [
    "model.summary()"
   ]
  },
  {
   "cell_type": "code",
   "execution_count": 13,
   "metadata": {},
   "outputs": [],
   "source": [
    "def lr_exp_decay_scheduler(init_lr, t0, t1, decay):\n",
    "    \"\"\"NOTE: `episode` starts from 1\"\"\"\n",
    "    def func(episode):\n",
    "        if episode < t0:\n",
    "            return init_lr\n",
    "        lr = init_lr * np.power(decay, (episode - t0) / (t1 - t0))\n",
    "        return lr\n",
    "    return func"
   ]
  },
  {
   "cell_type": "code",
   "execution_count": 14,
   "metadata": {},
   "outputs": [
    {
     "data": {
      "image/png": "[encoded data removed]",
      "text/plain": [
       "<Figure size 432x288 with 1 Axes>"
      ]
     },
     "metadata": {
      "needs_background": "light"
     },
     "output_type": "display_data"
    }
   ],
   "source": [
    "lr_scheduler = lr_exp_decay_scheduler(0.001, T_0, EPOCHS, 0.001)\n",
    "lr_steps = [lr_scheduler(e + 1) for e in range(EPOCHS)]\n",
    "plt.plot(lr_steps)\n",
    "plt.show()"
   ]
  },
  {
   "cell_type": "code",
   "execution_count": 15,
   "metadata": {},
   "outputs": [],
   "source": [
    "lr = tf.placeholder('float32', name='lr')\n",
    "optimizer = tf.train.AdamOptimizer(learning_rate=lr)\n",
    "\n",
    "# Compile model\n",
    "model.compile(optimizer, 'triplet_omniglot', A=A, P=P, K=K)"
   ]
  },
  {
   "cell_type": "code",
   "execution_count": 17,
   "metadata": {},
   "outputs": [
    {
     "data": {
      "text/plain": [
       "[[<tf.Variable 'model_1/conv2d_1_1_vb1_f:0' shape=(3, 3, 1, 32) dtype=float32_ref>,\n",
       "  <tf.Variable 'model_1/conv2d_1_1_vb1_b:0' shape=(32,) dtype=float32_ref>,\n",
       "  <tf.Variable 'model_1/bn_1_1_vb1_unique_to_unique_scale:0' shape=(32,) dtype=float32_ref>,\n",
       "  <tf.Variable 'model_1/bn_1_1_vb1_unique_to_unique_beta:0' shape=(32,) dtype=float32_ref>,\n",
       "  <tf.Variable 'model_1/conv2d_1_2_vb1_f:0' shape=(3, 3, 32, 32) dtype=float32_ref>,\n",
       "  <tf.Variable 'model_1/conv2d_1_2_vb1_b:0' shape=(32,) dtype=float32_ref>,\n",
       "  <tf.Variable 'model_1/bn_1_2_vb1_unique_to_unique_scale:0' shape=(32,) dtype=float32_ref>,\n",
       "  <tf.Variable 'model_1/bn_1_2_vb1_unique_to_unique_beta:0' shape=(32,) dtype=float32_ref>,\n",
       "  <tf.Variable 'model_1/conv2d_2_1_vb1_f:0' shape=(3, 3, 32, 64) dtype=float32_ref>,\n",
       "  <tf.Variable 'model_1/conv2d_2_1_vb1_b:0' shape=(64,) dtype=float32_ref>,\n",
       "  <tf.Variable 'model_1/bn_2_1_vb1_unique_to_unique_scale:0' shape=(64,) dtype=float32_ref>,\n",
       "  <tf.Variable 'model_1/bn_2_1_vb1_unique_to_unique_beta:0' shape=(64,) dtype=float32_ref>,\n",
       "  <tf.Variable 'model_1/conv2d_2_2_vb1_f:0' shape=(3, 3, 64, 64) dtype=float32_ref>,\n",
       "  <tf.Variable 'model_1/conv2d_2_2_vb1_b:0' shape=(64,) dtype=float32_ref>,\n",
       "  <tf.Variable 'model_1/bn_2_2_vb1_unique_to_unique_scale:0' shape=(64,) dtype=float32_ref>,\n",
       "  <tf.Variable 'model_1/bn_2_2_vb1_unique_to_unique_beta:0' shape=(64,) dtype=float32_ref>,\n",
       "  <tf.Variable 'model_1/conv2d_3_1_vb1_f:0' shape=(3, 3, 64, 128) dtype=float32_ref>,\n",
       "  <tf.Variable 'model_1/conv2d_3_1_vb1_b:0' shape=(128,) dtype=float32_ref>,\n",
       "  <tf.Variable 'model_1/bn_3_1_vb1_unique_to_unique_scale:0' shape=(128,) dtype=float32_ref>,\n",
       "  <tf.Variable 'model_1/bn_3_1_vb1_unique_to_unique_beta:0' shape=(128,) dtype=float32_ref>,\n",
       "  <tf.Variable 'model_1/conv2d_3_2_vb1_f:0' shape=(3, 3, 128, 128) dtype=float32_ref>,\n",
       "  <tf.Variable 'model_1/conv2d_3_2_vb1_b:0' shape=(128,) dtype=float32_ref>,\n",
       "  <tf.Variable 'model_1/bn_3_2_vb1_unique_to_unique_scale:0' shape=(128,) dtype=float32_ref>,\n",
       "  <tf.Variable 'model_1/bn_3_2_vb1_unique_to_unique_beta:0' shape=(128,) dtype=float32_ref>,\n",
       "  <tf.Variable 'model_1/conv2d_4_1_vb1_f:0' shape=(3, 3, 128, 256) dtype=float32_ref>,\n",
       "  <tf.Variable 'model_1/conv2d_4_1_vb1_b:0' shape=(256,) dtype=float32_ref>,\n",
       "  <tf.Variable 'model_1/bn_4_1_vb1_unique_to_unique_scale:0' shape=(256,) dtype=float32_ref>,\n",
       "  <tf.Variable 'model_1/bn_4_1_vb1_unique_to_unique_beta:0' shape=(256,) dtype=float32_ref>,\n",
       "  <tf.Variable 'model_1/conv2d_4_2_vb1_f:0' shape=(3, 3, 256, 256) dtype=float32_ref>,\n",
       "  <tf.Variable 'model_1/conv2d_4_2_vb1_b:0' shape=(256,) dtype=float32_ref>,\n",
       "  <tf.Variable 'model_1/bn_4_2_vb1_unique_to_unique_scale:0' shape=(256,) dtype=float32_ref>,\n",
       "  <tf.Variable 'model_1/bn_4_2_vb1_unique_to_unique_beta:0' shape=(256,) dtype=float32_ref>,\n",
       "  <tf.Variable 'model_1/fc1_vb1_w:0' shape=(256, 256) dtype=float32_ref>,\n",
       "  <tf.Variable 'model_1/fc1_vb1_b:0' shape=(256,) dtype=float32_ref>,\n",
       "  <tf.Variable 'model_1/bn_fc1_vb1_unique_to_unique_scale:0' shape=(256,) dtype=float32_ref>,\n",
       "  <tf.Variable 'model_1/bn_fc1_vb1_unique_to_unique_beta:0' shape=(256,) dtype=float32_ref>,\n",
       "  <tf.Variable 'model_1/output_vb1_w:0' shape=(256, 128) dtype=float32_ref>,\n",
       "  <tf.Variable 'model_1/output_vb1_b:0' shape=(128,) dtype=float32_ref>],\n",
       " [<tf.Variable 'model_1/conv2d_1_1_vb2_f:0' shape=(3, 3, 1, 32) dtype=float32_ref>,\n",
       "  <tf.Variable 'model_1/conv2d_1_1_vb2_b:0' shape=(32,) dtype=float32_ref>,\n",
       "  <tf.Variable 'model_1/bn_1_1_vb2_unique_to_unique_scale:0' shape=(32,) dtype=float32_ref>,\n",
       "  <tf.Variable 'model_1/bn_1_1_vb2_unique_to_unique_beta:0' shape=(32,) dtype=float32_ref>,\n",
       "  <tf.Variable 'model_1/conv2d_1_2_vb2_f:0' shape=(3, 3, 32, 32) dtype=float32_ref>,\n",
       "  <tf.Variable 'model_1/conv2d_1_2_vb2_b:0' shape=(32,) dtype=float32_ref>,\n",
       "  <tf.Variable 'model_1/bn_1_2_vb2_unique_to_unique_scale:0' shape=(32,) dtype=float32_ref>,\n",
       "  <tf.Variable 'model_1/bn_1_2_vb2_unique_to_unique_beta:0' shape=(32,) dtype=float32_ref>,\n",
       "  <tf.Variable 'model_1/conv2d_2_1_vb2_f:0' shape=(3, 3, 32, 64) dtype=float32_ref>,\n",
       "  <tf.Variable 'model_1/conv2d_2_1_vb2_b:0' shape=(64,) dtype=float32_ref>,\n",
       "  <tf.Variable 'model_1/bn_2_1_vb2_unique_to_unique_scale:0' shape=(64,) dtype=float32_ref>,\n",
       "  <tf.Variable 'model_1/bn_2_1_vb2_unique_to_unique_beta:0' shape=(64,) dtype=float32_ref>,\n",
       "  <tf.Variable 'model_1/conv2d_2_2_vb2_f:0' shape=(3, 3, 64, 64) dtype=float32_ref>,\n",
       "  <tf.Variable 'model_1/conv2d_2_2_vb2_b:0' shape=(64,) dtype=float32_ref>,\n",
       "  <tf.Variable 'model_1/bn_2_2_vb2_unique_to_unique_scale:0' shape=(64,) dtype=float32_ref>,\n",
       "  <tf.Variable 'model_1/bn_2_2_vb2_unique_to_unique_beta:0' shape=(64,) dtype=float32_ref>,\n",
       "  <tf.Variable 'model_1/conv2d_3_1_vb2_f:0' shape=(3, 3, 64, 128) dtype=float32_ref>,\n",
       "  <tf.Variable 'model_1/conv2d_3_1_vb2_b:0' shape=(128,) dtype=float32_ref>,\n",
       "  <tf.Variable 'model_1/bn_3_1_vb2_unique_to_unique_scale:0' shape=(128,) dtype=float32_ref>,\n",
       "  <tf.Variable 'model_1/bn_3_1_vb2_unique_to_unique_beta:0' shape=(128,) dtype=float32_ref>,\n",
       "  <tf.Variable 'model_1/conv2d_3_2_vb2_f:0' shape=(3, 3, 128, 128) dtype=float32_ref>,\n",
       "  <tf.Variable 'model_1/conv2d_3_2_vb2_b:0' shape=(128,) dtype=float32_ref>,\n",
       "  <tf.Variable 'model_1/bn_3_2_vb2_unique_to_unique_scale:0' shape=(128,) dtype=float32_ref>,\n",
       "  <tf.Variable 'model_1/bn_3_2_vb2_unique_to_unique_beta:0' shape=(128,) dtype=float32_ref>,\n",
       "  <tf.Variable 'model_1/conv2d_4_1_vb2_f:0' shape=(3, 3, 128, 256) dtype=float32_ref>,\n",
       "  <tf.Variable 'model_1/conv2d_4_1_vb2_b:0' shape=(256,) dtype=float32_ref>,\n",
       "  <tf.Variable 'model_1/bn_4_1_vb2_unique_to_unique_scale:0' shape=(256,) dtype=float32_ref>,\n",
       "  <tf.Variable 'model_1/bn_4_1_vb2_unique_to_unique_beta:0' shape=(256,) dtype=float32_ref>,\n",
       "  <tf.Variable 'model_1/conv2d_4_2_vb2_f:0' shape=(3, 3, 256, 256) dtype=float32_ref>,\n",
       "  <tf.Variable 'model_1/conv2d_4_2_vb2_b:0' shape=(256,) dtype=float32_ref>,\n",
       "  <tf.Variable 'model_1/bn_4_2_vb2_unique_to_unique_scale:0' shape=(256,) dtype=float32_ref>,\n",
       "  <tf.Variable 'model_1/bn_4_2_vb2_unique_to_unique_beta:0' shape=(256,) dtype=float32_ref>,\n",
       "  <tf.Variable 'model_1/fc1_vb2_w:0' shape=(256, 256) dtype=float32_ref>,\n",
       "  <tf.Variable 'model_1/fc1_vb2_b:0' shape=(256,) dtype=float32_ref>,\n",
       "  <tf.Variable 'model_1/bn_fc1_vb2_unique_to_unique_scale:0' shape=(256,) dtype=float32_ref>,\n",
       "  <tf.Variable 'model_1/bn_fc1_vb2_unique_to_unique_beta:0' shape=(256,) dtype=float32_ref>,\n",
       "  <tf.Variable 'model_1/output_vb2_w:0' shape=(256, 128) dtype=float32_ref>,\n",
       "  <tf.Variable 'model_1/output_vb2_b:0' shape=(128,) dtype=float32_ref>],\n",
       " [<tf.Variable 'model_1/conv2d_1_1_vb3_f:0' shape=(3, 3, 1, 32) dtype=float32_ref>,\n",
       "  <tf.Variable 'model_1/conv2d_1_1_vb3_b:0' shape=(32,) dtype=float32_ref>,\n",
       "  <tf.Variable 'model_1/bn_1_1_vb3_unique_to_unique_scale:0' shape=(32,) dtype=float32_ref>,\n",
       "  <tf.Variable 'model_1/bn_1_1_vb3_unique_to_unique_beta:0' shape=(32,) dtype=float32_ref>,\n",
       "  <tf.Variable 'model_1/conv2d_1_2_vb3_f:0' shape=(3, 3, 32, 32) dtype=float32_ref>,\n",
       "  <tf.Variable 'model_1/conv2d_1_2_vb3_b:0' shape=(32,) dtype=float32_ref>,\n",
       "  <tf.Variable 'model_1/bn_1_2_vb3_unique_to_unique_scale:0' shape=(32,) dtype=float32_ref>,\n",
       "  <tf.Variable 'model_1/bn_1_2_vb3_unique_to_unique_beta:0' shape=(32,) dtype=float32_ref>,\n",
       "  <tf.Variable 'model_1/conv2d_2_1_vb3_f:0' shape=(3, 3, 32, 64) dtype=float32_ref>,\n",
       "  <tf.Variable 'model_1/conv2d_2_1_vb3_b:0' shape=(64,) dtype=float32_ref>,\n",
       "  <tf.Variable 'model_1/bn_2_1_vb3_unique_to_unique_scale:0' shape=(64,) dtype=float32_ref>,\n",
       "  <tf.Variable 'model_1/bn_2_1_vb3_unique_to_unique_beta:0' shape=(64,) dtype=float32_ref>,\n",
       "  <tf.Variable 'model_1/conv2d_2_2_vb3_f:0' shape=(3, 3, 64, 64) dtype=float32_ref>,\n",
       "  <tf.Variable 'model_1/conv2d_2_2_vb3_b:0' shape=(64,) dtype=float32_ref>,\n",
       "  <tf.Variable 'model_1/bn_2_2_vb3_unique_to_unique_scale:0' shape=(64,) dtype=float32_ref>,\n",
       "  <tf.Variable 'model_1/bn_2_2_vb3_unique_to_unique_beta:0' shape=(64,) dtype=float32_ref>,\n",
       "  <tf.Variable 'model_1/conv2d_3_1_vb3_f:0' shape=(3, 3, 64, 128) dtype=float32_ref>,\n",
       "  <tf.Variable 'model_1/conv2d_3_1_vb3_b:0' shape=(128,) dtype=float32_ref>,\n",
       "  <tf.Variable 'model_1/bn_3_1_vb3_unique_to_unique_scale:0' shape=(128,) dtype=float32_ref>,\n",
       "  <tf.Variable 'model_1/bn_3_1_vb3_unique_to_unique_beta:0' shape=(128,) dtype=float32_ref>,\n",
       "  <tf.Variable 'model_1/conv2d_3_2_vb3_f:0' shape=(3, 3, 128, 128) dtype=float32_ref>,\n",
       "  <tf.Variable 'model_1/conv2d_3_2_vb3_b:0' shape=(128,) dtype=float32_ref>,\n",
       "  <tf.Variable 'model_1/bn_3_2_vb3_unique_to_unique_scale:0' shape=(128,) dtype=float32_ref>,\n",
       "  <tf.Variable 'model_1/bn_3_2_vb3_unique_to_unique_beta:0' shape=(128,) dtype=float32_ref>,\n",
       "  <tf.Variable 'model_1/conv2d_4_1_vb3_f:0' shape=(3, 3, 128, 256) dtype=float32_ref>,\n",
       "  <tf.Variable 'model_1/conv2d_4_1_vb3_b:0' shape=(256,) dtype=float32_ref>,\n",
       "  <tf.Variable 'model_1/bn_4_1_vb3_unique_to_unique_scale:0' shape=(256,) dtype=float32_ref>,\n",
       "  <tf.Variable 'model_1/bn_4_1_vb3_unique_to_unique_beta:0' shape=(256,) dtype=float32_ref>,\n",
       "  <tf.Variable 'model_1/conv2d_4_2_vb3_f:0' shape=(3, 3, 256, 256) dtype=float32_ref>,\n",
       "  <tf.Variable 'model_1/conv2d_4_2_vb3_b:0' shape=(256,) dtype=float32_ref>,\n",
       "  <tf.Variable 'model_1/bn_4_2_vb3_unique_to_unique_scale:0' shape=(256,) dtype=float32_ref>,\n",
       "  <tf.Variable 'model_1/bn_4_2_vb3_unique_to_unique_beta:0' shape=(256,) dtype=float32_ref>,\n",
       "  <tf.Variable 'model_1/fc1_vb3_w:0' shape=(256, 256) dtype=float32_ref>,\n",
       "  <tf.Variable 'model_1/fc1_vb3_b:0' shape=(256,) dtype=float32_ref>,\n",
       "  <tf.Variable 'model_1/bn_fc1_vb3_unique_to_unique_scale:0' shape=(256,) dtype=float32_ref>,\n",
       "  <tf.Variable 'model_1/bn_fc1_vb3_unique_to_unique_beta:0' shape=(256,) dtype=float32_ref>,\n",
       "  <tf.Variable 'model_1/output_vb3_w:0' shape=(256, 128) dtype=float32_ref>,\n",
       "  <tf.Variable 'model_1/output_vb3_b:0' shape=(128,) dtype=float32_ref>]]"
      ]
     },
     "execution_count": 17,
     "metadata": {},
     "output_type": "execute_result"
    }
   ],
   "source": [
    "model.unshared_vars"
   ]
  },
  {
   "cell_type": "code",
   "execution_count": 18,
   "metadata": {
    "scrolled": false
   },
   "outputs": [
    {
     "name": "stdout",
     "output_type": "stream",
     "text": [
      "Epoch 1/90\n",
      "100/100 [==============================] - 119s 1s/step - loss_1: 215.5650 - loss_2: 219.9827 - loss_3: 209.4974 - lr: 0.0010\n",
      "Epoch 2/90\n",
      "100/100 [==============================] - 59s 593ms/step - loss_1: 57.3522 - loss_2: 60.6393 - loss_3: 54.4971 - lr: 0.0010\n",
      "Epoch 3/90\n",
      "100/100 [==============================] - 57s 574ms/step - loss_1: 42.5996 - loss_2: 49.6328 - loss_3: 48.5700 - lr: 0.0010\n",
      "Epoch 4/90\n",
      "100/100 [==============================] - 57s 572ms/step - loss_1: 39.4518 - loss_2: 41.5770 - loss_3: 38.7218 - lr: 0.0010\n",
      "Epoch 5/90\n",
      "100/100 [==============================] - 57s 573ms/step - loss_1: 39.1775 - loss_2: 36.7662 - loss_3: 34.8241 - lr: 0.0010\n",
      "Epoch 6/90\n",
      "100/100 [==============================] - 57s 572ms/step - loss_1: 30.0156 - loss_2: 30.2748 - loss_3: 32.8589 - lr: 0.0010\n",
      "Epoch 7/90\n",
      "100/100 [==============================] - 57s 573ms/step - loss_1: 27.6539 - loss_2: 27.3175 - loss_3: 23.9716 - lr: 0.0010\n",
      "Epoch 8/90\n",
      "100/100 [==============================] - 57s 573ms/step - loss_1: 25.0454 - loss_2: 27.6433 - loss_3: 28.0979 - lr: 0.0010\n",
      "Epoch 9/90\n",
      "100/100 [==============================] - 57s 573ms/step - loss_1: 24.9153 - loss_2: 22.8916 - loss_3: 24.1483 - lr: 0.0010\n",
      "Epoch 10/90\n",
      "100/100 [==============================] - 57s 574ms/step - loss_1: 23.0942 - loss_2: 21.2554 - loss_3: 22.6141 - lr: 0.0010\n",
      "Epoch 11/90\n",
      "100/100 [==============================] - 57s 573ms/step - loss_1: 22.3097 - loss_2: 21.5531 - loss_3: 20.7133 - lr: 0.0010\n",
      "Epoch 12/90\n",
      "100/100 [==============================] - 58s 576ms/step - loss_1: 19.1350 - loss_2: 18.3680 - loss_3: 22.9989 - lr: 0.0010\n",
      "Epoch 13/90\n",
      "100/100 [==============================] - 57s 573ms/step - loss_1: 19.5342 - loss_2: 19.8030 - loss_3: 21.6410 - lr: 0.0010\n",
      "Epoch 14/90\n",
      "100/100 [==============================] - 57s 575ms/step - loss_1: 19.0945 - loss_2: 19.1162 - loss_3: 18.9862 - lr: 0.0010\n",
      "Epoch 15/90\n",
      "100/100 [==============================] - 57s 573ms/step - loss_1: 18.5352 - loss_2: 19.1247 - loss_3: 17.7414 - lr: 0.0010\n",
      "Epoch 16/90\n",
      "100/100 [==============================] - 57s 573ms/step - loss_1: 16.0405 - loss_2: 15.8897 - loss_3: 17.3020 - lr: 0.0010\n",
      "Epoch 17/90\n",
      "100/100 [==============================] - 57s 573ms/step - loss_1: 15.6800 - loss_2: 16.3126 - loss_3: 16.3629 - lr: 0.0010\n",
      "Epoch 18/90\n",
      "100/100 [==============================] - 57s 575ms/step - loss_1: 15.1683 - loss_2: 16.2499 - loss_3: 14.3823 - lr: 0.0010\n",
      "Epoch 19/90\n",
      "100/100 [==============================] - 57s 573ms/step - loss_1: 15.0433 - loss_2: 14.9991 - loss_3: 14.2656 - lr: 0.0010\n",
      "Epoch 20/90\n",
      "100/100 [==============================] - 57s 574ms/step - loss_1: 15.2442 - loss_2: 15.5228 - loss_3: 16.6241 - lr: 0.0010\n",
      "Epoch 21/90\n",
      "100/100 [==============================] - 57s 573ms/step - loss_1: 15.6179 - loss_2: 14.8936 - loss_3: 14.9263 - lr: 0.0010\n",
      "Epoch 22/90\n",
      "100/100 [==============================] - 57s 574ms/step - loss_1: 15.4898 - loss_2: 14.5952 - loss_3: 14.5022 - lr: 0.0010\n",
      "Epoch 23/90\n",
      "100/100 [==============================] - 57s 573ms/step - loss_1: 12.8723 - loss_2: 13.9404 - loss_3: 14.9924 - lr: 0.0010\n",
      "Epoch 24/90\n",
      "100/100 [==============================] - 57s 573ms/step - loss_1: 15.1850 - loss_2: 14.0197 - loss_3: 15.4232 - lr: 0.0010\n",
      "Epoch 25/90\n",
      "100/100 [==============================] - 57s 573ms/step - loss_1: 13.1367 - loss_2: 13.2956 - loss_3: 13.9605 - lr: 0.0010\n",
      "Epoch 26/90\n",
      "100/100 [==============================] - 57s 575ms/step - loss_1: 12.4191 - loss_2: 12.7384 - loss_3: 12.3196 - lr: 0.0010\n",
      "Epoch 27/90\n",
      "100/100 [==============================] - 57s 574ms/step - loss_1: 13.4345 - loss_2: 13.6421 - loss_3: 14.8368 - lr: 0.0010\n",
      "Epoch 28/90\n",
      "100/100 [==============================] - 57s 573ms/step - loss_1: 12.3329 - loss_2: 13.3290 - loss_3: 13.3473 - lr: 0.0010\n",
      "Epoch 29/90\n",
      "100/100 [==============================] - 57s 573ms/step - loss_1: 11.3550 - loss_2: 9.7901 - loss_3: 11.3589 - lr: 0.0010\n",
      "Epoch 30/90\n",
      "100/100 [==============================] - 57s 573ms/step - loss_1: 12.1054 - loss_2: 11.1472 - loss_3: 10.5179 - lr: 0.0010\n",
      "Epoch 31/90\n",
      "100/100 [==============================] - 57s 573ms/step - loss_1: 9.9536 - loss_2: 9.9618 - loss_3: 11.0269 - lr: 8.9125e-04\n",
      "Epoch 32/90\n",
      "100/100 [==============================] - 57s 574ms/step - loss_1: 9.3415 - loss_2: 9.2375 - loss_3: 9.9600 - lr: 7.9433e-04\n",
      "Epoch 33/90\n",
      "100/100 [==============================] - 57s 573ms/step - loss_1: 8.5969 - loss_2: 8.9969 - loss_3: 8.3160 - lr: 7.0795e-04\n",
      "Epoch 34/90\n",
      "100/100 [==============================] - 57s 573ms/step - loss_1: 8.1342 - loss_2: 7.2843 - loss_3: 6.6330 - lr: 6.3096e-04\n",
      "Epoch 35/90\n",
      "100/100 [==============================] - 57s 573ms/step - loss_1: 6.0552 - loss_2: 6.6825 - loss_3: 7.0432 - lr: 5.6234e-04\n",
      "Epoch 36/90\n",
      "100/100 [==============================] - 57s 573ms/step - loss_1: 6.1066 - loss_2: 5.9176 - loss_3: 6.6012 - lr: 5.0119e-04\n",
      "Epoch 37/90\n",
      "100/100 [==============================] - 57s 574ms/step - loss_1: 5.1951 - loss_2: 5.6979 - loss_3: 5.2869 - lr: 4.4668e-04\n",
      "Epoch 38/90\n",
      "100/100 [==============================] - 57s 572ms/step - loss_1: 4.8948 - loss_2: 4.9769 - loss_3: 5.2203 - lr: 3.9811e-04\n",
      "Epoch 39/90\n",
      "100/100 [==============================] - 57s 572ms/step - loss_1: 4.8556 - loss_2: 4.9171 - loss_3: 4.1581 - lr: 3.5481e-04\n",
      "Epoch 40/90\n",
      "100/100 [==============================] - 58s 581ms/step - loss_1: 4.7868 - loss_2: 4.3979 - loss_3: 4.3968 - lr: 3.1623e-04\n",
      "Epoch 41/90\n",
      "100/100 [==============================] - 58s 576ms/step - loss_1: 3.7596 - loss_2: 4.4499 - loss_3: 4.4959 - lr: 2.8184e-04\n",
      "Epoch 42/90\n",
      "100/100 [==============================] - 57s 572ms/step - loss_1: 3.8485 - loss_2: 4.0064 - loss_3: 3.6522 - lr: 2.5119e-04\n",
      "Epoch 43/90\n",
      "100/100 [==============================] - 57s 573ms/step - loss_1: 3.1007 - loss_2: 3.1686 - loss_3: 3.7929 - lr: 2.2387e-04\n",
      "Epoch 44/90\n",
      "100/100 [==============================] - 57s 573ms/step - loss_1: 3.1035 - loss_2: 3.4693 - loss_3: 3.4130 - lr: 1.9953e-04\n",
      "Epoch 45/90\n",
      "100/100 [==============================] - 57s 573ms/step - loss_1: 3.5162 - loss_2: 3.3557 - loss_3: 3.0722 - lr: 1.7783e-04\n",
      "Epoch 46/90\n",
      "100/100 [==============================] - 58s 576ms/step - loss_1: 2.8839 - loss_2: 3.1550 - loss_3: 3.3485 - lr: 1.5849e-04\n",
      "Epoch 47/90\n",
      "100/100 [==============================] - 57s 574ms/step - loss_1: 2.6229 - loss_2: 2.9712 - loss_3: 2.7600 - lr: 1.4125e-04\n",
      "Epoch 48/90\n",
      "100/100 [==============================] - 57s 573ms/step - loss_1: 2.5992 - loss_2: 3.0211 - loss_3: 2.9177 - lr: 1.2589e-04\n",
      "Epoch 49/90\n",
      "100/100 [==============================] - 57s 572ms/step - loss_1: 2.8781 - loss_2: 2.4352 - loss_3: 2.5376 - lr: 1.1220e-04\n",
      "Epoch 50/90\n",
      "100/100 [==============================] - 57s 574ms/step - loss_1: 2.6751 - loss_2: 2.9527 - loss_3: 2.8195 - lr: 1.0000e-04\n",
      "Epoch 51/90\n",
      "100/100 [==============================] - 57s 573ms/step - loss_1: 2.3785 - loss_2: 2.7522 - loss_3: 2.7958 - lr: 8.9125e-05\n",
      "Epoch 52/90\n",
      "100/100 [==============================] - 57s 573ms/step - loss_1: 2.4871 - loss_2: 2.5167 - loss_3: 2.6883 - lr: 7.9433e-05\n",
      "Epoch 53/90\n",
      "100/100 [==============================] - 57s 573ms/step - loss_1: 2.2967 - loss_2: 2.3849 - loss_3: 2.2748 - lr: 7.0795e-05\n",
      "Epoch 54/90\n",
      "100/100 [==============================] - 57s 573ms/step - loss_1: 2.2592 - loss_2: 2.3556 - loss_3: 2.3902 - lr: 6.3096e-05\n",
      "Epoch 55/90\n",
      "100/100 [==============================] - 57s 572ms/step - loss_1: 2.2800 - loss_2: 2.4502 - loss_3: 2.0795 - lr: 5.6234e-05\n",
      "Epoch 56/90\n",
      "100/100 [==============================] - 57s 573ms/step - loss_1: 2.0274 - loss_2: 2.2448 - loss_3: 2.3206 - lr: 5.0119e-05\n",
      "Epoch 57/90\n",
      "100/100 [==============================] - 57s 573ms/step - loss_1: 1.8893 - loss_2: 1.9965 - loss_3: 2.2334 - lr: 4.4668e-05\n",
      "Epoch 58/90\n",
      "100/100 [==============================] - 58s 577ms/step - loss_1: 2.1309 - loss_2: 2.2606 - loss_3: 2.2034 - lr: 3.9811e-05\n",
      "Epoch 59/90\n",
      "100/100 [==============================] - 57s 572ms/step - loss_1: 2.1436 - loss_2: 1.9864 - loss_3: 2.3053 - lr: 3.5481e-05\n",
      "Epoch 60/90\n"
     ]
    },
    {
     "name": "stdout",
     "output_type": "stream",
     "text": [
      "100/100 [==============================] - 57s 574ms/step - loss_1: 1.7760 - loss_2: 1.9889 - loss_3: 2.1544 - lr: 3.1623e-05\n",
      "Epoch 61/90\n",
      "100/100 [==============================] - 57s 573ms/step - loss_1: 2.0666 - loss_2: 1.9286 - loss_3: 2.1559 - lr: 2.8184e-05\n",
      "Epoch 62/90\n",
      "100/100 [==============================] - 57s 573ms/step - loss_1: 2.1441 - loss_2: 2.0778 - loss_3: 1.9862 - lr: 2.5119e-05\n",
      "Epoch 63/90\n",
      "100/100 [==============================] - 57s 573ms/step - loss_1: 1.8895 - loss_2: 1.8719 - loss_3: 1.9492 - lr: 2.2387e-05\n",
      "Epoch 64/90\n",
      "100/100 [==============================] - 57s 573ms/step - loss_1: 2.0653 - loss_2: 1.9753 - loss_3: 1.8309 - lr: 1.9953e-05\n",
      "Epoch 65/90\n",
      "100/100 [==============================] - 57s 573ms/step - loss_1: 2.0687 - loss_2: 1.9844 - loss_3: 1.9627 - lr: 1.7783e-05\n",
      "Epoch 66/90\n",
      "100/100 [==============================] - 57s 573ms/step - loss_1: 1.7563 - loss_2: 1.8648 - loss_3: 1.8592 - lr: 1.5849e-05\n",
      "Epoch 67/90\n",
      "100/100 [==============================] - 57s 572ms/step - loss_1: 1.8215 - loss_2: 2.0606 - loss_3: 2.0628 - lr: 1.4125e-05\n",
      "Epoch 68/90\n",
      "100/100 [==============================] - 57s 575ms/step - loss_1: 1.7739 - loss_2: 1.9125 - loss_3: 1.9278 - lr: 1.2589e-05\n",
      "Epoch 69/90\n",
      "100/100 [==============================] - 57s 571ms/step - loss_1: 1.9056 - loss_2: 1.9356 - loss_3: 1.9648 - lr: 1.1220e-05\n",
      "Epoch 70/90\n",
      "100/100 [==============================] - 57s 571ms/step - loss_1: 1.9535 - loss_2: 1.9601 - loss_3: 1.9929 - lr: 1.0000e-05\n",
      "Epoch 71/90\n",
      "100/100 [==============================] - 57s 571ms/step - loss_1: 1.8915 - loss_2: 1.9368 - loss_3: 1.4643 - lr: 8.9125e-06\n",
      "Epoch 72/90\n",
      "100/100 [==============================] - 57s 571ms/step - loss_1: 1.6349 - loss_2: 1.9219 - loss_3: 1.9187 - lr: 7.9433e-06\n",
      "Epoch 73/90\n",
      "100/100 [==============================] - 57s 571ms/step - loss_1: 1.8617 - loss_2: 1.9526 - loss_3: 1.8135 - lr: 7.0795e-06\n",
      "Epoch 74/90\n",
      "100/100 [==============================] - 57s 571ms/step - loss_1: 1.9118 - loss_2: 2.1135 - loss_3: 1.8073 - lr: 6.3096e-06\n",
      "Epoch 75/90\n",
      "100/100 [==============================] - 57s 571ms/step - loss_1: 1.6472 - loss_2: 1.8343 - loss_3: 1.9411 - lr: 5.6234e-06\n",
      "Epoch 76/90\n",
      "100/100 [==============================] - 57s 571ms/step - loss_1: 1.8611 - loss_2: 1.9521 - loss_3: 1.8087 - lr: 5.0119e-06\n",
      "Epoch 77/90\n",
      "100/100 [==============================] - 57s 572ms/step - loss_1: 1.8319 - loss_2: 1.9002 - loss_3: 1.9081 - lr: 4.4668e-06\n",
      "Epoch 78/90\n",
      "100/100 [==============================] - 57s 571ms/step - loss_1: 1.7057 - loss_2: 1.9967 - loss_3: 1.6884 - lr: 3.9811e-06\n",
      "Epoch 79/90\n",
      "100/100 [==============================] - 57s 573ms/step - loss_1: 1.6296 - loss_2: 2.0430 - loss_3: 1.6241 - lr: 3.5481e-06\n",
      "Epoch 80/90\n",
      "100/100 [==============================] - 58s 576ms/step - loss_1: 1.8619 - loss_2: 1.9590 - loss_3: 1.6762 - lr: 3.1623e-06\n",
      "Epoch 81/90\n",
      "100/100 [==============================] - 58s 582ms/step - loss_1: 1.6089 - loss_2: 2.0292 - loss_3: 1.8628 - lr: 2.8184e-06\n",
      "Epoch 82/90\n",
      "100/100 [==============================] - 57s 573ms/step - loss_1: 1.7895 - loss_2: 1.7007 - loss_3: 1.9502 - lr: 2.5119e-06\n",
      "Epoch 83/90\n",
      "100/100 [==============================] - 57s 573ms/step - loss_1: 1.8993 - loss_2: 1.8164 - loss_3: 1.8972 - lr: 2.2387e-06\n",
      "Epoch 84/90\n",
      "100/100 [==============================] - 57s 573ms/step - loss_1: 1.7238 - loss_2: 2.2014 - loss_3: 1.8359 - lr: 1.9953e-06\n",
      "Epoch 85/90\n",
      "100/100 [==============================] - 57s 573ms/step - loss_1: 1.7284 - loss_2: 1.9761 - loss_3: 1.8946 - lr: 1.7783e-06\n",
      "Epoch 86/90\n",
      "100/100 [==============================] - 57s 574ms/step - loss_1: 1.7477 - loss_2: 1.8798 - loss_3: 1.9402 - lr: 1.5849e-06\n",
      "Epoch 87/90\n",
      "100/100 [==============================] - 57s 573ms/step - loss_1: 1.6878 - loss_2: 1.8228 - loss_3: 1.6921 - lr: 1.4125e-06\n",
      "Epoch 88/90\n",
      "100/100 [==============================] - 57s 571ms/step - loss_1: 1.8985 - loss_2: 2.1898 - loss_3: 2.0911 - lr: 1.2589e-06\n",
      "Epoch 89/90\n",
      "100/100 [==============================] - 57s 571ms/step - loss_1: 1.8380 - loss_2: 1.7409 - loss_3: 1.9441 - lr: 1.1220e-06\n",
      "Epoch 90/90\n",
      "100/100 [==============================] - 57s 571ms/step - loss_1: 1.8355 - loss_2: 1.8725 - loss_3: 1.7971 - lr: 1.0000e-06\n"
     ]
    }
   ],
   "source": [
    "with tf.Session() as sess:\n",
    "    sess.run(tf.global_variables_initializer())\n",
    "    sess.run(train_init_ops)\n",
    "\n",
    "    for e in range(EPOCHS):\n",
    "        print(\"Epoch {}/{}\".format(e + 1, EPOCHS))\n",
    "        progbar = tf.keras.utils.Progbar(STEPS_PER_EPOCH)\n",
    "        \n",
    "        learning_rate = lr_scheduler(e + 1)\n",
    "        for i in range(STEPS_PER_EPOCH):\n",
    "            _, loss_values = sess.run([model.train_ops, model.losses], feed_dict={lr:learning_rate})\n",
    "            progbar.update(i + 1, values=[('loss_'+str(b+1), loss_values[b]) for b in range(len(loss_values))] \\\n",
    "                           + [('lr', learning_rate),])\n",
    "    \n",
    "    saver = tf.train.Saver()\n",
    "    path = os.path.join(model_path, 'ckpt')\n",
    "    saver.save(sess, path)"
   ]
  },
  {
   "cell_type": "markdown",
   "metadata": {},
   "source": [
    "## Model Ensemble"
   ]
  },
  {
   "cell_type": "code",
   "execution_count": 19,
   "metadata": {},
   "outputs": [],
   "source": [
    "def restore_sess(sess, model_path):\n",
    "    meta_path = os.path.join(model_path, 'ckpt.meta')\n",
    "    ckpt = tf.train.get_checkpoint_state(model_path)\n",
    "\n",
    "    imported_graph = tf.train.import_meta_graph(meta_path)\n",
    "    imported_graph.restore(sess, ckpt.model_checkpoint_path)"
   ]
  },
  {
   "cell_type": "code",
   "execution_count": 20,
   "metadata": {},
   "outputs": [],
   "source": [
    "def get_run(n_run):\n",
    "    all_runs = 'omniglot/python/one-shot-classification/all_runs'\n",
    "    \n",
    "    if not os.path.isdir(all_runs):\n",
    "        with zipfile.ZipFile(all_runs + '.zip','r') as zip_ref:\n",
    "            zip_ref.extractall(all_runs)\n",
    "    \n",
    "    run_path = os.path.join(all_runs,'run%02d'%n_run,'class_labels.txt')\n",
    "    with open(run_path) as f:\n",
    "        content = f.read().splitlines()\n",
    "\n",
    "    pairs = [line.split() for line in content]\n",
    "    test_files  = [pair[0] for pair in pairs]\n",
    "    train_files = [pair[1] for pair in pairs]\n",
    "\n",
    "    answers_files = copy.copy(train_files)\n",
    "    test_files.sort()\n",
    "    train_files.sort()\n",
    "    \n",
    "    def f_load(f):\n",
    "        path = os.path.join(all_runs, f)\n",
    "        return cv2.imread(path)[..., 0]\n",
    "\n",
    "    train_imgs = np.stack([f_load(f) for f in train_files]).\\\n",
    "                        astype('float32')[..., np.newaxis]\n",
    "    test_imgs  = np.stack([f_load(f) for f in test_files]).\\\n",
    "                        astype('float32')[..., np.newaxis]\n",
    "\n",
    "    return train_files, test_files, train_imgs, test_imgs, answers_files"
   ]
  },
  {
   "cell_type": "code",
   "execution_count": 21,
   "metadata": {},
   "outputs": [],
   "source": [
    "def compute_one_shot_acc(test_pred, train_pred, train_files, answers_files):\n",
    "    n_test = len(test_pred)\n",
    "    n_train = len(train_pred)\n",
    "    \n",
    "    distM = np.zeros((n_test, n_train))\n",
    "    for i in range(n_test):\n",
    "        for c in range(n_train):\n",
    "            distM[i,c] = distance.euclidean(test_pred[i],train_pred[c])\n",
    "            \n",
    "    YHAT = np.argmin(distM, axis=1)\n",
    "    \n",
    "    # compute the error rate\n",
    "    correct = 0.0\n",
    "    for i in range(n_test):\n",
    "        if train_files[YHAT[i]] == answers_files[i]:\n",
    "            correct += 1.0\n",
    "        \n",
    "    return correct / n_test"
   ]
  },
  {
   "cell_type": "code",
   "execution_count": 22,
   "metadata": {},
   "outputs": [],
   "source": [
    "test_init_ops = ['test_init_op_'+str(i+1) for i in range(NUM_BRANCHES)]\n",
    "model_outputs = ['model_1/output_vb{}:0'.format(i+1) for i in range(NUM_BRANCHES)]"
   ]
  },
  {
   "cell_type": "code",
   "execution_count": 23,
   "metadata": {},
   "outputs": [
    {
     "name": "stdout",
     "output_type": "stream",
     "text": [
      "INFO:tensorflow:Restoring parameters from models/vb-omniglot-simple-B3-S0.00_1/ckpt\n"
     ]
    }
   ],
   "source": [
    "total_runs = 20\n",
    "train_pred_runs = []\n",
    "test_pred_runs = []\n",
    "\n",
    "run_data = [get_run(r+1) for r in range(total_runs)]\n",
    "\n",
    "with tf.Session() as sess:\n",
    "    restore_sess(sess, model_path)\n",
    "\n",
    "    for r in range(total_runs):\n",
    "        train_files,test_files,train_imgs,test_imgs,answers_files = run_data[r]\n",
    "\n",
    "        feed_dict = {'x:0':train_imgs, 'batch_size:0':len(train_imgs)}\n",
    "        sess.run(test_init_ops, feed_dict=feed_dict)\n",
    "        train_pred_runs.append(sess.run(model_outputs))\n",
    "\n",
    "        feed_dict = {'x:0':test_imgs, 'batch_size:0':len(test_imgs)}\n",
    "        sess.run(test_init_ops, feed_dict=feed_dict)\n",
    "        test_pred_runs.append(sess.run(model_outputs))"
   ]
  },
  {
   "cell_type": "markdown",
   "metadata": {},
   "source": [
    "### Average Embedding"
   ]
  },
  {
   "cell_type": "code",
   "execution_count": 24,
   "metadata": {},
   "outputs": [],
   "source": [
    "mean_acc_runs = []\n",
    "for r in range(total_runs):\n",
    "    test_embed = np.mean(test_pred_runs[r], axis=0)\n",
    "    train_embed = np.mean(train_pred_runs[r], axis=0)\n",
    "    train_files = run_data[r][0]\n",
    "    answers_files = run_data[r][-1]\n",
    "    \n",
    "    acc = compute_one_shot_acc(test_embed, train_embed,train_files, answers_files)\n",
    "    mean_acc_runs.append(acc)"
   ]
  },
  {
   "cell_type": "code",
   "execution_count": 25,
   "metadata": {},
   "outputs": [
    {
     "name": "stdout",
     "output_type": "stream",
     "text": [
      "[0.85, 0.75, 0.95, 0.9, 0.9, 0.9, 0.9, 0.75, 0.75, 0.75, 1.0, 0.8, 0.7, 0.8, 0.95, 1.0, 0.8, 0.9, 0.6, 0.7]\n",
      "0.8325000000000001\n"
     ]
    }
   ],
   "source": [
    "print(mean_acc_runs)\n",
    "print(np.mean(mean_acc_runs))"
   ]
  },
  {
   "cell_type": "markdown",
   "metadata": {},
   "source": [
    "### Concatenate Embedding"
   ]
  },
  {
   "cell_type": "code",
   "execution_count": 26,
   "metadata": {},
   "outputs": [],
   "source": [
    "concat_acc_runs = []\n",
    "for r in range(total_runs):\n",
    "    test_embed = np.concatenate(test_pred_runs[r], axis=-1)\n",
    "    train_embed = np.concatenate(train_pred_runs[r], axis=-1)\n",
    "    train_files = run_data[r][0]\n",
    "    answers_files = run_data[r][-1]\n",
    "        \n",
    "    acc = compute_one_shot_acc(test_embed, train_embed,train_files, answers_files)\n",
    "    concat_acc_runs.append(acc)"
   ]
  },
  {
   "cell_type": "code",
   "execution_count": 27,
   "metadata": {},
   "outputs": [
    {
     "name": "stdout",
     "output_type": "stream",
     "text": [
      "[0.85, 0.7, 0.95, 0.9, 0.95, 0.9, 0.9, 0.7, 0.8, 0.8, 1.0, 0.85, 0.7, 0.75, 1.0, 1.0, 0.9, 0.95, 0.7, 0.8]\n",
      "0.8550000000000001\n"
     ]
    }
   ],
   "source": [
    "print(concat_acc_runs)\n",
    "print(np.mean(concat_acc_runs))"
   ]
  },
  {
   "cell_type": "code",
   "execution_count": null,
   "metadata": {},
   "outputs": [],
   "source": []
  }
 ],
 "metadata": {
  "kernelspec": {
   "display_name": "Python 3",
   "language": "python",
   "name": "python3"
  },
  "language_info": {
   "codemirror_mode": {
    "name": "ipython",
    "version": 3
   },
   "file_extension": ".py",
   "mimetype": "text/x-python",
   "name": "python",
   "nbconvert_exporter": "python",
   "pygments_lexer": "ipython3",
   "version": "3.5.6"
  }
 },
 "nbformat": 4,
 "nbformat_minor": 2
}
