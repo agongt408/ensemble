{
 "cells": [
  {
   "cell_type": "markdown",
   "metadata": {},
   "source": [
    "# Omnigot One-Shot with Virtual Branching"
   ]
  },
  {
   "cell_type": "code",
   "execution_count": 1,
   "metadata": {},
   "outputs": [],
   "source": [
    "import tensorflow as tf\n",
    "import numpy as np\n",
    "import os\n",
    "import matplotlib.pyplot as plt\n",
    "import copy\n",
    "import cv2\n",
    "from scipy.spatial import distance"
   ]
  },
  {
   "cell_type": "code",
   "execution_count": 2,
   "metadata": {},
   "outputs": [],
   "source": [
    "import vbranch as vb\n",
    "from vbranch.applications.resnet import ResNet18\n",
    "from vbranch.utils.training_utils import wrap_iterator\n",
    "from vbranch.utils.test_utils import get_run, compute_one_shot_acc, baseline_one_shot\n",
    "from vbranch.losses import triplet"
   ]
  },
  {
   "cell_type": "code",
   "execution_count": 3,
   "metadata": {},
   "outputs": [],
   "source": [
    "model_id = 1\n",
    "architecture = 'res'"
   ]
  },
  {
   "cell_type": "markdown",
   "metadata": {},
   "source": [
    "## Load Data"
   ]
  },
  {
   "cell_type": "code",
   "execution_count": 4,
   "metadata": {},
   "outputs": [],
   "source": [
    "dataset = 'omniglot'\n",
    "\n",
    "if dataset == 'omniglot':\n",
    "    A, P, K = 4, 8, 4\n",
    "    train_generator = vb.datasets.omniglot.load_generator('train')\n",
    "    test_generator = vb.datasets.omniglot.load_generator('test')\n",
    "elif dataset == 'market':\n",
    "    P, K = 18, 4\n",
    "    train_generator = vb.datasets.reid.TripletDataGenerator(dataset, 'train')"
   ]
  },
  {
   "cell_type": "code",
   "execution_count": 5,
   "metadata": {},
   "outputs": [],
   "source": [
    "batch = train_generator.next(4, 4, 4, flatten=False, preprocess=False)"
   ]
  },
  {
   "cell_type": "code",
   "execution_count": 6,
   "metadata": {},
   "outputs": [
    {
     "data": {
      "image/png": "[encoded data removed]",
      "text/plain": [
       "<Figure size 432x288 with 1 Axes>"
      ]
     },
     "metadata": {
      "needs_background": "light"
     },
     "output_type": "display_data"
    }
   ],
   "source": [
    "plt.imshow(batch[0, 3, 0].squeeze(), cmap=plt.cm.gray)\n",
    "plt.show()"
   ]
  },
  {
   "cell_type": "markdown",
   "metadata": {},
   "source": [
    "## Build Model"
   ]
  },
  {
   "cell_type": "code",
   "execution_count": 7,
   "metadata": {},
   "outputs": [
    {
     "name": "stdout",
     "output_type": "stream",
     "text": [
      "(None, 105, 105, 1)\n"
     ]
    }
   ],
   "source": [
    "EPOCHS = 90\n",
    "STEPS_PER_EPOCH = 100\n",
    "T_0 = 30\n",
    "output_dim = 128\n",
    "input_dim = (None,) + batch.shape[-3:]\n",
    "print(input_dim)\n",
    "\n",
    "NUM_BRANCHES = 2\n",
    "SHARED_FRAC = 0.25"
   ]
  },
  {
   "cell_type": "code",
   "execution_count": 8,
   "metadata": {},
   "outputs": [],
   "source": [
    "if not os.path.isdir('./models'):\n",
    "    os.system('mkdir models')\n",
    "\n",
    "model_path = os.path.join('models', 'vb-{}-{}-B{:d}-S{:.2f}_{:d}'.format(dataset, architecture,\n",
    "    NUM_BRANCHES, SHARED_FRAC, model_id))"
   ]
  },
  {
   "cell_type": "code",
   "execution_count": 9,
   "metadata": {},
   "outputs": [
    {
     "name": "stdout",
     "output_type": "stream",
     "text": [
      "WARNING:tensorflow:From /home/gong/anaconda3/lib/python3.5/site-packages/tensorflow/python/data/ops/dataset_ops.py:429: py_func (from tensorflow.python.ops.script_ops) is deprecated and will be removed in a future version.\n",
      "Instructions for updating:\n",
      "tf.py_func is deprecated in TF V2. Instead, use\n",
      "    tf.py_function, which takes a python function which manipulates tf eager\n",
      "    tensors instead of numpy arrays. It's easy to convert a tf eager tensor to\n",
      "    an ndarray (just call tensor.numpy()) but having access to eager tensors\n",
      "    means `tf.py_function`s can use accelerators such as GPUs as well as\n",
      "    being differentiable using a gradient tape.\n",
      "    \n",
      "WARNING:tensorflow:From /home/gong/anaconda3/lib/python3.5/site-packages/tensorflow/python/data/ops/iterator_ops.py:358: colocate_with (from tensorflow.python.framework.ops) is deprecated and will be removed in a future version.\n",
      "Instructions for updating:\n",
      "Colocations handled automatically by placer.\n"
     ]
    }
   ],
   "source": [
    "tf.reset_default_graph()\n",
    "\n",
    "# Placeholder for feeding test images\n",
    "x = tf.placeholder('float32', input_dim, name='x')\n",
    "batch_size = tf.placeholder('int64', name='batch_size')\n",
    "\n",
    "# train_datasets = []\n",
    "# test_datasets = []\n",
    "inputs = [None] * NUM_BRANCHES\n",
    "train_init_ops = []\n",
    "test_init_ops = []\n",
    "\n",
    "for i in range(NUM_BRANCHES):\n",
    "    train_dataset = tf.data.Dataset.from_generator(wrap_iterator(train_generator, A, P, K),\n",
    "                                                   'float32', output_shapes=input_dim)\n",
    "#     train_datasets.append(train_dataset)\n",
    "\n",
    "    test_dataset = tf.data.Dataset.from_tensor_slices(x).batch(batch_size)\n",
    "    \n",
    "    iterator = tf.data.Iterator.from_structure('float32', input_dim)\n",
    "    inputs[i] = iterator.get_next(name='input_'+str(i+1))    \n",
    "    \n",
    "    train_init = iterator.make_initializer(train_dataset)\n",
    "    test_init = iterator.make_initializer(test_dataset, name='test_init_op_'+str(i+1))\n",
    "    train_init_ops.append(train_init)\n",
    "    test_init_ops.append(test_init)"
   ]
  },
  {
   "cell_type": "code",
   "execution_count": 10,
   "metadata": {},
   "outputs": [],
   "source": [
    "name = 'model_' + str(model_id)\n",
    "\n",
    "with tf.variable_scope(name, reuse=tf.AUTO_REUSE):\n",
    "    if architecture == 'simple':\n",
    "        model = vb.simple_cnn(inputs, output_dim, 32, 64, 128, 256, \n",
    "                              name=name, shared_frac=SHARED_FRAC)\n",
    "    elif architecture == 'res':\n",
    "    #     model = vb.resnet(inputs, output_dim, 16, 32, 64, \n",
    "    #                       name='model_' + str(model_id))\n",
    "        model = ResNet18(inputs, output_dim, name=name, shared_frac=SHARED_FRAC)"
   ]
  },
  {
   "cell_type": "code",
   "execution_count": 11,
   "metadata": {
    "scrolled": false
   },
   "outputs": [
    {
     "name": "stdout",
     "output_type": "stream",
     "text": [
      "i   Layer name                      Output shape                     Num param  Inbound             \n",
      "----------------------------------------------------------------------------------------------------\n",
      "    Input                           [None,105,105,1]                                                \n",
      "----------------------------------------------------------------------------------------------------\n",
      "    Input                           [None,105,105,1]                                                \n",
      "----------------------------------------------------------------------------------------------------\n",
      "0   pre_conv (Conv2D)               [None,53,53,16] [None,53,53,48]  5600       input               \n",
      "                                    [None,53,53,16] [None,53,53,48]                                 \n",
      "----------------------------------------------------------------------------------------------------\n",
      "1   pre_bn (BatchNormalization)     [None,53,53,16] [None,53,53,48]  224        pre_conv            \n",
      "                                    [None,53,53,16] [None,53,53,48]                                 \n",
      "----------------------------------------------------------------------------------------------------\n",
      "2   pre_relu (Activation)           [None,53,53,16] [None,53,53,48]  0          pre_bn              \n",
      "                                    [None,53,53,16] [None,53,53,48]                                 \n",
      "----------------------------------------------------------------------------------------------------\n",
      "3   pre_max_pool2d (MaxPooling2D)   [None,27,27,16] [None,27,27,48]  0          pre_relu            \n",
      "                                    [None,27,27,16] [None,27,27,48]                                 \n",
      "----------------------------------------------------------------------------------------------------\n",
      "4   res_1_1_conv_short (Conv2D)     [None,27,27,16] [None,27,27,48]  8176       pre_max_pool2d      \n",
      "                                    [None,27,27,16] [None,27,27,48]                                 \n",
      "----------------------------------------------------------------------------------------------------\n",
      "5   res_1_1_bn_1 (BatchNormalizati  [None,27,27,16] [None,27,27,48]  224        pre_max_pool2d      \n",
      "                                    [None,27,27,16] [None,27,27,48]                                 \n",
      "----------------------------------------------------------------------------------------------------\n",
      "6   res_1_1_relu_1 (Activation)     [None,27,27,16] [None,27,27,48]  0          res_1_1_bn_1        \n",
      "                                    [None,27,27,16] [None,27,27,48]                                 \n",
      "----------------------------------------------------------------------------------------------------\n",
      "7   res_1_1_conv_1 (Conv2D)         [None,27,27,16] [None,27,27,48]  71664      res_1_1_relu_1      \n",
      "                                    [None,27,27,16] [None,27,27,48]                                 \n",
      "----------------------------------------------------------------------------------------------------\n",
      "8   res_1_1_bn_2 (BatchNormalizati  [None,27,27,16] [None,27,27,48]  224        res_1_1_conv_1      \n",
      "                                    [None,27,27,16] [None,27,27,48]                                 \n",
      "----------------------------------------------------------------------------------------------------\n",
      "9   res_1_1_relu_2 (Activation)     [None,27,27,16] [None,27,27,48]  0          res_1_1_bn_2        \n",
      "                                    [None,27,27,16] [None,27,27,48]                                 \n",
      "----------------------------------------------------------------------------------------------------\n",
      "10  res_1_1_conv_2 (Conv2D)         [None,27,27,16] [None,27,27,48]  71664      res_1_1_relu_2      \n",
      "                                    [None,27,27,16] [None,27,27,48]                                 \n",
      "----------------------------------------------------------------------------------------------------\n",
      "11  res_1_1_add (Add)               [None,27,27,16] [None,27,27,48]  0          res_1_1_conv_short  \n",
      "                                    [None,27,27,16] [None,27,27,48]             res_1_1_conv_2      \n",
      "----------------------------------------------------------------------------------------------------\n",
      "12  res_1_2_bn_1 (BatchNormalizati  [None,27,27,16] [None,27,27,48]  224        res_1_1_add         \n",
      "                                    [None,27,27,16] [None,27,27,48]                                 \n",
      "----------------------------------------------------------------------------------------------------\n",
      "13  res_1_2_relu_1 (Activation)     [None,27,27,16] [None,27,27,48]  0          res_1_2_bn_1        \n",
      "                                    [None,27,27,16] [None,27,27,48]                                 \n",
      "----------------------------------------------------------------------------------------------------\n",
      "14  res_1_2_conv_1 (Conv2D)         [None,27,27,16] [None,27,27,48]  71664      res_1_2_relu_1      \n",
      "                                    [None,27,27,16] [None,27,27,48]                                 \n",
      "----------------------------------------------------------------------------------------------------\n",
      "15  res_1_2_bn_2 (BatchNormalizati  [None,27,27,16] [None,27,27,48]  224        res_1_2_conv_1      \n",
      "                                    [None,27,27,16] [None,27,27,48]                                 \n",
      "----------------------------------------------------------------------------------------------------\n",
      "16  res_1_2_relu_2 (Activation)     [None,27,27,16] [None,27,27,48]  0          res_1_2_bn_2        \n",
      "                                    [None,27,27,16] [None,27,27,48]                                 \n",
      "----------------------------------------------------------------------------------------------------\n",
      "17  res_1_2_conv_2 (Conv2D)         [None,27,27,16] [None,27,27,48]  71664      res_1_2_relu_2      \n",
      "                                    [None,27,27,16] [None,27,27,48]                                 \n",
      "----------------------------------------------------------------------------------------------------\n",
      "18  res_1_2_add (Add)               [None,27,27,16] [None,27,27,48]  0          res_1_1_add         \n",
      "                                    [None,27,27,16] [None,27,27,48]             res_1_2_conv_2      \n",
      "----------------------------------------------------------------------------------------------------\n",
      "19  avg_pool2d_1 (AveragePooling2D  [None,13,13,16] [None,13,13,48]  0          res_1_2_add         \n",
      "                                    [None,13,13,16] [None,13,13,48]                                 \n",
      "----------------------------------------------------------------------------------------------------\n",
      "20  res_2_1_conv_short (Conv2D)     [None,13,13,32] [None,13,13,96]  16352      avg_pool2d_1        \n",
      "                                    [None,13,13,32] [None,13,13,96]                                 \n",
      "----------------------------------------------------------------------------------------------------\n",
      "21  res_2_1_bn_1 (BatchNormalizati  [None,13,13,16] [None,13,13,48]  224        avg_pool2d_1        \n",
      "                                    [None,13,13,16] [None,13,13,48]                                 \n",
      "----------------------------------------------------------------------------------------------------\n",
      "22  res_2_1_relu_1 (Activation)     [None,13,13,16] [None,13,13,48]  0          res_2_1_bn_1        \n",
      "                                    [None,13,13,16] [None,13,13,48]                                 \n",
      "----------------------------------------------------------------------------------------------------\n",
      "23  res_2_1_conv_1 (Conv2D)         [None,13,13,32] [None,13,13,96]  143328     res_2_1_relu_1      \n",
      "                                    [None,13,13,32] [None,13,13,96]                                 \n",
      "----------------------------------------------------------------------------------------------------\n",
      "24  res_2_1_bn_2 (BatchNormalizati  [None,13,13,32] [None,13,13,96]  448        res_2_1_conv_1      \n",
      "                                    [None,13,13,32] [None,13,13,96]                                 \n",
      "----------------------------------------------------------------------------------------------------\n",
      "25  res_2_1_relu_2 (Activation)     [None,13,13,32] [None,13,13,96]  0          res_2_1_bn_2        \n",
      "                                    [None,13,13,32] [None,13,13,96]                                 \n",
      "----------------------------------------------------------------------------------------------------\n",
      "26  res_2_1_conv_2 (Conv2D)         [None,13,13,32] [None,13,13,96]  286176     res_2_1_relu_2      \n",
      "                                    [None,13,13,32] [None,13,13,96]                                 \n",
      "----------------------------------------------------------------------------------------------------\n",
      "27  res_2_1_add (Add)               [None,13,13,32] [None,13,13,96]  0          res_2_1_conv_short  \n",
      "                                    [None,13,13,32] [None,13,13,96]             res_2_1_conv_2      \n",
      "----------------------------------------------------------------------------------------------------\n",
      "28  res_2_2_bn_1 (BatchNormalizati  [None,13,13,32] [None,13,13,96]  448        res_2_1_add         \n",
      "                                    [None,13,13,32] [None,13,13,96]                                 \n",
      "----------------------------------------------------------------------------------------------------\n",
      "29  res_2_2_relu_1 (Activation)     [None,13,13,32] [None,13,13,96]  0          res_2_2_bn_1        \n",
      "                                    [None,13,13,32] [None,13,13,96]                                 \n",
      "----------------------------------------------------------------------------------------------------\n",
      "30  res_2_2_conv_1 (Conv2D)         [None,13,13,32] [None,13,13,96]  286176     res_2_2_relu_1      \n",
      "                                    [None,13,13,32] [None,13,13,96]                                 \n",
      "----------------------------------------------------------------------------------------------------\n",
      "31  res_2_2_bn_2 (BatchNormalizati  [None,13,13,32] [None,13,13,96]  448        res_2_2_conv_1      \n",
      "                                    [None,13,13,32] [None,13,13,96]                                 \n",
      "----------------------------------------------------------------------------------------------------\n",
      "32  res_2_2_relu_2 (Activation)     [None,13,13,32] [None,13,13,96]  0          res_2_2_bn_2        \n",
      "                                    [None,13,13,32] [None,13,13,96]                                 \n",
      "----------------------------------------------------------------------------------------------------\n",
      "33  res_2_2_conv_2 (Conv2D)         [None,13,13,32] [None,13,13,96]  286176     res_2_2_relu_2      \n",
      "                                    [None,13,13,32] [None,13,13,96]                                 \n",
      "----------------------------------------------------------------------------------------------------\n",
      "34  res_2_2_add (Add)               [None,13,13,32] [None,13,13,96]  0          res_2_1_add         \n",
      "                                    [None,13,13,32] [None,13,13,96]             res_2_2_conv_2      \n",
      "----------------------------------------------------------------------------------------------------\n",
      "35  avg_pool2d_2 (AveragePooling2D  [None,6,6,32] [None,6,6,96]      0          res_2_2_add         \n",
      "                                    [None,6,6,32] [None,6,6,96]                                     \n",
      "----------------------------------------------------------------------------------------------------\n",
      "36  res_3_1_conv_short (Conv2D)     [None,6,6,64] [None,6,6,192]     64448      avg_pool2d_2        \n",
      "                                    [None,6,6,64] [None,6,6,192]                                    \n",
      "----------------------------------------------------------------------------------------------------\n",
      "37  res_3_1_bn_1 (BatchNormalizati  [None,6,6,32] [None,6,6,96]      448        avg_pool2d_2        \n",
      "                                    [None,6,6,32] [None,6,6,96]                                     \n",
      "----------------------------------------------------------------------------------------------------\n",
      "38  res_3_1_relu_1 (Activation)     [None,6,6,32] [None,6,6,96]      0          res_3_1_bn_1        \n",
      "                                    [None,6,6,32] [None,6,6,96]                                     \n",
      "----------------------------------------------------------------------------------------------------\n",
      "39  res_3_1_conv_1 (Conv2D)         [None,6,6,64] [None,6,6,192]     572352     res_3_1_relu_1      \n",
      "                                    [None,6,6,64] [None,6,6,192]                                    \n",
      "----------------------------------------------------------------------------------------------------\n",
      "40  res_3_1_bn_2 (BatchNormalizati  [None,6,6,64] [None,6,6,192]     896        res_3_1_conv_1      \n",
      "                                    [None,6,6,64] [None,6,6,192]                                    \n",
      "----------------------------------------------------------------------------------------------------\n",
      "41  res_3_1_relu_2 (Activation)     [None,6,6,64] [None,6,6,192]     0          res_3_1_bn_2        \n",
      "                                    [None,6,6,64] [None,6,6,192]                                    \n",
      "----------------------------------------------------------------------------------------------------\n",
      "42  res_3_1_conv_2 (Conv2D)         [None,6,6,64] [None,6,6,192]     1143744    res_3_1_relu_2      \n",
      "                                    [None,6,6,64] [None,6,6,192]                                    \n",
      "----------------------------------------------------------------------------------------------------\n",
      "43  res_3_1_add (Add)               [None,6,6,64] [None,6,6,192]     0          res_3_1_conv_short  \n",
      "                                    [None,6,6,64] [None,6,6,192]                res_3_1_conv_2      \n",
      "----------------------------------------------------------------------------------------------------\n",
      "44  res_3_2_bn_1 (BatchNormalizati  [None,6,6,64] [None,6,6,192]     896        res_3_1_add         \n",
      "                                    [None,6,6,64] [None,6,6,192]                                    \n",
      "----------------------------------------------------------------------------------------------------\n",
      "45  res_3_2_relu_1 (Activation)     [None,6,6,64] [None,6,6,192]     0          res_3_2_bn_1        \n",
      "                                    [None,6,6,64] [None,6,6,192]                                    \n",
      "----------------------------------------------------------------------------------------------------\n",
      "46  res_3_2_conv_1 (Conv2D)         [None,6,6,64] [None,6,6,192]     1143744    res_3_2_relu_1      \n",
      "                                    [None,6,6,64] [None,6,6,192]                                    \n",
      "----------------------------------------------------------------------------------------------------\n",
      "47  res_3_2_bn_2 (BatchNormalizati  [None,6,6,64] [None,6,6,192]     896        res_3_2_conv_1      \n",
      "                                    [None,6,6,64] [None,6,6,192]                                    \n",
      "----------------------------------------------------------------------------------------------------\n",
      "48  res_3_2_relu_2 (Activation)     [None,6,6,64] [None,6,6,192]     0          res_3_2_bn_2        \n",
      "                                    [None,6,6,64] [None,6,6,192]                                    \n",
      "----------------------------------------------------------------------------------------------------\n",
      "49  res_3_2_conv_2 (Conv2D)         [None,6,6,64] [None,6,6,192]     1143744    res_3_2_relu_2      \n",
      "                                    [None,6,6,64] [None,6,6,192]                                    \n",
      "----------------------------------------------------------------------------------------------------\n",
      "50  res_3_2_add (Add)               [None,6,6,64] [None,6,6,192]     0          res_3_1_add         \n",
      "                                    [None,6,6,64] [None,6,6,192]                res_3_2_conv_2      \n",
      "----------------------------------------------------------------------------------------------------\n",
      "51  avg_pool2d_3 (AveragePooling2D  [None,3,3,64] [None,3,3,192]     0          res_3_2_add         \n",
      "                                    [None,3,3,64] [None,3,3,192]                                    \n",
      "----------------------------------------------------------------------------------------------------\n",
      "52  res_4_1_conv_short (Conv2D)     [None,3,3,128] [None,3,3,384]    255872     avg_pool2d_3        \n",
      "                                    [None,3,3,128] [None,3,3,384]                                   \n",
      "----------------------------------------------------------------------------------------------------\n",
      "53  res_4_1_bn_1 (BatchNormalizati  [None,3,3,64] [None,3,3,192]     896        avg_pool2d_3        \n",
      "                                    [None,3,3,64] [None,3,3,192]                                    \n",
      "----------------------------------------------------------------------------------------------------\n",
      "54  res_4_1_relu_1 (Activation)     [None,3,3,64] [None,3,3,192]     0          res_4_1_bn_1        \n",
      "                                    [None,3,3,64] [None,3,3,192]                                    \n",
      "----------------------------------------------------------------------------------------------------\n",
      "55  res_4_1_conv_1 (Conv2D)         [None,3,3,128] [None,3,3,384]    2287488    res_4_1_relu_1      \n",
      "                                    [None,3,3,128] [None,3,3,384]                                   \n",
      "----------------------------------------------------------------------------------------------------\n",
      "56  res_4_1_bn_2 (BatchNormalizati  [None,3,3,128] [None,3,3,384]    1792       res_4_1_conv_1      \n",
      "                                    [None,3,3,128] [None,3,3,384]                                   \n",
      "----------------------------------------------------------------------------------------------------\n",
      "57  res_4_1_relu_2 (Activation)     [None,3,3,128] [None,3,3,384]    0          res_4_1_bn_2        \n",
      "                                    [None,3,3,128] [None,3,3,384]                                   \n",
      "----------------------------------------------------------------------------------------------------\n",
      "58  res_4_1_conv_2 (Conv2D)         [None,3,3,128] [None,3,3,384]    4573056    res_4_1_relu_2      \n",
      "                                    [None,3,3,128] [None,3,3,384]                                   \n",
      "----------------------------------------------------------------------------------------------------\n",
      "59  res_4_1_add (Add)               [None,3,3,128] [None,3,3,384]    0          res_4_1_conv_short  \n",
      "                                    [None,3,3,128] [None,3,3,384]               res_4_1_conv_2      \n",
      "----------------------------------------------------------------------------------------------------\n",
      "60  res_4_2_bn_1 (BatchNormalizati  [None,3,3,128] [None,3,3,384]    1792       res_4_1_add         \n",
      "                                    [None,3,3,128] [None,3,3,384]                                   \n",
      "----------------------------------------------------------------------------------------------------\n",
      "61  res_4_2_relu_1 (Activation)     [None,3,3,128] [None,3,3,384]    0          res_4_2_bn_1        \n",
      "                                    [None,3,3,128] [None,3,3,384]                                   \n",
      "----------------------------------------------------------------------------------------------------\n",
      "62  res_4_2_conv_1 (Conv2D)         [None,3,3,128] [None,3,3,384]    4573056    res_4_2_relu_1      \n",
      "                                    [None,3,3,128] [None,3,3,384]                                   \n",
      "----------------------------------------------------------------------------------------------------\n",
      "63  res_4_2_bn_2 (BatchNormalizati  [None,3,3,128] [None,3,3,384]    1792       res_4_2_conv_1      \n",
      "                                    [None,3,3,128] [None,3,3,384]                                   \n",
      "----------------------------------------------------------------------------------------------------\n",
      "64  res_4_2_relu_2 (Activation)     [None,3,3,128] [None,3,3,384]    0          res_4_2_bn_2        \n",
      "                                    [None,3,3,128] [None,3,3,384]                                   \n",
      "----------------------------------------------------------------------------------------------------\n",
      "65  res_4_2_conv_2 (Conv2D)         [None,3,3,128] [None,3,3,384]    4573056    res_4_2_relu_2      \n",
      "                                    [None,3,3,128] [None,3,3,384]                                   \n",
      "----------------------------------------------------------------------------------------------------\n",
      "66  res_4_2_add (Add)               [None,3,3,128] [None,3,3,384]    0          res_4_1_add         \n",
      "                                    [None,3,3,128] [None,3,3,384]               res_4_2_conv_2      \n",
      "----------------------------------------------------------------------------------------------------\n",
      "67  global_pool2d (GlobalAveragePo  [None,128] [None,384]            0          res_4_2_add         \n",
      "                                    [None,128] [None,384]                                           \n",
      "----------------------------------------------------------------------------------------------------\n",
      "68  fc1 (Dense)                     [None,128] [None,384]            509824     global_pool2d       \n",
      "                                    [None,128] [None,384]                                           \n",
      "----------------------------------------------------------------------------------------------------\n",
      "69  bn_fc1 (BatchNormalization)     [None,128] [None,384]            1792       fc1                 \n",
      "                                    [None,128] [None,384]                                           \n",
      "----------------------------------------------------------------------------------------------------\n",
      "70  relu_fc1 (Activation)           [None,128] [None,384]            0          bn_fc1              \n",
      "                                    [None,128] [None,384]                                           \n",
      "----------------------------------------------------------------------------------------------------\n",
      "71  output (Dense)                  [None,128]                       131328     relu_fc1            \n",
      "                                    [None,128]                                                      \n",
      "----------------------------------------------------------------------------------------------------\n",
      "Total parameters: 22304240\n"
     ]
    }
   ],
   "source": [
    "model.summary()"
   ]
  },
  {
   "cell_type": "code",
   "execution_count": 12,
   "metadata": {},
   "outputs": [],
   "source": [
    "def lr_exp_decay_scheduler(init_lr, t0, t1, decay):\n",
    "    \"\"\"NOTE: `episode` starts from 1\"\"\"\n",
    "    def func(episode):\n",
    "        if episode < t0:\n",
    "            return init_lr\n",
    "        lr = init_lr * np.power(decay, (episode - t0) / (t1 - t0))\n",
    "        return lr\n",
    "    return func"
   ]
  },
  {
   "cell_type": "code",
   "execution_count": 13,
   "metadata": {},
   "outputs": [
    {
     "data": {
      "image/png": "[encoded data removed]",
      "text/plain": [
       "<Figure size 432x288 with 1 Axes>"
      ]
     },
     "metadata": {
      "needs_background": "light"
     },
     "output_type": "display_data"
    }
   ],
   "source": [
    "lr_scheduler = lr_exp_decay_scheduler(0.001, T_0, EPOCHS, 0.001)\n",
    "lr_steps = [lr_scheduler(e + 1) for e in range(EPOCHS)]\n",
    "plt.plot(lr_steps)\n",
    "plt.show()"
   ]
  },
  {
   "cell_type": "code",
   "execution_count": 14,
   "metadata": {},
   "outputs": [
    {
     "name": "stdout",
     "output_type": "stream",
     "text": [
      "WARNING:tensorflow:From /home/gong/anaconda3/lib/python3.5/site-packages/tensorflow/python/ops/math_ops.py:3066: to_int32 (from tensorflow.python.ops.math_ops) is deprecated and will be removed in a future version.\n",
      "Instructions for updating:\n",
      "Use tf.cast instead.\n",
      "WARNING:tensorflow:From /home/gong/anaconda3/lib/python3.5/site-packages/tensorflow/python/ops/math_grad.py:102: div (from tensorflow.python.ops.math_ops) is deprecated and will be removed in a future version.\n",
      "Instructions for updating:\n",
      "Deprecated in favor of operator or tf.math.divide.\n"
     ]
    }
   ],
   "source": [
    "lr = tf.placeholder('float32', name='lr')\n",
    "optimizer = tf.train.AdamOptimizer(learning_rate=lr)\n",
    "\n",
    "# Compile model\n",
    "model.compile(optimizer, 'triplet_omniglot', A=A, P=P, K=K)"
   ]
  },
  {
   "cell_type": "code",
   "execution_count": null,
   "metadata": {
    "scrolled": false
   },
   "outputs": [
    {
     "name": "stdout",
     "output_type": "stream",
     "text": [
      "Epoch 1/90\n",
      "100/100 [==============================] - 114s 1s/step - loss_1: 213.4826 - loss_2: 218.1164 - lr: 0.0010\n",
      "Epoch 2/90\n",
      " 15/100 [===>..........................] - ETA: 37s - loss_1: 70.2732 - loss_2: 54.7227 - lr: 0.0010"
     ]
    }
   ],
   "source": [
    "with tf.Session() as sess:\n",
    "    sess.run(tf.global_variables_initializer())\n",
    "    sess.run(train_init_ops)\n",
    "\n",
    "    for e in range(EPOCHS):\n",
    "        print(\"Epoch {}/{}\".format(e + 1, EPOCHS))\n",
    "        progbar = tf.keras.utils.Progbar(STEPS_PER_EPOCH)\n",
    "        \n",
    "        learning_rate = lr_scheduler(e + 1)\n",
    "        for i in range(STEPS_PER_EPOCH):\n",
    "            _, loss_values = sess.run([model.train_ops, model.losses], \n",
    "                                      feed_dict={lr:learning_rate})\n",
    "            values = []\n",
    "            for b in range(NUM_BRANCHES):\n",
    "                key = 'loss_'+str(b+1)\n",
    "                values.append(('loss_'+str(b+1), loss_values[key]))\n",
    "            values += [('lr', learning_rate),]\n",
    "            \n",
    "            progbar.update(i + 1, values=values)\n",
    "    \n",
    "    saver = tf.train.Saver()\n",
    "    path = os.path.join(model_path, 'ckpt')\n",
    "    saver.save(sess, path)"
   ]
  },
  {
   "cell_type": "markdown",
   "metadata": {},
   "source": [
    "## Model Ensemble"
   ]
  },
  {
   "cell_type": "code",
   "execution_count": 19,
   "metadata": {},
   "outputs": [],
   "source": [
    "def restore_sess(sess, model_path):\n",
    "    meta_path = os.path.join(model_path, 'ckpt.meta')\n",
    "    ckpt = tf.train.get_checkpoint_state(model_path)\n",
    "\n",
    "    imported_graph = tf.train.import_meta_graph(meta_path)\n",
    "    imported_graph.restore(sess, ckpt.model_checkpoint_path)"
   ]
  },
  {
   "cell_type": "code",
   "execution_count": 20,
   "metadata": {},
   "outputs": [],
   "source": [
    "def get_run(n_run):\n",
    "    all_runs = 'omniglot/python/one-shot-classification/all_runs'\n",
    "    \n",
    "    if not os.path.isdir(all_runs):\n",
    "        with zipfile.ZipFile(all_runs + '.zip','r') as zip_ref:\n",
    "            zip_ref.extractall(all_runs)\n",
    "    \n",
    "    run_path = os.path.join(all_runs,'run%02d'%n_run,'class_labels.txt')\n",
    "    with open(run_path) as f:\n",
    "        content = f.read().splitlines()\n",
    "\n",
    "    pairs = [line.split() for line in content]\n",
    "    test_files  = [pair[0] for pair in pairs]\n",
    "    train_files = [pair[1] for pair in pairs]\n",
    "\n",
    "    answers_files = copy.copy(train_files)\n",
    "    test_files.sort()\n",
    "    train_files.sort()\n",
    "    \n",
    "    def f_load(f):\n",
    "        path = os.path.join(all_runs, f)\n",
    "        return cv2.imread(path)[..., 0]\n",
    "\n",
    "    train_imgs = np.stack([f_load(f) for f in train_files]).\\\n",
    "                        astype('float32')[..., np.newaxis]\n",
    "    test_imgs  = np.stack([f_load(f) for f in test_files]).\\\n",
    "                        astype('float32')[..., np.newaxis]\n",
    "\n",
    "    return train_files, test_files, train_imgs, test_imgs, answers_files"
   ]
  },
  {
   "cell_type": "code",
   "execution_count": 21,
   "metadata": {},
   "outputs": [],
   "source": [
    "def compute_one_shot_acc(test_pred, train_pred, train_files, answers_files):\n",
    "    n_test = len(test_pred)\n",
    "    n_train = len(train_pred)\n",
    "    \n",
    "    distM = np.zeros((n_test, n_train))\n",
    "    for i in range(n_test):\n",
    "        for c in range(n_train):\n",
    "            distM[i,c] = distance.euclidean(test_pred[i],train_pred[c])\n",
    "            \n",
    "    YHAT = np.argmin(distM, axis=1)\n",
    "    \n",
    "    # compute the error rate\n",
    "    correct = 0.0\n",
    "    for i in range(n_test):\n",
    "        if train_files[YHAT[i]] == answers_files[i]:\n",
    "            correct += 1.0\n",
    "        \n",
    "    return correct / n_test"
   ]
  },
  {
   "cell_type": "code",
   "execution_count": 22,
   "metadata": {},
   "outputs": [],
   "source": [
    "test_init_ops = ['test_init_op_'+str(i+1) for i in range(NUM_BRANCHES)]\n",
    "model_outputs = ['model_1/output_vb{}:0'.format(i+1) for i in range(NUM_BRANCHES)]"
   ]
  },
  {
   "cell_type": "code",
   "execution_count": 23,
   "metadata": {},
   "outputs": [
    {
     "name": "stdout",
     "output_type": "stream",
     "text": [
      "INFO:tensorflow:Restoring parameters from models/vb-omniglot-simple-B3-S0.00_1/ckpt\n"
     ]
    }
   ],
   "source": [
    "total_runs = 20\n",
    "train_pred_runs = []\n",
    "test_pred_runs = []\n",
    "\n",
    "run_data = [get_run(r+1) for r in range(total_runs)]\n",
    "\n",
    "with tf.Session() as sess:\n",
    "    restore_sess(sess, model_path)\n",
    "\n",
    "    for r in range(total_runs):\n",
    "        train_files,test_files,train_imgs,test_imgs,answers_files = run_data[r]\n",
    "\n",
    "        feed_dict = {'x:0':train_imgs, 'batch_size:0':len(train_imgs)}\n",
    "        sess.run(test_init_ops, feed_dict=feed_dict)\n",
    "        train_pred_runs.append(sess.run(model_outputs))\n",
    "\n",
    "        feed_dict = {'x:0':test_imgs, 'batch_size:0':len(test_imgs)}\n",
    "        sess.run(test_init_ops, feed_dict=feed_dict)\n",
    "        test_pred_runs.append(sess.run(model_outputs))"
   ]
  },
  {
   "cell_type": "markdown",
   "metadata": {},
   "source": [
    "### Average Embedding"
   ]
  },
  {
   "cell_type": "code",
   "execution_count": 24,
   "metadata": {},
   "outputs": [],
   "source": [
    "mean_acc_runs = []\n",
    "for r in range(total_runs):\n",
    "    test_embed = np.mean(test_pred_runs[r], axis=0)\n",
    "    train_embed = np.mean(train_pred_runs[r], axis=0)\n",
    "    train_files = run_data[r][0]\n",
    "    answers_files = run_data[r][-1]\n",
    "    \n",
    "    acc = compute_one_shot_acc(test_embed, train_embed,train_files, answers_files)\n",
    "    mean_acc_runs.append(acc)"
   ]
  },
  {
   "cell_type": "code",
   "execution_count": 25,
   "metadata": {},
   "outputs": [
    {
     "name": "stdout",
     "output_type": "stream",
     "text": [
      "[0.85, 0.75, 0.95, 0.9, 0.9, 0.9, 0.9, 0.75, 0.75, 0.75, 1.0, 0.8, 0.7, 0.8, 0.95, 1.0, 0.8, 0.9, 0.6, 0.7]\n",
      "0.8325000000000001\n"
     ]
    }
   ],
   "source": [
    "print(mean_acc_runs)\n",
    "print(np.mean(mean_acc_runs))"
   ]
  },
  {
   "cell_type": "markdown",
   "metadata": {},
   "source": [
    "### Concatenate Embedding"
   ]
  },
  {
   "cell_type": "code",
   "execution_count": 26,
   "metadata": {},
   "outputs": [],
   "source": [
    "concat_acc_runs = []\n",
    "for r in range(total_runs):\n",
    "    test_embed = np.concatenate(test_pred_runs[r], axis=-1)\n",
    "    train_embed = np.concatenate(train_pred_runs[r], axis=-1)\n",
    "    train_files = run_data[r][0]\n",
    "    answers_files = run_data[r][-1]\n",
    "        \n",
    "    acc = compute_one_shot_acc(test_embed, train_embed,train_files, answers_files)\n",
    "    concat_acc_runs.append(acc)"
   ]
  },
  {
   "cell_type": "code",
   "execution_count": 27,
   "metadata": {},
   "outputs": [
    {
     "name": "stdout",
     "output_type": "stream",
     "text": [
      "[0.85, 0.7, 0.95, 0.9, 0.95, 0.9, 0.9, 0.7, 0.8, 0.8, 1.0, 0.85, 0.7, 0.75, 1.0, 1.0, 0.9, 0.95, 0.7, 0.8]\n",
      "0.8550000000000001\n"
     ]
    }
   ],
   "source": [
    "print(concat_acc_runs)\n",
    "print(np.mean(concat_acc_runs))"
   ]
  },
  {
   "cell_type": "code",
   "execution_count": null,
   "metadata": {},
   "outputs": [],
   "source": []
  }
 ],
 "metadata": {
  "kernelspec": {
   "display_name": "Python 3",
   "language": "python",
   "name": "python3"
  },
  "language_info": {
   "codemirror_mode": {
    "name": "ipython",
    "version": 3
   },
   "file_extension": ".py",
   "mimetype": "text/x-python",
   "name": "python",
   "nbconvert_exporter": "python",
   "pygments_lexer": "ipython3",
   "version": "3.5.6"
  }
 },
 "nbformat": 4,
 "nbformat_minor": 2
}
