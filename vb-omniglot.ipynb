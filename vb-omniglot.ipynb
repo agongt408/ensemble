{
 "cells": [
  {
   "cell_type": "markdown",
   "metadata": {},
   "source": [
    "# Omnigot One-Shot with Virtual Branching"
   ]
  },
  {
   "cell_type": "code",
   "execution_count": 1,
   "metadata": {},
   "outputs": [],
   "source": [
    "import tensorflow as tf\n",
    "import numpy as np\n",
    "import os\n",
    "import matplotlib.pyplot as plt\n",
    "import copy\n",
    "import cv2\n",
    "from scipy.spatial import distance"
   ]
  },
  {
   "cell_type": "code",
   "execution_count": 2,
   "metadata": {},
   "outputs": [],
   "source": [
    "import vbranch as vb"
   ]
  },
  {
   "cell_type": "code",
   "execution_count": 3,
   "metadata": {},
   "outputs": [],
   "source": [
    "save = False\n",
    "model_id = 4\n",
    "architecture = 'simple'"
   ]
  },
  {
   "cell_type": "markdown",
   "metadata": {},
   "source": [
    "## Load Data"
   ]
  },
  {
   "cell_type": "code",
   "execution_count": 4,
   "metadata": {},
   "outputs": [],
   "source": [
    "train_generator = vb.datasets.omniglot.load_generator('train')\n",
    "test_generator = vb.datasets.omniglot.load_generator('test')"
   ]
  },
  {
   "cell_type": "code",
   "execution_count": 5,
   "metadata": {},
   "outputs": [],
   "source": [
    "batch = test_generator.next(4, 4, 4, flatten=False)"
   ]
  },
  {
   "cell_type": "code",
   "execution_count": 6,
   "metadata": {},
   "outputs": [
    {
     "data": {
      "image/png": "[encoded data removed]",
      "text/plain": [
       "<Figure size 432x288 with 1 Axes>"
      ]
     },
     "metadata": {
      "needs_background": "light"
     },
     "output_type": "display_data"
    }
   ],
   "source": [
    "plt.imshow(batch[2, 3, 0].squeeze(), cmap=plt.cm.gray)\n",
    "plt.show()"
   ]
  },
  {
   "cell_type": "markdown",
   "metadata": {},
   "source": [
    "## Build Model"
   ]
  },
  {
   "cell_type": "code",
   "execution_count": 7,
   "metadata": {},
   "outputs": [],
   "source": [
    "EPOCHS = 90\n",
    "STEPS_PER_EPOCH = 100\n",
    "T_0 = 30\n",
    "\n",
    "NUM_BRANCHES = 3\n",
    "SHARED_FRAC = 0.5\n",
    "model_path = os.path.join('models', 'vb-omniglot-{}-B{:d}-S{:.2f}_{:d}'.format(architecture,\n",
    "    NUM_BRANCHES, SHARED_FRAC, model_id))\n",
    "\n",
    "A, P, K = 4, 8, 4 # triplet batch specs\n",
    "output_dim = 128\n",
    "input_dim = [None, 105, 105, 1]"
   ]
  },
  {
   "cell_type": "code",
   "execution_count": 8,
   "metadata": {},
   "outputs": [],
   "source": [
    "if not os.path.isdir('./models'):\n",
    "    os.system('mkdir models')"
   ]
  },
  {
   "cell_type": "code",
   "execution_count": 9,
   "metadata": {},
   "outputs": [],
   "source": [
    "def batch_gen(A, P, K):\n",
    "    def func():\n",
    "        while True:\n",
    "            batch = train_generator.next(A, P, K)\n",
    "            batch = batch.astype('float32')\n",
    "            yield batch\n",
    "    return func"
   ]
  },
  {
   "cell_type": "code",
   "execution_count": 10,
   "metadata": {},
   "outputs": [],
   "source": [
    "tf.reset_default_graph()\n",
    "\n",
    "# Placeholder for feeding test images\n",
    "x = tf.placeholder('float32', input_dim, name='x')\n",
    "batch_size = tf.placeholder('int64', name='batch_size')\n",
    "\n",
    "train_datasets = []\n",
    "test_datasets = []\n",
    "inputs = [None] * NUM_BRANCHES\n",
    "labels_one_hot = [None] * NUM_BRANCHES\n",
    "train_init_ops = []\n",
    "test_init_ops = []\n",
    "\n",
    "for i in range(NUM_BRANCHES):\n",
    "    train_datasets.append( tf.data.Dataset.from_generator(batch_gen(A, P, K), \n",
    "                                                          'float32', \n",
    "                                                          output_shapes=input_dim))\n",
    "\n",
    "    test_datasets.append(tf.data.Dataset.from_tensor_slices(x).batch(batch_size))\n",
    "    \n",
    "    iterator = tf.data.Iterator.from_structure('float32', input_dim)\n",
    "    inputs[i] = iterator.get_next(name='input_'+str(i+1))    \n",
    "\n",
    "    train_init_ops.append(iterator.make_initializer(train_datasets[i]))\n",
    "    test_init_ops.append(iterator.make_initializer(test_datasets[i], \n",
    "                                                name='test_init_op_'+str(i+1)))"
   ]
  },
  {
   "cell_type": "code",
   "execution_count": 11,
   "metadata": {},
   "outputs": [],
   "source": [
    "with tf.variable_scope('model_' + str(model_id)):\n",
    "    if architecture == 'simple':        \n",
    "        filters = [32, 64, 128, 256]\n",
    "        layers_spec = [([f]*NUM_BRANCHES, int(f*SHARED_FRAC)) for f in filters]\n",
    "        \n",
    "        model = vb.vbranch_simple_cnn(inputs, (output_dim, 0), *layers_spec,\n",
    "            branches=NUM_BRANCHES, name='model_' + str(model_id))\n",
    "        \n",
    "#     elif architecture == 'res':\n",
    "#         model = vb.res_cnn(inputs, output_dim, 32, 64, 128, 256)"
   ]
  },
  {
   "cell_type": "code",
   "execution_count": 12,
   "metadata": {
    "scrolled": false
   },
   "outputs": [
    {
     "name": "stdout",
     "output_type": "stream",
     "text": [
      "i   Layer name         Output shape                          Num param  Inbound            \n",
      "-------------------------------------------------------------------------------------------\n",
      "    Input              [None,105,105,1]                                                    \n",
      "-------------------------------------------------------------------------------------------\n",
      "    Input              [None,105,105,1]                                                    \n",
      "-------------------------------------------------------------------------------------------\n",
      "    Input              [None,105,105,1]                                                    \n",
      "-------------------------------------------------------------------------------------------\n",
      "0   conv2d_1_1         [None,103,103,16] [None,103,103,16]   640        input              \n",
      "                       [None,103,103,16] [None,103,103,16]                                 \n",
      "                       [None,103,103,16] [None,103,103,16]                                 \n",
      "-------------------------------------------------------------------------------------------\n",
      "1   bn_1_1             [None,103,103,16] [None,103,103,16]   128        conv2d_1_1         \n",
      "                       [None,103,103,16] [None,103,103,16]                                 \n",
      "                       [None,103,103,16] [None,103,103,16]                                 \n",
      "-------------------------------------------------------------------------------------------\n",
      "2   relu_1_1           [None,103,103,16] [None,103,103,16]   0          bn_1_1             \n",
      "                       [None,103,103,16] [None,103,103,16]                                 \n",
      "                       [None,103,103,16] [None,103,103,16]                                 \n",
      "-------------------------------------------------------------------------------------------\n",
      "3   conv2d_1_2         [None,101,101,16] [None,101,101,16]   23200      relu_1_1           \n",
      "                       [None,101,101,16] [None,101,101,16]                                 \n",
      "                       [None,101,101,16] [None,101,101,16]                                 \n",
      "-------------------------------------------------------------------------------------------\n",
      "4   bn_1_2             [None,101,101,16] [None,101,101,16]   128        conv2d_1_2         \n",
      "                       [None,101,101,16] [None,101,101,16]                                 \n",
      "                       [None,101,101,16] [None,101,101,16]                                 \n",
      "-------------------------------------------------------------------------------------------\n",
      "5   relu_1_2           [None,101,101,16] [None,101,101,16]   0          bn_1_2             \n",
      "                       [None,101,101,16] [None,101,101,16]                                 \n",
      "                       [None,101,101,16] [None,101,101,16]                                 \n",
      "-------------------------------------------------------------------------------------------\n",
      "6   avg_pool2d_1       [None,50,50,16] [None,50,50,16]       0          relu_1_2           \n",
      "                       [None,50,50,16] [None,50,50,16]                                     \n",
      "                       [None,50,50,16] [None,50,50,16]                                     \n",
      "-------------------------------------------------------------------------------------------\n",
      "7   conv2d_2_1         [None,48,48,32] [None,48,48,32]       46400      avg_pool2d_1       \n",
      "                       [None,48,48,32] [None,48,48,32]                                     \n",
      "                       [None,48,48,32] [None,48,48,32]                                     \n",
      "-------------------------------------------------------------------------------------------\n",
      "8   bn_2_1             [None,48,48,32] [None,48,48,32]       256        conv2d_2_1         \n",
      "                       [None,48,48,32] [None,48,48,32]                                     \n",
      "                       [None,48,48,32] [None,48,48,32]                                     \n",
      "-------------------------------------------------------------------------------------------\n",
      "9   relu_2_1           [None,48,48,32] [None,48,48,32]       0          bn_2_1             \n",
      "                       [None,48,48,32] [None,48,48,32]                                     \n",
      "                       [None,48,48,32] [None,48,48,32]                                     \n",
      "-------------------------------------------------------------------------------------------\n",
      "10  conv2d_2_2         [None,46,46,32] [None,46,46,32]       92480      relu_2_1           \n",
      "                       [None,46,46,32] [None,46,46,32]                                     \n",
      "                       [None,46,46,32] [None,46,46,32]                                     \n",
      "-------------------------------------------------------------------------------------------\n",
      "11  bn_2_2             [None,46,46,32] [None,46,46,32]       256        conv2d_2_2         \n",
      "                       [None,46,46,32] [None,46,46,32]                                     \n",
      "                       [None,46,46,32] [None,46,46,32]                                     \n",
      "-------------------------------------------------------------------------------------------\n",
      "12  relu_2_2           [None,46,46,32] [None,46,46,32]       0          bn_2_2             \n",
      "                       [None,46,46,32] [None,46,46,32]                                     \n",
      "                       [None,46,46,32] [None,46,46,32]                                     \n",
      "-------------------------------------------------------------------------------------------\n",
      "13  avg_pool2d_2       [None,23,23,32] [None,23,23,32]       0          relu_2_2           \n",
      "                       [None,23,23,32] [None,23,23,32]                                     \n",
      "                       [None,23,23,32] [None,23,23,32]                                     \n",
      "-------------------------------------------------------------------------------------------\n",
      "14  conv2d_3_1         [None,21,21,64] [None,21,21,64]       184960     avg_pool2d_2       \n",
      "                       [None,21,21,64] [None,21,21,64]                                     \n",
      "                       [None,21,21,64] [None,21,21,64]                                     \n",
      "-------------------------------------------------------------------------------------------\n",
      "15  bn_3_1             [None,21,21,64] [None,21,21,64]       512        conv2d_3_1         \n",
      "                       [None,21,21,64] [None,21,21,64]                                     \n",
      "                       [None,21,21,64] [None,21,21,64]                                     \n",
      "-------------------------------------------------------------------------------------------\n",
      "16  relu_3_1           [None,21,21,64] [None,21,21,64]       0          bn_3_1             \n",
      "                       [None,21,21,64] [None,21,21,64]                                     \n",
      "                       [None,21,21,64] [None,21,21,64]                                     \n",
      "-------------------------------------------------------------------------------------------\n",
      "17  conv2d_3_2         [None,19,19,64] [None,19,19,64]       369280     relu_3_1           \n",
      "                       [None,19,19,64] [None,19,19,64]                                     \n",
      "                       [None,19,19,64] [None,19,19,64]                                     \n",
      "-------------------------------------------------------------------------------------------\n",
      "18  bn_3_2             [None,19,19,64] [None,19,19,64]       512        conv2d_3_2         \n",
      "                       [None,19,19,64] [None,19,19,64]                                     \n",
      "                       [None,19,19,64] [None,19,19,64]                                     \n",
      "-------------------------------------------------------------------------------------------\n",
      "19  relu_3_2           [None,19,19,64] [None,19,19,64]       0          bn_3_2             \n",
      "                       [None,19,19,64] [None,19,19,64]                                     \n",
      "                       [None,19,19,64] [None,19,19,64]                                     \n",
      "-------------------------------------------------------------------------------------------\n",
      "20  avg_pool2d_3       [None,9,9,64] [None,9,9,64]           0          relu_3_2           \n",
      "                       [None,9,9,64] [None,9,9,64]                                         \n",
      "                       [None,9,9,64] [None,9,9,64]                                         \n",
      "-------------------------------------------------------------------------------------------\n",
      "21  conv2d_4_1         [None,7,7,128] [None,7,7,128]         738560     avg_pool2d_3       \n",
      "                       [None,7,7,128] [None,7,7,128]                                       \n",
      "                       [None,7,7,128] [None,7,7,128]                                       \n",
      "-------------------------------------------------------------------------------------------\n",
      "22  bn_4_1             [None,7,7,128] [None,7,7,128]         1024       conv2d_4_1         \n",
      "                       [None,7,7,128] [None,7,7,128]                                       \n",
      "                       [None,7,7,128] [None,7,7,128]                                       \n",
      "-------------------------------------------------------------------------------------------\n",
      "23  relu_4_1           [None,7,7,128] [None,7,7,128]         0          bn_4_1             \n",
      "                       [None,7,7,128] [None,7,7,128]                                       \n",
      "                       [None,7,7,128] [None,7,7,128]                                       \n",
      "-------------------------------------------------------------------------------------------\n",
      "24  conv2d_4_2         [None,5,5,128] [None,5,5,128]         1475840    relu_4_1           \n",
      "                       [None,5,5,128] [None,5,5,128]                                       \n",
      "                       [None,5,5,128] [None,5,5,128]                                       \n",
      "-------------------------------------------------------------------------------------------\n",
      "25  bn_4_2             [None,5,5,128] [None,5,5,128]         1024       conv2d_4_2         \n",
      "                       [None,5,5,128] [None,5,5,128]                                       \n",
      "                       [None,5,5,128] [None,5,5,128]                                       \n",
      "-------------------------------------------------------------------------------------------\n",
      "26  relu_4_2           [None,5,5,128] [None,5,5,128]         0          bn_4_2             \n",
      "                       [None,5,5,128] [None,5,5,128]                                       \n",
      "                       [None,5,5,128] [None,5,5,128]                                       \n",
      "-------------------------------------------------------------------------------------------\n",
      "27  global_avg_pool2d  [None,128] [None,128]                 0          relu_4_2           \n",
      "                       [None,128] [None,128]                                               \n",
      "                       [None,128] [None,128]                                               \n",
      "-------------------------------------------------------------------------------------------\n",
      "28  fc1                [None,128] [None,128]                 165120     global_avg_pool2d  \n",
      "                       [None,128] [None,128]                                               \n",
      "                       [None,128] [None,128]                                               \n",
      "-------------------------------------------------------------------------------------------\n",
      "29  bn_fc1             [None,128] [None,128]                 1024       fc1                \n",
      "                       [None,128] [None,128]                                               \n",
      "                       [None,128] [None,128]                                               \n",
      "-------------------------------------------------------------------------------------------\n",
      "30  relu_fc1           [None,128] [None,128]                 0          bn_fc1             \n",
      "                       [None,128] [None,128]                                               \n",
      "                       [None,128] [None,128]                                               \n",
      "-------------------------------------------------------------------------------------------\n",
      "31  output             [None,128]                            98688      relu_fc1           \n",
      "                       [None,128]                                                          \n",
      "                       [None,128]                                                          \n",
      "-------------------------------------------------------------------------------------------\n",
      "Total parameters: 3200032\n"
     ]
    }
   ],
   "source": [
    "model.summary()"
   ]
  },
  {
   "cell_type": "code",
   "execution_count": 13,
   "metadata": {},
   "outputs": [],
   "source": [
    "def lr_exp_decay_scheduler(init_lr, t0, t1, decay):\n",
    "    \"\"\"NOTE: `episode` starts from 1\"\"\"\n",
    "    def func(episode):\n",
    "        if episode < t0:\n",
    "            return init_lr\n",
    "        lr = init_lr * np.power(decay, (episode - t0) / (t1 - t0))\n",
    "        return lr\n",
    "    return func"
   ]
  },
  {
   "cell_type": "code",
   "execution_count": 14,
   "metadata": {},
   "outputs": [
    {
     "data": {
      "image/png": "[encoded data removed]",
      "text/plain": [
       "<Figure size 432x288 with 1 Axes>"
      ]
     },
     "metadata": {
      "needs_background": "light"
     },
     "output_type": "display_data"
    }
   ],
   "source": [
    "lr_scheduler = lr_exp_decay_scheduler(0.001, T_0, EPOCHS, 0.001)\n",
    "lr_steps = [lr_scheduler(e + 1) for e in range(EPOCHS)]\n",
    "plt.plot(lr_steps)\n",
    "plt.show()"
   ]
  },
  {
   "cell_type": "code",
   "execution_count": 15,
   "metadata": {},
   "outputs": [],
   "source": [
    "lr = tf.placeholder('float32', name='lr')\n",
    "optimizer = tf.train.AdamOptimizer(learning_rate=lr)\n",
    "\n",
    "# Compile model\n",
    "model.compile(optimizer, 'triplet_omniglot', A=A, P=P, K=K)"
   ]
  },
  {
   "cell_type": "code",
   "execution_count": null,
   "metadata": {
    "scrolled": false
   },
   "outputs": [
    {
     "name": "stdout",
     "output_type": "stream",
     "text": [
      "Epoch 1/90\n",
      "100/100 [==============================] - 193s 2s/step - loss_1: 226.0003 - loss_2: 256.2484 - loss_3: 237.2284 - lr: 0.0010\n",
      "Epoch 2/90\n",
      "  7/100 [=>............................] - ETA: 1:30 - loss_1: 80.8413 - loss_2: 112.5803 - loss_3: 87.8038 - lr: 1.0000e-03"
     ]
    }
   ],
   "source": [
    "with tf.Session() as sess:\n",
    "    sess.run(tf.global_variables_initializer())\n",
    "    sess.run(train_init_ops)\n",
    "\n",
    "    for e in range(EPOCHS):\n",
    "        print(\"Epoch {}/{}\".format(e + 1, EPOCHS))\n",
    "        progbar = tf.keras.utils.Progbar(STEPS_PER_EPOCH)\n",
    "        \n",
    "        learning_rate = lr_scheduler(e + 1)\n",
    "        for i in range(STEPS_PER_EPOCH):\n",
    "            _, loss_values = sess.run([model.train_ops, model.losses], feed_dict={lr:learning_rate})\n",
    "            progbar.update(i + 1, values=[('loss_'+str(b+1), loss_values[b]) for b in range(len(loss_values))] \\\n",
    "                           + [('lr', learning_rate),])\n",
    "    \n",
    "    if save:\n",
    "        saver = tf.train.Saver()\n",
    "        path = os.path.join(model_path, 'ckpt')\n",
    "        saver.save(sess, path)"
   ]
  },
  {
   "cell_type": "markdown",
   "metadata": {},
   "source": [
    "## Model Ensemble"
   ]
  },
  {
   "cell_type": "code",
   "execution_count": 18,
   "metadata": {},
   "outputs": [],
   "source": [
    "def restore_sess(sess, model_path):\n",
    "    meta_path = os.path.join(model_path, 'ckpt.meta')\n",
    "    ckpt = tf.train.get_checkpoint_state(model_path)\n",
    "\n",
    "    imported_graph = tf.train.import_meta_graph(meta_path)\n",
    "    imported_graph.restore(sess, ckpt.model_checkpoint_path)"
   ]
  },
  {
   "cell_type": "code",
   "execution_count": 19,
   "metadata": {},
   "outputs": [],
   "source": [
    "def get_run(n_run):\n",
    "    all_runs = './omniglot/python/one-shot-classification/all_runs'\n",
    "    \n",
    "    if not os.path.isdir(all_runs):\n",
    "        with zipfile.ZipFile(all_runs + '.zip','r') as zip_ref:\n",
    "            zip_ref.extractall(all_runs)\n",
    "    \n",
    "    run_path = os.path.join(all_runs,'run%02d'%n_run,'class_labels.txt')\n",
    "    with open(run_path) as f:\n",
    "        content = f.read().splitlines()\n",
    "\n",
    "    pairs = [line.split() for line in content]\n",
    "    test_files  = [pair[0] for pair in pairs]\n",
    "    train_files = [pair[1] for pair in pairs]\n",
    "\n",
    "    answers_files = copy.copy(train_files)\n",
    "    test_files.sort()\n",
    "    train_files.sort()\n",
    "    \n",
    "    def f_load(f):\n",
    "        path = os.path.join(all_runs, f)\n",
    "        return cv2.imread(path)[..., 0]\n",
    "\n",
    "    train_imgs = np.stack([f_load(f) for f in train_files]).\\\n",
    "                        astype('float32')[..., np.newaxis]\n",
    "    test_imgs  = np.stack([f_load(f) for f in test_files]).\\\n",
    "                        astype('float32')[..., np.newaxis]\n",
    "\n",
    "    return train_files, test_files, train_imgs, test_imgs, answers_files"
   ]
  },
  {
   "cell_type": "code",
   "execution_count": 20,
   "metadata": {},
   "outputs": [],
   "source": [
    "def compute_one_shot_acc(test_pred, train_pred, train_files, answers_files):\n",
    "    n_test = len(test_pred)\n",
    "    n_train = len(train_pred)\n",
    "    \n",
    "    distM = np.zeros((n_test, n_train))\n",
    "    for i in range(n_test):\n",
    "        for c in range(n_train):\n",
    "            distM[i,c] = distance.euclidean(test_pred[i],train_pred[c])\n",
    "            \n",
    "    YHAT = np.argmin(distM, axis=1)\n",
    "    \n",
    "    # compute the error rate\n",
    "    correct = 0.0\n",
    "    for i in range(n_test):\n",
    "        if train_files[YHAT[i]] == answers_files[i]:\n",
    "            correct += 1.0\n",
    "        \n",
    "    return correct / n_test"
   ]
  },
  {
   "cell_type": "code",
   "execution_count": 21,
   "metadata": {},
   "outputs": [
    {
     "name": "stdout",
     "output_type": "stream",
     "text": [
      "INFO:tensorflow:Restoring parameters from ./models/omniglot_1/ckpt\n",
      "INFO:tensorflow:Restoring parameters from ./models/omniglot_2/ckpt\n",
      "INFO:tensorflow:Restoring parameters from ./models/omniglot_3/ckpt\n",
      "INFO:tensorflow:Restoring parameters from ./models/omniglot_4/ckpt\n"
     ]
    }
   ],
   "source": [
    "total_runs = 20\n",
    "train_pred_runs = [[] for _ in range(total_runs)]\n",
    "test_pred_runs = [[] for _ in range(total_runs)]\n",
    "\n",
    "run_data = [get_run(r+1) for r in range(total_runs)]\n",
    "\n",
    "num_models = model_id\n",
    "\n",
    "for i in range(num_models):\n",
    "    graph = tf.Graph()\n",
    "    sess = tf.Session(graph=graph)\n",
    "    \n",
    "    with sess.as_default(), graph.as_default():\n",
    "        restore_sess(sess, './models/omniglot_' + str(i + 1))\n",
    "        \n",
    "        for r in range(total_runs):\n",
    "            train_files,test_files,train_imgs,test_imgs,answers_files = run_data[r]\n",
    "            \n",
    "            feed_dict = {'x:0':train_imgs, 'batch_size:0':len(train_imgs)}\n",
    "            sess.run('test_init_op', feed_dict=feed_dict)\n",
    "            train_pred_runs[r].append(sess.run('model_%d'%(i+1)+'/'+'output:0'))\n",
    "    \n",
    "            feed_dict = {'x:0':test_imgs, 'batch_size:0':len(test_imgs)}\n",
    "            sess.run('test_init_op', feed_dict=feed_dict)\n",
    "            test_pred_runs[r].append(sess.run('model_%d'%(i+1)+'/'+'output:0'))"
   ]
  },
  {
   "cell_type": "markdown",
   "metadata": {},
   "source": [
    "### Average Embedding"
   ]
  },
  {
   "cell_type": "code",
   "execution_count": 22,
   "metadata": {},
   "outputs": [],
   "source": [
    "mean_acc_runs = []\n",
    "for r in range(total_runs):\n",
    "    test_embed = np.mean(test_pred_runs[r], axis=0)\n",
    "    train_embed = np.mean(train_pred_runs[r], axis=0)\n",
    "    train_files = run_data[r][0]\n",
    "    answers_files = run_data[r][-1]\n",
    "    \n",
    "    acc = compute_one_shot_acc(test_embed, train_embed,train_files, answers_files)\n",
    "    mean_acc_runs.append(acc)"
   ]
  },
  {
   "cell_type": "code",
   "execution_count": 23,
   "metadata": {},
   "outputs": [
    {
     "name": "stdout",
     "output_type": "stream",
     "text": [
      "[0.8, 0.7, 0.95, 0.8, 0.85, 0.95, 0.75, 0.65, 0.65, 0.75, 1.0, 0.7, 0.65, 0.9, 0.95, 1.0, 0.8, 0.95, 0.7, 0.75]\n",
      "0.8125\n"
     ]
    }
   ],
   "source": [
    "print(mean_acc_runs)\n",
    "print(np.mean(mean_acc_runs))"
   ]
  },
  {
   "cell_type": "markdown",
   "metadata": {},
   "source": [
    "### Concatenate Embedding"
   ]
  },
  {
   "cell_type": "code",
   "execution_count": 24,
   "metadata": {},
   "outputs": [],
   "source": [
    "concat_acc_runs = []\n",
    "for r in range(total_runs):\n",
    "    test_embed = np.concatenate(test_pred_runs[r], axis=-1)\n",
    "    train_embed = np.concatenate(train_pred_runs[r], axis=-1)\n",
    "    train_files = run_data[r][0]\n",
    "    answers_files = run_data[r][-1]\n",
    "    \n",
    "    acc = compute_one_shot_acc(test_embed, train_embed,train_files, answers_files)\n",
    "    concat_acc_runs.append(acc)"
   ]
  },
  {
   "cell_type": "code",
   "execution_count": 25,
   "metadata": {},
   "outputs": [
    {
     "name": "stdout",
     "output_type": "stream",
     "text": [
      "[0.9, 0.8, 0.95, 0.85, 0.95, 0.9, 0.8, 0.65, 0.7, 0.85, 1.0, 0.85, 0.7, 0.9, 0.95, 1.0, 0.8, 1.0, 0.85, 0.8]\n",
      "0.8600000000000001\n"
     ]
    }
   ],
   "source": [
    "print(concat_acc_runs)\n",
    "print(np.mean(concat_acc_runs))"
   ]
  },
  {
   "cell_type": "code",
   "execution_count": null,
   "metadata": {},
   "outputs": [],
   "source": []
  }
 ],
 "metadata": {
  "kernelspec": {
   "display_name": "Python 3",
   "language": "python",
   "name": "python3"
  },
  "language_info": {
   "codemirror_mode": {
    "name": "ipython",
    "version": 3
   },
   "file_extension": ".py",
   "mimetype": "text/x-python",
   "name": "python",
   "nbconvert_exporter": "python",
   "pygments_lexer": "ipython3",
   "version": "3.5.6"
  }
 },
 "nbformat": 4,
 "nbformat_minor": 2
}
