{
 "cells": [
  {
   "cell_type": "code",
   "execution_count": 1,
   "metadata": {},
   "outputs": [],
   "source": [
    "import numpy as np\n",
    "import pandas as pd\n",
    "import matplotlib.pyplot as plt"
   ]
  },
  {
   "cell_type": "code",
   "execution_count": 2,
   "metadata": {},
   "outputs": [],
   "source": [
    "architecture = 'cnn'\n",
    "branches = 3"
   ]
  },
  {
   "cell_type": "code",
   "execution_count": 3,
   "metadata": {},
   "outputs": [],
   "source": [
    "df = pd.read_csv('results/mnist-{}-B{}-test.csv'.format(architecture, branches), header=None)"
   ]
  },
  {
   "cell_type": "code",
   "execution_count": 4,
   "metadata": {},
   "outputs": [
    {
     "data": {
      "text/html": [
       "<div>\n",
       "<style scoped>\n",
       "    .dataframe tbody tr th:only-of-type {\n",
       "        vertical-align: middle;\n",
       "    }\n",
       "\n",
       "    .dataframe tbody tr th {\n",
       "        vertical-align: top;\n",
       "    }\n",
       "\n",
       "    .dataframe thead th {\n",
       "        text-align: right;\n",
       "    }\n",
       "</style>\n",
       "<table border=\"1\" class=\"dataframe\">\n",
       "  <thead>\n",
       "    <tr style=\"text-align: right;\">\n",
       "      <th></th>\n",
       "      <th>0</th>\n",
       "      <th>1</th>\n",
       "      <th>2</th>\n",
       "      <th>3</th>\n",
       "      <th>4</th>\n",
       "      <th>5</th>\n",
       "      <th>6</th>\n",
       "      <th>7</th>\n",
       "      <th>8</th>\n",
       "    </tr>\n",
       "  </thead>\n",
       "  <tbody>\n",
       "    <tr>\n",
       "      <th>0</th>\n",
       "      <td>NaN</td>\n",
       "      <td>acc_2</td>\n",
       "      <td>acc_4</td>\n",
       "      <td>acc_8</td>\n",
       "      <td>after_mean_acc</td>\n",
       "      <td>before_mean_acc</td>\n",
       "      <td>loss_2</td>\n",
       "      <td>loss_4</td>\n",
       "      <td>loss_8</td>\n",
       "    </tr>\n",
       "    <tr>\n",
       "      <th>1</th>\n",
       "      <td>0.0</td>\n",
       "      <td>0.9713</td>\n",
       "      <td>0.977</td>\n",
       "      <td>0.9668</td>\n",
       "      <td>0.9823</td>\n",
       "      <td>0.9829</td>\n",
       "      <td>0.09279309</td>\n",
       "      <td>0.07164204</td>\n",
       "      <td>0.11336382</td>\n",
       "    </tr>\n",
       "    <tr>\n",
       "      <th>2</th>\n",
       "      <td>NaN</td>\n",
       "      <td>acc_2</td>\n",
       "      <td>acc_5</td>\n",
       "      <td>acc_7</td>\n",
       "      <td>after_mean_acc</td>\n",
       "      <td>before_mean_acc</td>\n",
       "      <td>loss_2</td>\n",
       "      <td>loss_5</td>\n",
       "      <td>loss_7</td>\n",
       "    </tr>\n",
       "    <tr>\n",
       "      <th>3</th>\n",
       "      <td>0.0</td>\n",
       "      <td>0.9713</td>\n",
       "      <td>0.9796</td>\n",
       "      <td>0.9727</td>\n",
       "      <td>0.983</td>\n",
       "      <td>0.9831</td>\n",
       "      <td>0.09279309</td>\n",
       "      <td>0.072589055</td>\n",
       "      <td>0.091366634</td>\n",
       "    </tr>\n",
       "    <tr>\n",
       "      <th>4</th>\n",
       "      <td>NaN</td>\n",
       "      <td>acc_1</td>\n",
       "      <td>acc_6</td>\n",
       "      <td>acc_8</td>\n",
       "      <td>after_mean_acc</td>\n",
       "      <td>before_mean_acc</td>\n",
       "      <td>loss_1</td>\n",
       "      <td>loss_6</td>\n",
       "      <td>loss_8</td>\n",
       "    </tr>\n",
       "    <tr>\n",
       "      <th>5</th>\n",
       "      <td>0.0</td>\n",
       "      <td>0.9721</td>\n",
       "      <td>0.9774</td>\n",
       "      <td>0.9668</td>\n",
       "      <td>0.9835</td>\n",
       "      <td>0.984</td>\n",
       "      <td>0.08363106</td>\n",
       "      <td>0.06777152</td>\n",
       "      <td>0.11336382</td>\n",
       "    </tr>\n",
       "    <tr>\n",
       "      <th>6</th>\n",
       "      <td>NaN</td>\n",
       "      <td>acc_2</td>\n",
       "      <td>acc_6</td>\n",
       "      <td>acc_7</td>\n",
       "      <td>after_mean_acc</td>\n",
       "      <td>before_mean_acc</td>\n",
       "      <td>loss_2</td>\n",
       "      <td>loss_6</td>\n",
       "      <td>loss_7</td>\n",
       "    </tr>\n",
       "    <tr>\n",
       "      <th>7</th>\n",
       "      <td>0.0</td>\n",
       "      <td>0.9713</td>\n",
       "      <td>0.9774</td>\n",
       "      <td>0.9727</td>\n",
       "      <td>0.9831</td>\n",
       "      <td>0.984</td>\n",
       "      <td>0.09279309</td>\n",
       "      <td>0.06777152</td>\n",
       "      <td>0.091366634</td>\n",
       "    </tr>\n",
       "    <tr>\n",
       "      <th>8</th>\n",
       "      <td>NaN</td>\n",
       "      <td>acc_4</td>\n",
       "      <td>acc_6</td>\n",
       "      <td>acc_7</td>\n",
       "      <td>after_mean_acc</td>\n",
       "      <td>before_mean_acc</td>\n",
       "      <td>loss_4</td>\n",
       "      <td>loss_6</td>\n",
       "      <td>loss_7</td>\n",
       "    </tr>\n",
       "    <tr>\n",
       "      <th>9</th>\n",
       "      <td>0.0</td>\n",
       "      <td>0.977</td>\n",
       "      <td>0.9774</td>\n",
       "      <td>0.9727</td>\n",
       "      <td>0.9834</td>\n",
       "      <td>0.9839</td>\n",
       "      <td>0.07164204</td>\n",
       "      <td>0.06777152</td>\n",
       "      <td>0.091366634</td>\n",
       "    </tr>\n",
       "    <tr>\n",
       "      <th>10</th>\n",
       "      <td>NaN</td>\n",
       "      <td>acc_1</td>\n",
       "      <td>acc_6</td>\n",
       "      <td>acc_7</td>\n",
       "      <td>after_mean_acc</td>\n",
       "      <td>before_mean_acc</td>\n",
       "      <td>loss_1</td>\n",
       "      <td>loss_6</td>\n",
       "      <td>loss_7</td>\n",
       "    </tr>\n",
       "    <tr>\n",
       "      <th>11</th>\n",
       "      <td>0.0</td>\n",
       "      <td>0.9721</td>\n",
       "      <td>0.9774</td>\n",
       "      <td>0.9727</td>\n",
       "      <td>0.9833</td>\n",
       "      <td>0.9838</td>\n",
       "      <td>0.08363106</td>\n",
       "      <td>0.06777152</td>\n",
       "      <td>0.091366634</td>\n",
       "    </tr>\n",
       "    <tr>\n",
       "      <th>12</th>\n",
       "      <td>NaN</td>\n",
       "      <td>acc_5</td>\n",
       "      <td>acc_6</td>\n",
       "      <td>acc_8</td>\n",
       "      <td>after_mean_acc</td>\n",
       "      <td>before_mean_acc</td>\n",
       "      <td>loss_5</td>\n",
       "      <td>loss_6</td>\n",
       "      <td>loss_8</td>\n",
       "    </tr>\n",
       "    <tr>\n",
       "      <th>13</th>\n",
       "      <td>0.0</td>\n",
       "      <td>0.9796</td>\n",
       "      <td>0.9774</td>\n",
       "      <td>0.9668</td>\n",
       "      <td>0.9839</td>\n",
       "      <td>0.9829</td>\n",
       "      <td>0.072589055</td>\n",
       "      <td>0.06777152</td>\n",
       "      <td>0.11336382</td>\n",
       "    </tr>\n",
       "    <tr>\n",
       "      <th>14</th>\n",
       "      <td>NaN</td>\n",
       "      <td>acc_4</td>\n",
       "      <td>acc_6</td>\n",
       "      <td>acc_8</td>\n",
       "      <td>after_mean_acc</td>\n",
       "      <td>before_mean_acc</td>\n",
       "      <td>loss_4</td>\n",
       "      <td>loss_6</td>\n",
       "      <td>loss_8</td>\n",
       "    </tr>\n",
       "    <tr>\n",
       "      <th>15</th>\n",
       "      <td>0.0</td>\n",
       "      <td>0.977</td>\n",
       "      <td>0.9774</td>\n",
       "      <td>0.9668</td>\n",
       "      <td>0.9845</td>\n",
       "      <td>0.9835</td>\n",
       "      <td>0.07164204</td>\n",
       "      <td>0.06777152</td>\n",
       "      <td>0.11336382</td>\n",
       "    </tr>\n",
       "  </tbody>\n",
       "</table>\n",
       "</div>"
      ],
      "text/plain": [
       "      0       1       2       3               4                5            6  \\\n",
       "0   NaN   acc_2   acc_4   acc_8  after_mean_acc  before_mean_acc       loss_2   \n",
       "1   0.0  0.9713   0.977  0.9668          0.9823           0.9829   0.09279309   \n",
       "2   NaN   acc_2   acc_5   acc_7  after_mean_acc  before_mean_acc       loss_2   \n",
       "3   0.0  0.9713  0.9796  0.9727           0.983           0.9831   0.09279309   \n",
       "4   NaN   acc_1   acc_6   acc_8  after_mean_acc  before_mean_acc       loss_1   \n",
       "5   0.0  0.9721  0.9774  0.9668          0.9835            0.984   0.08363106   \n",
       "6   NaN   acc_2   acc_6   acc_7  after_mean_acc  before_mean_acc       loss_2   \n",
       "7   0.0  0.9713  0.9774  0.9727          0.9831            0.984   0.09279309   \n",
       "8   NaN   acc_4   acc_6   acc_7  after_mean_acc  before_mean_acc       loss_4   \n",
       "9   0.0   0.977  0.9774  0.9727          0.9834           0.9839   0.07164204   \n",
       "10  NaN   acc_1   acc_6   acc_7  after_mean_acc  before_mean_acc       loss_1   \n",
       "11  0.0  0.9721  0.9774  0.9727          0.9833           0.9838   0.08363106   \n",
       "12  NaN   acc_5   acc_6   acc_8  after_mean_acc  before_mean_acc       loss_5   \n",
       "13  0.0  0.9796  0.9774  0.9668          0.9839           0.9829  0.072589055   \n",
       "14  NaN   acc_4   acc_6   acc_8  after_mean_acc  before_mean_acc       loss_4   \n",
       "15  0.0   0.977  0.9774  0.9668          0.9845           0.9835   0.07164204   \n",
       "\n",
       "              7            8  \n",
       "0        loss_4       loss_8  \n",
       "1    0.07164204   0.11336382  \n",
       "2        loss_5       loss_7  \n",
       "3   0.072589055  0.091366634  \n",
       "4        loss_6       loss_8  \n",
       "5    0.06777152   0.11336382  \n",
       "6        loss_6       loss_7  \n",
       "7    0.06777152  0.091366634  \n",
       "8        loss_6       loss_7  \n",
       "9    0.06777152  0.091366634  \n",
       "10       loss_6       loss_7  \n",
       "11   0.06777152  0.091366634  \n",
       "12       loss_6       loss_8  \n",
       "13   0.06777152   0.11336382  \n",
       "14       loss_6       loss_8  \n",
       "15   0.06777152   0.11336382  "
      ]
     },
     "execution_count": 4,
     "metadata": {},
     "output_type": "execute_result"
    }
   ],
   "source": [
    "df"
   ]
  },
  {
   "cell_type": "code",
   "execution_count": 5,
   "metadata": {},
   "outputs": [
    {
     "name": "stdout",
     "output_type": "stream",
     "text": [
      "0.9835125\n"
     ]
    }
   ],
   "source": [
    "avg_acc = df.iloc[range(1, len(df.index)+1, 2), branches+2].astype('float32').mean()\n",
    "print(avg_acc)"
   ]
  },
  {
   "cell_type": "code",
   "execution_count": 6,
   "metadata": {},
   "outputs": [
    {
     "name": "stdout",
     "output_type": "stream",
     "text": [
      "0.9730999991297722\n"
     ]
    }
   ],
   "source": [
    "val_acc = []\n",
    "for i in range(8):\n",
    "    df = pd.read_csv('results/mnist-{}_{}-train.csv'.format(architecture, i+1))\n",
    "    val_acc.append(df.iloc[-1]['val_acc'])\n",
    "baseline = np.mean(val_acc)\n",
    "print(baseline)"
   ]
  },
  {
   "cell_type": "code",
   "execution_count": 7,
   "metadata": {},
   "outputs": [
    {
     "name": "stdout",
     "output_type": "stream",
     "text": [
      "0 [0.9837999939918518, 0.9822999835014344, 0.9817000031471252, 0.982200026512146]\n",
      "0.25 [0.9829999804496764, 0.9844999909400941, 0.9824000000953674, 0.9812999963760376]\n",
      "0.5 [0.981599986553192, 0.9825999736785888, 0.9819999933242798, 0.9804999828338624]\n",
      "0.75 [0.9804000258445741, 0.9830999970436096, 0.979099988937378, 0.9797000288963318]\n",
      "1 [0.9733999967575072, 0.9799000024795532, 0.9783999919891356, 0.9787999987602234]\n"
     ]
    }
   ],
   "source": [
    "results = {}\n",
    "results_std = {}\n",
    "for frac in [0, 0.25, 0.5, 0.75, 1]:\n",
    "    val_acc = []\n",
    "    for i in range(4):\n",
    "        df = pd.read_csv('results/vb-mnist-{}-B{}-S{:.2f}_{}-train.csv'.format(architecture, branches, frac, i+1))\n",
    "        val_acc.append(df.iloc[-1]['val_acc'])\n",
    "    print(frac, val_acc)\n",
    "    results[frac] = np.mean(val_acc)\n",
    "    results_std[frac] = np.std(val_acc)"
   ]
  },
  {
   "cell_type": "code",
   "execution_count": 8,
   "metadata": {},
   "outputs": [
    {
     "data": {
      "text/plain": [
       "{0: 0.9825000017881393,\n",
       " 0.25: 0.9827999919652939,\n",
       " 0.5: 0.9816749840974808,\n",
       " 0.75: 0.9805750101804733,\n",
       " 1: 0.9776249974966049}"
      ]
     },
     "execution_count": 8,
     "metadata": {},
     "output_type": "execute_result"
    }
   ],
   "source": [
    "results"
   ]
  },
  {
   "cell_type": "code",
   "execution_count": 9,
   "metadata": {},
   "outputs": [
    {
     "data": {
      "image/png": "[encoded data removed]",
      "text/plain": [
       "<Figure size 432x288 with 1 Axes>"
      ]
     },
     "metadata": {
      "needs_background": "light"
     },
     "output_type": "display_data"
    }
   ],
   "source": [
    "results_list = list(results.items())\n",
    "results_list.sort()\n",
    "results_list = np.array(results_list)\n",
    "\n",
    "plt.plot(results_list[:, 0], results_list[:,1], label='vbranch', color='blue')\n",
    "trials = 4\n",
    "error = np.sort(np.array(list(results_std.items())), 0)[:, 1] / np.sqrt(trials)\n",
    "plt.errorbar(results_list[:, 0], results_list[:,1], error*2)\n",
    "\n",
    "plt.plot(results_list[:, 0], [avg_acc]*len(results_list), label='ensemble', linestyle='--')\n",
    "plt.plot(results_list[:, 0], [baseline]*len(results_list), label='baseline', linestyle='--')\n",
    "\n",
    "if architecture == 'fcn':\n",
    "    plt.ylim(0.94, 0.96)\n",
    "else:\n",
    "    plt.ylim(0.97, 0.99)\n",
    "\n",
    "plt.legend()\n",
    "plt.xlabel('shared frac')\n",
    "plt.ylabel('acc')\n",
    "plt.title('{} x{} acc +/- 2*SEM'.format(architecture.upper(), branches))\n",
    "\n",
    "plt.savefig('figs/{}-{}-results.png'.format(architecture, branches))\n",
    "plt.show()"
   ]
  },
  {
   "cell_type": "code",
   "execution_count": 12,
   "metadata": {},
   "outputs": [],
   "source": [
    "import os\n",
    "for b in range(2, 5):\n",
    "    B_name = 'B{}'.format(b)\n",
    "    for s in [0, 0.25, 0.5, 0.75, 1]:\n",
    "        S_name = 'S{:.2f}'.format(s)\n",
    "        path = os.path.join('results/vb-mnist-fcn', B_name, S_name)\n",
    "        if not os.path.isdir(path):\n",
    "            os.system('mkdir -p ' + path)\n",
    "        for i in range(4):\n",
    "            csv_path = 'results/vb-mnist-fcn-{}-{}_{}-train.csv'.format(B_name, S_name, i+1)\n",
    "            os.system('mv {} {}'.format(csv_path, os.path.join(path, 'train_{}.csv'.format(i+1))))"
   ]
  },
  {
   "cell_type": "code",
   "execution_count": 16,
   "metadata": {},
   "outputs": [],
   "source": [
    "path = 'results/mnist-cnn'\n",
    "os.system('mkdir ' + path)\n",
    "for i in range(8):\n",
    "    csv_path = 'results/mnist-cnn_{}-train.csv'.format(i+1)\n",
    "    os.system('mv {} {}'.format(csv_path, os.path.join(path, 'train_{}.csv'.format(i+1))))"
   ]
  },
  {
   "cell_type": "code",
   "execution_count": null,
   "metadata": {},
   "outputs": [],
   "source": []
  }
 ],
 "metadata": {
  "kernelspec": {
   "display_name": "Python 3",
   "language": "python",
   "name": "python3"
  },
  "language_info": {
   "codemirror_mode": {
    "name": "ipython",
    "version": 3
   },
   "file_extension": ".py",
   "mimetype": "text/x-python",
   "name": "python",
   "nbconvert_exporter": "python",
   "pygments_lexer": "ipython3",
   "version": "3.5.6"
  }
 },
 "nbformat": 4,
 "nbformat_minor": 2
}
