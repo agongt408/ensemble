{
 "cells": [
  {
   "cell_type": "markdown",
   "metadata": {},
   "source": [
    "# Make Results Figures"
   ]
  },
  {
   "cell_type": "code",
   "execution_count": 1,
   "metadata": {},
   "outputs": [],
   "source": [
    "import numpy as np\n",
    "import pandas as pd\n",
    "import matplotlib.pyplot as plt"
   ]
  },
  {
   "cell_type": "code",
   "execution_count": 2,
   "metadata": {},
   "outputs": [],
   "source": [
    "architecture = 'cnn'\n",
    "branches = 4"
   ]
  },
  {
   "cell_type": "markdown",
   "metadata": {},
   "source": [
    "## Ensemble"
   ]
  },
  {
   "cell_type": "code",
   "execution_count": 4,
   "metadata": {},
   "outputs": [],
   "source": [
    "df = pd.read_csv('results/mnist-{}/B{}-test.csv'.format(architecture, branches), header=None)"
   ]
  },
  {
   "cell_type": "code",
   "execution_count": 5,
   "metadata": {},
   "outputs": [
    {
     "data": {
      "text/html": [
       "<div>\n",
       "<style scoped>\n",
       "    .dataframe tbody tr th:only-of-type {\n",
       "        vertical-align: middle;\n",
       "    }\n",
       "\n",
       "    .dataframe tbody tr th {\n",
       "        vertical-align: top;\n",
       "    }\n",
       "\n",
       "    .dataframe thead th {\n",
       "        text-align: right;\n",
       "    }\n",
       "</style>\n",
       "<table border=\"1\" class=\"dataframe\">\n",
       "  <thead>\n",
       "    <tr style=\"text-align: right;\">\n",
       "      <th></th>\n",
       "      <th>0</th>\n",
       "      <th>1</th>\n",
       "      <th>2</th>\n",
       "      <th>3</th>\n",
       "      <th>4</th>\n",
       "      <th>5</th>\n",
       "      <th>6</th>\n",
       "      <th>7</th>\n",
       "      <th>8</th>\n",
       "      <th>9</th>\n",
       "      <th>10</th>\n",
       "    </tr>\n",
       "  </thead>\n",
       "  <tbody>\n",
       "    <tr>\n",
       "      <th>0</th>\n",
       "      <td>NaN</td>\n",
       "      <td>acc_3</td>\n",
       "      <td>acc_4</td>\n",
       "      <td>acc_7</td>\n",
       "      <td>acc_8</td>\n",
       "      <td>after_mean_acc</td>\n",
       "      <td>before_mean_acc</td>\n",
       "      <td>loss_3</td>\n",
       "      <td>loss_4</td>\n",
       "      <td>loss_7</td>\n",
       "      <td>loss_8</td>\n",
       "    </tr>\n",
       "    <tr>\n",
       "      <th>1</th>\n",
       "      <td>0.0</td>\n",
       "      <td>0.9743</td>\n",
       "      <td>0.9777</td>\n",
       "      <td>0.9672</td>\n",
       "      <td>0.9764</td>\n",
       "      <td>0.984</td>\n",
       "      <td>0.9843</td>\n",
       "      <td>0.083448425</td>\n",
       "      <td>0.075588435</td>\n",
       "      <td>0.103902146</td>\n",
       "      <td>0.08071076</td>\n",
       "    </tr>\n",
       "    <tr>\n",
       "      <th>2</th>\n",
       "      <td>NaN</td>\n",
       "      <td>acc_1</td>\n",
       "      <td>acc_5</td>\n",
       "      <td>acc_6</td>\n",
       "      <td>acc_7</td>\n",
       "      <td>after_mean_acc</td>\n",
       "      <td>before_mean_acc</td>\n",
       "      <td>loss_1</td>\n",
       "      <td>loss_5</td>\n",
       "      <td>loss_6</td>\n",
       "      <td>loss_7</td>\n",
       "    </tr>\n",
       "    <tr>\n",
       "      <th>3</th>\n",
       "      <td>0.0</td>\n",
       "      <td>0.9565</td>\n",
       "      <td>0.9748</td>\n",
       "      <td>0.9731</td>\n",
       "      <td>0.9672</td>\n",
       "      <td>0.9816</td>\n",
       "      <td>0.9819</td>\n",
       "      <td>0.14550464</td>\n",
       "      <td>0.082412966</td>\n",
       "      <td>0.09375493</td>\n",
       "      <td>0.103902146</td>\n",
       "    </tr>\n",
       "    <tr>\n",
       "      <th>4</th>\n",
       "      <td>NaN</td>\n",
       "      <td>acc_2</td>\n",
       "      <td>acc_6</td>\n",
       "      <td>acc_7</td>\n",
       "      <td>acc_8</td>\n",
       "      <td>after_mean_acc</td>\n",
       "      <td>before_mean_acc</td>\n",
       "      <td>loss_2</td>\n",
       "      <td>loss_6</td>\n",
       "      <td>loss_7</td>\n",
       "      <td>loss_8</td>\n",
       "    </tr>\n",
       "    <tr>\n",
       "      <th>5</th>\n",
       "      <td>0.0</td>\n",
       "      <td>0.9738</td>\n",
       "      <td>0.9731</td>\n",
       "      <td>0.9672</td>\n",
       "      <td>0.9764</td>\n",
       "      <td>0.983</td>\n",
       "      <td>0.983</td>\n",
       "      <td>0.08585679</td>\n",
       "      <td>0.09375493</td>\n",
       "      <td>0.103902146</td>\n",
       "      <td>0.08071076</td>\n",
       "    </tr>\n",
       "    <tr>\n",
       "      <th>6</th>\n",
       "      <td>NaN</td>\n",
       "      <td>acc_2</td>\n",
       "      <td>acc_3</td>\n",
       "      <td>acc_6</td>\n",
       "      <td>acc_7</td>\n",
       "      <td>after_mean_acc</td>\n",
       "      <td>before_mean_acc</td>\n",
       "      <td>loss_2</td>\n",
       "      <td>loss_3</td>\n",
       "      <td>loss_6</td>\n",
       "      <td>loss_7</td>\n",
       "    </tr>\n",
       "    <tr>\n",
       "      <th>7</th>\n",
       "      <td>0.0</td>\n",
       "      <td>0.9738</td>\n",
       "      <td>0.9743</td>\n",
       "      <td>0.9731</td>\n",
       "      <td>0.9672</td>\n",
       "      <td>0.982</td>\n",
       "      <td>0.9823</td>\n",
       "      <td>0.08585679</td>\n",
       "      <td>0.083448425</td>\n",
       "      <td>0.09375493</td>\n",
       "      <td>0.103902146</td>\n",
       "    </tr>\n",
       "    <tr>\n",
       "      <th>8</th>\n",
       "      <td>NaN</td>\n",
       "      <td>acc_3</td>\n",
       "      <td>acc_5</td>\n",
       "      <td>acc_7</td>\n",
       "      <td>acc_8</td>\n",
       "      <td>after_mean_acc</td>\n",
       "      <td>before_mean_acc</td>\n",
       "      <td>loss_3</td>\n",
       "      <td>loss_5</td>\n",
       "      <td>loss_7</td>\n",
       "      <td>loss_8</td>\n",
       "    </tr>\n",
       "    <tr>\n",
       "      <th>9</th>\n",
       "      <td>0.0</td>\n",
       "      <td>0.9743</td>\n",
       "      <td>0.9748</td>\n",
       "      <td>0.9672</td>\n",
       "      <td>0.9764</td>\n",
       "      <td>0.9839</td>\n",
       "      <td>0.9837</td>\n",
       "      <td>0.083448425</td>\n",
       "      <td>0.082412966</td>\n",
       "      <td>0.103902146</td>\n",
       "      <td>0.08071076</td>\n",
       "    </tr>\n",
       "    <tr>\n",
       "      <th>10</th>\n",
       "      <td>NaN</td>\n",
       "      <td>acc_1</td>\n",
       "      <td>acc_4</td>\n",
       "      <td>acc_6</td>\n",
       "      <td>acc_8</td>\n",
       "      <td>after_mean_acc</td>\n",
       "      <td>before_mean_acc</td>\n",
       "      <td>loss_1</td>\n",
       "      <td>loss_4</td>\n",
       "      <td>loss_6</td>\n",
       "      <td>loss_8</td>\n",
       "    </tr>\n",
       "    <tr>\n",
       "      <th>11</th>\n",
       "      <td>0.0</td>\n",
       "      <td>0.9565</td>\n",
       "      <td>0.9777</td>\n",
       "      <td>0.9731</td>\n",
       "      <td>0.9764</td>\n",
       "      <td>0.9829</td>\n",
       "      <td>0.9831</td>\n",
       "      <td>0.14550464</td>\n",
       "      <td>0.075588435</td>\n",
       "      <td>0.09375493</td>\n",
       "      <td>0.08071076</td>\n",
       "    </tr>\n",
       "    <tr>\n",
       "      <th>12</th>\n",
       "      <td>NaN</td>\n",
       "      <td>acc_1</td>\n",
       "      <td>acc_2</td>\n",
       "      <td>acc_3</td>\n",
       "      <td>acc_6</td>\n",
       "      <td>after_mean_acc</td>\n",
       "      <td>before_mean_acc</td>\n",
       "      <td>loss_1</td>\n",
       "      <td>loss_2</td>\n",
       "      <td>loss_3</td>\n",
       "      <td>loss_6</td>\n",
       "    </tr>\n",
       "    <tr>\n",
       "      <th>13</th>\n",
       "      <td>0.0</td>\n",
       "      <td>0.9565</td>\n",
       "      <td>0.9738</td>\n",
       "      <td>0.9743</td>\n",
       "      <td>0.9731</td>\n",
       "      <td>0.9814</td>\n",
       "      <td>0.9824</td>\n",
       "      <td>0.14550464</td>\n",
       "      <td>0.08585679</td>\n",
       "      <td>0.083448425</td>\n",
       "      <td>0.09375493</td>\n",
       "    </tr>\n",
       "    <tr>\n",
       "      <th>14</th>\n",
       "      <td>NaN</td>\n",
       "      <td>acc_1</td>\n",
       "      <td>acc_2</td>\n",
       "      <td>acc_5</td>\n",
       "      <td>acc_7</td>\n",
       "      <td>after_mean_acc</td>\n",
       "      <td>before_mean_acc</td>\n",
       "      <td>loss_1</td>\n",
       "      <td>loss_2</td>\n",
       "      <td>loss_5</td>\n",
       "      <td>loss_7</td>\n",
       "    </tr>\n",
       "    <tr>\n",
       "      <th>15</th>\n",
       "      <td>0.0</td>\n",
       "      <td>0.9565</td>\n",
       "      <td>0.9738</td>\n",
       "      <td>0.9748</td>\n",
       "      <td>0.9672</td>\n",
       "      <td>0.9809</td>\n",
       "      <td>0.9813</td>\n",
       "      <td>0.14550464</td>\n",
       "      <td>0.08585679</td>\n",
       "      <td>0.082412966</td>\n",
       "      <td>0.103902146</td>\n",
       "    </tr>\n",
       "  </tbody>\n",
       "</table>\n",
       "</div>"
      ],
      "text/plain": [
       "     0       1       2       3       4               5                6   \\\n",
       "0   NaN   acc_3   acc_4   acc_7   acc_8  after_mean_acc  before_mean_acc   \n",
       "1   0.0  0.9743  0.9777  0.9672  0.9764           0.984           0.9843   \n",
       "2   NaN   acc_1   acc_5   acc_6   acc_7  after_mean_acc  before_mean_acc   \n",
       "3   0.0  0.9565  0.9748  0.9731  0.9672          0.9816           0.9819   \n",
       "4   NaN   acc_2   acc_6   acc_7   acc_8  after_mean_acc  before_mean_acc   \n",
       "5   0.0  0.9738  0.9731  0.9672  0.9764           0.983            0.983   \n",
       "6   NaN   acc_2   acc_3   acc_6   acc_7  after_mean_acc  before_mean_acc   \n",
       "7   0.0  0.9738  0.9743  0.9731  0.9672           0.982           0.9823   \n",
       "8   NaN   acc_3   acc_5   acc_7   acc_8  after_mean_acc  before_mean_acc   \n",
       "9   0.0  0.9743  0.9748  0.9672  0.9764          0.9839           0.9837   \n",
       "10  NaN   acc_1   acc_4   acc_6   acc_8  after_mean_acc  before_mean_acc   \n",
       "11  0.0  0.9565  0.9777  0.9731  0.9764          0.9829           0.9831   \n",
       "12  NaN   acc_1   acc_2   acc_3   acc_6  after_mean_acc  before_mean_acc   \n",
       "13  0.0  0.9565  0.9738  0.9743  0.9731          0.9814           0.9824   \n",
       "14  NaN   acc_1   acc_2   acc_5   acc_7  after_mean_acc  before_mean_acc   \n",
       "15  0.0  0.9565  0.9738  0.9748  0.9672          0.9809           0.9813   \n",
       "\n",
       "             7            8            9            10  \n",
       "0        loss_3       loss_4       loss_7       loss_8  \n",
       "1   0.083448425  0.075588435  0.103902146   0.08071076  \n",
       "2        loss_1       loss_5       loss_6       loss_7  \n",
       "3    0.14550464  0.082412966   0.09375493  0.103902146  \n",
       "4        loss_2       loss_6       loss_7       loss_8  \n",
       "5    0.08585679   0.09375493  0.103902146   0.08071076  \n",
       "6        loss_2       loss_3       loss_6       loss_7  \n",
       "7    0.08585679  0.083448425   0.09375493  0.103902146  \n",
       "8        loss_3       loss_5       loss_7       loss_8  \n",
       "9   0.083448425  0.082412966  0.103902146   0.08071076  \n",
       "10       loss_1       loss_4       loss_6       loss_8  \n",
       "11   0.14550464  0.075588435   0.09375493   0.08071076  \n",
       "12       loss_1       loss_2       loss_3       loss_6  \n",
       "13   0.14550464   0.08585679  0.083448425   0.09375493  \n",
       "14       loss_1       loss_2       loss_5       loss_7  \n",
       "15   0.14550464   0.08585679  0.082412966  0.103902146  "
      ]
     },
     "execution_count": 5,
     "metadata": {},
     "output_type": "execute_result"
    }
   ],
   "source": [
    "df"
   ]
  },
  {
   "cell_type": "code",
   "execution_count": 6,
   "metadata": {},
   "outputs": [
    {
     "name": "stdout",
     "output_type": "stream",
     "text": [
      "0.98275\n"
     ]
    }
   ],
   "source": [
    "avg_acc = df.iloc[range(1, len(df.index)+1, 2), branches+2].astype('float32').mean()\n",
    "print(avg_acc)"
   ]
  },
  {
   "cell_type": "markdown",
   "metadata": {},
   "source": [
    "## Baseline"
   ]
  },
  {
   "cell_type": "code",
   "execution_count": 16,
   "metadata": {},
   "outputs": [
    {
     "name": "stdout",
     "output_type": "stream",
     "text": [
      "0.9717250019311905\n"
     ]
    }
   ],
   "source": [
    "baseline_val_acc = []\n",
    "for i in range(8):\n",
    "    df = pd.read_csv('results/mnist-{}/train_{}.csv'.format(architecture, i+1))\n",
    "    baseline_val_acc.append(df.iloc[-1]['val_acc'])\n",
    "baseline = np.mean(baseline_val_acc)\n",
    "print(baseline)"
   ]
  },
  {
   "cell_type": "code",
   "execution_count": 17,
   "metadata": {},
   "outputs": [
    {
     "name": "stdout",
     "output_type": "stream",
     "text": [
      "[0.9564999938011168, 0.973800003528595, 0.9743000268936156, 0.9776999950408936, 0.9747999906539916, 0.9731000065803528, 0.967199981212616, 0.9764000177383424]\n"
     ]
    }
   ],
   "source": [
    "print(baseline_val_acc)"
   ]
  },
  {
   "cell_type": "markdown",
   "metadata": {},
   "source": [
    "## Virtual Branching"
   ]
  },
  {
   "cell_type": "code",
   "execution_count": 11,
   "metadata": {},
   "outputs": [
    {
     "name": "stdout",
     "output_type": "stream",
     "text": [
      "0 [0.9840999841690063, 0.9843999743461608, 0.9850999712944032, 0.9850000143051147]\n",
      "0.25 [0.9844999909400941, 0.9843000173568726, 0.9836000204086304, 0.9833999872207642]\n",
      "0.5 [0.9812999963760376, 0.9825999736785888, 0.9830999970436096, 0.9830999970436096]\n",
      "0.75 [0.9832999706268309, 0.9837999939918518, 0.9814000129699708, 0.9821000099182128]\n",
      "1 [0.9745000004768372, 0.979300022125244, 0.9789999723434448, 0.9812999963760376]\n"
     ]
    }
   ],
   "source": [
    "results = {}\n",
    "results_std = {}\n",
    "for frac in [0, 0.25, 0.5, 0.75, 1]:\n",
    "    val_acc = []\n",
    "    for i in range(4):\n",
    "        df = pd.read_csv('results/vb-mnist-{}/B{}/S{:.2f}/train_{}.csv'.format(architecture, branches, frac, i+1))\n",
    "        val_acc.append(df.iloc[-1]['val_acc'])\n",
    "    print(frac, val_acc)\n",
    "    results[frac] = np.mean(val_acc)\n",
    "    results_std[frac] = np.std(val_acc)"
   ]
  },
  {
   "cell_type": "code",
   "execution_count": 12,
   "metadata": {},
   "outputs": [
    {
     "data": {
      "text/plain": [
       "{0: 0.9846499860286713,\n",
       " 0.25: 0.9839500039815903,\n",
       " 0.5: 0.9825249910354614,\n",
       " 0.75: 0.9826499968767166,\n",
       " 1: 0.9785249978303909}"
      ]
     },
     "execution_count": 12,
     "metadata": {},
     "output_type": "execute_result"
    }
   ],
   "source": [
    "results"
   ]
  },
  {
   "cell_type": "markdown",
   "metadata": {},
   "source": [
    "## Create Figure"
   ]
  },
  {
   "cell_type": "code",
   "execution_count": 14,
   "metadata": {},
   "outputs": [
    {
     "data": {
      "image/png": "[encoded data removed]",
      "text/plain": [
       "<Figure size 432x288 with 1 Axes>"
      ]
     },
     "metadata": {
      "needs_background": "light"
     },
     "output_type": "display_data"
    }
   ],
   "source": [
    "results_list = list(results.items())\n",
    "results_list.sort()\n",
    "results_list = np.array(results_list)\n",
    "\n",
    "plt.plot(results_list[:, 0], results_list[:,1], label='vbranch', color='blue')\n",
    "trials = 4\n",
    "error = np.sort(np.array(list(results_std.items())), 0)[:, 1] / np.sqrt(trials)\n",
    "plt.errorbar(results_list[:, 0], results_list[:,1], error*2)\n",
    "\n",
    "plt.plot(results_list[:, 0], [avg_acc]*len(results_list), label='ensemble', linestyle='--')\n",
    "plt.plot(results_list[:, 0], [baseline]*len(results_list), label='baseline', linestyle='--')\n",
    "\n",
    "if architecture == 'fcn':\n",
    "    plt.ylim(0.94, 0.96)\n",
    "else:\n",
    "    plt.ylim(0.97, 0.99)\n",
    "\n",
    "plt.legend()\n",
    "plt.xlabel('shared frac')\n",
    "plt.ylabel('acc')\n",
    "plt.title('{} x{} acc +/- 2*SEM'.format(architecture.upper(), branches))\n",
    "\n",
    "plt.savefig('figs/{}-{}-results.png'.format(architecture, branches))\n",
    "plt.show()"
   ]
  },
  {
   "cell_type": "code",
   "execution_count": null,
   "metadata": {},
   "outputs": [],
   "source": []
  }
 ],
 "metadata": {
  "kernelspec": {
   "display_name": "Python 3",
   "language": "python",
   "name": "python3"
  },
  "language_info": {
   "codemirror_mode": {
    "name": "ipython",
    "version": 3
   },
   "file_extension": ".py",
   "mimetype": "text/x-python",
   "name": "python",
   "nbconvert_exporter": "python",
   "pygments_lexer": "ipython3",
   "version": "3.5.6"
  }
 },
 "nbformat": 4,
 "nbformat_minor": 2
}
