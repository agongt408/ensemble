{
 "cells": [
  {
   "cell_type": "code",
   "execution_count": 1,
   "metadata": {},
   "outputs": [],
   "source": [
    "import numpy as np\n",
    "import pandas as pd\n",
    "import matplotlib.pyplot as plt"
   ]
  },
  {
   "cell_type": "code",
   "execution_count": 2,
   "metadata": {},
   "outputs": [],
   "source": [
    "df = pd.read_csv('results/mnist-fcn-test.csv', header=None)"
   ]
  },
  {
   "cell_type": "code",
   "execution_count": 3,
   "metadata": {},
   "outputs": [
    {
     "data": {
      "text/html": [
       "<div>\n",
       "<style scoped>\n",
       "    .dataframe tbody tr th:only-of-type {\n",
       "        vertical-align: middle;\n",
       "    }\n",
       "\n",
       "    .dataframe tbody tr th {\n",
       "        vertical-align: top;\n",
       "    }\n",
       "\n",
       "    .dataframe thead th {\n",
       "        text-align: right;\n",
       "    }\n",
       "</style>\n",
       "<table border=\"1\" class=\"dataframe\">\n",
       "  <thead>\n",
       "    <tr style=\"text-align: right;\">\n",
       "      <th></th>\n",
       "      <th>0</th>\n",
       "      <th>1</th>\n",
       "      <th>2</th>\n",
       "      <th>3</th>\n",
       "      <th>4</th>\n",
       "      <th>5</th>\n",
       "      <th>6</th>\n",
       "    </tr>\n",
       "  </thead>\n",
       "  <tbody>\n",
       "    <tr>\n",
       "      <th>0</th>\n",
       "      <td>NaN</td>\n",
       "      <td>acc_1</td>\n",
       "      <td>acc_2</td>\n",
       "      <td>acc_3</td>\n",
       "      <td>acc_6</td>\n",
       "      <td>before_mean_acc</td>\n",
       "      <td>after_mean_acc</td>\n",
       "    </tr>\n",
       "    <tr>\n",
       "      <th>1</th>\n",
       "      <td>0.0</td>\n",
       "      <td>0.9417</td>\n",
       "      <td>0.943</td>\n",
       "      <td>0.9406</td>\n",
       "      <td>0.9423</td>\n",
       "      <td>0.9512</td>\n",
       "      <td>0.9511</td>\n",
       "    </tr>\n",
       "    <tr>\n",
       "      <th>2</th>\n",
       "      <td>NaN</td>\n",
       "      <td>acc_1</td>\n",
       "      <td>acc_2</td>\n",
       "      <td>acc_5</td>\n",
       "      <td>acc_8</td>\n",
       "      <td>before_mean_acc</td>\n",
       "      <td>after_mean_acc</td>\n",
       "    </tr>\n",
       "    <tr>\n",
       "      <th>3</th>\n",
       "      <td>0.0</td>\n",
       "      <td>0.9417</td>\n",
       "      <td>0.943</td>\n",
       "      <td>0.9449</td>\n",
       "      <td>0.9409</td>\n",
       "      <td>0.9514</td>\n",
       "      <td>0.9515</td>\n",
       "    </tr>\n",
       "    <tr>\n",
       "      <th>4</th>\n",
       "      <td>NaN</td>\n",
       "      <td>acc_2</td>\n",
       "      <td>acc_3</td>\n",
       "      <td>acc_5</td>\n",
       "      <td>acc_8</td>\n",
       "      <td>before_mean_acc</td>\n",
       "      <td>after_mean_acc</td>\n",
       "    </tr>\n",
       "    <tr>\n",
       "      <th>5</th>\n",
       "      <td>0.0</td>\n",
       "      <td>0.943</td>\n",
       "      <td>0.9406</td>\n",
       "      <td>0.9449</td>\n",
       "      <td>0.9409</td>\n",
       "      <td>0.9489</td>\n",
       "      <td>0.9491</td>\n",
       "    </tr>\n",
       "    <tr>\n",
       "      <th>6</th>\n",
       "      <td>NaN</td>\n",
       "      <td>acc_3</td>\n",
       "      <td>acc_4</td>\n",
       "      <td>acc_5</td>\n",
       "      <td>acc_7</td>\n",
       "      <td>before_mean_acc</td>\n",
       "      <td>after_mean_acc</td>\n",
       "    </tr>\n",
       "    <tr>\n",
       "      <th>7</th>\n",
       "      <td>0.0</td>\n",
       "      <td>0.9406</td>\n",
       "      <td>0.943</td>\n",
       "      <td>0.9449</td>\n",
       "      <td>0.9408</td>\n",
       "      <td>0.9514</td>\n",
       "      <td>0.9523</td>\n",
       "    </tr>\n",
       "  </tbody>\n",
       "</table>\n",
       "</div>"
      ],
      "text/plain": [
       "     0       1       2       3       4                5               6\n",
       "0  NaN   acc_1   acc_2   acc_3   acc_6  before_mean_acc  after_mean_acc\n",
       "1  0.0  0.9417   0.943  0.9406  0.9423           0.9512          0.9511\n",
       "2  NaN   acc_1   acc_2   acc_5   acc_8  before_mean_acc  after_mean_acc\n",
       "3  0.0  0.9417   0.943  0.9449  0.9409           0.9514          0.9515\n",
       "4  NaN   acc_2   acc_3   acc_5   acc_8  before_mean_acc  after_mean_acc\n",
       "5  0.0   0.943  0.9406  0.9449  0.9409           0.9489          0.9491\n",
       "6  NaN   acc_3   acc_4   acc_5   acc_7  before_mean_acc  after_mean_acc\n",
       "7  0.0  0.9406   0.943  0.9449  0.9408           0.9514          0.9523"
      ]
     },
     "execution_count": 3,
     "metadata": {},
     "output_type": "execute_result"
    }
   ],
   "source": [
    "df"
   ]
  },
  {
   "cell_type": "code",
   "execution_count": 11,
   "metadata": {},
   "outputs": [],
   "source": [
    "val_idx = []\n",
    "for i in range(len(df.index)):\n",
    "    if i % 2 == 0:\n",
    "        val_idx.append(False)\n",
    "    else:\n",
    "        val_idx.append(True)\n",
    "        \n",
    "df_acc = df.iloc[val_idx].astype('float32')"
   ]
  },
  {
   "cell_type": "code",
   "execution_count": 12,
   "metadata": {},
   "outputs": [
    {
     "data": {
      "text/plain": [
       "0.9510000348091125"
      ]
     },
     "execution_count": 12,
     "metadata": {},
     "output_type": "execute_result"
    }
   ],
   "source": [
    "df_acc.iloc[:, 6].mean()"
   ]
  },
  {
   "cell_type": "code",
   "execution_count": 13,
   "metadata": {},
   "outputs": [],
   "source": [
    "df_vb = pd.read_csv('results/vb-mnist-fcn-test.csv', header=None)"
   ]
  },
  {
   "cell_type": "code",
   "execution_count": 14,
   "metadata": {},
   "outputs": [
    {
     "data": {
      "text/html": [
       "<div>\n",
       "<style scoped>\n",
       "    .dataframe tbody tr th:only-of-type {\n",
       "        vertical-align: middle;\n",
       "    }\n",
       "\n",
       "    .dataframe tbody tr th {\n",
       "        vertical-align: top;\n",
       "    }\n",
       "\n",
       "    .dataframe thead th {\n",
       "        text-align: right;\n",
       "    }\n",
       "</style>\n",
       "<table border=\"1\" class=\"dataframe\">\n",
       "  <thead>\n",
       "    <tr style=\"text-align: right;\">\n",
       "      <th></th>\n",
       "      <th>0</th>\n",
       "      <th>1</th>\n",
       "      <th>2</th>\n",
       "      <th>3</th>\n",
       "      <th>4</th>\n",
       "    </tr>\n",
       "  </thead>\n",
       "  <tbody>\n",
       "    <tr>\n",
       "      <th>0</th>\n",
       "      <td>NaN</td>\n",
       "      <td>acc_1</td>\n",
       "      <td>acc_2</td>\n",
       "      <td>ensemble_acc</td>\n",
       "      <td>message</td>\n",
       "    </tr>\n",
       "    <tr>\n",
       "      <th>1</th>\n",
       "      <td>0.0</td>\n",
       "      <td>0.9453</td>\n",
       "      <td>0.9435</td>\n",
       "      <td>0.9507</td>\n",
       "      <td>NaN</td>\n",
       "    </tr>\n",
       "    <tr>\n",
       "      <th>2</th>\n",
       "      <td>NaN</td>\n",
       "      <td>acc_1</td>\n",
       "      <td>acc_2</td>\n",
       "      <td>ensemble_acc</td>\n",
       "      <td>message</td>\n",
       "    </tr>\n",
       "    <tr>\n",
       "      <th>3</th>\n",
       "      <td>0.0</td>\n",
       "      <td>0.9453</td>\n",
       "      <td>0.9435</td>\n",
       "      <td>0.9507</td>\n",
       "      <td>this is a test</td>\n",
       "    </tr>\n",
       "  </tbody>\n",
       "</table>\n",
       "</div>"
      ],
      "text/plain": [
       "     0       1       2             3               4\n",
       "0  NaN   acc_1   acc_2  ensemble_acc         message\n",
       "1  0.0  0.9453  0.9435        0.9507             NaN\n",
       "2  NaN   acc_1   acc_2  ensemble_acc         message\n",
       "3  0.0  0.9453  0.9435        0.9507  this is a test"
      ]
     },
     "execution_count": 14,
     "metadata": {},
     "output_type": "execute_result"
    }
   ],
   "source": [
    "df_vb"
   ]
  },
  {
   "cell_type": "code",
   "execution_count": 18,
   "metadata": {},
   "outputs": [],
   "source": [
    "val_idx_vb = []\n",
    "for i in range(len(df_vb.index)):\n",
    "    if i % 2 == 0:\n",
    "        val_idx_vb.append(False)\n",
    "    else:\n",
    "        val_idx_vb.append(True)\n",
    "        \n",
    "df_vb_acc = df_vb.iloc[val_idx_vb, :4].astype('float32')"
   ]
  },
  {
   "cell_type": "code",
   "execution_count": 20,
   "metadata": {},
   "outputs": [
    {
     "data": {
      "text/plain": [
       "0.9506999850273132"
      ]
     },
     "execution_count": 20,
     "metadata": {},
     "output_type": "execute_result"
    }
   ],
   "source": [
    "df_vb_acc.iloc[:, 3].mean()"
   ]
  },
  {
   "cell_type": "code",
   "execution_count": null,
   "metadata": {},
   "outputs": [],
   "source": []
  }
 ],
 "metadata": {
  "kernelspec": {
   "display_name": "Python 3",
   "language": "python",
   "name": "python3"
  },
  "language_info": {
   "codemirror_mode": {
    "name": "ipython",
    "version": 3
   },
   "file_extension": ".py",
   "mimetype": "text/x-python",
   "name": "python",
   "nbconvert_exporter": "python",
   "pygments_lexer": "ipython3",
   "version": "3.6.8"
  }
 },
 "nbformat": 4,
 "nbformat_minor": 2
}
