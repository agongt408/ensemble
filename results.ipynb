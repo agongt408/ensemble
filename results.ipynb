{
 "cells": [
  {
   "cell_type": "code",
   "execution_count": 1,
   "metadata": {},
   "outputs": [],
   "source": [
    "import numpy as np\n",
    "import pandas as pd\n",
    "import matplotlib.pyplot as plt"
   ]
  },
  {
   "cell_type": "code",
   "execution_count": 48,
   "metadata": {},
   "outputs": [],
   "source": [
    "architecture = 'cnn'"
   ]
  },
  {
   "cell_type": "code",
   "execution_count": 49,
   "metadata": {},
   "outputs": [],
   "source": [
    "df = pd.read_csv('results/mnist-{}-test.csv'.format(architecture), header=None)"
   ]
  },
  {
   "cell_type": "code",
   "execution_count": 50,
   "metadata": {},
   "outputs": [
    {
     "data": {
      "text/html": [
       "<div>\n",
       "<style scoped>\n",
       "    .dataframe tbody tr th:only-of-type {\n",
       "        vertical-align: middle;\n",
       "    }\n",
       "\n",
       "    .dataframe tbody tr th {\n",
       "        vertical-align: top;\n",
       "    }\n",
       "\n",
       "    .dataframe thead th {\n",
       "        text-align: right;\n",
       "    }\n",
       "</style>\n",
       "<table border=\"1\" class=\"dataframe\">\n",
       "  <thead>\n",
       "    <tr style=\"text-align: right;\">\n",
       "      <th></th>\n",
       "      <th>0</th>\n",
       "      <th>1</th>\n",
       "      <th>2</th>\n",
       "      <th>3</th>\n",
       "      <th>4</th>\n",
       "      <th>5</th>\n",
       "      <th>6</th>\n",
       "    </tr>\n",
       "  </thead>\n",
       "  <tbody>\n",
       "    <tr>\n",
       "      <th>0</th>\n",
       "      <td>NaN</td>\n",
       "      <td>acc_5</td>\n",
       "      <td>acc_6</td>\n",
       "      <td>after_mean_acc</td>\n",
       "      <td>before_mean_acc</td>\n",
       "      <td>loss_5</td>\n",
       "      <td>loss_6</td>\n",
       "    </tr>\n",
       "    <tr>\n",
       "      <th>1</th>\n",
       "      <td>0.0</td>\n",
       "      <td>0.9796</td>\n",
       "      <td>0.9774</td>\n",
       "      <td>0.9832</td>\n",
       "      <td>0.983</td>\n",
       "      <td>0.07258905</td>\n",
       "      <td>0.067771524</td>\n",
       "    </tr>\n",
       "    <tr>\n",
       "      <th>2</th>\n",
       "      <td>NaN</td>\n",
       "      <td>acc_3</td>\n",
       "      <td>acc_4</td>\n",
       "      <td>after_mean_acc</td>\n",
       "      <td>before_mean_acc</td>\n",
       "      <td>loss_3</td>\n",
       "      <td>loss_4</td>\n",
       "    </tr>\n",
       "    <tr>\n",
       "      <th>3</th>\n",
       "      <td>0.0</td>\n",
       "      <td>0.9679</td>\n",
       "      <td>0.977</td>\n",
       "      <td>0.9815</td>\n",
       "      <td>0.9815</td>\n",
       "      <td>0.1068725</td>\n",
       "      <td>0.071642034</td>\n",
       "    </tr>\n",
       "    <tr>\n",
       "      <th>4</th>\n",
       "      <td>NaN</td>\n",
       "      <td>acc_5</td>\n",
       "      <td>acc_8</td>\n",
       "      <td>after_mean_acc</td>\n",
       "      <td>before_mean_acc</td>\n",
       "      <td>loss_5</td>\n",
       "      <td>loss_8</td>\n",
       "    </tr>\n",
       "    <tr>\n",
       "      <th>5</th>\n",
       "      <td>0.0</td>\n",
       "      <td>0.9796</td>\n",
       "      <td>0.9668</td>\n",
       "      <td>0.979</td>\n",
       "      <td>0.9794</td>\n",
       "      <td>0.07258905</td>\n",
       "      <td>0.11336382</td>\n",
       "    </tr>\n",
       "    <tr>\n",
       "      <th>6</th>\n",
       "      <td>NaN</td>\n",
       "      <td>acc_6</td>\n",
       "      <td>acc_8</td>\n",
       "      <td>after_mean_acc</td>\n",
       "      <td>before_mean_acc</td>\n",
       "      <td>loss_6</td>\n",
       "      <td>loss_8</td>\n",
       "    </tr>\n",
       "    <tr>\n",
       "      <th>7</th>\n",
       "      <td>0.0</td>\n",
       "      <td>0.9774</td>\n",
       "      <td>0.9668</td>\n",
       "      <td>0.981</td>\n",
       "      <td>0.9812</td>\n",
       "      <td>0.067771524</td>\n",
       "      <td>0.11336382</td>\n",
       "    </tr>\n",
       "    <tr>\n",
       "      <th>8</th>\n",
       "      <td>NaN</td>\n",
       "      <td>acc_1</td>\n",
       "      <td>acc_3</td>\n",
       "      <td>after_mean_acc</td>\n",
       "      <td>before_mean_acc</td>\n",
       "      <td>loss_1</td>\n",
       "      <td>loss_3</td>\n",
       "    </tr>\n",
       "    <tr>\n",
       "      <th>9</th>\n",
       "      <td>0.0</td>\n",
       "      <td>0.9721</td>\n",
       "      <td>0.9679</td>\n",
       "      <td>0.9793</td>\n",
       "      <td>0.9794</td>\n",
       "      <td>0.08363106</td>\n",
       "      <td>0.1068725</td>\n",
       "    </tr>\n",
       "    <tr>\n",
       "      <th>10</th>\n",
       "      <td>NaN</td>\n",
       "      <td>acc_7</td>\n",
       "      <td>acc_8</td>\n",
       "      <td>after_mean_acc</td>\n",
       "      <td>before_mean_acc</td>\n",
       "      <td>loss_7</td>\n",
       "      <td>loss_8</td>\n",
       "    </tr>\n",
       "    <tr>\n",
       "      <th>11</th>\n",
       "      <td>0.0</td>\n",
       "      <td>0.9727</td>\n",
       "      <td>0.9668</td>\n",
       "      <td>0.9784</td>\n",
       "      <td>0.979</td>\n",
       "      <td>0.09136664</td>\n",
       "      <td>0.11336382</td>\n",
       "    </tr>\n",
       "    <tr>\n",
       "      <th>12</th>\n",
       "      <td>NaN</td>\n",
       "      <td>acc_6</td>\n",
       "      <td>acc_8</td>\n",
       "      <td>after_mean_acc</td>\n",
       "      <td>before_mean_acc</td>\n",
       "      <td>loss_6</td>\n",
       "      <td>loss_8</td>\n",
       "    </tr>\n",
       "    <tr>\n",
       "      <th>13</th>\n",
       "      <td>0.0</td>\n",
       "      <td>0.9774</td>\n",
       "      <td>0.9668</td>\n",
       "      <td>0.981</td>\n",
       "      <td>0.9812</td>\n",
       "      <td>0.067771524</td>\n",
       "      <td>0.11336382</td>\n",
       "    </tr>\n",
       "    <tr>\n",
       "      <th>14</th>\n",
       "      <td>NaN</td>\n",
       "      <td>acc_2</td>\n",
       "      <td>acc_6</td>\n",
       "      <td>after_mean_acc</td>\n",
       "      <td>before_mean_acc</td>\n",
       "      <td>loss_2</td>\n",
       "      <td>loss_6</td>\n",
       "    </tr>\n",
       "    <tr>\n",
       "      <th>15</th>\n",
       "      <td>0.0</td>\n",
       "      <td>0.9713</td>\n",
       "      <td>0.9774</td>\n",
       "      <td>0.9825</td>\n",
       "      <td>0.9828</td>\n",
       "      <td>0.09279309</td>\n",
       "      <td>0.067771524</td>\n",
       "    </tr>\n",
       "  </tbody>\n",
       "</table>\n",
       "</div>"
      ],
      "text/plain": [
       "      0       1       2               3                4            5  \\\n",
       "0   NaN   acc_5   acc_6  after_mean_acc  before_mean_acc       loss_5   \n",
       "1   0.0  0.9796  0.9774          0.9832            0.983   0.07258905   \n",
       "2   NaN   acc_3   acc_4  after_mean_acc  before_mean_acc       loss_3   \n",
       "3   0.0  0.9679   0.977          0.9815           0.9815    0.1068725   \n",
       "4   NaN   acc_5   acc_8  after_mean_acc  before_mean_acc       loss_5   \n",
       "5   0.0  0.9796  0.9668           0.979           0.9794   0.07258905   \n",
       "6   NaN   acc_6   acc_8  after_mean_acc  before_mean_acc       loss_6   \n",
       "7   0.0  0.9774  0.9668           0.981           0.9812  0.067771524   \n",
       "8   NaN   acc_1   acc_3  after_mean_acc  before_mean_acc       loss_1   \n",
       "9   0.0  0.9721  0.9679          0.9793           0.9794   0.08363106   \n",
       "10  NaN   acc_7   acc_8  after_mean_acc  before_mean_acc       loss_7   \n",
       "11  0.0  0.9727  0.9668          0.9784            0.979   0.09136664   \n",
       "12  NaN   acc_6   acc_8  after_mean_acc  before_mean_acc       loss_6   \n",
       "13  0.0  0.9774  0.9668           0.981           0.9812  0.067771524   \n",
       "14  NaN   acc_2   acc_6  after_mean_acc  before_mean_acc       loss_2   \n",
       "15  0.0  0.9713  0.9774          0.9825           0.9828   0.09279309   \n",
       "\n",
       "              6  \n",
       "0        loss_6  \n",
       "1   0.067771524  \n",
       "2        loss_4  \n",
       "3   0.071642034  \n",
       "4        loss_8  \n",
       "5    0.11336382  \n",
       "6        loss_8  \n",
       "7    0.11336382  \n",
       "8        loss_3  \n",
       "9     0.1068725  \n",
       "10       loss_8  \n",
       "11   0.11336382  \n",
       "12       loss_8  \n",
       "13   0.11336382  \n",
       "14       loss_6  \n",
       "15  0.067771524  "
      ]
     },
     "execution_count": 50,
     "metadata": {},
     "output_type": "execute_result"
    }
   ],
   "source": [
    "df"
   ]
  },
  {
   "cell_type": "code",
   "execution_count": 51,
   "metadata": {},
   "outputs": [
    {
     "name": "stdout",
     "output_type": "stream",
     "text": [
      "0.9809375\n"
     ]
    }
   ],
   "source": [
    "avg_acc = df.iloc[range(1, len(df.index)+1, 2), 4].astype('float32').mean()\n",
    "print(avg_acc)"
   ]
  },
  {
   "cell_type": "code",
   "execution_count": 52,
   "metadata": {},
   "outputs": [
    {
     "name": "stdout",
     "output_type": "stream",
     "text": [
      "0.9730999991297722\n"
     ]
    }
   ],
   "source": [
    "val_acc = []\n",
    "for i in range(8):\n",
    "    df = pd.read_csv('results/mnist-{}_{}-train.csv'.format(architecture, i+1))\n",
    "    val_acc.append(df.iloc[-1]['val_acc'])\n",
    "baseline = np.mean(val_acc)\n",
    "print(baseline)"
   ]
  },
  {
   "cell_type": "code",
   "execution_count": 53,
   "metadata": {},
   "outputs": [
    {
     "name": "stdout",
     "output_type": "stream",
     "text": [
      "0 [0.9821000099182128, 0.9819999933242798, 0.9819999933242798, 0.9753999710083008]\n",
      "0.25 [0.9803000092506408, 0.977500021457672, 0.9818999767303468, 0.981599986553192]\n",
      "0.5 [0.97979998588562, 0.9782999753952026, 0.9800000190734864, 0.9776999950408936]\n",
      "0.75 [0.9810000061988832, 0.9771000146865844, 0.9800999760627748, 0.9785000085830688]\n",
      "1 [0.977500021457672, 0.9801999926567078, 0.9729999899864196, 0.9793999791145324]\n"
     ]
    }
   ],
   "source": [
    "results = {}\n",
    "results_std = {}\n",
    "for frac in [0, 0.25, 0.5, 0.75, 1]:\n",
    "    val_acc = []\n",
    "    for i in range(4):\n",
    "        df = pd.read_csv('results/vb-mnist-{}-B2-S{:.2f}_{}-train.csv'.format(architecture, frac, i+1))\n",
    "        val_acc.append(df.iloc[-1]['val_acc'])\n",
    "    print(frac, val_acc)\n",
    "    results[frac] = np.mean(val_acc)\n",
    "    results_std[frac] = np.std(val_acc)"
   ]
  },
  {
   "cell_type": "code",
   "execution_count": 54,
   "metadata": {},
   "outputs": [
    {
     "data": {
      "text/plain": [
       "{0: 0.9803749918937683,\n",
       " 0.25: 0.980324998497963,\n",
       " 0.5: 0.9789499938488007,\n",
       " 0.75: 0.9791750013828278,\n",
       " 1: 0.977524995803833}"
      ]
     },
     "execution_count": 54,
     "metadata": {},
     "output_type": "execute_result"
    }
   ],
   "source": [
    "results"
   ]
  },
  {
   "cell_type": "code",
   "execution_count": 55,
   "metadata": {},
   "outputs": [
    {
     "data": {
      "image/png": "[encoded data removed]",
      "text/plain": [
       "<Figure size 432x288 with 1 Axes>"
      ]
     },
     "metadata": {
      "needs_background": "light"
     },
     "output_type": "display_data"
    }
   ],
   "source": [
    "results_list = list(results.items())\n",
    "results_list.sort()\n",
    "results_list = np.array(results_list)\n",
    "\n",
    "plt.plot(results_list[:, 0], results_list[:,1], label='vbranch', color='blue')\n",
    "trials = 4\n",
    "error = np.sort(np.array(list(results_std.items())), 0)[:, 1] / np.sqrt(trials)\n",
    "plt.errorbar(results_list[:, 0], results_list[:,1], error*2)\n",
    "\n",
    "plt.plot(results_list[:, 0], [avg_acc]*len(results_list), label='ensemble', linestyle='--')\n",
    "plt.plot(results_list[:, 0], [baseline]*len(results_list), label='baseline', linestyle='--')\n",
    "# plt.ylim(0.94, 0.96)\n",
    "plt.ylim(0.97, 0.985)\n",
    "\n",
    "plt.legend()\n",
    "plt.xlabel('shared frac')\n",
    "plt.ylabel('acc')\n",
    "plt.title('{} acc +/- 2*SEM'.format(architecture.upper()))\n",
    "\n",
    "plt.savefig('figs/{}-results.png'.format(architecture))\n",
    "plt.show()"
   ]
  },
  {
   "cell_type": "code",
   "execution_count": null,
   "metadata": {},
   "outputs": [],
   "source": []
  }
 ],
 "metadata": {
  "kernelspec": {
   "display_name": "Python 3",
   "language": "python",
   "name": "python3"
  },
  "language_info": {
   "codemirror_mode": {
    "name": "ipython",
    "version": 3
   },
   "file_extension": ".py",
   "mimetype": "text/x-python",
   "name": "python",
   "nbconvert_exporter": "python",
   "pygments_lexer": "ipython3",
   "version": "3.5.6"
  }
 },
 "nbformat": 4,
 "nbformat_minor": 2
}
