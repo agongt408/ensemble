{
 "cells": [
  {
   "cell_type": "markdown",
   "metadata": {},
   "source": [
    "# Make Results Figures"
   ]
  },
  {
   "cell_type": "code",
   "execution_count": 1,
   "metadata": {},
   "outputs": [],
   "source": [
    "import numpy as np\n",
    "import pandas as pd\n",
    "import matplotlib.pyplot as plt"
   ]
  },
  {
   "cell_type": "code",
   "execution_count": 12,
   "metadata": {},
   "outputs": [],
   "source": [
    "dataset = 'omniglot'\n",
    "architecture = 'simple'\n",
    "branches = 2"
   ]
  },
  {
   "cell_type": "markdown",
   "metadata": {},
   "source": [
    "## Ensemble"
   ]
  },
  {
   "cell_type": "code",
   "execution_count": 3,
   "metadata": {},
   "outputs": [],
   "source": [
    "# df = pd.read_csv('results/{}-{}/B{}-test.csv'.format(dataset, architecture, branches), header=None)"
   ]
  },
  {
   "cell_type": "code",
   "execution_count": 4,
   "metadata": {},
   "outputs": [],
   "source": [
    "# df"
   ]
  },
  {
   "cell_type": "code",
   "execution_count": 5,
   "metadata": {},
   "outputs": [],
   "source": [
    "# mean_acc = df.iloc[range(1, len(df.index)+1, 2), 2].astype('float32').mean()\n",
    "# print(mean_acc)"
   ]
  },
  {
   "cell_type": "code",
   "execution_count": 6,
   "metadata": {},
   "outputs": [],
   "source": [
    "# concat_acc = df.iloc[range(1, len(df.index)+1, 2), 1].astype('float32').mean()\n",
    "# print(concat_acc)"
   ]
  },
  {
   "cell_type": "markdown",
   "metadata": {},
   "source": [
    "## Baseline"
   ]
  },
  {
   "cell_type": "code",
   "execution_count": 16,
   "metadata": {},
   "outputs": [],
   "source": [
    "baseline_acc = []\n",
    "for i in range(1):\n",
    "    df = pd.read_csv('results/{}-{}/train_{}.csv'.format(dataset, architecture, i+1))\n",
    "    baseline_acc.append(df['acc'].iloc[-1])\n",
    "baseline_acc = np.mean(baseline_acc)"
   ]
  },
  {
   "cell_type": "code",
   "execution_count": 17,
   "metadata": {},
   "outputs": [
    {
     "name": "stdout",
     "output_type": "stream",
     "text": [
      "[0.8299999999999998]\n"
     ]
    }
   ],
   "source": [
    "print(baseline_acc_list)"
   ]
  },
  {
   "cell_type": "markdown",
   "metadata": {},
   "source": [
    "## Virtual Branching"
   ]
  },
  {
   "cell_type": "code",
   "execution_count": 18,
   "metadata": {},
   "outputs": [],
   "source": [
    "vbranch_acc = []\n",
    "shared_frac_list = [0, 0.25, 0.5, 0.75, 1]\n",
    "\n",
    "for frac in shared_frac_list:\n",
    "    arr = []\n",
    "    for i in range(1):\n",
    "        df = pd.read_csv('results/vb-{}-{}/B{}/S{:.2f}/train_{}.csv'.format(\n",
    "                dataset,architecture, branches, frac, i+1))\n",
    "        arr.append(df['acc_ensemble'].iloc[-1])\n",
    "    vbranch_acc.append(np.mean(arr))"
   ]
  },
  {
   "cell_type": "code",
   "execution_count": 19,
   "metadata": {},
   "outputs": [
    {
     "data": {
      "text/plain": [
       "[0.8375, 0.825, 0.835, 0.8574999999999999, 0.85]"
      ]
     },
     "execution_count": 19,
     "metadata": {},
     "output_type": "execute_result"
    }
   ],
   "source": [
    "vbranch_acc"
   ]
  },
  {
   "cell_type": "markdown",
   "metadata": {},
   "source": [
    "## Create Figure"
   ]
  },
  {
   "cell_type": "code",
   "execution_count": 20,
   "metadata": {},
   "outputs": [
    {
     "data": {
      "image/png": "[encoded data removed]",
      "text/plain": [
       "<Figure size 432x288 with 1 Axes>"
      ]
     },
     "metadata": {
      "needs_background": "light"
     },
     "output_type": "display_data"
    }
   ],
   "source": [
    "plt.plot(shared_frac_list, vbranch_acc, label='vbranch', color='blue')\n",
    "# plt.plot(results_concat_list[:, 0], [concat_acc]*len(results_concat_list), label='ensemble', linestyle='--')\n",
    "\n",
    "plt.plot(shared_frac_list, [baseline_acc]*len(shared_frac_list), label='baseline', linestyle='--')\n",
    "\n",
    "plt.legend()\n",
    "plt.xlabel('shared frac')\n",
    "plt.ylabel('acc')\n",
    "plt.title('{}: {} x{} acc'.format(dataset, architecture, branches))\n",
    "\n",
    "plt.savefig('figs/{}-{}-{}-{}-results.png'.format(dataset, architecture, branches, method))\n",
    "plt.show()"
   ]
  },
  {
   "cell_type": "code",
   "execution_count": null,
   "metadata": {},
   "outputs": [],
   "source": []
  }
 ],
 "metadata": {
  "kernelspec": {
   "display_name": "Python 3",
   "language": "python",
   "name": "python3"
  },
  "language_info": {
   "codemirror_mode": {
    "name": "ipython",
    "version": 3
   },
   "file_extension": ".py",
   "mimetype": "text/x-python",
   "name": "python",
   "nbconvert_exporter": "python",
   "pygments_lexer": "ipython3",
   "version": "3.5.6"
  }
 },
 "nbformat": 4,
 "nbformat_minor": 2
}
