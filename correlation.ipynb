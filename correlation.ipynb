{
 "cells": [
  {
   "cell_type": "markdown",
   "metadata": {},
   "source": [
    "# Virtual Branch Correlation"
   ]
  },
  {
   "cell_type": "code",
   "execution_count": 1,
   "metadata": {},
   "outputs": [],
   "source": [
    "import tensorflow as tf\n",
    "import numpy as np\n",
    "import matplotlib.pyplot as plt\n",
    "import os"
   ]
  },
  {
   "cell_type": "code",
   "execution_count": 2,
   "metadata": {},
   "outputs": [],
   "source": [
    "import vbranch as vb\n",
    "from vbranch.utils.training_utils import get_data\n",
    "from vbranch.utils.test_utils import compute_acc\n",
    "from experiments.classification.baseline import _model_path\n",
    "from experiments.classification.vbranch import _model_path as _vb_model_path"
   ]
  },
  {
   "cell_type": "code",
   "execution_count": 3,
   "metadata": {},
   "outputs": [],
   "source": [
    "arch = 'fcn'\n",
    "dataset = 'mnist'\n",
    "n_classes = 10\n",
    "n_features = None\n",
    "samples_per_class = None"
   ]
  },
  {
   "cell_type": "code",
   "execution_count": 4,
   "metadata": {},
   "outputs": [],
   "source": [
    "_, (X_test, y_test) = get_data(dataset, arch, n_classes, n_features, samples_per_class, one_hot=False)\n",
    "y_test_one_hot = tf.keras.utils.to_categorical(y_test, n_classes)"
   ]
  },
  {
   "cell_type": "markdown",
   "metadata": {},
   "source": [
    "## Baseline"
   ]
  },
  {
   "cell_type": "code",
   "execution_count": 5,
   "metadata": {},
   "outputs": [],
   "source": [
    "model_id_list = range(1, 9)\n",
    "output_list = []\n",
    "acc_list = []\n",
    "pred_list = []"
   ]
  },
  {
   "cell_type": "code",
   "execution_count": 6,
   "metadata": {},
   "outputs": [
    {
     "name": "stdout",
     "output_type": "stream",
     "text": [
      "WARNING:tensorflow:From /home/gong/anaconda3/lib/python3.5/site-packages/tensorflow/python/training/saver.py:1266: checkpoint_exists (from tensorflow.python.training.checkpoint_management) is deprecated and will be removed in a future version.\n",
      "Instructions for updating:\n",
      "Use standard file APIs to check for files with this prefix.\n",
      "INFO:tensorflow:Restoring parameters from models/mnist-fcn/model_1/ckpt\n",
      "INFO:tensorflow:Restoring parameters from models/mnist-fcn/model_2/ckpt\n",
      "INFO:tensorflow:Restoring parameters from models/mnist-fcn/model_3/ckpt\n",
      "INFO:tensorflow:Restoring parameters from models/mnist-fcn/model_4/ckpt\n",
      "INFO:tensorflow:Restoring parameters from models/mnist-fcn/model_5/ckpt\n",
      "INFO:tensorflow:Restoring parameters from models/mnist-fcn/model_6/ckpt\n",
      "INFO:tensorflow:Restoring parameters from models/mnist-fcn/model_7/ckpt\n",
      "INFO:tensorflow:Restoring parameters from models/mnist-fcn/model_8/ckpt\n"
     ]
    }
   ],
   "source": [
    "for model_id in model_id_list:\n",
    "    tf.reset_default_graph()\n",
    "\n",
    "    with tf.Session() as sess:\n",
    "        model_path = _model_path(dataset, arch, n_classes, samples_per_class, model_id)\n",
    "        meta_path = os.path.join(model_path, 'ckpt.meta')\n",
    "        ckpt = tf.train.get_checkpoint_state(model_path)\n",
    "\n",
    "        imported_graph = tf.train.import_meta_graph(meta_path)\n",
    "        imported_graph.restore(sess, ckpt.model_checkpoint_path)\n",
    "\n",
    "        output = sess.run('model_{}_1/output:0'.format(model_id),\n",
    "            feed_dict={'x_test:0':X_test})\n",
    "\n",
    "    # Compute accuracy outside of the graph\n",
    "    acc = compute_acc(output, y_test_one_hot, n_classes)\n",
    "    pred = np.argmax(output, axis=1)\n",
    "\n",
    "    output_list.append(output)\n",
    "    acc_list.append(acc)\n",
    "    pred_list.append(pred)"
   ]
  },
  {
   "cell_type": "code",
   "execution_count": 7,
   "metadata": {},
   "outputs": [
    {
     "data": {
      "text/plain": [
       "[0.9413, 0.9482, 0.9472, 0.9429, 0.9455, 0.9448, 0.9434, 0.9454]"
      ]
     },
     "execution_count": 7,
     "metadata": {},
     "output_type": "execute_result"
    }
   ],
   "source": [
    "acc_list"
   ]
  },
  {
   "cell_type": "code",
   "execution_count": 10,
   "metadata": {},
   "outputs": [],
   "source": [
    "def j_hat(preds_per_model, labels, n_classes):\n",
    "    \"\"\"\n",
    "    preds: [samples, n_models]\n",
    "    Y: 1-D array\n",
    "    n_classes: scalar\n",
    "    \"\"\"\n",
    "    \n",
    "    hits_per_class = []\n",
    "    total = len(pred)\n",
    "    \n",
    "    for i in range(n_classes):\n",
    "        hits = np.sum(preds_per_model == i, axis=1)\n",
    "        hits_per_class.append(hits)\n",
    "    \n",
    "    hits_per_class = np.array(hits_per_class).transpose(1,0)\n",
    "    # return hits_per_class\n",
    "    \n",
    "    hits_per_class[range(labels.shape[0]), labels] = -1\n",
    "    \n",
    "    j_hat_list = np.argmax(hits_per_class, axis=1)\n",
    "    return j_hat_list\n",
    "\n",
    "def rmg(preds, labels, j):\n",
    "    \"\"\"Raw margin function\"\"\"\n",
    "    \n",
    "    result = (preds == labels).astype('int8') - (preds == j).astype('int8')\n",
    "    return result\n",
    "\n",
    "def margin(preds_per_model, labels, j):\n",
    "    hit = (preds_per_model == labels).astype('int8')\n",
    "    miss = (preds_per_model == j).astype('int8')\n",
    "    result_per_model = hit - miss\n",
    "    return np.mean(result_per_model, axis=1)"
   ]
  },
  {
   "cell_type": "code",
   "execution_count": 11,
   "metadata": {},
   "outputs": [],
   "source": [
    "def compute_correlation_strength(preds, labels, n_classes, n_models):\n",
    "    j_list = j_hat(preds, labels, n_classes)\n",
    "\n",
    "    rmg_list = []\n",
    "    for i in range(n_models):\n",
    "        rmg_list.append(rmg(preds[:, i], labels, j_list))\n",
    "\n",
    "    std_list = [np.std(x) for x in rmg_list]\n",
    "\n",
    "    num_list = []\n",
    "    dem_list = []\n",
    "\n",
    "    for i in range(n_models):\n",
    "        for j in range(i+1, n_models):\n",
    "            rho = np.corrcoef(rmg_list[0], rmg_list[1])[0,1]\n",
    "            num_list.append(rho * std_list[i] * std_list[j])\n",
    "            dem_list.append(std_list[i] * std_list[j])\n",
    "\n",
    "    mean_correlation = np.mean(num_list) / np.mean(dem_list)\n",
    "\n",
    "    strength_list = margin(preds, np.tile(labels[:, np.newaxis], [1,n_models]), \n",
    "                           np.tile(j_list[:, np.newaxis], [1,n_models]))\n",
    "    strength = np.mean(strength_list)\n",
    "\n",
    "    return mean_correlation, strength"
   ]
  },
  {
   "cell_type": "code",
   "execution_count": 26,
   "metadata": {},
   "outputs": [
    {
     "name": "stdout",
     "output_type": "stream",
     "text": [
      "Mean correlation: 0.6910488884916635\n",
      "Strength: 0.893675\n"
     ]
    }
   ],
   "source": [
    "baseline_mean_correlation, baseline_strength = compute_correlation_strength(np.array(pred_list).transpose(1,0), \n",
    "                                                                            y_test, n_classes, len(model_id_list))\n",
    "\n",
    "print('Mean correlation:', baseline_mean_correlation)\n",
    "print('Strength:' , baseline_strength)"
   ]
  },
  {
   "cell_type": "markdown",
   "metadata": {},
   "source": [
    "## Virtual Branching"
   ]
  },
  {
   "cell_type": "code",
   "execution_count": 16,
   "metadata": {},
   "outputs": [
    {
     "name": "stdout",
     "output_type": "stream",
     "text": [
      "INFO:tensorflow:Restoring parameters from models/vb-mnist-fcn/B4/S0.00/model_1/ckpt\n",
      "INFO:tensorflow:Restoring parameters from models/vb-mnist-fcn/B4/S0.00/model_2/ckpt\n",
      "INFO:tensorflow:Restoring parameters from models/vb-mnist-fcn/B4/S0.00/model_3/ckpt\n",
      "INFO:tensorflow:Restoring parameters from models/vb-mnist-fcn/B4/S0.00/model_4/ckpt\n",
      "INFO:tensorflow:Restoring parameters from models/vb-mnist-fcn/B4/S0.25/model_1/ckpt\n",
      "INFO:tensorflow:Restoring parameters from models/vb-mnist-fcn/B4/S0.25/model_2/ckpt\n",
      "INFO:tensorflow:Restoring parameters from models/vb-mnist-fcn/B4/S0.25/model_3/ckpt\n",
      "INFO:tensorflow:Restoring parameters from models/vb-mnist-fcn/B4/S0.25/model_4/ckpt\n",
      "INFO:tensorflow:Restoring parameters from models/vb-mnist-fcn/B4/S0.50/model_1/ckpt\n",
      "INFO:tensorflow:Restoring parameters from models/vb-mnist-fcn/B4/S0.50/model_2/ckpt\n",
      "INFO:tensorflow:Restoring parameters from models/vb-mnist-fcn/B4/S0.50/model_3/ckpt\n",
      "INFO:tensorflow:Restoring parameters from models/vb-mnist-fcn/B4/S0.50/model_4/ckpt\n",
      "INFO:tensorflow:Restoring parameters from models/vb-mnist-fcn/B4/S0.75/model_1/ckpt\n",
      "INFO:tensorflow:Restoring parameters from models/vb-mnist-fcn/B4/S0.75/model_2/ckpt\n",
      "INFO:tensorflow:Restoring parameters from models/vb-mnist-fcn/B4/S0.75/model_3/ckpt\n",
      "INFO:tensorflow:Restoring parameters from models/vb-mnist-fcn/B4/S0.75/model_4/ckpt\n",
      "INFO:tensorflow:Restoring parameters from models/vb-mnist-fcn/B4/S1.00/model_1/ckpt\n",
      "INFO:tensorflow:Restoring parameters from models/vb-mnist-fcn/B4/S1.00/model_2/ckpt\n",
      "INFO:tensorflow:Restoring parameters from models/vb-mnist-fcn/B4/S1.00/model_3/ckpt\n",
      "INFO:tensorflow:Restoring parameters from models/vb-mnist-fcn/B4/S1.00/model_4/ckpt\n"
     ]
    }
   ],
   "source": [
    "n_branches = 4\n",
    "# shared = 0.25\n",
    "# model_id = 3\n",
    "shared_frac_list = [0, 0.25, 0.5, 0.75, 1]\n",
    "\n",
    "shared_correlation_list = []\n",
    "shared_strength_list = []\n",
    "\n",
    "for shared in shared_frac_list:\n",
    "    mean_correlation_list = []\n",
    "    strength_list = []\n",
    "    \n",
    "    for model_id in range(1, 5):\n",
    "        model_path = _vb_model_path(dataset, arch, n_branches, shared, n_classes, \n",
    "                                 samples_per_class, model_id)\n",
    "\n",
    "        tensors = []\n",
    "        for i in range(n_branches):\n",
    "            if shared == 0:\n",
    "                t = 'model_{}_1/output_vb{}:0'.format(model_id, i+1)\n",
    "            else:\n",
    "                t = 'model_{}_1/output_{}:0'.format(model_id, i+1)\n",
    "            tensors.append(t)\n",
    "\n",
    "        tf.reset_default_graph()\n",
    "\n",
    "        with tf.Session() as sess:\n",
    "            meta_path = os.path.join(model_path, 'ckpt.meta')\n",
    "            ckpt = tf.train.get_checkpoint_state(model_path)\n",
    "\n",
    "            imported_graph = tf.train.import_meta_graph(meta_path)\n",
    "            imported_graph.restore(sess, ckpt.model_checkpoint_path)\n",
    "\n",
    "            outputs, acc = sess.run([tensors, 'acc_ensemble_1:0'], \n",
    "                                    feed_dict={'x_test:0': X_test, 'y_test:0': y_test_one_hot})\n",
    "            \n",
    "        preds = np.array([np.argmax(x, axis=1) for x in outputs]).transpose(1,0)\n",
    "        mean_correlation, strength = compute_correlation_strength(preds, y_test, n_classes, n_branches)\n",
    "        \n",
    "        mean_correlation_list.append(mean_correlation)\n",
    "        strength_list.append(strength)\n",
    "        \n",
    "    shared_correlation_list.append([np.mean(mean_correlation_list), np.std(mean_correlation_list)])\n",
    "    shared_strength_list.append([np.mean(strength_list), np.std(strength_list)])"
   ]
  },
  {
   "cell_type": "code",
   "execution_count": 29,
   "metadata": {},
   "outputs": [
    {
     "data": {
      "image/png": "[encoded data removed]",
      "text/plain": [
       "<Figure size 432x288 with 1 Axes>"
      ]
     },
     "metadata": {
      "needs_background": "light"
     },
     "output_type": "display_data"
    }
   ],
   "source": [
    "plt.plot(shared_frac_list, np.array(shared_correlation_list)[:, 0], label='correlation')\n",
    "plt.plot(shared_frac_list, np.array(shared_strength_list)[:, 0], label='strength')\n",
    "\n",
    "# Baseline\n",
    "plt.plot(shared_frac_list, [baseline_mean_correlation]* len(shared_correlation_list), \n",
    "         label='baseline correlation', linestyle='--')\n",
    "plt.plot(shared_frac_list, [baseline_strength]* len(shared_correlation_list), \n",
    "         label='baseline strength', linestyle='--')\n",
    "\n",
    "plt.xlabel('shared frac')\n",
    "plt.title('Correlation and Strength')\n",
    "plt.legend()\n",
    "\n",
    "plt.savefig('figs/correlation-strength.png')\n",
    "plt.show()"
   ]
  },
  {
   "cell_type": "code",
   "execution_count": 19,
   "metadata": {},
   "outputs": [
    {
     "data": {
      "text/plain": [
       "[[0.7064012186242554, 0.020002428287257745],\n",
       " [0.7886629934331995, 0.011528400118573725],\n",
       " [0.8342556489733971, 0.016616243448574698],\n",
       " [0.8694823746863698, 0.019182305745519858],\n",
       " [1.0, 0.0]]"
      ]
     },
     "execution_count": 19,
     "metadata": {},
     "output_type": "execute_result"
    }
   ],
   "source": [
    "shared_correlation_list"
   ]
  },
  {
   "cell_type": "code",
   "execution_count": 30,
   "metadata": {},
   "outputs": [
    {
     "data": {
      "text/plain": [
       "[[0.898025, 0.0014655417087207213],\n",
       " [0.8991, 0.0006232475431158825],\n",
       " [0.89690625, 0.002450406535148805],\n",
       " [0.8976875000000001, 0.0009922354811232996],\n",
       " [0.8908999999999999, 0.0016583123951776798]]"
      ]
     },
     "execution_count": 30,
     "metadata": {},
     "output_type": "execute_result"
    }
   ],
   "source": [
    "shared_strength_list"
   ]
  },
  {
   "cell_type": "code",
   "execution_count": null,
   "metadata": {},
   "outputs": [],
   "source": []
  }
 ],
 "metadata": {
  "kernelspec": {
   "display_name": "Python 3",
   "language": "python",
   "name": "python3"
  },
  "language_info": {
   "codemirror_mode": {
    "name": "ipython",
    "version": 3
   },
   "file_extension": ".py",
   "mimetype": "text/x-python",
   "name": "python",
   "nbconvert_exporter": "python",
   "pygments_lexer": "ipython3",
   "version": "3.5.6"
  }
 },
 "nbformat": 4,
 "nbformat_minor": 2
}
